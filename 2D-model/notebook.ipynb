{
 "cells": [
  {
   "cell_type": "code",
   "execution_count": null,
   "metadata": {},
   "outputs": [],
   "source": [
    "import torch\n",
    "import torch.nn as nn\n",
    "import torch.nn.functional as F\n",
    "from torchvision import models\n",
    "\n",
    "import torch\n",
    "import torch.nn as nn\n",
    "from torchvision import models\n",
    "import torch.nn.functional as F\n",
    "\n",
    "class densetFPN_121(nn.Module):\n",
    "    \"\"\" DenseNet121-based Feature Pyramid Network (FPN) for feature extraction. \n",
    "        Total number of parameters:  8232320 (8.23 million) \"\"\" \n",
    "    def __init__(self, weights='DEFAULT', common_channel_size=256, output_channel_size=256):\n",
    "        super(densetFPN_121, self).__init__()\n",
    "        original_densenet = models.densenet121(weights=weights)\n",
    "        \n",
    "        # Initial layers: extract features without modification\n",
    "        self.encoder = nn.ModuleList([\n",
    "            nn.Sequential(*list(original_densenet.features.children())[:6], nn.Dropout(0.4)),   # 128x12x12\n",
    "            nn.Sequential(*list(original_densenet.features.children())[6:8], nn.Dropout(0.4)),  # 256x6x6\n",
    "            nn.Sequential(*list(original_densenet.features.children())[8:10], nn.Dropout(0.4)), # 896x3x3\n",
    "            nn.Sequential(*list(original_densenet.features.children())[10:-1], nn.Dropout(0.4)) # 1920x3x3\n",
    "        ])\n",
    "        \n",
    "        # Define convolutional layers for adapting channel sizes\n",
    "        fpn_channels = [128, 256, 512, 1024]\n",
    "        self.adaptation_layers = nn.ModuleDict({\n",
    "            f'adapt{i+1}': nn.Conv2d(fpn_channels[i], common_channel_size, kernel_size=1)\n",
    "            for i in range(4)\n",
    "        })\n",
    "\n",
    "        # Define FPN layers\n",
    "        self.fpn = nn.ModuleDict({\n",
    "            f'fpn{i+1}': nn.Conv2d(common_channel_size, common_channel_size, kernel_size=1)\n",
    "            for i in range(3)\n",
    "        })\n",
    "\n",
    "        self.merge_layers = nn.Sequential(\n",
    "            nn.Conv2d(common_channel_size, output_channel_size, kernel_size=3), # kernel size 1 or 3\n",
    "            nn.BatchNorm2d(output_channel_size),\n",
    "            nn.ReLU(),\n",
    "            nn.Dropout(0.4) # 0.2\n",
    "        )\n",
    "\n",
    "    def forward(self, x):\n",
    "        # Encoder\n",
    "        features = []\n",
    "        for encoder in self.encoder:\n",
    "            x = encoder(x)\n",
    "            features.append(x)\n",
    "        \n",
    "        # Merge channels using 1x1 convolutions\n",
    "        adapted_features = [self.adaptation_layers[f'adapt{i+1}'](features[i]) for i in range(4)]\n",
    "        \n",
    "        # FPN integration using top-down pathway\n",
    "        fpn_output = adapted_features.pop()  # Start with the deepest features\n",
    "        for i in reversed(range(3)):\n",
    "            upsampled = F.interpolate(fpn_output, size=adapted_features[i].shape[-2:], mode='nearest')\n",
    "            fpn_output = self.fpn[f'fpn{i+1}'](upsampled + adapted_features[i])\n",
    "        \n",
    "        # Merge features\n",
    "        merged_features = self.merge_layers(fpn_output)\n",
    "        \n",
    "        return merged_features\n",
    "\n",
    "\n",
    "model = densetFPN_121(weights=None)\n",
    "\n",
    "# Print total number of parameters\n",
    "total_params = sum(p.numel() for p in model.parameters())\n",
    "print(\"Total number of parameters: \", total_params)\n",
    "\n",
    "# Create a dummy input tensor of size [50, 3, 100, 100]\n",
    "dummy_input = torch.randn(50, 3, 100, 100)\n",
    "\n",
    "# Forward pass through the model with dummy input\n",
    "features = model(dummy_input)\n",
    "\n",
    "# Print output shapes to verify\n",
    "print(\"Features shape:\", features.shape)\n",
    "\n",
    "# print(features.conv_info())"
   ]
  },
  {
   "cell_type": "code",
   "execution_count": null,
   "metadata": {},
   "outputs": [],
   "source": [
    "import torch\n",
    "import torch.nn as nn\n",
    "import torch.nn.functional as F\n",
    "from torchvision import models\n",
    "\n",
    "class efficientDecoder_v2_s(nn.Module):\n",
    "    def __init__(self, num_channels=[24, 48, 64, 128, 160, 256], output_channel_size=256, output_feature_size=25):\n",
    "        super(efficientDecoder_v2_s, self).__init__()\n",
    "        # Load EfficientNet V2 Small features\n",
    "        efficientnet_v2_s = models.efficientnet_v2_s(weights='DEFAULT').features[:-1]\n",
    "\n",
    "        # Modularize encoders\n",
    "        self.encoders = nn.ModuleList([\n",
    "            nn.Sequential(*list(efficientnet_v2_s.children())[:2], nn.Dropout(0.1)),    # 24x50x50\n",
    "            nn.Sequential(*list(efficientnet_v2_s.children())[2:3], nn.Dropout(0.1)),   # 48x25x25\n",
    "            nn.Sequential(*list(efficientnet_v2_s.children())[3:4], nn.Dropout(0.2)),   # 64x13x13\n",
    "            nn.Sequential(*list(efficientnet_v2_s.children())[4:5], nn.Dropout(0.2)),   # 128x7x7\n",
    "            nn.Sequential(*list(efficientnet_v2_s.children())[5:6], nn.Dropout(0.3)),   # 160x7x7 # TODO: Check whether to skip 128x7x7\n",
    "            nn.Sequential(*list(efficientnet_v2_s.children())[6:7], nn.Dropout(0.3))    # 256x4x4\n",
    "        ])\n",
    "        \n",
    "        # Modularize upconvolutions\n",
    "        self.upconvs = nn.ModuleList([\n",
    "            nn.ConvTranspose2d(in_channels=256, out_channels=160, kernel_size=2, stride=2, padding=1, output_padding=1),\n",
    "            nn.Conv2d(in_channels=160, out_channels=128, kernel_size=1, stride=1),\n",
    "            nn.ConvTranspose2d(in_channels=128, out_channels=64, kernel_size=2, stride=2, padding=1, output_padding=1),\n",
    "            nn.ConvTranspose2d(in_channels=64, out_channels=48, kernel_size=2, stride=2, padding=1, output_padding=1),\n",
    "            nn.ConvTranspose2d(in_channels=48, out_channels=24, kernel_size=2, stride=2)\n",
    "        ])\n",
    "        \n",
    "        # Modularize decoders\n",
    "        self.decoders = nn.ModuleList([\n",
    "            nn.Sequential(\n",
    "                nn.Conv2d(num_channels[i] * 2, num_channels[i], kernel_size=3, padding=1),\n",
    "                nn.BatchNorm2d(num_channels[i]),\n",
    "                nn.SiLU(),\n",
    "                nn.Dropout(0.1 + i * 0.05)\n",
    "            ) for i in range(len(num_channels)-1)\n",
    "        ])\n",
    "\n",
    "        # Optional, merge layers to increase the number of channels\n",
    "        self.merge_layers = nn.Sequential(\n",
    "            nn.Conv2d(24, output_channel_size, kernel_size=1),\n",
    "            nn.BatchNorm2d(output_channel_size),\n",
    "            nn.SiLU(),\n",
    "            nn.Dropout(0.3)\n",
    "        )\n",
    "        \n",
    "        self.global_avg_pool = nn.AdaptiveAvgPool2d(output_feature_size) # to reduce noise and overfitting\n",
    "\n",
    "    def forward(self, x):\n",
    "        # Encoder\n",
    "        features = []\n",
    "        for encoder in self.encoders:\n",
    "            x = encoder(x)\n",
    "            features.append(x)\n",
    "        \n",
    "        # Decoder\n",
    "        x = features.pop()\n",
    "        for upconv, decoder, feature in zip(self.upconvs, reversed(self.decoders), reversed(features)):\n",
    "            x = upconv(x)\n",
    "            x = torch.cat((x, feature), dim=1)\n",
    "            x = decoder(x)\n",
    "        \n",
    "        x = self.merge_layers(x) # Introduced to increase the number of channels\n",
    "        pooled_features = self.global_avg_pool(x) # Introduced to reduce noise and overfitting\n",
    "        \n",
    "        return pooled_features\n",
    "\n",
    "model = efficientDecoder_v2_s()\n",
    "\n",
    "# Print total number of parameters\n",
    "total_params = sum(p.numel() for p in model.parameters())\n",
    "print(\"Total number of parameters: \", total_params)\n",
    "\n",
    "# Create a dummy input tensor of size [50, 3, 100, 100]\n",
    "dummy_input = torch.randn(50, 3, 100, 100)\n",
    "\n",
    "# Forward pass through the model with dummy input\n",
    "features = model(dummy_input)\n",
    "\n",
    "# Print output shapes to verify\n",
    "print(\"Features shape:\", features.shape)"
   ]
  },
  {
   "cell_type": "code",
   "execution_count": null,
   "metadata": {},
   "outputs": [],
   "source": [
    "for i in reversed(range(1,6)):\n",
    "    print(i)"
   ]
  },
  {
   "cell_type": "code",
   "execution_count": null,
   "metadata": {},
   "outputs": [],
   "source": [
    "import torch\n",
    "import torch.nn as nn\n",
    "from torchvision import models\n",
    "import torch.nn.functional as F\n",
    "\n",
    "class efficientDecoder_v2_s(nn.Module):\n",
    "    def __init__(self, output_channel_size=256, output_feature_size=25):\n",
    "        super(efficientDecoder_v2_s, self).__init__()\n",
    "        # Load EfficientNet V2 Small features\n",
    "        efficientnet_v2_s = models.efficientnet_v2_s(weights='DEFAULT').features[:-1]\n",
    "\n",
    "        # Modularize encoders\n",
    "        self.encoders = nn.ModuleList([\n",
    "            nn.Sequential(*list(efficientnet_v2_s.children())[:2], nn.Dropout(0.1)),    # 24x50x50\n",
    "            nn.Sequential(*list(efficientnet_v2_s.children())[2:3], nn.Dropout(0.1)),   # 48x25x25\n",
    "            nn.Sequential(*list(efficientnet_v2_s.children())[3:4], nn.Dropout(0.2)),   # 64x13x13\n",
    "            nn.Sequential(*list(efficientnet_v2_s.children())[4:5], nn.Dropout(0.2)),   # 128x7x7\n",
    "            nn.Sequential(*list(efficientnet_v2_s.children())[5:6], nn.Dropout(0.3)),   # 160x7x7\n",
    "            nn.Sequential(*list(efficientnet_v2_s.children())[6:7], nn.Dropout(0.3))    # 256x4x4\n",
    "        ])\n",
    "        \n",
    "        # Modularize upconvolutions\n",
    "        self.upconvs = nn.ModuleList([\n",
    "            nn.ConvTranspose2d(in_channels=256, out_channels=160, kernel_size=2, stride=2, padding=1, output_padding=1),\n",
    "            nn.Conv2d(in_channels=160, out_channels=128, kernel_size=1, stride=1),\n",
    "            nn.ConvTranspose2d(in_channels=128, out_channels=64, kernel_size=2, stride=2, padding=1, output_padding=1),\n",
    "            nn.ConvTranspose2d(in_channels=64, out_channels=48, kernel_size=2, stride=2, padding=1, output_padding=1),\n",
    "            nn.ConvTranspose2d(in_channels=48, out_channels=24, kernel_size=2, stride=2)\n",
    "        ])\n",
    "        \n",
    "        # Modularize decoders\n",
    "        self.decoders = nn.ModuleList([\n",
    "            nn.Sequential(\n",
    "                nn.Conv2d(160*2, 160, kernel_size=3, padding=1),\n",
    "                nn.BatchNorm2d(160, eps=0.001, momentum=0.1, affine=True, track_running_stats=True),\n",
    "                nn.SiLU(inplace=True),\n",
    "                nn.Dropout(0.3, inplace=True)\n",
    "            ),\n",
    "            nn.Sequential(\n",
    "                nn.Conv2d(128*2, 128, kernel_size=3, padding=1),\n",
    "                nn.BatchNorm2d(128, eps=0.001, momentum=0.1, affine=True, track_running_stats=True),\n",
    "                nn.SiLU(inplace=True),\n",
    "                nn.Dropout(0.3, inplace=True)\n",
    "            ),\n",
    "            nn.Sequential(\n",
    "                nn.Conv2d(64*2, 64, kernel_size=3, padding=1),\n",
    "                nn.BatchNorm2d(64, eps=0.001, momentum=0.1, affine=True, track_running_stats=True),\n",
    "                nn.SiLU(inplace=True),\n",
    "                nn.Dropout(0.2, inplace=True)\n",
    "            ),\n",
    "            nn.Sequential(\n",
    "                nn.Conv2d(48*2, 48, kernel_size=3, padding=1),\n",
    "                nn.BatchNorm2d(48, eps=0.001, momentum=0.1, affine=True, track_running_stats=True),\n",
    "                nn.SiLU(inplace=True),\n",
    "                nn.Dropout(0.2, inplace=True)\n",
    "            ),\n",
    "            nn.Sequential(\n",
    "                nn.Conv2d(24*2, 24, kernel_size=3, padding=1),\n",
    "                nn.BatchNorm2d(24, eps=0.001, momentum=0.1, affine=True, track_running_stats=True),\n",
    "                nn.SiLU(inplace=True),\n",
    "                nn.Dropout(0.1, inplace=True)\n",
    "            )\n",
    "        ])\n",
    "\n",
    "        # Optional, merge layers to increase the number of channels\n",
    "        self.merge_layers = nn.Sequential(\n",
    "            nn.Conv2d(24, output_channel_size, kernel_size=1),\n",
    "            nn.BatchNorm2d(output_channel_size),\n",
    "            nn.SiLU(),\n",
    "            nn.Dropout(0.3)\n",
    "        )\n",
    "        \n",
    "        self.global_avg_pool = nn.AdaptiveAvgPool2d(output_feature_size) # to reduce noise and overfitting\n",
    "\n",
    "    def forward(self, x):\n",
    "        # Encoder\n",
    "        features = []\n",
    "        for encoder in self.encoders:\n",
    "            x = encoder(x)\n",
    "            features.append(x)\n",
    "        \n",
    "        # Decoder\n",
    "        x = features.pop()\n",
    "        for upconv, decoder, feature in zip(self.upconvs, self.decoders, reversed(features)):\n",
    "            x = upconv(x)\n",
    "            x = torch.cat((x, feature), dim=1)\n",
    "            x = decoder(x)\n",
    "        \n",
    "        x = self.merge_layers(x) # Introduced to increase the number of channels\n",
    "        pooled_features = self.global_avg_pool(x) # Introduced to reduce noise and overfitting\n",
    "        \n",
    "        return pooled_features\n",
    "\n",
    "model = efficientDecoder_v2_s()\n",
    "\n",
    "# Print total number of parameters\n",
    "total_params = sum(p.numel() for p in model.parameters())\n",
    "print(\"Total number of parameters: \", total_params)\n",
    "\n",
    "# Example initialization and forward pass\n",
    "# model = EfficientDecoder_v2_s()\n",
    "dummy_input = torch.randn(10, 3, 100, 100)  # Adjust size according to your actual input\n",
    "output = model(dummy_input)\n",
    "print(f\"Output shape: {output.shape}\")"
   ]
  },
  {
   "cell_type": "code",
   "execution_count": 1,
   "metadata": {},
   "outputs": [
    {
     "name": "stdout",
     "output_type": "stream",
     "text": [
      "128 12 12\n"
     ]
    }
   ],
   "source": [
    "input_dim=(128,12,12)\n",
    "\n",
    "input_channels, input_height, input_width = input_dim\n",
    "\n",
    "print(input_channels, input_height, input_width)"
   ]
  },
  {
   "cell_type": "code",
   "execution_count": 9,
   "metadata": {},
   "outputs": [
    {
     "name": "stdout",
     "output_type": "stream",
     "text": [
      "Total number of parameters:  45460865\n",
      "torch.Size([50, 3, 100, 100])\n",
      "torch.Size([50, 256, 12, 12])\n",
      "Features shape: torch.Size([50, 1])\n"
     ]
    }
   ],
   "source": [
    "import torch\n",
    "from src.models.baseline_models import construct_baselineModel, construct_baseModel, BaseModel\n",
    "from src.models.backbone_models import densetFPN_121, densetFPN_201\n",
    "\n",
    "# model = densetFPN_121()\n",
    "# Create the model instance\n",
    "# model = BaseModel(backbone=densetFPN_121, weights='DEFAULT', input_dim=(256,12,12))\n",
    "model = construct_baseModel(backbone_name='densetFPN_121', weights='DEFAULT', input_dim=(256,12,12))\n",
    "\n",
    "# Print total number of parameters\n",
    "total_params = sum(p.numel() for p in model.parameters())\n",
    "print(\"Total number of parameters: \", total_params)\n",
    "\n",
    "# Create a dummy input tensor of size [50, 3, 100, 100]\n",
    "dummy_input = torch.randn(50, 3, 100, 100)\n",
    "\n",
    "# Forward pass through the model with dummy input\n",
    "features = model(dummy_input)\n",
    "\n",
    "# Print output shapes to verify\n",
    "print(\"Features shape:\", features.shape)"
   ]
  },
  {
   "cell_type": "code",
   "execution_count": 2,
   "metadata": {},
   "outputs": [
    {
     "data": {
      "text/plain": [
       "(tensor([[0.5106],\n",
       "         [0.5035],\n",
       "         [0.5488],\n",
       "         [0.7421],\n",
       "         [0.5720],\n",
       "         [0.3836],\n",
       "         [0.5911],\n",
       "         [0.4598],\n",
       "         [0.5526],\n",
       "         [0.5835],\n",
       "         [0.4567],\n",
       "         [0.5489],\n",
       "         [0.5642],\n",
       "         [0.4666],\n",
       "         [0.4395],\n",
       "         [0.6266],\n",
       "         [0.4210],\n",
       "         [0.5086],\n",
       "         [0.5422],\n",
       "         [0.5515],\n",
       "         [0.5906],\n",
       "         [0.6073],\n",
       "         [0.4439],\n",
       "         [0.5127],\n",
       "         [0.3540],\n",
       "         [0.6443],\n",
       "         [0.3925],\n",
       "         [0.5958],\n",
       "         [0.4544],\n",
       "         [0.4678],\n",
       "         [0.4648],\n",
       "         [0.5237],\n",
       "         [0.6828],\n",
       "         [0.5871],\n",
       "         [0.5303],\n",
       "         [0.5280],\n",
       "         [0.5333],\n",
       "         [0.6036],\n",
       "         [0.6479],\n",
       "         [0.5992],\n",
       "         [0.5446],\n",
       "         [0.5203],\n",
       "         [0.4284],\n",
       "         [0.5404],\n",
       "         [0.3937],\n",
       "         [0.5419],\n",
       "         [0.5040],\n",
       "         [0.5163],\n",
       "         [0.6542],\n",
       "         [0.6807]], grad_fn=<SigmoidBackward0>),\n",
       " [tensor([[0.3055],\n",
       "          [0.5454],\n",
       "          [0.4466],\n",
       "          [0.6103],\n",
       "          [0.6001],\n",
       "          [0.3678],\n",
       "          [0.5986],\n",
       "          [0.6536],\n",
       "          [0.4881],\n",
       "          [0.5223],\n",
       "          [0.4796],\n",
       "          [0.5688],\n",
       "          [0.4172],\n",
       "          [0.5538],\n",
       "          [0.5178],\n",
       "          [0.4031],\n",
       "          [0.3373],\n",
       "          [0.4337],\n",
       "          [0.4974],\n",
       "          [0.5876],\n",
       "          [0.4776],\n",
       "          [0.4990],\n",
       "          [0.4690],\n",
       "          [0.3868],\n",
       "          [0.4190],\n",
       "          [0.4670],\n",
       "          [0.4491],\n",
       "          [0.4863],\n",
       "          [0.6486],\n",
       "          [0.5797],\n",
       "          [0.5871],\n",
       "          [0.4863],\n",
       "          [0.6591],\n",
       "          [0.6616],\n",
       "          [0.5327],\n",
       "          [0.5821],\n",
       "          [0.4675],\n",
       "          [0.4971],\n",
       "          [0.5587],\n",
       "          [0.5801],\n",
       "          [0.4372],\n",
       "          [0.4937],\n",
       "          [0.5283],\n",
       "          [0.6593],\n",
       "          [0.5816],\n",
       "          [0.4639],\n",
       "          [0.4616],\n",
       "          [0.4363],\n",
       "          [0.5333],\n",
       "          [0.4207]], grad_fn=<SigmoidBackward0>),\n",
       "  tensor([[0.5994],\n",
       "          [0.4221],\n",
       "          [0.5482],\n",
       "          [0.5027],\n",
       "          [0.6056],\n",
       "          [0.4320],\n",
       "          [0.6220],\n",
       "          [0.3703],\n",
       "          [0.5256],\n",
       "          [0.4440],\n",
       "          [0.4216],\n",
       "          [0.6132],\n",
       "          [0.3906],\n",
       "          [0.5134],\n",
       "          [0.4589],\n",
       "          [0.5386],\n",
       "          [0.6318],\n",
       "          [0.5214],\n",
       "          [0.4835],\n",
       "          [0.5464],\n",
       "          [0.5554],\n",
       "          [0.6127],\n",
       "          [0.6334],\n",
       "          [0.4757],\n",
       "          [0.4426],\n",
       "          [0.4318],\n",
       "          [0.4770],\n",
       "          [0.6538],\n",
       "          [0.5836],\n",
       "          [0.3359],\n",
       "          [0.4776],\n",
       "          [0.5106],\n",
       "          [0.6561],\n",
       "          [0.3689],\n",
       "          [0.6169],\n",
       "          [0.5105],\n",
       "          [0.3370],\n",
       "          [0.6534],\n",
       "          [0.5109],\n",
       "          [0.3918],\n",
       "          [0.3841],\n",
       "          [0.4583],\n",
       "          [0.2671],\n",
       "          [0.6128],\n",
       "          [0.4786],\n",
       "          [0.6102],\n",
       "          [0.6577],\n",
       "          [0.4353],\n",
       "          [0.4571],\n",
       "          [0.3366]], grad_fn=<SigmoidBackward0>),\n",
       "  tensor([[0.4460],\n",
       "          [0.6588],\n",
       "          [0.4393],\n",
       "          [0.6087],\n",
       "          [0.6458],\n",
       "          [0.4906],\n",
       "          [0.6662],\n",
       "          [0.5403],\n",
       "          [0.5312],\n",
       "          [0.4761],\n",
       "          [0.5849],\n",
       "          [0.5742],\n",
       "          [0.6435],\n",
       "          [0.6641],\n",
       "          [0.6647],\n",
       "          [0.4585],\n",
       "          [0.5417],\n",
       "          [0.5283],\n",
       "          [0.6605],\n",
       "          [0.4294],\n",
       "          [0.4900],\n",
       "          [0.6886],\n",
       "          [0.7165],\n",
       "          [0.6609],\n",
       "          [0.4934],\n",
       "          [0.7271],\n",
       "          [0.4234],\n",
       "          [0.6486],\n",
       "          [0.4096],\n",
       "          [0.4861],\n",
       "          [0.6816],\n",
       "          [0.5638],\n",
       "          [0.6127],\n",
       "          [0.4007],\n",
       "          [0.5800],\n",
       "          [0.6046],\n",
       "          [0.3825],\n",
       "          [0.5914],\n",
       "          [0.5249],\n",
       "          [0.4637],\n",
       "          [0.6184],\n",
       "          [0.5453],\n",
       "          [0.4658],\n",
       "          [0.4733],\n",
       "          [0.4857],\n",
       "          [0.5889],\n",
       "          [0.4864],\n",
       "          [0.6486],\n",
       "          [0.6052],\n",
       "          [0.5207]], grad_fn=<SigmoidBackward0>),\n",
       "  tensor([[0.5050],\n",
       "          [0.5009],\n",
       "          [0.6103],\n",
       "          [0.6707],\n",
       "          [0.5870],\n",
       "          [0.6340],\n",
       "          [0.5019],\n",
       "          [0.6034],\n",
       "          [0.3063],\n",
       "          [0.5752],\n",
       "          [0.5361],\n",
       "          [0.4430],\n",
       "          [0.4081],\n",
       "          [0.4042],\n",
       "          [0.5211],\n",
       "          [0.5625],\n",
       "          [0.4112],\n",
       "          [0.3749],\n",
       "          [0.4609],\n",
       "          [0.4330],\n",
       "          [0.6415],\n",
       "          [0.5229],\n",
       "          [0.5643],\n",
       "          [0.4434],\n",
       "          [0.5848],\n",
       "          [0.5218],\n",
       "          [0.5058],\n",
       "          [0.5605],\n",
       "          [0.5861],\n",
       "          [0.5307],\n",
       "          [0.5698],\n",
       "          [0.4603],\n",
       "          [0.6568],\n",
       "          [0.5211],\n",
       "          [0.4777],\n",
       "          [0.6919],\n",
       "          [0.4847],\n",
       "          [0.5981],\n",
       "          [0.6647],\n",
       "          [0.4543],\n",
       "          [0.4405],\n",
       "          [0.4667],\n",
       "          [0.5407],\n",
       "          [0.4605],\n",
       "          [0.4388],\n",
       "          [0.3555],\n",
       "          [0.5299],\n",
       "          [0.5340],\n",
       "          [0.4613],\n",
       "          [0.5632]], grad_fn=<SigmoidBackward0>),\n",
       "  tensor([[0.5538],\n",
       "          [0.3049],\n",
       "          [0.4049],\n",
       "          [0.4058],\n",
       "          [0.2526],\n",
       "          [0.4906],\n",
       "          [0.4019],\n",
       "          [0.4169],\n",
       "          [0.3502],\n",
       "          [0.4746],\n",
       "          [0.5110],\n",
       "          [0.3587],\n",
       "          [0.4831],\n",
       "          [0.4644],\n",
       "          [0.5718],\n",
       "          [0.4495],\n",
       "          [0.5867],\n",
       "          [0.4463],\n",
       "          [0.4000],\n",
       "          [0.5336],\n",
       "          [0.5037],\n",
       "          [0.3760],\n",
       "          [0.4330],\n",
       "          [0.4684],\n",
       "          [0.4350],\n",
       "          [0.3580],\n",
       "          [0.4308],\n",
       "          [0.4418],\n",
       "          [0.4140],\n",
       "          [0.4800],\n",
       "          [0.3868],\n",
       "          [0.5566],\n",
       "          [0.5478],\n",
       "          [0.5501],\n",
       "          [0.4517],\n",
       "          [0.5007],\n",
       "          [0.5056],\n",
       "          [0.3112],\n",
       "          [0.3303],\n",
       "          [0.5946],\n",
       "          [0.4102],\n",
       "          [0.6776],\n",
       "          [0.4990],\n",
       "          [0.4830],\n",
       "          [0.6159],\n",
       "          [0.6093],\n",
       "          [0.3436],\n",
       "          [0.6166],\n",
       "          [0.4197],\n",
       "          [0.5501]], grad_fn=<SigmoidBackward0>)])"
      ]
     },
     "execution_count": 2,
     "metadata": {},
     "output_type": "execute_result"
    }
   ],
   "source": [
    "features"
   ]
  },
  {
   "cell_type": "code",
   "execution_count": null,
   "metadata": {},
   "outputs": [],
   "source": [
    "# Define the dictionary outside the class\n",
    "MODEL_DICT = {\n",
    "    'densetFPN_121': densetFPN_121,\n",
    "    'densetFPN_201': densetFPN_201,\n",
    "    'efficientFPN_v2_s': efficientFPN_v2_s,\n",
    "    'efficientDecoder_v2_s': efficientDecoder_v2_s\n",
    "}\n",
    "\n",
    "class BaselineModel(nn.Module):\n",
    "    def __init__(self, backbone, num_tasks=5, feature_dim=(256, 25, 25)):\n",
    "        super(BaselineModel, self).__init__()\n",
    "        self.backbone = backbone()  # Instantiate the backbone passed as a class\n",
    "        \n",
    "        feature_channels, feature_width, feature_height = feature_dim\n",
    "        \n",
    "        self.adaptive_pool = nn.AdaptiveAvgPool2d((feature_width, feature_height))\n",
    "        \n",
    "        self.task_specific_layers = nn.ModuleList([\n",
    "            nn.Sequential(\n",
    "                nn.Flatten(),\n",
    "                nn.Linear(feature_channels * feature_width * feature_height, 1024),\n",
    "                nn.BatchNorm1d(1024),\n",
    "                nn.ReLU(),\n",
    "                nn.Dropout(0.2)\n",
    "            ) for _ in range(num_tasks)\n",
    "        ])\n",
    "        \n",
    "        self.task_specific_classifier = nn.ModuleList([\n",
    "            nn.Linear(1024, 1) for _ in range(num_tasks)\n",
    "        ])\n",
    "        \n",
    "        self.final_classifier = nn.Sequential(\n",
    "            nn.Linear(1024 * num_tasks, 1024),\n",
    "            nn.BatchNorm1d(1024),\n",
    "            nn.ReLU(),\n",
    "            nn.Dropout(0.1),\n",
    "            nn.Linear(1024, 1)\n",
    "        )\n",
    "        \n",
    "    def forward(self, x):\n",
    "        x = self.backbone(x)\n",
    "        x = self.adaptive_pool(x)\n",
    "        \n",
    "        intermediate_outputs = [layer(x) for layer in self.task_specific_layers]\n",
    "        concatenated_outputs = torch.cat(intermediate_outputs, dim=1)\n",
    "        \n",
    "        task_outputs = [torch.sigmoid(classifier(io)) for io, classifier in zip(intermediate_outputs, self.task_specific_classifier)]\n",
    "        \n",
    "        final_output = torch.sigmoid(self.final_classifier(concatenated_outputs))\n",
    "        \n",
    "        return final_output, task_outputs\n",
    "\n",
    "def construct_baselineModel(model_name, num_tasks=5, feature_dim=(256, 25, 25)):\n",
    "    if model_name not in MODEL_DICT:\n",
    "        raise ValueError(f\"Unsupported model name {model_name}\")\n",
    "    backbone = MODEL_DICT[model_name]\n",
    "    return BaselineModel(backbone, num_tasks, feature_dim)"
   ]
  },
  {
   "cell_type": "code",
   "execution_count": 5,
   "metadata": {},
   "outputs": [
    {
     "name": "stdout",
     "output_type": "stream",
     "text": [
      "denseFPN_121(\n",
      "  (encoder): ModuleList(\n",
      "    (0): Sequential(\n",
      "      (0): Conv2d(3, 64, kernel_size=(7, 7), stride=(2, 2), padding=(3, 3), bias=False)\n",
      "      (1): BatchNorm2d(64, eps=1e-05, momentum=0.1, affine=True, track_running_stats=True)\n",
      "      (2): ReLU(inplace=True)\n",
      "      (3): MaxPool2d(kernel_size=3, stride=2, padding=1, dilation=1, ceil_mode=False)\n",
      "      (4): _DenseBlock(\n",
      "        (denselayer1): _DenseLayer(\n",
      "          (norm1): BatchNorm2d(64, eps=1e-05, momentum=0.1, affine=True, track_running_stats=True)\n",
      "          (relu1): ReLU(inplace=True)\n",
      "          (conv1): Conv2d(64, 128, kernel_size=(1, 1), stride=(1, 1), bias=False)\n",
      "          (norm2): BatchNorm2d(128, eps=1e-05, momentum=0.1, affine=True, track_running_stats=True)\n",
      "          (relu2): ReLU(inplace=True)\n",
      "          (conv2): Conv2d(128, 32, kernel_size=(3, 3), stride=(1, 1), padding=(1, 1), bias=False)\n",
      "        )\n",
      "        (denselayer2): _DenseLayer(\n",
      "          (norm1): BatchNorm2d(96, eps=1e-05, momentum=0.1, affine=True, track_running_stats=True)\n",
      "          (relu1): ReLU(inplace=True)\n",
      "          (conv1): Conv2d(96, 128, kernel_size=(1, 1), stride=(1, 1), bias=False)\n",
      "          (norm2): BatchNorm2d(128, eps=1e-05, momentum=0.1, affine=True, track_running_stats=True)\n",
      "          (relu2): ReLU(inplace=True)\n",
      "          (conv2): Conv2d(128, 32, kernel_size=(3, 3), stride=(1, 1), padding=(1, 1), bias=False)\n",
      "        )\n",
      "        (denselayer3): _DenseLayer(\n",
      "          (norm1): BatchNorm2d(128, eps=1e-05, momentum=0.1, affine=True, track_running_stats=True)\n",
      "          (relu1): ReLU(inplace=True)\n",
      "          (conv1): Conv2d(128, 128, kernel_size=(1, 1), stride=(1, 1), bias=False)\n",
      "          (norm2): BatchNorm2d(128, eps=1e-05, momentum=0.1, affine=True, track_running_stats=True)\n",
      "          (relu2): ReLU(inplace=True)\n",
      "          (conv2): Conv2d(128, 32, kernel_size=(3, 3), stride=(1, 1), padding=(1, 1), bias=False)\n",
      "        )\n",
      "        (denselayer4): _DenseLayer(\n",
      "          (norm1): BatchNorm2d(160, eps=1e-05, momentum=0.1, affine=True, track_running_stats=True)\n",
      "          (relu1): ReLU(inplace=True)\n",
      "          (conv1): Conv2d(160, 128, kernel_size=(1, 1), stride=(1, 1), bias=False)\n",
      "          (norm2): BatchNorm2d(128, eps=1e-05, momentum=0.1, affine=True, track_running_stats=True)\n",
      "          (relu2): ReLU(inplace=True)\n",
      "          (conv2): Conv2d(128, 32, kernel_size=(3, 3), stride=(1, 1), padding=(1, 1), bias=False)\n",
      "        )\n",
      "        (denselayer5): _DenseLayer(\n",
      "          (norm1): BatchNorm2d(192, eps=1e-05, momentum=0.1, affine=True, track_running_stats=True)\n",
      "          (relu1): ReLU(inplace=True)\n",
      "          (conv1): Conv2d(192, 128, kernel_size=(1, 1), stride=(1, 1), bias=False)\n",
      "          (norm2): BatchNorm2d(128, eps=1e-05, momentum=0.1, affine=True, track_running_stats=True)\n",
      "          (relu2): ReLU(inplace=True)\n",
      "          (conv2): Conv2d(128, 32, kernel_size=(3, 3), stride=(1, 1), padding=(1, 1), bias=False)\n",
      "        )\n",
      "        (denselayer6): _DenseLayer(\n",
      "          (norm1): BatchNorm2d(224, eps=1e-05, momentum=0.1, affine=True, track_running_stats=True)\n",
      "          (relu1): ReLU(inplace=True)\n",
      "          (conv1): Conv2d(224, 128, kernel_size=(1, 1), stride=(1, 1), bias=False)\n",
      "          (norm2): BatchNorm2d(128, eps=1e-05, momentum=0.1, affine=True, track_running_stats=True)\n",
      "          (relu2): ReLU(inplace=True)\n",
      "          (conv2): Conv2d(128, 32, kernel_size=(3, 3), stride=(1, 1), padding=(1, 1), bias=False)\n",
      "        )\n",
      "      )\n",
      "      (5): _Transition(\n",
      "        (norm): BatchNorm2d(256, eps=1e-05, momentum=0.1, affine=True, track_running_stats=True)\n",
      "        (relu): ReLU(inplace=True)\n",
      "        (conv): Conv2d(256, 128, kernel_size=(1, 1), stride=(1, 1), bias=False)\n",
      "        (pool): AvgPool2d(kernel_size=2, stride=2, padding=0)\n",
      "      )\n",
      "      (6): Dropout(p=0.1, inplace=False)\n",
      "    )\n",
      "    (1): Sequential(\n",
      "      (0): _DenseBlock(\n",
      "        (denselayer1): _DenseLayer(\n",
      "          (norm1): BatchNorm2d(128, eps=1e-05, momentum=0.1, affine=True, track_running_stats=True)\n",
      "          (relu1): ReLU(inplace=True)\n",
      "          (conv1): Conv2d(128, 128, kernel_size=(1, 1), stride=(1, 1), bias=False)\n",
      "          (norm2): BatchNorm2d(128, eps=1e-05, momentum=0.1, affine=True, track_running_stats=True)\n",
      "          (relu2): ReLU(inplace=True)\n",
      "          (conv2): Conv2d(128, 32, kernel_size=(3, 3), stride=(1, 1), padding=(1, 1), bias=False)\n",
      "        )\n",
      "        (denselayer2): _DenseLayer(\n",
      "          (norm1): BatchNorm2d(160, eps=1e-05, momentum=0.1, affine=True, track_running_stats=True)\n",
      "          (relu1): ReLU(inplace=True)\n",
      "          (conv1): Conv2d(160, 128, kernel_size=(1, 1), stride=(1, 1), bias=False)\n",
      "          (norm2): BatchNorm2d(128, eps=1e-05, momentum=0.1, affine=True, track_running_stats=True)\n",
      "          (relu2): ReLU(inplace=True)\n",
      "          (conv2): Conv2d(128, 32, kernel_size=(3, 3), stride=(1, 1), padding=(1, 1), bias=False)\n",
      "        )\n",
      "        (denselayer3): _DenseLayer(\n",
      "          (norm1): BatchNorm2d(192, eps=1e-05, momentum=0.1, affine=True, track_running_stats=True)\n",
      "          (relu1): ReLU(inplace=True)\n",
      "          (conv1): Conv2d(192, 128, kernel_size=(1, 1), stride=(1, 1), bias=False)\n",
      "          (norm2): BatchNorm2d(128, eps=1e-05, momentum=0.1, affine=True, track_running_stats=True)\n",
      "          (relu2): ReLU(inplace=True)\n",
      "          (conv2): Conv2d(128, 32, kernel_size=(3, 3), stride=(1, 1), padding=(1, 1), bias=False)\n",
      "        )\n",
      "        (denselayer4): _DenseLayer(\n",
      "          (norm1): BatchNorm2d(224, eps=1e-05, momentum=0.1, affine=True, track_running_stats=True)\n",
      "          (relu1): ReLU(inplace=True)\n",
      "          (conv1): Conv2d(224, 128, kernel_size=(1, 1), stride=(1, 1), bias=False)\n",
      "          (norm2): BatchNorm2d(128, eps=1e-05, momentum=0.1, affine=True, track_running_stats=True)\n",
      "          (relu2): ReLU(inplace=True)\n",
      "          (conv2): Conv2d(128, 32, kernel_size=(3, 3), stride=(1, 1), padding=(1, 1), bias=False)\n",
      "        )\n",
      "        (denselayer5): _DenseLayer(\n",
      "          (norm1): BatchNorm2d(256, eps=1e-05, momentum=0.1, affine=True, track_running_stats=True)\n",
      "          (relu1): ReLU(inplace=True)\n",
      "          (conv1): Conv2d(256, 128, kernel_size=(1, 1), stride=(1, 1), bias=False)\n",
      "          (norm2): BatchNorm2d(128, eps=1e-05, momentum=0.1, affine=True, track_running_stats=True)\n",
      "          (relu2): ReLU(inplace=True)\n",
      "          (conv2): Conv2d(128, 32, kernel_size=(3, 3), stride=(1, 1), padding=(1, 1), bias=False)\n",
      "        )\n",
      "        (denselayer6): _DenseLayer(\n",
      "          (norm1): BatchNorm2d(288, eps=1e-05, momentum=0.1, affine=True, track_running_stats=True)\n",
      "          (relu1): ReLU(inplace=True)\n",
      "          (conv1): Conv2d(288, 128, kernel_size=(1, 1), stride=(1, 1), bias=False)\n",
      "          (norm2): BatchNorm2d(128, eps=1e-05, momentum=0.1, affine=True, track_running_stats=True)\n",
      "          (relu2): ReLU(inplace=True)\n",
      "          (conv2): Conv2d(128, 32, kernel_size=(3, 3), stride=(1, 1), padding=(1, 1), bias=False)\n",
      "        )\n",
      "        (denselayer7): _DenseLayer(\n",
      "          (norm1): BatchNorm2d(320, eps=1e-05, momentum=0.1, affine=True, track_running_stats=True)\n",
      "          (relu1): ReLU(inplace=True)\n",
      "          (conv1): Conv2d(320, 128, kernel_size=(1, 1), stride=(1, 1), bias=False)\n",
      "          (norm2): BatchNorm2d(128, eps=1e-05, momentum=0.1, affine=True, track_running_stats=True)\n",
      "          (relu2): ReLU(inplace=True)\n",
      "          (conv2): Conv2d(128, 32, kernel_size=(3, 3), stride=(1, 1), padding=(1, 1), bias=False)\n",
      "        )\n",
      "        (denselayer8): _DenseLayer(\n",
      "          (norm1): BatchNorm2d(352, eps=1e-05, momentum=0.1, affine=True, track_running_stats=True)\n",
      "          (relu1): ReLU(inplace=True)\n",
      "          (conv1): Conv2d(352, 128, kernel_size=(1, 1), stride=(1, 1), bias=False)\n",
      "          (norm2): BatchNorm2d(128, eps=1e-05, momentum=0.1, affine=True, track_running_stats=True)\n",
      "          (relu2): ReLU(inplace=True)\n",
      "          (conv2): Conv2d(128, 32, kernel_size=(3, 3), stride=(1, 1), padding=(1, 1), bias=False)\n",
      "        )\n",
      "        (denselayer9): _DenseLayer(\n",
      "          (norm1): BatchNorm2d(384, eps=1e-05, momentum=0.1, affine=True, track_running_stats=True)\n",
      "          (relu1): ReLU(inplace=True)\n",
      "          (conv1): Conv2d(384, 128, kernel_size=(1, 1), stride=(1, 1), bias=False)\n",
      "          (norm2): BatchNorm2d(128, eps=1e-05, momentum=0.1, affine=True, track_running_stats=True)\n",
      "          (relu2): ReLU(inplace=True)\n",
      "          (conv2): Conv2d(128, 32, kernel_size=(3, 3), stride=(1, 1), padding=(1, 1), bias=False)\n",
      "        )\n",
      "        (denselayer10): _DenseLayer(\n",
      "          (norm1): BatchNorm2d(416, eps=1e-05, momentum=0.1, affine=True, track_running_stats=True)\n",
      "          (relu1): ReLU(inplace=True)\n",
      "          (conv1): Conv2d(416, 128, kernel_size=(1, 1), stride=(1, 1), bias=False)\n",
      "          (norm2): BatchNorm2d(128, eps=1e-05, momentum=0.1, affine=True, track_running_stats=True)\n",
      "          (relu2): ReLU(inplace=True)\n",
      "          (conv2): Conv2d(128, 32, kernel_size=(3, 3), stride=(1, 1), padding=(1, 1), bias=False)\n",
      "        )\n",
      "        (denselayer11): _DenseLayer(\n",
      "          (norm1): BatchNorm2d(448, eps=1e-05, momentum=0.1, affine=True, track_running_stats=True)\n",
      "          (relu1): ReLU(inplace=True)\n",
      "          (conv1): Conv2d(448, 128, kernel_size=(1, 1), stride=(1, 1), bias=False)\n",
      "          (norm2): BatchNorm2d(128, eps=1e-05, momentum=0.1, affine=True, track_running_stats=True)\n",
      "          (relu2): ReLU(inplace=True)\n",
      "          (conv2): Conv2d(128, 32, kernel_size=(3, 3), stride=(1, 1), padding=(1, 1), bias=False)\n",
      "        )\n",
      "        (denselayer12): _DenseLayer(\n",
      "          (norm1): BatchNorm2d(480, eps=1e-05, momentum=0.1, affine=True, track_running_stats=True)\n",
      "          (relu1): ReLU(inplace=True)\n",
      "          (conv1): Conv2d(480, 128, kernel_size=(1, 1), stride=(1, 1), bias=False)\n",
      "          (norm2): BatchNorm2d(128, eps=1e-05, momentum=0.1, affine=True, track_running_stats=True)\n",
      "          (relu2): ReLU(inplace=True)\n",
      "          (conv2): Conv2d(128, 32, kernel_size=(3, 3), stride=(1, 1), padding=(1, 1), bias=False)\n",
      "        )\n",
      "      )\n",
      "      (1): _Transition(\n",
      "        (norm): BatchNorm2d(512, eps=1e-05, momentum=0.1, affine=True, track_running_stats=True)\n",
      "        (relu): ReLU(inplace=True)\n",
      "        (conv): Conv2d(512, 256, kernel_size=(1, 1), stride=(1, 1), bias=False)\n",
      "        (pool): AvgPool2d(kernel_size=2, stride=2, padding=0)\n",
      "      )\n",
      "      (2): Dropout(p=0.2, inplace=False)\n",
      "    )\n",
      "    (2): Sequential(\n",
      "      (0): _DenseBlock(\n",
      "        (denselayer1): _DenseLayer(\n",
      "          (norm1): BatchNorm2d(256, eps=1e-05, momentum=0.1, affine=True, track_running_stats=True)\n",
      "          (relu1): ReLU(inplace=True)\n",
      "          (conv1): Conv2d(256, 128, kernel_size=(1, 1), stride=(1, 1), bias=False)\n",
      "          (norm2): BatchNorm2d(128, eps=1e-05, momentum=0.1, affine=True, track_running_stats=True)\n",
      "          (relu2): ReLU(inplace=True)\n",
      "          (conv2): Conv2d(128, 32, kernel_size=(3, 3), stride=(1, 1), padding=(1, 1), bias=False)\n",
      "        )\n",
      "        (denselayer2): _DenseLayer(\n",
      "          (norm1): BatchNorm2d(288, eps=1e-05, momentum=0.1, affine=True, track_running_stats=True)\n",
      "          (relu1): ReLU(inplace=True)\n",
      "          (conv1): Conv2d(288, 128, kernel_size=(1, 1), stride=(1, 1), bias=False)\n",
      "          (norm2): BatchNorm2d(128, eps=1e-05, momentum=0.1, affine=True, track_running_stats=True)\n",
      "          (relu2): ReLU(inplace=True)\n",
      "          (conv2): Conv2d(128, 32, kernel_size=(3, 3), stride=(1, 1), padding=(1, 1), bias=False)\n",
      "        )\n",
      "        (denselayer3): _DenseLayer(\n",
      "          (norm1): BatchNorm2d(320, eps=1e-05, momentum=0.1, affine=True, track_running_stats=True)\n",
      "          (relu1): ReLU(inplace=True)\n",
      "          (conv1): Conv2d(320, 128, kernel_size=(1, 1), stride=(1, 1), bias=False)\n",
      "          (norm2): BatchNorm2d(128, eps=1e-05, momentum=0.1, affine=True, track_running_stats=True)\n",
      "          (relu2): ReLU(inplace=True)\n",
      "          (conv2): Conv2d(128, 32, kernel_size=(3, 3), stride=(1, 1), padding=(1, 1), bias=False)\n",
      "        )\n",
      "        (denselayer4): _DenseLayer(\n",
      "          (norm1): BatchNorm2d(352, eps=1e-05, momentum=0.1, affine=True, track_running_stats=True)\n",
      "          (relu1): ReLU(inplace=True)\n",
      "          (conv1): Conv2d(352, 128, kernel_size=(1, 1), stride=(1, 1), bias=False)\n",
      "          (norm2): BatchNorm2d(128, eps=1e-05, momentum=0.1, affine=True, track_running_stats=True)\n",
      "          (relu2): ReLU(inplace=True)\n",
      "          (conv2): Conv2d(128, 32, kernel_size=(3, 3), stride=(1, 1), padding=(1, 1), bias=False)\n",
      "        )\n",
      "        (denselayer5): _DenseLayer(\n",
      "          (norm1): BatchNorm2d(384, eps=1e-05, momentum=0.1, affine=True, track_running_stats=True)\n",
      "          (relu1): ReLU(inplace=True)\n",
      "          (conv1): Conv2d(384, 128, kernel_size=(1, 1), stride=(1, 1), bias=False)\n",
      "          (norm2): BatchNorm2d(128, eps=1e-05, momentum=0.1, affine=True, track_running_stats=True)\n",
      "          (relu2): ReLU(inplace=True)\n",
      "          (conv2): Conv2d(128, 32, kernel_size=(3, 3), stride=(1, 1), padding=(1, 1), bias=False)\n",
      "        )\n",
      "        (denselayer6): _DenseLayer(\n",
      "          (norm1): BatchNorm2d(416, eps=1e-05, momentum=0.1, affine=True, track_running_stats=True)\n",
      "          (relu1): ReLU(inplace=True)\n",
      "          (conv1): Conv2d(416, 128, kernel_size=(1, 1), stride=(1, 1), bias=False)\n",
      "          (norm2): BatchNorm2d(128, eps=1e-05, momentum=0.1, affine=True, track_running_stats=True)\n",
      "          (relu2): ReLU(inplace=True)\n",
      "          (conv2): Conv2d(128, 32, kernel_size=(3, 3), stride=(1, 1), padding=(1, 1), bias=False)\n",
      "        )\n",
      "        (denselayer7): _DenseLayer(\n",
      "          (norm1): BatchNorm2d(448, eps=1e-05, momentum=0.1, affine=True, track_running_stats=True)\n",
      "          (relu1): ReLU(inplace=True)\n",
      "          (conv1): Conv2d(448, 128, kernel_size=(1, 1), stride=(1, 1), bias=False)\n",
      "          (norm2): BatchNorm2d(128, eps=1e-05, momentum=0.1, affine=True, track_running_stats=True)\n",
      "          (relu2): ReLU(inplace=True)\n",
      "          (conv2): Conv2d(128, 32, kernel_size=(3, 3), stride=(1, 1), padding=(1, 1), bias=False)\n",
      "        )\n",
      "        (denselayer8): _DenseLayer(\n",
      "          (norm1): BatchNorm2d(480, eps=1e-05, momentum=0.1, affine=True, track_running_stats=True)\n",
      "          (relu1): ReLU(inplace=True)\n",
      "          (conv1): Conv2d(480, 128, kernel_size=(1, 1), stride=(1, 1), bias=False)\n",
      "          (norm2): BatchNorm2d(128, eps=1e-05, momentum=0.1, affine=True, track_running_stats=True)\n",
      "          (relu2): ReLU(inplace=True)\n",
      "          (conv2): Conv2d(128, 32, kernel_size=(3, 3), stride=(1, 1), padding=(1, 1), bias=False)\n",
      "        )\n",
      "        (denselayer9): _DenseLayer(\n",
      "          (norm1): BatchNorm2d(512, eps=1e-05, momentum=0.1, affine=True, track_running_stats=True)\n",
      "          (relu1): ReLU(inplace=True)\n",
      "          (conv1): Conv2d(512, 128, kernel_size=(1, 1), stride=(1, 1), bias=False)\n",
      "          (norm2): BatchNorm2d(128, eps=1e-05, momentum=0.1, affine=True, track_running_stats=True)\n",
      "          (relu2): ReLU(inplace=True)\n",
      "          (conv2): Conv2d(128, 32, kernel_size=(3, 3), stride=(1, 1), padding=(1, 1), bias=False)\n",
      "        )\n",
      "        (denselayer10): _DenseLayer(\n",
      "          (norm1): BatchNorm2d(544, eps=1e-05, momentum=0.1, affine=True, track_running_stats=True)\n",
      "          (relu1): ReLU(inplace=True)\n",
      "          (conv1): Conv2d(544, 128, kernel_size=(1, 1), stride=(1, 1), bias=False)\n",
      "          (norm2): BatchNorm2d(128, eps=1e-05, momentum=0.1, affine=True, track_running_stats=True)\n",
      "          (relu2): ReLU(inplace=True)\n",
      "          (conv2): Conv2d(128, 32, kernel_size=(3, 3), stride=(1, 1), padding=(1, 1), bias=False)\n",
      "        )\n",
      "        (denselayer11): _DenseLayer(\n",
      "          (norm1): BatchNorm2d(576, eps=1e-05, momentum=0.1, affine=True, track_running_stats=True)\n",
      "          (relu1): ReLU(inplace=True)\n",
      "          (conv1): Conv2d(576, 128, kernel_size=(1, 1), stride=(1, 1), bias=False)\n",
      "          (norm2): BatchNorm2d(128, eps=1e-05, momentum=0.1, affine=True, track_running_stats=True)\n",
      "          (relu2): ReLU(inplace=True)\n",
      "          (conv2): Conv2d(128, 32, kernel_size=(3, 3), stride=(1, 1), padding=(1, 1), bias=False)\n",
      "        )\n",
      "        (denselayer12): _DenseLayer(\n",
      "          (norm1): BatchNorm2d(608, eps=1e-05, momentum=0.1, affine=True, track_running_stats=True)\n",
      "          (relu1): ReLU(inplace=True)\n",
      "          (conv1): Conv2d(608, 128, kernel_size=(1, 1), stride=(1, 1), bias=False)\n",
      "          (norm2): BatchNorm2d(128, eps=1e-05, momentum=0.1, affine=True, track_running_stats=True)\n",
      "          (relu2): ReLU(inplace=True)\n",
      "          (conv2): Conv2d(128, 32, kernel_size=(3, 3), stride=(1, 1), padding=(1, 1), bias=False)\n",
      "        )\n",
      "        (denselayer13): _DenseLayer(\n",
      "          (norm1): BatchNorm2d(640, eps=1e-05, momentum=0.1, affine=True, track_running_stats=True)\n",
      "          (relu1): ReLU(inplace=True)\n",
      "          (conv1): Conv2d(640, 128, kernel_size=(1, 1), stride=(1, 1), bias=False)\n",
      "          (norm2): BatchNorm2d(128, eps=1e-05, momentum=0.1, affine=True, track_running_stats=True)\n",
      "          (relu2): ReLU(inplace=True)\n",
      "          (conv2): Conv2d(128, 32, kernel_size=(3, 3), stride=(1, 1), padding=(1, 1), bias=False)\n",
      "        )\n",
      "        (denselayer14): _DenseLayer(\n",
      "          (norm1): BatchNorm2d(672, eps=1e-05, momentum=0.1, affine=True, track_running_stats=True)\n",
      "          (relu1): ReLU(inplace=True)\n",
      "          (conv1): Conv2d(672, 128, kernel_size=(1, 1), stride=(1, 1), bias=False)\n",
      "          (norm2): BatchNorm2d(128, eps=1e-05, momentum=0.1, affine=True, track_running_stats=True)\n",
      "          (relu2): ReLU(inplace=True)\n",
      "          (conv2): Conv2d(128, 32, kernel_size=(3, 3), stride=(1, 1), padding=(1, 1), bias=False)\n",
      "        )\n",
      "        (denselayer15): _DenseLayer(\n",
      "          (norm1): BatchNorm2d(704, eps=1e-05, momentum=0.1, affine=True, track_running_stats=True)\n",
      "          (relu1): ReLU(inplace=True)\n",
      "          (conv1): Conv2d(704, 128, kernel_size=(1, 1), stride=(1, 1), bias=False)\n",
      "          (norm2): BatchNorm2d(128, eps=1e-05, momentum=0.1, affine=True, track_running_stats=True)\n",
      "          (relu2): ReLU(inplace=True)\n",
      "          (conv2): Conv2d(128, 32, kernel_size=(3, 3), stride=(1, 1), padding=(1, 1), bias=False)\n",
      "        )\n",
      "        (denselayer16): _DenseLayer(\n",
      "          (norm1): BatchNorm2d(736, eps=1e-05, momentum=0.1, affine=True, track_running_stats=True)\n",
      "          (relu1): ReLU(inplace=True)\n",
      "          (conv1): Conv2d(736, 128, kernel_size=(1, 1), stride=(1, 1), bias=False)\n",
      "          (norm2): BatchNorm2d(128, eps=1e-05, momentum=0.1, affine=True, track_running_stats=True)\n",
      "          (relu2): ReLU(inplace=True)\n",
      "          (conv2): Conv2d(128, 32, kernel_size=(3, 3), stride=(1, 1), padding=(1, 1), bias=False)\n",
      "        )\n",
      "        (denselayer17): _DenseLayer(\n",
      "          (norm1): BatchNorm2d(768, eps=1e-05, momentum=0.1, affine=True, track_running_stats=True)\n",
      "          (relu1): ReLU(inplace=True)\n",
      "          (conv1): Conv2d(768, 128, kernel_size=(1, 1), stride=(1, 1), bias=False)\n",
      "          (norm2): BatchNorm2d(128, eps=1e-05, momentum=0.1, affine=True, track_running_stats=True)\n",
      "          (relu2): ReLU(inplace=True)\n",
      "          (conv2): Conv2d(128, 32, kernel_size=(3, 3), stride=(1, 1), padding=(1, 1), bias=False)\n",
      "        )\n",
      "        (denselayer18): _DenseLayer(\n",
      "          (norm1): BatchNorm2d(800, eps=1e-05, momentum=0.1, affine=True, track_running_stats=True)\n",
      "          (relu1): ReLU(inplace=True)\n",
      "          (conv1): Conv2d(800, 128, kernel_size=(1, 1), stride=(1, 1), bias=False)\n",
      "          (norm2): BatchNorm2d(128, eps=1e-05, momentum=0.1, affine=True, track_running_stats=True)\n",
      "          (relu2): ReLU(inplace=True)\n",
      "          (conv2): Conv2d(128, 32, kernel_size=(3, 3), stride=(1, 1), padding=(1, 1), bias=False)\n",
      "        )\n",
      "        (denselayer19): _DenseLayer(\n",
      "          (norm1): BatchNorm2d(832, eps=1e-05, momentum=0.1, affine=True, track_running_stats=True)\n",
      "          (relu1): ReLU(inplace=True)\n",
      "          (conv1): Conv2d(832, 128, kernel_size=(1, 1), stride=(1, 1), bias=False)\n",
      "          (norm2): BatchNorm2d(128, eps=1e-05, momentum=0.1, affine=True, track_running_stats=True)\n",
      "          (relu2): ReLU(inplace=True)\n",
      "          (conv2): Conv2d(128, 32, kernel_size=(3, 3), stride=(1, 1), padding=(1, 1), bias=False)\n",
      "        )\n",
      "        (denselayer20): _DenseLayer(\n",
      "          (norm1): BatchNorm2d(864, eps=1e-05, momentum=0.1, affine=True, track_running_stats=True)\n",
      "          (relu1): ReLU(inplace=True)\n",
      "          (conv1): Conv2d(864, 128, kernel_size=(1, 1), stride=(1, 1), bias=False)\n",
      "          (norm2): BatchNorm2d(128, eps=1e-05, momentum=0.1, affine=True, track_running_stats=True)\n",
      "          (relu2): ReLU(inplace=True)\n",
      "          (conv2): Conv2d(128, 32, kernel_size=(3, 3), stride=(1, 1), padding=(1, 1), bias=False)\n",
      "        )\n",
      "        (denselayer21): _DenseLayer(\n",
      "          (norm1): BatchNorm2d(896, eps=1e-05, momentum=0.1, affine=True, track_running_stats=True)\n",
      "          (relu1): ReLU(inplace=True)\n",
      "          (conv1): Conv2d(896, 128, kernel_size=(1, 1), stride=(1, 1), bias=False)\n",
      "          (norm2): BatchNorm2d(128, eps=1e-05, momentum=0.1, affine=True, track_running_stats=True)\n",
      "          (relu2): ReLU(inplace=True)\n",
      "          (conv2): Conv2d(128, 32, kernel_size=(3, 3), stride=(1, 1), padding=(1, 1), bias=False)\n",
      "        )\n",
      "        (denselayer22): _DenseLayer(\n",
      "          (norm1): BatchNorm2d(928, eps=1e-05, momentum=0.1, affine=True, track_running_stats=True)\n",
      "          (relu1): ReLU(inplace=True)\n",
      "          (conv1): Conv2d(928, 128, kernel_size=(1, 1), stride=(1, 1), bias=False)\n",
      "          (norm2): BatchNorm2d(128, eps=1e-05, momentum=0.1, affine=True, track_running_stats=True)\n",
      "          (relu2): ReLU(inplace=True)\n",
      "          (conv2): Conv2d(128, 32, kernel_size=(3, 3), stride=(1, 1), padding=(1, 1), bias=False)\n",
      "        )\n",
      "        (denselayer23): _DenseLayer(\n",
      "          (norm1): BatchNorm2d(960, eps=1e-05, momentum=0.1, affine=True, track_running_stats=True)\n",
      "          (relu1): ReLU(inplace=True)\n",
      "          (conv1): Conv2d(960, 128, kernel_size=(1, 1), stride=(1, 1), bias=False)\n",
      "          (norm2): BatchNorm2d(128, eps=1e-05, momentum=0.1, affine=True, track_running_stats=True)\n",
      "          (relu2): ReLU(inplace=True)\n",
      "          (conv2): Conv2d(128, 32, kernel_size=(3, 3), stride=(1, 1), padding=(1, 1), bias=False)\n",
      "        )\n",
      "        (denselayer24): _DenseLayer(\n",
      "          (norm1): BatchNorm2d(992, eps=1e-05, momentum=0.1, affine=True, track_running_stats=True)\n",
      "          (relu1): ReLU(inplace=True)\n",
      "          (conv1): Conv2d(992, 128, kernel_size=(1, 1), stride=(1, 1), bias=False)\n",
      "          (norm2): BatchNorm2d(128, eps=1e-05, momentum=0.1, affine=True, track_running_stats=True)\n",
      "          (relu2): ReLU(inplace=True)\n",
      "          (conv2): Conv2d(128, 32, kernel_size=(3, 3), stride=(1, 1), padding=(1, 1), bias=False)\n",
      "        )\n",
      "      )\n",
      "      (1): _Transition(\n",
      "        (norm): BatchNorm2d(1024, eps=1e-05, momentum=0.1, affine=True, track_running_stats=True)\n",
      "        (relu): ReLU(inplace=True)\n",
      "        (conv): Conv2d(1024, 512, kernel_size=(1, 1), stride=(1, 1), bias=False)\n",
      "        (pool): AvgPool2d(kernel_size=2, stride=2, padding=0)\n",
      "      )\n",
      "      (2): Dropout(p=0.3, inplace=False)\n",
      "    )\n",
      "    (3): Sequential(\n",
      "      (0): _DenseBlock(\n",
      "        (denselayer1): _DenseLayer(\n",
      "          (norm1): BatchNorm2d(512, eps=1e-05, momentum=0.1, affine=True, track_running_stats=True)\n",
      "          (relu1): ReLU(inplace=True)\n",
      "          (conv1): Conv2d(512, 128, kernel_size=(1, 1), stride=(1, 1), bias=False)\n",
      "          (norm2): BatchNorm2d(128, eps=1e-05, momentum=0.1, affine=True, track_running_stats=True)\n",
      "          (relu2): ReLU(inplace=True)\n",
      "          (conv2): Conv2d(128, 32, kernel_size=(3, 3), stride=(1, 1), padding=(1, 1), bias=False)\n",
      "        )\n",
      "        (denselayer2): _DenseLayer(\n",
      "          (norm1): BatchNorm2d(544, eps=1e-05, momentum=0.1, affine=True, track_running_stats=True)\n",
      "          (relu1): ReLU(inplace=True)\n",
      "          (conv1): Conv2d(544, 128, kernel_size=(1, 1), stride=(1, 1), bias=False)\n",
      "          (norm2): BatchNorm2d(128, eps=1e-05, momentum=0.1, affine=True, track_running_stats=True)\n",
      "          (relu2): ReLU(inplace=True)\n",
      "          (conv2): Conv2d(128, 32, kernel_size=(3, 3), stride=(1, 1), padding=(1, 1), bias=False)\n",
      "        )\n",
      "        (denselayer3): _DenseLayer(\n",
      "          (norm1): BatchNorm2d(576, eps=1e-05, momentum=0.1, affine=True, track_running_stats=True)\n",
      "          (relu1): ReLU(inplace=True)\n",
      "          (conv1): Conv2d(576, 128, kernel_size=(1, 1), stride=(1, 1), bias=False)\n",
      "          (norm2): BatchNorm2d(128, eps=1e-05, momentum=0.1, affine=True, track_running_stats=True)\n",
      "          (relu2): ReLU(inplace=True)\n",
      "          (conv2): Conv2d(128, 32, kernel_size=(3, 3), stride=(1, 1), padding=(1, 1), bias=False)\n",
      "        )\n",
      "        (denselayer4): _DenseLayer(\n",
      "          (norm1): BatchNorm2d(608, eps=1e-05, momentum=0.1, affine=True, track_running_stats=True)\n",
      "          (relu1): ReLU(inplace=True)\n",
      "          (conv1): Conv2d(608, 128, kernel_size=(1, 1), stride=(1, 1), bias=False)\n",
      "          (norm2): BatchNorm2d(128, eps=1e-05, momentum=0.1, affine=True, track_running_stats=True)\n",
      "          (relu2): ReLU(inplace=True)\n",
      "          (conv2): Conv2d(128, 32, kernel_size=(3, 3), stride=(1, 1), padding=(1, 1), bias=False)\n",
      "        )\n",
      "        (denselayer5): _DenseLayer(\n",
      "          (norm1): BatchNorm2d(640, eps=1e-05, momentum=0.1, affine=True, track_running_stats=True)\n",
      "          (relu1): ReLU(inplace=True)\n",
      "          (conv1): Conv2d(640, 128, kernel_size=(1, 1), stride=(1, 1), bias=False)\n",
      "          (norm2): BatchNorm2d(128, eps=1e-05, momentum=0.1, affine=True, track_running_stats=True)\n",
      "          (relu2): ReLU(inplace=True)\n",
      "          (conv2): Conv2d(128, 32, kernel_size=(3, 3), stride=(1, 1), padding=(1, 1), bias=False)\n",
      "        )\n",
      "        (denselayer6): _DenseLayer(\n",
      "          (norm1): BatchNorm2d(672, eps=1e-05, momentum=0.1, affine=True, track_running_stats=True)\n",
      "          (relu1): ReLU(inplace=True)\n",
      "          (conv1): Conv2d(672, 128, kernel_size=(1, 1), stride=(1, 1), bias=False)\n",
      "          (norm2): BatchNorm2d(128, eps=1e-05, momentum=0.1, affine=True, track_running_stats=True)\n",
      "          (relu2): ReLU(inplace=True)\n",
      "          (conv2): Conv2d(128, 32, kernel_size=(3, 3), stride=(1, 1), padding=(1, 1), bias=False)\n",
      "        )\n",
      "        (denselayer7): _DenseLayer(\n",
      "          (norm1): BatchNorm2d(704, eps=1e-05, momentum=0.1, affine=True, track_running_stats=True)\n",
      "          (relu1): ReLU(inplace=True)\n",
      "          (conv1): Conv2d(704, 128, kernel_size=(1, 1), stride=(1, 1), bias=False)\n",
      "          (norm2): BatchNorm2d(128, eps=1e-05, momentum=0.1, affine=True, track_running_stats=True)\n",
      "          (relu2): ReLU(inplace=True)\n",
      "          (conv2): Conv2d(128, 32, kernel_size=(3, 3), stride=(1, 1), padding=(1, 1), bias=False)\n",
      "        )\n",
      "        (denselayer8): _DenseLayer(\n",
      "          (norm1): BatchNorm2d(736, eps=1e-05, momentum=0.1, affine=True, track_running_stats=True)\n",
      "          (relu1): ReLU(inplace=True)\n",
      "          (conv1): Conv2d(736, 128, kernel_size=(1, 1), stride=(1, 1), bias=False)\n",
      "          (norm2): BatchNorm2d(128, eps=1e-05, momentum=0.1, affine=True, track_running_stats=True)\n",
      "          (relu2): ReLU(inplace=True)\n",
      "          (conv2): Conv2d(128, 32, kernel_size=(3, 3), stride=(1, 1), padding=(1, 1), bias=False)\n",
      "        )\n",
      "        (denselayer9): _DenseLayer(\n",
      "          (norm1): BatchNorm2d(768, eps=1e-05, momentum=0.1, affine=True, track_running_stats=True)\n",
      "          (relu1): ReLU(inplace=True)\n",
      "          (conv1): Conv2d(768, 128, kernel_size=(1, 1), stride=(1, 1), bias=False)\n",
      "          (norm2): BatchNorm2d(128, eps=1e-05, momentum=0.1, affine=True, track_running_stats=True)\n",
      "          (relu2): ReLU(inplace=True)\n",
      "          (conv2): Conv2d(128, 32, kernel_size=(3, 3), stride=(1, 1), padding=(1, 1), bias=False)\n",
      "        )\n",
      "        (denselayer10): _DenseLayer(\n",
      "          (norm1): BatchNorm2d(800, eps=1e-05, momentum=0.1, affine=True, track_running_stats=True)\n",
      "          (relu1): ReLU(inplace=True)\n",
      "          (conv1): Conv2d(800, 128, kernel_size=(1, 1), stride=(1, 1), bias=False)\n",
      "          (norm2): BatchNorm2d(128, eps=1e-05, momentum=0.1, affine=True, track_running_stats=True)\n",
      "          (relu2): ReLU(inplace=True)\n",
      "          (conv2): Conv2d(128, 32, kernel_size=(3, 3), stride=(1, 1), padding=(1, 1), bias=False)\n",
      "        )\n",
      "        (denselayer11): _DenseLayer(\n",
      "          (norm1): BatchNorm2d(832, eps=1e-05, momentum=0.1, affine=True, track_running_stats=True)\n",
      "          (relu1): ReLU(inplace=True)\n",
      "          (conv1): Conv2d(832, 128, kernel_size=(1, 1), stride=(1, 1), bias=False)\n",
      "          (norm2): BatchNorm2d(128, eps=1e-05, momentum=0.1, affine=True, track_running_stats=True)\n",
      "          (relu2): ReLU(inplace=True)\n",
      "          (conv2): Conv2d(128, 32, kernel_size=(3, 3), stride=(1, 1), padding=(1, 1), bias=False)\n",
      "        )\n",
      "        (denselayer12): _DenseLayer(\n",
      "          (norm1): BatchNorm2d(864, eps=1e-05, momentum=0.1, affine=True, track_running_stats=True)\n",
      "          (relu1): ReLU(inplace=True)\n",
      "          (conv1): Conv2d(864, 128, kernel_size=(1, 1), stride=(1, 1), bias=False)\n",
      "          (norm2): BatchNorm2d(128, eps=1e-05, momentum=0.1, affine=True, track_running_stats=True)\n",
      "          (relu2): ReLU(inplace=True)\n",
      "          (conv2): Conv2d(128, 32, kernel_size=(3, 3), stride=(1, 1), padding=(1, 1), bias=False)\n",
      "        )\n",
      "        (denselayer13): _DenseLayer(\n",
      "          (norm1): BatchNorm2d(896, eps=1e-05, momentum=0.1, affine=True, track_running_stats=True)\n",
      "          (relu1): ReLU(inplace=True)\n",
      "          (conv1): Conv2d(896, 128, kernel_size=(1, 1), stride=(1, 1), bias=False)\n",
      "          (norm2): BatchNorm2d(128, eps=1e-05, momentum=0.1, affine=True, track_running_stats=True)\n",
      "          (relu2): ReLU(inplace=True)\n",
      "          (conv2): Conv2d(128, 32, kernel_size=(3, 3), stride=(1, 1), padding=(1, 1), bias=False)\n",
      "        )\n",
      "        (denselayer14): _DenseLayer(\n",
      "          (norm1): BatchNorm2d(928, eps=1e-05, momentum=0.1, affine=True, track_running_stats=True)\n",
      "          (relu1): ReLU(inplace=True)\n",
      "          (conv1): Conv2d(928, 128, kernel_size=(1, 1), stride=(1, 1), bias=False)\n",
      "          (norm2): BatchNorm2d(128, eps=1e-05, momentum=0.1, affine=True, track_running_stats=True)\n",
      "          (relu2): ReLU(inplace=True)\n",
      "          (conv2): Conv2d(128, 32, kernel_size=(3, 3), stride=(1, 1), padding=(1, 1), bias=False)\n",
      "        )\n",
      "        (denselayer15): _DenseLayer(\n",
      "          (norm1): BatchNorm2d(960, eps=1e-05, momentum=0.1, affine=True, track_running_stats=True)\n",
      "          (relu1): ReLU(inplace=True)\n",
      "          (conv1): Conv2d(960, 128, kernel_size=(1, 1), stride=(1, 1), bias=False)\n",
      "          (norm2): BatchNorm2d(128, eps=1e-05, momentum=0.1, affine=True, track_running_stats=True)\n",
      "          (relu2): ReLU(inplace=True)\n",
      "          (conv2): Conv2d(128, 32, kernel_size=(3, 3), stride=(1, 1), padding=(1, 1), bias=False)\n",
      "        )\n",
      "        (denselayer16): _DenseLayer(\n",
      "          (norm1): BatchNorm2d(992, eps=1e-05, momentum=0.1, affine=True, track_running_stats=True)\n",
      "          (relu1): ReLU(inplace=True)\n",
      "          (conv1): Conv2d(992, 128, kernel_size=(1, 1), stride=(1, 1), bias=False)\n",
      "          (norm2): BatchNorm2d(128, eps=1e-05, momentum=0.1, affine=True, track_running_stats=True)\n",
      "          (relu2): ReLU(inplace=True)\n",
      "          (conv2): Conv2d(128, 32, kernel_size=(3, 3), stride=(1, 1), padding=(1, 1), bias=False)\n",
      "        )\n",
      "      )\n",
      "      (1): BatchNorm2d(1024, eps=1e-05, momentum=0.1, affine=True, track_running_stats=True)\n",
      "      (2): Dropout(p=0.3, inplace=False)\n",
      "    )\n",
      "  )\n",
      "  (adaptation_layers): ModuleDict(\n",
      "    (adapt1): Conv2d(128, 256, kernel_size=(1, 1), stride=(1, 1))\n",
      "    (adapt2): Conv2d(256, 256, kernel_size=(1, 1), stride=(1, 1))\n",
      "    (adapt3): Conv2d(512, 256, kernel_size=(1, 1), stride=(1, 1))\n",
      "    (adapt4): Conv2d(1024, 256, kernel_size=(1, 1), stride=(1, 1))\n",
      "  )\n",
      "  (fpn): ModuleDict(\n",
      "    (fpn1): Conv2d(256, 256, kernel_size=(1, 1), stride=(1, 1))\n",
      "    (fpn2): Conv2d(256, 256, kernel_size=(1, 1), stride=(1, 1))\n",
      "    (fpn3): Conv2d(256, 256, kernel_size=(1, 1), stride=(1, 1))\n",
      "  )\n",
      ")\n"
     ]
    }
   ],
   "source": [
    "import torch\n",
    "from torchvision import models\n",
    "from src.models.backbone_models import denseFPN_121, denseFPN_201\n",
    "\n",
    "# Create the model instance\n",
    "model = models.efficientnet_v2_s(weights=None).features[:-1]\n",
    "\n",
    "print(model)"
   ]
  },
  {
   "cell_type": "code",
   "execution_count": null,
   "metadata": {},
   "outputs": [
    {
     "name": "stderr",
     "output_type": "stream",
     "text": [
      "d:\\Program_Files\\anaconda3\\envs\\torch\\lib\\site-packages\\torchvision\\io\\image.py:13: UserWarning: Failed to load image Python extension: '[WinError 127] The specified procedure could not be found'If you don't plan on using image functionality from `torchvision.io`, you can ignore this warning. Otherwise, there might be something wrong with your environment. Did you have `libjpeg` or `libpng` installed before building `torchvision` from source?\n",
      "  warn(\n"
     ]
    },
    {
     "name": "stdout",
     "output_type": "stream",
     "text": [
      "Total number of parameters:  7643776\n",
      "Features shape: torch.Size([50, 256, 12, 12])\n"
     ]
    },
    {
     "ename": "KeyError",
     "evalue": "-1",
     "output_type": "error",
     "traceback": [
      "\u001b[1;31m---------------------------------------------------------------------------\u001b[0m",
      "\u001b[1;31mKeyError\u001b[0m                                  Traceback (most recent call last)",
      "Cell \u001b[1;32mIn[1], line 20\u001b[0m\n\u001b[0;32m     17\u001b[0m \u001b[38;5;66;03m# Print output shapes to verify\u001b[39;00m\n\u001b[0;32m     18\u001b[0m \u001b[38;5;28mprint\u001b[39m(\u001b[38;5;124m\"\u001b[39m\u001b[38;5;124mFeatures shape:\u001b[39m\u001b[38;5;124m\"\u001b[39m, features\u001b[38;5;241m.\u001b[39mshape)\n\u001b[1;32m---> 20\u001b[0m \u001b[38;5;28mprint\u001b[39m(\u001b[38;5;124m\"\u001b[39m\u001b[38;5;124mOutput channels:\u001b[39m\u001b[38;5;124m\"\u001b[39m, \u001b[43mmodel\u001b[49m\u001b[38;5;241;43m.\u001b[39;49m\u001b[43mget_output_channels\u001b[49m\u001b[43m(\u001b[49m\u001b[43m)\u001b[49m)\n",
      "File \u001b[1;32mc:\\Users\\jerem\\Desktop\\ICL-MSc\\Final_Year_Project\\FYP-interpretable-deep-learning\\2D-model\\src\\models\\backbone_models.py:148\u001b[0m, in \u001b[0;36mdenseFPN_121.get_output_channels\u001b[1;34m(self)\u001b[0m\n\u001b[0;32m    146\u001b[0m \u001b[38;5;28;01mdef\u001b[39;00m \u001b[38;5;21mget_output_channels\u001b[39m(\u001b[38;5;28mself\u001b[39m):\n\u001b[0;32m    147\u001b[0m \u001b[38;5;250m    \u001b[39m\u001b[38;5;124;03m\"\"\" Returns the number of output channels from the final convolutional layer. \"\"\"\u001b[39;00m\n\u001b[1;32m--> 148\u001b[0m     final_conv_layer \u001b[38;5;241m=\u001b[39m [layer \u001b[38;5;28;01mfor\u001b[39;00m layer \u001b[38;5;129;01min\u001b[39;00m \u001b[38;5;28;43mself\u001b[39;49m\u001b[38;5;241;43m.\u001b[39;49m\u001b[43mfpn\u001b[49m\u001b[43m[\u001b[49m\u001b[38;5;241;43m-\u001b[39;49m\u001b[38;5;241;43m1\u001b[39;49m\u001b[43m]\u001b[49m\u001b[38;5;241m.\u001b[39mmodules() \u001b[38;5;28;01mif\u001b[39;00m \u001b[38;5;28misinstance\u001b[39m(layer, nn\u001b[38;5;241m.\u001b[39mConv2d)][\u001b[38;5;241m-\u001b[39m\u001b[38;5;241m1\u001b[39m]\n\u001b[0;32m    149\u001b[0m     \u001b[38;5;28;01mreturn\u001b[39;00m \u001b[38;5;28mself\u001b[39m\u001b[38;5;241m.\u001b[39mcommon_channel_size, final_conv_layer\u001b[38;5;241m.\u001b[39mweight\u001b[38;5;241m.\u001b[39mshape[\u001b[38;5;241m2\u001b[39m], final_conv_layer\u001b[38;5;241m.\u001b[39mweight\u001b[38;5;241m.\u001b[39mshape[\u001b[38;5;241m3\u001b[39m]\n",
      "File \u001b[1;32md:\\Program_Files\\anaconda3\\envs\\torch\\lib\\site-packages\\torch\\nn\\modules\\container.py:463\u001b[0m, in \u001b[0;36mModuleDict.__getitem__\u001b[1;34m(self, key)\u001b[0m\n\u001b[0;32m    461\u001b[0m \u001b[38;5;129m@_copy_to_script_wrapper\u001b[39m\n\u001b[0;32m    462\u001b[0m \u001b[38;5;28;01mdef\u001b[39;00m \u001b[38;5;21m__getitem__\u001b[39m(\u001b[38;5;28mself\u001b[39m, key: \u001b[38;5;28mstr\u001b[39m) \u001b[38;5;241m-\u001b[39m\u001b[38;5;241m>\u001b[39m Module:\n\u001b[1;32m--> 463\u001b[0m     \u001b[38;5;28;01mreturn\u001b[39;00m \u001b[38;5;28;43mself\u001b[39;49m\u001b[38;5;241;43m.\u001b[39;49m\u001b[43m_modules\u001b[49m\u001b[43m[\u001b[49m\u001b[43mkey\u001b[49m\u001b[43m]\u001b[49m\n",
      "\u001b[1;31mKeyError\u001b[0m: -1"
     ]
    }
   ],
   "source": [
    "import torch\n",
    "from src.models.backbone_models import denseFPN_121, denseFPN_201\n",
    "\n",
    "# Create the model instance\n",
    "model = denseFPN_121()\n",
    "\n",
    "# Print total number of parameters\n",
    "total_params = sum(p.numel() for p in model.parameters())\n",
    "print(\"Total number of parameters: \", total_params)\n",
    "\n",
    "# Create a dummy input tensor of size [50, 3, 100, 100]\n",
    "dummy_input = torch.randn(50, 3, 100, 100)\n",
    "\n",
    "# Forward pass through the model with dummy input\n",
    "features = model(dummy_input)\n",
    "\n",
    "# Print output shapes to verify\n",
    "print(\"Features shape:\", features.shape)\n",
    "\n",
    "print(\"Output channels:\", model.get_output_channels())"
   ]
  },
  {
   "cell_type": "code",
   "execution_count": 17,
   "metadata": {},
   "outputs": [
    {
     "name": "stdout",
     "output_type": "stream",
     "text": [
      "Total number of parameters:  15688838\n",
      "Backbone output shape: torch.Size([50, 512, 1, 1])\n",
      "Prototype vectors: 50\n",
      "Unsqueeze Prototype 0 shape: torch.Size([1, 512, 1, 1]), task index: 0\n",
      "Distances shape: torch.Size([50, 512, 1, 1])\n",
      "Processed shape: torch.Size([50, 1024])\n",
      "Unsqueeze Prototype 1 shape: torch.Size([1, 512, 1, 1]), task index: 0\n",
      "Distances shape: torch.Size([50, 512, 1, 1])\n",
      "Processed shape: torch.Size([50, 1024])\n",
      "Unsqueeze Prototype 2 shape: torch.Size([1, 512, 1, 1]), task index: 0\n",
      "Distances shape: torch.Size([50, 512, 1, 1])\n",
      "Processed shape: torch.Size([50, 1024])\n",
      "Unsqueeze Prototype 3 shape: torch.Size([1, 512, 1, 1]), task index: 0\n",
      "Distances shape: torch.Size([50, 512, 1, 1])\n",
      "Processed shape: torch.Size([50, 1024])\n",
      "Unsqueeze Prototype 4 shape: torch.Size([1, 512, 1, 1]), task index: 0\n",
      "Distances shape: torch.Size([50, 512, 1, 1])\n",
      "Processed shape: torch.Size([50, 1024])\n",
      "Unsqueeze Prototype 5 shape: torch.Size([1, 512, 1, 1]), task index: 0\n",
      "Distances shape: torch.Size([50, 512, 1, 1])\n",
      "Processed shape: torch.Size([50, 1024])\n",
      "Unsqueeze Prototype 6 shape: torch.Size([1, 512, 1, 1]), task index: 0\n",
      "Distances shape: torch.Size([50, 512, 1, 1])\n",
      "Processed shape: torch.Size([50, 1024])\n",
      "Unsqueeze Prototype 7 shape: torch.Size([1, 512, 1, 1]), task index: 0\n",
      "Distances shape: torch.Size([50, 512, 1, 1])\n",
      "Processed shape: torch.Size([50, 1024])\n",
      "Unsqueeze Prototype 8 shape: torch.Size([1, 512, 1, 1]), task index: 0\n",
      "Distances shape: torch.Size([50, 512, 1, 1])\n",
      "Processed shape: torch.Size([50, 1024])\n",
      "Unsqueeze Prototype 9 shape: torch.Size([1, 512, 1, 1]), task index: 0\n",
      "Distances shape: torch.Size([50, 512, 1, 1])\n",
      "Processed shape: torch.Size([50, 1024])\n",
      "Unsqueeze Prototype 10 shape: torch.Size([1, 512, 1, 1]), task index: 0\n",
      "Distances shape: torch.Size([50, 512, 1, 1])\n",
      "Processed shape: torch.Size([50, 1024])\n",
      "Unsqueeze Prototype 11 shape: torch.Size([1, 512, 1, 1]), task index: 0\n",
      "Distances shape: torch.Size([50, 512, 1, 1])\n",
      "Processed shape: torch.Size([50, 1024])\n",
      "Unsqueeze Prototype 12 shape: torch.Size([1, 512, 1, 1]), task index: 0\n",
      "Distances shape: torch.Size([50, 512, 1, 1])\n",
      "Processed shape: torch.Size([50, 1024])\n",
      "Unsqueeze Prototype 13 shape: torch.Size([1, 512, 1, 1]), task index: 0\n",
      "Distances shape: torch.Size([50, 512, 1, 1])\n",
      "Processed shape: torch.Size([50, 1024])\n",
      "Unsqueeze Prototype 14 shape: torch.Size([1, 512, 1, 1]), task index: 0\n",
      "Distances shape: torch.Size([50, 512, 1, 1])\n",
      "Processed shape: torch.Size([50, 1024])\n",
      "Unsqueeze Prototype 15 shape: torch.Size([1, 512, 1, 1]), task index: 0\n",
      "Distances shape: torch.Size([50, 512, 1, 1])\n",
      "Processed shape: torch.Size([50, 1024])\n",
      "Unsqueeze Prototype 16 shape: torch.Size([1, 512, 1, 1]), task index: 0\n",
      "Distances shape: torch.Size([50, 512, 1, 1])\n",
      "Processed shape: torch.Size([50, 1024])\n",
      "Unsqueeze Prototype 17 shape: torch.Size([1, 512, 1, 1]), task index: 0\n",
      "Distances shape: torch.Size([50, 512, 1, 1])\n",
      "Processed shape: torch.Size([50, 1024])\n",
      "Unsqueeze Prototype 18 shape: torch.Size([1, 512, 1, 1]), task index: 0\n",
      "Distances shape: torch.Size([50, 512, 1, 1])\n",
      "Processed shape: torch.Size([50, 1024])\n",
      "Unsqueeze Prototype 19 shape: torch.Size([1, 512, 1, 1]), task index: 0\n",
      "Distances shape: torch.Size([50, 512, 1, 1])\n",
      "Processed shape: torch.Size([50, 1024])\n",
      "Unsqueeze Prototype 20 shape: torch.Size([1, 512, 1, 1]), task index: 0\n",
      "Distances shape: torch.Size([50, 512, 1, 1])\n",
      "Processed shape: torch.Size([50, 1024])\n",
      "Unsqueeze Prototype 21 shape: torch.Size([1, 512, 1, 1]), task index: 0\n",
      "Distances shape: torch.Size([50, 512, 1, 1])\n",
      "Processed shape: torch.Size([50, 1024])\n",
      "Unsqueeze Prototype 22 shape: torch.Size([1, 512, 1, 1]), task index: 0\n",
      "Distances shape: torch.Size([50, 512, 1, 1])\n",
      "Processed shape: torch.Size([50, 1024])\n",
      "Unsqueeze Prototype 23 shape: torch.Size([1, 512, 1, 1]), task index: 0\n",
      "Distances shape: torch.Size([50, 512, 1, 1])\n",
      "Processed shape: torch.Size([50, 1024])\n",
      "Unsqueeze Prototype 24 shape: torch.Size([1, 512, 1, 1]), task index: 0\n",
      "Distances shape: torch.Size([50, 512, 1, 1])\n",
      "Processed shape: torch.Size([50, 1024])\n",
      "Unsqueeze Prototype 25 shape: torch.Size([1, 512, 1, 1]), task index: 0\n",
      "Distances shape: torch.Size([50, 512, 1, 1])\n",
      "Processed shape: torch.Size([50, 1024])\n",
      "Unsqueeze Prototype 26 shape: torch.Size([1, 512, 1, 1]), task index: 0\n",
      "Distances shape: torch.Size([50, 512, 1, 1])\n",
      "Processed shape: torch.Size([50, 1024])\n",
      "Unsqueeze Prototype 27 shape: torch.Size([1, 512, 1, 1]), task index: 0\n",
      "Distances shape: torch.Size([50, 512, 1, 1])\n",
      "Processed shape: torch.Size([50, 1024])\n",
      "Unsqueeze Prototype 28 shape: torch.Size([1, 512, 1, 1]), task index: 0\n",
      "Distances shape: torch.Size([50, 512, 1, 1])\n",
      "Processed shape: torch.Size([50, 1024])\n",
      "Unsqueeze Prototype 29 shape: torch.Size([1, 512, 1, 1]), task index: 0\n",
      "Distances shape: torch.Size([50, 512, 1, 1])\n",
      "Processed shape: torch.Size([50, 1024])\n",
      "Unsqueeze Prototype 30 shape: torch.Size([1, 512, 1, 1]), task index: 0\n",
      "Distances shape: torch.Size([50, 512, 1, 1])\n",
      "Processed shape: torch.Size([50, 1024])\n",
      "Unsqueeze Prototype 31 shape: torch.Size([1, 512, 1, 1]), task index: 0\n",
      "Distances shape: torch.Size([50, 512, 1, 1])\n",
      "Processed shape: torch.Size([50, 1024])\n",
      "Unsqueeze Prototype 32 shape: torch.Size([1, 512, 1, 1]), task index: 0\n",
      "Distances shape: torch.Size([50, 512, 1, 1])\n",
      "Processed shape: torch.Size([50, 1024])\n",
      "Unsqueeze Prototype 33 shape: torch.Size([1, 512, 1, 1]), task index: 0\n",
      "Distances shape: torch.Size([50, 512, 1, 1])\n",
      "Processed shape: torch.Size([50, 1024])\n",
      "Unsqueeze Prototype 34 shape: torch.Size([1, 512, 1, 1]), task index: 0\n",
      "Distances shape: torch.Size([50, 512, 1, 1])\n",
      "Processed shape: torch.Size([50, 1024])\n",
      "Unsqueeze Prototype 35 shape: torch.Size([1, 512, 1, 1]), task index: 0\n",
      "Distances shape: torch.Size([50, 512, 1, 1])\n",
      "Processed shape: torch.Size([50, 1024])\n",
      "Unsqueeze Prototype 36 shape: torch.Size([1, 512, 1, 1]), task index: 0\n",
      "Distances shape: torch.Size([50, 512, 1, 1])\n",
      "Processed shape: torch.Size([50, 1024])\n",
      "Unsqueeze Prototype 37 shape: torch.Size([1, 512, 1, 1]), task index: 0\n",
      "Distances shape: torch.Size([50, 512, 1, 1])\n",
      "Processed shape: torch.Size([50, 1024])\n",
      "Unsqueeze Prototype 38 shape: torch.Size([1, 512, 1, 1]), task index: 0\n",
      "Distances shape: torch.Size([50, 512, 1, 1])\n",
      "Processed shape: torch.Size([50, 1024])\n",
      "Unsqueeze Prototype 39 shape: torch.Size([1, 512, 1, 1]), task index: 0\n",
      "Distances shape: torch.Size([50, 512, 1, 1])\n",
      "Processed shape: torch.Size([50, 1024])\n",
      "Unsqueeze Prototype 40 shape: torch.Size([1, 512, 1, 1]), task index: 0\n",
      "Distances shape: torch.Size([50, 512, 1, 1])\n",
      "Processed shape: torch.Size([50, 1024])\n",
      "Unsqueeze Prototype 41 shape: torch.Size([1, 512, 1, 1]), task index: 0\n",
      "Distances shape: torch.Size([50, 512, 1, 1])\n",
      "Processed shape: torch.Size([50, 1024])\n",
      "Unsqueeze Prototype 42 shape: torch.Size([1, 512, 1, 1]), task index: 0\n",
      "Distances shape: torch.Size([50, 512, 1, 1])\n",
      "Processed shape: torch.Size([50, 1024])\n",
      "Unsqueeze Prototype 43 shape: torch.Size([1, 512, 1, 1]), task index: 0\n",
      "Distances shape: torch.Size([50, 512, 1, 1])\n",
      "Processed shape: torch.Size([50, 1024])\n",
      "Unsqueeze Prototype 44 shape: torch.Size([1, 512, 1, 1]), task index: 0\n",
      "Distances shape: torch.Size([50, 512, 1, 1])\n",
      "Processed shape: torch.Size([50, 1024])\n",
      "Unsqueeze Prototype 45 shape: torch.Size([1, 512, 1, 1]), task index: 0\n",
      "Distances shape: torch.Size([50, 512, 1, 1])\n",
      "Processed shape: torch.Size([50, 1024])\n",
      "Unsqueeze Prototype 46 shape: torch.Size([1, 512, 1, 1]), task index: 0\n",
      "Distances shape: torch.Size([50, 512, 1, 1])\n",
      "Processed shape: torch.Size([50, 1024])\n",
      "Unsqueeze Prototype 47 shape: torch.Size([1, 512, 1, 1]), task index: 0\n",
      "Distances shape: torch.Size([50, 512, 1, 1])\n",
      "Processed shape: torch.Size([50, 1024])\n",
      "Unsqueeze Prototype 48 shape: torch.Size([1, 512, 1, 1]), task index: 0\n",
      "Distances shape: torch.Size([50, 512, 1, 1])\n",
      "Processed shape: torch.Size([50, 1024])\n",
      "Unsqueeze Prototype 49 shape: torch.Size([1, 512, 1, 1]), task index: 0\n",
      "Distances shape: torch.Size([50, 512, 1, 1])\n",
      "Processed shape: torch.Size([50, 1024])\n",
      "Concatenated outputs shape: torch.Size([50, 51200])\n"
     ]
    },
    {
     "ename": "RuntimeError",
     "evalue": "mat1 and mat2 shapes cannot be multiplied (50x51200 and 5120x1024)",
     "output_type": "error",
     "traceback": [
      "\u001b[1;31m---------------------------------------------------------------------------\u001b[0m",
      "\u001b[1;31mRuntimeError\u001b[0m                              Traceback (most recent call last)",
      "Cell \u001b[1;32mIn[17], line 108\u001b[0m\n\u001b[0;32m    105\u001b[0m dummy_input \u001b[38;5;241m=\u001b[39m torch\u001b[38;5;241m.\u001b[39mrandn(\u001b[38;5;241m50\u001b[39m, \u001b[38;5;241m3\u001b[39m, \u001b[38;5;241m100\u001b[39m, \u001b[38;5;241m100\u001b[39m)\n\u001b[0;32m    107\u001b[0m \u001b[38;5;66;03m# Forward pass through the model with dummy input\u001b[39;00m\n\u001b[1;32m--> 108\u001b[0m final_logits, task_logits \u001b[38;5;241m=\u001b[39m \u001b[43mmodel\u001b[49m\u001b[43m(\u001b[49m\u001b[43mdummy_input\u001b[49m\u001b[43m)\u001b[49m\n\u001b[0;32m    110\u001b[0m \u001b[38;5;66;03m# Print output shapes to verify\u001b[39;00m\n\u001b[0;32m    111\u001b[0m \u001b[38;5;28mprint\u001b[39m(\u001b[38;5;124m\"\u001b[39m\u001b[38;5;124mFinal logits shape:\u001b[39m\u001b[38;5;124m\"\u001b[39m, final_logits\u001b[38;5;241m.\u001b[39mshape)\n",
      "File \u001b[1;32md:\\Program_Files\\anaconda3\\envs\\torch\\lib\\site-packages\\torch\\nn\\modules\\module.py:1553\u001b[0m, in \u001b[0;36mModule._wrapped_call_impl\u001b[1;34m(self, *args, **kwargs)\u001b[0m\n\u001b[0;32m   1551\u001b[0m     \u001b[38;5;28;01mreturn\u001b[39;00m \u001b[38;5;28mself\u001b[39m\u001b[38;5;241m.\u001b[39m_compiled_call_impl(\u001b[38;5;241m*\u001b[39margs, \u001b[38;5;241m*\u001b[39m\u001b[38;5;241m*\u001b[39mkwargs)  \u001b[38;5;66;03m# type: ignore[misc]\u001b[39;00m\n\u001b[0;32m   1552\u001b[0m \u001b[38;5;28;01melse\u001b[39;00m:\n\u001b[1;32m-> 1553\u001b[0m     \u001b[38;5;28;01mreturn\u001b[39;00m \u001b[38;5;28;43mself\u001b[39;49m\u001b[38;5;241;43m.\u001b[39;49m\u001b[43m_call_impl\u001b[49m\u001b[43m(\u001b[49m\u001b[38;5;241;43m*\u001b[39;49m\u001b[43margs\u001b[49m\u001b[43m,\u001b[49m\u001b[43m \u001b[49m\u001b[38;5;241;43m*\u001b[39;49m\u001b[38;5;241;43m*\u001b[39;49m\u001b[43mkwargs\u001b[49m\u001b[43m)\u001b[49m\n",
      "File \u001b[1;32md:\\Program_Files\\anaconda3\\envs\\torch\\lib\\site-packages\\torch\\nn\\modules\\module.py:1562\u001b[0m, in \u001b[0;36mModule._call_impl\u001b[1;34m(self, *args, **kwargs)\u001b[0m\n\u001b[0;32m   1557\u001b[0m \u001b[38;5;66;03m# If we don't have any hooks, we want to skip the rest of the logic in\u001b[39;00m\n\u001b[0;32m   1558\u001b[0m \u001b[38;5;66;03m# this function, and just call forward.\u001b[39;00m\n\u001b[0;32m   1559\u001b[0m \u001b[38;5;28;01mif\u001b[39;00m \u001b[38;5;129;01mnot\u001b[39;00m (\u001b[38;5;28mself\u001b[39m\u001b[38;5;241m.\u001b[39m_backward_hooks \u001b[38;5;129;01mor\u001b[39;00m \u001b[38;5;28mself\u001b[39m\u001b[38;5;241m.\u001b[39m_backward_pre_hooks \u001b[38;5;129;01mor\u001b[39;00m \u001b[38;5;28mself\u001b[39m\u001b[38;5;241m.\u001b[39m_forward_hooks \u001b[38;5;129;01mor\u001b[39;00m \u001b[38;5;28mself\u001b[39m\u001b[38;5;241m.\u001b[39m_forward_pre_hooks\n\u001b[0;32m   1560\u001b[0m         \u001b[38;5;129;01mor\u001b[39;00m _global_backward_pre_hooks \u001b[38;5;129;01mor\u001b[39;00m _global_backward_hooks\n\u001b[0;32m   1561\u001b[0m         \u001b[38;5;129;01mor\u001b[39;00m _global_forward_hooks \u001b[38;5;129;01mor\u001b[39;00m _global_forward_pre_hooks):\n\u001b[1;32m-> 1562\u001b[0m     \u001b[38;5;28;01mreturn\u001b[39;00m \u001b[43mforward_call\u001b[49m\u001b[43m(\u001b[49m\u001b[38;5;241;43m*\u001b[39;49m\u001b[43margs\u001b[49m\u001b[43m,\u001b[49m\u001b[43m \u001b[49m\u001b[38;5;241;43m*\u001b[39;49m\u001b[38;5;241;43m*\u001b[39;49m\u001b[43mkwargs\u001b[49m\u001b[43m)\u001b[49m\n\u001b[0;32m   1564\u001b[0m \u001b[38;5;28;01mtry\u001b[39;00m:\n\u001b[0;32m   1565\u001b[0m     result \u001b[38;5;241m=\u001b[39m \u001b[38;5;28;01mNone\u001b[39;00m\n",
      "Cell \u001b[1;32mIn[17], line 73\u001b[0m, in \u001b[0;36mHybridProtoPNet.forward\u001b[1;34m(self, x)\u001b[0m\n\u001b[0;32m     70\u001b[0m task_outputs \u001b[38;5;241m=\u001b[39m [torch\u001b[38;5;241m.\u001b[39msigmoid(\u001b[38;5;28mself\u001b[39m\u001b[38;5;241m.\u001b[39mtask_specific_classifier[i](intermediate_outputs[i])) \u001b[38;5;28;01mfor\u001b[39;00m i \u001b[38;5;129;01min\u001b[39;00m \u001b[38;5;28mrange\u001b[39m(\u001b[38;5;28mlen\u001b[39m(\u001b[38;5;28mself\u001b[39m\u001b[38;5;241m.\u001b[39mtask_specific_layers))]\n\u001b[0;32m     72\u001b[0m \u001b[38;5;66;03m# Final malignancy or comprehensive prediction\u001b[39;00m\n\u001b[1;32m---> 73\u001b[0m final_output \u001b[38;5;241m=\u001b[39m torch\u001b[38;5;241m.\u001b[39msigmoid(\u001b[38;5;28;43mself\u001b[39;49m\u001b[38;5;241;43m.\u001b[39;49m\u001b[43mfinal_classifier\u001b[49m\u001b[43m(\u001b[49m\u001b[43mconcatenated_outputs\u001b[49m\u001b[43m)\u001b[49m)\n\u001b[0;32m     75\u001b[0m \u001b[38;5;28;01mreturn\u001b[39;00m final_output, task_outputs\n",
      "File \u001b[1;32md:\\Program_Files\\anaconda3\\envs\\torch\\lib\\site-packages\\torch\\nn\\modules\\module.py:1553\u001b[0m, in \u001b[0;36mModule._wrapped_call_impl\u001b[1;34m(self, *args, **kwargs)\u001b[0m\n\u001b[0;32m   1551\u001b[0m     \u001b[38;5;28;01mreturn\u001b[39;00m \u001b[38;5;28mself\u001b[39m\u001b[38;5;241m.\u001b[39m_compiled_call_impl(\u001b[38;5;241m*\u001b[39margs, \u001b[38;5;241m*\u001b[39m\u001b[38;5;241m*\u001b[39mkwargs)  \u001b[38;5;66;03m# type: ignore[misc]\u001b[39;00m\n\u001b[0;32m   1552\u001b[0m \u001b[38;5;28;01melse\u001b[39;00m:\n\u001b[1;32m-> 1553\u001b[0m     \u001b[38;5;28;01mreturn\u001b[39;00m \u001b[38;5;28;43mself\u001b[39;49m\u001b[38;5;241;43m.\u001b[39;49m\u001b[43m_call_impl\u001b[49m\u001b[43m(\u001b[49m\u001b[38;5;241;43m*\u001b[39;49m\u001b[43margs\u001b[49m\u001b[43m,\u001b[49m\u001b[43m \u001b[49m\u001b[38;5;241;43m*\u001b[39;49m\u001b[38;5;241;43m*\u001b[39;49m\u001b[43mkwargs\u001b[49m\u001b[43m)\u001b[49m\n",
      "File \u001b[1;32md:\\Program_Files\\anaconda3\\envs\\torch\\lib\\site-packages\\torch\\nn\\modules\\module.py:1562\u001b[0m, in \u001b[0;36mModule._call_impl\u001b[1;34m(self, *args, **kwargs)\u001b[0m\n\u001b[0;32m   1557\u001b[0m \u001b[38;5;66;03m# If we don't have any hooks, we want to skip the rest of the logic in\u001b[39;00m\n\u001b[0;32m   1558\u001b[0m \u001b[38;5;66;03m# this function, and just call forward.\u001b[39;00m\n\u001b[0;32m   1559\u001b[0m \u001b[38;5;28;01mif\u001b[39;00m \u001b[38;5;129;01mnot\u001b[39;00m (\u001b[38;5;28mself\u001b[39m\u001b[38;5;241m.\u001b[39m_backward_hooks \u001b[38;5;129;01mor\u001b[39;00m \u001b[38;5;28mself\u001b[39m\u001b[38;5;241m.\u001b[39m_backward_pre_hooks \u001b[38;5;129;01mor\u001b[39;00m \u001b[38;5;28mself\u001b[39m\u001b[38;5;241m.\u001b[39m_forward_hooks \u001b[38;5;129;01mor\u001b[39;00m \u001b[38;5;28mself\u001b[39m\u001b[38;5;241m.\u001b[39m_forward_pre_hooks\n\u001b[0;32m   1560\u001b[0m         \u001b[38;5;129;01mor\u001b[39;00m _global_backward_pre_hooks \u001b[38;5;129;01mor\u001b[39;00m _global_backward_hooks\n\u001b[0;32m   1561\u001b[0m         \u001b[38;5;129;01mor\u001b[39;00m _global_forward_hooks \u001b[38;5;129;01mor\u001b[39;00m _global_forward_pre_hooks):\n\u001b[1;32m-> 1562\u001b[0m     \u001b[38;5;28;01mreturn\u001b[39;00m \u001b[43mforward_call\u001b[49m\u001b[43m(\u001b[49m\u001b[38;5;241;43m*\u001b[39;49m\u001b[43margs\u001b[49m\u001b[43m,\u001b[49m\u001b[43m \u001b[49m\u001b[38;5;241;43m*\u001b[39;49m\u001b[38;5;241;43m*\u001b[39;49m\u001b[43mkwargs\u001b[49m\u001b[43m)\u001b[49m\n\u001b[0;32m   1564\u001b[0m \u001b[38;5;28;01mtry\u001b[39;00m:\n\u001b[0;32m   1565\u001b[0m     result \u001b[38;5;241m=\u001b[39m \u001b[38;5;28;01mNone\u001b[39;00m\n",
      "File \u001b[1;32md:\\Program_Files\\anaconda3\\envs\\torch\\lib\\site-packages\\torch\\nn\\modules\\container.py:219\u001b[0m, in \u001b[0;36mSequential.forward\u001b[1;34m(self, input)\u001b[0m\n\u001b[0;32m    217\u001b[0m \u001b[38;5;28;01mdef\u001b[39;00m \u001b[38;5;21mforward\u001b[39m(\u001b[38;5;28mself\u001b[39m, \u001b[38;5;28minput\u001b[39m):\n\u001b[0;32m    218\u001b[0m     \u001b[38;5;28;01mfor\u001b[39;00m module \u001b[38;5;129;01min\u001b[39;00m \u001b[38;5;28mself\u001b[39m:\n\u001b[1;32m--> 219\u001b[0m         \u001b[38;5;28minput\u001b[39m \u001b[38;5;241m=\u001b[39m \u001b[43mmodule\u001b[49m\u001b[43m(\u001b[49m\u001b[38;5;28;43minput\u001b[39;49m\u001b[43m)\u001b[49m\n\u001b[0;32m    220\u001b[0m     \u001b[38;5;28;01mreturn\u001b[39;00m \u001b[38;5;28minput\u001b[39m\n",
      "File \u001b[1;32md:\\Program_Files\\anaconda3\\envs\\torch\\lib\\site-packages\\torch\\nn\\modules\\module.py:1553\u001b[0m, in \u001b[0;36mModule._wrapped_call_impl\u001b[1;34m(self, *args, **kwargs)\u001b[0m\n\u001b[0;32m   1551\u001b[0m     \u001b[38;5;28;01mreturn\u001b[39;00m \u001b[38;5;28mself\u001b[39m\u001b[38;5;241m.\u001b[39m_compiled_call_impl(\u001b[38;5;241m*\u001b[39margs, \u001b[38;5;241m*\u001b[39m\u001b[38;5;241m*\u001b[39mkwargs)  \u001b[38;5;66;03m# type: ignore[misc]\u001b[39;00m\n\u001b[0;32m   1552\u001b[0m \u001b[38;5;28;01melse\u001b[39;00m:\n\u001b[1;32m-> 1553\u001b[0m     \u001b[38;5;28;01mreturn\u001b[39;00m \u001b[38;5;28;43mself\u001b[39;49m\u001b[38;5;241;43m.\u001b[39;49m\u001b[43m_call_impl\u001b[49m\u001b[43m(\u001b[49m\u001b[38;5;241;43m*\u001b[39;49m\u001b[43margs\u001b[49m\u001b[43m,\u001b[49m\u001b[43m \u001b[49m\u001b[38;5;241;43m*\u001b[39;49m\u001b[38;5;241;43m*\u001b[39;49m\u001b[43mkwargs\u001b[49m\u001b[43m)\u001b[49m\n",
      "File \u001b[1;32md:\\Program_Files\\anaconda3\\envs\\torch\\lib\\site-packages\\torch\\nn\\modules\\module.py:1562\u001b[0m, in \u001b[0;36mModule._call_impl\u001b[1;34m(self, *args, **kwargs)\u001b[0m\n\u001b[0;32m   1557\u001b[0m \u001b[38;5;66;03m# If we don't have any hooks, we want to skip the rest of the logic in\u001b[39;00m\n\u001b[0;32m   1558\u001b[0m \u001b[38;5;66;03m# this function, and just call forward.\u001b[39;00m\n\u001b[0;32m   1559\u001b[0m \u001b[38;5;28;01mif\u001b[39;00m \u001b[38;5;129;01mnot\u001b[39;00m (\u001b[38;5;28mself\u001b[39m\u001b[38;5;241m.\u001b[39m_backward_hooks \u001b[38;5;129;01mor\u001b[39;00m \u001b[38;5;28mself\u001b[39m\u001b[38;5;241m.\u001b[39m_backward_pre_hooks \u001b[38;5;129;01mor\u001b[39;00m \u001b[38;5;28mself\u001b[39m\u001b[38;5;241m.\u001b[39m_forward_hooks \u001b[38;5;129;01mor\u001b[39;00m \u001b[38;5;28mself\u001b[39m\u001b[38;5;241m.\u001b[39m_forward_pre_hooks\n\u001b[0;32m   1560\u001b[0m         \u001b[38;5;129;01mor\u001b[39;00m _global_backward_pre_hooks \u001b[38;5;129;01mor\u001b[39;00m _global_backward_hooks\n\u001b[0;32m   1561\u001b[0m         \u001b[38;5;129;01mor\u001b[39;00m _global_forward_hooks \u001b[38;5;129;01mor\u001b[39;00m _global_forward_pre_hooks):\n\u001b[1;32m-> 1562\u001b[0m     \u001b[38;5;28;01mreturn\u001b[39;00m \u001b[43mforward_call\u001b[49m\u001b[43m(\u001b[49m\u001b[38;5;241;43m*\u001b[39;49m\u001b[43margs\u001b[49m\u001b[43m,\u001b[49m\u001b[43m \u001b[49m\u001b[38;5;241;43m*\u001b[39;49m\u001b[38;5;241;43m*\u001b[39;49m\u001b[43mkwargs\u001b[49m\u001b[43m)\u001b[49m\n\u001b[0;32m   1564\u001b[0m \u001b[38;5;28;01mtry\u001b[39;00m:\n\u001b[0;32m   1565\u001b[0m     result \u001b[38;5;241m=\u001b[39m \u001b[38;5;28;01mNone\u001b[39;00m\n",
      "File \u001b[1;32md:\\Program_Files\\anaconda3\\envs\\torch\\lib\\site-packages\\torch\\nn\\modules\\linear.py:117\u001b[0m, in \u001b[0;36mLinear.forward\u001b[1;34m(self, input)\u001b[0m\n\u001b[0;32m    116\u001b[0m \u001b[38;5;28;01mdef\u001b[39;00m \u001b[38;5;21mforward\u001b[39m(\u001b[38;5;28mself\u001b[39m, \u001b[38;5;28minput\u001b[39m: Tensor) \u001b[38;5;241m-\u001b[39m\u001b[38;5;241m>\u001b[39m Tensor:\n\u001b[1;32m--> 117\u001b[0m     \u001b[38;5;28;01mreturn\u001b[39;00m \u001b[43mF\u001b[49m\u001b[38;5;241;43m.\u001b[39;49m\u001b[43mlinear\u001b[49m\u001b[43m(\u001b[49m\u001b[38;5;28;43minput\u001b[39;49m\u001b[43m,\u001b[49m\u001b[43m \u001b[49m\u001b[38;5;28;43mself\u001b[39;49m\u001b[38;5;241;43m.\u001b[39;49m\u001b[43mweight\u001b[49m\u001b[43m,\u001b[49m\u001b[43m \u001b[49m\u001b[38;5;28;43mself\u001b[39;49m\u001b[38;5;241;43m.\u001b[39;49m\u001b[43mbias\u001b[49m\u001b[43m)\u001b[49m\n",
      "\u001b[1;31mRuntimeError\u001b[0m: mat1 and mat2 shapes cannot be multiplied (50x51200 and 5120x1024)"
     ]
    }
   ],
   "source": [
    "import time\n",
    "import torch\n",
    "\n",
    "from helpers import list_of_distances, make_one_hot\n",
    "\n",
    "def _train_or_test(model, dataloader, optimizer=None, class_specific=True, use_l1_mask=True,\n",
    "                   coefs=None, log=print):\n",
    "    '''\n",
    "    model: the multi-gpu model\n",
    "    dataloader:\n",
    "    optimizer: if None, will be test evaluation\n",
    "    '''\n",
    "    is_train = optimizer is not None\n",
    "    start = time.time()\n",
    "    n_examples = 0\n",
    "    n_correct = 0\n",
    "    n_batches = 0\n",
    "    total_cross_entropy = 0\n",
    "    total_cluster_cost = 0\n",
    "    # separation cost is meaningful only for class_specific\n",
    "    total_separation_cost = 0\n",
    "    total_avg_separation_cost = 0\n",
    "\n",
    "    for i, (image, label) in enumerate(dataloader):\n",
    "        input = image.cuda()\n",
    "        target = label.cuda()\n",
    "\n",
    "        # torch.enable_grad() has no effect outside of no_grad()\n",
    "        grad_req = torch.enable_grad() if is_train else torch.no_grad()\n",
    "        with grad_req:\n",
    "            # nn.Module has implemented __call__() function\n",
    "            # so no need to call .forward\n",
    "            output, min_distances = model(input)\n",
    "\n",
    "            # compute loss\n",
    "            cross_entropy = torch.nn.functional.cross_entropy(output, target)\n",
    "\n",
    "            if class_specific:\n",
    "                max_dist = (model.module.prototype_shape[1]\n",
    "                            * model.module.prototype_shape[2]\n",
    "                            * model.module.prototype_shape[3])\n",
    "\n",
    "                # prototypes_of_correct_class is a tensor of shape batch_size * num_prototypes\n",
    "                # calculate cluster cost\n",
    "                prototypes_of_correct_class = torch.t(model.module.prototype_class_identity[:,label]).cuda()\n",
    "                inverted_distances, _ = torch.max((max_dist - min_distances) * prototypes_of_correct_class, dim=1)\n",
    "                cluster_cost = torch.mean(max_dist - inverted_distances)\n",
    "\n",
    "                # calculate separation cost\n",
    "                prototypes_of_wrong_class = 1 - prototypes_of_correct_class\n",
    "                inverted_distances_to_nontarget_prototypes, _ = \\\n",
    "                    torch.max((max_dist - min_distances) * prototypes_of_wrong_class, dim=1)\n",
    "                separation_cost = torch.mean(max_dist - inverted_distances_to_nontarget_prototypes)\n",
    "\n",
    "                # calculate avg cluster cost\n",
    "                avg_separation_cost = \\\n",
    "                    torch.sum(min_distances * prototypes_of_wrong_class, dim=1) / torch.sum(prototypes_of_wrong_class, dim=1)\n",
    "                avg_separation_cost = torch.mean(avg_separation_cost)\n",
    "                \n",
    "                if use_l1_mask:\n",
    "                    l1_mask = 1 - torch.t(model.module.prototype_class_identity).cuda()\n",
    "                    l1 = (model.module.last_layer.weight * l1_mask).norm(p=1)\n",
    "                else:\n",
    "                    l1 = model.module.last_layer.weight.norm(p=1) \n",
    "\n",
    "            else:\n",
    "                min_distance, _ = torch.min(min_distances, dim=1)\n",
    "                cluster_cost = torch.mean(min_distance)\n",
    "                l1 = model.module.last_layer.weight.norm(p=1)\n",
    "\n",
    "            # evaluation statistics\n",
    "            _, predicted = torch.max(output.data, 1)\n",
    "            n_examples += target.size(0)\n",
    "            n_correct += (predicted == target).sum().item()\n",
    "\n",
    "            n_batches += 1\n",
    "            total_cross_entropy += cross_entropy.item()\n",
    "            total_cluster_cost += cluster_cost.item()\n",
    "            total_separation_cost += separation_cost.item()\n",
    "            total_avg_separation_cost += avg_separation_cost.item()\n",
    "\n",
    "        # compute gradient and do SGD step\n",
    "        if is_train:\n",
    "            if class_specific:\n",
    "                if coefs is not None:\n",
    "                    loss = (coefs['crs_ent'] * cross_entropy\n",
    "                          + coefs['clst'] * cluster_cost\n",
    "                          + coefs['sep'] * separation_cost\n",
    "                          + coefs['l1'] * l1)\n",
    "                else:\n",
    "                    loss = cross_entropy + 0.8 * cluster_cost - 0.08 * separation_cost + 1e-4 * l1\n",
    "            else:\n",
    "                if coefs is not None:\n",
    "                    loss = (coefs['crs_ent'] * cross_entropy\n",
    "                          + coefs['clst'] * cluster_cost\n",
    "                          + coefs['l1'] * l1)\n",
    "                else:\n",
    "                    loss = cross_entropy + 0.8 * cluster_cost + 1e-4 * l1\n",
    "            optimizer.zero_grad()\n",
    "            loss.backward()\n",
    "            optimizer.step()\n",
    "\n",
    "        del input\n",
    "        del target\n",
    "        del output\n",
    "        del predicted\n",
    "        del min_distances\n",
    "\n",
    "    end = time.time()\n",
    "\n",
    "    log('\\ttime: \\t{0}'.format(end -  start))\n",
    "    log('\\tcross ent: \\t{0}'.format(total_cross_entropy / n_batches))\n",
    "    log('\\tcluster: \\t{0}'.format(total_cluster_cost / n_batches))\n",
    "    if class_specific:\n",
    "        log('\\tseparation:\\t{0}'.format(total_separation_cost / n_batches))\n",
    "        log('\\tavg separation:\\t{0}'.format(total_avg_separation_cost / n_batches))\n",
    "    log('\\taccu: \\t\\t{0}%'.format(n_correct / n_examples * 100))\n",
    "    log('\\tl1: \\t\\t{0}'.format(model.module.last_layer.weight.norm(p=1).item()))\n",
    "    p = model.module.prototype_vectors.view(model.module.num_prototypes, -1).cpu()\n",
    "    with torch.no_grad():\n",
    "        p_avg_pair_dist = torch.mean(list_of_distances(p, p))\n",
    "    log('\\tp dist pair: \\t{0}'.format(p_avg_pair_dist.item()))\n",
    "\n",
    "    return n_correct / n_examples\n",
    "\n",
    "\n",
    "def train(model, dataloader, optimizer, class_specific=False, coefs=None, log=print):\n",
    "    assert(optimizer is not None)\n",
    "    \n",
    "    log('\\ttrain')\n",
    "    model.train()\n",
    "    return _train_or_test(model=model, dataloader=dataloader, optimizer=optimizer,\n",
    "                          class_specific=class_specific, coefs=coefs, log=log)\n",
    "\n",
    "\n",
    "def test(model, dataloader, class_specific=False, log=print):\n",
    "    log('\\ttest')\n",
    "    model.eval()\n",
    "    return _train_or_test(model=model, dataloader=dataloader, optimizer=None,\n",
    "                          class_specific=class_specific, log=log)\n",
    "\n",
    "\n",
    "def last_only(model, log=print):\n",
    "    for p in model.module.features.parameters():\n",
    "        p.requires_grad = False\n",
    "    for p in model.module.add_on_layers.parameters():\n",
    "        p.requires_grad = False\n",
    "    model.module.prototype_vectors.requires_grad = False\n",
    "    for p in model.module.last_layer.parameters():\n",
    "        p.requires_grad = True\n",
    "    \n",
    "    log('\\tlast layer')\n",
    "\n",
    "\n",
    "def warm_only(model, log=print):\n",
    "    for p in model.module.features.parameters():\n",
    "        p.requires_grad = False\n",
    "    for p in model.module.add_on_layers.parameters():\n",
    "        p.requires_grad = True\n",
    "    model.module.prototype_vectors.requires_grad = True\n",
    "    for p in model.module.last_layer.parameters():\n",
    "        p.requires_grad = True\n",
    "    \n",
    "    log('\\twarm')\n",
    "\n",
    "\n",
    "def joint(model, log=print):\n",
    "    for p in model.module.features.parameters():\n",
    "        p.requires_grad = True\n",
    "    for p in model.module.add_on_layers.parameters():\n",
    "        p.requires_grad = True\n",
    "    model.module.prototype_vectors.requires_grad = True\n",
    "    for p in model.module.last_layer.parameters():\n",
    "        p.requires_grad = True\n",
    "    \n",
    "    log('\\tjoint')"
   ]
  },
  {
   "cell_type": "code",
   "execution_count": 1,
   "metadata": {},
   "outputs": [],
   "source": [
    "from tqdm import tqdm\n",
    "import torch\n",
    "from torch.utils.data import DataLoader\n",
    "from torch.optim import optimizer\n",
    "import torch.nn.functional as F\n",
    "from sklearn.metrics import balanced_accuracy_score, f1_score, precision_score, recall_score, roc_auc_score\n",
    "\n",
    "def _train_or_test(model, data_loader, optimizer, device, is_train=True, use_l1_mask=True, coefs=None, task_weights=None):\n",
    "    model.to(device)\n",
    "    if is_train:\n",
    "        model.train()\n",
    "    else:\n",
    "        model.eval()\n",
    "    \n",
    "    total_loss = 0\n",
    "    \n",
    "    total_correct = [0] * 5  # For tasks\n",
    "    total_samples = [0] * 5  # For tasks\n",
    "    \n",
    "    task_cross_entropy = [0.0] * 5\n",
    "    task_cluster_cost = [0.0] * 5\n",
    "    task_separation_cost = [0.0] * 5\n",
    "    task_avg_separation_cost = [0.0] * 5\n",
    "    task_l1 = [0.0] * 5\n",
    "    final_pred_targets = [[] for _ in range(5)]\n",
    "    final_pred_outputs = [[] for _ in range(5)]\n",
    "    \n",
    "    final_correct = 0  # For final output\n",
    "    final_samples = 0  # For final output\n",
    "    final_targets = []  # For calculating balanced accuracy for final output\n",
    "    final_outputs = []  # For calculating balanced accuracy for final output\n",
    "    \n",
    "    n_batches = 0\n",
    "    context = torch.enable_grad() if is_train else torch.no_grad()\n",
    "    with context:\n",
    "        for X, targets, bweights_chars, final_target, bweight in tqdm(data_loader, leave=False):\n",
    "            X = X.to(device)\n",
    "            bweights_chars = [b.float().to(device) for b in bweights_chars]\n",
    "            \n",
    "            targets2 = [F.one_hot(t.squeeze(), num_classes=2).float().to(device) for t in targets]\n",
    "            targets = [t.squeeze().to(device) for t in targets]\n",
    "            final_target = final_target.float().unsqueeze(1).to(device)\n",
    "            bweight = bweight.float().unsqueeze(1).to(device)\n",
    "            \n",
    "            final_output, task_outputs, min_distances = model(X)\n",
    "            \n",
    "            batch_loss = 0.0\n",
    "            for i, (task_output, min_distance, target, bweight_char) in enumerate(zip(task_outputs, min_distances, targets, bweights_chars)):\n",
    "                # Get the prototype identity for each characteristic\n",
    "                prototype_char_identity = model.prototype_class_identity[i].to(device)\n",
    "                \n",
    "                # Get the max distance between prototypes\n",
    "                max_dist = (model.prototype_shape[1] * model.prototype_shape[2] * model.prototype_shape[3])\n",
    "                \n",
    "                # Compute cross entropy cost for each characteristic\n",
    "                cross_entropy = torch.nn.functional.cross_entropy(task_output, target, weight=bweight_char[0])\n",
    "\n",
    "                # Compute cluster cost for each characteristic\n",
    "                prototypes_of_correct_class = torch.t(prototype_char_identity[:,target]).to(device)    # batch_size * num_prototypes\n",
    "                inverted_distances, _ = torch.max((max_dist - min_distance) * prototypes_of_correct_class, dim=1)\n",
    "                cluster_cost = torch.mean(max_dist - inverted_distances) # Increase the distance between the prototypes of the same class\n",
    "\n",
    "                # Compute separation cost for each characteristic\n",
    "                prototypes_of_wrong_class = 1 - prototypes_of_correct_class\n",
    "                inverted_distances_to_nontarget_prototypes, _ = torch.max((max_dist - min_distance) * prototypes_of_wrong_class, dim=1)\n",
    "                separation_cost = torch.mean(max_dist - inverted_distances_to_nontarget_prototypes) # Decrease the distance between the prototypes of different classes\n",
    "\n",
    "                # Compute average separation cost for each characteristic\n",
    "                avg_separation_cost = torch.sum(min_distance * prototypes_of_wrong_class, dim=1) / torch.sum(prototypes_of_wrong_class, dim=1)\n",
    "                avg_separation_cost = torch.mean(avg_separation_cost)\n",
    "                \n",
    "                # Compute l1 regularization for each characteristic\n",
    "                if use_l1_mask:\n",
    "                    l1_mask = 1 - torch.t(prototype_char_identity).to(device)\n",
    "                    l1 = (model.task_specific_classifier[i].weight * l1_mask).norm(p=1)\n",
    "                else:\n",
    "                    l1 = model.task_specific_classifier[i].weight.norm(p=1) \n",
    "                    \n",
    "                # Compute accuracy for each characteristic\n",
    "                preds = task_output.argmax(dim=1)\n",
    "                total_correct[i] += (preds == target).sum().item()\n",
    "                total_samples[i] += target.size(0)\n",
    "                \n",
    "                # Collect data for balanced accuracy for each characteristic\n",
    "                final_pred_targets[i].extend(target.cpu().numpy())\n",
    "                final_pred_outputs[i].extend(preds.detach().cpu().numpy())\n",
    "\n",
    "                task_cross_entropy[i] += cross_entropy.item()\n",
    "                task_cluster_cost[i] += cluster_cost.item()\n",
    "                task_separation_cost[i] += separation_cost.item()\n",
    "                task_avg_separation_cost[i] += avg_separation_cost.item()\n",
    "                task_l1[i] += l1\n",
    "                \n",
    "                batch_loss += (coefs['crs_ent'] * cross_entropy + \n",
    "                               coefs['clst'] * cluster_cost + \n",
    "                               coefs['sep'] * separation_cost +\n",
    "                               coefs['l1'] * l1)\n",
    "\n",
    "            # Compute binary cross entropy loss for final output\n",
    "            final_loss = torch.nn.functional.binary_cross_entropy(final_output, final_target, weight=bweight)\n",
    "            batch_loss += final_loss\n",
    "            \n",
    "            # Compute statistics for final accuracy\n",
    "            final_preds = final_output.round()\n",
    "            final_correct += (final_preds == final_target).sum().item()\n",
    "            final_samples += final_target.size(0)\n",
    "            final_targets.extend(final_target.cpu().numpy())\n",
    "            final_outputs.extend(final_preds.detach().cpu().numpy())\n",
    "            \n",
    "            total_loss += batch_loss.item()  # Sum up total loss\n",
    "            \n",
    "            # compute gradient and do SGD step\n",
    "            if is_train:\n",
    "                optimizer.zero_grad()\n",
    "                batch_loss.backward()\n",
    "                optimizer.step()\n",
    "                \n",
    "            n_batches += 1\n",
    "    \n",
    "    # TODO: Add the seperate characteristic losses to the return dictionary, and include final F1 score, final precision, final recall, and final AUC\n",
    "    average_loss = total_loss / n_batches\n",
    "    task_accuracies = [correct / samples for correct, samples in zip(total_correct, total_samples)]\n",
    "    task_balanced_accuracies = [balanced_accuracy_score(targets, outputs) for targets, outputs in zip(final_pred_targets, final_pred_outputs)]\n",
    "    final_accuracy = final_correct / final_samples\n",
    "    final_balanced_accuracy = balanced_accuracy_score(final_targets, final_outputs)\n",
    "    # final_f1 = f1_score(final_targets, final_outputs)\n",
    "    # final_precision = precision_score(final_targets, final_outputs)\n",
    "    # final_recall = recall_score(final_targets, final_outputs)\n",
    "    # final_auc = roc_auc_score(final_targets, final_outputs)\n",
    "    \n",
    "    # task_cross_entropy = [t / n_batches for t in task_cross_entropy]\n",
    "    # task_cluster_cost = [t / n_batches for t in task_cluster_cost]\n",
    "    # task_separation_cost = [t / n_batches for t in task_separation_cost]\n",
    "    # task_avg_separation_cost = [t / n_batches for t in task_avg_separation_cost]\n",
    "    # task_l1 = [t / n_batches for t in task_l1]\n",
    "    \n",
    "    # return the metrics as a dictionary\n",
    "    metrics = {'average_loss': average_loss, \n",
    "               'task_accuracies': task_accuracies, \n",
    "               'task_balanced_accuracies': task_balanced_accuracies, \n",
    "               'final_accuracy': final_accuracy, \n",
    "               'final_balanced_accuracy': final_balanced_accuracy}\n",
    "               # 'task_cross_entropy': task_cross_entropy,\n",
    "               # 'task_cluster_cost': task_cluster_cost,\n",
    "               # 'task_separation_cost': task_separation_cost,\n",
    "               # 'task_avg_separation_cost': task_avg_separation_cost,\n",
    "               # 'task_l1': task_l1}\n",
    "    \n",
    "    if is_train:\n",
    "        return metrics\n",
    "    else:\n",
    "        return metrics\n",
    "\n",
    "def train_ppnet(model, data_loader, optimizer, device, use_l1_mask=True, coefs=None, task_weights=None):\n",
    "    train_metrics = _train_or_test(model, data_loader, optimizer, device, is_train=True, use_l1_mask=use_l1_mask, coefs=coefs, task_weights=task_weights)\n",
    "    print(f\"Train loss: {train_metrics['average_loss']:.5f}\")\n",
    "    for i, (acc, bal_acc) in enumerate(zip(train_metrics['task_accuracies'], train_metrics['task_balanced_accuracies']), 1):\n",
    "        print(f\"Task {i} - Train Accuracy: {acc*100:.2f}%, Train Balanced Accuracy: {bal_acc*100:.2f}%\")\n",
    "    # Print the metrics for the final output\n",
    "    print(f\"Final Output - Train Accuracy: {train_metrics['final_accuracy']*100:.2f}%, Train Balanced Accuracy: {train_metrics['final_balanced_accuracy']*100:.2f}%\")\n",
    "    return train_metrics\n",
    "\n",
    "def test_ppnet(model, data_loader, device, use_l1_mask=True, coefs=None, task_weights=None):\n",
    "    test_metrics = _train_or_test(model, data_loader, None, device, is_train=False, use_l1_mask=use_l1_mask, coefs=coefs, task_weights=task_weights)\n",
    "    print(f\"Test loss: {test_metrics['average_loss']:.5f}\")\n",
    "    for i, (acc, bal_acc) in enumerate(zip(test_metrics['task_accuracies'], test_metrics['task_balanced_accuracies']), 1):\n",
    "        print(f\"Task {i} - Test Accuracy: {acc*100:.2f}%, Test Balanced Accuracy: {bal_acc*100:.2f}%\")\n",
    "    # Print the metrics for the final output\n",
    "    print(f\"Final Output - Test Accuracy: {test_metrics['final_accuracy']*100:.2f}%, Test Balanced Accuracy: {test_metrics['final_balanced_accuracy']*100:.2f}%\")\n",
    "    return test_metrics\n",
    "            \n",
    "def last_only(model):\n",
    "    for p in model.features.parameters():\n",
    "        p.requires_grad = False\n",
    "    for p in model.add_on_layers.parameters():\n",
    "        p.requires_grad = False\n",
    "    model.prototype_vectors.requires_grad = False\n",
    "    for p in model.task_specific_classifier.parameters():\n",
    "        p.requires_grad = True\n",
    "    for p in model.final_classifier.parameters():\n",
    "        p.requires_grad = True\n",
    "\n",
    "def warm_only(model):\n",
    "    for p in model.features.parameters():\n",
    "        p.requires_grad = False\n",
    "    for p in model.add_on_layers.parameters():\n",
    "        p.requires_grad = True\n",
    "    model.prototype_vectors.requires_grad = False\n",
    "    for p in model.task_specific_classifier.parameters():\n",
    "        p.requires_grad = True\n",
    "    for p in model.final_classifier.parameters():\n",
    "        p.requires_grad = True\n",
    "        \n",
    "def joint(model):\n",
    "    for p in model.features.parameters():\n",
    "        p.requires_grad = True\n",
    "    for p in model.add_on_layers.parameters():\n",
    "        p.requires_grad = True\n",
    "    model.prototype_vectors.requires_grad = False\n",
    "    for p in model.task_specific_classifier.parameters():\n",
    "        p.requires_grad = True\n",
    "    for p in model.final_classifier.parameters():\n",
    "        p.requires_grad = True\n",
    "    "
   ]
  },
  {
   "cell_type": "code",
   "execution_count": 10,
   "metadata": {},
   "outputs": [
    {
     "name": "stdout",
     "output_type": "stream",
     "text": [
      "Total number of parameters:  7778845\n",
      "torch.Size([10, 20])\n",
      "torch.Size([10, 20])\n",
      "torch.Size([10, 20])\n",
      "torch.Size([10, 20])\n",
      "torch.Size([10, 20])\n",
      "torch.Size([10, 100])\n"
     ]
    },
    {
     "ename": "RuntimeError",
     "evalue": "mat1 and mat2 shapes cannot be multiplied (10x100 and 10x1)",
     "output_type": "error",
     "traceback": [
      "\u001b[1;31m---------------------------------------------------------------------------\u001b[0m",
      "\u001b[1;31mRuntimeError\u001b[0m                              Traceback (most recent call last)",
      "Cell \u001b[1;32mIn[10], line 272\u001b[0m\n\u001b[0;32m    269\u001b[0m dummy_input \u001b[38;5;241m=\u001b[39m torch\u001b[38;5;241m.\u001b[39mrandn(\u001b[38;5;241m10\u001b[39m, \u001b[38;5;241m3\u001b[39m, \u001b[38;5;241m100\u001b[39m, \u001b[38;5;241m100\u001b[39m)\n\u001b[0;32m    271\u001b[0m \u001b[38;5;66;03m# Forward pass through the model with dummy input\u001b[39;00m\n\u001b[1;32m--> 272\u001b[0m final_output, task_logits, min_distances \u001b[38;5;241m=\u001b[39m \u001b[43mmodel\u001b[49m\u001b[43m(\u001b[49m\u001b[43mdummy_input\u001b[49m\u001b[43m)\u001b[49m\n\u001b[0;32m    274\u001b[0m \u001b[38;5;66;03m# Print output shapes to verify\u001b[39;00m\n\u001b[0;32m    275\u001b[0m \u001b[38;5;28mprint\u001b[39m(\u001b[38;5;124m\"\u001b[39m\u001b[38;5;124mtask_logits shape:\u001b[39m\u001b[38;5;124m\"\u001b[39m, [task_logit\u001b[38;5;241m.\u001b[39mshape \u001b[38;5;28;01mfor\u001b[39;00m task_logit \u001b[38;5;129;01min\u001b[39;00m task_logits])  \n",
      "File \u001b[1;32md:\\Program_Files\\anaconda3\\envs\\torch\\lib\\site-packages\\torch\\nn\\modules\\module.py:1553\u001b[0m, in \u001b[0;36mModule._wrapped_call_impl\u001b[1;34m(self, *args, **kwargs)\u001b[0m\n\u001b[0;32m   1551\u001b[0m     \u001b[38;5;28;01mreturn\u001b[39;00m \u001b[38;5;28mself\u001b[39m\u001b[38;5;241m.\u001b[39m_compiled_call_impl(\u001b[38;5;241m*\u001b[39margs, \u001b[38;5;241m*\u001b[39m\u001b[38;5;241m*\u001b[39mkwargs)  \u001b[38;5;66;03m# type: ignore[misc]\u001b[39;00m\n\u001b[0;32m   1552\u001b[0m \u001b[38;5;28;01melse\u001b[39;00m:\n\u001b[1;32m-> 1553\u001b[0m     \u001b[38;5;28;01mreturn\u001b[39;00m \u001b[38;5;28;43mself\u001b[39;49m\u001b[38;5;241;43m.\u001b[39;49m\u001b[43m_call_impl\u001b[49m\u001b[43m(\u001b[49m\u001b[38;5;241;43m*\u001b[39;49m\u001b[43margs\u001b[49m\u001b[43m,\u001b[49m\u001b[43m \u001b[49m\u001b[38;5;241;43m*\u001b[39;49m\u001b[38;5;241;43m*\u001b[39;49m\u001b[43mkwargs\u001b[49m\u001b[43m)\u001b[49m\n",
      "File \u001b[1;32md:\\Program_Files\\anaconda3\\envs\\torch\\lib\\site-packages\\torch\\nn\\modules\\module.py:1562\u001b[0m, in \u001b[0;36mModule._call_impl\u001b[1;34m(self, *args, **kwargs)\u001b[0m\n\u001b[0;32m   1557\u001b[0m \u001b[38;5;66;03m# If we don't have any hooks, we want to skip the rest of the logic in\u001b[39;00m\n\u001b[0;32m   1558\u001b[0m \u001b[38;5;66;03m# this function, and just call forward.\u001b[39;00m\n\u001b[0;32m   1559\u001b[0m \u001b[38;5;28;01mif\u001b[39;00m \u001b[38;5;129;01mnot\u001b[39;00m (\u001b[38;5;28mself\u001b[39m\u001b[38;5;241m.\u001b[39m_backward_hooks \u001b[38;5;129;01mor\u001b[39;00m \u001b[38;5;28mself\u001b[39m\u001b[38;5;241m.\u001b[39m_backward_pre_hooks \u001b[38;5;129;01mor\u001b[39;00m \u001b[38;5;28mself\u001b[39m\u001b[38;5;241m.\u001b[39m_forward_hooks \u001b[38;5;129;01mor\u001b[39;00m \u001b[38;5;28mself\u001b[39m\u001b[38;5;241m.\u001b[39m_forward_pre_hooks\n\u001b[0;32m   1560\u001b[0m         \u001b[38;5;129;01mor\u001b[39;00m _global_backward_pre_hooks \u001b[38;5;129;01mor\u001b[39;00m _global_backward_hooks\n\u001b[0;32m   1561\u001b[0m         \u001b[38;5;129;01mor\u001b[39;00m _global_forward_hooks \u001b[38;5;129;01mor\u001b[39;00m _global_forward_pre_hooks):\n\u001b[1;32m-> 1562\u001b[0m     \u001b[38;5;28;01mreturn\u001b[39;00m \u001b[43mforward_call\u001b[49m\u001b[43m(\u001b[49m\u001b[38;5;241;43m*\u001b[39;49m\u001b[43margs\u001b[49m\u001b[43m,\u001b[49m\u001b[43m \u001b[49m\u001b[38;5;241;43m*\u001b[39;49m\u001b[38;5;241;43m*\u001b[39;49m\u001b[43mkwargs\u001b[49m\u001b[43m)\u001b[49m\n\u001b[0;32m   1564\u001b[0m \u001b[38;5;28;01mtry\u001b[39;00m:\n\u001b[0;32m   1565\u001b[0m     result \u001b[38;5;241m=\u001b[39m \u001b[38;5;28;01mNone\u001b[39;00m\n",
      "Cell \u001b[1;32mIn[10], line 207\u001b[0m, in \u001b[0;36mPPNet.forward\u001b[1;34m(self, x)\u001b[0m\n\u001b[0;32m    204\u001b[0m \u001b[38;5;66;03m# Concatenate task distances for the final classifier\u001b[39;00m\n\u001b[0;32m    205\u001b[0m \u001b[38;5;66;03m# final_output = torch.sigmoid(self.final_classifier(torch.cat(distances, dim=1))) # TODO: Use intermediate task logits instead of distances and feature extractor output\u001b[39;00m\n\u001b[0;32m    206\u001b[0m \u001b[38;5;28mprint\u001b[39m(torch\u001b[38;5;241m.\u001b[39mcat(similarities, dim\u001b[38;5;241m=\u001b[39m\u001b[38;5;241m1\u001b[39m)\u001b[38;5;241m.\u001b[39mshape)\n\u001b[1;32m--> 207\u001b[0m final_output \u001b[38;5;241m=\u001b[39m torch\u001b[38;5;241m.\u001b[39msigmoid(\u001b[38;5;28;43mself\u001b[39;49m\u001b[38;5;241;43m.\u001b[39;49m\u001b[43mfinal_classifier\u001b[49m\u001b[43m(\u001b[49m\u001b[43mtorch\u001b[49m\u001b[38;5;241;43m.\u001b[39;49m\u001b[43mcat\u001b[49m\u001b[43m(\u001b[49m\u001b[43msimilarities\u001b[49m\u001b[43m,\u001b[49m\u001b[43m \u001b[49m\u001b[43mdim\u001b[49m\u001b[38;5;241;43m=\u001b[39;49m\u001b[38;5;241;43m1\u001b[39;49m\u001b[43m)\u001b[49m\u001b[43m)\u001b[49m)\n\u001b[0;32m    208\u001b[0m \u001b[38;5;28;01mreturn\u001b[39;00m final_output, task_logits, min_distances\n",
      "File \u001b[1;32md:\\Program_Files\\anaconda3\\envs\\torch\\lib\\site-packages\\torch\\nn\\modules\\module.py:1553\u001b[0m, in \u001b[0;36mModule._wrapped_call_impl\u001b[1;34m(self, *args, **kwargs)\u001b[0m\n\u001b[0;32m   1551\u001b[0m     \u001b[38;5;28;01mreturn\u001b[39;00m \u001b[38;5;28mself\u001b[39m\u001b[38;5;241m.\u001b[39m_compiled_call_impl(\u001b[38;5;241m*\u001b[39margs, \u001b[38;5;241m*\u001b[39m\u001b[38;5;241m*\u001b[39mkwargs)  \u001b[38;5;66;03m# type: ignore[misc]\u001b[39;00m\n\u001b[0;32m   1552\u001b[0m \u001b[38;5;28;01melse\u001b[39;00m:\n\u001b[1;32m-> 1553\u001b[0m     \u001b[38;5;28;01mreturn\u001b[39;00m \u001b[38;5;28;43mself\u001b[39;49m\u001b[38;5;241;43m.\u001b[39;49m\u001b[43m_call_impl\u001b[49m\u001b[43m(\u001b[49m\u001b[38;5;241;43m*\u001b[39;49m\u001b[43margs\u001b[49m\u001b[43m,\u001b[49m\u001b[43m \u001b[49m\u001b[38;5;241;43m*\u001b[39;49m\u001b[38;5;241;43m*\u001b[39;49m\u001b[43mkwargs\u001b[49m\u001b[43m)\u001b[49m\n",
      "File \u001b[1;32md:\\Program_Files\\anaconda3\\envs\\torch\\lib\\site-packages\\torch\\nn\\modules\\module.py:1562\u001b[0m, in \u001b[0;36mModule._call_impl\u001b[1;34m(self, *args, **kwargs)\u001b[0m\n\u001b[0;32m   1557\u001b[0m \u001b[38;5;66;03m# If we don't have any hooks, we want to skip the rest of the logic in\u001b[39;00m\n\u001b[0;32m   1558\u001b[0m \u001b[38;5;66;03m# this function, and just call forward.\u001b[39;00m\n\u001b[0;32m   1559\u001b[0m \u001b[38;5;28;01mif\u001b[39;00m \u001b[38;5;129;01mnot\u001b[39;00m (\u001b[38;5;28mself\u001b[39m\u001b[38;5;241m.\u001b[39m_backward_hooks \u001b[38;5;129;01mor\u001b[39;00m \u001b[38;5;28mself\u001b[39m\u001b[38;5;241m.\u001b[39m_backward_pre_hooks \u001b[38;5;129;01mor\u001b[39;00m \u001b[38;5;28mself\u001b[39m\u001b[38;5;241m.\u001b[39m_forward_hooks \u001b[38;5;129;01mor\u001b[39;00m \u001b[38;5;28mself\u001b[39m\u001b[38;5;241m.\u001b[39m_forward_pre_hooks\n\u001b[0;32m   1560\u001b[0m         \u001b[38;5;129;01mor\u001b[39;00m _global_backward_pre_hooks \u001b[38;5;129;01mor\u001b[39;00m _global_backward_hooks\n\u001b[0;32m   1561\u001b[0m         \u001b[38;5;129;01mor\u001b[39;00m _global_forward_hooks \u001b[38;5;129;01mor\u001b[39;00m _global_forward_pre_hooks):\n\u001b[1;32m-> 1562\u001b[0m     \u001b[38;5;28;01mreturn\u001b[39;00m \u001b[43mforward_call\u001b[49m\u001b[43m(\u001b[49m\u001b[38;5;241;43m*\u001b[39;49m\u001b[43margs\u001b[49m\u001b[43m,\u001b[49m\u001b[43m \u001b[49m\u001b[38;5;241;43m*\u001b[39;49m\u001b[38;5;241;43m*\u001b[39;49m\u001b[43mkwargs\u001b[49m\u001b[43m)\u001b[49m\n\u001b[0;32m   1564\u001b[0m \u001b[38;5;28;01mtry\u001b[39;00m:\n\u001b[0;32m   1565\u001b[0m     result \u001b[38;5;241m=\u001b[39m \u001b[38;5;28;01mNone\u001b[39;00m\n",
      "File \u001b[1;32md:\\Program_Files\\anaconda3\\envs\\torch\\lib\\site-packages\\torch\\nn\\modules\\container.py:219\u001b[0m, in \u001b[0;36mSequential.forward\u001b[1;34m(self, input)\u001b[0m\n\u001b[0;32m    217\u001b[0m \u001b[38;5;28;01mdef\u001b[39;00m \u001b[38;5;21mforward\u001b[39m(\u001b[38;5;28mself\u001b[39m, \u001b[38;5;28minput\u001b[39m):\n\u001b[0;32m    218\u001b[0m     \u001b[38;5;28;01mfor\u001b[39;00m module \u001b[38;5;129;01min\u001b[39;00m \u001b[38;5;28mself\u001b[39m:\n\u001b[1;32m--> 219\u001b[0m         \u001b[38;5;28minput\u001b[39m \u001b[38;5;241m=\u001b[39m \u001b[43mmodule\u001b[49m\u001b[43m(\u001b[49m\u001b[38;5;28;43minput\u001b[39;49m\u001b[43m)\u001b[49m\n\u001b[0;32m    220\u001b[0m     \u001b[38;5;28;01mreturn\u001b[39;00m \u001b[38;5;28minput\u001b[39m\n",
      "File \u001b[1;32md:\\Program_Files\\anaconda3\\envs\\torch\\lib\\site-packages\\torch\\nn\\modules\\module.py:1553\u001b[0m, in \u001b[0;36mModule._wrapped_call_impl\u001b[1;34m(self, *args, **kwargs)\u001b[0m\n\u001b[0;32m   1551\u001b[0m     \u001b[38;5;28;01mreturn\u001b[39;00m \u001b[38;5;28mself\u001b[39m\u001b[38;5;241m.\u001b[39m_compiled_call_impl(\u001b[38;5;241m*\u001b[39margs, \u001b[38;5;241m*\u001b[39m\u001b[38;5;241m*\u001b[39mkwargs)  \u001b[38;5;66;03m# type: ignore[misc]\u001b[39;00m\n\u001b[0;32m   1552\u001b[0m \u001b[38;5;28;01melse\u001b[39;00m:\n\u001b[1;32m-> 1553\u001b[0m     \u001b[38;5;28;01mreturn\u001b[39;00m \u001b[38;5;28;43mself\u001b[39;49m\u001b[38;5;241;43m.\u001b[39;49m\u001b[43m_call_impl\u001b[49m\u001b[43m(\u001b[49m\u001b[38;5;241;43m*\u001b[39;49m\u001b[43margs\u001b[49m\u001b[43m,\u001b[49m\u001b[43m \u001b[49m\u001b[38;5;241;43m*\u001b[39;49m\u001b[38;5;241;43m*\u001b[39;49m\u001b[43mkwargs\u001b[49m\u001b[43m)\u001b[49m\n",
      "File \u001b[1;32md:\\Program_Files\\anaconda3\\envs\\torch\\lib\\site-packages\\torch\\nn\\modules\\module.py:1562\u001b[0m, in \u001b[0;36mModule._call_impl\u001b[1;34m(self, *args, **kwargs)\u001b[0m\n\u001b[0;32m   1557\u001b[0m \u001b[38;5;66;03m# If we don't have any hooks, we want to skip the rest of the logic in\u001b[39;00m\n\u001b[0;32m   1558\u001b[0m \u001b[38;5;66;03m# this function, and just call forward.\u001b[39;00m\n\u001b[0;32m   1559\u001b[0m \u001b[38;5;28;01mif\u001b[39;00m \u001b[38;5;129;01mnot\u001b[39;00m (\u001b[38;5;28mself\u001b[39m\u001b[38;5;241m.\u001b[39m_backward_hooks \u001b[38;5;129;01mor\u001b[39;00m \u001b[38;5;28mself\u001b[39m\u001b[38;5;241m.\u001b[39m_backward_pre_hooks \u001b[38;5;129;01mor\u001b[39;00m \u001b[38;5;28mself\u001b[39m\u001b[38;5;241m.\u001b[39m_forward_hooks \u001b[38;5;129;01mor\u001b[39;00m \u001b[38;5;28mself\u001b[39m\u001b[38;5;241m.\u001b[39m_forward_pre_hooks\n\u001b[0;32m   1560\u001b[0m         \u001b[38;5;129;01mor\u001b[39;00m _global_backward_pre_hooks \u001b[38;5;129;01mor\u001b[39;00m _global_backward_hooks\n\u001b[0;32m   1561\u001b[0m         \u001b[38;5;129;01mor\u001b[39;00m _global_forward_hooks \u001b[38;5;129;01mor\u001b[39;00m _global_forward_pre_hooks):\n\u001b[1;32m-> 1562\u001b[0m     \u001b[38;5;28;01mreturn\u001b[39;00m \u001b[43mforward_call\u001b[49m\u001b[43m(\u001b[49m\u001b[38;5;241;43m*\u001b[39;49m\u001b[43margs\u001b[49m\u001b[43m,\u001b[49m\u001b[43m \u001b[49m\u001b[38;5;241;43m*\u001b[39;49m\u001b[38;5;241;43m*\u001b[39;49m\u001b[43mkwargs\u001b[49m\u001b[43m)\u001b[49m\n\u001b[0;32m   1564\u001b[0m \u001b[38;5;28;01mtry\u001b[39;00m:\n\u001b[0;32m   1565\u001b[0m     result \u001b[38;5;241m=\u001b[39m \u001b[38;5;28;01mNone\u001b[39;00m\n",
      "File \u001b[1;32md:\\Program_Files\\anaconda3\\envs\\torch\\lib\\site-packages\\torch\\nn\\modules\\linear.py:117\u001b[0m, in \u001b[0;36mLinear.forward\u001b[1;34m(self, input)\u001b[0m\n\u001b[0;32m    116\u001b[0m \u001b[38;5;28;01mdef\u001b[39;00m \u001b[38;5;21mforward\u001b[39m(\u001b[38;5;28mself\u001b[39m, \u001b[38;5;28minput\u001b[39m: Tensor) \u001b[38;5;241m-\u001b[39m\u001b[38;5;241m>\u001b[39m Tensor:\n\u001b[1;32m--> 117\u001b[0m     \u001b[38;5;28;01mreturn\u001b[39;00m \u001b[43mF\u001b[49m\u001b[38;5;241;43m.\u001b[39;49m\u001b[43mlinear\u001b[49m\u001b[43m(\u001b[49m\u001b[38;5;28;43minput\u001b[39;49m\u001b[43m,\u001b[49m\u001b[43m \u001b[49m\u001b[38;5;28;43mself\u001b[39;49m\u001b[38;5;241;43m.\u001b[39;49m\u001b[43mweight\u001b[49m\u001b[43m,\u001b[49m\u001b[43m \u001b[49m\u001b[38;5;28;43mself\u001b[39;49m\u001b[38;5;241;43m.\u001b[39;49m\u001b[43mbias\u001b[49m\u001b[43m)\u001b[49m\n",
      "\u001b[1;31mRuntimeError\u001b[0m: mat1 and mat2 shapes cannot be multiplied (10x100 and 10x1)"
     ]
    }
   ],
   "source": [
    "import torch\n",
    "import torch.nn as nn\n",
    "import torch.nn.functional as F\n",
    "from torchvision import models\n",
    "\n",
    "from src.utils.receptive_field import compute_proto_layer_rf_info_v2\n",
    "from src.models.backbone_models import denseFPN_121, denseFPN_201, efficientFPN_v2_s, efficientDecoder_v2_s, denseNet121, denseNet201\n",
    "\n",
    "# Dictionary of supported backbone models\n",
    "BACKBONE_DICT = {\n",
    "    'denseNet121': denseNet121,\n",
    "    'denseNet201': denseNet201,\n",
    "    'efficientNetV2_s': models.efficientnet_v2_s(weights='DEFAULT').features[:-1],\n",
    "    'denseFPN_121': denseFPN_121,\n",
    "    'denseFPN_201': denseFPN_201,\n",
    "    'efficientFPN_v2_s': efficientFPN_v2_s,\n",
    "    'efficientDecoder_v2_s': efficientDecoder_v2_s\n",
    "}\n",
    "\n",
    "class PPNet(nn.Module):\n",
    "    def __init__(self, features, img_size, prototype_shape, num_characteristics, proto_layer_rf_info=None, init_weights=True, prototype_activation_function='log', add_on_layers_type='bottleneck'):\n",
    "        super(PPNet, self).__init__()\n",
    "        # Define the input configurations\n",
    "        self.img_size = img_size # size of the input images (e.g. (3, 224, 224))\n",
    "        self.prototype_shape = prototype_shape # shape of the prototype vectors (e.g. (2000, 512, 1, 1))\n",
    "        self.num_characteristics = num_characteristics # number of characteristics to predict (e.g. shape, margin, etc.)\n",
    "        self.num_classes = 2 # binary classification\n",
    "        \n",
    "        self.num_prototypes = self.prototype_shape[0] # total number of prototypes\n",
    "        self.prototypes_per_characteristic = self.num_prototypes // self.num_characteristics # number of prototypes per characteristic\n",
    "        self.prototypes_per_class = self.prototypes_per_characteristic // self.num_classes # number of prototypes per class\n",
    "        \n",
    "        self.proto_layer_rf_info = proto_layer_rf_info\n",
    "        self.epsilon = 1e-4 # small value to avoid numerical instability\n",
    "\n",
    "        self.prototype_activation_function = prototype_activation_function # activation function for the prototypes\n",
    "        \n",
    "        self.prototype_class_identity = self._get_prototype_class_identity() # class identity of the prototypes\n",
    "        \n",
    "        # Define the feature extractor\n",
    "        self.features = features\n",
    "        \n",
    "        # Define the add-on layers\n",
    "        first_add_on_layer_in_channels = features.get_output_channels()\n",
    "        # self.add_on_layers = self.initialize_add_on_layers(first_add_on_layer_in_channels, add_on_layers_type)\n",
    "        if add_on_layers_type == 'bottleneck':\n",
    "            add_on_layers = []\n",
    "            current_in_channels = first_add_on_layer_in_channels\n",
    "            while (current_in_channels > self.prototype_shape[1]) or (len(add_on_layers) == 0):\n",
    "                current_out_channels = max(self.prototype_shape[1], (current_in_channels // 2))\n",
    "                add_on_layers.append(nn.Conv2d(in_channels=current_in_channels,\n",
    "                                               out_channels=current_out_channels,\n",
    "                                               kernel_size=1))\n",
    "                add_on_layers.append(nn.ReLU())\n",
    "                add_on_layers.append(nn.Conv2d(in_channels=current_out_channels,\n",
    "                                               out_channels=current_out_channels,\n",
    "                                               kernel_size=1))\n",
    "                if current_out_channels > self.prototype_shape[1]:\n",
    "                    add_on_layers.append(nn.ReLU())\n",
    "                else:\n",
    "                    assert(current_out_channels == self.prototype_shape[1])\n",
    "                    add_on_layers.append(nn.Sigmoid())\n",
    "                current_in_channels = current_in_channels // 2\n",
    "            self.add_on_layers = nn.Sequential(*add_on_layers)\n",
    "        else:\n",
    "            self.add_on_layers = nn.Sequential(\n",
    "                nn.Conv2d(in_channels=first_add_on_layer_in_channels, out_channels=self.prototype_shape[1], kernel_size=1),\n",
    "                nn.BatchNorm2d(self.prototype_shape[1]),\n",
    "                nn.ReLU(),\n",
    "                nn.Dropout(0.2),\n",
    "                nn.Conv2d(in_channels=self.prototype_shape[1], out_channels=self.prototype_shape[1], kernel_size=1),\n",
    "                nn.Sigmoid()\n",
    "                )\n",
    "        \n",
    "        # Define separate prototype vectors for each characteristic\n",
    "        self.prototype_vectors = nn.ParameterList([\n",
    "            nn.Parameter(torch.rand(self.prototypes_per_characteristic, prototype_shape[1], prototype_shape[2], prototype_shape[3]), requires_grad=True) for _ in range(self.num_characteristics)\n",
    "        ])\n",
    "        \n",
    "        # Define a tensor of ones for the l2-convolution\n",
    "        self.ones = nn.Parameter(torch.ones(self.prototypes_per_characteristic, prototype_shape[1], prototype_shape[2], prototype_shape[3]), requires_grad=False)\n",
    "\n",
    "        # Define a separate classifier for each characteristic\n",
    "        self.task_specific_classifier = nn.ModuleList([\n",
    "            nn.Linear(self.prototypes_per_characteristic, self.num_classes) for _ in range(self.num_characteristics)   # Apply softmax to get confidence scores for each class of each characteristic\n",
    "        ])\n",
    "        \n",
    "        self.final_classifier = nn.Sequential(\n",
    "            nn.Flatten(),\n",
    "            # nn.Linear(self.num_characteristics*self.prototypes_per_characteristic*12*12, self.num_characteristics*self.num_classes), # HxW is the output size of the feature extractor\n",
    "            # nn.BatchNorm1d(self.num_characteristics*self.num_classes),\n",
    "            # nn.ReLU(),\n",
    "            # nn.Dropout(0.2),\n",
    "            nn.Linear(self.num_characteristics*self.prototypes_per_characteristic, 1)\n",
    "        )\n",
    "\n",
    "        if init_weights:\n",
    "            self._initialize_weights()\n",
    "            self._set_last_layer_incorrect_connection(-0.5)\n",
    "    \n",
    "    def _get_prototype_class_identity(self):\n",
    "        \"\"\"\n",
    "        Initialize the class identities of the prototypes structured by characteristics.\n",
    "        Each characteristic has a tensor of size [num_prototypes_per_characteristic, num_classes].\n",
    "        \"\"\"\n",
    "        prototype_class_identity = []\n",
    "        num_prototypes_per_class = self.prototypes_per_characteristic // self.num_classes\n",
    "        \n",
    "        # Create a separate class identity matrix for each characteristic\n",
    "        for _ in range(self.num_characteristics):\n",
    "            # Initialize a zero matrix for current characteristic\n",
    "            class_identity = torch.zeros(self.prototypes_per_characteristic, self.num_classes)\n",
    "            \n",
    "            # Assign prototypes to each class (binary: two classes per characteristic)\n",
    "            for j in range(self.prototypes_per_characteristic):\n",
    "                class_index = j // num_prototypes_per_class\n",
    "                class_identity[j, class_index] = 1\n",
    "            \n",
    "            prototype_class_identity.append(class_identity)\n",
    "        \n",
    "        return prototype_class_identity\n",
    "    \n",
    "    def _set_last_layer_incorrect_connection(self, incorrect_strength):\n",
    "        '''\n",
    "        the incorrect strength will be actual strength if -0.5 then input -0.5\n",
    "        '''\n",
    "        for i in range(self.num_characteristics):\n",
    "            positive_one_weights_locations = torch.t(self.prototype_class_identity[i])\n",
    "            negative_one_weights_locations = 1 - positive_one_weights_locations\n",
    "            \n",
    "            correct_class_connection = 1\n",
    "            incorrect_class_connection = incorrect_strength\n",
    "            self.task_specific_classifier[i].weight.data.copy_(\n",
    "                correct_class_connection * positive_one_weights_locations\n",
    "                + incorrect_class_connection * negative_one_weights_locations)\n",
    "\n",
    "    def _initialize_weights(self):\n",
    "        for m in self.add_on_layers.modules():\n",
    "            if isinstance(m, nn.Conv2d):\n",
    "                # every init technique has an underscore _ in the name\n",
    "                nn.init.kaiming_normal_(m.weight, mode='fan_out', nonlinearity='relu')\n",
    "\n",
    "                if m.bias is not None:\n",
    "                    nn.init.constant_(m.bias, 0)\n",
    "\n",
    "            elif isinstance(m, nn.BatchNorm2d):\n",
    "                nn.init.constant_(m.weight, 1)\n",
    "                nn.init.constant_(m.bias, 0)\n",
    "    \n",
    "    def _l2_convolution(self, x, prototype_vector):\n",
    "        '''\n",
    "        apply prototype_vector as l2-convolution filters on input x\n",
    "        '''\n",
    "        x2 = x ** 2\n",
    "        x2_patch_sum = F.conv2d(input=x2, weight=self.ones)\n",
    "\n",
    "        p2 = prototype_vector ** 2\n",
    "        p2 = torch.sum(p2, dim=(1, 2, 3))\n",
    "        # p2 is a vector of shape (num_prototypes_per_characteristic,)\n",
    "        # then we reshape it to (num_prototypes_per_characteristic, 1, 1)\n",
    "        p2_reshape = p2.view(-1, 1, 1)\n",
    "\n",
    "        xp = F.conv2d(input=x, weight=prototype_vector)\n",
    "        intermediate_result = - 2 * xp + p2_reshape  # use broadcast\n",
    "        # x2_patch_sum and intermediate_result are of the same shape\n",
    "        distances = F.relu(x2_patch_sum + intermediate_result)\n",
    "\n",
    "        return distances\n",
    "\n",
    "    def distance_2_similarity(self, distances):\n",
    "        if self.prototype_activation_function == 'log':\n",
    "            return torch.log((distances + 1) / (distances + self.epsilon))\n",
    "        elif self.prototype_activation_function == 'linear':\n",
    "            return -distances\n",
    "        else:\n",
    "            return self.prototype_activation_function(distances)\n",
    "        \n",
    "    def forward(self, x):\n",
    "        # Extract features using the backbone\n",
    "        x = self.features(x) # B x 256 x H x W\n",
    "        \n",
    "        # Apply add-on layers to the features\n",
    "        x = self.add_on_layers(x) # B x 512 x H x W\n",
    "        \n",
    "        # Compute distances and task logits for each characteristic\n",
    "        task_logits = []\n",
    "        task_probabilities = []\n",
    "        similarities = []\n",
    "        min_distances = []\n",
    "        for i in range(self.num_characteristics):\n",
    "            distance = self._l2_convolution(x, self.prototype_vectors[i]) # B x num_prototypes_per_characteristic x H x W, B x num_prototypes_per_characteristic x 1 x 1\n",
    "            min_distance = -F.max_pool2d(-distance, kernel_size=(distance.size()[2], distance.size()[3])) # B x num_prototypes_per_characteristic x 1 x 1\n",
    "            min_distance = min_distance.view(-1, self.prototypes_per_characteristic) # B x num_prototypes_per_characteristic\n",
    "            similarity = self.distance_2_similarity(min_distance) # B x num_prototypes_per_characteristic\n",
    "            task_logit = self.task_specific_classifier[i](similarity) # B x 2\n",
    "            task_probability = F.softmax(task_logit, dim=1)\n",
    "                        \n",
    "            similarities.append(similarity)\n",
    "            min_distances.append(min_distance)\n",
    "            task_logits.append(task_logit)\n",
    "            task_probabilities.append(task_probability)\n",
    "        \n",
    "        # Concatenate task distances for the final classifier\n",
    "        # final_output = torch.sigmoid(self.final_classifier(torch.cat(distances, dim=1))) # TODO: Use intermediate task logits instead of distances and feature extractor output\n",
    "        print(torch.cat(similarities, dim=1).shape)\n",
    "        final_output = torch.sigmoid(self.final_classifier(torch.cat(similarities, dim=1)))\n",
    "        return final_output, task_logits, min_distances\n",
    "                    \n",
    "    def push_forward(self, x):\n",
    "        '''this method is needed for the pushing operation'''\n",
    "        x = self.features(x)\n",
    "        x = self.add_on_layers(x)\n",
    "        distances = []\n",
    "        for i in range(self.num_characteristics):\n",
    "            distance = self._l2_convolution(x, self.prototype_vectors[i])\n",
    "            distances.append(distance)\n",
    "        return x, distances\n",
    "    \n",
    "    \n",
    "    # TODO: Implement the pruning operation\n",
    "\n",
    "\n",
    "def construct_PPNet(\n",
    "    base_architecture='denseNet121', \n",
    "    weights='DEFAULT', \n",
    "    img_size=224,\n",
    "    prototype_shape=(50*5*2, 224, 1, 1), \n",
    "    num_characteristics=5,\n",
    "    prototype_activation_function='log',\n",
    "    add_on_layers_type='bottleneck'\n",
    "):\n",
    "    \n",
    "    features = BACKBONE_DICT[base_architecture](weights=weights)\n",
    "    \n",
    "    layer_filter_sizes, layer_strides, layer_paddings = features.conv_info()\n",
    "    \n",
    "    proto_layer_rf_info = compute_proto_layer_rf_info_v2(\n",
    "        img_size=img_size,  \n",
    "        layer_filter_sizes=layer_filter_sizes,\n",
    "        layer_strides=layer_strides,\n",
    "        layer_paddings=layer_paddings,\n",
    "        prototype_kernel_size=prototype_shape[2]\n",
    "    )\n",
    "    \n",
    "    return PPNet(\n",
    "        features=features,\n",
    "        img_size=img_size,\n",
    "        prototype_shape=prototype_shape,\n",
    "        num_characteristics=num_characteristics,\n",
    "        proto_layer_rf_info=proto_layer_rf_info,\n",
    "        init_weights=True,\n",
    "        prototype_activation_function=prototype_activation_function,\n",
    "        add_on_layers_type=add_on_layers_type\n",
    "    )\n",
    "    \n",
    "# Set torch seed for reproducibility\n",
    "torch.manual_seed(42)\n",
    "\n",
    "# model = PPNet(features=denseFPN_121(), img_size=(3, 100, 100), prototype_shape=(10*5*2, 224, 1, 1), num_characteristics=5, init_weights=True, prototype_activation_function='log', add_on_layers_type='bottleneck')\n",
    "\n",
    "model = construct_PPNet(base_architecture='denseFPN_121', weights='DEFAULT', img_size=100, prototype_shape=(10*5*2, 224, 1, 1), num_characteristics=5, prototype_activation_function='log', add_on_layers_type='bottleneck')\n",
    "\n",
    "# Print total number of parameters\n",
    "total_params = sum(p.numel() for p in model.parameters())\n",
    "print(\"Total number of parameters: \", total_params)\n",
    "\n",
    "# Create a dummy input tensor of size [50, 3, 100, 100]\n",
    "dummy_input = torch.randn(10, 3, 100, 100)\n",
    "\n",
    "# Forward pass through the model with dummy input\n",
    "final_output, task_logits, min_distances = model(dummy_input)\n",
    "\n",
    "# Print output shapes to verify\n",
    "print(\"task_logits shape:\", [task_logit.shape for task_logit in task_logits])  \n",
    "print(\"final_output shape:\", final_output.shape)"
   ]
  },
  {
   "cell_type": "code",
   "execution_count": 2,
   "metadata": {},
   "outputs": [
    {
     "name": "stderr",
     "output_type": "stream",
     "text": [
      "d:\\Program_Files\\anaconda3\\envs\\torch\\lib\\site-packages\\torchvision\\io\\image.py:13: UserWarning: Failed to load image Python extension: '[WinError 127] The specified procedure could not be found'If you don't plan on using image functionality from `torchvision.io`, you can ignore this warning. Otherwise, there might be something wrong with your environment. Did you have `libjpeg` or `libpng` installed before building `torchvision` from source?\n",
      "  warn(\n"
     ]
    }
   ],
   "source": [
    "from src.loaders.dataloader import LIDCDataset\n",
    "import torchvision.transforms as transforms\n",
    "from PIL import Image\n",
    "import os\n",
    "import torch\n",
    "\n",
    "IMG_CHANNELS = 3\n",
    "IMG_SIZE = 100\n",
    "CHOSEN_CHARS = [False, True, False, True, True, False, False, True, True]\n",
    "labels_file = './dataset/Meta/meta_info_old.csv'\n",
    "\n",
    "mean = (0.5, 0.5, 0.5)\n",
    "std = (0.5, 0.5, 0.5)\n",
    "preprocess = transforms.Compose([\n",
    "    transforms.Grayscale(num_output_channels=3), \n",
    "    transforms.Resize(256),  # First resize to larger dimensions\n",
    "    transforms.CenterCrop(224),  # Then crop to 224x224\n",
    "    transforms.ToTensor(),  # Convert to tensor (also scales pixel values to [0, 1])\n",
    "    transforms.Normalize(mean=[0.485, 0.456, 0.406], std=[0.229, 0.224, 0.225]),\n",
    "])\n",
    "# train set\n",
    "LIDC_trainset = LIDCDataset(labels_file=labels_file, chosen_chars=CHOSEN_CHARS, auto_split=True, zero_indexed=False, \n",
    "                                                        transform=transforms.Compose([transforms.Grayscale(num_output_channels=IMG_CHANNELS), \n",
    "                                                                    transforms.Resize(size=(IMG_SIZE, IMG_SIZE), interpolation=Image.BILINEAR), \n",
    "                                                                    transforms.ToTensor(), \n",
    "                                                                    # transforms.Lambda(lambda x: x.repeat(3, 1, 1)),\n",
    "                                                                    transforms.Normalize(mean, std)\n",
    "                                                                    ]),\n",
    "                                                        train=True)\n",
    "train_dataloader = torch.utils.data.DataLoader(LIDC_trainset, batch_size=50, shuffle=True, num_workers=4)\n",
    "# test set\n",
    "LIDC_testset = LIDCDataset(labels_file=labels_file, chosen_chars=CHOSEN_CHARS, auto_split=True, zero_indexed=False, \n",
    "                                                        transform=transforms.Compose([transforms.Grayscale(num_output_channels=IMG_CHANNELS), \n",
    "                                                                    transforms.Resize(size=(IMG_SIZE, IMG_SIZE), interpolation=Image.BILINEAR), \n",
    "                                                                    transforms.ToTensor(), \n",
    "                                                                    # transforms.Lambda(lambda x: x.repeat(3, 1, 1)),\n",
    "                                                                    transforms.Normalize(mean, std)\n",
    "                                                                    ]), \n",
    "                                                        train=False)\n",
    "test_dataloader = torch.utils.data.DataLoader(LIDC_testset, batch_size=50, shuffle=True, num_workers=4)\n"
   ]
  },
  {
   "cell_type": "code",
   "execution_count": 3,
   "metadata": {},
   "outputs": [
    {
     "name": "stdout",
     "output_type": "stream",
     "text": [
      "\n",
      "----------------------------------------------------------------------------------------------------\n",
      "Epoch: 1/10,\tTask Weights: ['0.20', '0.20', '0.20', '0.20', '0.20']\n",
      "----------------------------------------------------------------------------------------------------\n"
     ]
    },
    {
     "name": "stderr",
     "output_type": "stream",
     "text": [
      "  0%|          | 0/237 [00:00<?, ?it/s]"
     ]
    },
    {
     "name": "stdout",
     "output_type": "stream",
     "text": [
      "0.2\n",
      "0.2\n",
      "0.2\n",
      "0.2\n",
      "0.2\n"
     ]
    },
    {
     "name": "stderr",
     "output_type": "stream",
     "text": [
      "  1%|          | 2/237 [00:01<02:44,  1.43it/s]"
     ]
    },
    {
     "name": "stdout",
     "output_type": "stream",
     "text": [
      "0.2\n",
      "0.2\n",
      "0.2\n",
      "0.2\n",
      "0.2\n"
     ]
    },
    {
     "name": "stderr",
     "output_type": "stream",
     "text": [
      "  1%|▏         | 3/237 [00:01<02:08,  1.82it/s]"
     ]
    },
    {
     "name": "stdout",
     "output_type": "stream",
     "text": [
      "0.2\n",
      "0.2\n",
      "0.2\n",
      "0.2\n",
      "0.2\n"
     ]
    },
    {
     "name": "stderr",
     "output_type": "stream",
     "text": [
      "  2%|▏         | 4/237 [00:02<01:53,  2.05it/s]"
     ]
    },
    {
     "name": "stdout",
     "output_type": "stream",
     "text": [
      "0.2\n",
      "0.2\n",
      "0.2\n",
      "0.2\n",
      "0.2\n"
     ]
    },
    {
     "name": "stderr",
     "output_type": "stream",
     "text": [
      "  2%|▏         | 5/237 [00:02<01:43,  2.23it/s]"
     ]
    },
    {
     "name": "stdout",
     "output_type": "stream",
     "text": [
      "0.2\n",
      "0.2\n",
      "0.2\n",
      "0.2\n",
      "0.2\n"
     ]
    },
    {
     "name": "stderr",
     "output_type": "stream",
     "text": [
      "  3%|▎         | 6/237 [00:03<01:36,  2.39it/s]"
     ]
    },
    {
     "name": "stdout",
     "output_type": "stream",
     "text": [
      "0.2\n",
      "0.2\n",
      "0.2\n",
      "0.2\n",
      "0.2\n"
     ]
    },
    {
     "name": "stderr",
     "output_type": "stream",
     "text": [
      "  3%|▎         | 7/237 [00:03<01:32,  2.49it/s]"
     ]
    },
    {
     "name": "stdout",
     "output_type": "stream",
     "text": [
      "0.2\n",
      "0.2\n",
      "0.2\n",
      "0.2\n",
      "0.2\n"
     ]
    },
    {
     "name": "stderr",
     "output_type": "stream",
     "text": [
      "  3%|▎         | 8/237 [00:03<01:25,  2.68it/s]"
     ]
    },
    {
     "name": "stdout",
     "output_type": "stream",
     "text": [
      "0.2\n",
      "0.2\n",
      "0.2\n",
      "0.2\n",
      "0.2\n"
     ]
    },
    {
     "name": "stderr",
     "output_type": "stream",
     "text": [
      "  4%|▍         | 9/237 [00:04<01:24,  2.71it/s]"
     ]
    },
    {
     "name": "stdout",
     "output_type": "stream",
     "text": [
      "0.2\n",
      "0.2\n",
      "0.2\n",
      "0.2\n",
      "0.2\n"
     ]
    },
    {
     "name": "stderr",
     "output_type": "stream",
     "text": [
      "  4%|▍         | 10/237 [00:04<01:32,  2.45it/s]"
     ]
    },
    {
     "name": "stdout",
     "output_type": "stream",
     "text": [
      "0.2\n",
      "0.2\n",
      "0.2\n",
      "0.2\n",
      "0.2\n"
     ]
    },
    {
     "name": "stderr",
     "output_type": "stream",
     "text": [
      "  5%|▍         | 11/237 [00:04<01:29,  2.52it/s]"
     ]
    },
    {
     "name": "stdout",
     "output_type": "stream",
     "text": [
      "0.2\n",
      "0.2\n",
      "0.2\n",
      "0.2\n",
      "0.2\n"
     ]
    },
    {
     "name": "stderr",
     "output_type": "stream",
     "text": [
      "  5%|▌         | 12/237 [00:05<01:24,  2.65it/s]"
     ]
    },
    {
     "name": "stdout",
     "output_type": "stream",
     "text": [
      "0.2\n",
      "0.2\n",
      "0.2\n",
      "0.2\n",
      "0.2\n"
     ]
    },
    {
     "name": "stderr",
     "output_type": "stream",
     "text": [
      "  5%|▌         | 13/237 [00:05<01:23,  2.68it/s]"
     ]
    },
    {
     "name": "stdout",
     "output_type": "stream",
     "text": [
      "0.2\n",
      "0.2\n",
      "0.2\n",
      "0.2\n",
      "0.2\n"
     ]
    },
    {
     "name": "stderr",
     "output_type": "stream",
     "text": [
      "  6%|▌         | 14/237 [00:05<01:20,  2.77it/s]"
     ]
    },
    {
     "name": "stdout",
     "output_type": "stream",
     "text": [
      "0.2\n",
      "0.2\n",
      "0.2\n",
      "0.2\n",
      "0.2\n"
     ]
    },
    {
     "name": "stderr",
     "output_type": "stream",
     "text": [
      "  6%|▋         | 15/237 [00:06<01:20,  2.77it/s]"
     ]
    },
    {
     "name": "stdout",
     "output_type": "stream",
     "text": [
      "0.2\n",
      "0.2\n",
      "0.2\n",
      "0.2\n",
      "0.2\n"
     ]
    },
    {
     "name": "stderr",
     "output_type": "stream",
     "text": [
      "  7%|▋         | 16/237 [00:06<01:18,  2.80it/s]"
     ]
    },
    {
     "name": "stdout",
     "output_type": "stream",
     "text": [
      "0.2\n",
      "0.2\n",
      "0.2\n",
      "0.2\n",
      "0.2\n"
     ]
    },
    {
     "name": "stderr",
     "output_type": "stream",
     "text": [
      "  7%|▋         | 17/237 [00:07<01:17,  2.83it/s]"
     ]
    },
    {
     "name": "stdout",
     "output_type": "stream",
     "text": [
      "0.2\n",
      "0.2\n",
      "0.2\n",
      "0.2\n",
      "0.2\n"
     ]
    },
    {
     "name": "stderr",
     "output_type": "stream",
     "text": [
      "  8%|▊         | 18/237 [00:07<01:17,  2.82it/s]"
     ]
    },
    {
     "name": "stdout",
     "output_type": "stream",
     "text": [
      "0.2\n",
      "0.2\n",
      "0.2\n",
      "0.2\n",
      "0.2\n"
     ]
    },
    {
     "name": "stderr",
     "output_type": "stream",
     "text": [
      "  8%|▊         | 19/237 [00:07<01:16,  2.84it/s]"
     ]
    },
    {
     "name": "stdout",
     "output_type": "stream",
     "text": [
      "0.2\n",
      "0.2\n",
      "0.2\n",
      "0.2\n",
      "0.2\n"
     ]
    },
    {
     "name": "stderr",
     "output_type": "stream",
     "text": [
      "  8%|▊         | 20/237 [00:08<01:15,  2.86it/s]"
     ]
    },
    {
     "name": "stdout",
     "output_type": "stream",
     "text": [
      "0.2\n",
      "0.2\n",
      "0.2\n",
      "0.2\n",
      "0.2\n"
     ]
    },
    {
     "name": "stderr",
     "output_type": "stream",
     "text": [
      "  9%|▉         | 21/237 [00:08<01:25,  2.54it/s]"
     ]
    },
    {
     "name": "stdout",
     "output_type": "stream",
     "text": [
      "0.2\n",
      "0.2\n",
      "0.2\n",
      "0.2\n",
      "0.2\n"
     ]
    },
    {
     "name": "stderr",
     "output_type": "stream",
     "text": [
      "  9%|▉         | 22/237 [00:08<01:21,  2.63it/s]"
     ]
    },
    {
     "name": "stdout",
     "output_type": "stream",
     "text": [
      "0.2\n",
      "0.2\n",
      "0.2\n",
      "0.2\n",
      "0.2\n"
     ]
    },
    {
     "name": "stderr",
     "output_type": "stream",
     "text": [
      " 10%|▉         | 23/237 [00:09<01:18,  2.73it/s]"
     ]
    },
    {
     "name": "stdout",
     "output_type": "stream",
     "text": [
      "0.2\n",
      "0.2\n",
      "0.2\n",
      "0.2\n",
      "0.2\n"
     ]
    },
    {
     "name": "stderr",
     "output_type": "stream",
     "text": [
      " 10%|█         | 24/237 [00:09<01:17,  2.75it/s]"
     ]
    },
    {
     "name": "stdout",
     "output_type": "stream",
     "text": [
      "0.2\n",
      "0.2\n",
      "0.2\n",
      "0.2\n",
      "0.2\n"
     ]
    },
    {
     "name": "stderr",
     "output_type": "stream",
     "text": [
      " 11%|█         | 25/237 [00:10<01:19,  2.68it/s]"
     ]
    },
    {
     "name": "stdout",
     "output_type": "stream",
     "text": [
      "0.2\n",
      "0.2\n",
      "0.2\n",
      "0.2\n",
      "0.2\n"
     ]
    },
    {
     "name": "stderr",
     "output_type": "stream",
     "text": [
      " 11%|█         | 26/237 [00:10<01:24,  2.49it/s]"
     ]
    },
    {
     "name": "stdout",
     "output_type": "stream",
     "text": [
      "0.2\n",
      "0.2\n",
      "0.2\n",
      "0.2\n",
      "0.2\n"
     ]
    },
    {
     "name": "stderr",
     "output_type": "stream",
     "text": [
      " 11%|█▏        | 27/237 [00:10<01:22,  2.56it/s]"
     ]
    },
    {
     "name": "stdout",
     "output_type": "stream",
     "text": [
      "0.2\n",
      "0.2\n",
      "0.2\n",
      "0.2\n",
      "0.2\n"
     ]
    },
    {
     "name": "stderr",
     "output_type": "stream",
     "text": [
      " 12%|█▏        | 28/237 [00:11<01:21,  2.55it/s]"
     ]
    },
    {
     "name": "stdout",
     "output_type": "stream",
     "text": [
      "0.2\n",
      "0.2\n",
      "0.2\n",
      "0.2\n",
      "0.2\n"
     ]
    },
    {
     "name": "stderr",
     "output_type": "stream",
     "text": [
      " 12%|█▏        | 29/237 [00:11<01:21,  2.55it/s]"
     ]
    },
    {
     "name": "stdout",
     "output_type": "stream",
     "text": [
      "0.2\n",
      "0.2\n",
      "0.2\n",
      "0.2\n",
      "0.2\n"
     ]
    },
    {
     "name": "stderr",
     "output_type": "stream",
     "text": [
      " 13%|█▎        | 30/237 [00:12<01:30,  2.29it/s]"
     ]
    },
    {
     "name": "stdout",
     "output_type": "stream",
     "text": [
      "0.2\n",
      "0.2\n",
      "0.2\n",
      "0.2\n",
      "0.2\n"
     ]
    },
    {
     "name": "stderr",
     "output_type": "stream",
     "text": [
      " 13%|█▎        | 31/237 [00:12<01:22,  2.49it/s]"
     ]
    },
    {
     "name": "stdout",
     "output_type": "stream",
     "text": [
      "0.2\n",
      "0.2\n",
      "0.2\n",
      "0.2\n",
      "0.2\n"
     ]
    },
    {
     "name": "stderr",
     "output_type": "stream",
     "text": [
      " 14%|█▎        | 32/237 [00:12<01:21,  2.52it/s]"
     ]
    },
    {
     "name": "stdout",
     "output_type": "stream",
     "text": [
      "0.2\n",
      "0.2\n",
      "0.2\n",
      "0.2\n",
      "0.2\n"
     ]
    },
    {
     "name": "stderr",
     "output_type": "stream",
     "text": [
      " 14%|█▍        | 33/237 [00:13<01:17,  2.65it/s]"
     ]
    },
    {
     "name": "stdout",
     "output_type": "stream",
     "text": [
      "0.2\n",
      "0.2\n",
      "0.2\n",
      "0.2\n",
      "0.2\n"
     ]
    },
    {
     "name": "stderr",
     "output_type": "stream",
     "text": [
      " 14%|█▍        | 34/237 [00:13<01:15,  2.70it/s]"
     ]
    },
    {
     "name": "stdout",
     "output_type": "stream",
     "text": [
      "0.2\n",
      "0.2\n",
      "0.2\n",
      "0.2\n",
      "0.2\n"
     ]
    },
    {
     "name": "stderr",
     "output_type": "stream",
     "text": [
      " 15%|█▍        | 35/237 [00:14<01:18,  2.56it/s]"
     ]
    },
    {
     "name": "stdout",
     "output_type": "stream",
     "text": [
      "0.2\n",
      "0.2\n",
      "0.2\n",
      "0.2\n",
      "0.2\n"
     ]
    },
    {
     "name": "stderr",
     "output_type": "stream",
     "text": [
      " 15%|█▌        | 36/237 [00:14<01:18,  2.57it/s]"
     ]
    },
    {
     "name": "stdout",
     "output_type": "stream",
     "text": [
      "0.2\n",
      "0.2\n",
      "0.2\n",
      "0.2\n",
      "0.2\n"
     ]
    },
    {
     "name": "stderr",
     "output_type": "stream",
     "text": [
      " 16%|█▌        | 37/237 [00:14<01:17,  2.58it/s]"
     ]
    },
    {
     "name": "stdout",
     "output_type": "stream",
     "text": [
      "0.2\n",
      "0.2\n",
      "0.2\n",
      "0.2\n",
      "0.2\n"
     ]
    },
    {
     "name": "stderr",
     "output_type": "stream",
     "text": [
      " 16%|█▌        | 38/237 [00:15<01:17,  2.58it/s]"
     ]
    },
    {
     "name": "stdout",
     "output_type": "stream",
     "text": [
      "0.2\n",
      "0.2\n",
      "0.2\n",
      "0.2\n",
      "0.2\n"
     ]
    },
    {
     "name": "stderr",
     "output_type": "stream",
     "text": [
      " 16%|█▋        | 39/237 [00:15<01:15,  2.61it/s]"
     ]
    },
    {
     "name": "stdout",
     "output_type": "stream",
     "text": [
      "0.2\n",
      "0.2\n",
      "0.2\n",
      "0.2\n",
      "0.2\n"
     ]
    },
    {
     "name": "stderr",
     "output_type": "stream",
     "text": [
      " 17%|█▋        | 40/237 [00:15<01:14,  2.63it/s]"
     ]
    },
    {
     "name": "stdout",
     "output_type": "stream",
     "text": [
      "0.2\n",
      "0.2\n",
      "0.2\n",
      "0.2\n",
      "0.2\n"
     ]
    },
    {
     "name": "stderr",
     "output_type": "stream",
     "text": [
      " 17%|█▋        | 41/237 [00:16<01:29,  2.19it/s]"
     ]
    },
    {
     "name": "stdout",
     "output_type": "stream",
     "text": [
      "0.2\n",
      "0.2\n",
      "0.2\n",
      "0.2\n",
      "0.2\n"
     ]
    },
    {
     "name": "stderr",
     "output_type": "stream",
     "text": [
      " 18%|█▊        | 42/237 [00:16<01:25,  2.28it/s]"
     ]
    },
    {
     "name": "stdout",
     "output_type": "stream",
     "text": [
      "0.2\n",
      "0.2\n",
      "0.2\n",
      "0.2\n",
      "0.2\n"
     ]
    },
    {
     "name": "stderr",
     "output_type": "stream",
     "text": [
      " 18%|█▊        | 43/237 [00:17<01:20,  2.41it/s]"
     ]
    },
    {
     "name": "stdout",
     "output_type": "stream",
     "text": [
      "0.2\n",
      "0.2\n",
      "0.2\n",
      "0.2\n",
      "0.2\n"
     ]
    },
    {
     "name": "stderr",
     "output_type": "stream",
     "text": [
      " 19%|█▊        | 44/237 [00:17<01:18,  2.47it/s]"
     ]
    },
    {
     "name": "stdout",
     "output_type": "stream",
     "text": [
      "0.2\n",
      "0.2\n",
      "0.2\n",
      "0.2\n",
      "0.2\n"
     ]
    },
    {
     "name": "stderr",
     "output_type": "stream",
     "text": [
      " 19%|█▉        | 45/237 [00:18<01:19,  2.43it/s]"
     ]
    },
    {
     "name": "stdout",
     "output_type": "stream",
     "text": [
      "0.2\n",
      "0.2\n",
      "0.2\n",
      "0.2\n",
      "0.2\n"
     ]
    },
    {
     "name": "stderr",
     "output_type": "stream",
     "text": [
      " 19%|█▉        | 46/237 [00:18<01:20,  2.38it/s]"
     ]
    },
    {
     "name": "stdout",
     "output_type": "stream",
     "text": [
      "0.2\n",
      "0.2\n",
      "0.2\n",
      "0.2\n",
      "0.2\n"
     ]
    },
    {
     "name": "stderr",
     "output_type": "stream",
     "text": [
      " 20%|█▉        | 47/237 [00:18<01:16,  2.49it/s]"
     ]
    },
    {
     "name": "stdout",
     "output_type": "stream",
     "text": [
      "0.2\n",
      "0.2\n",
      "0.2\n",
      "0.2\n",
      "0.2\n"
     ]
    },
    {
     "name": "stderr",
     "output_type": "stream",
     "text": [
      " 20%|██        | 48/237 [00:19<01:14,  2.55it/s]"
     ]
    },
    {
     "name": "stdout",
     "output_type": "stream",
     "text": [
      "0.2\n",
      "0.2\n",
      "0.2\n",
      "0.2\n",
      "0.2\n"
     ]
    },
    {
     "name": "stderr",
     "output_type": "stream",
     "text": [
      " 21%|██        | 49/237 [00:19<01:12,  2.60it/s]"
     ]
    },
    {
     "name": "stdout",
     "output_type": "stream",
     "text": [
      "0.2\n",
      "0.2\n",
      "0.2\n",
      "0.2\n",
      "0.2\n"
     ]
    },
    {
     "name": "stderr",
     "output_type": "stream",
     "text": [
      " 21%|██        | 50/237 [00:20<01:19,  2.35it/s]"
     ]
    },
    {
     "name": "stdout",
     "output_type": "stream",
     "text": [
      "0.2\n",
      "0.2\n",
      "0.2\n",
      "0.2\n",
      "0.2\n"
     ]
    },
    {
     "name": "stderr",
     "output_type": "stream",
     "text": [
      " 22%|██▏       | 51/237 [00:20<01:18,  2.36it/s]"
     ]
    },
    {
     "name": "stdout",
     "output_type": "stream",
     "text": [
      "0.2\n",
      "0.2\n",
      "0.2\n",
      "0.2\n",
      "0.2\n",
      "0.2\n",
      "0.2\n",
      "0.2\n",
      "0.2\n",
      "0.2\n"
     ]
    },
    {
     "name": "stderr",
     "output_type": "stream",
     "text": [
      " 22%|██▏       | 53/237 [00:21<01:29,  2.06it/s]"
     ]
    },
    {
     "name": "stdout",
     "output_type": "stream",
     "text": [
      "0.2\n",
      "0.2\n",
      "0.2\n",
      "0.2\n",
      "0.2\n"
     ]
    },
    {
     "name": "stderr",
     "output_type": "stream",
     "text": [
      " 23%|██▎       | 54/237 [00:22<01:23,  2.19it/s]"
     ]
    },
    {
     "name": "stdout",
     "output_type": "stream",
     "text": [
      "0.2\n",
      "0.2\n",
      "0.2\n",
      "0.2\n",
      "0.2\n"
     ]
    },
    {
     "name": "stderr",
     "output_type": "stream",
     "text": [
      " 23%|██▎       | 55/237 [00:22<01:17,  2.36it/s]"
     ]
    },
    {
     "name": "stdout",
     "output_type": "stream",
     "text": [
      "0.2\n",
      "0.2\n",
      "0.2\n",
      "0.2\n",
      "0.2\n"
     ]
    },
    {
     "name": "stderr",
     "output_type": "stream",
     "text": [
      " 24%|██▎       | 56/237 [00:22<01:12,  2.50it/s]"
     ]
    },
    {
     "name": "stdout",
     "output_type": "stream",
     "text": [
      "0.2\n",
      "0.2\n",
      "0.2\n",
      "0.2\n",
      "0.2\n"
     ]
    },
    {
     "name": "stderr",
     "output_type": "stream",
     "text": [
      " 24%|██▍       | 57/237 [00:23<01:09,  2.58it/s]"
     ]
    },
    {
     "name": "stdout",
     "output_type": "stream",
     "text": [
      "0.2\n",
      "0.2\n",
      "0.2\n",
      "0.2\n",
      "0.2\n"
     ]
    },
    {
     "name": "stderr",
     "output_type": "stream",
     "text": [
      " 24%|██▍       | 58/237 [00:23<01:07,  2.66it/s]"
     ]
    },
    {
     "name": "stdout",
     "output_type": "stream",
     "text": [
      "0.2\n",
      "0.2\n",
      "0.2\n",
      "0.2\n",
      "0.2\n"
     ]
    },
    {
     "name": "stderr",
     "output_type": "stream",
     "text": [
      " 25%|██▍       | 59/237 [00:23<01:07,  2.63it/s]"
     ]
    },
    {
     "name": "stdout",
     "output_type": "stream",
     "text": [
      "0.2\n",
      "0.2\n",
      "0.2\n",
      "0.2\n",
      "0.2\n"
     ]
    },
    {
     "name": "stderr",
     "output_type": "stream",
     "text": [
      " 25%|██▌       | 60/237 [00:24<01:04,  2.73it/s]"
     ]
    },
    {
     "name": "stdout",
     "output_type": "stream",
     "text": [
      "0.2\n",
      "0.2\n",
      "0.2\n",
      "0.2\n",
      "0.2\n"
     ]
    },
    {
     "name": "stderr",
     "output_type": "stream",
     "text": [
      " 26%|██▌       | 61/237 [00:24<01:04,  2.72it/s]"
     ]
    },
    {
     "name": "stdout",
     "output_type": "stream",
     "text": [
      "0.2\n",
      "0.2\n",
      "0.2\n",
      "0.2\n",
      "0.2\n"
     ]
    },
    {
     "name": "stderr",
     "output_type": "stream",
     "text": [
      " 26%|██▌       | 62/237 [00:24<01:03,  2.77it/s]"
     ]
    },
    {
     "name": "stdout",
     "output_type": "stream",
     "text": [
      "0.2\n",
      "0.2\n",
      "0.2\n",
      "0.2\n",
      "0.2\n"
     ]
    },
    {
     "name": "stderr",
     "output_type": "stream",
     "text": [
      " 27%|██▋       | 63/237 [00:25<01:15,  2.31it/s]"
     ]
    },
    {
     "name": "stdout",
     "output_type": "stream",
     "text": [
      "0.2\n",
      "0.2\n",
      "0.2\n",
      "0.2\n",
      "0.2\n"
     ]
    },
    {
     "name": "stderr",
     "output_type": "stream",
     "text": [
      " 27%|██▋       | 64/237 [00:25<01:11,  2.41it/s]"
     ]
    },
    {
     "name": "stdout",
     "output_type": "stream",
     "text": [
      "0.2\n",
      "0.2\n",
      "0.2\n",
      "0.2\n",
      "0.2\n"
     ]
    },
    {
     "name": "stderr",
     "output_type": "stream",
     "text": [
      " 27%|██▋       | 65/237 [00:26<01:07,  2.55it/s]"
     ]
    },
    {
     "name": "stdout",
     "output_type": "stream",
     "text": [
      "0.2\n",
      "0.2\n",
      "0.2\n",
      "0.2\n",
      "0.2\n"
     ]
    },
    {
     "name": "stderr",
     "output_type": "stream",
     "text": [
      " 28%|██▊       | 66/237 [00:26<01:06,  2.55it/s]"
     ]
    },
    {
     "name": "stdout",
     "output_type": "stream",
     "text": [
      "0.2\n",
      "0.2\n",
      "0.2\n",
      "0.2\n",
      "0.2\n"
     ]
    },
    {
     "name": "stderr",
     "output_type": "stream",
     "text": [
      " 28%|██▊       | 67/237 [00:27<01:04,  2.63it/s]"
     ]
    },
    {
     "name": "stdout",
     "output_type": "stream",
     "text": [
      "0.2\n",
      "0.2\n",
      "0.2\n",
      "0.2\n",
      "0.2\n"
     ]
    },
    {
     "name": "stderr",
     "output_type": "stream",
     "text": [
      " 29%|██▊       | 68/237 [00:27<01:03,  2.68it/s]"
     ]
    },
    {
     "name": "stdout",
     "output_type": "stream",
     "text": [
      "0.2\n",
      "0.2\n",
      "0.2\n",
      "0.2\n",
      "0.2\n"
     ]
    },
    {
     "name": "stderr",
     "output_type": "stream",
     "text": [
      " 29%|██▉       | 69/237 [00:27<01:01,  2.71it/s]"
     ]
    },
    {
     "name": "stdout",
     "output_type": "stream",
     "text": [
      "0.2\n",
      "0.2\n",
      "0.2\n",
      "0.2\n",
      "0.2\n"
     ]
    },
    {
     "name": "stderr",
     "output_type": "stream",
     "text": [
      " 30%|██▉       | 70/237 [00:28<01:02,  2.69it/s]"
     ]
    },
    {
     "name": "stdout",
     "output_type": "stream",
     "text": [
      "0.2\n",
      "0.2\n",
      "0.2\n",
      "0.2\n",
      "0.2\n"
     ]
    },
    {
     "name": "stderr",
     "output_type": "stream",
     "text": [
      " 30%|██▉       | 71/237 [00:28<01:00,  2.73it/s]"
     ]
    },
    {
     "name": "stdout",
     "output_type": "stream",
     "text": [
      "0.2\n",
      "0.2\n",
      "0.2\n",
      "0.2\n",
      "0.2\n"
     ]
    },
    {
     "name": "stderr",
     "output_type": "stream",
     "text": [
      " 30%|███       | 72/237 [00:28<00:59,  2.79it/s]"
     ]
    },
    {
     "name": "stdout",
     "output_type": "stream",
     "text": [
      "0.2\n",
      "0.2\n",
      "0.2\n",
      "0.2\n",
      "0.2\n"
     ]
    },
    {
     "name": "stderr",
     "output_type": "stream",
     "text": [
      " 31%|███       | 73/237 [00:29<00:58,  2.79it/s]"
     ]
    },
    {
     "name": "stdout",
     "output_type": "stream",
     "text": [
      "0.2\n",
      "0.2\n",
      "0.2\n",
      "0.2\n",
      "0.2\n"
     ]
    },
    {
     "name": "stderr",
     "output_type": "stream",
     "text": [
      " 31%|███       | 74/237 [00:29<01:09,  2.36it/s]"
     ]
    },
    {
     "name": "stdout",
     "output_type": "stream",
     "text": [
      "0.2\n",
      "0.2\n",
      "0.2\n",
      "0.2\n",
      "0.2\n"
     ]
    },
    {
     "name": "stderr",
     "output_type": "stream",
     "text": [
      " 32%|███▏      | 75/237 [00:30<01:06,  2.43it/s]"
     ]
    },
    {
     "name": "stdout",
     "output_type": "stream",
     "text": [
      "0.2\n",
      "0.2\n",
      "0.2\n",
      "0.2\n",
      "0.2\n"
     ]
    },
    {
     "name": "stderr",
     "output_type": "stream",
     "text": [
      " 32%|███▏      | 76/237 [00:30<01:03,  2.54it/s]"
     ]
    },
    {
     "name": "stdout",
     "output_type": "stream",
     "text": [
      "0.2\n",
      "0.2\n",
      "0.2\n",
      "0.2\n",
      "0.2\n"
     ]
    },
    {
     "name": "stderr",
     "output_type": "stream",
     "text": [
      " 32%|███▏      | 77/237 [00:30<01:01,  2.60it/s]"
     ]
    },
    {
     "name": "stdout",
     "output_type": "stream",
     "text": [
      "0.2\n",
      "0.2\n",
      "0.2\n",
      "0.2\n",
      "0.2\n"
     ]
    },
    {
     "name": "stderr",
     "output_type": "stream",
     "text": [
      " 33%|███▎      | 78/237 [00:31<00:59,  2.69it/s]"
     ]
    },
    {
     "name": "stdout",
     "output_type": "stream",
     "text": [
      "0.2\n",
      "0.2\n",
      "0.2\n",
      "0.2\n",
      "0.2\n"
     ]
    },
    {
     "name": "stderr",
     "output_type": "stream",
     "text": [
      " 33%|███▎      | 79/237 [00:31<00:58,  2.71it/s]"
     ]
    },
    {
     "name": "stdout",
     "output_type": "stream",
     "text": [
      "0.2\n",
      "0.2\n",
      "0.2\n",
      "0.2\n",
      "0.2\n"
     ]
    },
    {
     "name": "stderr",
     "output_type": "stream",
     "text": [
      " 34%|███▍      | 80/237 [00:31<00:57,  2.71it/s]"
     ]
    },
    {
     "name": "stdout",
     "output_type": "stream",
     "text": [
      "0.2\n",
      "0.2\n",
      "0.2\n",
      "0.2\n",
      "0.2\n"
     ]
    },
    {
     "name": "stderr",
     "output_type": "stream",
     "text": [
      " 34%|███▍      | 81/237 [00:32<00:57,  2.73it/s]"
     ]
    },
    {
     "name": "stdout",
     "output_type": "stream",
     "text": [
      "0.2\n",
      "0.2\n",
      "0.2\n",
      "0.2\n",
      "0.2\n"
     ]
    },
    {
     "name": "stderr",
     "output_type": "stream",
     "text": [
      " 35%|███▍      | 82/237 [00:32<00:57,  2.68it/s]"
     ]
    },
    {
     "name": "stdout",
     "output_type": "stream",
     "text": [
      "0.2\n",
      "0.2\n",
      "0.2\n",
      "0.2\n",
      "0.2\n"
     ]
    },
    {
     "name": "stderr",
     "output_type": "stream",
     "text": [
      " 35%|███▌      | 83/237 [00:33<00:56,  2.71it/s]"
     ]
    },
    {
     "name": "stdout",
     "output_type": "stream",
     "text": [
      "0.2\n",
      "0.2\n",
      "0.2\n",
      "0.2\n",
      "0.2\n"
     ]
    },
    {
     "name": "stderr",
     "output_type": "stream",
     "text": [
      " 35%|███▌      | 84/237 [00:33<00:55,  2.73it/s]"
     ]
    },
    {
     "name": "stdout",
     "output_type": "stream",
     "text": [
      "0.2\n",
      "0.2\n",
      "0.2\n",
      "0.2\n",
      "0.2\n"
     ]
    },
    {
     "name": "stderr",
     "output_type": "stream",
     "text": [
      " 36%|███▌      | 85/237 [00:34<01:10,  2.16it/s]"
     ]
    },
    {
     "name": "stdout",
     "output_type": "stream",
     "text": [
      "0.2\n",
      "0.2\n",
      "0.2\n",
      "0.2\n",
      "0.2\n"
     ]
    },
    {
     "name": "stderr",
     "output_type": "stream",
     "text": [
      " 36%|███▋      | 86/237 [00:34<01:06,  2.26it/s]"
     ]
    },
    {
     "name": "stdout",
     "output_type": "stream",
     "text": [
      "0.2\n",
      "0.2\n",
      "0.2\n",
      "0.2\n",
      "0.2\n"
     ]
    },
    {
     "name": "stderr",
     "output_type": "stream",
     "text": [
      " 37%|███▋      | 87/237 [00:34<01:02,  2.38it/s]"
     ]
    },
    {
     "name": "stdout",
     "output_type": "stream",
     "text": [
      "0.2\n",
      "0.2\n",
      "0.2\n",
      "0.2\n",
      "0.2\n"
     ]
    },
    {
     "name": "stderr",
     "output_type": "stream",
     "text": [
      " 37%|███▋      | 88/237 [00:35<01:02,  2.38it/s]"
     ]
    },
    {
     "name": "stdout",
     "output_type": "stream",
     "text": [
      "0.2\n",
      "0.2\n",
      "0.2\n",
      "0.2\n",
      "0.2\n",
      "0.2\n",
      "0.2\n",
      "0.2\n",
      "0.2\n",
      "0.2\n"
     ]
    },
    {
     "name": "stderr",
     "output_type": "stream",
     "text": [
      " 38%|███▊      | 90/237 [00:36<01:09,  2.10it/s]"
     ]
    },
    {
     "name": "stdout",
     "output_type": "stream",
     "text": [
      "0.2\n",
      "0.2\n",
      "0.2\n",
      "0.2\n",
      "0.2\n"
     ]
    },
    {
     "name": "stderr",
     "output_type": "stream",
     "text": [
      " 38%|███▊      | 91/237 [00:36<01:03,  2.30it/s]"
     ]
    },
    {
     "name": "stdout",
     "output_type": "stream",
     "text": [
      "0.2\n",
      "0.2\n",
      "0.2\n",
      "0.2\n",
      "0.2\n"
     ]
    },
    {
     "name": "stderr",
     "output_type": "stream",
     "text": [
      " 39%|███▉      | 92/237 [00:37<01:03,  2.28it/s]"
     ]
    },
    {
     "name": "stdout",
     "output_type": "stream",
     "text": [
      "0.2\n",
      "0.2\n",
      "0.2\n",
      "0.2\n",
      "0.2\n"
     ]
    },
    {
     "name": "stderr",
     "output_type": "stream",
     "text": [
      " 39%|███▉      | 93/237 [00:37<01:00,  2.39it/s]"
     ]
    },
    {
     "name": "stdout",
     "output_type": "stream",
     "text": [
      "0.2\n",
      "0.2\n",
      "0.2\n",
      "0.2\n",
      "0.2\n"
     ]
    },
    {
     "name": "stderr",
     "output_type": "stream",
     "text": [
      " 40%|███▉      | 94/237 [00:37<00:57,  2.47it/s]"
     ]
    },
    {
     "name": "stdout",
     "output_type": "stream",
     "text": [
      "0.2\n",
      "0.2\n",
      "0.2\n",
      "0.2\n",
      "0.2\n"
     ]
    },
    {
     "name": "stderr",
     "output_type": "stream",
     "text": [
      " 40%|████      | 95/237 [00:38<00:55,  2.54it/s]"
     ]
    },
    {
     "name": "stdout",
     "output_type": "stream",
     "text": [
      "0.2\n",
      "0.2\n",
      "0.2\n",
      "0.2\n",
      "0.2\n"
     ]
    },
    {
     "name": "stderr",
     "output_type": "stream",
     "text": [
      " 41%|████      | 96/237 [00:38<01:06,  2.12it/s]"
     ]
    },
    {
     "name": "stdout",
     "output_type": "stream",
     "text": [
      "0.2\n",
      "0.2\n",
      "0.2\n",
      "0.2\n",
      "0.2\n"
     ]
    },
    {
     "name": "stderr",
     "output_type": "stream",
     "text": [
      " 41%|████      | 97/237 [00:39<01:02,  2.24it/s]"
     ]
    },
    {
     "name": "stdout",
     "output_type": "stream",
     "text": [
      "0.2\n",
      "0.2\n",
      "0.2\n",
      "0.2\n",
      "0.2\n"
     ]
    },
    {
     "name": "stderr",
     "output_type": "stream",
     "text": [
      " 41%|████▏     | 98/237 [00:39<00:58,  2.36it/s]"
     ]
    },
    {
     "name": "stdout",
     "output_type": "stream",
     "text": [
      "0.2\n",
      "0.2\n",
      "0.2\n",
      "0.2\n",
      "0.2\n"
     ]
    },
    {
     "name": "stderr",
     "output_type": "stream",
     "text": [
      " 42%|████▏     | 99/237 [00:40<00:55,  2.48it/s]"
     ]
    },
    {
     "name": "stdout",
     "output_type": "stream",
     "text": [
      "0.2\n",
      "0.2\n",
      "0.2\n",
      "0.2\n",
      "0.2\n"
     ]
    },
    {
     "name": "stderr",
     "output_type": "stream",
     "text": [
      " 42%|████▏     | 100/237 [00:40<00:53,  2.55it/s]"
     ]
    },
    {
     "name": "stdout",
     "output_type": "stream",
     "text": [
      "0.2\n",
      "0.2\n",
      "0.2\n",
      "0.2\n",
      "0.2\n"
     ]
    },
    {
     "name": "stderr",
     "output_type": "stream",
     "text": [
      " 43%|████▎     | 101/237 [00:40<00:53,  2.55it/s]"
     ]
    },
    {
     "name": "stdout",
     "output_type": "stream",
     "text": [
      "0.2\n",
      "0.2\n",
      "0.2\n",
      "0.2\n",
      "0.2\n"
     ]
    },
    {
     "name": "stderr",
     "output_type": "stream",
     "text": [
      " 43%|████▎     | 102/237 [00:41<00:51,  2.61it/s]"
     ]
    },
    {
     "name": "stdout",
     "output_type": "stream",
     "text": [
      "0.2\n",
      "0.2\n",
      "0.2\n",
      "0.2\n",
      "0.2\n"
     ]
    },
    {
     "name": "stderr",
     "output_type": "stream",
     "text": [
      " 43%|████▎     | 103/237 [00:41<00:54,  2.45it/s]"
     ]
    },
    {
     "name": "stdout",
     "output_type": "stream",
     "text": [
      "0.2\n",
      "0.2\n",
      "0.2\n",
      "0.2\n",
      "0.2\n"
     ]
    },
    {
     "name": "stderr",
     "output_type": "stream",
     "text": [
      " 44%|████▍     | 104/237 [00:42<00:52,  2.51it/s]"
     ]
    },
    {
     "name": "stdout",
     "output_type": "stream",
     "text": [
      "0.2\n",
      "0.2\n",
      "0.2\n",
      "0.2\n",
      "0.2\n"
     ]
    },
    {
     "name": "stderr",
     "output_type": "stream",
     "text": [
      " 44%|████▍     | 105/237 [00:42<00:54,  2.42it/s]"
     ]
    },
    {
     "name": "stdout",
     "output_type": "stream",
     "text": [
      "0.2\n",
      "0.2\n",
      "0.2\n",
      "0.2\n",
      "0.2\n",
      "0.2\n",
      "0.2\n",
      "0.2\n",
      "0.2\n",
      "0.2\n"
     ]
    },
    {
     "name": "stderr",
     "output_type": "stream",
     "text": [
      " 45%|████▌     | 107/237 [00:43<01:08,  1.89it/s]"
     ]
    },
    {
     "name": "stdout",
     "output_type": "stream",
     "text": [
      "0.2\n",
      "0.2\n",
      "0.2\n",
      "0.2\n",
      "0.2\n",
      "0.2\n",
      "0.2\n",
      "0.2\n",
      "0.2\n",
      "0.2\n"
     ]
    },
    {
     "name": "stderr",
     "output_type": "stream",
     "text": [
      " 46%|████▌     | 109/237 [00:44<01:10,  1.81it/s]"
     ]
    },
    {
     "name": "stdout",
     "output_type": "stream",
     "text": [
      "0.2\n",
      "0.2\n",
      "0.2\n",
      "0.2\n",
      "0.2\n"
     ]
    },
    {
     "name": "stderr",
     "output_type": "stream",
     "text": [
      " 46%|████▋     | 110/237 [00:45<01:02,  2.02it/s]"
     ]
    },
    {
     "name": "stdout",
     "output_type": "stream",
     "text": [
      "0.2\n",
      "0.2\n",
      "0.2\n",
      "0.2\n",
      "0.2\n"
     ]
    },
    {
     "name": "stderr",
     "output_type": "stream",
     "text": [
      " 47%|████▋     | 111/237 [00:45<00:58,  2.14it/s]"
     ]
    },
    {
     "name": "stdout",
     "output_type": "stream",
     "text": [
      "0.2\n",
      "0.2\n",
      "0.2\n",
      "0.2\n",
      "0.2\n"
     ]
    },
    {
     "name": "stderr",
     "output_type": "stream",
     "text": [
      " 47%|████▋     | 112/237 [00:46<00:55,  2.26it/s]"
     ]
    },
    {
     "name": "stdout",
     "output_type": "stream",
     "text": [
      "0.2\n",
      "0.2\n",
      "0.2\n",
      "0.2\n",
      "0.2\n"
     ]
    },
    {
     "name": "stderr",
     "output_type": "stream",
     "text": [
      " 48%|████▊     | 113/237 [00:46<00:50,  2.44it/s]"
     ]
    },
    {
     "name": "stdout",
     "output_type": "stream",
     "text": [
      "0.2\n",
      "0.2\n",
      "0.2\n",
      "0.2\n",
      "0.2\n"
     ]
    },
    {
     "name": "stderr",
     "output_type": "stream",
     "text": [
      " 48%|████▊     | 114/237 [00:46<00:49,  2.50it/s]"
     ]
    },
    {
     "name": "stdout",
     "output_type": "stream",
     "text": [
      "0.2\n",
      "0.2\n",
      "0.2\n",
      "0.2\n",
      "0.2\n"
     ]
    },
    {
     "name": "stderr",
     "output_type": "stream",
     "text": [
      " 49%|████▊     | 115/237 [00:47<00:47,  2.56it/s]"
     ]
    },
    {
     "name": "stdout",
     "output_type": "stream",
     "text": [
      "0.2\n",
      "0.2\n",
      "0.2\n",
      "0.2\n",
      "0.2\n"
     ]
    },
    {
     "name": "stderr",
     "output_type": "stream",
     "text": [
      " 49%|████▉     | 116/237 [00:47<00:46,  2.59it/s]"
     ]
    },
    {
     "name": "stdout",
     "output_type": "stream",
     "text": [
      "0.2\n",
      "0.2\n",
      "0.2\n",
      "0.2\n",
      "0.2\n",
      "0.2\n",
      "0.2\n",
      "0.2\n",
      "0.2\n",
      "0.2\n"
     ]
    },
    {
     "name": "stderr",
     "output_type": "stream",
     "text": [
      " 50%|████▉     | 118/237 [00:48<00:55,  2.14it/s]"
     ]
    },
    {
     "name": "stdout",
     "output_type": "stream",
     "text": [
      "0.2\n",
      "0.2\n",
      "0.2\n",
      "0.2\n",
      "0.2\n"
     ]
    },
    {
     "name": "stderr",
     "output_type": "stream",
     "text": [
      " 50%|█████     | 119/237 [00:49<00:53,  2.19it/s]"
     ]
    },
    {
     "name": "stdout",
     "output_type": "stream",
     "text": [
      "0.2\n",
      "0.2\n",
      "0.2\n",
      "0.2\n",
      "0.2\n"
     ]
    },
    {
     "name": "stderr",
     "output_type": "stream",
     "text": [
      " 51%|█████     | 120/237 [00:49<00:54,  2.13it/s]"
     ]
    },
    {
     "name": "stdout",
     "output_type": "stream",
     "text": [
      "0.2\n",
      "0.2\n",
      "0.2\n",
      "0.2\n",
      "0.2\n"
     ]
    },
    {
     "name": "stderr",
     "output_type": "stream",
     "text": [
      " 51%|█████     | 121/237 [00:50<00:52,  2.19it/s]"
     ]
    },
    {
     "name": "stdout",
     "output_type": "stream",
     "text": [
      "0.2\n",
      "0.2\n",
      "0.2\n",
      "0.2\n",
      "0.2\n"
     ]
    },
    {
     "name": "stderr",
     "output_type": "stream",
     "text": [
      " 51%|█████▏    | 122/237 [00:50<00:53,  2.15it/s]"
     ]
    },
    {
     "name": "stdout",
     "output_type": "stream",
     "text": [
      "0.2\n",
      "0.2\n",
      "0.2\n",
      "0.2\n",
      "0.2\n"
     ]
    },
    {
     "name": "stderr",
     "output_type": "stream",
     "text": [
      " 52%|█████▏    | 123/237 [00:50<00:52,  2.16it/s]"
     ]
    },
    {
     "name": "stdout",
     "output_type": "stream",
     "text": [
      "0.2\n",
      "0.2\n",
      "0.2\n",
      "0.2\n",
      "0.2\n"
     ]
    },
    {
     "name": "stderr",
     "output_type": "stream",
     "text": [
      " 52%|█████▏    | 124/237 [00:51<00:52,  2.16it/s]"
     ]
    },
    {
     "name": "stdout",
     "output_type": "stream",
     "text": [
      "0.2\n",
      "0.2\n",
      "0.2\n",
      "0.2\n",
      "0.2\n"
     ]
    },
    {
     "name": "stderr",
     "output_type": "stream",
     "text": [
      " 53%|█████▎    | 125/237 [00:51<00:52,  2.12it/s]"
     ]
    },
    {
     "name": "stdout",
     "output_type": "stream",
     "text": [
      "0.2\n",
      "0.2\n",
      "0.2\n",
      "0.2\n",
      "0.2\n"
     ]
    },
    {
     "name": "stderr",
     "output_type": "stream",
     "text": [
      " 53%|█████▎    | 126/237 [00:52<00:52,  2.11it/s]"
     ]
    },
    {
     "name": "stdout",
     "output_type": "stream",
     "text": [
      "0.2\n",
      "0.2\n",
      "0.2\n",
      "0.2\n",
      "0.2\n"
     ]
    },
    {
     "name": "stderr",
     "output_type": "stream",
     "text": [
      " 54%|█████▎    | 127/237 [00:52<00:49,  2.24it/s]"
     ]
    },
    {
     "name": "stdout",
     "output_type": "stream",
     "text": [
      "0.2\n",
      "0.2\n",
      "0.2\n",
      "0.2\n",
      "0.2\n"
     ]
    },
    {
     "name": "stderr",
     "output_type": "stream",
     "text": [
      " 54%|█████▍    | 128/237 [00:53<01:00,  1.81it/s]"
     ]
    },
    {
     "name": "stdout",
     "output_type": "stream",
     "text": [
      "0.2\n",
      "0.2\n",
      "0.2\n",
      "0.2\n",
      "0.2\n"
     ]
    },
    {
     "name": "stderr",
     "output_type": "stream",
     "text": [
      " 54%|█████▍    | 129/237 [00:54<00:57,  1.87it/s]"
     ]
    },
    {
     "name": "stdout",
     "output_type": "stream",
     "text": [
      "0.2\n",
      "0.2\n",
      "0.2\n",
      "0.2\n",
      "0.2\n"
     ]
    },
    {
     "name": "stderr",
     "output_type": "stream",
     "text": [
      " 55%|█████▍    | 130/237 [00:54<00:57,  1.87it/s]"
     ]
    },
    {
     "name": "stdout",
     "output_type": "stream",
     "text": [
      "0.2\n",
      "0.2\n",
      "0.2\n",
      "0.2\n",
      "0.2\n"
     ]
    },
    {
     "name": "stderr",
     "output_type": "stream",
     "text": [
      " 55%|█████▌    | 131/237 [00:55<00:54,  1.96it/s]"
     ]
    },
    {
     "name": "stdout",
     "output_type": "stream",
     "text": [
      "0.2\n",
      "0.2\n",
      "0.2\n",
      "0.2\n",
      "0.2\n"
     ]
    },
    {
     "name": "stderr",
     "output_type": "stream",
     "text": [
      " 56%|█████▌    | 132/237 [00:55<00:53,  1.95it/s]"
     ]
    },
    {
     "name": "stdout",
     "output_type": "stream",
     "text": [
      "0.2\n",
      "0.2\n",
      "0.2\n",
      "0.2\n",
      "0.2\n",
      "0.2\n",
      "0.2\n",
      "0.2\n",
      "0.2\n",
      "0.2\n"
     ]
    },
    {
     "name": "stderr",
     "output_type": "stream",
     "text": [
      " 56%|█████▌    | 133/237 [00:56<00:58,  1.78it/s]"
     ]
    },
    {
     "name": "stdout",
     "output_type": "stream",
     "text": [
      "0.2\n",
      "0.2\n",
      "0.2\n",
      "0.2\n",
      "0.2\n"
     ]
    },
    {
     "name": "stderr",
     "output_type": "stream",
     "text": [
      " 57%|█████▋    | 135/237 [00:57<01:03,  1.61it/s]"
     ]
    },
    {
     "name": "stdout",
     "output_type": "stream",
     "text": [
      "0.2\n",
      "0.2\n",
      "0.2\n",
      "0.2\n",
      "0.2\n"
     ]
    },
    {
     "name": "stderr",
     "output_type": "stream",
     "text": [
      " 57%|█████▋    | 136/237 [00:58<00:58,  1.74it/s]"
     ]
    },
    {
     "name": "stdout",
     "output_type": "stream",
     "text": [
      "0.2\n",
      "0.2\n",
      "0.2\n",
      "0.2\n",
      "0.2\n",
      "0.2\n",
      "0.2\n",
      "0.2\n",
      "0.2\n",
      "0.2\n"
     ]
    },
    {
     "name": "stderr",
     "output_type": "stream",
     "text": [
      " 58%|█████▊    | 138/237 [00:59<00:56,  1.75it/s]"
     ]
    },
    {
     "name": "stdout",
     "output_type": "stream",
     "text": [
      "0.2\n",
      "0.2\n",
      "0.2\n",
      "0.2\n",
      "0.2\n"
     ]
    },
    {
     "name": "stderr",
     "output_type": "stream",
     "text": [
      " 59%|█████▊    | 139/237 [00:59<00:53,  1.82it/s]"
     ]
    },
    {
     "name": "stdout",
     "output_type": "stream",
     "text": [
      "0.2\n",
      "0.2\n",
      "0.2\n",
      "0.2\n",
      "0.2\n",
      "0.2\n",
      "0.2\n",
      "0.2\n",
      "0.2\n",
      "0.2\n"
     ]
    },
    {
     "name": "stderr",
     "output_type": "stream",
     "text": [
      " 59%|█████▉    | 141/237 [01:01<01:04,  1.48it/s]"
     ]
    },
    {
     "name": "stdout",
     "output_type": "stream",
     "text": [
      "0.2\n",
      "0.2\n",
      "0.2\n",
      "0.2\n",
      "0.2\n"
     ]
    },
    {
     "name": "stderr",
     "output_type": "stream",
     "text": [
      " 60%|█████▉    | 142/237 [01:01<00:58,  1.63it/s]"
     ]
    },
    {
     "name": "stdout",
     "output_type": "stream",
     "text": [
      "0.2\n",
      "0.2\n",
      "0.2\n",
      "0.2\n",
      "0.2\n"
     ]
    },
    {
     "name": "stderr",
     "output_type": "stream",
     "text": [
      " 60%|██████    | 143/237 [01:02<00:58,  1.61it/s]"
     ]
    },
    {
     "name": "stdout",
     "output_type": "stream",
     "text": [
      "0.2\n",
      "0.2\n",
      "0.2\n",
      "0.2\n",
      "0.2\n"
     ]
    },
    {
     "name": "stderr",
     "output_type": "stream",
     "text": [
      " 61%|██████    | 144/237 [01:02<00:51,  1.79it/s]"
     ]
    },
    {
     "name": "stdout",
     "output_type": "stream",
     "text": [
      "0.2\n",
      "0.2\n",
      "0.2\n",
      "0.2\n",
      "0.2\n",
      "0.2\n",
      "0.2\n",
      "0.2\n",
      "0.2\n",
      "0.2\n"
     ]
    },
    {
     "name": "stderr",
     "output_type": "stream",
     "text": [
      " 62%|██████▏   | 146/237 [01:03<00:48,  1.88it/s]"
     ]
    },
    {
     "name": "stdout",
     "output_type": "stream",
     "text": [
      "0.2\n",
      "0.2\n",
      "0.2\n",
      "0.2\n",
      "0.2\n"
     ]
    },
    {
     "name": "stderr",
     "output_type": "stream",
     "text": [
      " 62%|██████▏   | 147/237 [01:04<00:43,  2.07it/s]"
     ]
    },
    {
     "name": "stdout",
     "output_type": "stream",
     "text": [
      "0.2\n",
      "0.2\n",
      "0.2\n",
      "0.2\n",
      "0.2\n"
     ]
    },
    {
     "name": "stderr",
     "output_type": "stream",
     "text": [
      " 62%|██████▏   | 148/237 [01:04<00:39,  2.25it/s]"
     ]
    },
    {
     "name": "stdout",
     "output_type": "stream",
     "text": [
      "0.2\n",
      "0.2\n",
      "0.2\n",
      "0.2\n",
      "0.2\n"
     ]
    },
    {
     "name": "stderr",
     "output_type": "stream",
     "text": [
      " 63%|██████▎   | 149/237 [01:05<00:37,  2.33it/s]"
     ]
    },
    {
     "name": "stdout",
     "output_type": "stream",
     "text": [
      "0.2\n",
      "0.2\n",
      "0.2\n",
      "0.2\n",
      "0.2\n"
     ]
    },
    {
     "name": "stderr",
     "output_type": "stream",
     "text": [
      " 63%|██████▎   | 150/237 [01:05<00:36,  2.37it/s]"
     ]
    },
    {
     "name": "stdout",
     "output_type": "stream",
     "text": [
      "0.2\n",
      "0.2\n",
      "0.2\n",
      "0.2\n",
      "0.2\n"
     ]
    },
    {
     "name": "stderr",
     "output_type": "stream",
     "text": [
      " 64%|██████▎   | 151/237 [01:05<00:35,  2.42it/s]"
     ]
    },
    {
     "name": "stdout",
     "output_type": "stream",
     "text": [
      "0.2\n",
      "0.2\n",
      "0.2\n",
      "0.2\n",
      "0.2\n",
      "0.2\n",
      "0.2\n",
      "0.2\n",
      "0.2\n",
      "0.2\n"
     ]
    },
    {
     "name": "stderr",
     "output_type": "stream",
     "text": [
      " 65%|██████▍   | 153/237 [01:07<00:41,  2.03it/s]"
     ]
    },
    {
     "name": "stdout",
     "output_type": "stream",
     "text": [
      "0.2\n",
      "0.2\n",
      "0.2\n",
      "0.2\n",
      "0.2\n"
     ]
    },
    {
     "name": "stderr",
     "output_type": "stream",
     "text": [
      " 65%|██████▍   | 154/237 [01:07<00:37,  2.21it/s]"
     ]
    },
    {
     "name": "stdout",
     "output_type": "stream",
     "text": [
      "0.2\n",
      "0.2\n",
      "0.2\n",
      "0.2\n",
      "0.2\n"
     ]
    },
    {
     "name": "stderr",
     "output_type": "stream",
     "text": [
      " 65%|██████▌   | 155/237 [01:07<00:35,  2.33it/s]"
     ]
    },
    {
     "name": "stdout",
     "output_type": "stream",
     "text": [
      "0.2\n",
      "0.2\n",
      "0.2\n",
      "0.2\n",
      "0.2\n",
      "0.2\n",
      "0.2\n",
      "0.2\n",
      "0.2\n",
      "0.2\n"
     ]
    },
    {
     "name": "stderr",
     "output_type": "stream",
     "text": [
      " 66%|██████▌   | 157/237 [01:09<00:42,  1.87it/s]"
     ]
    },
    {
     "name": "stdout",
     "output_type": "stream",
     "text": [
      "0.2\n",
      "0.2\n",
      "0.2\n",
      "0.2\n",
      "0.2\n",
      "0.2\n",
      "0.2\n",
      "0.2\n",
      "0.2\n",
      "0.2\n"
     ]
    },
    {
     "name": "stderr",
     "output_type": "stream",
     "text": [
      " 67%|██████▋   | 159/237 [01:10<00:40,  1.91it/s]"
     ]
    },
    {
     "name": "stdout",
     "output_type": "stream",
     "text": [
      "0.2\n",
      "0.2\n",
      "0.2\n",
      "0.2\n",
      "0.2\n"
     ]
    },
    {
     "name": "stderr",
     "output_type": "stream",
     "text": [
      " 68%|██████▊   | 160/237 [01:10<00:38,  2.01it/s]"
     ]
    },
    {
     "name": "stdout",
     "output_type": "stream",
     "text": [
      "0.2\n",
      "0.2\n",
      "0.2\n",
      "0.2\n",
      "0.2\n"
     ]
    },
    {
     "name": "stderr",
     "output_type": "stream",
     "text": [
      " 68%|██████▊   | 161/237 [01:10<00:35,  2.15it/s]"
     ]
    },
    {
     "name": "stdout",
     "output_type": "stream",
     "text": [
      "0.2\n",
      "0.2\n",
      "0.2\n",
      "0.2\n",
      "0.2\n"
     ]
    },
    {
     "name": "stderr",
     "output_type": "stream",
     "text": [
      " 68%|██████▊   | 162/237 [01:11<00:33,  2.22it/s]"
     ]
    },
    {
     "name": "stdout",
     "output_type": "stream",
     "text": [
      "0.2\n",
      "0.2\n",
      "0.2\n",
      "0.2\n",
      "0.2\n"
     ]
    },
    {
     "name": "stderr",
     "output_type": "stream",
     "text": [
      " 69%|██████▉   | 163/237 [01:11<00:31,  2.34it/s]"
     ]
    },
    {
     "name": "stdout",
     "output_type": "stream",
     "text": [
      "0.2\n",
      "0.2\n",
      "0.2\n",
      "0.2\n",
      "0.2\n"
     ]
    },
    {
     "name": "stderr",
     "output_type": "stream",
     "text": [
      " 69%|██████▉   | 164/237 [01:12<00:30,  2.37it/s]"
     ]
    },
    {
     "name": "stdout",
     "output_type": "stream",
     "text": [
      "0.2\n",
      "0.2\n",
      "0.2\n",
      "0.2\n",
      "0.2\n",
      "0.2\n",
      "0.2\n",
      "0.2\n",
      "0.2\n",
      "0.2\n"
     ]
    },
    {
     "name": "stderr",
     "output_type": "stream",
     "text": [
      " 70%|███████   | 166/237 [01:13<00:40,  1.75it/s]"
     ]
    },
    {
     "name": "stdout",
     "output_type": "stream",
     "text": [
      "0.2\n",
      "0.2\n",
      "0.2\n",
      "0.2\n",
      "0.2\n"
     ]
    },
    {
     "name": "stderr",
     "output_type": "stream",
     "text": [
      " 70%|███████   | 167/237 [01:13<00:35,  1.98it/s]"
     ]
    },
    {
     "name": "stdout",
     "output_type": "stream",
     "text": [
      "0.2\n",
      "0.2\n",
      "0.2\n",
      "0.2\n",
      "0.2\n"
     ]
    },
    {
     "name": "stderr",
     "output_type": "stream",
     "text": [
      " 71%|███████   | 168/237 [01:14<00:32,  2.14it/s]"
     ]
    },
    {
     "name": "stdout",
     "output_type": "stream",
     "text": [
      "0.2\n",
      "0.2\n",
      "0.2\n",
      "0.2\n",
      "0.2\n"
     ]
    },
    {
     "name": "stderr",
     "output_type": "stream",
     "text": [
      " 71%|███████▏  | 169/237 [01:14<00:31,  2.14it/s]"
     ]
    },
    {
     "name": "stdout",
     "output_type": "stream",
     "text": [
      "0.2\n",
      "0.2\n",
      "0.2\n",
      "0.2\n",
      "0.2\n"
     ]
    },
    {
     "name": "stderr",
     "output_type": "stream",
     "text": [
      " 72%|███████▏  | 170/237 [01:15<00:31,  2.14it/s]"
     ]
    },
    {
     "name": "stdout",
     "output_type": "stream",
     "text": [
      "0.2\n",
      "0.2\n",
      "0.2\n",
      "0.2\n",
      "0.2\n"
     ]
    },
    {
     "name": "stderr",
     "output_type": "stream",
     "text": [
      " 72%|███████▏  | 171/237 [01:15<00:29,  2.23it/s]"
     ]
    },
    {
     "name": "stdout",
     "output_type": "stream",
     "text": [
      "0.2\n",
      "0.2\n",
      "0.2\n",
      "0.2\n",
      "0.2\n"
     ]
    },
    {
     "name": "stderr",
     "output_type": "stream",
     "text": [
      " 73%|███████▎  | 172/237 [01:16<00:28,  2.25it/s]"
     ]
    },
    {
     "name": "stdout",
     "output_type": "stream",
     "text": [
      "0.2\n",
      "0.2\n",
      "0.2\n",
      "0.2\n",
      "0.2\n",
      "0.2\n",
      "0.2\n",
      "0.2\n",
      "0.2\n",
      "0.2\n"
     ]
    },
    {
     "name": "stderr",
     "output_type": "stream",
     "text": [
      " 73%|███████▎  | 173/237 [01:16<00:34,  1.86it/s]"
     ]
    },
    {
     "name": "stdout",
     "output_type": "stream",
     "text": [
      "0.2\n",
      "0.2\n",
      "0.2\n",
      "0.2\n",
      "0.2\n"
     ]
    },
    {
     "name": "stderr",
     "output_type": "stream",
     "text": [
      " 74%|███████▍  | 175/237 [01:17<00:31,  1.98it/s]"
     ]
    },
    {
     "name": "stdout",
     "output_type": "stream",
     "text": [
      "0.2\n",
      "0.2\n",
      "0.2\n",
      "0.2\n",
      "0.2\n"
     ]
    },
    {
     "name": "stderr",
     "output_type": "stream",
     "text": [
      " 74%|███████▍  | 176/237 [01:18<00:30,  1.99it/s]"
     ]
    },
    {
     "name": "stdout",
     "output_type": "stream",
     "text": [
      "0.2\n",
      "0.2\n",
      "0.2\n",
      "0.2\n",
      "0.2\n"
     ]
    },
    {
     "name": "stderr",
     "output_type": "stream",
     "text": [
      " 75%|███████▍  | 177/237 [01:18<00:28,  2.09it/s]"
     ]
    },
    {
     "name": "stdout",
     "output_type": "stream",
     "text": [
      "0.2\n",
      "0.2\n",
      "0.2\n",
      "0.2\n",
      "0.2\n"
     ]
    },
    {
     "name": "stderr",
     "output_type": "stream",
     "text": [
      " 75%|███████▌  | 178/237 [01:19<00:33,  1.78it/s]"
     ]
    },
    {
     "name": "stdout",
     "output_type": "stream",
     "text": [
      "0.2\n",
      "0.2\n",
      "0.2\n",
      "0.2\n",
      "0.2\n",
      "0.2\n",
      "0.2\n",
      "0.2\n",
      "0.2\n",
      "0.2\n"
     ]
    },
    {
     "name": "stderr",
     "output_type": "stream",
     "text": [
      " 76%|███████▌  | 180/237 [01:20<00:29,  1.96it/s]"
     ]
    },
    {
     "name": "stdout",
     "output_type": "stream",
     "text": [
      "0.2\n",
      "0.2\n",
      "0.2\n",
      "0.2\n",
      "0.2\n",
      "0.2\n",
      "0.2\n",
      "0.2\n",
      "0.2\n",
      "0.2\n"
     ]
    },
    {
     "name": "stderr",
     "output_type": "stream",
     "text": [
      " 77%|███████▋  | 182/237 [01:21<00:29,  1.86it/s]"
     ]
    },
    {
     "name": "stdout",
     "output_type": "stream",
     "text": [
      "0.2\n",
      "0.2\n",
      "0.2\n",
      "0.2\n",
      "0.2\n"
     ]
    },
    {
     "name": "stderr",
     "output_type": "stream",
     "text": [
      " 77%|███████▋  | 183/237 [01:22<00:28,  1.87it/s]"
     ]
    },
    {
     "name": "stdout",
     "output_type": "stream",
     "text": [
      "0.2\n",
      "0.2\n",
      "0.2\n",
      "0.2\n",
      "0.2\n"
     ]
    },
    {
     "name": "stderr",
     "output_type": "stream",
     "text": [
      " 78%|███████▊  | 184/237 [01:22<00:28,  1.88it/s]"
     ]
    },
    {
     "name": "stdout",
     "output_type": "stream",
     "text": [
      "0.2\n",
      "0.2\n",
      "0.2\n",
      "0.2\n",
      "0.2\n"
     ]
    },
    {
     "name": "stderr",
     "output_type": "stream",
     "text": [
      " 78%|███████▊  | 185/237 [01:23<00:26,  1.93it/s]"
     ]
    },
    {
     "name": "stdout",
     "output_type": "stream",
     "text": [
      "0.2\n",
      "0.2\n",
      "0.2\n",
      "0.2\n",
      "0.2\n"
     ]
    },
    {
     "name": "stderr",
     "output_type": "stream",
     "text": [
      " 78%|███████▊  | 186/237 [01:23<00:30,  1.65it/s]"
     ]
    },
    {
     "name": "stdout",
     "output_type": "stream",
     "text": [
      "0.2\n",
      "0.2\n",
      "0.2\n",
      "0.2\n",
      "0.2\n"
     ]
    },
    {
     "name": "stderr",
     "output_type": "stream",
     "text": [
      " 79%|███████▉  | 187/237 [01:24<00:28,  1.74it/s]"
     ]
    },
    {
     "name": "stdout",
     "output_type": "stream",
     "text": [
      "0.2\n",
      "0.2\n",
      "0.2\n",
      "0.2\n",
      "0.2\n"
     ]
    },
    {
     "name": "stderr",
     "output_type": "stream",
     "text": [
      " 79%|███████▉  | 188/237 [01:24<00:25,  1.94it/s]"
     ]
    },
    {
     "name": "stdout",
     "output_type": "stream",
     "text": [
      "0.2\n",
      "0.2\n",
      "0.2\n",
      "0.2\n",
      "0.2\n"
     ]
    },
    {
     "name": "stderr",
     "output_type": "stream",
     "text": [
      " 80%|███████▉  | 189/237 [01:25<00:24,  1.93it/s]"
     ]
    },
    {
     "name": "stdout",
     "output_type": "stream",
     "text": [
      "0.2\n",
      "0.2\n",
      "0.2\n",
      "0.2\n",
      "0.2\n"
     ]
    },
    {
     "name": "stderr",
     "output_type": "stream",
     "text": [
      " 80%|████████  | 190/237 [01:25<00:23,  2.00it/s]"
     ]
    },
    {
     "name": "stdout",
     "output_type": "stream",
     "text": [
      "0.2\n",
      "0.2\n",
      "0.2\n",
      "0.2\n",
      "0.2\n",
      "0.2\n",
      "0.2\n",
      "0.2\n",
      "0.2\n",
      "0.2\n"
     ]
    },
    {
     "name": "stderr",
     "output_type": "stream",
     "text": [
      " 81%|████████  | 191/237 [01:26<00:24,  1.89it/s]"
     ]
    },
    {
     "name": "stdout",
     "output_type": "stream",
     "text": [
      "0.2\n",
      "0.2\n",
      "0.2\n",
      "0.2\n",
      "0.2\n"
     ]
    },
    {
     "name": "stderr",
     "output_type": "stream",
     "text": [
      " 81%|████████  | 192/237 [01:27<00:24,  1.84it/s]"
     ]
    },
    {
     "name": "stdout",
     "output_type": "stream",
     "text": [
      "0.2\n",
      "0.2\n",
      "0.2\n",
      "0.2\n",
      "0.2\n"
     ]
    },
    {
     "name": "stderr",
     "output_type": "stream",
     "text": [
      " 82%|████████▏ | 194/237 [01:28<00:25,  1.71it/s]"
     ]
    },
    {
     "name": "stdout",
     "output_type": "stream",
     "text": [
      "0.2\n",
      "0.2\n",
      "0.2\n",
      "0.2\n",
      "0.2\n"
     ]
    },
    {
     "name": "stderr",
     "output_type": "stream",
     "text": [
      " 82%|████████▏ | 195/237 [01:28<00:22,  1.83it/s]"
     ]
    },
    {
     "name": "stdout",
     "output_type": "stream",
     "text": [
      "0.2\n",
      "0.2\n",
      "0.2\n",
      "0.2\n",
      "0.2\n"
     ]
    },
    {
     "name": "stderr",
     "output_type": "stream",
     "text": [
      " 83%|████████▎ | 196/237 [01:29<00:21,  1.92it/s]"
     ]
    },
    {
     "name": "stdout",
     "output_type": "stream",
     "text": [
      "0.2\n",
      "0.2\n",
      "0.2\n",
      "0.2\n",
      "0.2\n",
      "0.2\n",
      "0.2\n",
      "0.2\n",
      "0.2\n",
      "0.2\n"
     ]
    },
    {
     "name": "stderr",
     "output_type": "stream",
     "text": [
      " 84%|████████▎ | 198/237 [01:30<00:24,  1.56it/s]"
     ]
    },
    {
     "name": "stdout",
     "output_type": "stream",
     "text": [
      "0.2\n",
      "0.2\n",
      "0.2\n",
      "0.2\n",
      "0.2\n",
      "0.2\n",
      "0.2\n",
      "0.2\n",
      "0.2\n",
      "0.2\n"
     ]
    },
    {
     "name": "stderr",
     "output_type": "stream",
     "text": [
      " 84%|████████▍ | 199/237 [01:31<00:23,  1.60it/s]"
     ]
    },
    {
     "name": "stdout",
     "output_type": "stream",
     "text": [
      "0.2\n",
      "0.2\n",
      "0.2\n",
      "0.2\n",
      "0.2\n"
     ]
    },
    {
     "name": "stderr",
     "output_type": "stream",
     "text": [
      " 85%|████████▍ | 201/237 [01:32<00:21,  1.66it/s]"
     ]
    },
    {
     "name": "stdout",
     "output_type": "stream",
     "text": [
      "0.2\n",
      "0.2\n",
      "0.2\n",
      "0.2\n",
      "0.2\n",
      "0.2\n",
      "0.2\n",
      "0.2\n",
      "0.2\n",
      "0.2\n"
     ]
    },
    {
     "name": "stderr",
     "output_type": "stream",
     "text": [
      " 86%|████████▌ | 203/237 [01:33<00:17,  1.89it/s]"
     ]
    },
    {
     "name": "stdout",
     "output_type": "stream",
     "text": [
      "0.2\n",
      "0.2\n",
      "0.2\n",
      "0.2\n",
      "0.2\n"
     ]
    },
    {
     "name": "stderr",
     "output_type": "stream",
     "text": [
      " 86%|████████▌ | 204/237 [01:33<00:16,  1.98it/s]"
     ]
    },
    {
     "name": "stdout",
     "output_type": "stream",
     "text": [
      "0.2\n",
      "0.2\n",
      "0.2\n",
      "0.2\n",
      "0.2\n"
     ]
    },
    {
     "name": "stderr",
     "output_type": "stream",
     "text": [
      " 86%|████████▋ | 205/237 [01:34<00:15,  2.06it/s]"
     ]
    },
    {
     "name": "stdout",
     "output_type": "stream",
     "text": [
      "0.2\n",
      "0.2\n",
      "0.2\n",
      "0.2\n",
      "0.2\n"
     ]
    },
    {
     "name": "stderr",
     "output_type": "stream",
     "text": [
      " 87%|████████▋ | 206/237 [01:34<00:14,  2.12it/s]"
     ]
    },
    {
     "name": "stdout",
     "output_type": "stream",
     "text": [
      "0.2\n",
      "0.2\n",
      "0.2\n",
      "0.2\n",
      "0.2\n"
     ]
    },
    {
     "name": "stderr",
     "output_type": "stream",
     "text": [
      " 87%|████████▋ | 207/237 [01:35<00:14,  2.12it/s]"
     ]
    },
    {
     "name": "stdout",
     "output_type": "stream",
     "text": [
      "0.2\n",
      "0.2\n",
      "0.2\n",
      "0.2\n",
      "0.2\n"
     ]
    },
    {
     "name": "stderr",
     "output_type": "stream",
     "text": [
      " 88%|████████▊ | 208/237 [01:35<00:13,  2.19it/s]"
     ]
    },
    {
     "name": "stdout",
     "output_type": "stream",
     "text": [
      "0.2\n",
      "0.2\n",
      "0.2\n",
      "0.2\n",
      "0.2\n",
      "0.2\n",
      "0.2\n",
      "0.2\n",
      "0.2\n",
      "0.2\n"
     ]
    },
    {
     "name": "stderr",
     "output_type": "stream",
     "text": [
      " 89%|████████▊ | 210/237 [01:37<00:15,  1.71it/s]"
     ]
    },
    {
     "name": "stdout",
     "output_type": "stream",
     "text": [
      "0.2\n",
      "0.2\n",
      "0.2\n",
      "0.2\n",
      "0.2\n"
     ]
    },
    {
     "name": "stderr",
     "output_type": "stream",
     "text": [
      " 89%|████████▉ | 211/237 [01:37<00:13,  1.92it/s]"
     ]
    },
    {
     "name": "stdout",
     "output_type": "stream",
     "text": [
      "0.2\n",
      "0.2\n",
      "0.2\n",
      "0.2\n",
      "0.2\n"
     ]
    },
    {
     "name": "stderr",
     "output_type": "stream",
     "text": [
      " 89%|████████▉ | 212/237 [01:37<00:12,  2.00it/s]"
     ]
    },
    {
     "name": "stdout",
     "output_type": "stream",
     "text": [
      "0.2\n",
      "0.2\n",
      "0.2\n",
      "0.2\n",
      "0.2\n"
     ]
    },
    {
     "name": "stderr",
     "output_type": "stream",
     "text": [
      " 90%|████████▉ | 213/237 [01:38<00:12,  1.98it/s]"
     ]
    },
    {
     "name": "stdout",
     "output_type": "stream",
     "text": [
      "0.2\n",
      "0.2\n",
      "0.2\n",
      "0.2\n",
      "0.2\n"
     ]
    },
    {
     "name": "stderr",
     "output_type": "stream",
     "text": [
      " 90%|█████████ | 214/237 [01:38<00:11,  1.98it/s]"
     ]
    },
    {
     "name": "stdout",
     "output_type": "stream",
     "text": [
      "0.2\n",
      "0.2\n",
      "0.2\n",
      "0.2\n",
      "0.2\n"
     ]
    },
    {
     "name": "stderr",
     "output_type": "stream",
     "text": [
      " 91%|█████████ | 215/237 [01:39<00:10,  2.04it/s]"
     ]
    },
    {
     "name": "stdout",
     "output_type": "stream",
     "text": [
      "0.2\n",
      "0.2\n",
      "0.2\n",
      "0.2\n",
      "0.2\n"
     ]
    },
    {
     "name": "stderr",
     "output_type": "stream",
     "text": [
      " 91%|█████████ | 216/237 [01:39<00:09,  2.18it/s]"
     ]
    },
    {
     "name": "stdout",
     "output_type": "stream",
     "text": [
      "0.2\n",
      "0.2\n",
      "0.2\n",
      "0.2\n",
      "0.2\n",
      "0.2\n",
      "0.2\n",
      "0.2\n",
      "0.2\n",
      "0.2\n"
     ]
    },
    {
     "name": "stderr",
     "output_type": "stream",
     "text": [
      " 92%|█████████▏| 218/237 [01:40<00:09,  2.09it/s]"
     ]
    },
    {
     "name": "stdout",
     "output_type": "stream",
     "text": [
      "0.2\n",
      "0.2\n",
      "0.2\n",
      "0.2\n",
      "0.2\n"
     ]
    },
    {
     "name": "stderr",
     "output_type": "stream",
     "text": [
      " 92%|█████████▏| 219/237 [01:41<00:08,  2.15it/s]"
     ]
    },
    {
     "name": "stdout",
     "output_type": "stream",
     "text": [
      "0.2\n",
      "0.2\n",
      "0.2\n",
      "0.2\n",
      "0.2\n"
     ]
    },
    {
     "name": "stderr",
     "output_type": "stream",
     "text": [
      " 93%|█████████▎| 220/237 [01:41<00:07,  2.18it/s]"
     ]
    },
    {
     "name": "stdout",
     "output_type": "stream",
     "text": [
      "0.2\n",
      "0.2\n",
      "0.2\n",
      "0.2\n",
      "0.2\n"
     ]
    },
    {
     "name": "stderr",
     "output_type": "stream",
     "text": [
      " 93%|█████████▎| 221/237 [01:41<00:07,  2.28it/s]"
     ]
    },
    {
     "name": "stdout",
     "output_type": "stream",
     "text": [
      "0.2\n",
      "0.2\n",
      "0.2\n",
      "0.2\n",
      "0.2\n",
      "0.2\n",
      "0.2\n",
      "0.2\n",
      "0.2\n",
      "0.2\n"
     ]
    },
    {
     "name": "stderr",
     "output_type": "stream",
     "text": [
      " 94%|█████████▎| 222/237 [01:42<00:08,  1.82it/s]"
     ]
    },
    {
     "name": "stdout",
     "output_type": "stream",
     "text": [
      "0.2\n",
      "0.2\n",
      "0.2\n",
      "0.2\n",
      "0.2\n"
     ]
    },
    {
     "name": "stderr",
     "output_type": "stream",
     "text": [
      " 95%|█████████▍| 224/237 [01:43<00:06,  1.88it/s]"
     ]
    },
    {
     "name": "stdout",
     "output_type": "stream",
     "text": [
      "0.2\n",
      "0.2\n",
      "0.2\n",
      "0.2\n",
      "0.2\n"
     ]
    },
    {
     "name": "stderr",
     "output_type": "stream",
     "text": [
      " 95%|█████████▍| 225/237 [01:44<00:06,  1.93it/s]"
     ]
    },
    {
     "name": "stdout",
     "output_type": "stream",
     "text": [
      "0.2\n",
      "0.2\n",
      "0.2\n",
      "0.2\n",
      "0.2\n"
     ]
    },
    {
     "name": "stderr",
     "output_type": "stream",
     "text": [
      " 95%|█████████▌| 226/237 [01:44<00:05,  1.97it/s]"
     ]
    },
    {
     "name": "stdout",
     "output_type": "stream",
     "text": [
      "0.2\n",
      "0.2\n",
      "0.2\n",
      "0.2\n",
      "0.2\n"
     ]
    },
    {
     "name": "stderr",
     "output_type": "stream",
     "text": [
      " 96%|█████████▌| 227/237 [01:45<00:05,  1.99it/s]"
     ]
    },
    {
     "name": "stdout",
     "output_type": "stream",
     "text": [
      "0.2\n",
      "0.2\n",
      "0.2\n",
      "0.2\n",
      "0.2\n"
     ]
    },
    {
     "name": "stderr",
     "output_type": "stream",
     "text": [
      " 96%|█████████▌| 228/237 [01:45<00:04,  2.02it/s]"
     ]
    },
    {
     "name": "stdout",
     "output_type": "stream",
     "text": [
      "0.2\n",
      "0.2\n",
      "0.2\n",
      "0.2\n",
      "0.2\n"
     ]
    },
    {
     "name": "stderr",
     "output_type": "stream",
     "text": [
      " 97%|█████████▋| 229/237 [01:46<00:03,  2.08it/s]"
     ]
    },
    {
     "name": "stdout",
     "output_type": "stream",
     "text": [
      "0.2\n",
      "0.2\n",
      "0.2\n",
      "0.2\n",
      "0.2\n"
     ]
    },
    {
     "name": "stderr",
     "output_type": "stream",
     "text": [
      " 97%|█████████▋| 230/237 [01:46<00:03,  2.10it/s]"
     ]
    },
    {
     "name": "stdout",
     "output_type": "stream",
     "text": [
      "0.2\n",
      "0.2\n",
      "0.2\n",
      "0.2\n",
      "0.2\n",
      "0.2\n",
      "0.2\n",
      "0.2\n",
      "0.2\n",
      "0.2\n"
     ]
    },
    {
     "name": "stderr",
     "output_type": "stream",
     "text": [
      " 98%|█████████▊| 232/237 [01:47<00:02,  2.06it/s]"
     ]
    },
    {
     "name": "stdout",
     "output_type": "stream",
     "text": [
      "0.2\n",
      "0.2\n",
      "0.2\n",
      "0.2\n",
      "0.2\n"
     ]
    },
    {
     "name": "stderr",
     "output_type": "stream",
     "text": [
      " 98%|█████████▊| 233/237 [01:48<00:01,  2.11it/s]"
     ]
    },
    {
     "name": "stdout",
     "output_type": "stream",
     "text": [
      "0.2\n",
      "0.2\n",
      "0.2\n",
      "0.2\n",
      "0.2\n",
      "0.2\n",
      "0.2\n",
      "0.2\n",
      "0.2\n",
      "0.2\n"
     ]
    },
    {
     "name": "stderr",
     "output_type": "stream",
     "text": [
      " 99%|█████████▊| 234/237 [01:48<00:01,  1.76it/s]"
     ]
    },
    {
     "name": "stdout",
     "output_type": "stream",
     "text": [
      "0.2\n",
      "0.2\n",
      "0.2\n",
      "0.2\n",
      "0.2\n"
     ]
    },
    {
     "name": "stderr",
     "output_type": "stream",
     "text": [
      "100%|█████████▉| 236/237 [01:50<00:00,  1.82it/s]"
     ]
    },
    {
     "name": "stdout",
     "output_type": "stream",
     "text": [
      "0.2\n",
      "0.2\n",
      "0.2\n",
      "0.2\n",
      "0.2\n",
      "0.2\n",
      "0.2\n",
      "0.2\n",
      "0.2\n",
      "0.2\n"
     ]
    },
    {
     "name": "stderr",
     "output_type": "stream",
     "text": [
      "                                                 \r"
     ]
    },
    {
     "name": "stdout",
     "output_type": "stream",
     "text": [
      "186.50392541201307\n",
      "[0.18020093197804912, 0.17267479180214965, 0.17424308409785755, 0.2812554344448441, 0.19162575767709947]\n",
      "Train loss: 15.64419\n",
      "Task 1 - Train Loss: 33.60818, Train Accuracy: 100.00%, Train Balanced Accuracy: 100.00%\n",
      "Task 2 - Train Loss: 32.20453, Train Accuracy: 73.47%, Train Balanced Accuracy: 50.00%\n",
      "Task 3 - Train Loss: 32.49702, Train Accuracy: 57.85%, Train Balanced Accuracy: 50.00%\n",
      "Task 4 - Train Loss: 52.45524, Train Accuracy: 56.55%, Train Balanced Accuracy: 50.10%\n",
      "Task 5 - Train Loss: 35.73896, Train Accuracy: 51.05%, Train Balanced Accuracy: 51.18%\n",
      "Final Output - Train Accuracy: 42.81%, Train Balanced Accuracy: 49.38%, Train F1 Score: 50.30%\n"
     ]
    },
    {
     "name": "stderr",
     "output_type": "stream",
     "text": [
      "                                               \r"
     ]
    },
    {
     "name": "stdout",
     "output_type": "stream",
     "text": [
      "Test loss: 20.89410\n",
      "Task 1 - Test Accuracy: 100.00%, Test Balanced Accuracy: 100.00%\n",
      "Task 2 - Test Accuracy: 71.98%, Test Balanced Accuracy: 50.00%\n",
      "Task 3 - Test Accuracy: 56.90%, Test Balanced Accuracy: 50.00%\n",
      "Task 4 - Test Accuracy: 20.98%, Test Balanced Accuracy: 50.00%\n",
      "Task 5 - Test Accuracy: 48.04%, Test Balanced Accuracy: 50.00%\n",
      "Final Output - Test Accuracy: 36.93%, Test Balanced Accuracy: 50.00%\n",
      "\n",
      "----------------------------------------------------------------------------------------------------\n",
      "Epoch: 2/10,\tTask Weights: ['0.22', '0.24', '0.24', '0.09', '0.20']\n",
      "----------------------------------------------------------------------------------------------------\n"
     ]
    },
    {
     "name": "stderr",
     "output_type": "stream",
     "text": [
      "  0%|          | 1/237 [00:00<01:36,  2.44it/s]"
     ]
    },
    {
     "name": "stdout",
     "output_type": "stream",
     "text": [
      "0.22454533796516998\n",
      "0.24454513922564897\n",
      "0.24016298841892628\n",
      "0.09217733478361258\n",
      "0.1985691996066423\n"
     ]
    },
    {
     "name": "stderr",
     "output_type": "stream",
     "text": [
      "  1%|          | 2/237 [00:00<01:40,  2.35it/s]"
     ]
    },
    {
     "name": "stdout",
     "output_type": "stream",
     "text": [
      "0.22454533796516998\n",
      "0.24454513922564897\n",
      "0.24016298841892628\n",
      "0.09217733478361258\n",
      "0.1985691996066423\n"
     ]
    },
    {
     "name": "stderr",
     "output_type": "stream",
     "text": [
      "  1%|▏         | 3/237 [00:01<01:53,  2.06it/s]"
     ]
    },
    {
     "name": "stdout",
     "output_type": "stream",
     "text": [
      "0.22454533796516998\n",
      "0.24454513922564897\n",
      "0.24016298841892628\n",
      "0.09217733478361258\n",
      "0.1985691996066423\n",
      "0.22454533796516998\n",
      "0.24454513922564897\n",
      "0.24016298841892628\n",
      "0.09217733478361258\n",
      "0.1985691996066423\n"
     ]
    },
    {
     "name": "stderr",
     "output_type": "stream",
     "text": [
      "  2%|▏         | 5/237 [00:03<02:32,  1.52it/s]"
     ]
    },
    {
     "name": "stdout",
     "output_type": "stream",
     "text": [
      "0.22454533796516998\n",
      "0.24454513922564897\n",
      "0.24016298841892628\n",
      "0.09217733478361258\n",
      "0.1985691996066423\n"
     ]
    },
    {
     "name": "stderr",
     "output_type": "stream",
     "text": [
      "  3%|▎         | 6/237 [00:03<02:21,  1.64it/s]"
     ]
    },
    {
     "name": "stdout",
     "output_type": "stream",
     "text": [
      "0.22454533796516998\n",
      "0.24454513922564897\n",
      "0.24016298841892628\n",
      "0.09217733478361258\n",
      "0.1985691996066423\n"
     ]
    },
    {
     "name": "stderr",
     "output_type": "stream",
     "text": [
      "  3%|▎         | 7/237 [00:04<02:13,  1.73it/s]"
     ]
    },
    {
     "name": "stdout",
     "output_type": "stream",
     "text": [
      "0.22454533796516998\n",
      "0.24454513922564897\n",
      "0.24016298841892628\n",
      "0.09217733478361258\n",
      "0.1985691996066423\n"
     ]
    },
    {
     "name": "stderr",
     "output_type": "stream",
     "text": [
      "  3%|▎         | 8/237 [00:04<02:11,  1.74it/s]"
     ]
    },
    {
     "name": "stdout",
     "output_type": "stream",
     "text": [
      "0.22454533796516998\n",
      "0.24454513922564897\n",
      "0.24016298841892628\n",
      "0.09217733478361258\n",
      "0.1985691996066423\n"
     ]
    },
    {
     "name": "stderr",
     "output_type": "stream",
     "text": [
      "  4%|▍         | 9/237 [00:05<02:11,  1.74it/s]"
     ]
    },
    {
     "name": "stdout",
     "output_type": "stream",
     "text": [
      "0.22454533796516998\n",
      "0.24454513922564897\n",
      "0.24016298841892628\n",
      "0.09217733478361258\n",
      "0.1985691996066423\n"
     ]
    },
    {
     "name": "stderr",
     "output_type": "stream",
     "text": [
      "  4%|▍         | 10/237 [00:05<02:03,  1.84it/s]"
     ]
    },
    {
     "name": "stdout",
     "output_type": "stream",
     "text": [
      "0.22454533796516998\n",
      "0.24454513922564897\n",
      "0.24016298841892628\n",
      "0.09217733478361258\n",
      "0.1985691996066423\n"
     ]
    },
    {
     "name": "stderr",
     "output_type": "stream",
     "text": [
      "  5%|▍         | 11/237 [00:06<02:01,  1.86it/s]"
     ]
    },
    {
     "name": "stdout",
     "output_type": "stream",
     "text": [
      "0.22454533796516998\n",
      "0.24454513922564897\n",
      "0.24016298841892628\n",
      "0.09217733478361258\n",
      "0.1985691996066423\n"
     ]
    },
    {
     "name": "stderr",
     "output_type": "stream",
     "text": [
      "  5%|▌         | 12/237 [00:06<02:00,  1.86it/s]"
     ]
    },
    {
     "name": "stdout",
     "output_type": "stream",
     "text": [
      "0.22454533796516998\n",
      "0.24454513922564897\n",
      "0.24016298841892628\n",
      "0.09217733478361258\n",
      "0.1985691996066423\n"
     ]
    },
    {
     "name": "stderr",
     "output_type": "stream",
     "text": [
      "  5%|▌         | 13/237 [00:07<01:57,  1.90it/s]"
     ]
    },
    {
     "name": "stdout",
     "output_type": "stream",
     "text": [
      "0.22454533796516998\n",
      "0.24454513922564897\n",
      "0.24016298841892628\n",
      "0.09217733478361258\n",
      "0.1985691996066423\n",
      "0.22454533796516998\n",
      "0.24454513922564897\n",
      "0.24016298841892628\n",
      "0.09217733478361258\n",
      "0.1985691996066423\n"
     ]
    },
    {
     "name": "stderr",
     "output_type": "stream",
     "text": [
      "  6%|▋         | 15/237 [00:08<02:22,  1.56it/s]"
     ]
    },
    {
     "name": "stdout",
     "output_type": "stream",
     "text": [
      "0.22454533796516998\n",
      "0.24454513922564897\n",
      "0.24016298841892628\n",
      "0.09217733478361258\n",
      "0.1985691996066423\n"
     ]
    },
    {
     "name": "stderr",
     "output_type": "stream",
     "text": [
      "  7%|▋         | 16/237 [00:09<02:13,  1.66it/s]"
     ]
    },
    {
     "name": "stdout",
     "output_type": "stream",
     "text": [
      "0.22454533796516998\n",
      "0.24454513922564897\n",
      "0.24016298841892628\n",
      "0.09217733478361258\n",
      "0.1985691996066423\n"
     ]
    },
    {
     "name": "stderr",
     "output_type": "stream",
     "text": [
      "  7%|▋         | 17/237 [00:09<02:04,  1.77it/s]"
     ]
    },
    {
     "name": "stdout",
     "output_type": "stream",
     "text": [
      "0.22454533796516998\n",
      "0.24454513922564897\n",
      "0.24016298841892628\n",
      "0.09217733478361258\n",
      "0.1985691996066423\n",
      "0.22454533796516998\n",
      "0.24454513922564897\n",
      "0.24016298841892628\n",
      "0.09217733478361258\n",
      "0.1985691996066423\n"
     ]
    },
    {
     "name": "stderr",
     "output_type": "stream",
     "text": [
      "  8%|▊         | 18/237 [00:10<02:05,  1.74it/s]"
     ]
    },
    {
     "name": "stdout",
     "output_type": "stream",
     "text": [
      "0.22454533796516998\n",
      "0.24454513922564897\n",
      "0.24016298841892628\n",
      "0.09217733478361258\n",
      "0.1985691996066423\n"
     ]
    },
    {
     "name": "stderr",
     "output_type": "stream",
     "text": [
      "  8%|▊         | 19/237 [00:11<02:07,  1.71it/s]"
     ]
    },
    {
     "name": "stdout",
     "output_type": "stream",
     "text": [
      "0.22454533796516998\n",
      "0.24454513922564897\n",
      "0.24016298841892628\n",
      "0.09217733478361258\n",
      "0.1985691996066423\n"
     ]
    },
    {
     "name": "stderr",
     "output_type": "stream",
     "text": [
      "  8%|▊         | 20/237 [00:11<02:09,  1.67it/s]"
     ]
    },
    {
     "name": "stdout",
     "output_type": "stream",
     "text": [
      "0.22454533796516998\n",
      "0.24454513922564897\n",
      "0.24016298841892628\n",
      "0.09217733478361258\n",
      "0.1985691996066423\n"
     ]
    },
    {
     "name": "stderr",
     "output_type": "stream",
     "text": [
      "  9%|▉         | 22/237 [00:12<02:09,  1.66it/s]"
     ]
    },
    {
     "name": "stdout",
     "output_type": "stream",
     "text": [
      "0.22454533796516998\n",
      "0.24454513922564897\n",
      "0.24016298841892628\n",
      "0.09217733478361258\n",
      "0.1985691996066423\n"
     ]
    },
    {
     "name": "stderr",
     "output_type": "stream",
     "text": [
      " 10%|▉         | 23/237 [00:13<01:59,  1.79it/s]"
     ]
    },
    {
     "name": "stdout",
     "output_type": "stream",
     "text": [
      "0.22454533796516998\n",
      "0.24454513922564897\n",
      "0.24016298841892628\n",
      "0.09217733478361258\n",
      "0.1985691996066423\n"
     ]
    },
    {
     "name": "stderr",
     "output_type": "stream",
     "text": [
      " 10%|█         | 24/237 [00:13<01:55,  1.85it/s]"
     ]
    },
    {
     "name": "stdout",
     "output_type": "stream",
     "text": [
      "0.22454533796516998\n",
      "0.24454513922564897\n",
      "0.24016298841892628\n",
      "0.09217733478361258\n",
      "0.1985691996066423\n"
     ]
    },
    {
     "name": "stderr",
     "output_type": "stream",
     "text": [
      " 11%|█         | 25/237 [00:14<01:50,  1.93it/s]"
     ]
    },
    {
     "name": "stdout",
     "output_type": "stream",
     "text": [
      "0.22454533796516998\n",
      "0.24454513922564897\n",
      "0.24016298841892628\n",
      "0.09217733478361258\n",
      "0.1985691996066423\n",
      "0.22454533796516998\n",
      "0.24454513922564897\n",
      "0.24016298841892628\n",
      "0.09217733478361258\n",
      "0.1985691996066423\n"
     ]
    },
    {
     "name": "stderr",
     "output_type": "stream",
     "text": [
      " 11%|█▏        | 27/237 [00:15<02:03,  1.70it/s]"
     ]
    },
    {
     "name": "stdout",
     "output_type": "stream",
     "text": [
      "0.22454533796516998\n",
      "0.24454513922564897\n",
      "0.24016298841892628\n",
      "0.09217733478361258\n",
      "0.1985691996066423\n"
     ]
    },
    {
     "name": "stderr",
     "output_type": "stream",
     "text": [
      " 12%|█▏        | 28/237 [00:16<01:56,  1.79it/s]"
     ]
    },
    {
     "name": "stdout",
     "output_type": "stream",
     "text": [
      "0.22454533796516998\n",
      "0.24454513922564897\n",
      "0.24016298841892628\n",
      "0.09217733478361258\n",
      "0.1985691996066423\n"
     ]
    },
    {
     "name": "stderr",
     "output_type": "stream",
     "text": [
      " 12%|█▏        | 29/237 [00:16<01:55,  1.80it/s]"
     ]
    },
    {
     "name": "stdout",
     "output_type": "stream",
     "text": [
      "0.22454533796516998\n",
      "0.24454513922564897\n",
      "0.24016298841892628\n",
      "0.09217733478361258\n",
      "0.1985691996066423\n"
     ]
    },
    {
     "name": "stderr",
     "output_type": "stream",
     "text": [
      " 13%|█▎        | 30/237 [00:17<01:49,  1.90it/s]"
     ]
    },
    {
     "name": "stdout",
     "output_type": "stream",
     "text": [
      "0.22454533796516998\n",
      "0.24454513922564897\n",
      "0.24016298841892628\n",
      "0.09217733478361258\n",
      "0.1985691996066423\n"
     ]
    },
    {
     "name": "stderr",
     "output_type": "stream",
     "text": [
      " 13%|█▎        | 31/237 [00:17<01:47,  1.92it/s]"
     ]
    },
    {
     "name": "stdout",
     "output_type": "stream",
     "text": [
      "0.22454533796516998\n",
      "0.24454513922564897\n",
      "0.24016298841892628\n",
      "0.09217733478361258\n",
      "0.1985691996066423\n"
     ]
    },
    {
     "name": "stderr",
     "output_type": "stream",
     "text": [
      " 14%|█▎        | 32/237 [00:18<01:43,  1.98it/s]"
     ]
    },
    {
     "name": "stdout",
     "output_type": "stream",
     "text": [
      "0.22454533796516998\n",
      "0.24454513922564897\n",
      "0.24016298841892628\n",
      "0.09217733478361258\n",
      "0.1985691996066423\n"
     ]
    },
    {
     "name": "stderr",
     "output_type": "stream",
     "text": [
      " 14%|█▍        | 33/237 [00:18<01:41,  2.01it/s]"
     ]
    },
    {
     "name": "stdout",
     "output_type": "stream",
     "text": [
      "0.22454533796516998\n",
      "0.24454513922564897\n",
      "0.24016298841892628\n",
      "0.09217733478361258\n",
      "0.1985691996066423\n"
     ]
    },
    {
     "name": "stderr",
     "output_type": "stream",
     "text": [
      " 14%|█▍        | 34/237 [00:19<01:40,  2.01it/s]"
     ]
    },
    {
     "name": "stdout",
     "output_type": "stream",
     "text": [
      "0.22454533796516998\n",
      "0.24454513922564897\n",
      "0.24016298841892628\n",
      "0.09217733478361258\n",
      "0.1985691996066423\n"
     ]
    },
    {
     "name": "stderr",
     "output_type": "stream",
     "text": [
      " 15%|█▍        | 35/237 [00:19<01:38,  2.05it/s]"
     ]
    },
    {
     "name": "stdout",
     "output_type": "stream",
     "text": [
      "0.22454533796516998\n",
      "0.24454513922564897\n",
      "0.24016298841892628\n",
      "0.09217733478361258\n",
      "0.1985691996066423\n",
      "0.22454533796516998\n",
      "0.24454513922564897\n",
      "0.24016298841892628\n",
      "0.09217733478361258\n",
      "0.1985691996066423\n"
     ]
    },
    {
     "name": "stderr",
     "output_type": "stream",
     "text": [
      " 16%|█▌        | 37/237 [00:21<02:01,  1.64it/s]"
     ]
    },
    {
     "name": "stdout",
     "output_type": "stream",
     "text": [
      "0.22454533796516998\n",
      "0.24454513922564897\n",
      "0.24016298841892628\n",
      "0.09217733478361258\n",
      "0.1985691996066423\n"
     ]
    },
    {
     "name": "stderr",
     "output_type": "stream",
     "text": [
      " 16%|█▌        | 38/237 [00:21<01:53,  1.76it/s]"
     ]
    },
    {
     "name": "stdout",
     "output_type": "stream",
     "text": [
      "0.22454533796516998\n",
      "0.24454513922564897\n",
      "0.24016298841892628\n",
      "0.09217733478361258\n",
      "0.1985691996066423\n"
     ]
    },
    {
     "name": "stderr",
     "output_type": "stream",
     "text": [
      " 16%|█▋        | 39/237 [00:22<01:48,  1.82it/s]"
     ]
    },
    {
     "name": "stdout",
     "output_type": "stream",
     "text": [
      "0.22454533796516998\n",
      "0.24454513922564897\n",
      "0.24016298841892628\n",
      "0.09217733478361258\n",
      "0.1985691996066423\n"
     ]
    },
    {
     "name": "stderr",
     "output_type": "stream",
     "text": [
      " 17%|█▋        | 40/237 [00:22<01:44,  1.88it/s]"
     ]
    },
    {
     "name": "stdout",
     "output_type": "stream",
     "text": [
      "0.22454533796516998\n",
      "0.24454513922564897\n",
      "0.24016298841892628\n",
      "0.09217733478361258\n",
      "0.1985691996066423\n"
     ]
    },
    {
     "name": "stderr",
     "output_type": "stream",
     "text": [
      " 17%|█▋        | 41/237 [00:23<01:40,  1.94it/s]"
     ]
    },
    {
     "name": "stdout",
     "output_type": "stream",
     "text": [
      "0.22454533796516998\n",
      "0.24454513922564897\n",
      "0.24016298841892628\n",
      "0.09217733478361258\n",
      "0.1985691996066423\n"
     ]
    },
    {
     "name": "stderr",
     "output_type": "stream",
     "text": [
      " 18%|█▊        | 42/237 [00:23<01:38,  1.99it/s]"
     ]
    },
    {
     "name": "stdout",
     "output_type": "stream",
     "text": [
      "0.22454533796516998\n",
      "0.24454513922564897\n",
      "0.24016298841892628\n",
      "0.09217733478361258\n",
      "0.1985691996066423\n"
     ]
    },
    {
     "name": "stderr",
     "output_type": "stream",
     "text": [
      " 18%|█▊        | 43/237 [00:24<01:35,  2.04it/s]"
     ]
    },
    {
     "name": "stdout",
     "output_type": "stream",
     "text": [
      "0.22454533796516998\n",
      "0.24454513922564897\n",
      "0.24016298841892628\n",
      "0.09217733478361258\n",
      "0.1985691996066423\n"
     ]
    },
    {
     "name": "stderr",
     "output_type": "stream",
     "text": [
      " 19%|█▊        | 44/237 [00:24<01:29,  2.16it/s]"
     ]
    },
    {
     "name": "stdout",
     "output_type": "stream",
     "text": [
      "0.22454533796516998\n",
      "0.24454513922564897\n",
      "0.24016298841892628\n",
      "0.09217733478361258\n",
      "0.1985691996066423\n"
     ]
    },
    {
     "name": "stderr",
     "output_type": "stream",
     "text": [
      " 19%|█▉        | 45/237 [00:24<01:27,  2.20it/s]"
     ]
    },
    {
     "name": "stdout",
     "output_type": "stream",
     "text": [
      "0.22454533796516998\n",
      "0.24454513922564897\n",
      "0.24016298841892628\n",
      "0.09217733478361258\n",
      "0.1985691996066423\n"
     ]
    },
    {
     "name": "stderr",
     "output_type": "stream",
     "text": [
      " 19%|█▉        | 46/237 [00:25<01:26,  2.21it/s]"
     ]
    },
    {
     "name": "stdout",
     "output_type": "stream",
     "text": [
      "0.22454533796516998\n",
      "0.24454513922564897\n",
      "0.24016298841892628\n",
      "0.09217733478361258\n",
      "0.1985691996066423\n"
     ]
    },
    {
     "name": "stderr",
     "output_type": "stream",
     "text": [
      " 20%|█▉        | 47/237 [00:25<01:22,  2.31it/s]"
     ]
    },
    {
     "name": "stdout",
     "output_type": "stream",
     "text": [
      "0.22454533796516998\n",
      "0.24454513922564897\n",
      "0.24016298841892628\n",
      "0.09217733478361258\n",
      "0.1985691996066423\n",
      "0.22454533796516998\n",
      "0.24454513922564897\n",
      "0.24016298841892628\n",
      "0.09217733478361258\n",
      "0.1985691996066423\n"
     ]
    },
    {
     "name": "stderr",
     "output_type": "stream",
     "text": [
      " 21%|██        | 49/237 [00:27<01:40,  1.87it/s]"
     ]
    },
    {
     "name": "stdout",
     "output_type": "stream",
     "text": [
      "0.22454533796516998\n",
      "0.24454513922564897\n",
      "0.24016298841892628\n",
      "0.09217733478361258\n",
      "0.1985691996066423\n"
     ]
    },
    {
     "name": "stderr",
     "output_type": "stream",
     "text": [
      " 21%|██        | 50/237 [00:27<01:31,  2.03it/s]"
     ]
    },
    {
     "name": "stdout",
     "output_type": "stream",
     "text": [
      "0.22454533796516998\n",
      "0.24454513922564897\n",
      "0.24016298841892628\n",
      "0.09217733478361258\n",
      "0.1985691996066423\n"
     ]
    },
    {
     "name": "stderr",
     "output_type": "stream",
     "text": [
      " 22%|██▏       | 51/237 [00:27<01:28,  2.10it/s]"
     ]
    },
    {
     "name": "stdout",
     "output_type": "stream",
     "text": [
      "0.22454533796516998\n",
      "0.24454513922564897\n",
      "0.24016298841892628\n",
      "0.09217733478361258\n",
      "0.1985691996066423\n"
     ]
    },
    {
     "name": "stderr",
     "output_type": "stream",
     "text": [
      " 22%|██▏       | 52/237 [00:28<01:26,  2.13it/s]"
     ]
    },
    {
     "name": "stdout",
     "output_type": "stream",
     "text": [
      "0.22454533796516998\n",
      "0.24454513922564897\n",
      "0.24016298841892628\n",
      "0.09217733478361258\n",
      "0.1985691996066423\n"
     ]
    },
    {
     "name": "stderr",
     "output_type": "stream",
     "text": [
      " 22%|██▏       | 53/237 [00:28<01:21,  2.25it/s]"
     ]
    },
    {
     "name": "stdout",
     "output_type": "stream",
     "text": [
      "0.22454533796516998\n",
      "0.24454513922564897\n",
      "0.24016298841892628\n",
      "0.09217733478361258\n",
      "0.1985691996066423\n"
     ]
    },
    {
     "name": "stderr",
     "output_type": "stream",
     "text": [
      " 23%|██▎       | 54/237 [00:29<01:22,  2.22it/s]"
     ]
    },
    {
     "name": "stdout",
     "output_type": "stream",
     "text": [
      "0.22454533796516998\n",
      "0.24454513922564897\n",
      "0.24016298841892628\n",
      "0.09217733478361258\n",
      "0.1985691996066423\n"
     ]
    },
    {
     "name": "stderr",
     "output_type": "stream",
     "text": [
      " 23%|██▎       | 55/237 [00:29<01:24,  2.15it/s]"
     ]
    },
    {
     "name": "stdout",
     "output_type": "stream",
     "text": [
      "0.22454533796516998\n",
      "0.24454513922564897\n",
      "0.24016298841892628\n",
      "0.09217733478361258\n",
      "0.1985691996066423\n"
     ]
    },
    {
     "name": "stderr",
     "output_type": "stream",
     "text": [
      " 24%|██▎       | 56/237 [00:30<01:21,  2.21it/s]"
     ]
    },
    {
     "name": "stdout",
     "output_type": "stream",
     "text": [
      "0.22454533796516998\n",
      "0.24454513922564897\n",
      "0.24016298841892628\n",
      "0.09217733478361258\n",
      "0.1985691996066423\n"
     ]
    },
    {
     "name": "stderr",
     "output_type": "stream",
     "text": [
      " 24%|██▍       | 57/237 [00:30<01:20,  2.23it/s]"
     ]
    },
    {
     "name": "stdout",
     "output_type": "stream",
     "text": [
      "0.22454533796516998\n",
      "0.24454513922564897\n",
      "0.24016298841892628\n",
      "0.09217733478361258\n",
      "0.1985691996066423\n"
     ]
    },
    {
     "name": "stderr",
     "output_type": "stream",
     "text": [
      " 24%|██▍       | 58/237 [00:31<01:22,  2.16it/s]"
     ]
    },
    {
     "name": "stdout",
     "output_type": "stream",
     "text": [
      "0.22454533796516998\n",
      "0.24454513922564897\n",
      "0.24016298841892628\n",
      "0.09217733478361258\n",
      "0.1985691996066423\n"
     ]
    },
    {
     "name": "stderr",
     "output_type": "stream",
     "text": [
      " 25%|██▍       | 59/237 [00:31<01:20,  2.21it/s]"
     ]
    },
    {
     "name": "stdout",
     "output_type": "stream",
     "text": [
      "0.22454533796516998\n",
      "0.24454513922564897\n",
      "0.24016298841892628\n",
      "0.09217733478361258\n",
      "0.1985691996066423\n"
     ]
    },
    {
     "name": "stderr",
     "output_type": "stream",
     "text": [
      " 25%|██▌       | 60/237 [00:31<01:20,  2.19it/s]"
     ]
    },
    {
     "name": "stdout",
     "output_type": "stream",
     "text": [
      "0.22454533796516998\n",
      "0.24454513922564897\n",
      "0.24016298841892628\n",
      "0.09217733478361258\n",
      "0.1985691996066423\n",
      "0.22454533796516998\n",
      "0.24454513922564897\n",
      "0.24016298841892628\n",
      "0.09217733478361258\n",
      "0.1985691996066423\n"
     ]
    },
    {
     "name": "stderr",
     "output_type": "stream",
     "text": [
      " 26%|██▌       | 62/237 [00:32<01:19,  2.21it/s]"
     ]
    },
    {
     "name": "stdout",
     "output_type": "stream",
     "text": [
      "0.22454533796516998\n",
      "0.24454513922564897\n",
      "0.24016298841892628\n",
      "0.09217733478361258\n",
      "0.1985691996066423\n"
     ]
    },
    {
     "name": "stderr",
     "output_type": "stream",
     "text": [
      " 27%|██▋       | 63/237 [00:33<01:43,  1.68it/s]"
     ]
    },
    {
     "name": "stdout",
     "output_type": "stream",
     "text": [
      "0.22454533796516998\n",
      "0.24454513922564897\n",
      "0.24016298841892628\n",
      "0.09217733478361258\n",
      "0.1985691996066423\n",
      "0.22454533796516998\n",
      "0.24454513922564897\n",
      "0.24016298841892628\n",
      "0.09217733478361258\n",
      "0.1985691996066423\n"
     ]
    },
    {
     "name": "stderr",
     "output_type": "stream",
     "text": [
      " 27%|██▋       | 65/237 [00:34<01:30,  1.91it/s]"
     ]
    },
    {
     "name": "stdout",
     "output_type": "stream",
     "text": [
      "0.22454533796516998\n",
      "0.24454513922564897\n",
      "0.24016298841892628\n",
      "0.09217733478361258\n",
      "0.1985691996066423\n"
     ]
    },
    {
     "name": "stderr",
     "output_type": "stream",
     "text": [
      " 28%|██▊       | 66/237 [00:35<01:26,  1.99it/s]"
     ]
    },
    {
     "name": "stdout",
     "output_type": "stream",
     "text": [
      "0.22454533796516998\n",
      "0.24454513922564897\n",
      "0.24016298841892628\n",
      "0.09217733478361258\n",
      "0.1985691996066423\n"
     ]
    },
    {
     "name": "stderr",
     "output_type": "stream",
     "text": [
      " 28%|██▊       | 67/237 [00:35<01:21,  2.10it/s]"
     ]
    },
    {
     "name": "stdout",
     "output_type": "stream",
     "text": [
      "0.22454533796516998\n",
      "0.24454513922564897\n",
      "0.24016298841892628\n",
      "0.09217733478361258\n",
      "0.1985691996066423\n",
      "0.22454533796516998\n",
      "0.24454513922564897\n",
      "0.24016298841892628\n",
      "0.09217733478361258\n",
      "0.1985691996066423\n"
     ]
    },
    {
     "name": "stderr",
     "output_type": "stream",
     "text": [
      " 29%|██▉       | 69/237 [00:36<01:17,  2.18it/s]"
     ]
    },
    {
     "name": "stdout",
     "output_type": "stream",
     "text": [
      "0.22454533796516998\n",
      "0.24454513922564897\n",
      "0.24016298841892628\n",
      "0.09217733478361258\n",
      "0.1985691996066423\n"
     ]
    },
    {
     "name": "stderr",
     "output_type": "stream",
     "text": [
      " 30%|██▉       | 70/237 [00:36<01:13,  2.27it/s]"
     ]
    },
    {
     "name": "stdout",
     "output_type": "stream",
     "text": [
      "0.22454533796516998\n",
      "0.24454513922564897\n",
      "0.24016298841892628\n",
      "0.09217733478361258\n",
      "0.1985691996066423\n"
     ]
    },
    {
     "name": "stderr",
     "output_type": "stream",
     "text": [
      " 30%|██▉       | 71/237 [00:37<01:15,  2.21it/s]"
     ]
    },
    {
     "name": "stdout",
     "output_type": "stream",
     "text": [
      "0.22454533796516998\n",
      "0.24454513922564897\n",
      "0.24016298841892628\n",
      "0.09217733478361258\n",
      "0.1985691996066423\n"
     ]
    },
    {
     "name": "stderr",
     "output_type": "stream",
     "text": [
      " 30%|███       | 72/237 [00:37<01:10,  2.35it/s]"
     ]
    },
    {
     "name": "stdout",
     "output_type": "stream",
     "text": [
      "0.22454533796516998\n",
      "0.24454513922564897\n",
      "0.24016298841892628\n",
      "0.09217733478361258\n",
      "0.1985691996066423\n"
     ]
    },
    {
     "name": "stderr",
     "output_type": "stream",
     "text": [
      " 31%|███       | 73/237 [00:38<01:09,  2.36it/s]"
     ]
    },
    {
     "name": "stdout",
     "output_type": "stream",
     "text": [
      "0.22454533796516998\n",
      "0.24454513922564897\n",
      "0.24016298841892628\n",
      "0.09217733478361258\n",
      "0.1985691996066423\n"
     ]
    },
    {
     "name": "stderr",
     "output_type": "stream",
     "text": [
      " 31%|███       | 74/237 [00:38<01:12,  2.25it/s]"
     ]
    },
    {
     "name": "stdout",
     "output_type": "stream",
     "text": [
      "0.22454533796516998\n",
      "0.24454513922564897\n",
      "0.24016298841892628\n",
      "0.09217733478361258\n",
      "0.1985691996066423\n"
     ]
    },
    {
     "name": "stderr",
     "output_type": "stream",
     "text": [
      " 32%|███▏      | 75/237 [00:38<01:08,  2.37it/s]"
     ]
    },
    {
     "name": "stdout",
     "output_type": "stream",
     "text": [
      "0.22454533796516998\n",
      "0.24454513922564897\n",
      "0.24016298841892628\n",
      "0.09217733478361258\n",
      "0.1985691996066423\n"
     ]
    },
    {
     "name": "stderr",
     "output_type": "stream",
     "text": [
      " 32%|███▏      | 76/237 [00:39<01:10,  2.29it/s]"
     ]
    },
    {
     "name": "stdout",
     "output_type": "stream",
     "text": [
      "0.22454533796516998\n",
      "0.24454513922564897\n",
      "0.24016298841892628\n",
      "0.09217733478361258\n",
      "0.1985691996066423\n"
     ]
    },
    {
     "name": "stderr",
     "output_type": "stream",
     "text": [
      " 32%|███▏      | 77/237 [00:39<01:14,  2.14it/s]"
     ]
    },
    {
     "name": "stdout",
     "output_type": "stream",
     "text": [
      "0.22454533796516998\n",
      "0.24454513922564897\n",
      "0.24016298841892628\n",
      "0.09217733478361258\n",
      "0.1985691996066423\n"
     ]
    },
    {
     "name": "stderr",
     "output_type": "stream",
     "text": [
      " 33%|███▎      | 78/237 [00:40<01:15,  2.10it/s]"
     ]
    },
    {
     "name": "stdout",
     "output_type": "stream",
     "text": [
      "0.22454533796516998\n",
      "0.24454513922564897\n",
      "0.24016298841892628\n",
      "0.09217733478361258\n",
      "0.1985691996066423\n"
     ]
    },
    {
     "name": "stderr",
     "output_type": "stream",
     "text": [
      " 33%|███▎      | 79/237 [00:41<01:17,  2.03it/s]"
     ]
    },
    {
     "name": "stdout",
     "output_type": "stream",
     "text": [
      "0.22454533796516998\n",
      "0.24454513922564897\n",
      "0.24016298841892628\n",
      "0.09217733478361258\n",
      "0.1985691996066423\n",
      "0.22454533796516998\n",
      "0.24454513922564897\n",
      "0.24016298841892628\n",
      "0.09217733478361258\n",
      "0.1985691996066423\n"
     ]
    },
    {
     "name": "stderr",
     "output_type": "stream",
     "text": [
      " 34%|███▍      | 80/237 [00:41<01:19,  1.98it/s]"
     ]
    },
    {
     "name": "stdout",
     "output_type": "stream",
     "text": [
      "0.22454533796516998\n",
      "0.24454513922564897\n",
      "0.24016298841892628\n",
      "0.09217733478361258\n",
      "0.1985691996066423\n"
     ]
    },
    {
     "name": "stderr",
     "output_type": "stream",
     "text": [
      " 34%|███▍      | 81/237 [00:42<01:19,  1.97it/s]"
     ]
    },
    {
     "name": "stdout",
     "output_type": "stream",
     "text": [
      "0.22454533796516998\n",
      "0.24454513922564897\n",
      "0.24016298841892628\n",
      "0.09217733478361258\n",
      "0.1985691996066423\n"
     ]
    },
    {
     "name": "stderr",
     "output_type": "stream",
     "text": [
      " 35%|███▍      | 82/237 [00:42<01:20,  1.92it/s]"
     ]
    },
    {
     "name": "stdout",
     "output_type": "stream",
     "text": [
      "0.22454533796516998\n",
      "0.24454513922564897\n",
      "0.24016298841892628\n",
      "0.09217733478361258\n",
      "0.1985691996066423\n"
     ]
    },
    {
     "name": "stderr",
     "output_type": "stream",
     "text": [
      " 35%|███▌      | 83/237 [00:43<01:52,  1.36it/s]"
     ]
    },
    {
     "name": "stdout",
     "output_type": "stream",
     "text": [
      "0.22454533796516998\n",
      "0.24454513922564897\n",
      "0.24016298841892628\n",
      "0.09217733478361258\n",
      "0.1985691996066423\n"
     ]
    },
    {
     "name": "stderr",
     "output_type": "stream",
     "text": [
      " 35%|███▌      | 84/237 [00:44<01:47,  1.42it/s]"
     ]
    },
    {
     "name": "stdout",
     "output_type": "stream",
     "text": [
      "0.22454533796516998\n",
      "0.24454513922564897\n",
      "0.24016298841892628\n",
      "0.09217733478361258\n",
      "0.1985691996066423\n"
     ]
    },
    {
     "name": "stderr",
     "output_type": "stream",
     "text": [
      " 36%|███▋      | 86/237 [00:45<01:33,  1.62it/s]"
     ]
    },
    {
     "name": "stdout",
     "output_type": "stream",
     "text": [
      "0.22454533796516998\n",
      "0.24454513922564897\n",
      "0.24016298841892628\n",
      "0.09217733478361258\n",
      "0.1985691996066423\n",
      "0.22454533796516998\n",
      "0.24454513922564897\n",
      "0.24016298841892628\n",
      "0.09217733478361258\n",
      "0.1985691996066423\n"
     ]
    },
    {
     "name": "stderr",
     "output_type": "stream",
     "text": [
      " 37%|███▋      | 87/237 [00:46<01:30,  1.66it/s]"
     ]
    },
    {
     "name": "stdout",
     "output_type": "stream",
     "text": [
      "0.22454533796516998\n",
      "0.24454513922564897\n",
      "0.24016298841892628\n",
      "0.09217733478361258\n",
      "0.1985691996066423\n"
     ]
    },
    {
     "name": "stderr",
     "output_type": "stream",
     "text": [
      " 37%|███▋      | 88/237 [00:46<01:26,  1.72it/s]"
     ]
    },
    {
     "name": "stdout",
     "output_type": "stream",
     "text": [
      "0.22454533796516998\n",
      "0.24454513922564897\n",
      "0.24016298841892628\n",
      "0.09217733478361258\n",
      "0.1985691996066423\n"
     ]
    },
    {
     "name": "stderr",
     "output_type": "stream",
     "text": [
      " 38%|███▊      | 89/237 [00:47<01:24,  1.75it/s]"
     ]
    },
    {
     "name": "stdout",
     "output_type": "stream",
     "text": [
      "0.22454533796516998\n",
      "0.24454513922564897\n",
      "0.24016298841892628\n",
      "0.09217733478361258\n",
      "0.1985691996066423\n"
     ]
    },
    {
     "name": "stderr",
     "output_type": "stream",
     "text": [
      " 38%|███▊      | 90/237 [00:47<01:26,  1.70it/s]"
     ]
    },
    {
     "name": "stdout",
     "output_type": "stream",
     "text": [
      "0.22454533796516998\n",
      "0.24454513922564897\n",
      "0.24016298841892628\n",
      "0.09217733478361258\n",
      "0.1985691996066423\n"
     ]
    },
    {
     "name": "stderr",
     "output_type": "stream",
     "text": [
      " 38%|███▊      | 91/237 [00:48<01:29,  1.63it/s]"
     ]
    },
    {
     "name": "stdout",
     "output_type": "stream",
     "text": [
      "0.22454533796516998\n",
      "0.24454513922564897\n",
      "0.24016298841892628\n",
      "0.09217733478361258\n",
      "0.1985691996066423\n"
     ]
    },
    {
     "name": "stderr",
     "output_type": "stream",
     "text": [
      " 39%|███▉      | 92/237 [00:49<01:25,  1.70it/s]"
     ]
    },
    {
     "name": "stdout",
     "output_type": "stream",
     "text": [
      "0.22454533796516998\n",
      "0.24454513922564897\n",
      "0.24016298841892628\n",
      "0.09217733478361258\n",
      "0.1985691996066423\n"
     ]
    },
    {
     "name": "stderr",
     "output_type": "stream",
     "text": [
      " 39%|███▉      | 93/237 [00:49<01:24,  1.70it/s]"
     ]
    },
    {
     "name": "stdout",
     "output_type": "stream",
     "text": [
      "0.22454533796516998\n",
      "0.24454513922564897\n",
      "0.24016298841892628\n",
      "0.09217733478361258\n",
      "0.1985691996066423\n"
     ]
    },
    {
     "name": "stderr",
     "output_type": "stream",
     "text": [
      " 40%|███▉      | 94/237 [00:50<01:25,  1.67it/s]"
     ]
    },
    {
     "name": "stdout",
     "output_type": "stream",
     "text": [
      "0.22454533796516998\n",
      "0.24454513922564897\n",
      "0.24016298841892628\n",
      "0.09217733478361258\n",
      "0.1985691996066423\n"
     ]
    },
    {
     "name": "stderr",
     "output_type": "stream",
     "text": [
      " 41%|████      | 96/237 [00:51<01:21,  1.73it/s]"
     ]
    },
    {
     "name": "stdout",
     "output_type": "stream",
     "text": [
      "0.22454533796516998\n",
      "0.24454513922564897\n",
      "0.24016298841892628\n",
      "0.09217733478361258\n",
      "0.1985691996066423\n",
      "0.22454533796516998\n",
      "0.24454513922564897\n",
      "0.24016298841892628\n",
      "0.09217733478361258\n",
      "0.1985691996066423\n"
     ]
    },
    {
     "name": "stderr",
     "output_type": "stream",
     "text": [
      " 41%|████      | 97/237 [00:52<01:24,  1.65it/s]"
     ]
    },
    {
     "name": "stdout",
     "output_type": "stream",
     "text": [
      "0.22454533796516998\n",
      "0.24454513922564897\n",
      "0.24016298841892628\n",
      "0.09217733478361258\n",
      "0.1985691996066423\n"
     ]
    },
    {
     "name": "stderr",
     "output_type": "stream",
     "text": [
      " 41%|████▏     | 98/237 [00:52<01:26,  1.60it/s]"
     ]
    },
    {
     "name": "stdout",
     "output_type": "stream",
     "text": [
      "0.22454533796516998\n",
      "0.24454513922564897\n",
      "0.24016298841892628\n",
      "0.09217733478361258\n",
      "0.1985691996066423\n"
     ]
    },
    {
     "name": "stderr",
     "output_type": "stream",
     "text": [
      " 42%|████▏     | 100/237 [00:53<01:16,  1.80it/s]"
     ]
    },
    {
     "name": "stdout",
     "output_type": "stream",
     "text": [
      "0.22454533796516998\n",
      "0.24454513922564897\n",
      "0.24016298841892628\n",
      "0.09217733478361258\n",
      "0.1985691996066423\n",
      "0.22454533796516998\n",
      "0.24454513922564897\n",
      "0.24016298841892628\n",
      "0.09217733478361258\n",
      "0.1985691996066423\n"
     ]
    },
    {
     "name": "stderr",
     "output_type": "stream",
     "text": [
      " 43%|████▎     | 102/237 [00:54<01:11,  1.90it/s]"
     ]
    },
    {
     "name": "stdout",
     "output_type": "stream",
     "text": [
      "0.22454533796516998\n",
      "0.24454513922564897\n",
      "0.24016298841892628\n",
      "0.09217733478361258\n",
      "0.1985691996066423\n"
     ]
    },
    {
     "name": "stderr",
     "output_type": "stream",
     "text": [
      " 43%|████▎     | 103/237 [00:55<01:07,  1.97it/s]"
     ]
    },
    {
     "name": "stdout",
     "output_type": "stream",
     "text": [
      "0.22454533796516998\n",
      "0.24454513922564897\n",
      "0.24016298841892628\n",
      "0.09217733478361258\n",
      "0.1985691996066423\n",
      "0.22454533796516998\n",
      "0.24454513922564897\n",
      "0.24016298841892628\n",
      "0.09217733478361258\n",
      "0.1985691996066423\n"
     ]
    },
    {
     "name": "stderr",
     "output_type": "stream",
     "text": [
      " 44%|████▍     | 105/237 [00:56<01:02,  2.13it/s]"
     ]
    },
    {
     "name": "stdout",
     "output_type": "stream",
     "text": [
      "0.22454533796516998\n",
      "0.24454513922564897\n",
      "0.24016298841892628\n",
      "0.09217733478361258\n",
      "0.1985691996066423\n"
     ]
    },
    {
     "name": "stderr",
     "output_type": "stream",
     "text": [
      " 45%|████▍     | 106/237 [00:56<01:02,  2.09it/s]"
     ]
    },
    {
     "name": "stdout",
     "output_type": "stream",
     "text": [
      "0.22454533796516998\n",
      "0.24454513922564897\n",
      "0.24016298841892628\n",
      "0.09217733478361258\n",
      "0.1985691996066423\n"
     ]
    },
    {
     "name": "stderr",
     "output_type": "stream",
     "text": [
      " 45%|████▌     | 107/237 [00:56<00:59,  2.18it/s]"
     ]
    },
    {
     "name": "stdout",
     "output_type": "stream",
     "text": [
      "0.22454533796516998\n",
      "0.24454513922564897\n",
      "0.24016298841892628\n",
      "0.09217733478361258\n",
      "0.1985691996066423\n"
     ]
    },
    {
     "name": "stderr",
     "output_type": "stream",
     "text": [
      " 46%|████▌     | 108/237 [00:57<01:02,  2.08it/s]"
     ]
    },
    {
     "name": "stdout",
     "output_type": "stream",
     "text": [
      "0.22454533796516998\n",
      "0.24454513922564897\n",
      "0.24016298841892628\n",
      "0.09217733478361258\n",
      "0.1985691996066423\n"
     ]
    },
    {
     "name": "stderr",
     "output_type": "stream",
     "text": [
      " 46%|████▌     | 109/237 [00:57<01:00,  2.11it/s]"
     ]
    },
    {
     "name": "stdout",
     "output_type": "stream",
     "text": [
      "0.22454533796516998\n",
      "0.24454513922564897\n",
      "0.24016298841892628\n",
      "0.09217733478361258\n",
      "0.1985691996066423\n"
     ]
    },
    {
     "name": "stderr",
     "output_type": "stream",
     "text": [
      " 46%|████▋     | 110/237 [00:58<00:59,  2.14it/s]"
     ]
    },
    {
     "name": "stdout",
     "output_type": "stream",
     "text": [
      "0.22454533796516998\n",
      "0.24454513922564897\n",
      "0.24016298841892628\n",
      "0.09217733478361258\n",
      "0.1985691996066423\n"
     ]
    },
    {
     "name": "stderr",
     "output_type": "stream",
     "text": [
      " 47%|████▋     | 111/237 [00:58<01:00,  2.07it/s]"
     ]
    },
    {
     "name": "stdout",
     "output_type": "stream",
     "text": [
      "0.22454533796516998\n",
      "0.24454513922564897\n",
      "0.24016298841892628\n",
      "0.09217733478361258\n",
      "0.1985691996066423\n",
      "0.22454533796516998\n",
      "0.24454513922564897\n",
      "0.24016298841892628\n",
      "0.09217733478361258\n",
      "0.1985691996066423\n"
     ]
    },
    {
     "name": "stderr",
     "output_type": "stream",
     "text": [
      " 48%|████▊     | 113/237 [00:59<01:00,  2.06it/s]"
     ]
    },
    {
     "name": "stdout",
     "output_type": "stream",
     "text": [
      "0.22454533796516998\n",
      "0.24454513922564897\n",
      "0.24016298841892628\n",
      "0.09217733478361258\n",
      "0.1985691996066423\n"
     ]
    },
    {
     "name": "stderr",
     "output_type": "stream",
     "text": [
      " 48%|████▊     | 114/237 [01:00<00:57,  2.15it/s]"
     ]
    },
    {
     "name": "stdout",
     "output_type": "stream",
     "text": [
      "0.22454533796516998\n",
      "0.24454513922564897\n",
      "0.24016298841892628\n",
      "0.09217733478361258\n",
      "0.1985691996066423\n",
      "0.22454533796516998\n",
      "0.24454513922564897\n",
      "0.24016298841892628\n",
      "0.09217733478361258\n",
      "0.1985691996066423\n"
     ]
    },
    {
     "name": "stderr",
     "output_type": "stream",
     "text": [
      " 49%|████▉     | 116/237 [01:01<00:55,  2.18it/s]"
     ]
    },
    {
     "name": "stdout",
     "output_type": "stream",
     "text": [
      "0.22454533796516998\n",
      "0.24454513922564897\n",
      "0.24016298841892628\n",
      "0.09217733478361258\n",
      "0.1985691996066423\n",
      "0.22454533796516998\n",
      "0.24454513922564897\n",
      "0.24016298841892628\n",
      "0.09217733478361258\n",
      "0.1985691996066423\n"
     ]
    },
    {
     "name": "stderr",
     "output_type": "stream",
     "text": [
      " 50%|████▉     | 118/237 [01:02<00:55,  2.13it/s]"
     ]
    },
    {
     "name": "stdout",
     "output_type": "stream",
     "text": [
      "0.22454533796516998\n",
      "0.24454513922564897\n",
      "0.24016298841892628\n",
      "0.09217733478361258\n",
      "0.1985691996066423\n"
     ]
    },
    {
     "name": "stderr",
     "output_type": "stream",
     "text": [
      " 50%|█████     | 119/237 [01:02<00:53,  2.19it/s]"
     ]
    },
    {
     "name": "stdout",
     "output_type": "stream",
     "text": [
      "0.22454533796516998\n",
      "0.24454513922564897\n",
      "0.24016298841892628\n",
      "0.09217733478361258\n",
      "0.1985691996066423\n"
     ]
    },
    {
     "name": "stderr",
     "output_type": "stream",
     "text": [
      " 51%|█████     | 120/237 [01:03<00:54,  2.15it/s]"
     ]
    },
    {
     "name": "stdout",
     "output_type": "stream",
     "text": [
      "0.22454533796516998\n",
      "0.24454513922564897\n",
      "0.24016298841892628\n",
      "0.09217733478361258\n",
      "0.1985691996066423\n"
     ]
    },
    {
     "name": "stderr",
     "output_type": "stream",
     "text": [
      " 51%|█████     | 121/237 [01:03<00:52,  2.22it/s]"
     ]
    },
    {
     "name": "stdout",
     "output_type": "stream",
     "text": [
      "0.22454533796516998\n",
      "0.24454513922564897\n",
      "0.24016298841892628\n",
      "0.09217733478361258\n",
      "0.1985691996066423\n",
      "0.22454533796516998\n",
      "0.24454513922564897\n",
      "0.24016298841892628\n",
      "0.09217733478361258\n",
      "0.1985691996066423\n"
     ]
    },
    {
     "name": "stderr",
     "output_type": "stream",
     "text": [
      " 51%|█████▏    | 122/237 [01:04<00:53,  2.15it/s]"
     ]
    },
    {
     "name": "stdout",
     "output_type": "stream",
     "text": [
      "0.22454533796516998\n",
      "0.24454513922564897\n",
      "0.24016298841892628\n",
      "0.09217733478361258\n",
      "0.1985691996066423\n"
     ]
    },
    {
     "name": "stderr",
     "output_type": "stream",
     "text": [
      " 52%|█████▏    | 124/237 [01:04<00:53,  2.12it/s]"
     ]
    },
    {
     "name": "stdout",
     "output_type": "stream",
     "text": [
      "0.22454533796516998\n",
      "0.24454513922564897\n",
      "0.24016298841892628\n",
      "0.09217733478361258\n",
      "0.1985691996066423\n",
      "0.22454533796516998\n",
      "0.24454513922564897\n",
      "0.24016298841892628\n",
      "0.09217733478361258\n",
      "0.1985691996066423\n"
     ]
    },
    {
     "name": "stderr",
     "output_type": "stream",
     "text": [
      " 53%|█████▎    | 125/237 [01:05<00:53,  2.10it/s]"
     ]
    },
    {
     "name": "stdout",
     "output_type": "stream",
     "text": [
      "0.22454533796516998\n",
      "0.24454513922564897\n",
      "0.24016298841892628\n",
      "0.09217733478361258\n",
      "0.1985691996066423\n"
     ]
    },
    {
     "name": "stderr",
     "output_type": "stream",
     "text": [
      " 53%|█████▎    | 126/237 [01:06<01:15,  1.47it/s]"
     ]
    },
    {
     "name": "stdout",
     "output_type": "stream",
     "text": [
      "0.22454533796516998\n",
      "0.24454513922564897\n",
      "0.24016298841892628\n",
      "0.09217733478361258\n",
      "0.1985691996066423\n"
     ]
    },
    {
     "name": "stderr",
     "output_type": "stream",
     "text": [
      " 54%|█████▍    | 128/237 [01:07<01:02,  1.73it/s]"
     ]
    },
    {
     "name": "stdout",
     "output_type": "stream",
     "text": [
      "0.22454533796516998\n",
      "0.24454513922564897\n",
      "0.24016298841892628\n",
      "0.09217733478361258\n",
      "0.1985691996066423\n"
     ]
    },
    {
     "name": "stderr",
     "output_type": "stream",
     "text": [
      " 54%|█████▍    | 129/237 [01:08<00:59,  1.83it/s]"
     ]
    },
    {
     "name": "stdout",
     "output_type": "stream",
     "text": [
      "0.22454533796516998\n",
      "0.24454513922564897\n",
      "0.24016298841892628\n",
      "0.09217733478361258\n",
      "0.1985691996066423\n",
      "0.22454533796516998\n",
      "0.24454513922564897\n",
      "0.24016298841892628\n",
      "0.09217733478361258\n",
      "0.1985691996066423\n"
     ]
    },
    {
     "name": "stderr",
     "output_type": "stream",
     "text": [
      " 55%|█████▍    | 130/237 [01:08<00:55,  1.92it/s]"
     ]
    },
    {
     "name": "stdout",
     "output_type": "stream",
     "text": [
      "0.22454533796516998\n",
      "0.24454513922564897\n",
      "0.24016298841892628\n",
      "0.09217733478361258\n",
      "0.1985691996066423\n"
     ]
    },
    {
     "name": "stderr",
     "output_type": "stream",
     "text": [
      " 55%|█████▌    | 131/237 [01:09<00:55,  1.92it/s]"
     ]
    },
    {
     "name": "stdout",
     "output_type": "stream",
     "text": [
      "0.22454533796516998\n",
      "0.24454513922564897\n",
      "0.24016298841892628\n",
      "0.09217733478361258\n",
      "0.1985691996066423\n"
     ]
    },
    {
     "name": "stderr",
     "output_type": "stream",
     "text": [
      " 56%|█████▌    | 132/237 [01:09<00:58,  1.80it/s]"
     ]
    },
    {
     "name": "stdout",
     "output_type": "stream",
     "text": [
      "0.22454533796516998\n",
      "0.24454513922564897\n",
      "0.24016298841892628\n",
      "0.09217733478361258\n",
      "0.1985691996066423\n"
     ]
    },
    {
     "name": "stderr",
     "output_type": "stream",
     "text": [
      " 56%|█████▌    | 133/237 [01:10<00:59,  1.74it/s]"
     ]
    },
    {
     "name": "stdout",
     "output_type": "stream",
     "text": [
      "0.22454533796516998\n",
      "0.24454513922564897\n",
      "0.24016298841892628\n",
      "0.09217733478361258\n",
      "0.1985691996066423\n"
     ]
    },
    {
     "name": "stderr",
     "output_type": "stream",
     "text": [
      " 57%|█████▋    | 135/237 [01:11<00:57,  1.76it/s]"
     ]
    },
    {
     "name": "stdout",
     "output_type": "stream",
     "text": [
      "0.22454533796516998\n",
      "0.24454513922564897\n",
      "0.24016298841892628\n",
      "0.09217733478361258\n",
      "0.1985691996066423\n",
      "0.22454533796516998\n",
      "0.24454513922564897\n",
      "0.24016298841892628\n",
      "0.09217733478361258\n",
      "0.1985691996066423\n"
     ]
    },
    {
     "name": "stderr",
     "output_type": "stream",
     "text": [
      " 57%|█████▋    | 136/237 [01:11<00:55,  1.83it/s]"
     ]
    },
    {
     "name": "stdout",
     "output_type": "stream",
     "text": [
      "0.22454533796516998\n",
      "0.24454513922564897\n",
      "0.24016298841892628\n",
      "0.09217733478361258\n",
      "0.1985691996066423\n"
     ]
    },
    {
     "name": "stderr",
     "output_type": "stream",
     "text": [
      " 58%|█████▊    | 138/237 [01:12<00:49,  2.01it/s]"
     ]
    },
    {
     "name": "stdout",
     "output_type": "stream",
     "text": [
      "0.22454533796516998\n",
      "0.24454513922564897\n",
      "0.24016298841892628\n",
      "0.09217733478361258\n",
      "0.1985691996066423\n",
      "0.22454533796516998\n",
      "0.24454513922564897\n",
      "0.24016298841892628\n",
      "0.09217733478361258\n",
      "0.1985691996066423\n"
     ]
    },
    {
     "name": "stderr",
     "output_type": "stream",
     "text": [
      " 59%|█████▉    | 140/237 [01:13<00:51,  1.87it/s]"
     ]
    },
    {
     "name": "stdout",
     "output_type": "stream",
     "text": [
      "0.22454533796516998\n",
      "0.24454513922564897\n",
      "0.24016298841892628\n",
      "0.09217733478361258\n",
      "0.1985691996066423\n"
     ]
    },
    {
     "name": "stderr",
     "output_type": "stream",
     "text": [
      " 59%|█████▉    | 141/237 [01:14<00:50,  1.90it/s]"
     ]
    },
    {
     "name": "stdout",
     "output_type": "stream",
     "text": [
      "0.22454533796516998\n",
      "0.24454513922564897\n",
      "0.24016298841892628\n",
      "0.09217733478361258\n",
      "0.1985691996066423\n"
     ]
    },
    {
     "name": "stderr",
     "output_type": "stream",
     "text": [
      " 60%|█████▉    | 142/237 [01:14<00:48,  1.95it/s]"
     ]
    },
    {
     "name": "stdout",
     "output_type": "stream",
     "text": [
      "0.22454533796516998\n",
      "0.24454513922564897\n",
      "0.24016298841892628\n",
      "0.09217733478361258\n",
      "0.1985691996066423\n",
      "0.22454533796516998\n",
      "0.24454513922564897\n",
      "0.24016298841892628\n",
      "0.09217733478361258\n",
      "0.1985691996066423\n"
     ]
    },
    {
     "name": "stderr",
     "output_type": "stream",
     "text": [
      " 60%|██████    | 143/237 [01:15<00:48,  1.94it/s]"
     ]
    },
    {
     "name": "stdout",
     "output_type": "stream",
     "text": [
      "0.22454533796516998\n",
      "0.24454513922564897\n",
      "0.24016298841892628\n",
      "0.09217733478361258\n",
      "0.1985691996066423\n"
     ]
    },
    {
     "name": "stderr",
     "output_type": "stream",
     "text": [
      " 61%|██████    | 145/237 [01:16<00:45,  2.04it/s]"
     ]
    },
    {
     "name": "stdout",
     "output_type": "stream",
     "text": [
      "0.22454533796516998\n",
      "0.24454513922564897\n",
      "0.24016298841892628\n",
      "0.09217733478361258\n",
      "0.1985691996066423\n",
      "0.22454533796516998\n",
      "0.24454513922564897\n",
      "0.24016298841892628\n",
      "0.09217733478361258\n",
      "0.1985691996066423\n"
     ]
    },
    {
     "name": "stderr",
     "output_type": "stream",
     "text": [
      " 62%|██████▏   | 146/237 [01:16<00:45,  2.00it/s]"
     ]
    },
    {
     "name": "stdout",
     "output_type": "stream",
     "text": [
      "0.22454533796516998\n",
      "0.24454513922564897\n",
      "0.24016298841892628\n",
      "0.09217733478361258\n",
      "0.1985691996066423\n"
     ]
    },
    {
     "name": "stderr",
     "output_type": "stream",
     "text": [
      " 62%|██████▏   | 148/237 [01:17<00:44,  1.99it/s]"
     ]
    },
    {
     "name": "stdout",
     "output_type": "stream",
     "text": [
      "0.22454533796516998\n",
      "0.24454513922564897\n",
      "0.24016298841892628\n",
      "0.09217733478361258\n",
      "0.1985691996066423\n",
      "0.22454533796516998\n",
      "0.24454513922564897\n",
      "0.24016298841892628\n",
      "0.09217733478361258\n",
      "0.1985691996066423\n"
     ]
    },
    {
     "name": "stderr",
     "output_type": "stream",
     "text": [
      " 63%|██████▎   | 149/237 [01:18<00:48,  1.81it/s]"
     ]
    },
    {
     "name": "stdout",
     "output_type": "stream",
     "text": [
      "0.22454533796516998\n",
      "0.24454513922564897\n",
      "0.24016298841892628\n",
      "0.09217733478361258\n",
      "0.1985691996066423\n"
     ]
    },
    {
     "name": "stderr",
     "output_type": "stream",
     "text": [
      " 63%|██████▎   | 150/237 [01:19<01:08,  1.27it/s]"
     ]
    },
    {
     "name": "stdout",
     "output_type": "stream",
     "text": [
      "0.22454533796516998\n",
      "0.24454513922564897\n",
      "0.24016298841892628\n",
      "0.09217733478361258\n",
      "0.1985691996066423\n"
     ]
    },
    {
     "name": "stderr",
     "output_type": "stream",
     "text": [
      " 64%|██████▎   | 151/237 [01:20<01:03,  1.36it/s]"
     ]
    },
    {
     "name": "stdout",
     "output_type": "stream",
     "text": [
      "0.22454533796516998\n",
      "0.24454513922564897\n",
      "0.24016298841892628\n",
      "0.09217733478361258\n",
      "0.1985691996066423\n"
     ]
    },
    {
     "name": "stderr",
     "output_type": "stream",
     "text": [
      " 64%|██████▍   | 152/237 [01:21<01:01,  1.38it/s]"
     ]
    },
    {
     "name": "stdout",
     "output_type": "stream",
     "text": [
      "0.22454533796516998\n",
      "0.24454513922564897\n",
      "0.24016298841892628\n",
      "0.09217733478361258\n",
      "0.1985691996066423\n"
     ]
    },
    {
     "name": "stderr",
     "output_type": "stream",
     "text": [
      " 65%|██████▍   | 153/237 [01:22<01:02,  1.33it/s]"
     ]
    },
    {
     "name": "stdout",
     "output_type": "stream",
     "text": [
      "0.22454533796516998\n",
      "0.24454513922564897\n",
      "0.24016298841892628\n",
      "0.09217733478361258\n",
      "0.1985691996066423\n"
     ]
    },
    {
     "name": "stderr",
     "output_type": "stream",
     "text": [
      " 65%|██████▍   | 154/237 [01:22<01:01,  1.35it/s]"
     ]
    },
    {
     "name": "stdout",
     "output_type": "stream",
     "text": [
      "0.22454533796516998\n",
      "0.24454513922564897\n",
      "0.24016298841892628\n",
      "0.09217733478361258\n",
      "0.1985691996066423\n"
     ]
    },
    {
     "name": "stderr",
     "output_type": "stream",
     "text": [
      " 65%|██████▌   | 155/237 [01:23<00:59,  1.37it/s]"
     ]
    },
    {
     "name": "stdout",
     "output_type": "stream",
     "text": [
      "0.22454533796516998\n",
      "0.24454513922564897\n",
      "0.24016298841892628\n",
      "0.09217733478361258\n",
      "0.1985691996066423\n"
     ]
    },
    {
     "name": "stderr",
     "output_type": "stream",
     "text": [
      " 66%|██████▌   | 156/237 [01:25<01:19,  1.03it/s]"
     ]
    },
    {
     "name": "stdout",
     "output_type": "stream",
     "text": [
      "0.22454533796516998\n",
      "0.24454513922564897\n",
      "0.24016298841892628\n",
      "0.09217733478361258\n",
      "0.1985691996066423\n"
     ]
    },
    {
     "name": "stderr",
     "output_type": "stream",
     "text": [
      " 66%|██████▌   | 157/237 [01:25<01:09,  1.15it/s]"
     ]
    },
    {
     "name": "stdout",
     "output_type": "stream",
     "text": [
      "0.22454533796516998\n",
      "0.24454513922564897\n",
      "0.24016298841892628\n",
      "0.09217733478361258\n",
      "0.1985691996066423\n"
     ]
    },
    {
     "name": "stderr",
     "output_type": "stream",
     "text": [
      " 67%|██████▋   | 158/237 [01:26<01:13,  1.08it/s]"
     ]
    },
    {
     "name": "stdout",
     "output_type": "stream",
     "text": [
      "0.22454533796516998\n",
      "0.24454513922564897\n",
      "0.24016298841892628\n",
      "0.09217733478361258\n",
      "0.1985691996066423\n"
     ]
    },
    {
     "name": "stderr",
     "output_type": "stream",
     "text": [
      " 67%|██████▋   | 159/237 [01:28<01:21,  1.05s/it]"
     ]
    },
    {
     "name": "stdout",
     "output_type": "stream",
     "text": [
      "0.22454533796516998\n",
      "0.24454513922564897\n",
      "0.24016298841892628\n",
      "0.09217733478361258\n",
      "0.1985691996066423\n"
     ]
    },
    {
     "name": "stderr",
     "output_type": "stream",
     "text": [
      " 68%|██████▊   | 160/237 [01:28<01:10,  1.09it/s]"
     ]
    },
    {
     "name": "stdout",
     "output_type": "stream",
     "text": [
      "0.22454533796516998\n",
      "0.24454513922564897\n",
      "0.24016298841892628\n",
      "0.09217733478361258\n",
      "0.1985691996066423\n"
     ]
    },
    {
     "name": "stderr",
     "output_type": "stream",
     "text": [
      " 68%|██████▊   | 162/237 [01:29<00:57,  1.31it/s]"
     ]
    },
    {
     "name": "stdout",
     "output_type": "stream",
     "text": [
      "0.22454533796516998\n",
      "0.24454513922564897\n",
      "0.24016298841892628\n",
      "0.09217733478361258\n",
      "0.1985691996066423\n",
      "0.22454533796516998\n",
      "0.24454513922564897\n",
      "0.24016298841892628\n",
      "0.09217733478361258\n",
      "0.1985691996066423\n"
     ]
    },
    {
     "name": "stderr",
     "output_type": "stream",
     "text": [
      " 69%|██████▉   | 164/237 [01:30<00:46,  1.57it/s]"
     ]
    },
    {
     "name": "stdout",
     "output_type": "stream",
     "text": [
      "0.22454533796516998\n",
      "0.24454513922564897\n",
      "0.24016298841892628\n",
      "0.09217733478361258\n",
      "0.1985691996066423\n",
      "0.22454533796516998\n",
      "0.24454513922564897\n",
      "0.24016298841892628\n",
      "0.09217733478361258\n",
      "0.1985691996066423\n"
     ]
    },
    {
     "name": "stderr",
     "output_type": "stream",
     "text": [
      " 70%|██████▉   | 165/237 [01:31<00:45,  1.57it/s]"
     ]
    },
    {
     "name": "stdout",
     "output_type": "stream",
     "text": [
      "0.22454533796516998\n",
      "0.24454513922564897\n",
      "0.24016298841892628\n",
      "0.09217733478361258\n",
      "0.1985691996066423\n"
     ]
    },
    {
     "name": "stderr",
     "output_type": "stream",
     "text": [
      " 70%|███████   | 167/237 [01:32<00:45,  1.54it/s]"
     ]
    },
    {
     "name": "stdout",
     "output_type": "stream",
     "text": [
      "0.22454533796516998\n",
      "0.24454513922564897\n",
      "0.24016298841892628\n",
      "0.09217733478361258\n",
      "0.1985691996066423\n",
      "0.22454533796516998\n",
      "0.24454513922564897\n",
      "0.24016298841892628\n",
      "0.09217733478361258\n",
      "0.1985691996066423\n"
     ]
    },
    {
     "name": "stderr",
     "output_type": "stream",
     "text": [
      " 71%|███████   | 168/237 [01:33<00:45,  1.53it/s]"
     ]
    },
    {
     "name": "stdout",
     "output_type": "stream",
     "text": [
      "0.22454533796516998\n",
      "0.24454513922564897\n",
      "0.24016298841892628\n",
      "0.09217733478361258\n",
      "0.1985691996066423\n"
     ]
    },
    {
     "name": "stderr",
     "output_type": "stream",
     "text": [
      " 71%|███████▏  | 169/237 [01:34<00:46,  1.46it/s]"
     ]
    },
    {
     "name": "stdout",
     "output_type": "stream",
     "text": [
      "0.22454533796516998\n",
      "0.24454513922564897\n",
      "0.24016298841892628\n",
      "0.09217733478361258\n",
      "0.1985691996066423\n"
     ]
    },
    {
     "name": "stderr",
     "output_type": "stream",
     "text": [
      " 72%|███████▏  | 170/237 [01:35<00:46,  1.44it/s]"
     ]
    },
    {
     "name": "stdout",
     "output_type": "stream",
     "text": [
      "0.22454533796516998\n",
      "0.24454513922564897\n",
      "0.24016298841892628\n",
      "0.09217733478361258\n",
      "0.1985691996066423\n"
     ]
    },
    {
     "name": "stderr",
     "output_type": "stream",
     "text": [
      " 72%|███████▏  | 171/237 [01:36<00:59,  1.12it/s]"
     ]
    },
    {
     "name": "stdout",
     "output_type": "stream",
     "text": [
      "0.22454533796516998\n",
      "0.24454513922564897\n",
      "0.24016298841892628\n",
      "0.09217733478361258\n",
      "0.1985691996066423\n"
     ]
    },
    {
     "name": "stderr",
     "output_type": "stream",
     "text": [
      " 73%|███████▎  | 172/237 [01:37<01:01,  1.05it/s]"
     ]
    },
    {
     "name": "stdout",
     "output_type": "stream",
     "text": [
      "0.22454533796516998\n",
      "0.24454513922564897\n",
      "0.24016298841892628\n",
      "0.09217733478361258\n",
      "0.1985691996066423\n"
     ]
    },
    {
     "name": "stderr",
     "output_type": "stream",
     "text": [
      " 73%|███████▎  | 173/237 [01:38<00:59,  1.07it/s]"
     ]
    },
    {
     "name": "stdout",
     "output_type": "stream",
     "text": [
      "0.22454533796516998\n",
      "0.24454513922564897\n",
      "0.24016298841892628\n",
      "0.09217733478361258\n",
      "0.1985691996066423\n"
     ]
    },
    {
     "name": "stderr",
     "output_type": "stream",
     "text": [
      " 73%|███████▎  | 174/237 [01:39<00:57,  1.09it/s]"
     ]
    },
    {
     "name": "stdout",
     "output_type": "stream",
     "text": [
      "0.22454533796516998\n",
      "0.24454513922564897\n",
      "0.24016298841892628\n",
      "0.09217733478361258\n",
      "0.1985691996066423\n"
     ]
    },
    {
     "name": "stderr",
     "output_type": "stream",
     "text": [
      " 74%|███████▍  | 175/237 [01:41<01:21,  1.31s/it]"
     ]
    },
    {
     "name": "stdout",
     "output_type": "stream",
     "text": [
      "0.22454533796516998\n",
      "0.24454513922564897\n",
      "0.24016298841892628\n",
      "0.09217733478361258\n",
      "0.1985691996066423\n"
     ]
    },
    {
     "name": "stderr",
     "output_type": "stream",
     "text": [
      " 74%|███████▍  | 176/237 [01:43<01:29,  1.46s/it]"
     ]
    },
    {
     "name": "stdout",
     "output_type": "stream",
     "text": [
      "0.22454533796516998\n",
      "0.24454513922564897\n",
      "0.24016298841892628\n",
      "0.09217733478361258\n",
      "0.1985691996066423\n"
     ]
    },
    {
     "name": "stderr",
     "output_type": "stream",
     "text": [
      " 75%|███████▌  | 178/237 [01:44<01:02,  1.07s/it]"
     ]
    },
    {
     "name": "stdout",
     "output_type": "stream",
     "text": [
      "0.22454533796516998\n",
      "0.24454513922564897\n",
      "0.24016298841892628\n",
      "0.09217733478361258\n",
      "0.1985691996066423\n"
     ]
    },
    {
     "name": "stderr",
     "output_type": "stream",
     "text": [
      " 76%|███████▌  | 179/237 [01:45<00:53,  1.09it/s]"
     ]
    },
    {
     "name": "stdout",
     "output_type": "stream",
     "text": [
      "0.22454533796516998\n",
      "0.24454513922564897\n",
      "0.24016298841892628\n",
      "0.09217733478361258\n",
      "0.1985691996066423\n",
      "0.22454533796516998\n",
      "0.24454513922564897\n",
      "0.24016298841892628\n",
      "0.09217733478361258\n",
      "0.1985691996066423\n"
     ]
    },
    {
     "name": "stderr",
     "output_type": "stream",
     "text": [
      " 76%|███████▌  | 180/237 [01:46<00:48,  1.17it/s]"
     ]
    },
    {
     "name": "stdout",
     "output_type": "stream",
     "text": [
      "0.22454533796516998\n",
      "0.24454513922564897\n",
      "0.24016298841892628\n",
      "0.09217733478361258\n",
      "0.1985691996066423\n"
     ]
    },
    {
     "name": "stderr",
     "output_type": "stream",
     "text": [
      " 76%|███████▋  | 181/237 [01:46<00:48,  1.15it/s]"
     ]
    },
    {
     "name": "stdout",
     "output_type": "stream",
     "text": [
      "0.22454533796516998\n",
      "0.24454513922564897\n",
      "0.24016298841892628\n",
      "0.09217733478361258\n",
      "0.1985691996066423\n"
     ]
    },
    {
     "name": "stderr",
     "output_type": "stream",
     "text": [
      " 77%|███████▋  | 183/237 [01:48<00:37,  1.44it/s]"
     ]
    },
    {
     "name": "stdout",
     "output_type": "stream",
     "text": [
      "0.22454533796516998\n",
      "0.24454513922564897\n",
      "0.24016298841892628\n",
      "0.09217733478361258\n",
      "0.1985691996066423\n"
     ]
    },
    {
     "name": "stderr",
     "output_type": "stream",
     "text": [
      " 78%|███████▊  | 184/237 [01:48<00:34,  1.54it/s]"
     ]
    },
    {
     "name": "stdout",
     "output_type": "stream",
     "text": [
      "0.22454533796516998\n",
      "0.24454513922564897\n",
      "0.24016298841892628\n",
      "0.09217733478361258\n",
      "0.1985691996066423\n",
      "0.22454533796516998\n",
      "0.24454513922564897\n",
      "0.24016298841892628\n",
      "0.09217733478361258\n",
      "0.1985691996066423\n"
     ]
    },
    {
     "name": "stderr",
     "output_type": "stream",
     "text": [
      " 78%|███████▊  | 185/237 [01:49<00:40,  1.27it/s]"
     ]
    },
    {
     "name": "stdout",
     "output_type": "stream",
     "text": [
      "0.22454533796516998\n",
      "0.24454513922564897\n",
      "0.24016298841892628\n",
      "0.09217733478361258\n",
      "0.1985691996066423\n"
     ]
    },
    {
     "name": "stderr",
     "output_type": "stream",
     "text": [
      " 79%|███████▉  | 187/237 [01:50<00:33,  1.51it/s]"
     ]
    },
    {
     "name": "stdout",
     "output_type": "stream",
     "text": [
      "0.22454533796516998\n",
      "0.24454513922564897\n",
      "0.24016298841892628\n",
      "0.09217733478361258\n",
      "0.1985691996066423\n"
     ]
    },
    {
     "name": "stderr",
     "output_type": "stream",
     "text": [
      " 79%|███████▉  | 188/237 [01:51<00:29,  1.64it/s]"
     ]
    },
    {
     "name": "stdout",
     "output_type": "stream",
     "text": [
      "0.22454533796516998\n",
      "0.24454513922564897\n",
      "0.24016298841892628\n",
      "0.09217733478361258\n",
      "0.1985691996066423\n",
      "0.22454533796516998\n",
      "0.24454513922564897\n",
      "0.24016298841892628\n",
      "0.09217733478361258\n",
      "0.1985691996066423\n"
     ]
    },
    {
     "name": "stderr",
     "output_type": "stream",
     "text": [
      " 80%|███████▉  | 189/237 [01:51<00:27,  1.72it/s]"
     ]
    },
    {
     "name": "stdout",
     "output_type": "stream",
     "text": [
      "0.22454533796516998\n",
      "0.24454513922564897\n",
      "0.24016298841892628\n",
      "0.09217733478361258\n",
      "0.1985691996066423\n"
     ]
    },
    {
     "name": "stderr",
     "output_type": "stream",
     "text": [
      " 80%|████████  | 190/237 [01:52<00:35,  1.34it/s]"
     ]
    },
    {
     "name": "stdout",
     "output_type": "stream",
     "text": [
      "0.22454533796516998\n",
      "0.24454513922564897\n",
      "0.24016298841892628\n",
      "0.09217733478361258\n",
      "0.1985691996066423\n"
     ]
    },
    {
     "name": "stderr",
     "output_type": "stream",
     "text": [
      " 81%|████████  | 192/237 [01:54<00:35,  1.27it/s]"
     ]
    },
    {
     "name": "stdout",
     "output_type": "stream",
     "text": [
      "0.22454533796516998\n",
      "0.24454513922564897\n",
      "0.24016298841892628\n",
      "0.09217733478361258\n",
      "0.1985691996066423\n",
      "0.22454533796516998\n",
      "0.24454513922564897\n",
      "0.24016298841892628\n",
      "0.09217733478361258\n",
      "0.1985691996066423\n"
     ]
    },
    {
     "name": "stderr",
     "output_type": "stream",
     "text": [
      " 82%|████████▏ | 194/237 [01:55<00:28,  1.52it/s]"
     ]
    },
    {
     "name": "stdout",
     "output_type": "stream",
     "text": [
      "0.22454533796516998\n",
      "0.24454513922564897\n",
      "0.24016298841892628\n",
      "0.09217733478361258\n",
      "0.1985691996066423\n",
      "0.22454533796516998\n",
      "0.24454513922564897\n",
      "0.24016298841892628\n",
      "0.09217733478361258\n",
      "0.1985691996066423\n"
     ]
    },
    {
     "name": "stderr",
     "output_type": "stream",
     "text": [
      " 82%|████████▏ | 195/237 [01:56<00:25,  1.62it/s]"
     ]
    },
    {
     "name": "stdout",
     "output_type": "stream",
     "text": [
      "0.22454533796516998\n",
      "0.24454513922564897\n",
      "0.24016298841892628\n",
      "0.09217733478361258\n",
      "0.1985691996066423\n"
     ]
    },
    {
     "name": "stderr",
     "output_type": "stream",
     "text": [
      " 83%|████████▎ | 196/237 [01:57<00:29,  1.41it/s]"
     ]
    },
    {
     "name": "stdout",
     "output_type": "stream",
     "text": [
      "0.22454533796516998\n",
      "0.24454513922564897\n",
      "0.24016298841892628\n",
      "0.09217733478361258\n",
      "0.1985691996066423\n"
     ]
    },
    {
     "name": "stderr",
     "output_type": "stream",
     "text": [
      " 83%|████████▎ | 197/237 [01:58<00:36,  1.10it/s]"
     ]
    },
    {
     "name": "stdout",
     "output_type": "stream",
     "text": [
      "0.22454533796516998\n",
      "0.24454513922564897\n",
      "0.24016298841892628\n",
      "0.09217733478361258\n",
      "0.1985691996066423\n"
     ]
    },
    {
     "name": "stderr",
     "output_type": "stream",
     "text": [
      " 84%|████████▎ | 198/237 [01:59<00:34,  1.12it/s]"
     ]
    },
    {
     "name": "stdout",
     "output_type": "stream",
     "text": [
      "0.22454533796516998\n",
      "0.24454513922564897\n",
      "0.24016298841892628\n",
      "0.09217733478361258\n",
      "0.1985691996066423\n"
     ]
    },
    {
     "name": "stderr",
     "output_type": "stream",
     "text": [
      " 84%|████████▍ | 199/237 [02:00<00:31,  1.22it/s]"
     ]
    },
    {
     "name": "stdout",
     "output_type": "stream",
     "text": [
      "0.22454533796516998\n",
      "0.24454513922564897\n",
      "0.24016298841892628\n",
      "0.09217733478361258\n",
      "0.1985691996066423\n"
     ]
    },
    {
     "name": "stderr",
     "output_type": "stream",
     "text": [
      " 84%|████████▍ | 200/237 [02:00<00:29,  1.23it/s]"
     ]
    },
    {
     "name": "stdout",
     "output_type": "stream",
     "text": [
      "0.22454533796516998\n",
      "0.24454513922564897\n",
      "0.24016298841892628\n",
      "0.09217733478361258\n",
      "0.1985691996066423\n"
     ]
    },
    {
     "name": "stderr",
     "output_type": "stream",
     "text": [
      "                                                 \r"
     ]
    },
    {
     "ename": "KeyboardInterrupt",
     "evalue": "",
     "output_type": "error",
     "traceback": [
      "\u001b[1;31m---------------------------------------------------------------------------\u001b[0m",
      "\u001b[1;31mKeyboardInterrupt\u001b[0m                         Traceback (most recent call last)",
      "Cell \u001b[1;32mIn[3], line 22\u001b[0m\n\u001b[0;32m     20\u001b[0m \u001b[38;5;28;01mfor\u001b[39;00m epoch \u001b[38;5;129;01min\u001b[39;00m \u001b[38;5;28mrange\u001b[39m(epochs):\n\u001b[0;32m     21\u001b[0m     \u001b[38;5;28mprint\u001b[39m(\u001b[38;5;124m\"\u001b[39m\u001b[38;5;130;01m\\n\u001b[39;00m\u001b[38;5;124m\"\u001b[39m \u001b[38;5;241m+\u001b[39m \u001b[38;5;124m\"\u001b[39m\u001b[38;5;124m-\u001b[39m\u001b[38;5;124m\"\u001b[39m\u001b[38;5;241m*\u001b[39m\u001b[38;5;241m100\u001b[39m \u001b[38;5;241m+\u001b[39m \u001b[38;5;124mf\u001b[39m\u001b[38;5;124m\"\u001b[39m\u001b[38;5;130;01m\\n\u001b[39;00m\u001b[38;5;124mEpoch: \u001b[39m\u001b[38;5;132;01m{\u001b[39;00mepoch\u001b[38;5;250m \u001b[39m\u001b[38;5;241m+\u001b[39m\u001b[38;5;250m \u001b[39m\u001b[38;5;241m1\u001b[39m\u001b[38;5;132;01m}\u001b[39;00m\u001b[38;5;124m/\u001b[39m\u001b[38;5;132;01m{\u001b[39;00mepochs\u001b[38;5;132;01m}\u001b[39;00m\u001b[38;5;124m,\u001b[39m\u001b[38;5;130;01m\\t\u001b[39;00m\u001b[38;5;124m\"\u001b[39m \u001b[38;5;241m+\u001b[39m \u001b[38;5;124mf\u001b[39m\u001b[38;5;124m\"\u001b[39m\u001b[38;5;124mTask Weights: \u001b[39m\u001b[38;5;132;01m{\u001b[39;00m[\u001b[38;5;124mf\u001b[39m\u001b[38;5;124m'\u001b[39m\u001b[38;5;132;01m{\u001b[39;00mweight\u001b[38;5;132;01m:\u001b[39;00m\u001b[38;5;124m.2f\u001b[39m\u001b[38;5;132;01m}\u001b[39;00m\u001b[38;5;124m'\u001b[39m\u001b[38;5;250m \u001b[39m\u001b[38;5;28;01mfor\u001b[39;00m\u001b[38;5;250m \u001b[39mweight\u001b[38;5;250m \u001b[39m\u001b[38;5;129;01min\u001b[39;00m\u001b[38;5;250m \u001b[39mtask_weights]\u001b[38;5;132;01m}\u001b[39;00m\u001b[38;5;130;01m\\n\u001b[39;00m\u001b[38;5;124m\"\u001b[39m \u001b[38;5;241m+\u001b[39m \u001b[38;5;124m\"\u001b[39m\u001b[38;5;124m-\u001b[39m\u001b[38;5;124m\"\u001b[39m\u001b[38;5;241m*\u001b[39m\u001b[38;5;241m100\u001b[39m)\n\u001b[1;32m---> 22\u001b[0m     train_metrics,task_weights \u001b[38;5;241m=\u001b[39m \u001b[43mtrain_ppnet\u001b[49m\u001b[43m(\u001b[49m\u001b[43mmodel\u001b[49m\u001b[43m,\u001b[49m\u001b[43m \u001b[49m\u001b[43mtrain_dataloader\u001b[49m\u001b[43m,\u001b[49m\u001b[43m \u001b[49m\u001b[43moptimizer\u001b[49m\u001b[43m,\u001b[49m\u001b[43m \u001b[49m\u001b[43mdevice\u001b[49m\u001b[43m,\u001b[49m\u001b[43m \u001b[49m\u001b[43mcoefs\u001b[49m\u001b[38;5;241;43m=\u001b[39;49m\u001b[43mcoefs\u001b[49m\u001b[43m,\u001b[49m\u001b[43m \u001b[49m\u001b[43mtask_weights\u001b[49m\u001b[38;5;241;43m=\u001b[39;49m\u001b[43mtask_weights\u001b[49m\u001b[43m)\u001b[49m\n\u001b[0;32m     23\u001b[0m     test_metrics \u001b[38;5;241m=\u001b[39m test_ppnet(model, test_dataloader, device, coefs\u001b[38;5;241m=\u001b[39mcoefs)\n",
      "File \u001b[1;32mc:\\Users\\jerem\\Desktop\\ICL-MSc\\Final_Year_Project\\FYP-interpretable-deep-learning\\2D-model\\src\\training\\train_ppnet.py:193\u001b[0m, in \u001b[0;36mtrain_ppnet\u001b[1;34m(model, data_loader, optimizer, device, use_l1_mask, coefs, task_weights)\u001b[0m\n\u001b[0;32m    192\u001b[0m \u001b[38;5;28;01mdef\u001b[39;00m \u001b[38;5;21mtrain_ppnet\u001b[39m(model, data_loader, optimizer, device, use_l1_mask\u001b[38;5;241m=\u001b[39m\u001b[38;5;28;01mTrue\u001b[39;00m, coefs\u001b[38;5;241m=\u001b[39m\u001b[38;5;28;01mNone\u001b[39;00m, task_weights\u001b[38;5;241m=\u001b[39m\u001b[38;5;28;01mNone\u001b[39;00m):\n\u001b[1;32m--> 193\u001b[0m     train_metrics, task_weights \u001b[38;5;241m=\u001b[39m \u001b[43m_train_or_test\u001b[49m\u001b[43m(\u001b[49m\u001b[43mmodel\u001b[49m\u001b[43m,\u001b[49m\u001b[43m \u001b[49m\u001b[43mdata_loader\u001b[49m\u001b[43m,\u001b[49m\u001b[43m \u001b[49m\u001b[43moptimizer\u001b[49m\u001b[43m,\u001b[49m\u001b[43m \u001b[49m\u001b[43mdevice\u001b[49m\u001b[43m,\u001b[49m\u001b[43m \u001b[49m\u001b[43mis_train\u001b[49m\u001b[38;5;241;43m=\u001b[39;49m\u001b[38;5;28;43;01mTrue\u001b[39;49;00m\u001b[43m,\u001b[49m\u001b[43m \u001b[49m\u001b[43muse_l1_mask\u001b[49m\u001b[38;5;241;43m=\u001b[39;49m\u001b[43muse_l1_mask\u001b[49m\u001b[43m,\u001b[49m\u001b[43m \u001b[49m\u001b[43mcoefs\u001b[49m\u001b[38;5;241;43m=\u001b[39;49m\u001b[43mcoefs\u001b[49m\u001b[43m,\u001b[49m\u001b[43m \u001b[49m\u001b[43mtask_weights\u001b[49m\u001b[38;5;241;43m=\u001b[39;49m\u001b[43mtask_weights\u001b[49m\u001b[43m)\u001b[49m\n\u001b[0;32m    194\u001b[0m     \u001b[38;5;28mprint\u001b[39m(\u001b[38;5;124mf\u001b[39m\u001b[38;5;124m\"\u001b[39m\u001b[38;5;124mTrain loss: \u001b[39m\u001b[38;5;132;01m{\u001b[39;00mtrain_metrics[\u001b[38;5;124m'\u001b[39m\u001b[38;5;124maverage_loss\u001b[39m\u001b[38;5;124m'\u001b[39m]\u001b[38;5;132;01m:\u001b[39;00m\u001b[38;5;124m.5f\u001b[39m\u001b[38;5;132;01m}\u001b[39;00m\u001b[38;5;124m\"\u001b[39m)\n\u001b[0;32m    195\u001b[0m     \u001b[38;5;28;01mfor\u001b[39;00m i, (acc, bal_acc, task_loss) \u001b[38;5;129;01min\u001b[39;00m \u001b[38;5;28menumerate\u001b[39m(\u001b[38;5;28mzip\u001b[39m(train_metrics[\u001b[38;5;124m'\u001b[39m\u001b[38;5;124mtask_accuracies\u001b[39m\u001b[38;5;124m'\u001b[39m], train_metrics[\u001b[38;5;124m'\u001b[39m\u001b[38;5;124mtask_balanced_accuracies\u001b[39m\u001b[38;5;124m'\u001b[39m], train_metrics[\u001b[38;5;124m'\u001b[39m\u001b[38;5;124mtask_losses\u001b[39m\u001b[38;5;124m'\u001b[39m]), \u001b[38;5;241m1\u001b[39m):\n",
      "File \u001b[1;32mc:\\Users\\jerem\\Desktop\\ICL-MSc\\Final_Year_Project\\FYP-interpretable-deep-learning\\2D-model\\src\\training\\train_ppnet.py:146\u001b[0m, in \u001b[0;36m_train_or_test\u001b[1;34m(model, data_loader, optimizer, device, is_train, use_l1_mask, coefs, task_weights)\u001b[0m\n\u001b[0;32m    144\u001b[0m             optimizer\u001b[38;5;241m.\u001b[39mzero_grad()\n\u001b[0;32m    145\u001b[0m             batch_loss\u001b[38;5;241m.\u001b[39mbackward()\n\u001b[1;32m--> 146\u001b[0m             \u001b[43moptimizer\u001b[49m\u001b[38;5;241;43m.\u001b[39;49m\u001b[43mstep\u001b[49m\u001b[43m(\u001b[49m\u001b[43m)\u001b[49m\n\u001b[0;32m    148\u001b[0m         n_batches \u001b[38;5;241m+\u001b[39m\u001b[38;5;241m=\u001b[39m \u001b[38;5;241m1\u001b[39m\n\u001b[0;32m    150\u001b[0m average_loss \u001b[38;5;241m=\u001b[39m total_loss \u001b[38;5;241m/\u001b[39m n_batches\n",
      "File \u001b[1;32md:\\Program_Files\\anaconda3\\envs\\torch\\lib\\site-packages\\torch\\optim\\optimizer.py:484\u001b[0m, in \u001b[0;36mOptimizer.profile_hook_step.<locals>.wrapper\u001b[1;34m(*args, **kwargs)\u001b[0m\n\u001b[0;32m    479\u001b[0m         \u001b[38;5;28;01melse\u001b[39;00m:\n\u001b[0;32m    480\u001b[0m             \u001b[38;5;28;01mraise\u001b[39;00m \u001b[38;5;167;01mRuntimeError\u001b[39;00m(\n\u001b[0;32m    481\u001b[0m                 \u001b[38;5;124mf\u001b[39m\u001b[38;5;124m\"\u001b[39m\u001b[38;5;132;01m{\u001b[39;00mfunc\u001b[38;5;132;01m}\u001b[39;00m\u001b[38;5;124m must return None or a tuple of (new_args, new_kwargs), but got \u001b[39m\u001b[38;5;132;01m{\u001b[39;00mresult\u001b[38;5;132;01m}\u001b[39;00m\u001b[38;5;124m.\u001b[39m\u001b[38;5;124m\"\u001b[39m\n\u001b[0;32m    482\u001b[0m             )\n\u001b[1;32m--> 484\u001b[0m out \u001b[38;5;241m=\u001b[39m \u001b[43mfunc\u001b[49m\u001b[43m(\u001b[49m\u001b[38;5;241;43m*\u001b[39;49m\u001b[43margs\u001b[49m\u001b[43m,\u001b[49m\u001b[43m \u001b[49m\u001b[38;5;241;43m*\u001b[39;49m\u001b[38;5;241;43m*\u001b[39;49m\u001b[43mkwargs\u001b[49m\u001b[43m)\u001b[49m\n\u001b[0;32m    485\u001b[0m \u001b[38;5;28mself\u001b[39m\u001b[38;5;241m.\u001b[39m_optimizer_step_code()\n\u001b[0;32m    487\u001b[0m \u001b[38;5;66;03m# call optimizer step post hooks\u001b[39;00m\n",
      "File \u001b[1;32md:\\Program_Files\\anaconda3\\envs\\torch\\lib\\site-packages\\torch\\optim\\optimizer.py:89\u001b[0m, in \u001b[0;36m_use_grad_for_differentiable.<locals>._use_grad\u001b[1;34m(self, *args, **kwargs)\u001b[0m\n\u001b[0;32m     87\u001b[0m     torch\u001b[38;5;241m.\u001b[39mset_grad_enabled(\u001b[38;5;28mself\u001b[39m\u001b[38;5;241m.\u001b[39mdefaults[\u001b[38;5;124m\"\u001b[39m\u001b[38;5;124mdifferentiable\u001b[39m\u001b[38;5;124m\"\u001b[39m])\n\u001b[0;32m     88\u001b[0m     torch\u001b[38;5;241m.\u001b[39m_dynamo\u001b[38;5;241m.\u001b[39mgraph_break()\n\u001b[1;32m---> 89\u001b[0m     ret \u001b[38;5;241m=\u001b[39m \u001b[43mfunc\u001b[49m\u001b[43m(\u001b[49m\u001b[38;5;28;43mself\u001b[39;49m\u001b[43m,\u001b[49m\u001b[43m \u001b[49m\u001b[38;5;241;43m*\u001b[39;49m\u001b[43margs\u001b[49m\u001b[43m,\u001b[49m\u001b[43m \u001b[49m\u001b[38;5;241;43m*\u001b[39;49m\u001b[38;5;241;43m*\u001b[39;49m\u001b[43mkwargs\u001b[49m\u001b[43m)\u001b[49m\n\u001b[0;32m     90\u001b[0m \u001b[38;5;28;01mfinally\u001b[39;00m:\n\u001b[0;32m     91\u001b[0m     torch\u001b[38;5;241m.\u001b[39m_dynamo\u001b[38;5;241m.\u001b[39mgraph_break()\n",
      "File \u001b[1;32md:\\Program_Files\\anaconda3\\envs\\torch\\lib\\site-packages\\torch\\optim\\adam.py:226\u001b[0m, in \u001b[0;36mAdam.step\u001b[1;34m(self, closure)\u001b[0m\n\u001b[0;32m    214\u001b[0m     beta1, beta2 \u001b[38;5;241m=\u001b[39m group[\u001b[38;5;124m\"\u001b[39m\u001b[38;5;124mbetas\u001b[39m\u001b[38;5;124m\"\u001b[39m]\n\u001b[0;32m    216\u001b[0m     has_complex \u001b[38;5;241m=\u001b[39m \u001b[38;5;28mself\u001b[39m\u001b[38;5;241m.\u001b[39m_init_group(\n\u001b[0;32m    217\u001b[0m         group,\n\u001b[0;32m    218\u001b[0m         params_with_grad,\n\u001b[1;32m   (...)\u001b[0m\n\u001b[0;32m    223\u001b[0m         state_steps,\n\u001b[0;32m    224\u001b[0m     )\n\u001b[1;32m--> 226\u001b[0m     \u001b[43madam\u001b[49m\u001b[43m(\u001b[49m\n\u001b[0;32m    227\u001b[0m \u001b[43m        \u001b[49m\u001b[43mparams_with_grad\u001b[49m\u001b[43m,\u001b[49m\n\u001b[0;32m    228\u001b[0m \u001b[43m        \u001b[49m\u001b[43mgrads\u001b[49m\u001b[43m,\u001b[49m\n\u001b[0;32m    229\u001b[0m \u001b[43m        \u001b[49m\u001b[43mexp_avgs\u001b[49m\u001b[43m,\u001b[49m\n\u001b[0;32m    230\u001b[0m \u001b[43m        \u001b[49m\u001b[43mexp_avg_sqs\u001b[49m\u001b[43m,\u001b[49m\n\u001b[0;32m    231\u001b[0m \u001b[43m        \u001b[49m\u001b[43mmax_exp_avg_sqs\u001b[49m\u001b[43m,\u001b[49m\n\u001b[0;32m    232\u001b[0m \u001b[43m        \u001b[49m\u001b[43mstate_steps\u001b[49m\u001b[43m,\u001b[49m\n\u001b[0;32m    233\u001b[0m \u001b[43m        \u001b[49m\u001b[43mamsgrad\u001b[49m\u001b[38;5;241;43m=\u001b[39;49m\u001b[43mgroup\u001b[49m\u001b[43m[\u001b[49m\u001b[38;5;124;43m\"\u001b[39;49m\u001b[38;5;124;43mamsgrad\u001b[39;49m\u001b[38;5;124;43m\"\u001b[39;49m\u001b[43m]\u001b[49m\u001b[43m,\u001b[49m\n\u001b[0;32m    234\u001b[0m \u001b[43m        \u001b[49m\u001b[43mhas_complex\u001b[49m\u001b[38;5;241;43m=\u001b[39;49m\u001b[43mhas_complex\u001b[49m\u001b[43m,\u001b[49m\n\u001b[0;32m    235\u001b[0m \u001b[43m        \u001b[49m\u001b[43mbeta1\u001b[49m\u001b[38;5;241;43m=\u001b[39;49m\u001b[43mbeta1\u001b[49m\u001b[43m,\u001b[49m\n\u001b[0;32m    236\u001b[0m \u001b[43m        \u001b[49m\u001b[43mbeta2\u001b[49m\u001b[38;5;241;43m=\u001b[39;49m\u001b[43mbeta2\u001b[49m\u001b[43m,\u001b[49m\n\u001b[0;32m    237\u001b[0m \u001b[43m        \u001b[49m\u001b[43mlr\u001b[49m\u001b[38;5;241;43m=\u001b[39;49m\u001b[43mgroup\u001b[49m\u001b[43m[\u001b[49m\u001b[38;5;124;43m\"\u001b[39;49m\u001b[38;5;124;43mlr\u001b[39;49m\u001b[38;5;124;43m\"\u001b[39;49m\u001b[43m]\u001b[49m\u001b[43m,\u001b[49m\n\u001b[0;32m    238\u001b[0m \u001b[43m        \u001b[49m\u001b[43mweight_decay\u001b[49m\u001b[38;5;241;43m=\u001b[39;49m\u001b[43mgroup\u001b[49m\u001b[43m[\u001b[49m\u001b[38;5;124;43m\"\u001b[39;49m\u001b[38;5;124;43mweight_decay\u001b[39;49m\u001b[38;5;124;43m\"\u001b[39;49m\u001b[43m]\u001b[49m\u001b[43m,\u001b[49m\n\u001b[0;32m    239\u001b[0m \u001b[43m        \u001b[49m\u001b[43meps\u001b[49m\u001b[38;5;241;43m=\u001b[39;49m\u001b[43mgroup\u001b[49m\u001b[43m[\u001b[49m\u001b[38;5;124;43m\"\u001b[39;49m\u001b[38;5;124;43meps\u001b[39;49m\u001b[38;5;124;43m\"\u001b[39;49m\u001b[43m]\u001b[49m\u001b[43m,\u001b[49m\n\u001b[0;32m    240\u001b[0m \u001b[43m        \u001b[49m\u001b[43mmaximize\u001b[49m\u001b[38;5;241;43m=\u001b[39;49m\u001b[43mgroup\u001b[49m\u001b[43m[\u001b[49m\u001b[38;5;124;43m\"\u001b[39;49m\u001b[38;5;124;43mmaximize\u001b[39;49m\u001b[38;5;124;43m\"\u001b[39;49m\u001b[43m]\u001b[49m\u001b[43m,\u001b[49m\n\u001b[0;32m    241\u001b[0m \u001b[43m        \u001b[49m\u001b[43mforeach\u001b[49m\u001b[38;5;241;43m=\u001b[39;49m\u001b[43mgroup\u001b[49m\u001b[43m[\u001b[49m\u001b[38;5;124;43m\"\u001b[39;49m\u001b[38;5;124;43mforeach\u001b[39;49m\u001b[38;5;124;43m\"\u001b[39;49m\u001b[43m]\u001b[49m\u001b[43m,\u001b[49m\n\u001b[0;32m    242\u001b[0m \u001b[43m        \u001b[49m\u001b[43mcapturable\u001b[49m\u001b[38;5;241;43m=\u001b[39;49m\u001b[43mgroup\u001b[49m\u001b[43m[\u001b[49m\u001b[38;5;124;43m\"\u001b[39;49m\u001b[38;5;124;43mcapturable\u001b[39;49m\u001b[38;5;124;43m\"\u001b[39;49m\u001b[43m]\u001b[49m\u001b[43m,\u001b[49m\n\u001b[0;32m    243\u001b[0m \u001b[43m        \u001b[49m\u001b[43mdifferentiable\u001b[49m\u001b[38;5;241;43m=\u001b[39;49m\u001b[43mgroup\u001b[49m\u001b[43m[\u001b[49m\u001b[38;5;124;43m\"\u001b[39;49m\u001b[38;5;124;43mdifferentiable\u001b[39;49m\u001b[38;5;124;43m\"\u001b[39;49m\u001b[43m]\u001b[49m\u001b[43m,\u001b[49m\n\u001b[0;32m    244\u001b[0m \u001b[43m        \u001b[49m\u001b[43mfused\u001b[49m\u001b[38;5;241;43m=\u001b[39;49m\u001b[43mgroup\u001b[49m\u001b[43m[\u001b[49m\u001b[38;5;124;43m\"\u001b[39;49m\u001b[38;5;124;43mfused\u001b[39;49m\u001b[38;5;124;43m\"\u001b[39;49m\u001b[43m]\u001b[49m\u001b[43m,\u001b[49m\n\u001b[0;32m    245\u001b[0m \u001b[43m        \u001b[49m\u001b[43mgrad_scale\u001b[49m\u001b[38;5;241;43m=\u001b[39;49m\u001b[38;5;28;43mgetattr\u001b[39;49m\u001b[43m(\u001b[49m\u001b[38;5;28;43mself\u001b[39;49m\u001b[43m,\u001b[49m\u001b[43m \u001b[49m\u001b[38;5;124;43m\"\u001b[39;49m\u001b[38;5;124;43mgrad_scale\u001b[39;49m\u001b[38;5;124;43m\"\u001b[39;49m\u001b[43m,\u001b[49m\u001b[43m \u001b[49m\u001b[38;5;28;43;01mNone\u001b[39;49;00m\u001b[43m)\u001b[49m\u001b[43m,\u001b[49m\n\u001b[0;32m    246\u001b[0m \u001b[43m        \u001b[49m\u001b[43mfound_inf\u001b[49m\u001b[38;5;241;43m=\u001b[39;49m\u001b[38;5;28;43mgetattr\u001b[39;49m\u001b[43m(\u001b[49m\u001b[38;5;28;43mself\u001b[39;49m\u001b[43m,\u001b[49m\u001b[43m \u001b[49m\u001b[38;5;124;43m\"\u001b[39;49m\u001b[38;5;124;43mfound_inf\u001b[39;49m\u001b[38;5;124;43m\"\u001b[39;49m\u001b[43m,\u001b[49m\u001b[43m \u001b[49m\u001b[38;5;28;43;01mNone\u001b[39;49;00m\u001b[43m)\u001b[49m\u001b[43m,\u001b[49m\n\u001b[0;32m    247\u001b[0m \u001b[43m    \u001b[49m\u001b[43m)\u001b[49m\n\u001b[0;32m    249\u001b[0m \u001b[38;5;28;01mreturn\u001b[39;00m loss\n",
      "File \u001b[1;32md:\\Program_Files\\anaconda3\\envs\\torch\\lib\\site-packages\\torch\\optim\\optimizer.py:161\u001b[0m, in \u001b[0;36m_disable_dynamo_if_unsupported.<locals>.wrapper.<locals>.maybe_fallback\u001b[1;34m(*args, **kwargs)\u001b[0m\n\u001b[0;32m    159\u001b[0m     \u001b[38;5;28;01mreturn\u001b[39;00m disabled_func(\u001b[38;5;241m*\u001b[39margs, \u001b[38;5;241m*\u001b[39m\u001b[38;5;241m*\u001b[39mkwargs)\n\u001b[0;32m    160\u001b[0m \u001b[38;5;28;01melse\u001b[39;00m:\n\u001b[1;32m--> 161\u001b[0m     \u001b[38;5;28;01mreturn\u001b[39;00m \u001b[43mfunc\u001b[49m\u001b[43m(\u001b[49m\u001b[38;5;241;43m*\u001b[39;49m\u001b[43margs\u001b[49m\u001b[43m,\u001b[49m\u001b[43m \u001b[49m\u001b[38;5;241;43m*\u001b[39;49m\u001b[38;5;241;43m*\u001b[39;49m\u001b[43mkwargs\u001b[49m\u001b[43m)\u001b[49m\n",
      "File \u001b[1;32md:\\Program_Files\\anaconda3\\envs\\torch\\lib\\site-packages\\torch\\optim\\adam.py:766\u001b[0m, in \u001b[0;36madam\u001b[1;34m(params, grads, exp_avgs, exp_avg_sqs, max_exp_avg_sqs, state_steps, foreach, capturable, differentiable, fused, grad_scale, found_inf, has_complex, amsgrad, beta1, beta2, lr, weight_decay, eps, maximize)\u001b[0m\n\u001b[0;32m    763\u001b[0m \u001b[38;5;28;01melse\u001b[39;00m:\n\u001b[0;32m    764\u001b[0m     func \u001b[38;5;241m=\u001b[39m _single_tensor_adam\n\u001b[1;32m--> 766\u001b[0m \u001b[43mfunc\u001b[49m\u001b[43m(\u001b[49m\n\u001b[0;32m    767\u001b[0m \u001b[43m    \u001b[49m\u001b[43mparams\u001b[49m\u001b[43m,\u001b[49m\n\u001b[0;32m    768\u001b[0m \u001b[43m    \u001b[49m\u001b[43mgrads\u001b[49m\u001b[43m,\u001b[49m\n\u001b[0;32m    769\u001b[0m \u001b[43m    \u001b[49m\u001b[43mexp_avgs\u001b[49m\u001b[43m,\u001b[49m\n\u001b[0;32m    770\u001b[0m \u001b[43m    \u001b[49m\u001b[43mexp_avg_sqs\u001b[49m\u001b[43m,\u001b[49m\n\u001b[0;32m    771\u001b[0m \u001b[43m    \u001b[49m\u001b[43mmax_exp_avg_sqs\u001b[49m\u001b[43m,\u001b[49m\n\u001b[0;32m    772\u001b[0m \u001b[43m    \u001b[49m\u001b[43mstate_steps\u001b[49m\u001b[43m,\u001b[49m\n\u001b[0;32m    773\u001b[0m \u001b[43m    \u001b[49m\u001b[43mamsgrad\u001b[49m\u001b[38;5;241;43m=\u001b[39;49m\u001b[43mamsgrad\u001b[49m\u001b[43m,\u001b[49m\n\u001b[0;32m    774\u001b[0m \u001b[43m    \u001b[49m\u001b[43mhas_complex\u001b[49m\u001b[38;5;241;43m=\u001b[39;49m\u001b[43mhas_complex\u001b[49m\u001b[43m,\u001b[49m\n\u001b[0;32m    775\u001b[0m \u001b[43m    \u001b[49m\u001b[43mbeta1\u001b[49m\u001b[38;5;241;43m=\u001b[39;49m\u001b[43mbeta1\u001b[49m\u001b[43m,\u001b[49m\n\u001b[0;32m    776\u001b[0m \u001b[43m    \u001b[49m\u001b[43mbeta2\u001b[49m\u001b[38;5;241;43m=\u001b[39;49m\u001b[43mbeta2\u001b[49m\u001b[43m,\u001b[49m\n\u001b[0;32m    777\u001b[0m \u001b[43m    \u001b[49m\u001b[43mlr\u001b[49m\u001b[38;5;241;43m=\u001b[39;49m\u001b[43mlr\u001b[49m\u001b[43m,\u001b[49m\n\u001b[0;32m    778\u001b[0m \u001b[43m    \u001b[49m\u001b[43mweight_decay\u001b[49m\u001b[38;5;241;43m=\u001b[39;49m\u001b[43mweight_decay\u001b[49m\u001b[43m,\u001b[49m\n\u001b[0;32m    779\u001b[0m \u001b[43m    \u001b[49m\u001b[43meps\u001b[49m\u001b[38;5;241;43m=\u001b[39;49m\u001b[43meps\u001b[49m\u001b[43m,\u001b[49m\n\u001b[0;32m    780\u001b[0m \u001b[43m    \u001b[49m\u001b[43mmaximize\u001b[49m\u001b[38;5;241;43m=\u001b[39;49m\u001b[43mmaximize\u001b[49m\u001b[43m,\u001b[49m\n\u001b[0;32m    781\u001b[0m \u001b[43m    \u001b[49m\u001b[43mcapturable\u001b[49m\u001b[38;5;241;43m=\u001b[39;49m\u001b[43mcapturable\u001b[49m\u001b[43m,\u001b[49m\n\u001b[0;32m    782\u001b[0m \u001b[43m    \u001b[49m\u001b[43mdifferentiable\u001b[49m\u001b[38;5;241;43m=\u001b[39;49m\u001b[43mdifferentiable\u001b[49m\u001b[43m,\u001b[49m\n\u001b[0;32m    783\u001b[0m \u001b[43m    \u001b[49m\u001b[43mgrad_scale\u001b[49m\u001b[38;5;241;43m=\u001b[39;49m\u001b[43mgrad_scale\u001b[49m\u001b[43m,\u001b[49m\n\u001b[0;32m    784\u001b[0m \u001b[43m    \u001b[49m\u001b[43mfound_inf\u001b[49m\u001b[38;5;241;43m=\u001b[39;49m\u001b[43mfound_inf\u001b[49m\u001b[43m,\u001b[49m\n\u001b[0;32m    785\u001b[0m \u001b[43m\u001b[49m\u001b[43m)\u001b[49m\n",
      "File \u001b[1;32md:\\Program_Files\\anaconda3\\envs\\torch\\lib\\site-packages\\torch\\optim\\adam.py:604\u001b[0m, in \u001b[0;36m_multi_tensor_adam\u001b[1;34m(params, grads, exp_avgs, exp_avg_sqs, max_exp_avg_sqs, state_steps, grad_scale, found_inf, amsgrad, has_complex, beta1, beta2, lr, weight_decay, eps, maximize, capturable, differentiable)\u001b[0m\n\u001b[0;32m    601\u001b[0m \u001b[38;5;28;01melse\u001b[39;00m:\n\u001b[0;32m    602\u001b[0m     exp_avg_sq_sqrt \u001b[38;5;241m=\u001b[39m torch\u001b[38;5;241m.\u001b[39m_foreach_sqrt(device_exp_avg_sqs)\n\u001b[1;32m--> 604\u001b[0m \u001b[43mtorch\u001b[49m\u001b[38;5;241;43m.\u001b[39;49m\u001b[43m_foreach_div_\u001b[49m\u001b[43m(\u001b[49m\u001b[43mexp_avg_sq_sqrt\u001b[49m\u001b[43m,\u001b[49m\u001b[43m \u001b[49m\u001b[43mbias_correction2_sqrt\u001b[49m\u001b[43m)\u001b[49m\n\u001b[0;32m    605\u001b[0m torch\u001b[38;5;241m.\u001b[39m_foreach_add_(exp_avg_sq_sqrt, eps)\n\u001b[0;32m    606\u001b[0m torch\u001b[38;5;241m.\u001b[39m_foreach_addcdiv_(\n\u001b[0;32m    607\u001b[0m     device_params, device_exp_avgs, exp_avg_sq_sqrt, step_size  \u001b[38;5;66;03m# type: ignore[arg-type]\u001b[39;00m\n\u001b[0;32m    608\u001b[0m )\n",
      "\u001b[1;31mKeyboardInterrupt\u001b[0m: "
     ]
    }
   ],
   "source": [
    "from src.training.train_ppnet import train_ppnet, test_ppnet\n",
    "from src.models.ProtoPNet import construct_PPNet\n",
    "import torch\n",
    "\n",
    "epochs = 10\n",
    "device = torch.device('cuda' if torch.cuda.is_available() else 'cpu')\n",
    "\n",
    "model = construct_PPNet(base_architecture='denseFPN_121', weights='DEFAULT', img_size=100, prototype_shape=(10*5*2, 224, 1, 1), num_characteristics=5, prototype_activation_function='log', add_on_layers_type='bottleneck')\n",
    "\n",
    "# Define the optimizer\n",
    "optimizer = torch.optim.Adam(model.parameters(), lr=0.0001)\n",
    "coefs = {\n",
    "    'crs_ent': 1,#0.4,#1.1,#0.8,#1.1,#1,#0.5,#changed from 1 at 48\n",
    "    'clst': 0.8*1.5,#0.2,#0.3,#1.1,#0.8,#5,#0.8,\n",
    "    'sep': -0.0004,#-0.0004,#-0.17,#-0.22,#-0.5, #used to be -0.08 #dm made it smaller to avoid the problem I noticed where as the separation loss is subtracted, having it too large makes your loss negative making everything explode (also -0.025 works but unstable)\n",
    "    'l1': 1e-4\n",
    "}\n",
    "\n",
    "task_weights = [1.0 / 5] * 5\n",
    "for epoch in range(epochs):\n",
    "    print(\"\\n\" + \"-\"*100 + f\"\\nEpoch: {epoch + 1}/{epochs},\\t\" + f\"Task Weights: {[f'{weight:.2f}' for weight in task_weights]}\\n\" + \"-\"*100)\n",
    "    train_metrics,task_weights = train_ppnet(model, train_dataloader, optimizer, device, coefs=coefs, task_weights=task_weights)\n",
    "    test_metrics = test_ppnet(model, test_dataloader, device, coefs=coefs)\n"
   ]
  },
  {
   "cell_type": "markdown",
   "metadata": {},
   "source": []
  },
  {
   "cell_type": "markdown",
   "metadata": {},
   "source": []
  },
  {
   "cell_type": "code",
   "execution_count": 26,
   "metadata": {},
   "outputs": [],
   "source": [
    "import torch\n",
    "import numpy as np\n",
    "import matplotlib.pyplot as plt\n",
    "import cv2\n",
    "import os\n",
    "import copy\n",
    "import time\n",
    "\n",
    "from src.utils.receptive_field import compute_rf_prototype\n",
    "from src.utils.helpers import makedir, find_high_activation_crop\n",
    "\n",
    "# push each prototype to the nearest patch in the training set\n",
    "def push_prototypes(dataloader, # pytorch dataloader (must be unnormalized in [0,1])\n",
    "                    prototype_network_parallel, # pytorch network with prototype_vectors\n",
    "                    class_specific=True,\n",
    "                    preprocess_input_function=None, # normalize if needed\n",
    "                    prototype_layer_stride=1,\n",
    "                    root_dir_for_saving_prototypes=None, # if not None, prototypes will be saved here\n",
    "                    epoch_number=None, # if not provided, prototypes saved previously will be overwritten\n",
    "                    prototype_img_filename_prefix=None,\n",
    "                    prototype_self_act_filename_prefix=None,\n",
    "                    proto_bound_boxes_filename_prefix=None,\n",
    "                    save_prototype_class_identity=True, # which class the prototype image comes from\n",
    "                    prototype_activation_function_in_numpy=None):\n",
    "    device = torch.device('cuda' if torch.cuda.is_available() else 'cpu')\n",
    "    \n",
    "    prototype_network_parallel.to(device).eval()\n",
    "\n",
    "    # Assuming prototype_network_parallel.module.prototype_vectors is a list of tensors\n",
    "    all_prototype_shapes = [prototypes.shape for prototypes in prototype_network_parallel.prototype_vectors]\n",
    "    all_n_prototypes = [shape[0] for shape in all_prototype_shapes]\n",
    "    \n",
    "    # Saves the closest distance to the prototype\n",
    "    all_global_min_proto_dist = [np.full(n_prototypes, np.inf) for n_prototypes in all_n_prototypes]\n",
    "    \n",
    "    # Saves the patch that minimizes the distance to the prototype\n",
    "    all_global_min_fmap_patches = [np.zeros([n_prototypes, shape[1], shape[2], shape[3]]) \n",
    "                                   for n_prototypes, shape in zip(all_n_prototypes, all_prototype_shapes)]\n",
    "    \n",
    "    # Assuming the same bounding box and class identity handling applies to all characteristics\n",
    "    # Initialize proto_rf_boxes and proto_bound_boxes with appropriate shapes\n",
    "    if save_prototype_class_identity:\n",
    "        proto_rf_boxes = [np.full([n_prototypes, 6], -1) for n_prototypes in all_n_prototypes]\n",
    "        proto_bound_boxes = [np.full([n_prototypes, 6], -1) for n_prototypes in all_n_prototypes]\n",
    "    else:\n",
    "        proto_rf_boxes = [np.full([n_prototypes, 5], -1) for n_prototypes in all_n_prototypes]\n",
    "        proto_bound_boxes = [np.full([n_prototypes, 5], -1) for n_prototypes in all_n_prototypes]\n",
    "\n",
    "    # Create a directory to save the prototypes\n",
    "    if root_dir_for_saving_prototypes != None:\n",
    "        if epoch_number != None:\n",
    "            proto_epoch_dir = os.path.join(root_dir_for_saving_prototypes,\n",
    "                                           'epoch-'+str(epoch_number))\n",
    "            makedir(proto_epoch_dir)\n",
    "        else:\n",
    "            proto_epoch_dir = root_dir_for_saving_prototypes\n",
    "    else:\n",
    "        proto_epoch_dir = None\n",
    "\n",
    "    search_batch_size = dataloader.batch_size\n",
    "    num_classes = prototype_network_parallel.num_classes\n",
    "\n",
    "    for push_iter, (search_batch_input, search_y_chars, _, _, _) in enumerate(dataloader):\n",
    "        search_batch_size = search_batch_input.shape[0]\n",
    "        start_index_of_search_batch = push_iter * search_batch_size\n",
    "\n",
    "        # Handle batch processing for each characteristic\n",
    "        for characteristic_index, (global_min_proto_dist, global_min_fmap_patches, proto_rf_box, proto_bound_box) in enumerate(zip(all_global_min_proto_dist, all_global_min_fmap_patches, proto_rf_boxes, proto_bound_boxes)):\n",
    "            update_prototypes_on_batch(search_batch_input, \n",
    "                                       start_index_of_search_batch,\n",
    "                                       prototype_network_parallel, \n",
    "                                       global_min_proto_dist,\n",
    "                                       global_min_fmap_patches, \n",
    "                                       proto_rf_box, \n",
    "                                       proto_bound_box,\n",
    "                                       class_specific=class_specific, \n",
    "                                       search_y=search_y_chars[characteristic_index],\n",
    "                                       num_classes=prototype_network_parallel.num_classes,\n",
    "                                       preprocess_input_function=preprocess_input_function,\n",
    "                                       prototype_layer_stride=prototype_layer_stride,\n",
    "                                       dir_for_saving_prototypes=root_dir_for_saving_prototypes,\n",
    "                                       prototype_img_filename_prefix=prototype_img_filename_prefix,\n",
    "                                       prototype_self_act_filename_prefix=prototype_self_act_filename_prefix,\n",
    "                                       prototype_activation_function_in_numpy=prototype_activation_function_in_numpy,\n",
    "                                       characteristic_index=characteristic_index)  # Pass characteristic_index to handle each set individually\n",
    "\n",
    "    # Save bounding boxes and receptive field information for each set of prototypes\n",
    "    if root_dir_for_saving_prototypes and epoch_number is not None:\n",
    "        for idx, (proto_rf_box, proto_bound_box) in enumerate(zip(proto_rf_boxes, proto_bound_boxes)):\n",
    "            np.save(os.path.join(root_dir_for_saving_prototypes, f\"{proto_bound_boxes_filename_prefix}_receptive_field_characteristic_{idx}_epoch_{epoch_number}.npy\"), proto_rf_box)\n",
    "            np.save(os.path.join(root_dir_for_saving_prototypes, f\"{proto_bound_boxes_filename_prefix}_characteristic_{idx}_epoch_{epoch_number}.npy\"), proto_bound_box)\n",
    "\n",
    "    # Update prototype vectors for each characteristic\n",
    "    for idx, (prototype_vectors, global_min_fmap_patches) in enumerate(zip(prototype_network_parallel.prototype_vectors, all_global_min_fmap_patches)):\n",
    "        prototype_update = np.reshape(global_min_fmap_patches, prototype_vectors.shape)\n",
    "        prototype_vectors.data.copy_(torch.tensor(prototype_update, dtype=torch.float32).to(device))\n",
    "\n",
    "\n",
    "# update each prototype for current search batch\n",
    "def update_prototypes_on_batch(search_batch_input,\n",
    "                               start_index_of_search_batch,\n",
    "                               prototype_network_parallel,\n",
    "                               global_min_proto_dist, # this will be updated\n",
    "                               global_min_fmap_patches, # this will be updated\n",
    "                               proto_rf_boxes, # this will be updated\n",
    "                               proto_bound_boxes, # this will be updated\n",
    "                               class_specific=True,\n",
    "                               search_y=None, # required if class_specific == True\n",
    "                               num_classes=None, # required if class_specific == True\n",
    "                               preprocess_input_function=None,\n",
    "                               prototype_layer_stride=1,\n",
    "                               dir_for_saving_prototypes=None,\n",
    "                               prototype_img_filename_prefix=None,\n",
    "                               prototype_self_act_filename_prefix=None,\n",
    "                               prototype_activation_function_in_numpy=None,\n",
    "                               characteristic_index=0):\n",
    "\n",
    "    device = torch.device('cuda' if torch.cuda.is_available() else 'cpu')\n",
    "    prototype_network_parallel.eval()\n",
    "\n",
    "    # Preprocess the search batch\n",
    "    if preprocess_input_function is not None:\n",
    "        search_batch = preprocess_input_function(search_batch_input)\n",
    "    else:\n",
    "        search_batch = search_batch_input\n",
    "        \n",
    "    # Push the search batch through the network\n",
    "    with torch.no_grad():\n",
    "        search_batch = search_batch.to(device)\n",
    "        protoL_input_torch, proto_dist_torch = prototype_network_parallel.push_forward(search_batch) # push the batch through the network\n",
    "    \n",
    "    # Send the data back to the cpu\n",
    "    protoL_input_ = np.copy(protoL_input_torch.detach().cpu().numpy())  # (batch_size, C, H, W)\n",
    "    proto_dist_ = np.copy(proto_dist_torch[characteristic_index].detach().cpu().numpy())    # (batch_size, num_characteristics, num_prototypes_per_characteristic, H, W)\n",
    "\n",
    "    del protoL_input_torch, proto_dist_torch\n",
    "\n",
    "    # Initialize class_to_img_index_dict\n",
    "    if class_specific:\n",
    "        class_to_img_index_dict = {key: [] for key in range(num_classes)}\n",
    "        for img_index, img_y in enumerate(search_y):\n",
    "            img_label = img_y.item()\n",
    "            class_to_img_index_dict[img_label].append(img_index)\n",
    "            \n",
    "    # print(class_to_img_index_dict)\n",
    "\n",
    "    prototype_shape = prototype_network_parallel.prototype_shape\n",
    "    n_prototypes = prototype_network_parallel.prototypes_per_characteristic\n",
    "    proto_h = prototype_shape[2]\n",
    "    proto_w = prototype_shape[3]\n",
    "    max_dist = prototype_shape[1] * prototype_shape[2] * prototype_shape[3] # C * H * W\n",
    "\n",
    "    for j in range(n_prototypes):\n",
    "        if class_specific:\n",
    "            # target_class is the class of the class_specific prototype\n",
    "            target_class = torch.argmax(prototype_network_parallel.prototype_class_identity[characteristic_index][j]).item()\n",
    "            # if there is not images of the target_class from this batch\n",
    "            # we go on to the next prototype\n",
    "            if len(class_to_img_index_dict[target_class]) == 0:\n",
    "                continue\n",
    "            proto_dist_j = proto_dist_[class_to_img_index_dict[target_class]][:,j,:,:]\n",
    "        else:\n",
    "            # if it is not class specific, then we will search through every example\n",
    "            proto_dist_j = proto_dist_[:,j,:,:]\n",
    "\n",
    "        batch_min_proto_dist_j = np.amin(proto_dist_j)\n",
    "        \n",
    "        if batch_min_proto_dist_j < global_min_proto_dist[j]:\n",
    "            batch_argmin_proto_dist_j = \\\n",
    "                list(np.unravel_index(np.argmin(proto_dist_j, axis=None),\n",
    "                                      proto_dist_j.shape))\n",
    "            if class_specific:\n",
    "                '''\n",
    "                change the argmin index from the index among\n",
    "                images of the target class to the index in the entire search\n",
    "                batch\n",
    "                '''\n",
    "                batch_argmin_proto_dist_j[0] = class_to_img_index_dict[target_class][batch_argmin_proto_dist_j[0]]\n",
    "\n",
    "            # retrieve the corresponding feature map patch\n",
    "            img_index_in_batch = batch_argmin_proto_dist_j[0]\n",
    "            fmap_height_start_index = batch_argmin_proto_dist_j[1] * prototype_layer_stride\n",
    "            fmap_height_end_index = fmap_height_start_index + proto_h\n",
    "            fmap_width_start_index = batch_argmin_proto_dist_j[2] * prototype_layer_stride\n",
    "            fmap_width_end_index = fmap_width_start_index + proto_w\n",
    "\n",
    "            batch_min_fmap_patch_j = protoL_input_[img_index_in_batch,\n",
    "                                                   :,\n",
    "                                                   fmap_height_start_index:fmap_height_end_index,\n",
    "                                                   fmap_width_start_index:fmap_width_end_index]\n",
    "\n",
    "            global_min_proto_dist[j] = batch_min_proto_dist_j\n",
    "            global_min_fmap_patches[j] = batch_min_fmap_patch_j\n",
    "            \n",
    "            # get the receptive field boundary of the image patch\n",
    "            # that generates the representation\n",
    "            protoL_rf_info = prototype_network_parallel.proto_layer_rf_info\n",
    "            rf_prototype_j = compute_rf_prototype(search_batch.size(2), batch_argmin_proto_dist_j, protoL_rf_info)\n",
    "            \n",
    "            # get the whole image\n",
    "            original_img_j = search_batch_input[rf_prototype_j[0]]\n",
    "            original_img_j = original_img_j.numpy()\n",
    "            original_img_j = np.transpose(original_img_j, (1, 2, 0))\n",
    "            original_img_size = original_img_j.shape[0]\n",
    "            \n",
    "            # crop out the receptive field\n",
    "            rf_img_j = original_img_j[rf_prototype_j[1]:rf_prototype_j[2],\n",
    "                                      rf_prototype_j[3]:rf_prototype_j[4], :]\n",
    "            \n",
    "            # save the prototype receptive field information\n",
    "            proto_rf_boxes[j, 0] = rf_prototype_j[0] + start_index_of_search_batch\n",
    "            proto_rf_boxes[j, 1] = rf_prototype_j[1]\n",
    "            proto_rf_boxes[j, 2] = rf_prototype_j[2]\n",
    "            proto_rf_boxes[j, 3] = rf_prototype_j[3]\n",
    "            proto_rf_boxes[j, 4] = rf_prototype_j[4]\n",
    "            if proto_rf_boxes.shape[1] == 6 and search_y is not None:\n",
    "                proto_rf_boxes[j, 5] = search_y[rf_prototype_j[0]].item()\n",
    "\n",
    "            # find the highly activated region of the original image\n",
    "            proto_dist_img_j = proto_dist_[img_index_in_batch, j, :, :]\n",
    "            if prototype_network_parallel.prototype_activation_function == 'log':\n",
    "                proto_act_img_j = np.log((proto_dist_img_j + 1) / (proto_dist_img_j + prototype_network_parallel.epsilon))\n",
    "            elif prototype_network_parallel.prototype_activation_function == 'linear':\n",
    "                proto_act_img_j = max_dist - proto_dist_img_j\n",
    "            else:\n",
    "                proto_act_img_j = prototype_activation_function_in_numpy(proto_dist_img_j)\n",
    "            upsampled_act_img_j = cv2.resize(proto_act_img_j, dsize=(original_img_size, original_img_size),\n",
    "                                             interpolation=cv2.INTER_CUBIC)\n",
    "            proto_bound_j = find_high_activation_crop(upsampled_act_img_j)\n",
    "            # crop out the image patch with high activation as prototype image\n",
    "            proto_img_j = original_img_j[proto_bound_j[0]:proto_bound_j[1],\n",
    "                                         proto_bound_j[2]:proto_bound_j[3], :]\n",
    "\n",
    "            # save the prototype boundary (rectangular boundary of highly activated region)\n",
    "            proto_bound_boxes[j, 0] = proto_rf_boxes[j, 0]\n",
    "            proto_bound_boxes[j, 1] = proto_bound_j[0]\n",
    "            proto_bound_boxes[j, 2] = proto_bound_j[1]\n",
    "            proto_bound_boxes[j, 3] = proto_bound_j[2]\n",
    "            proto_bound_boxes[j, 4] = proto_bound_j[3]\n",
    "            \n",
    "            if proto_bound_boxes.shape[1] == 6 and search_y is not None:\n",
    "                proto_bound_boxes[j, 5] = search_y[rf_prototype_j[0]].item()\n",
    "\n",
    "            if dir_for_saving_prototypes is not None:\n",
    "                if prototype_self_act_filename_prefix is not None:\n",
    "                    # save the numpy array of the prototype self activation\n",
    "                    np.save(os.path.join(dir_for_saving_prototypes,\n",
    "                                         prototype_self_act_filename_prefix + str(j) + '.npy'),\n",
    "                            proto_act_img_j)\n",
    "                if prototype_img_filename_prefix is not None:\n",
    "                    # save the whole image containing the prototype as png\n",
    "                    plt.imsave(os.path.join(dir_for_saving_prototypes,\n",
    "                                            prototype_img_filename_prefix + '-original' + str(j) + '.png'),\n",
    "                               original_img_j,\n",
    "                               vmin=0.0,\n",
    "                               vmax=1.0)\n",
    "                    # overlay (upsampled) self activation on original image and save the result\n",
    "                    rescaled_act_img_j = upsampled_act_img_j - np.amin(upsampled_act_img_j)\n",
    "                    rescaled_act_img_j = rescaled_act_img_j / np.amax(rescaled_act_img_j)\n",
    "                    heatmap = cv2.applyColorMap(np.uint8(255*rescaled_act_img_j), cv2.COLORMAP_JET)\n",
    "                    heatmap = np.float32(heatmap) / 255\n",
    "                    heatmap = heatmap[...,::-1]\n",
    "                    overlayed_original_img_j = 0.5 * original_img_j + 0.3 * heatmap\n",
    "                    plt.imsave(os.path.join(dir_for_saving_prototypes,\n",
    "                                            prototype_img_filename_prefix + '-original_with_self_act' + str(j) + '.png'),\n",
    "                               overlayed_original_img_j,\n",
    "                               vmin=0.0,\n",
    "                               vmax=1.0)\n",
    "                    \n",
    "                    # if different from the original (whole) image, save the prototype receptive field as png\n",
    "                    if rf_img_j.shape[0] != original_img_size or rf_img_j.shape[1] != original_img_size:\n",
    "                        plt.imsave(os.path.join(dir_for_saving_prototypes,\n",
    "                                                prototype_img_filename_prefix + '-receptive_field' + str(j) + '.png'),\n",
    "                                   rf_img_j,\n",
    "                                   vmin=0.0,\n",
    "                                   vmax=1.0)\n",
    "                        overlayed_rf_img_j = overlayed_original_img_j[rf_prototype_j[1]:rf_prototype_j[2],\n",
    "                                                                      rf_prototype_j[3]:rf_prototype_j[4]]\n",
    "                        plt.imsave(os.path.join(dir_for_saving_prototypes,\n",
    "                                                prototype_img_filename_prefix + '-receptive_field_with_self_act' + str(j) + '.png'),\n",
    "                                   overlayed_rf_img_j,\n",
    "                                   vmin=0.0,\n",
    "                                   vmax=1.0)\n",
    "                    \n",
    "                    # save the prototype image (highly activated region of the whole image)\n",
    "                    plt.imsave(os.path.join(dir_for_saving_prototypes,\n",
    "                                            prototype_img_filename_prefix + str(j) + '.png'),\n",
    "                               proto_img_j,\n",
    "                               vmin=0.0,\n",
    "                               vmax=1.0)\n",
    "                \n",
    "    if class_specific:\n",
    "        del class_to_img_index_dict"
   ]
  },
  {
   "cell_type": "code",
   "execution_count": 27,
   "metadata": {},
   "outputs": [
    {
     "name": "stdout",
     "output_type": "stream",
     "text": [
      "{0: [0, 1, 2, 3, 4, 5, 6, 7, 8, 9, 10, 11, 12, 13, 14, 15, 16, 17, 18, 19, 20, 21, 22, 23, 24, 25, 26, 27, 28, 29, 30, 31, 32, 33, 34, 35, 36, 37, 38, 39, 40, 41, 42, 43, 44, 45, 46, 47, 48, 49], 1: []}\n",
      "{0: [0, 1, 2, 3, 5, 6, 7, 8, 9, 10, 11, 15, 16, 17, 18, 19, 20, 22, 23, 25, 26, 27, 28, 29, 30, 31, 32, 33, 35, 36, 37, 38, 39, 41, 42, 45, 46, 47, 48], 1: [4, 12, 13, 14, 21, 24, 34, 40, 43, 44, 49]}\n",
      "{0: [0, 1, 4, 5, 6, 9, 15, 18, 19, 20, 22, 25, 26, 29, 30, 31, 35, 36, 37, 38, 41, 42, 45, 47, 48], 1: [2, 3, 7, 8, 10, 11, 12, 13, 14, 16, 17, 21, 23, 24, 27, 28, 32, 33, 34, 39, 40, 43, 44, 46, 49]}\n",
      "{0: [1, 4, 18, 19, 22, 29, 30, 31, 36, 37, 41, 45], 1: [0, 2, 3, 5, 6, 7, 8, 9, 10, 11, 12, 13, 14, 15, 16, 17, 20, 21, 23, 24, 25, 26, 27, 28, 32, 33, 34, 35, 38, 39, 40, 42, 43, 44, 46, 47, 48, 49]}\n",
      "{0: [1, 4, 6, 9, 13, 14, 17, 18, 20, 21, 22, 23, 26, 27, 30, 31, 32, 34, 35, 36, 38, 39, 42, 44], 1: [0, 2, 3, 5, 7, 8, 10, 11, 12, 15, 16, 19, 24, 25, 28, 29, 33, 37, 40, 41, 43, 45, 46, 47, 48, 49]}\n",
      "{0: [0, 1, 2, 3, 4, 5, 6, 7, 8, 9, 10, 11, 12, 13, 14, 15, 16, 17, 18, 19, 20, 21, 22, 23, 24, 25, 26, 27, 28, 29, 30, 31, 32, 33, 34, 35, 36, 37, 38, 39, 40, 41, 42, 43, 44, 45, 46, 47, 48, 49], 1: []}\n",
      "{0: [0, 2, 3, 5, 6, 7, 8, 10, 11, 13, 14, 17, 18, 19, 21, 22, 24, 25, 26, 27, 29, 30, 31, 32, 33, 34, 35, 36, 37, 38, 40, 42, 44, 45, 47, 48], 1: [1, 4, 9, 12, 15, 16, 20, 23, 28, 39, 41, 43, 46, 49]}\n",
      "{0: [3, 8, 10, 12, 17, 18, 21, 22, 25, 26, 27, 30, 32, 33, 34, 35, 37, 38, 40, 41, 44, 45, 47, 48], 1: [0, 1, 2, 4, 5, 6, 7, 9, 11, 13, 14, 15, 16, 19, 20, 23, 24, 28, 29, 31, 36, 39, 42, 43, 46, 49]}\n",
      "{0: [3, 17, 21, 22, 33, 35], 1: [0, 1, 2, 4, 5, 6, 7, 8, 9, 10, 11, 12, 13, 14, 15, 16, 18, 19, 20, 23, 24, 25, 26, 27, 28, 29, 30, 31, 32, 34, 36, 37, 38, 39, 40, 41, 42, 43, 44, 45, 46, 47, 48, 49]}\n",
      "{0: [3, 4, 7, 9, 10, 13, 15, 22, 29, 31, 32, 35, 36, 37, 38, 43, 44, 46, 48], 1: [0, 1, 2, 5, 6, 8, 11, 12, 14, 16, 17, 18, 19, 20, 21, 23, 24, 25, 26, 27, 28, 30, 33, 34, 39, 40, 41, 42, 45, 47, 49]}\n",
      "{0: [0, 1, 2, 3, 4, 5, 6, 7, 8, 9, 10, 11, 12, 13, 14, 15, 16, 17, 18, 19, 20, 21, 22, 23, 24, 25, 26, 27, 28, 29, 30, 31, 32, 33, 34, 35, 36, 37, 38, 39, 40, 41, 42, 43, 44, 45, 46, 47, 48, 49], 1: []}\n",
      "{0: [1, 2, 4, 5, 6, 8, 10, 11, 12, 13, 15, 16, 19, 20, 23, 24, 25, 26, 27, 28, 30, 33, 35, 37, 39, 40, 41, 42, 46, 47, 49], 1: [0, 3, 7, 9, 14, 17, 18, 21, 22, 29, 31, 32, 34, 36, 38, 43, 44, 45, 48]}\n",
      "{0: [1, 2, 4, 5, 6, 8, 9, 10, 16, 18, 19, 20, 22, 23, 25, 26, 27, 29, 33, 35, 38, 42, 46, 48], 1: [0, 3, 7, 11, 12, 13, 14, 15, 17, 21, 24, 28, 30, 31, 32, 34, 36, 37, 39, 40, 41, 43, 44, 45, 47, 49]}\n",
      "{0: [1, 4, 5, 9, 29, 35, 42, 48], 1: [0, 2, 3, 6, 7, 8, 10, 11, 12, 13, 14, 15, 16, 17, 18, 19, 20, 21, 22, 23, 24, 25, 26, 27, 28, 30, 31, 32, 33, 34, 36, 37, 38, 39, 40, 41, 43, 44, 45, 46, 47, 49]}\n",
      "{0: [1, 3, 4, 5, 9, 10, 11, 12, 13, 14, 15, 17, 19, 24, 25, 27, 28, 29, 30, 32, 37, 38, 40, 42, 45, 46, 47, 48], 1: [0, 2, 6, 7, 8, 16, 18, 20, 21, 22, 23, 26, 31, 33, 34, 35, 36, 39, 41, 43, 44, 49]}\n",
      "{0: [0, 1, 2, 3, 4, 5, 6, 7, 8, 9, 10, 11, 12, 13, 14, 15, 16, 17, 18, 19, 20, 21, 22, 23, 24, 25, 26, 27, 28, 29, 30, 31, 32, 33, 34, 35, 36, 37, 38, 39, 40, 41, 42, 43, 44, 45, 46, 47, 48, 49], 1: []}\n",
      "{0: [0, 1, 3, 4, 6, 7, 10, 11, 12, 13, 14, 15, 17, 18, 19, 20, 21, 22, 23, 24, 25, 27, 28, 29, 30, 31, 33, 34, 35, 36, 38, 39, 40, 41, 44, 45, 46, 47, 48], 1: [2, 5, 8, 9, 16, 26, 32, 37, 42, 43, 49]}\n",
      "{0: [3, 4, 6, 7, 9, 10, 11, 15, 17, 18, 19, 22, 24, 25, 26, 27, 29, 30, 31, 33, 34, 35, 36, 37, 39, 40, 43, 46, 47, 48, 49], 1: [0, 1, 2, 5, 8, 12, 13, 14, 16, 20, 21, 23, 28, 32, 38, 41, 42, 44, 45]}\n",
      "{0: [4, 6, 9, 10, 15, 17, 22, 26, 43, 46, 48], 1: [0, 1, 2, 3, 5, 7, 8, 11, 12, 13, 14, 16, 18, 19, 20, 21, 23, 24, 25, 27, 28, 29, 30, 31, 32, 33, 34, 35, 36, 37, 38, 39, 40, 41, 42, 44, 45, 47, 49]}\n",
      "{0: [2, 6, 9, 10, 13, 15, 17, 25, 26, 27, 32, 35, 36, 40, 41, 42, 43, 46, 47, 48, 49], 1: [0, 1, 3, 4, 5, 7, 8, 11, 12, 14, 16, 18, 19, 20, 21, 22, 23, 24, 28, 29, 30, 31, 33, 34, 37, 38, 39, 44, 45]}\n",
      "{0: [0, 1, 2, 3, 4, 5, 6, 7, 8, 9, 10, 11, 12, 13, 14, 15, 16, 17, 18, 19, 20, 21, 22, 23, 24, 25, 26, 27, 28, 29, 30, 31, 32, 33, 34, 35, 36, 37, 38, 39, 40, 41, 42, 43, 44, 45, 46, 47, 48, 49], 1: []}\n",
      "{0: [0, 1, 2, 4, 5, 6, 7, 8, 9, 11, 12, 14, 15, 16, 17, 18, 19, 21, 22, 23, 24, 25, 27, 28, 29, 30, 32, 33, 34, 35, 36, 37, 38, 39, 43, 44, 47, 49], 1: [3, 10, 13, 20, 26, 31, 40, 41, 42, 45, 46, 48]}\n",
      "{0: [0, 4, 5, 8, 9, 10, 15, 17, 20, 21, 22, 23, 24, 25, 27, 28, 29, 32, 36, 38, 42, 43, 44, 45, 47, 49], 1: [1, 2, 3, 6, 7, 11, 12, 13, 14, 16, 18, 19, 26, 30, 31, 33, 34, 35, 37, 39, 40, 41, 46, 48]}\n",
      "{0: [0, 1, 4, 22, 27, 35, 36, 44], 1: [2, 3, 5, 6, 7, 8, 9, 10, 11, 12, 13, 14, 15, 16, 17, 18, 19, 20, 21, 23, 24, 25, 26, 28, 29, 30, 31, 32, 33, 34, 37, 38, 39, 40, 41, 42, 43, 45, 46, 47, 48, 49]}\n",
      "{0: [1, 2, 3, 4, 6, 9, 10, 11, 12, 15, 16, 17, 20, 21, 23, 26, 27, 30, 32, 35, 36, 43, 44, 45, 46, 47, 49], 1: [0, 5, 7, 8, 13, 14, 18, 19, 22, 24, 25, 28, 29, 31, 33, 34, 37, 38, 39, 40, 41, 42, 48]}\n",
      "{0: [0, 1, 2, 3, 4, 5, 6, 7, 8, 9, 10, 11, 12, 13, 14, 15, 16, 17, 18, 19, 20, 21, 22, 23, 24, 25, 26, 27, 28, 29, 30, 31, 32, 33, 34, 35, 36, 37, 38, 39, 40, 41, 42, 43, 44, 45, 46, 47, 48, 49], 1: []}\n",
      "{0: [0, 1, 2, 3, 5, 6, 8, 9, 10, 11, 12, 13, 14, 15, 16, 17, 19, 20, 23, 24, 28, 29, 30, 31, 32, 33, 34, 35, 36, 39, 41, 42, 44, 45, 47, 48, 49], 1: [4, 7, 18, 21, 22, 25, 26, 27, 37, 38, 40, 43, 46]}\n",
      "{0: [0, 3, 5, 7, 8, 9, 10, 11, 18, 19, 23, 24, 26, 28, 30, 31, 32, 33, 34, 35, 36, 38, 39, 41, 42, 45, 46, 47, 48], 1: [1, 2, 4, 6, 12, 13, 14, 15, 16, 17, 20, 21, 22, 25, 27, 29, 37, 40, 43, 44, 49]}\n",
      "{0: [7, 9, 10, 11, 18, 26, 31, 35, 38, 39, 42], 1: [0, 1, 2, 3, 4, 5, 6, 8, 12, 13, 14, 15, 16, 17, 19, 20, 21, 22, 23, 24, 25, 27, 28, 29, 30, 32, 33, 34, 36, 37, 40, 41, 43, 44, 45, 46, 47, 48, 49]}\n",
      "{0: [1, 2, 4, 7, 8, 9, 10, 11, 13, 15, 17, 18, 20, 27, 31, 33, 35, 39, 42, 43, 49], 1: [0, 3, 5, 6, 12, 14, 16, 19, 21, 22, 23, 24, 25, 26, 28, 29, 30, 32, 34, 36, 37, 38, 40, 41, 44, 45, 46, 47, 48]}\n",
      "{0: [0, 1, 2, 3, 4, 5, 6, 7, 8, 9, 10, 11, 12, 13, 14, 15, 16, 17, 18, 19, 20, 21, 22, 23, 24, 25, 26, 27, 28, 29, 30, 31, 32, 33, 34, 35, 36, 37, 38, 39, 40, 41, 42, 43, 44, 45, 46, 47, 48, 49], 1: []}\n",
      "{0: [0, 3, 5, 6, 7, 8, 9, 10, 11, 12, 13, 14, 15, 16, 17, 18, 19, 20, 22, 23, 24, 25, 26, 29, 32, 34, 35, 36, 37, 38, 40, 42, 43, 44, 45, 46, 47, 48], 1: [1, 2, 4, 21, 27, 28, 30, 31, 33, 39, 41, 49]}\n",
      "{0: [0, 3, 5, 8, 9, 10, 11, 12, 13, 14, 17, 18, 19, 20, 21, 22, 23, 24, 26, 29, 32, 34, 35, 36, 38, 42, 43, 44, 45, 47], 1: [1, 2, 4, 6, 7, 15, 16, 25, 27, 28, 30, 31, 33, 37, 39, 40, 41, 46, 48, 49]}\n",
      "{0: [11, 19, 22, 26, 32, 43, 45, 47], 1: [0, 1, 2, 3, 4, 5, 6, 7, 8, 9, 10, 12, 13, 14, 15, 16, 17, 18, 20, 21, 23, 24, 25, 27, 28, 29, 30, 31, 33, 34, 35, 36, 37, 38, 39, 40, 41, 42, 44, 46, 48, 49]}\n",
      "{0: [1, 5, 8, 11, 14, 15, 16, 17, 22, 23, 24, 29, 37, 40, 41, 43, 45, 46, 48], 1: [0, 2, 3, 4, 6, 7, 9, 10, 12, 13, 18, 19, 20, 21, 25, 26, 27, 28, 30, 31, 32, 33, 34, 35, 36, 38, 39, 42, 44, 47, 49]}\n",
      "{0: [0, 1, 2, 3, 4, 5, 6, 7, 8, 9, 10, 11, 12, 13, 14, 15, 16, 17, 18, 19, 20, 21, 22, 23, 24, 25, 26, 27, 28, 29, 30, 31, 32, 33, 34, 35, 36, 37, 38, 39, 40, 41, 42, 43, 44, 45, 46, 47, 48, 49], 1: []}\n",
      "{0: [0, 1, 2, 3, 4, 5, 6, 7, 9, 10, 12, 13, 14, 15, 16, 17, 18, 19, 20, 21, 22, 23, 25, 26, 27, 30, 31, 32, 33, 36, 37, 38, 39, 40, 41, 42, 48, 49], 1: [8, 11, 24, 28, 29, 34, 35, 43, 44, 45, 46, 47]}\n",
      "{0: [0, 1, 3, 4, 5, 6, 7, 8, 10, 12, 16, 17, 18, 19, 20, 21, 23, 25, 26, 32, 33, 34, 38, 40, 42, 43, 47], 1: [2, 9, 11, 13, 14, 15, 22, 24, 27, 28, 29, 30, 31, 35, 36, 37, 39, 41, 44, 45, 46, 48, 49]}\n",
      "{0: [3, 8, 10, 19, 20, 21, 23, 25], 1: [0, 1, 2, 4, 5, 6, 7, 9, 11, 12, 13, 14, 15, 16, 17, 18, 22, 24, 26, 27, 28, 29, 30, 31, 32, 33, 34, 35, 36, 37, 38, 39, 40, 41, 42, 43, 44, 45, 46, 47, 48, 49]}\n",
      "{0: [0, 1, 4, 8, 9, 10, 11, 12, 13, 16, 17, 18, 19, 20, 21, 23, 27, 32, 34, 37, 39, 44, 45, 46], 1: [2, 3, 5, 6, 7, 14, 15, 22, 24, 25, 26, 28, 29, 30, 31, 33, 35, 36, 38, 40, 41, 42, 43, 47, 48, 49]}\n",
      "{0: [0, 1, 2, 3, 4, 5, 6, 7, 8, 9, 10, 11, 12, 13, 14, 15, 16, 17, 18, 19, 20, 21, 22, 23, 24, 25, 26, 27, 28, 29, 30, 31, 32, 33, 34, 35, 36, 37, 38, 39, 40, 41, 42, 43, 44, 45, 46, 47, 48, 49], 1: []}\n",
      "{0: [0, 1, 2, 4, 5, 6, 7, 8, 9, 11, 12, 13, 15, 19, 20, 22, 26, 27, 28, 29, 30, 31, 32, 33, 37, 39, 42, 43, 44, 45, 46, 47, 48, 49], 1: [3, 10, 14, 16, 17, 18, 21, 23, 24, 25, 34, 35, 36, 38, 40, 41]}\n",
      "{0: [1, 2, 4, 5, 7, 8, 9, 10, 11, 12, 13, 14, 19, 20, 22, 25, 26, 27, 28, 29, 31, 32, 37, 38, 40, 41, 43, 45, 48], 1: [0, 3, 6, 15, 16, 17, 18, 21, 23, 24, 30, 33, 34, 35, 36, 39, 42, 44, 46, 47, 49]}\n",
      "{0: [7, 12, 20, 25, 26, 28, 29, 32, 43, 45], 1: [0, 1, 2, 3, 4, 5, 6, 8, 9, 10, 11, 13, 14, 15, 16, 17, 18, 19, 21, 22, 23, 24, 27, 30, 31, 33, 34, 35, 36, 37, 38, 39, 40, 41, 42, 44, 46, 47, 48, 49]}\n",
      "{0: [1, 2, 5, 8, 10, 11, 12, 13, 19, 20, 21, 23, 24, 25, 26, 28, 29, 30, 32, 36, 38, 43, 45, 47, 49], 1: [0, 3, 4, 6, 7, 9, 14, 15, 16, 17, 18, 22, 27, 31, 33, 34, 35, 37, 39, 40, 41, 42, 44, 46, 48]}\n",
      "{0: [0, 1, 2, 3, 4, 5, 6, 7, 8, 9, 10, 11, 12, 13, 14, 15, 16, 17, 18, 19, 20, 21, 22, 23, 24, 25, 26, 27, 28, 29, 30, 31, 32, 33, 34, 35, 36, 37, 38, 39, 40, 41, 42, 43, 44, 45, 46, 47, 48, 49], 1: []}\n",
      "{0: [0, 1, 2, 4, 5, 7, 8, 10, 12, 14, 15, 17, 18, 20, 21, 24, 25, 26, 30, 31, 32, 33, 34, 35, 36, 37, 38, 41, 42, 43, 44, 46, 47, 48], 1: [3, 6, 9, 11, 13, 16, 19, 22, 23, 27, 28, 29, 39, 40, 45, 49]}\n",
      "{0: [0, 2, 3, 4, 5, 6, 7, 12, 14, 15, 17, 18, 19, 20, 21, 29, 38, 42, 44, 45, 49], 1: [1, 8, 9, 10, 11, 13, 16, 22, 23, 24, 25, 26, 27, 28, 30, 31, 32, 33, 34, 35, 36, 37, 39, 40, 41, 43, 46, 47, 48]}\n",
      "{0: [2, 3, 5, 6, 14, 17, 18, 35, 45], 1: [0, 1, 4, 7, 8, 9, 10, 11, 12, 13, 15, 16, 19, 20, 21, 22, 23, 24, 25, 26, 27, 28, 29, 30, 31, 32, 33, 34, 36, 37, 38, 39, 40, 41, 42, 43, 44, 46, 47, 48, 49]}\n",
      "{0: [0, 2, 4, 5, 6, 9, 10, 11, 13, 14, 15, 16, 17, 19, 22, 26, 31, 32, 35, 36, 37, 38, 39, 41, 43, 44, 45, 46, 49], 1: [1, 3, 7, 8, 12, 18, 20, 21, 23, 24, 25, 27, 28, 29, 30, 33, 34, 40, 42, 47, 48]}\n",
      "{0: [0, 1, 2, 3, 4, 5, 6, 7, 8, 9, 10, 11, 12, 13, 14, 15, 16, 17, 18, 19, 20, 21, 22, 23, 24, 25, 26, 27, 28, 29, 30, 31, 32, 33, 34, 35, 36, 37, 38, 39, 40, 41, 42, 43, 44, 45, 46, 47, 48, 49], 1: []}\n",
      "{0: [1, 2, 3, 4, 7, 8, 10, 13, 14, 15, 16, 17, 19, 20, 21, 23, 24, 25, 28, 29, 30, 31, 32, 33, 34, 35, 37, 39, 40, 43, 44, 46, 47, 49], 1: [0, 5, 6, 9, 11, 12, 18, 22, 26, 27, 36, 38, 41, 42, 45, 48]}\n",
      "{0: [1, 2, 3, 5, 6, 8, 10, 13, 14, 15, 16, 17, 19, 20, 22, 24, 25, 26, 29, 30, 32, 33, 35, 37, 39, 42, 44, 46, 47, 49], 1: [0, 4, 7, 9, 11, 12, 18, 21, 23, 27, 28, 31, 34, 36, 38, 40, 41, 43, 45, 48]}\n",
      "{0: [2, 3, 10, 20, 22, 29, 30, 32, 39, 42, 44, 46], 1: [0, 1, 4, 5, 6, 7, 8, 9, 11, 12, 13, 14, 15, 16, 17, 18, 19, 21, 23, 24, 25, 26, 27, 28, 31, 33, 34, 35, 36, 37, 38, 40, 41, 43, 45, 47, 48, 49]}\n",
      "{0: [1, 3, 8, 10, 12, 15, 20, 21, 22, 23, 25, 27, 29, 30, 31, 32, 33, 36, 39, 42, 43, 44], 1: [0, 2, 4, 5, 6, 7, 9, 11, 13, 14, 16, 17, 18, 19, 24, 26, 28, 34, 35, 37, 38, 40, 41, 45, 46, 47, 48, 49]}\n",
      "{0: [0, 1, 2, 3, 4, 5, 6, 7, 8, 9, 10, 11, 12, 13, 14, 15, 16, 17, 18, 19, 20, 21, 22, 23, 24, 25, 26, 27, 28, 29, 30, 31, 32, 33, 34, 35, 36, 37, 38, 39, 40, 41, 42, 43, 44, 45, 46, 47, 48, 49], 1: []}\n",
      "{0: [0, 1, 2, 3, 4, 5, 6, 7, 8, 9, 10, 11, 12, 13, 14, 16, 18, 19, 20, 23, 24, 25, 26, 27, 29, 30, 31, 32, 33, 34, 35, 37, 40, 41, 42, 44, 45, 46, 47, 48, 49], 1: [15, 17, 21, 22, 28, 36, 38, 39, 43]}\n",
      "{0: [0, 1, 3, 5, 7, 9, 12, 13, 16, 18, 23, 25, 26, 27, 29, 30, 31, 32, 33, 35, 37, 38, 40, 41, 42, 43, 48], 1: [2, 4, 6, 8, 10, 11, 14, 15, 17, 19, 20, 21, 22, 24, 28, 34, 36, 39, 44, 45, 46, 47, 49]}\n",
      "{0: [1, 3, 13, 18, 23, 25, 42, 48], 1: [0, 2, 4, 5, 6, 7, 8, 9, 10, 11, 12, 14, 15, 16, 17, 19, 20, 21, 22, 24, 26, 27, 28, 29, 30, 31, 32, 33, 34, 35, 36, 37, 38, 39, 40, 41, 43, 44, 45, 46, 47, 49]}\n",
      "{0: [3, 4, 6, 8, 9, 10, 11, 13, 14, 15, 17, 19, 20, 21, 22, 25, 29, 30, 33, 34, 36, 38, 43], 1: [0, 1, 2, 5, 7, 12, 16, 18, 23, 24, 26, 27, 28, 31, 32, 35, 37, 39, 40, 41, 42, 44, 45, 46, 47, 48, 49]}\n",
      "{0: [0, 1, 2, 3, 4, 5, 6, 7, 8, 9, 10, 11, 12, 13, 14, 15, 16, 17, 18, 19, 20, 21, 22, 23, 24, 25, 26, 27, 28, 29, 30, 31, 32, 33, 34, 35, 36, 37, 38, 39, 40, 41, 42, 43, 44, 45, 46, 47, 48, 49], 1: []}\n",
      "{0: [0, 1, 2, 3, 4, 6, 7, 8, 9, 12, 14, 15, 16, 17, 18, 19, 20, 21, 23, 24, 25, 27, 28, 29, 30, 31, 32, 33, 34, 35, 36, 39, 40, 41, 43, 45, 47, 49], 1: [5, 10, 11, 13, 22, 26, 37, 38, 42, 44, 46, 48]}\n",
      "{0: [0, 1, 2, 3, 4, 6, 7, 9, 12, 13, 14, 15, 16, 17, 18, 20, 21, 24, 25, 27, 28, 29, 30, 31, 32, 36, 40, 41, 42, 43, 45, 47, 49], 1: [5, 8, 10, 11, 19, 22, 23, 26, 33, 34, 35, 37, 38, 39, 44, 46, 48]}\n",
      "{0: [7, 12, 13, 14, 17, 27, 32, 40, 42], 1: [0, 1, 2, 3, 4, 5, 6, 8, 9, 10, 11, 15, 16, 18, 19, 20, 21, 22, 23, 24, 25, 26, 28, 29, 30, 31, 33, 34, 35, 36, 37, 38, 39, 41, 43, 44, 45, 46, 47, 48, 49]}\n",
      "{0: [2, 3, 5, 6, 7, 8, 10, 11, 12, 13, 15, 16, 19, 24, 25, 26, 28, 34, 35, 40, 41, 42, 43, 44, 49], 1: [0, 1, 4, 9, 14, 17, 18, 20, 21, 22, 23, 27, 29, 30, 31, 32, 33, 36, 37, 38, 39, 45, 46, 47, 48]}\n",
      "{0: [0, 1, 2, 3, 4, 5, 6, 7, 8, 9, 10, 11, 12, 13, 14, 15, 16, 17, 18, 19, 20, 21, 22, 23, 24, 25, 26, 27, 28, 29, 30, 31, 32, 33, 34, 35, 36, 37, 38, 39, 40, 41, 42, 43, 44, 45, 46, 47, 48, 49], 1: []}\n",
      "{0: [0, 1, 2, 3, 4, 5, 6, 8, 9, 10, 14, 15, 16, 18, 19, 22, 23, 24, 27, 28, 30, 31, 32, 34, 35, 36, 37, 38, 40, 41, 42, 43, 44, 45, 46, 47, 49], 1: [7, 11, 12, 13, 17, 20, 21, 25, 26, 29, 33, 39, 48]}\n",
      "{0: [0, 1, 2, 5, 8, 9, 10, 12, 15, 18, 19, 22, 24, 30, 32, 34, 35, 36, 37, 38, 39, 41, 44, 46, 48, 49], 1: [3, 4, 6, 7, 11, 13, 14, 16, 17, 20, 21, 23, 25, 26, 27, 28, 29, 31, 33, 40, 42, 43, 45, 47]}\n",
      "{0: [0, 2, 5, 9, 12, 19, 24, 30, 35], 1: [1, 3, 4, 6, 7, 8, 10, 11, 13, 14, 15, 16, 17, 18, 20, 21, 22, 23, 25, 26, 27, 28, 29, 31, 32, 33, 34, 36, 37, 38, 39, 40, 41, 42, 43, 44, 45, 46, 47, 48, 49]}\n",
      "{0: [0, 3, 4, 9, 14, 16, 19, 20, 21, 24, 27, 30, 31, 36, 40, 41, 43, 46, 49], 1: [1, 2, 5, 6, 7, 8, 10, 11, 12, 13, 15, 17, 18, 22, 23, 25, 26, 28, 29, 32, 33, 34, 35, 37, 38, 39, 42, 44, 45, 47, 48]}\n",
      "{0: [0, 1, 2, 3, 4, 5, 6, 7, 8, 9, 10, 11, 12, 13, 14, 15, 16, 17, 18, 19, 20, 21, 22, 23, 24, 25, 26, 27, 28, 29, 30, 31, 32, 33, 34, 35, 36, 37, 38, 39, 40, 41, 42, 43, 44, 45, 46, 47, 48, 49], 1: []}\n",
      "{0: [0, 2, 3, 5, 6, 7, 8, 9, 10, 11, 15, 16, 17, 18, 20, 21, 23, 25, 26, 27, 28, 29, 30, 31, 32, 33, 35, 36, 37, 40, 41, 42, 43, 44, 45, 47, 48], 1: [1, 4, 12, 13, 14, 19, 22, 24, 34, 38, 39, 46, 49]}\n",
      "{0: [2, 3, 6, 7, 8, 9, 11, 14, 15, 17, 18, 21, 22, 24, 25, 26, 27, 28, 29, 30, 31, 32, 33, 34, 35, 36, 37, 39, 41, 42, 44, 46, 48, 49], 1: [0, 1, 4, 5, 10, 12, 13, 16, 19, 20, 23, 38, 40, 43, 45, 47]}\n",
      "{0: [2, 8, 11, 14, 15, 22, 26, 28, 34, 35, 41], 1: [0, 1, 3, 4, 5, 6, 7, 9, 10, 12, 13, 16, 17, 18, 19, 20, 21, 23, 24, 25, 27, 29, 30, 31, 32, 33, 36, 37, 38, 39, 40, 42, 43, 44, 45, 46, 47, 48, 49]}\n",
      "{0: [0, 1, 2, 5, 7, 10, 12, 14, 15, 18, 20, 22, 23, 26, 30, 31, 34, 35, 36, 37, 39, 40, 42, 43, 44, 45], 1: [3, 4, 6, 8, 9, 11, 13, 16, 17, 19, 21, 24, 25, 27, 28, 29, 32, 33, 38, 41, 46, 47, 48, 49]}\n",
      "{0: [0, 1, 2, 3, 4, 5, 6, 7, 8, 9, 10, 11, 12, 13, 14, 15, 16, 17, 18, 19, 20, 21, 22, 23, 24, 25, 26, 27, 28, 29, 30, 31, 32, 33, 34, 35, 36, 37, 38, 39, 40, 41, 42, 43, 44, 45, 46, 47, 48, 49], 1: []}\n",
      "{0: [0, 3, 5, 6, 7, 8, 9, 11, 13, 15, 16, 17, 18, 19, 20, 21, 25, 26, 27, 28, 29, 30, 31, 32, 33, 34, 35, 36, 39, 41, 42, 43, 44, 45, 47, 48, 49], 1: [1, 2, 4, 10, 12, 14, 22, 23, 24, 37, 38, 40, 46]}\n",
      "{0: [3, 6, 7, 8, 9, 10, 13, 15, 16, 17, 19, 20, 21, 22, 24, 25, 27, 29, 30, 32, 33, 35, 36, 41, 42, 44, 47, 49], 1: [0, 1, 2, 4, 5, 11, 12, 14, 18, 23, 26, 28, 31, 34, 37, 38, 39, 40, 43, 45, 46, 48]}\n",
      "{0: [10, 13, 19, 24, 30, 32, 35], 1: [0, 1, 2, 3, 4, 5, 6, 7, 8, 9, 11, 12, 14, 15, 16, 17, 18, 20, 21, 22, 23, 25, 26, 27, 28, 29, 31, 33, 34, 36, 37, 38, 39, 40, 41, 42, 43, 44, 45, 46, 47, 48, 49]}\n",
      "{0: [1, 5, 6, 7, 8, 10, 12, 13, 14, 16, 18, 19, 20, 21, 22, 23, 24, 25, 28, 30, 32, 33, 38, 39, 42, 44, 48], 1: [0, 2, 3, 4, 9, 11, 15, 17, 26, 27, 29, 31, 34, 35, 36, 37, 40, 41, 43, 45, 46, 47, 49]}\n",
      "{0: [0, 1, 2, 3, 4, 5, 6, 7, 8, 9, 10, 11, 12, 13, 14, 15, 16, 17, 18, 19, 20, 21, 22, 23, 24, 25, 26, 27, 28, 29, 30, 31, 32, 33, 34, 35, 36, 37, 38, 39, 40, 41, 42, 43, 44, 45, 46, 47, 48, 49], 1: []}\n",
      "{0: [0, 1, 3, 4, 7, 9, 12, 13, 14, 15, 17, 18, 19, 20, 22, 23, 24, 25, 26, 27, 28, 29, 30, 32, 33, 34, 35, 37, 39, 40, 41, 43, 44, 46, 47], 1: [2, 5, 6, 8, 10, 11, 16, 21, 31, 36, 38, 42, 45, 48, 49]}\n",
      "{0: [0, 1, 3, 4, 7, 8, 11, 12, 13, 14, 15, 19, 20, 22, 25, 27, 29, 30, 33, 34, 38, 39, 40, 41, 42, 43, 44, 46, 47, 48], 1: [2, 5, 6, 9, 10, 16, 17, 18, 21, 23, 24, 26, 28, 31, 32, 35, 36, 37, 45, 49]}\n",
      "{0: [8, 14, 19, 20, 25, 42, 43], 1: [0, 1, 2, 3, 4, 5, 6, 7, 9, 10, 11, 12, 13, 15, 16, 17, 18, 21, 22, 23, 24, 26, 27, 28, 29, 30, 31, 32, 33, 34, 35, 36, 37, 38, 39, 40, 41, 44, 45, 46, 47, 48, 49]}\n",
      "{0: [2, 7, 8, 11, 12, 13, 14, 18, 19, 20, 25, 27, 31, 35, 37, 42, 43, 45, 46, 48], 1: [0, 1, 3, 4, 5, 6, 9, 10, 15, 16, 17, 21, 22, 23, 24, 26, 28, 29, 30, 32, 33, 34, 36, 38, 39, 40, 41, 44, 47, 49]}\n",
      "{0: [0, 1, 2, 3, 4, 5, 6, 7, 8, 9, 10, 11, 12, 13, 14, 15, 16, 17, 18, 19, 20, 21, 22, 23, 24, 25, 26, 27, 28, 29, 30, 31, 32, 33, 34, 35, 36, 37, 38, 39, 40, 41, 42, 43, 44, 45, 46, 47, 48, 49], 1: []}\n",
      "{0: [0, 2, 3, 5, 7, 8, 9, 10, 11, 15, 16, 17, 18, 19, 20, 21, 22, 23, 24, 25, 26, 27, 32, 33, 34, 35, 37, 38, 39, 42, 43, 44, 46, 47, 48, 49], 1: [1, 4, 6, 12, 13, 14, 28, 29, 30, 31, 36, 40, 41, 45]}\n",
      "{0: [0, 4, 5, 7, 9, 10, 11, 15, 16, 17, 19, 21, 23, 24, 25, 27, 29, 32, 35, 37, 38, 39, 42, 43, 47, 48, 49], 1: [1, 2, 3, 6, 8, 12, 13, 14, 18, 20, 22, 26, 28, 30, 31, 33, 34, 36, 40, 41, 44, 45, 46]}\n",
      "{0: [15, 16, 21, 25, 26, 27, 29, 32, 39], 1: [0, 1, 2, 3, 4, 5, 6, 7, 8, 9, 10, 11, 12, 13, 14, 17, 18, 19, 20, 22, 23, 24, 28, 30, 31, 33, 34, 35, 36, 37, 38, 40, 41, 42, 43, 44, 45, 46, 47, 48, 49]}\n",
      "{0: [0, 4, 5, 6, 7, 11, 15, 16, 20, 23, 25, 26, 27, 28, 29, 32, 34, 35, 39, 41, 43, 45, 49], 1: [1, 2, 3, 8, 9, 10, 12, 13, 14, 17, 18, 19, 21, 22, 24, 30, 31, 33, 36, 37, 38, 40, 42, 44, 46, 47, 48]}\n",
      "{0: [0, 1, 2, 3, 4, 5, 6, 7, 8, 9, 10, 11, 12, 13, 14, 15, 16, 17, 18, 19, 20, 21, 22, 23, 24, 25, 26, 27, 28, 29, 30, 31, 32, 33, 34, 35, 36, 37, 38, 39, 40, 41, 42, 43, 44, 45, 46, 47, 48, 49], 1: []}\n",
      "{0: [0, 1, 2, 4, 5, 6, 7, 8, 11, 12, 13, 14, 15, 16, 17, 19, 23, 24, 25, 26, 27, 29, 30, 31, 32, 33, 34, 35, 36, 37, 40, 41, 42, 43, 44, 45, 47, 48, 49], 1: [3, 9, 10, 18, 20, 21, 22, 28, 38, 39, 46]}\n",
      "{0: [1, 2, 3, 5, 7, 8, 10, 11, 13, 15, 16, 17, 18, 19, 23, 25, 26, 28, 29, 32, 34, 35, 36, 37, 41, 42, 43, 44, 45, 47, 48, 49], 1: [0, 4, 6, 9, 12, 14, 20, 21, 22, 24, 27, 30, 31, 33, 38, 39, 40, 46]}\n",
      "{0: [1, 3, 7, 18, 19, 23, 26, 27, 28, 35, 45], 1: [0, 2, 4, 5, 6, 8, 9, 10, 11, 12, 13, 14, 15, 16, 17, 20, 21, 22, 24, 25, 29, 30, 31, 32, 33, 34, 36, 37, 38, 39, 40, 41, 42, 43, 44, 46, 47, 48, 49]}\n",
      "{0: [0, 3, 7, 9, 16, 17, 18, 19, 21, 23, 26, 27, 28, 29, 31, 33, 35, 36, 38, 39, 42, 43, 46], 1: [1, 2, 4, 5, 6, 8, 10, 11, 12, 13, 14, 15, 20, 22, 24, 25, 30, 32, 34, 37, 40, 41, 44, 45, 47, 48, 49]}\n",
      "{0: [0, 1, 2, 3, 4, 5, 6, 7, 8, 9, 10, 11, 12, 13, 14, 15, 16, 17, 18, 19, 20, 21, 22, 23, 24, 25, 26, 27, 28, 29, 30, 31, 32, 33, 34, 35, 36, 37, 38, 39, 40, 41, 42, 43, 44, 45, 46, 47, 48, 49], 1: []}\n",
      "{0: [1, 2, 3, 4, 5, 6, 7, 8, 10, 11, 12, 13, 15, 16, 18, 19, 21, 22, 23, 25, 26, 28, 30, 31, 32, 33, 34, 35, 36, 37, 39, 40, 41, 42, 43, 44, 45, 46, 48, 49], 1: [0, 9, 14, 17, 20, 24, 27, 29, 38, 47]}\n",
      "{0: [0, 1, 2, 4, 5, 6, 7, 9, 10, 11, 12, 13, 14, 15, 16, 18, 19, 20, 25, 28, 32, 33, 34, 35, 37, 43, 44, 45, 48, 49], 1: [3, 8, 17, 21, 22, 23, 24, 26, 27, 29, 30, 31, 36, 38, 39, 40, 41, 42, 46, 47]}\n",
      "{0: [0, 1, 2, 9, 13, 16, 25, 35, 37, 44], 1: [3, 4, 5, 6, 7, 8, 10, 11, 12, 14, 15, 17, 18, 19, 20, 21, 22, 23, 24, 26, 27, 28, 29, 30, 31, 32, 33, 34, 36, 38, 39, 40, 41, 42, 43, 45, 46, 47, 48, 49]}\n",
      "{0: [0, 1, 2, 5, 9, 12, 13, 14, 17, 18, 22, 25, 29, 30, 31, 33, 38, 44, 45, 48, 49], 1: [3, 4, 6, 7, 8, 10, 11, 15, 16, 19, 20, 21, 23, 24, 26, 27, 28, 32, 34, 35, 36, 37, 39, 40, 41, 42, 43, 46, 47]}\n",
      "{0: [0, 1, 2, 3, 4, 5, 6, 7, 8, 9, 10, 11, 12, 13, 14, 15, 16, 17, 18, 19, 20, 21, 22, 23, 24, 25, 26, 27, 28, 29, 30, 31, 32, 33, 34, 35, 36, 37, 38, 39, 40, 41, 42, 43, 44, 45, 46, 47, 48, 49], 1: []}\n",
      "{0: [0, 1, 5, 6, 7, 8, 9, 10, 11, 12, 13, 14, 15, 16, 17, 18, 20, 21, 23, 24, 25, 26, 27, 29, 30, 31, 33, 34, 35, 36, 37, 38, 40, 43, 44, 45, 46, 49], 1: [2, 3, 4, 19, 22, 28, 32, 39, 41, 42, 47, 48]}\n",
      "{0: [0, 1, 4, 5, 7, 8, 9, 11, 12, 13, 14, 15, 20, 21, 23, 25, 26, 27, 30, 31, 34, 35, 36, 37, 38, 41, 43, 44, 45, 46], 1: [2, 3, 6, 10, 16, 17, 18, 19, 22, 24, 28, 29, 32, 33, 39, 40, 42, 47, 48, 49]}\n",
      "{0: [0, 4, 11, 12, 13, 14, 15, 25, 31, 34, 38], 1: [1, 2, 3, 5, 6, 7, 8, 9, 10, 16, 17, 18, 19, 20, 21, 22, 23, 24, 26, 27, 28, 29, 30, 32, 33, 35, 36, 37, 39, 40, 41, 42, 43, 44, 45, 46, 47, 48, 49]}\n",
      "{0: [0, 3, 6, 7, 10, 12, 14, 15, 16, 20, 22, 25, 28, 29, 31, 32, 33, 34, 36, 39, 40, 42, 43, 46, 47], 1: [1, 2, 4, 5, 8, 9, 11, 13, 17, 18, 19, 21, 23, 24, 26, 27, 30, 35, 37, 38, 41, 44, 45, 48, 49]}\n",
      "{0: [0, 1, 2, 3, 4, 5, 6, 7, 8, 9, 10, 11, 12, 13, 14, 15, 16, 17, 18, 19, 20, 21, 22, 23, 24, 25, 26, 27, 28, 29, 30, 31, 32, 33, 34, 35, 36, 37, 38, 39, 40, 41, 42, 43, 44, 45, 46, 47, 48, 49], 1: []}\n",
      "{0: [0, 1, 3, 5, 6, 8, 9, 10, 12, 14, 15, 16, 17, 18, 19, 20, 21, 22, 24, 25, 26, 27, 28, 29, 30, 31, 32, 33, 34, 35, 36, 37, 38, 39, 40, 42, 43, 46, 47, 48], 1: [2, 4, 7, 11, 13, 23, 41, 44, 45, 49]}\n",
      "{0: [0, 1, 2, 3, 5, 6, 7, 9, 10, 11, 13, 14, 15, 16, 17, 18, 19, 20, 21, 25, 26, 27, 31, 32, 34, 36, 37, 38, 39, 40, 41, 42, 43, 46], 1: [4, 8, 12, 22, 23, 24, 28, 29, 30, 33, 35, 44, 45, 47, 48, 49]}\n",
      "{0: [0, 5, 6, 14, 18, 21, 31, 38, 39, 42], 1: [1, 2, 3, 4, 7, 8, 9, 10, 11, 12, 13, 15, 16, 17, 19, 20, 22, 23, 24, 25, 26, 27, 28, 29, 30, 32, 33, 34, 35, 36, 37, 40, 41, 43, 44, 45, 46, 47, 48, 49]}\n",
      "{0: [2, 5, 7, 9, 11, 13, 14, 15, 18, 19, 21, 22, 25, 26, 27, 28, 29, 31, 32, 33, 34, 35, 37, 38, 39, 42, 49], 1: [0, 1, 3, 4, 6, 8, 10, 12, 16, 17, 20, 23, 24, 30, 36, 40, 41, 43, 44, 45, 46, 47, 48]}\n",
      "{0: [0, 1, 2, 3, 4, 5, 6, 7, 8, 9, 10, 11, 12, 13, 14, 15, 16, 17, 18, 19, 20, 21, 22, 23, 24, 25, 26, 27, 28, 29, 30, 31, 32, 33, 34, 35, 36, 37, 38, 39, 40, 41, 42, 43, 44, 45, 46, 47, 48, 49], 1: []}\n",
      "{0: [0, 1, 2, 4, 5, 6, 7, 8, 9, 12, 14, 16, 17, 18, 21, 22, 24, 25, 28, 29, 30, 32, 33, 34, 35, 36, 39, 40, 41, 42, 43, 45, 46, 48, 49], 1: [3, 10, 11, 13, 15, 19, 20, 23, 26, 27, 31, 37, 38, 44, 47]}\n",
      "{0: [0, 1, 2, 3, 4, 7, 8, 9, 12, 13, 14, 15, 16, 17, 19, 20, 21, 24, 25, 26, 29, 31, 32, 33, 34, 35, 38, 40, 41, 42, 43, 46, 48, 49], 1: [5, 6, 10, 11, 18, 22, 23, 27, 28, 30, 36, 37, 39, 44, 45, 47]}\n",
      "{0: [3, 4, 8, 9, 12, 13, 14, 15, 16, 32, 33, 34, 35, 40, 42, 43, 48], 1: [0, 1, 2, 5, 6, 7, 10, 11, 17, 18, 19, 20, 21, 22, 23, 24, 25, 26, 27, 28, 29, 30, 31, 36, 37, 38, 39, 41, 44, 45, 46, 47, 49]}\n",
      "{0: [1, 3, 4, 5, 7, 8, 12, 13, 14, 15, 16, 18, 22, 26, 29, 31, 32, 33, 34, 35, 39, 40, 44, 45, 46, 49], 1: [0, 2, 6, 9, 10, 11, 17, 19, 20, 21, 23, 24, 25, 27, 28, 30, 36, 37, 38, 41, 42, 43, 47, 48]}\n",
      "{0: [0, 1, 2, 3, 4, 5, 6, 7, 8, 9, 10, 11, 12, 13, 14, 15, 16, 17, 18, 19, 20, 21, 22, 23, 24, 25, 26, 27, 28, 29, 30, 31, 32, 33, 34, 35, 36, 37, 38, 39, 40, 41, 42, 43, 44, 45, 46, 47, 48, 49], 1: []}\n",
      "{0: [0, 1, 2, 3, 5, 7, 8, 9, 11, 13, 16, 18, 19, 20, 21, 24, 27, 31, 32, 33, 34, 35, 36, 37, 39, 40, 41, 42, 43, 44, 45, 46, 48, 49], 1: [4, 6, 10, 12, 14, 15, 17, 22, 23, 25, 26, 28, 29, 30, 38, 47]}\n",
      "{0: [0, 1, 2, 5, 7, 8, 9, 11, 13, 16, 18, 23, 24, 26, 31, 32, 33, 34, 35, 37, 39, 41, 44, 46, 47, 48], 1: [3, 4, 6, 10, 12, 14, 15, 17, 19, 20, 21, 22, 25, 27, 28, 29, 30, 36, 38, 40, 42, 43, 45, 49]}\n",
      "{0: [2, 5, 13, 18, 32, 37, 41, 44, 46], 1: [0, 1, 3, 4, 6, 7, 8, 9, 10, 11, 12, 14, 15, 16, 17, 19, 20, 21, 22, 23, 24, 25, 26, 27, 28, 29, 30, 31, 33, 34, 35, 36, 38, 39, 40, 42, 43, 45, 47, 48, 49]}\n",
      "{0: [0, 2, 3, 7, 12, 18, 19, 21, 23, 25, 26, 28, 31, 36, 37, 38, 39, 41, 42, 45, 47, 49], 1: [1, 4, 5, 6, 8, 9, 10, 11, 13, 14, 15, 16, 17, 20, 22, 24, 27, 29, 30, 32, 33, 34, 35, 40, 43, 44, 46, 48]}\n",
      "{0: [0, 1, 2, 3, 4, 5, 6, 7, 8, 9, 10, 11, 12, 13, 14, 15, 16, 17, 18, 19, 20, 21, 22, 23, 24, 25, 26, 27, 28, 29, 30, 31, 32, 33, 34, 35, 36, 37, 38, 39, 40, 41, 42, 43, 44, 45, 46, 47, 48, 49], 1: []}\n",
      "{0: [0, 1, 2, 3, 4, 5, 7, 8, 11, 15, 16, 17, 18, 19, 20, 21, 22, 25, 26, 27, 28, 29, 30, 31, 32, 34, 35, 37, 38, 39, 40, 41, 42, 43, 45, 46, 47, 49], 1: [6, 9, 10, 12, 13, 14, 23, 24, 33, 36, 44, 48]}\n",
      "{0: [1, 4, 8, 10, 11, 12, 15, 18, 19, 21, 22, 23, 26, 29, 30, 34, 36, 37, 38, 39, 41, 46], 1: [0, 2, 3, 5, 6, 7, 9, 13, 14, 16, 17, 20, 24, 25, 27, 28, 31, 32, 33, 35, 40, 42, 43, 44, 45, 47, 48, 49]}\n",
      "{0: [1, 11, 12, 19, 21, 23, 25, 34, 36, 41], 1: [0, 2, 3, 4, 5, 6, 7, 8, 9, 10, 13, 14, 15, 16, 17, 18, 20, 22, 24, 26, 27, 28, 29, 30, 31, 32, 33, 35, 37, 38, 39, 40, 42, 43, 44, 45, 46, 47, 48, 49]}\n",
      "{0: [1, 2, 4, 8, 11, 13, 18, 19, 21, 22, 23, 25, 26, 33, 34, 36, 37, 41, 42, 43], 1: [0, 3, 5, 6, 7, 9, 10, 12, 14, 15, 16, 17, 20, 24, 27, 28, 29, 30, 31, 32, 35, 38, 39, 40, 44, 45, 46, 47, 48, 49]}\n",
      "{0: [0, 1, 2, 3, 4, 5, 6, 7, 8, 9, 10, 11, 12, 13, 14, 15, 16, 17, 18, 19, 20, 21, 22, 23, 24, 25, 26, 27, 28, 29, 30, 31, 32, 33, 34, 35, 36, 37, 38, 39, 40, 41, 42, 43, 44, 45, 46, 47, 48, 49], 1: []}\n",
      "{0: [0, 1, 2, 3, 5, 7, 8, 10, 11, 12, 13, 15, 16, 18, 19, 20, 21, 22, 24, 25, 27, 28, 29, 30, 31, 32, 33, 34, 35, 36, 37, 38, 40, 41, 42, 44, 46, 47, 48, 49], 1: [4, 6, 9, 14, 17, 23, 26, 39, 43, 45]}\n",
      "{0: [1, 2, 3, 5, 7, 8, 9, 10, 11, 13, 14, 15, 16, 18, 19, 21, 22, 25, 28, 29, 33, 35, 36, 37, 38, 40, 41, 42, 44, 45, 46, 47, 48, 49], 1: [0, 4, 6, 12, 17, 20, 23, 24, 26, 27, 30, 31, 32, 34, 39, 43]}\n",
      "{0: [7, 9, 14, 15, 16, 22, 41, 43, 46], 1: [0, 1, 2, 3, 4, 5, 6, 8, 10, 11, 12, 13, 17, 18, 19, 20, 21, 23, 24, 25, 26, 27, 28, 29, 30, 31, 32, 33, 34, 35, 36, 37, 38, 39, 40, 42, 44, 45, 47, 48, 49]}\n",
      "{0: [0, 2, 3, 4, 7, 8, 9, 14, 16, 19, 20, 21, 22, 23, 24, 27, 28, 29, 31, 33, 35, 38, 41, 43, 44, 46, 48, 49], 1: [1, 5, 6, 10, 11, 12, 13, 15, 17, 18, 25, 26, 30, 32, 34, 36, 37, 39, 40, 42, 45, 47]}\n",
      "{0: [0, 1, 2, 3, 4, 5, 6, 7, 8, 9, 10, 11, 12, 13, 14, 15, 16, 17, 18, 19, 20, 21, 22, 23, 24, 25, 26, 27, 28, 29, 30, 31, 32, 33, 34, 35, 36, 37, 38, 39, 40, 41, 42, 43, 44, 45, 46, 47, 48, 49], 1: []}\n",
      "{0: [3, 6, 7, 8, 9, 10, 11, 12, 13, 14, 15, 18, 19, 20, 21, 22, 23, 24, 25, 26, 27, 28, 29, 31, 32, 33, 34, 35, 36, 37, 38, 41, 42, 48], 1: [0, 1, 2, 4, 5, 16, 17, 30, 39, 40, 43, 44, 45, 46, 47, 49]}\n",
      "{0: [2, 3, 6, 9, 10, 11, 12, 13, 14, 15, 18, 20, 21, 23, 25, 28, 31, 32, 33, 34, 37, 39, 42, 48], 1: [0, 1, 4, 5, 7, 8, 16, 17, 19, 22, 24, 26, 27, 29, 30, 35, 36, 38, 40, 41, 43, 44, 45, 46, 47, 49]}\n",
      "{0: [2, 3, 9, 12, 15, 18, 20, 23, 24, 33, 34], 1: [0, 1, 4, 5, 6, 7, 8, 10, 11, 13, 14, 16, 17, 19, 21, 22, 25, 26, 27, 28, 29, 30, 31, 32, 35, 36, 37, 38, 39, 40, 41, 42, 43, 44, 45, 46, 47, 48, 49]}\n",
      "{0: [1, 2, 3, 4, 5, 6, 8, 9, 11, 12, 15, 16, 20, 22, 23, 24, 26, 28, 33, 34, 36, 39, 40, 41, 47], 1: [0, 7, 10, 13, 14, 17, 18, 19, 21, 25, 27, 29, 30, 31, 32, 35, 37, 38, 42, 43, 44, 45, 46, 48, 49]}\n",
      "{0: [0, 1, 2, 3, 4, 5, 6, 7, 8, 9, 10, 11, 12, 13, 14, 15, 16, 17, 18, 19, 20, 21, 22, 23, 24, 25, 26, 27, 28, 29, 30, 31, 32, 33, 34, 35, 36, 37, 38, 39, 40, 41, 42, 43, 44, 45, 46, 47, 48, 49], 1: []}\n",
      "{0: [1, 2, 3, 4, 5, 6, 8, 9, 10, 11, 12, 14, 15, 16, 17, 18, 19, 22, 23, 27, 29, 30, 31, 32, 33, 34, 36, 37, 38, 39, 40, 41, 43, 44, 45, 46, 47, 48, 49], 1: [0, 7, 13, 20, 21, 24, 25, 26, 28, 35, 42]}\n",
      "{0: [3, 4, 5, 8, 9, 10, 11, 12, 14, 15, 16, 17, 18, 19, 20, 21, 23, 24, 26, 27, 29, 31, 34, 36, 37, 39, 40, 41, 42, 43, 45, 46, 48], 1: [0, 1, 2, 6, 7, 13, 22, 25, 28, 30, 32, 33, 35, 38, 44, 47, 49]}\n",
      "{0: [3, 5, 11, 15, 20, 21, 23, 24, 31, 39, 42], 1: [0, 1, 2, 4, 6, 7, 8, 9, 10, 12, 13, 14, 16, 17, 18, 19, 22, 25, 26, 27, 28, 29, 30, 32, 33, 34, 35, 36, 37, 38, 40, 41, 43, 44, 45, 46, 47, 48, 49]}\n",
      "{0: [1, 3, 5, 7, 10, 13, 15, 17, 20, 21, 22, 23, 24, 30, 31, 32, 35, 37, 39, 40, 42, 43, 46, 47, 49], 1: [0, 2, 4, 6, 8, 9, 11, 12, 14, 16, 18, 19, 25, 26, 27, 28, 29, 33, 34, 36, 38, 41, 44, 45, 48]}\n",
      "{0: [0, 1, 2, 3, 4, 5, 6, 7, 8, 9, 10, 11, 12, 13, 14, 15, 16, 17, 18, 19, 20, 21, 22, 23, 24, 25, 26, 27, 28, 29, 30, 31, 32, 33, 34, 35, 36, 37, 38, 39, 40, 41, 42, 43, 44, 45, 46, 47, 48, 49], 1: []}\n",
      "{0: [0, 1, 2, 6, 7, 8, 9, 10, 11, 12, 13, 14, 15, 16, 17, 18, 19, 21, 23, 24, 25, 28, 30, 31, 32, 33, 35, 37, 38, 40, 41, 43, 44, 45, 46, 47, 48], 1: [3, 4, 5, 20, 22, 26, 27, 29, 34, 36, 39, 42, 49]}\n",
      "{0: [0, 2, 3, 4, 7, 10, 11, 14, 15, 17, 18, 19, 20, 23, 24, 29, 30, 31, 32, 33, 36, 37, 38, 40, 41, 43, 44, 46, 47], 1: [1, 5, 6, 8, 9, 12, 13, 16, 21, 22, 25, 26, 27, 28, 34, 35, 39, 42, 45, 48, 49]}\n",
      "{0: [2, 7, 11, 14, 18, 24, 29, 33, 38, 44, 47], 1: [0, 1, 3, 4, 5, 6, 8, 9, 10, 12, 13, 15, 16, 17, 19, 20, 21, 22, 23, 25, 26, 27, 28, 30, 31, 32, 34, 35, 36, 37, 39, 40, 41, 42, 43, 45, 46, 48, 49]}\n",
      "{0: [0, 1, 2, 4, 6, 7, 9, 10, 11, 13, 14, 17, 18, 20, 21, 24, 26, 28, 29, 30, 31, 34, 38, 39, 40, 41, 44, 45, 46, 47], 1: [3, 5, 8, 12, 15, 16, 19, 22, 23, 25, 27, 32, 33, 35, 36, 37, 42, 43, 48, 49]}\n",
      "{0: [0, 1, 2, 3, 4, 5, 6, 7, 8, 9, 10, 11, 12, 13, 14, 15, 16, 17, 18, 19, 20, 21, 22, 23, 24, 25, 26, 27, 28, 29, 30, 31, 32, 33, 34, 35, 36, 37, 38, 39, 40, 41, 42, 43, 44, 45, 46, 47, 48, 49], 1: []}\n",
      "{0: [0, 1, 2, 3, 5, 6, 7, 8, 9, 10, 11, 12, 14, 15, 17, 18, 19, 20, 21, 23, 24, 26, 27, 28, 30, 31, 32, 33, 34, 36, 37, 41, 42, 43, 44, 46, 48, 49], 1: [4, 13, 16, 22, 25, 29, 35, 38, 39, 40, 45, 47]}\n",
      "{0: [0, 1, 2, 6, 7, 9, 12, 15, 18, 19, 21, 23, 25, 26, 28, 29, 30, 31, 33, 34, 37, 40, 41, 42, 43, 44, 46, 49], 1: [3, 4, 5, 8, 10, 11, 13, 14, 16, 17, 20, 22, 24, 27, 32, 35, 36, 38, 39, 45, 47, 48]}\n",
      "{0: [1, 3, 6, 7, 9, 23, 25, 26, 31, 40, 42, 44, 46, 49], 1: [0, 2, 4, 5, 8, 10, 11, 12, 13, 14, 15, 16, 17, 18, 19, 20, 21, 22, 24, 27, 28, 29, 30, 32, 33, 34, 35, 36, 37, 38, 39, 41, 43, 45, 47, 48]}\n",
      "{0: [3, 6, 7, 12, 16, 17, 20, 25, 30, 31, 32, 33, 34, 37, 40, 41, 42, 44, 46, 47, 48], 1: [0, 1, 2, 4, 5, 8, 9, 10, 11, 13, 14, 15, 18, 19, 21, 22, 23, 24, 26, 27, 28, 29, 35, 36, 38, 39, 43, 45, 49]}\n",
      "{0: [0, 1, 2, 3, 4, 5, 6, 7, 8, 9, 10, 11, 12, 13, 14, 15, 16, 17, 18, 19, 20, 21, 22, 23, 24, 25, 26, 27, 28, 29, 30, 31, 32, 33, 34, 35, 36, 37, 38, 39, 40, 41, 42, 43, 44, 45, 46, 47, 48, 49], 1: []}\n",
      "{0: [0, 1, 5, 6, 8, 9, 10, 11, 14, 15, 16, 17, 18, 19, 20, 21, 23, 27, 30, 31, 32, 34, 36, 37, 38, 41, 44, 47, 49], 1: [2, 3, 4, 7, 12, 13, 22, 24, 25, 26, 28, 29, 33, 35, 39, 40, 42, 43, 45, 46, 48]}\n",
      "{0: [0, 3, 4, 5, 6, 8, 9, 10, 14, 15, 16, 17, 20, 22, 23, 24, 27, 29, 30, 31, 32, 34, 35, 36, 38, 39, 40, 41, 44, 45, 46], 1: [1, 2, 7, 11, 12, 13, 18, 19, 21, 25, 26, 28, 33, 37, 42, 43, 47, 48, 49]}\n",
      "{0: [8, 9, 10, 16, 29, 35, 39, 40, 41, 46], 1: [0, 1, 2, 3, 4, 5, 6, 7, 11, 12, 13, 14, 15, 17, 18, 19, 20, 21, 22, 23, 24, 25, 26, 27, 28, 30, 31, 32, 33, 34, 36, 37, 38, 42, 43, 44, 45, 47, 48, 49]}\n",
      "{0: [0, 1, 2, 3, 4, 5, 9, 10, 12, 13, 19, 20, 22, 28, 29, 30, 32, 35, 37, 38, 39, 40, 42, 43, 45, 46, 49], 1: [6, 7, 8, 11, 14, 15, 16, 17, 18, 21, 23, 24, 25, 26, 27, 31, 33, 34, 36, 41, 44, 47, 48]}\n",
      "{0: [0, 1, 2, 3, 4, 5, 6, 7, 8, 9, 10, 11, 12, 13, 14, 15, 16, 17, 18, 19, 20, 21, 22, 23, 24, 25, 26, 27, 28, 29, 30, 31, 32, 33, 34, 35, 36, 37, 38, 39, 40, 41, 42, 43, 44, 45, 46, 47, 48, 49], 1: []}\n",
      "{0: [1, 3, 4, 5, 6, 9, 10, 12, 13, 14, 15, 16, 17, 19, 20, 21, 22, 23, 24, 25, 27, 28, 30, 31, 32, 33, 34, 36, 37, 38, 39, 40, 41, 42, 43, 44, 45, 46, 47, 48, 49], 1: [0, 2, 7, 8, 11, 18, 26, 29, 35]}\n",
      "{0: [0, 1, 3, 4, 5, 6, 7, 8, 10, 11, 12, 14, 15, 16, 17, 20, 24, 26, 27, 28, 30, 31, 33, 34, 35, 36, 37, 39, 40, 42, 43, 44, 46, 48, 49], 1: [2, 9, 13, 18, 19, 21, 22, 23, 25, 29, 32, 38, 41, 45, 47]}\n",
      "{0: [0, 5, 8, 10, 14, 25, 28, 30, 34, 36], 1: [1, 2, 3, 4, 6, 7, 9, 11, 12, 13, 15, 16, 17, 18, 19, 20, 21, 22, 23, 24, 26, 27, 29, 31, 32, 33, 35, 37, 38, 39, 40, 41, 42, 43, 44, 45, 46, 47, 48, 49]}\n",
      "{0: [0, 1, 2, 5, 8, 10, 11, 12, 13, 14, 17, 18, 19, 21, 24, 25, 28, 29, 30, 32, 33, 34, 35, 43], 1: [3, 4, 6, 7, 9, 15, 16, 20, 22, 23, 26, 27, 31, 36, 37, 38, 39, 40, 41, 42, 44, 45, 46, 47, 48, 49]}\n",
      "{0: [0, 1, 2, 3, 4, 5, 6, 7, 8, 9, 10, 11, 12, 13, 14, 15, 16, 17, 18, 19, 20, 21, 22, 23, 24, 25, 26, 27, 28, 29, 30, 31, 32, 33, 34, 35, 36, 37, 38, 39, 40, 41, 42, 43, 44, 45, 46, 47, 48, 49], 1: []}\n",
      "{0: [0, 1, 2, 3, 4, 5, 8, 10, 11, 13, 15, 16, 17, 18, 20, 21, 22, 23, 24, 25, 26, 27, 28, 29, 30, 31, 32, 33, 35, 36, 37, 38, 39, 40, 41, 42, 43, 44, 47, 48, 49], 1: [6, 7, 9, 12, 14, 19, 34, 45, 46]}\n",
      "{0: [1, 3, 4, 5, 8, 9, 10, 11, 13, 15, 17, 18, 21, 23, 24, 25, 26, 27, 29, 30, 31, 32, 33, 34, 36, 37, 38, 39, 40, 41, 44, 46, 47, 49], 1: [0, 2, 6, 7, 12, 14, 16, 19, 20, 22, 28, 35, 42, 43, 45, 48]}\n",
      "{0: [1, 17, 18, 30, 32, 33, 44, 46], 1: [0, 2, 3, 4, 5, 6, 7, 8, 9, 10, 11, 12, 13, 14, 15, 16, 19, 20, 21, 22, 23, 24, 25, 26, 27, 28, 29, 31, 34, 35, 36, 37, 38, 39, 40, 41, 42, 43, 45, 47, 48, 49]}\n",
      "{0: [0, 3, 6, 11, 12, 13, 16, 21, 26, 27, 31, 36, 39, 42, 44, 45, 46, 49], 1: [1, 2, 4, 5, 7, 8, 9, 10, 14, 15, 17, 18, 19, 20, 22, 23, 24, 25, 28, 29, 30, 32, 33, 34, 35, 37, 38, 40, 41, 43, 47, 48]}\n",
      "{0: [0, 1, 2, 3, 4, 5, 6, 7, 8, 9, 10, 11, 12, 13, 14, 15, 16, 17, 18, 19, 20, 21, 22, 23, 24, 25, 26, 27, 28, 29, 30, 31, 32, 33, 34, 35, 36, 37, 38, 39, 40, 41, 42, 43, 44, 45, 46, 47, 48, 49], 1: []}\n",
      "{0: [0, 1, 2, 3, 4, 5, 6, 7, 8, 9, 10, 11, 12, 13, 14, 15, 16, 17, 18, 19, 20, 21, 23, 24, 25, 26, 27, 29, 30, 31, 34, 35, 38, 39, 40, 41, 43, 44, 45, 47, 48], 1: [22, 28, 32, 33, 36, 37, 42, 46, 49]}\n",
      "{0: [0, 1, 5, 6, 7, 8, 9, 10, 11, 12, 13, 15, 16, 17, 18, 20, 21, 23, 27, 28, 29, 33, 35, 38, 42, 43, 45, 46, 47, 48], 1: [2, 3, 4, 14, 19, 22, 24, 25, 26, 30, 31, 32, 34, 36, 37, 39, 40, 41, 44, 49]}\n",
      "{0: [12, 17, 25, 27, 28, 35, 42, 43, 46], 1: [0, 1, 2, 3, 4, 5, 6, 7, 8, 9, 10, 11, 13, 14, 15, 16, 18, 19, 20, 21, 22, 23, 24, 26, 29, 30, 31, 32, 33, 34, 36, 37, 38, 39, 40, 41, 44, 45, 47, 48, 49]}\n",
      "{0: [1, 6, 7, 13, 15, 16, 17, 18, 22, 23, 26, 27, 28, 31, 32, 34, 35, 37, 41, 42, 43, 44, 46, 47, 48], 1: [0, 2, 3, 4, 5, 8, 9, 10, 11, 12, 14, 19, 20, 21, 24, 25, 29, 30, 33, 36, 38, 39, 40, 45, 49]}\n",
      "{0: [0, 1, 2, 3, 4, 5, 6, 7, 8, 9, 10, 11, 12, 13, 14, 15, 16, 17, 18, 19, 20, 21, 22, 23, 24, 25, 26, 27, 28, 29, 30, 31, 32, 33, 34, 35, 36, 37, 38, 39, 40, 41, 42, 43, 44, 45, 46, 47, 48, 49], 1: []}\n",
      "{0: [0, 1, 2, 3, 4, 5, 6, 8, 10, 11, 12, 16, 17, 18, 20, 22, 25, 28, 29, 30, 31, 32, 33, 34, 35, 36, 37, 38, 39, 40, 43, 44, 45, 47, 48, 49], 1: [7, 9, 13, 14, 15, 19, 21, 23, 24, 26, 27, 41, 42, 46]}\n",
      "{0: [1, 2, 5, 6, 8, 10, 11, 12, 13, 15, 16, 17, 18, 20, 22, 24, 25, 27, 29, 31, 32, 34, 36, 37, 38, 39, 40, 42, 43, 45, 46, 49], 1: [0, 3, 4, 7, 9, 14, 19, 21, 23, 26, 28, 30, 33, 35, 41, 44, 47, 48]}\n",
      "{0: [2, 6, 13, 17, 31, 37, 40, 42, 46, 48], 1: [0, 1, 3, 4, 5, 7, 8, 9, 10, 11, 12, 14, 15, 16, 18, 19, 20, 21, 22, 23, 24, 25, 26, 27, 28, 29, 30, 32, 33, 34, 35, 36, 38, 39, 41, 43, 44, 45, 47, 49]}\n",
      "{0: [2, 4, 5, 7, 10, 12, 13, 16, 17, 18, 19, 23, 30, 31, 33, 39, 42, 45, 46, 47, 48, 49], 1: [0, 1, 3, 6, 8, 9, 11, 14, 15, 20, 21, 22, 24, 25, 26, 27, 28, 29, 32, 34, 35, 36, 37, 38, 40, 41, 43, 44]}\n",
      "{0: [0, 1, 2, 3, 4, 5, 6, 7, 8, 9, 10, 11, 12, 13, 14, 15, 16, 17, 18, 19, 20, 21, 22, 23, 24, 25, 26, 27, 28, 29, 30, 31, 32, 33, 34, 35, 36, 37, 38, 39, 40, 41, 42, 43, 44, 45, 46, 47, 48, 49], 1: []}\n",
      "{0: [0, 1, 4, 5, 6, 7, 8, 9, 10, 11, 12, 13, 14, 15, 17, 19, 20, 23, 24, 26, 28, 29, 30, 31, 32, 33, 36, 38, 40, 41, 42, 43, 44, 45, 46, 47, 49], 1: [2, 3, 16, 18, 21, 22, 25, 27, 34, 35, 37, 39, 48]}\n",
      "{0: [1, 4, 5, 6, 7, 8, 9, 10, 11, 14, 20, 23, 24, 26, 27, 28, 29, 31, 38, 40, 41, 43, 44, 45, 47], 1: [0, 2, 3, 12, 13, 15, 16, 17, 18, 19, 21, 22, 25, 30, 32, 33, 34, 35, 36, 37, 39, 42, 46, 48, 49]}\n",
      "{0: [5, 6, 10, 11, 14, 20, 24, 26, 27, 41, 43, 44], 1: [0, 1, 2, 3, 4, 7, 8, 9, 12, 13, 15, 16, 17, 18, 19, 21, 22, 23, 25, 28, 29, 30, 31, 32, 33, 34, 35, 36, 37, 38, 39, 40, 42, 45, 46, 47, 48, 49]}\n",
      "{0: [5, 10, 11, 13, 15, 18, 21, 24, 26, 27, 29, 32, 33, 34, 39, 44, 46, 49], 1: [0, 1, 2, 3, 4, 6, 7, 8, 9, 12, 14, 16, 17, 19, 20, 22, 23, 25, 28, 30, 31, 35, 36, 37, 38, 40, 41, 42, 43, 45, 47, 48]}\n",
      "{0: [0, 1, 2, 3, 4, 5, 6, 7, 8, 9, 10, 11, 12, 13, 14, 15, 16, 17, 18, 19, 20, 21, 22, 23, 24, 25, 26, 27, 28, 29, 30, 31, 32, 33, 34, 35, 36, 37, 38, 39, 40, 41, 42, 43, 44, 45, 46, 47, 48, 49], 1: []}\n",
      "{0: [1, 5, 7, 9, 10, 11, 15, 16, 17, 18, 20, 21, 22, 23, 25, 26, 27, 29, 30, 31, 32, 33, 34, 35, 36, 37, 38, 39, 40, 41, 43, 44, 45, 46, 47, 48, 49], 1: [0, 2, 3, 4, 6, 8, 12, 13, 14, 19, 24, 28, 42]}\n",
      "{0: [5, 10, 14, 15, 17, 20, 21, 22, 23, 26, 27, 28, 29, 30, 31, 32, 33, 34, 36, 38, 40, 41, 44, 46, 47, 48, 49], 1: [0, 1, 2, 3, 4, 6, 7, 8, 9, 11, 12, 13, 16, 18, 19, 24, 25, 35, 37, 39, 42, 43, 45]}\n",
      "{0: [10, 14, 21, 22, 33, 34, 36, 40, 46, 47], 1: [0, 1, 2, 3, 4, 5, 6, 7, 8, 9, 11, 12, 13, 15, 16, 17, 18, 19, 20, 23, 24, 25, 26, 27, 28, 29, 30, 31, 32, 35, 37, 38, 39, 41, 42, 43, 44, 45, 48, 49]}\n",
      "{0: [0, 3, 4, 8, 9, 10, 14, 16, 18, 19, 20, 21, 22, 25, 26, 29, 30, 31, 32, 33, 34, 36, 37, 39, 40, 43, 47, 49], 1: [1, 2, 5, 6, 7, 11, 12, 13, 15, 17, 23, 24, 27, 28, 35, 38, 41, 42, 44, 45, 46, 48]}\n",
      "{0: [0, 1, 2, 3, 4, 5, 6, 7, 8, 9, 10, 11, 12, 13, 14, 15, 16, 17, 18, 19, 20, 21, 22, 23, 24, 25, 26, 27, 28, 29, 30, 31, 32, 33, 34, 35, 36, 37, 38, 39, 40, 41, 42, 43, 44, 45, 46, 47, 48, 49], 1: []}\n",
      "{0: [0, 1, 2, 3, 4, 5, 6, 8, 10, 11, 12, 14, 15, 17, 18, 19, 20, 21, 22, 24, 25, 26, 27, 28, 30, 32, 33, 36, 37, 39, 40, 41, 42, 43, 44, 45, 46, 47, 48], 1: [7, 9, 13, 16, 23, 29, 31, 34, 35, 38, 49]}\n",
      "{0: [1, 4, 5, 6, 9, 11, 12, 13, 15, 17, 19, 20, 22, 23, 24, 25, 26, 27, 28, 30, 32, 36, 38, 39, 40, 42, 44, 45, 46, 47], 1: [0, 2, 3, 7, 8, 10, 14, 16, 18, 21, 29, 31, 33, 34, 35, 37, 41, 43, 48, 49]}\n",
      "{0: [4, 17, 19, 20, 22, 23, 25, 26, 30, 36, 38, 42, 45, 47], 1: [0, 1, 2, 3, 5, 6, 7, 8, 9, 10, 11, 12, 13, 14, 15, 16, 18, 21, 24, 27, 28, 29, 31, 32, 33, 34, 35, 37, 39, 40, 41, 43, 44, 46, 48, 49]}\n",
      "{0: [0, 2, 3, 4, 8, 10, 15, 19, 20, 22, 23, 25, 26, 29, 30, 31, 32, 33, 34, 35, 36, 37, 39, 42, 43, 49], 1: [1, 5, 6, 7, 9, 11, 12, 13, 14, 16, 17, 18, 21, 24, 27, 28, 38, 40, 41, 44, 45, 46, 47, 48]}\n",
      "{0: [0, 1, 2, 3, 4, 5, 6, 7, 8, 9, 10, 11, 12, 13, 14, 15, 16, 17, 18, 19, 20, 21, 22, 23, 24, 25, 26, 27, 28, 29, 30, 31, 32, 33, 34, 35, 36, 37, 38, 39, 40, 41, 42, 43, 44, 45, 46, 47, 48, 49], 1: []}\n",
      "{0: [0, 1, 2, 3, 5, 6, 9, 10, 11, 12, 13, 14, 15, 16, 18, 19, 21, 22, 24, 25, 26, 27, 34, 35, 36, 37, 38, 40, 41, 46, 47, 48, 49], 1: [4, 7, 8, 17, 20, 23, 28, 29, 30, 31, 32, 33, 39, 42, 43, 44, 45]}\n",
      "{0: [0, 1, 5, 6, 7, 8, 9, 10, 11, 12, 13, 14, 17, 18, 19, 20, 23, 24, 27, 30, 34, 35, 36, 39, 40, 43, 45, 47, 48, 49], 1: [2, 3, 4, 15, 16, 21, 22, 25, 26, 28, 29, 31, 32, 33, 37, 38, 41, 42, 44, 46]}\n",
      "{0: [6, 8, 9, 10, 18, 23, 30, 39, 40, 45, 47, 48], 1: [0, 1, 2, 3, 4, 5, 7, 11, 12, 13, 14, 15, 16, 17, 19, 20, 21, 22, 24, 25, 26, 27, 28, 29, 31, 32, 33, 34, 35, 36, 37, 38, 41, 42, 43, 44, 46, 49]}\n",
      "{0: [0, 2, 3, 4, 7, 8, 9, 11, 12, 15, 17, 21, 22, 23, 26, 27, 29, 30, 32, 36, 38, 39, 40, 43, 45, 47, 48], 1: [1, 5, 6, 10, 13, 14, 16, 18, 19, 20, 24, 25, 28, 31, 33, 34, 35, 37, 41, 42, 44, 46, 49]}\n",
      "{0: [0, 1, 2, 3, 4, 5, 6, 7, 8, 9, 10, 11, 12, 13, 14, 15, 16, 17, 18, 19, 20, 21, 22, 23, 24, 25, 26, 27, 28, 29, 30, 31, 32, 33, 34, 35, 36, 37, 38, 39, 40, 41, 42, 43, 44, 45, 46, 47, 48, 49], 1: []}\n",
      "{0: [0, 1, 2, 4, 7, 10, 11, 12, 13, 14, 15, 16, 17, 18, 19, 20, 22, 23, 25, 26, 27, 28, 29, 30, 32, 33, 34, 35, 36, 37, 38, 39, 40, 41, 42, 43, 45, 46, 47, 48, 49], 1: [3, 5, 6, 8, 9, 21, 24, 31, 44]}\n",
      "{0: [0, 1, 2, 3, 11, 12, 13, 14, 16, 18, 19, 25, 27, 28, 29, 30, 33, 34, 35, 36, 37, 38, 39, 40, 41, 42, 43, 45, 46, 47, 49], 1: [4, 5, 6, 7, 8, 9, 10, 15, 17, 20, 21, 22, 23, 24, 26, 31, 32, 44, 48]}\n",
      "{0: [1, 2, 13, 14, 19, 27, 29, 33, 35, 37, 38, 40, 41, 43], 1: [0, 3, 4, 5, 6, 7, 8, 9, 10, 11, 12, 15, 16, 17, 18, 20, 21, 22, 23, 24, 25, 26, 28, 30, 31, 32, 34, 36, 39, 42, 44, 45, 46, 47, 48, 49]}\n",
      "{0: [0, 1, 2, 4, 5, 6, 8, 13, 15, 19, 23, 27, 28, 34, 35, 37, 41, 42, 43, 46, 49], 1: [3, 7, 9, 10, 11, 12, 14, 16, 17, 18, 20, 21, 22, 24, 25, 26, 29, 30, 31, 32, 33, 36, 38, 39, 40, 44, 45, 47, 48]}\n",
      "{0: [0, 1, 2, 3, 4, 5, 6, 7, 8, 9, 10, 11, 12, 13, 14, 15, 16, 17, 18, 19, 20, 21, 22, 23, 24, 25, 26, 27, 28, 29, 30, 31, 32, 33, 34, 35, 36, 37, 38, 39, 40, 41, 42, 43, 44, 45, 46, 47, 48, 49], 1: []}\n",
      "{0: [0, 1, 2, 4, 5, 6, 7, 8, 9, 10, 12, 15, 16, 17, 18, 19, 20, 21, 22, 23, 24, 25, 27, 29, 30, 31, 33, 34, 35, 36, 39, 41, 42, 43, 45, 46, 49], 1: [3, 11, 13, 14, 26, 28, 32, 37, 38, 40, 44, 47, 48]}\n",
      "{0: [0, 1, 5, 6, 8, 9, 10, 11, 12, 13, 14, 19, 20, 22, 23, 24, 28, 30, 33, 34, 35, 36, 38, 39, 40, 42, 49], 1: [2, 3, 4, 7, 15, 16, 17, 18, 21, 25, 26, 27, 29, 31, 32, 37, 41, 43, 44, 45, 46, 47, 48]}\n",
      "{0: [0, 8, 13, 14, 28, 38, 40, 42], 1: [1, 2, 3, 4, 5, 6, 7, 9, 10, 11, 12, 15, 16, 17, 18, 19, 20, 21, 22, 23, 24, 25, 26, 27, 29, 30, 31, 32, 33, 34, 35, 36, 37, 39, 41, 43, 44, 45, 46, 47, 48, 49]}\n",
      "{0: [0, 2, 4, 5, 8, 9, 14, 16, 17, 20, 21, 25, 27, 28, 30, 35, 36, 37, 38, 40, 43, 48, 49], 1: [1, 3, 6, 7, 10, 11, 12, 13, 15, 18, 19, 22, 23, 24, 26, 29, 31, 32, 33, 34, 39, 41, 42, 44, 45, 46, 47]}\n",
      "{0: [0, 1, 2, 3, 4, 5, 6, 7, 8, 9, 10, 11, 12, 13, 14, 15, 16, 17, 18, 19, 20, 21, 22, 23, 24, 25, 26, 27, 28, 29, 30, 31, 32, 33, 34, 35, 36, 37, 38, 39, 40, 41, 42, 43, 44, 45, 46, 47, 48, 49], 1: []}\n",
      "{0: [0, 3, 5, 6, 8, 9, 11, 12, 14, 16, 17, 20, 21, 22, 23, 24, 26, 27, 30, 31, 32, 33, 34, 37, 38, 40, 41, 42, 43, 44, 45, 46, 47, 49], 1: [1, 2, 4, 7, 10, 13, 15, 18, 19, 25, 28, 29, 35, 36, 39, 48]}\n",
      "{0: [3, 5, 6, 8, 9, 13, 14, 15, 16, 21, 22, 23, 24, 25, 26, 29, 30, 34, 38, 40, 41, 42, 43, 45, 46, 47, 48, 49], 1: [0, 1, 2, 4, 7, 10, 11, 12, 17, 18, 19, 20, 27, 28, 31, 32, 33, 35, 36, 37, 39, 44]}\n",
      "{0: [3, 6, 8, 13, 14, 25, 30, 38, 45, 48], 1: [0, 1, 2, 4, 5, 7, 9, 10, 11, 12, 15, 16, 17, 18, 19, 20, 21, 22, 23, 24, 26, 27, 28, 29, 31, 32, 33, 34, 35, 36, 37, 39, 40, 41, 42, 43, 44, 46, 47, 49]}\n",
      "{0: [0, 1, 2, 4, 9, 11, 13, 15, 21, 25, 27, 30, 31, 33, 36, 37, 38, 39, 40, 45, 46, 48], 1: [3, 5, 6, 7, 8, 10, 12, 14, 16, 17, 18, 19, 20, 22, 23, 24, 26, 28, 29, 32, 34, 35, 41, 42, 43, 44, 47, 49]}\n",
      "{0: [0, 1, 2, 3, 4, 5, 6, 7, 8, 9, 10, 11, 12, 13, 14, 15, 16, 17, 18, 19, 20, 21, 22, 23, 24, 25, 26, 27, 28, 29, 30, 31, 32, 33, 34, 35, 36, 37, 38, 39, 40, 41, 42, 43, 44, 45, 46, 47, 48, 49], 1: []}\n",
      "{0: [0, 1, 2, 3, 6, 7, 8, 10, 11, 12, 13, 15, 16, 17, 18, 19, 20, 21, 22, 23, 24, 25, 26, 28, 29, 30, 32, 34, 35, 37, 38, 41, 43, 45, 46, 47, 48, 49], 1: [4, 5, 9, 14, 27, 31, 33, 36, 39, 40, 42, 44]}\n",
      "{0: [0, 1, 5, 6, 7, 8, 10, 11, 12, 13, 16, 17, 18, 19, 21, 23, 24, 25, 27, 28, 30, 31, 32, 33, 34, 35, 38, 39, 41, 45, 47, 48, 49], 1: [2, 3, 4, 9, 14, 15, 20, 22, 26, 29, 36, 37, 40, 42, 43, 44, 46]}\n",
      "{0: [8, 11, 18, 19, 28, 32, 33, 38, 48], 1: [0, 1, 2, 3, 4, 5, 6, 7, 9, 10, 12, 13, 14, 15, 16, 17, 20, 21, 22, 23, 24, 25, 26, 27, 29, 30, 31, 34, 35, 36, 37, 39, 40, 41, 42, 43, 44, 45, 46, 47, 49]}\n",
      "{0: [0, 1, 2, 5, 6, 7, 8, 11, 12, 18, 23, 25, 28, 29, 31, 32, 33, 37, 38, 39, 40, 42, 48, 49], 1: [3, 4, 9, 10, 13, 14, 15, 16, 17, 19, 20, 21, 22, 24, 26, 27, 30, 34, 35, 36, 41, 43, 44, 45, 46, 47]}\n",
      "{0: [0, 1, 2, 3, 4, 5, 6, 7, 8, 9, 10, 11, 12, 13, 14, 15, 16, 17, 18, 19, 20, 21, 22, 23, 24, 25, 26, 27, 28, 29, 30, 31, 32, 33, 34, 35, 36, 37, 38, 39, 40, 41, 42, 43, 44, 45, 46, 47, 48, 49], 1: []}\n",
      "{0: [1, 2, 4, 5, 6, 7, 9, 10, 11, 12, 14, 15, 16, 17, 18, 23, 24, 25, 28, 29, 30, 32, 33, 34, 35, 36, 37, 38, 39, 40, 42, 43, 44, 45, 48, 49], 1: [0, 3, 8, 13, 19, 20, 21, 22, 26, 27, 31, 41, 46, 47]}\n",
      "{0: [2, 4, 5, 6, 7, 8, 9, 10, 11, 13, 14, 15, 16, 17, 20, 22, 23, 24, 25, 29, 30, 34, 36, 37, 38, 39, 40, 43, 49], 1: [0, 1, 3, 12, 18, 19, 21, 26, 27, 28, 31, 32, 33, 35, 41, 42, 44, 45, 46, 47, 48]}\n",
      "{0: [4, 9, 11, 13, 20, 22, 23, 39], 1: [0, 1, 2, 3, 5, 6, 7, 8, 10, 12, 14, 15, 16, 17, 18, 19, 21, 24, 25, 26, 27, 28, 29, 30, 31, 32, 33, 34, 35, 36, 37, 38, 40, 41, 42, 43, 44, 45, 46, 47, 48, 49]}\n",
      "{0: [0, 2, 3, 4, 6, 7, 11, 13, 15, 17, 18, 20, 22, 23, 25, 27, 28, 29, 33, 35, 39, 40, 41, 45], 1: [1, 5, 8, 9, 10, 12, 14, 16, 19, 21, 24, 26, 30, 31, 32, 34, 36, 37, 38, 42, 43, 44, 46, 47, 48, 49]}\n",
      "{0: [0, 1, 2, 3, 4, 5, 6, 7, 8, 9, 10, 11, 12, 13, 14, 15, 16, 17, 18, 19, 20, 21, 22, 23, 24, 25, 26, 27, 28, 29, 30, 31, 32, 33, 34, 35, 36, 37, 38, 39, 40, 41, 42, 43, 44, 45, 46, 47, 48, 49], 1: []}\n",
      "{0: [0, 2, 3, 4, 5, 6, 8, 10, 11, 13, 14, 15, 16, 17, 18, 20, 21, 22, 24, 25, 26, 28, 30, 33, 34, 36, 39, 42, 43, 44, 45, 46, 47, 48], 1: [1, 7, 9, 12, 19, 23, 27, 29, 31, 32, 35, 37, 38, 40, 41, 49]}\n",
      "{0: [0, 1, 2, 4, 5, 6, 7, 9, 10, 13, 17, 18, 21, 22, 25, 28, 29, 30, 33, 36, 39, 42, 43, 44, 48], 1: [3, 8, 11, 12, 14, 15, 16, 19, 20, 23, 24, 26, 27, 31, 32, 34, 35, 37, 38, 40, 41, 45, 46, 47, 49]}\n",
      "{0: [0, 2, 5, 6, 9, 17, 18, 29, 43], 1: [1, 3, 4, 7, 8, 10, 11, 12, 13, 14, 15, 16, 19, 20, 21, 22, 23, 24, 25, 26, 27, 28, 30, 31, 32, 33, 34, 35, 36, 37, 38, 39, 40, 41, 42, 44, 45, 46, 47, 48, 49]}\n",
      "{0: [1, 2, 3, 6, 9, 11, 12, 13, 14, 15, 16, 18, 20, 21, 25, 27, 28, 29, 31, 32, 34, 39, 40, 43, 46, 48], 1: [0, 4, 5, 7, 8, 10, 17, 19, 22, 23, 24, 26, 30, 33, 35, 36, 37, 38, 41, 42, 44, 45, 47, 49]}\n",
      "{0: [0, 1, 2, 3, 4, 5, 6, 7, 8, 9, 10, 11, 12, 13, 14, 15, 16, 17, 18, 19, 20, 21, 22, 23, 24, 25, 26, 27, 28, 29, 30, 31, 32, 33, 34, 35, 36, 37, 38, 39, 40, 41, 42, 43, 44, 45, 46, 47, 48, 49], 1: []}\n",
      "{0: [4, 6, 7, 8, 9, 11, 13, 15, 16, 17, 19, 20, 21, 23, 24, 25, 26, 27, 28, 29, 30, 31, 32, 33, 35, 37, 38, 40, 43, 44, 45, 46, 47, 48, 49], 1: [0, 1, 2, 3, 5, 10, 12, 14, 18, 22, 34, 36, 39, 41, 42]}\n",
      "{0: [0, 4, 6, 9, 10, 11, 16, 17, 19, 20, 24, 27, 30, 31, 35, 37, 38, 39, 40, 43, 44, 45, 46, 47, 49], 1: [1, 2, 3, 5, 7, 8, 12, 13, 14, 15, 18, 21, 22, 23, 25, 26, 28, 29, 32, 33, 34, 36, 41, 42, 48]}\n",
      "{0: [0, 4, 6, 10, 11, 16, 20, 30, 43, 44, 47], 1: [1, 2, 3, 5, 7, 8, 9, 12, 13, 14, 15, 17, 18, 19, 21, 22, 23, 24, 25, 26, 27, 28, 29, 31, 32, 33, 34, 35, 36, 37, 38, 39, 40, 41, 42, 45, 46, 48, 49]}\n",
      "{0: [3, 4, 5, 6, 7, 9, 10, 12, 16, 19, 20, 22, 23, 24, 26, 27, 28, 32, 33, 36, 39, 40, 43, 45, 47], 1: [0, 1, 2, 8, 11, 13, 14, 15, 17, 18, 21, 25, 29, 30, 31, 34, 35, 37, 38, 41, 42, 44, 46, 48, 49]}\n",
      "{0: [0, 1, 2, 3, 4, 5, 6, 7, 8, 9, 10, 11, 12, 13, 14, 15, 16, 17, 18, 19, 20, 21, 22, 23, 24, 25, 26, 27, 28, 29, 30, 31, 32, 33, 34, 35, 36, 37, 38, 39, 40, 41, 42, 43, 44, 45, 46, 47, 48, 49], 1: []}\n",
      "{0: [0, 1, 2, 3, 4, 7, 10, 12, 14, 15, 17, 19, 20, 21, 23, 24, 25, 26, 27, 29, 31, 32, 33, 34, 35, 36, 37, 38, 40, 41, 42, 43, 44, 46, 47], 1: [5, 6, 8, 9, 11, 13, 16, 18, 22, 28, 30, 39, 45, 48, 49]}\n",
      "{0: [0, 1, 2, 3, 5, 8, 12, 14, 15, 19, 20, 21, 22, 25, 26, 27, 29, 31, 33, 36, 37, 38, 40, 41, 42, 43, 46, 47], 1: [4, 6, 7, 9, 10, 11, 13, 16, 17, 18, 23, 24, 28, 30, 32, 34, 35, 39, 44, 45, 48, 49]}\n",
      "{0: [0, 5, 8, 15, 20, 21, 22, 26, 27, 29, 38, 46, 49], 1: [1, 2, 3, 4, 6, 7, 9, 10, 11, 12, 13, 14, 16, 17, 18, 19, 23, 24, 25, 28, 30, 31, 32, 33, 34, 35, 36, 37, 39, 40, 41, 42, 43, 44, 45, 47, 48]}\n",
      "{0: [0, 4, 5, 8, 11, 15, 18, 21, 22, 23, 25, 26, 27, 28, 29, 30, 34, 37, 38, 42, 43, 46, 49], 1: [1, 2, 3, 6, 7, 9, 10, 12, 13, 14, 16, 17, 19, 20, 24, 31, 32, 33, 35, 36, 39, 40, 41, 44, 45, 47, 48]}\n",
      "{0: [0, 1, 2, 3, 4, 5, 6, 7, 8, 9, 10, 11, 12, 13, 14, 15, 16, 17, 18, 19, 20, 21, 22, 23, 24, 25, 26, 27, 28, 29, 30, 31, 32, 33, 34, 35, 36, 37, 38, 39, 40, 41, 42, 43, 44, 45, 46, 47, 48, 49], 1: []}\n",
      "{0: [0, 2, 3, 5, 7, 8, 9, 10, 11, 12, 13, 14, 15, 16, 18, 19, 20, 22, 24, 25, 26, 28, 29, 31, 32, 33, 35, 36, 37, 38, 40, 41, 42, 43, 44, 45, 48, 49], 1: [1, 4, 6, 17, 21, 23, 27, 30, 34, 39, 46, 47]}\n",
      "{0: [2, 3, 4, 5, 9, 10, 11, 12, 14, 16, 18, 19, 20, 22, 24, 25, 26, 29, 30, 31, 32, 35, 37, 38, 41, 42, 44, 45, 46, 48], 1: [0, 1, 6, 7, 8, 13, 15, 17, 21, 23, 27, 28, 33, 34, 36, 39, 40, 43, 47, 49]}\n",
      "{0: [2, 3, 14, 16, 18, 24, 28, 35, 38, 41, 42, 44], 1: [0, 1, 4, 5, 6, 7, 8, 9, 10, 11, 12, 13, 15, 17, 19, 20, 21, 22, 23, 25, 26, 27, 29, 30, 31, 32, 33, 34, 36, 37, 39, 40, 43, 45, 46, 47, 48, 49]}\n",
      "{0: [0, 3, 6, 8, 9, 11, 16, 21, 23, 24, 25, 26, 28, 30, 32, 38, 39, 40, 41, 44], 1: [1, 2, 4, 5, 7, 10, 12, 13, 14, 15, 17, 18, 19, 20, 22, 27, 29, 31, 33, 34, 35, 36, 37, 42, 43, 45, 46, 47, 48, 49]}\n",
      "{0: [0, 1, 2, 3, 4, 5, 6, 7, 8, 9, 10, 11, 12, 13, 14, 15, 16, 17, 18, 19, 20, 21, 22, 23, 24, 25, 26, 27, 28, 29, 30, 31, 32, 33, 34, 35, 36, 37, 38, 39, 40, 41, 42, 43, 44, 45, 46, 47, 48, 49], 1: []}\n",
      "{0: [0, 1, 3, 4, 5, 6, 7, 10, 12, 13, 14, 16, 17, 18, 19, 20, 21, 23, 25, 26, 28, 29, 30, 32, 33, 34, 35, 36, 37, 38, 39, 40, 41, 42, 43, 45, 46, 47, 49], 1: [2, 8, 9, 11, 15, 22, 24, 27, 31, 44, 48]}\n",
      "{0: [0, 1, 3, 4, 5, 6, 7, 9, 10, 12, 13, 14, 16, 19, 21, 22, 23, 24, 25, 26, 28, 29, 30, 31, 32, 36, 37, 39, 40, 46, 47, 48, 49], 1: [2, 8, 11, 15, 17, 18, 20, 27, 33, 34, 35, 38, 41, 42, 43, 44, 45]}\n",
      "{0: [0, 1, 3, 4, 7, 13, 16, 19, 26, 30, 33, 36, 41, 46, 48], 1: [2, 5, 6, 8, 9, 10, 11, 12, 14, 15, 17, 18, 20, 21, 22, 23, 24, 25, 27, 28, 29, 31, 32, 34, 35, 37, 38, 39, 40, 42, 43, 44, 45, 47, 49]}\n",
      "{0: [0, 3, 4, 5, 6, 13, 15, 16, 17, 19, 20, 21, 22, 26, 29, 30, 33, 35, 37, 40, 42, 46, 47, 48, 49], 1: [1, 2, 7, 8, 9, 10, 11, 12, 14, 18, 23, 24, 25, 27, 28, 31, 32, 34, 36, 38, 39, 41, 43, 44, 45]}\n",
      "{0: [0, 1, 2, 3, 4, 5, 6, 7, 8, 9, 10, 11, 12, 13, 14, 15, 16, 17, 18, 19, 20, 21, 22, 23, 24, 25, 26, 27, 28, 29, 30, 31, 32, 33, 34, 35, 36, 37, 38, 39, 40, 41, 42, 43, 44, 45, 46, 47, 48, 49], 1: []}\n",
      "{0: [2, 6, 7, 8, 10, 11, 13, 14, 15, 16, 17, 19, 20, 21, 22, 23, 24, 25, 26, 28, 29, 30, 32, 34, 35, 36, 39, 40, 41, 42, 44, 45, 47], 1: [0, 1, 3, 4, 5, 9, 12, 18, 27, 31, 33, 37, 38, 43, 46, 48, 49]}\n",
      "{0: [2, 3, 5, 7, 8, 10, 11, 17, 18, 19, 20, 21, 24, 25, 26, 28, 29, 30, 33, 34, 35, 36, 39, 40, 42, 45, 46, 47], 1: [0, 1, 4, 6, 9, 12, 13, 14, 15, 16, 22, 23, 27, 31, 32, 37, 38, 41, 43, 44, 48, 49]}\n",
      "{0: [5, 11, 19, 25, 26, 35, 39, 45, 46], 1: [0, 1, 2, 3, 4, 6, 7, 8, 9, 10, 12, 13, 14, 15, 16, 17, 18, 20, 21, 22, 23, 24, 27, 28, 29, 30, 31, 32, 33, 34, 36, 37, 38, 40, 41, 42, 43, 44, 47, 48, 49]}\n",
      "{0: [0, 1, 2, 5, 6, 7, 9, 10, 12, 13, 15, 16, 17, 20, 23, 25, 28, 29, 33, 34, 35, 40, 41, 45, 46, 48, 49], 1: [3, 4, 8, 11, 14, 18, 19, 21, 22, 24, 26, 27, 30, 31, 32, 36, 37, 38, 39, 42, 43, 44, 47]}\n",
      "{0: [0, 1, 2, 3, 4, 5, 6, 7, 8, 9, 10, 11, 12, 13, 14, 15, 16, 17, 18, 19, 20, 21, 22, 23, 24, 25, 26, 27, 28, 29, 30, 31, 32, 33, 34, 35, 36, 37, 38, 39, 40, 41, 42, 43, 44, 45, 46, 47, 48, 49], 1: []}\n",
      "{0: [0, 1, 3, 7, 8, 9, 10, 12, 13, 17, 18, 20, 22, 23, 24, 25, 27, 28, 29, 30, 31, 34, 36, 37, 39, 40, 42, 43, 44, 45, 47, 48, 49], 1: [2, 4, 5, 6, 11, 14, 15, 16, 19, 21, 26, 32, 33, 35, 38, 41, 46]}\n",
      "{0: [0, 1, 2, 3, 6, 7, 8, 9, 10, 12, 13, 15, 17, 20, 21, 22, 24, 25, 26, 27, 29, 30, 31, 32, 34, 36, 37, 39, 43, 44, 45, 46, 47, 48, 49], 1: [4, 5, 11, 14, 16, 18, 19, 23, 28, 33, 35, 38, 40, 41, 42]}\n",
      "{0: [2, 6, 8, 12, 21, 22, 24, 25, 26, 31, 32, 34, 37, 39, 49], 1: [0, 1, 3, 4, 5, 7, 9, 10, 11, 13, 14, 15, 16, 17, 18, 19, 20, 23, 27, 28, 29, 30, 33, 35, 36, 38, 40, 41, 42, 43, 44, 45, 46, 47, 48]}\n",
      "{0: [2, 5, 6, 7, 8, 9, 12, 13, 19, 20, 21, 22, 23, 24, 25, 26, 28, 29, 31, 37, 39, 44, 46, 47, 48], 1: [0, 1, 3, 4, 10, 11, 14, 15, 16, 17, 18, 27, 30, 32, 33, 34, 35, 36, 38, 40, 41, 42, 43, 45, 49]}\n",
      "{0: [0, 1, 2, 3, 4, 5, 6, 7, 8, 9, 10, 11, 12, 13, 14, 15, 16, 17, 18, 19, 20, 21, 22, 23, 24, 25, 26, 27, 28, 29, 30, 31, 32, 33, 34, 35, 36, 37, 38, 39, 40, 41, 42, 43, 44, 45, 46, 47, 48, 49], 1: []}\n",
      "{0: [1, 2, 4, 7, 8, 9, 10, 11, 12, 13, 14, 15, 16, 17, 18, 19, 21, 22, 24, 26, 28, 31, 32, 34, 35, 36, 37, 41, 43, 45, 47, 48, 49], 1: [0, 3, 5, 6, 20, 23, 25, 27, 29, 30, 33, 38, 39, 40, 42, 44, 46]}\n",
      "{0: [3, 4, 6, 8, 9, 10, 11, 12, 14, 15, 16, 17, 21, 22, 23, 28, 31, 32, 34, 36, 38, 40, 41, 45, 47, 48], 1: [0, 1, 2, 5, 7, 13, 18, 19, 20, 24, 25, 26, 27, 29, 30, 33, 35, 37, 39, 42, 43, 44, 46, 49]}\n",
      "{0: [10, 11, 14, 15, 16, 21, 36, 38, 40, 45], 1: [0, 1, 2, 3, 4, 5, 6, 7, 8, 9, 12, 13, 17, 18, 19, 20, 22, 23, 24, 25, 26, 27, 28, 29, 30, 31, 32, 33, 34, 35, 37, 39, 41, 42, 43, 44, 46, 47, 48, 49]}\n",
      "{0: [0, 1, 2, 4, 6, 7, 10, 12, 14, 15, 16, 17, 18, 19, 23, 28, 29, 30, 31, 32, 34, 35, 36, 38, 39, 40, 41, 45, 48, 49], 1: [3, 5, 8, 9, 11, 13, 20, 21, 22, 24, 25, 26, 27, 33, 37, 42, 43, 44, 46, 47]}\n",
      "{0: [0, 1, 2, 3, 4, 5, 6, 7, 8, 9, 10, 11, 12, 13, 14, 15, 16, 17, 18, 19, 20, 21, 22, 23, 24, 25, 26, 27, 28, 29, 30, 31, 32, 33, 34, 35, 36, 37, 38, 39, 40, 41, 42, 43, 44, 45, 46, 47, 48, 49], 1: []}\n",
      "{0: [0, 1, 3, 5, 7, 8, 10, 11, 12, 13, 14, 15, 16, 17, 18, 19, 20, 21, 22, 27, 29, 31, 32, 35, 36, 37, 39, 40, 41, 43, 44, 45, 47, 48, 49], 1: [2, 4, 6, 9, 23, 24, 25, 26, 28, 30, 33, 34, 38, 42, 46]}\n",
      "{0: [0, 1, 3, 5, 7, 8, 11, 13, 15, 17, 18, 19, 20, 21, 22, 25, 27, 29, 34, 35, 36, 37, 40, 41, 42, 43, 45, 46, 47, 48, 49], 1: [2, 4, 6, 9, 10, 12, 14, 16, 23, 24, 26, 28, 30, 31, 32, 33, 38, 39, 44]}\n",
      "{0: [0, 5, 8, 15, 20, 27, 34, 35, 40, 42, 45, 46, 47], 1: [1, 2, 3, 4, 6, 7, 9, 10, 11, 12, 13, 14, 16, 17, 18, 19, 21, 22, 23, 24, 25, 26, 28, 29, 30, 31, 32, 33, 36, 37, 38, 39, 41, 43, 44, 48, 49]}\n",
      "{0: [1, 2, 9, 10, 11, 15, 17, 18, 19, 21, 23, 26, 27, 30, 31, 32, 33, 34, 35, 37, 39, 41, 46, 48], 1: [0, 3, 4, 5, 6, 7, 8, 12, 13, 14, 16, 20, 22, 24, 25, 28, 29, 36, 38, 40, 42, 43, 44, 45, 47, 49]}\n",
      "{0: [0, 1, 2, 3, 4, 5, 6, 7, 8, 9, 10, 11, 12, 13, 14, 15, 16, 17, 18, 19, 20, 21, 22, 23, 24, 25, 26, 27, 28, 29, 30, 31, 32, 33, 34, 35, 36, 37, 38, 39, 40, 41, 42, 43, 44, 45, 46, 47, 48, 49], 1: []}\n",
      "{0: [0, 1, 3, 4, 6, 8, 9, 11, 15, 17, 18, 19, 20, 21, 22, 23, 25, 26, 27, 28, 29, 30, 32, 33, 34, 35, 36, 37, 38, 39, 43, 44, 45, 46, 48, 49], 1: [2, 5, 7, 10, 12, 13, 14, 16, 24, 31, 40, 41, 42, 47]}\n",
      "{0: [0, 1, 3, 4, 5, 6, 8, 15, 17, 18, 19, 21, 23, 25, 26, 27, 29, 30, 32, 33, 34, 35, 36, 37, 38, 39, 40, 41, 43, 44, 45, 46, 48], 1: [2, 7, 9, 10, 11, 12, 13, 14, 16, 20, 22, 24, 28, 31, 42, 47, 49]}\n",
      "{0: [3, 5, 8, 18, 27, 30, 33, 34, 37, 40, 45], 1: [0, 1, 2, 4, 6, 7, 9, 10, 11, 12, 13, 14, 15, 16, 17, 19, 20, 21, 22, 23, 24, 25, 26, 28, 29, 31, 32, 35, 36, 38, 39, 41, 42, 43, 44, 46, 47, 48, 49]}\n",
      "{0: [0, 1, 3, 4, 5, 7, 8, 11, 14, 17, 22, 25, 30, 33, 34, 37, 39, 40, 41, 45, 47], 1: [2, 6, 9, 10, 12, 13, 15, 16, 18, 19, 20, 21, 23, 24, 26, 27, 28, 29, 31, 32, 35, 36, 38, 42, 43, 44, 46, 48, 49]}\n",
      "{0: [0, 1, 2, 3, 4, 5, 6, 7, 8, 9, 10, 11, 12, 13, 14, 15, 16, 17, 18, 19, 20, 21, 22, 23, 24, 25, 26, 27, 28, 29, 30, 31, 32, 33, 34, 35, 36, 37, 38, 39, 40, 41, 42, 43, 44, 45, 46, 47, 48, 49], 1: []}\n",
      "{0: [1, 2, 4, 5, 7, 8, 9, 10, 11, 12, 13, 14, 15, 16, 17, 18, 21, 22, 23, 25, 26, 28, 29, 30, 31, 32, 33, 35, 36, 38, 40, 41, 42, 43, 44, 45, 46], 1: [0, 3, 6, 19, 20, 24, 27, 34, 37, 39, 47, 48, 49]}\n",
      "{0: [0, 1, 2, 4, 5, 8, 9, 11, 12, 13, 14, 17, 18, 21, 22, 25, 26, 27, 29, 31, 32, 35, 38, 42, 43, 45, 46, 47, 49], 1: [3, 6, 7, 10, 15, 16, 19, 20, 23, 24, 28, 30, 33, 34, 36, 37, 39, 40, 41, 44, 48]}\n",
      "{0: [0, 12, 17, 21, 25, 29, 32, 43, 46, 47, 49], 1: [1, 2, 3, 4, 5, 6, 7, 8, 9, 10, 11, 13, 14, 15, 16, 18, 19, 20, 22, 23, 24, 26, 27, 28, 30, 31, 33, 34, 35, 36, 37, 38, 39, 40, 41, 42, 44, 45, 48]}\n",
      "{0: [0, 1, 2, 3, 5, 6, 8, 11, 16, 17, 21, 25, 27, 28, 30, 32, 33, 34, 36, 40, 45, 46, 47, 49], 1: [4, 7, 9, 10, 12, 13, 14, 15, 18, 19, 20, 22, 23, 24, 26, 29, 31, 35, 37, 38, 39, 41, 42, 43, 44, 48]}\n",
      "{0: [0, 1, 2, 3, 4, 5, 6, 7, 8, 9, 10, 11, 12, 13, 14, 15, 16, 17, 18, 19, 20, 21, 22, 23, 24, 25, 26, 27, 28, 29, 30, 31, 32, 33, 34, 35, 36, 37, 38, 39, 40, 41, 42, 43, 44, 45, 46, 47, 48, 49], 1: []}\n",
      "{0: [1, 3, 4, 5, 6, 7, 8, 11, 12, 13, 14, 15, 16, 17, 18, 20, 21, 22, 23, 24, 25, 26, 27, 28, 29, 30, 31, 32, 33, 34, 35, 37, 38, 40, 41, 42, 43, 44, 45, 46, 48, 49], 1: [0, 2, 9, 10, 19, 36, 39, 47]}\n",
      "{0: [1, 2, 3, 6, 7, 8, 9, 11, 13, 14, 15, 16, 17, 18, 21, 22, 23, 24, 25, 26, 28, 29, 30, 31, 32, 33, 34, 35, 36, 37, 38, 40, 41, 43, 44], 1: [0, 4, 5, 10, 12, 19, 20, 27, 39, 42, 45, 46, 47, 48, 49]}\n",
      "{0: [2, 3, 9, 13, 23, 26, 31, 36, 40, 43, 44], 1: [0, 1, 4, 5, 6, 7, 8, 10, 11, 12, 14, 15, 16, 17, 18, 19, 20, 21, 22, 24, 25, 27, 28, 29, 30, 32, 33, 34, 35, 37, 38, 39, 41, 42, 45, 46, 47, 48, 49]}\n",
      "{0: [2, 3, 6, 9, 12, 13, 14, 20, 22, 24, 26, 28, 30, 31, 32, 36, 40, 44, 48], 1: [0, 1, 4, 5, 7, 8, 10, 11, 15, 16, 17, 18, 19, 21, 23, 25, 27, 29, 33, 34, 35, 37, 38, 39, 41, 42, 43, 45, 46, 47, 49]}\n",
      "{0: [0, 1, 2, 3, 4, 5, 6, 7, 8, 9, 10, 11, 12, 13, 14, 15, 16, 17, 18, 19, 20, 21, 22, 23, 24, 25, 26, 27, 28, 29, 30, 31, 32, 33, 34, 35, 36, 37, 38, 39, 40, 41, 42, 43, 44, 45, 46, 47, 48, 49], 1: []}\n",
      "{0: [0, 1, 2, 3, 4, 7, 8, 10, 11, 12, 13, 14, 16, 17, 19, 20, 21, 22, 24, 25, 27, 28, 29, 31, 32, 33, 34, 35, 37, 38, 39, 40, 42, 43, 44, 45, 46, 47, 49], 1: [5, 6, 9, 15, 18, 23, 26, 30, 36, 41, 48]}\n",
      "{0: [1, 3, 4, 8, 10, 12, 13, 16, 17, 18, 19, 21, 23, 25, 26, 27, 28, 29, 31, 32, 34, 35, 36, 37, 38, 39, 40, 42, 43, 44, 45, 46, 47], 1: [0, 2, 5, 6, 7, 9, 11, 14, 15, 20, 22, 24, 30, 33, 41, 48, 49]}\n",
      "{0: [10, 17, 21, 22, 23, 28, 32, 34, 36, 37, 42, 46], 1: [0, 1, 2, 3, 4, 5, 6, 7, 8, 9, 11, 12, 13, 14, 15, 16, 18, 19, 20, 24, 25, 26, 27, 29, 30, 31, 33, 35, 38, 39, 40, 41, 43, 44, 45, 47, 48, 49]}\n",
      "{0: [1, 5, 6, 10, 14, 16, 17, 18, 21, 22, 23, 24, 28, 31, 34, 35, 36, 37, 42, 45, 46, 48, 49], 1: [0, 2, 3, 4, 7, 8, 9, 11, 12, 13, 15, 19, 20, 25, 26, 27, 29, 30, 32, 33, 38, 39, 40, 41, 43, 44, 47]}\n",
      "{0: [0, 1, 2, 3, 4, 5, 6, 7, 8, 9, 10, 11, 12, 13, 14, 15, 16, 17, 18, 19, 20, 21, 22, 23, 24, 25, 26, 27, 28, 29, 30, 31, 32, 33, 34, 35, 36, 37, 38, 39, 40, 41, 42, 43, 44, 45, 46, 47, 48, 49], 1: []}\n",
      "{0: [1, 2, 3, 5, 6, 8, 9, 11, 12, 13, 15, 16, 17, 18, 19, 20, 21, 22, 23, 26, 29, 30, 31, 32, 33, 36, 37, 38, 39, 40, 42, 43, 44, 45, 46, 47, 48], 1: [0, 4, 7, 10, 14, 24, 25, 27, 28, 34, 35, 41, 49]}\n",
      "{0: [0, 1, 3, 5, 6, 8, 11, 12, 14, 16, 17, 20, 21, 22, 23, 26, 28, 30, 31, 32, 35, 36, 38, 42, 43, 44, 45, 46, 47, 48], 1: [2, 4, 7, 9, 10, 13, 15, 18, 19, 24, 25, 27, 29, 33, 34, 37, 39, 40, 41, 49]}\n",
      "{0: [0, 3, 5, 11, 22, 32, 40, 46], 1: [1, 2, 4, 6, 7, 8, 9, 10, 12, 13, 14, 15, 16, 17, 18, 19, 20, 21, 23, 24, 25, 26, 27, 28, 29, 30, 31, 33, 34, 35, 36, 37, 38, 39, 41, 42, 43, 44, 45, 47, 48, 49]}\n",
      "{0: [3, 5, 7, 10, 11, 12, 14, 22, 25, 26, 31, 32, 33, 39, 40, 42, 43, 44, 45, 47, 49], 1: [0, 1, 2, 4, 6, 8, 9, 13, 15, 16, 17, 18, 19, 20, 21, 23, 24, 27, 28, 29, 30, 34, 35, 36, 37, 38, 41, 46, 48]}\n",
      "{0: [0, 1, 2, 3, 4, 5, 6, 7, 8, 9, 10, 11, 12, 13, 14, 15, 16, 17, 18, 19, 20, 21, 22, 23, 24, 25, 26, 27, 28, 29, 30, 31, 32, 33, 34, 35, 36, 37, 38, 39, 40, 41, 42, 43, 44, 45, 46, 47, 48, 49], 1: []}\n",
      "{0: [2, 4, 7, 8, 10, 11, 12, 14, 15, 17, 19, 20, 25, 26, 27, 28, 31, 32, 33, 35, 36, 37, 38, 40, 42, 44, 45, 46, 47, 49], 1: [0, 1, 3, 5, 6, 9, 13, 16, 18, 21, 22, 23, 24, 29, 30, 34, 39, 41, 43, 48]}\n",
      "{0: [0, 1, 2, 3, 4, 6, 7, 8, 9, 10, 15, 17, 19, 20, 23, 25, 26, 27, 28, 29, 31, 32, 33, 35, 36, 37, 39, 40, 42, 44, 45, 46, 47, 49], 1: [5, 11, 12, 13, 14, 16, 18, 21, 22, 24, 30, 34, 38, 41, 43, 48]}\n",
      "{0: [4, 6, 10, 15, 17, 20, 23, 29, 31, 37, 39, 45, 49], 1: [0, 1, 2, 3, 5, 7, 8, 9, 11, 12, 13, 14, 16, 18, 19, 21, 22, 24, 25, 26, 27, 28, 30, 32, 33, 34, 35, 36, 38, 40, 41, 42, 43, 44, 46, 47, 48]}\n",
      "{0: [4, 5, 6, 7, 8, 10, 15, 17, 20, 23, 24, 26, 28, 31, 32, 33, 38, 39, 40, 45, 49], 1: [0, 1, 2, 3, 9, 11, 12, 13, 14, 16, 18, 19, 21, 22, 25, 27, 29, 30, 34, 35, 36, 37, 41, 42, 43, 44, 46, 47, 48]}\n",
      "{0: [0, 1, 2, 3, 4, 5, 6, 7, 8, 9, 10, 11, 12, 13, 14, 15, 16, 17, 18, 19, 20, 21, 22, 23, 24, 25, 26, 27, 28, 29, 30, 31, 32, 33, 34, 35, 36, 37, 38, 39, 40, 41, 42, 43, 44, 45, 46, 47, 48, 49], 1: []}\n",
      "{0: [1, 2, 3, 5, 7, 8, 9, 13, 14, 15, 16, 17, 18, 19, 21, 23, 24, 25, 26, 27, 30, 31, 32, 33, 34, 35, 36, 37, 38, 39, 40, 41, 42, 43, 44, 45, 47, 48], 1: [0, 4, 6, 10, 11, 12, 20, 22, 28, 29, 46, 49]}\n",
      "{0: [0, 1, 2, 3, 5, 16, 17, 18, 19, 20, 21, 22, 23, 24, 30, 32, 34, 35, 36, 37, 38, 39, 40, 41, 44, 45, 46, 47, 49], 1: [4, 6, 7, 8, 9, 10, 11, 12, 13, 14, 15, 25, 26, 27, 28, 29, 31, 33, 42, 43, 48]}\n",
      "{0: [0, 1, 16, 21, 23, 30, 37, 40, 41, 45, 49], 1: [2, 3, 4, 5, 6, 7, 8, 9, 10, 11, 12, 13, 14, 15, 17, 18, 19, 20, 22, 24, 25, 26, 27, 28, 29, 31, 32, 33, 34, 35, 36, 38, 39, 42, 43, 44, 46, 47, 48]}\n",
      "{0: [0, 1, 3, 4, 6, 8, 9, 12, 16, 25, 27, 30, 32, 34, 36, 38, 41, 43, 47, 49], 1: [2, 5, 7, 10, 11, 13, 14, 15, 17, 18, 19, 20, 21, 22, 23, 24, 26, 28, 29, 31, 33, 35, 37, 39, 40, 42, 44, 45, 46, 48]}\n",
      "{0: [0, 1, 2, 3, 4, 5, 6, 7, 8, 9, 10, 11, 12, 13, 14, 15, 16, 17, 18, 19, 20, 21, 22, 23, 24, 25, 26, 27, 28, 29, 30, 31, 32, 33, 34, 35, 36, 37, 38, 39, 40, 41, 42, 43, 44, 45, 46, 47, 48, 49], 1: []}\n",
      "{0: [0, 1, 2, 5, 7, 8, 10, 11, 13, 14, 15, 16, 18, 19, 20, 23, 24, 25, 29, 31, 32, 33, 35, 36, 37, 38, 39, 40, 42, 44, 45, 46, 47, 48, 49], 1: [3, 4, 6, 9, 12, 17, 21, 22, 26, 27, 28, 30, 34, 41, 43]}\n",
      "{0: [5, 7, 8, 10, 12, 13, 14, 15, 16, 18, 19, 24, 25, 26, 27, 31, 32, 33, 34, 35, 36, 37, 39, 40, 42, 44, 45, 47, 49], 1: [0, 1, 2, 3, 4, 6, 9, 11, 17, 20, 21, 22, 23, 28, 29, 30, 38, 41, 43, 46, 48]}\n",
      "{0: [7, 12, 26, 31, 33, 37, 42], 1: [0, 1, 2, 3, 4, 5, 6, 8, 9, 10, 11, 13, 14, 15, 16, 17, 18, 19, 20, 21, 22, 23, 24, 25, 27, 28, 29, 30, 32, 34, 35, 36, 38, 39, 40, 41, 43, 44, 45, 46, 47, 48, 49]}\n",
      "{0: [0, 2, 8, 10, 12, 15, 16, 17, 19, 22, 24, 26, 27, 29, 31, 32, 33, 34, 37, 39, 40, 42, 44, 45], 1: [1, 3, 4, 5, 6, 7, 9, 11, 13, 14, 18, 20, 21, 23, 25, 28, 30, 35, 36, 38, 41, 43, 46, 47, 48, 49]}\n",
      "{0: [0, 1, 2, 3, 4, 5, 6, 7, 8, 9, 10, 11, 12, 13, 14, 15, 16, 17, 18, 19, 20, 21, 22, 23, 24, 25, 26, 27, 28, 29, 30, 31, 32, 33, 34, 35, 36, 37, 38, 39, 40, 41, 42, 43, 44, 45, 46, 47, 48, 49], 1: []}\n",
      "{0: [0, 2, 3, 4, 5, 6, 7, 8, 10, 12, 13, 14, 15, 16, 18, 19, 20, 21, 22, 26, 27, 28, 29, 30, 31, 32, 33, 34, 35, 36, 37, 39, 41, 45, 46, 47, 48, 49], 1: [1, 9, 11, 17, 23, 24, 25, 38, 40, 42, 43, 44]}\n",
      "{0: [0, 2, 3, 4, 5, 6, 7, 12, 14, 15, 16, 17, 19, 20, 21, 22, 26, 27, 28, 30, 32, 33, 34, 35, 36, 39, 41, 43, 47, 49], 1: [1, 8, 9, 10, 11, 13, 18, 23, 24, 25, 29, 31, 37, 38, 40, 42, 44, 45, 46, 48]}\n",
      "{0: [2, 3, 4, 5, 12, 15, 16, 20, 21, 30, 32, 34, 35, 39, 41, 43, 47, 49], 1: [0, 1, 6, 7, 8, 9, 10, 11, 13, 14, 17, 18, 19, 22, 23, 24, 25, 26, 27, 28, 29, 31, 33, 36, 37, 38, 40, 42, 44, 45, 46, 48]}\n",
      "{0: [1, 2, 4, 5, 10, 11, 12, 14, 15, 17, 20, 22, 23, 24, 26, 27, 28, 29, 31, 32, 33, 37, 41, 42, 43, 44, 47, 49], 1: [0, 3, 6, 7, 8, 9, 13, 16, 18, 19, 21, 25, 30, 34, 35, 36, 38, 39, 40, 45, 46, 48]}\n",
      "{0: [0, 1, 2, 3, 4, 5, 6, 7, 8, 9, 10, 11, 12, 13, 14, 15, 16, 17, 18, 19, 20, 21, 22, 23, 24, 25, 26, 27, 28, 29, 30, 31, 32, 33, 34, 35, 36, 37, 38, 39, 40, 41, 42, 43, 44, 45, 46, 47, 48, 49], 1: []}\n",
      "{0: [0, 2, 3, 4, 5, 7, 8, 10, 11, 12, 13, 14, 15, 16, 17, 18, 19, 22, 23, 24, 25, 26, 27, 28, 29, 30, 31, 32, 33, 34, 35, 36, 37, 38, 39, 40, 41, 42, 44, 45, 46, 47, 49], 1: [1, 6, 9, 20, 21, 43, 48]}\n",
      "{0: [0, 3, 4, 5, 6, 7, 9, 10, 11, 12, 14, 15, 16, 17, 18, 19, 20, 23, 24, 25, 26, 27, 28, 29, 33, 34, 36, 37, 38, 39, 40, 41, 43, 45, 47, 49], 1: [1, 2, 8, 13, 21, 22, 30, 31, 32, 35, 42, 44, 46, 48]}\n",
      "{0: [7, 9, 10, 11, 16, 19, 20, 25, 28, 29, 36, 37, 39, 41], 1: [0, 1, 2, 3, 4, 5, 6, 8, 12, 13, 14, 15, 17, 18, 21, 22, 23, 24, 26, 27, 30, 31, 32, 33, 34, 35, 38, 40, 42, 43, 44, 45, 46, 47, 48, 49]}\n",
      "{0: [1, 4, 7, 8, 10, 11, 13, 16, 17, 19, 20, 21, 22, 25, 27, 28, 29, 31, 32, 33, 34, 37, 40, 41, 44, 45, 47, 48], 1: [0, 2, 3, 5, 6, 9, 12, 14, 15, 18, 23, 24, 26, 30, 35, 36, 38, 39, 42, 43, 46, 49]}\n",
      "{0: [0, 1, 2, 3, 4, 5, 6, 7, 8, 9, 10, 11, 12, 13, 14, 15, 16, 17, 18, 19, 20, 21, 22, 23, 24, 25, 26, 27, 28, 29, 30, 31, 32, 33, 34, 35, 36, 37, 38, 39, 40, 41, 42, 43, 44, 45, 46, 47, 48, 49], 1: []}\n",
      "{0: [0, 1, 2, 3, 4, 5, 6, 8, 9, 11, 12, 14, 15, 16, 18, 19, 20, 21, 22, 23, 24, 25, 27, 29, 30, 32, 33, 35, 37, 38, 39, 41, 42, 44, 45, 46, 47, 48, 49], 1: [7, 10, 13, 17, 26, 28, 31, 34, 36, 40, 43]}\n",
      "{0: [0, 1, 3, 6, 9, 11, 14, 15, 18, 19, 20, 21, 22, 23, 24, 25, 27, 29, 30, 32, 33, 35, 36, 38, 39, 41, 42, 43, 44, 48, 49], 1: [2, 4, 5, 7, 8, 10, 12, 13, 16, 17, 26, 28, 31, 34, 37, 40, 45, 46, 47]}\n",
      "{0: [3, 11, 15, 25, 27, 35, 39, 44], 1: [0, 1, 2, 4, 5, 6, 7, 8, 9, 10, 12, 13, 14, 16, 17, 18, 19, 20, 21, 22, 23, 24, 26, 28, 29, 30, 31, 32, 33, 34, 36, 37, 38, 40, 41, 42, 43, 45, 46, 47, 48, 49]}\n",
      "{0: [2, 10, 12, 20, 21, 25, 26, 27, 28, 29, 32, 35, 36, 42, 43, 44, 45, 46, 47], 1: [0, 1, 3, 4, 5, 6, 7, 8, 9, 11, 13, 14, 15, 16, 17, 18, 19, 22, 23, 24, 30, 31, 33, 34, 37, 38, 39, 40, 41, 48, 49]}\n",
      "{0: [0, 1, 2, 3, 4, 5, 6, 7, 8, 9, 10, 11, 12, 13, 14, 15, 16, 17, 18, 19, 20, 21, 22, 23, 24, 25, 26, 27, 28, 29, 30, 31, 32, 33, 34, 35, 36, 37, 38, 39, 40, 41, 42, 43, 44, 45, 46, 47, 48, 49], 1: []}\n",
      "{0: [1, 2, 3, 4, 5, 6, 7, 8, 10, 11, 12, 13, 15, 16, 17, 18, 19, 20, 21, 22, 23, 24, 25, 27, 28, 29, 30, 31, 32, 33, 34, 35, 36, 39, 40, 41, 42, 44, 45, 47, 48, 49], 1: [0, 9, 14, 26, 37, 38, 43, 46]}\n",
      "{0: [0, 1, 2, 3, 5, 6, 8, 11, 17, 19, 21, 22, 23, 27, 28, 29, 32, 36, 38, 40, 41, 42, 44, 45, 46, 48], 1: [4, 7, 9, 10, 12, 13, 14, 15, 16, 18, 20, 24, 25, 26, 30, 31, 33, 34, 35, 37, 39, 43, 47, 49]}\n",
      "{0: [6, 11, 32, 38, 41, 46, 48], 1: [0, 1, 2, 3, 4, 5, 7, 8, 9, 10, 12, 13, 14, 15, 16, 17, 18, 19, 20, 21, 22, 23, 24, 25, 26, 27, 28, 29, 30, 31, 33, 34, 35, 36, 37, 39, 40, 42, 43, 44, 45, 47, 49]}\n",
      "{0: [4, 6, 8, 10, 12, 15, 18, 22, 24, 25, 28, 29, 31, 32, 34, 38, 41, 46, 48, 49], 1: [0, 1, 2, 3, 5, 7, 9, 11, 13, 14, 16, 17, 19, 20, 21, 23, 26, 27, 30, 33, 35, 36, 37, 39, 40, 42, 43, 44, 45, 47]}\n",
      "{0: [0, 1, 2, 3, 4, 5, 6, 7, 8, 9, 10, 11, 12, 13, 14, 15, 16, 17, 18, 19, 20, 21, 22, 23, 24, 25, 26, 27, 28, 29, 30, 31, 32, 33, 34, 35, 36, 37, 38, 39, 40, 41, 42, 43, 44, 45, 46, 47, 48, 49], 1: []}\n",
      "{0: [0, 1, 3, 5, 7, 8, 9, 10, 11, 13, 15, 16, 17, 18, 19, 20, 21, 22, 23, 25, 26, 27, 28, 29, 30, 31, 32, 34, 35, 36, 38, 40, 42, 43, 47], 1: [2, 4, 6, 12, 14, 24, 33, 37, 39, 41, 44, 45, 46, 48, 49]}\n",
      "{0: [0, 2, 3, 5, 8, 9, 10, 11, 13, 16, 17, 18, 19, 20, 21, 22, 23, 25, 26, 27, 29, 30, 31, 32, 33, 34, 35, 36, 38, 39, 40, 41, 45, 47, 48], 1: [1, 4, 6, 7, 12, 14, 15, 24, 28, 37, 42, 43, 44, 46, 49]}\n",
      "{0: [2, 11, 16, 18, 20, 29, 30, 31, 32, 33, 35, 36, 38, 39, 48], 1: [0, 1, 3, 4, 5, 6, 7, 8, 9, 10, 12, 13, 14, 15, 17, 19, 21, 22, 23, 24, 25, 26, 27, 28, 34, 37, 40, 41, 42, 43, 44, 45, 46, 47, 49]}\n",
      "{0: [0, 2, 4, 5, 7, 11, 12, 13, 14, 18, 19, 20, 22, 23, 24, 25, 30, 31, 32, 33, 35, 36, 37, 39, 41, 44, 48], 1: [1, 3, 6, 8, 9, 10, 15, 16, 17, 21, 26, 27, 28, 29, 34, 38, 40, 42, 43, 45, 46, 47, 49]}\n",
      "{0: [0, 1, 2, 3, 4, 5, 6, 7, 8, 9, 10, 11, 12, 13, 14, 15, 16, 17, 18, 19, 20, 21, 22, 23, 24, 25, 26, 27, 28, 29, 30, 31, 32, 33, 34, 35, 36, 37, 38, 39, 40, 41, 42, 43, 44, 45, 46, 47, 48, 49], 1: []}\n",
      "{0: [0, 4, 6, 7, 8, 9, 10, 11, 14, 16, 18, 19, 20, 21, 22, 23, 25, 26, 27, 28, 29, 30, 33, 34, 35, 36, 37, 40, 41, 42, 43, 44, 45, 46, 47, 48], 1: [1, 2, 3, 5, 12, 13, 15, 17, 24, 31, 32, 38, 39, 49]}\n",
      "{0: [6, 7, 8, 9, 11, 16, 17, 18, 19, 21, 27, 28, 30, 33, 34, 35, 36, 37, 40, 41, 42, 43, 44, 45, 46, 47, 48], 1: [0, 1, 2, 3, 4, 5, 10, 12, 13, 14, 15, 20, 22, 23, 24, 25, 26, 29, 31, 32, 38, 39, 49]}\n",
      "{0: [7, 9, 11, 21, 29, 34, 35, 36, 40, 44, 47, 48], 1: [0, 1, 2, 3, 4, 5, 6, 8, 10, 12, 13, 14, 15, 16, 17, 18, 19, 20, 22, 23, 24, 25, 26, 27, 28, 30, 31, 32, 33, 37, 38, 39, 41, 42, 43, 45, 46, 49]}\n",
      "{0: [1, 2, 5, 7, 9, 11, 18, 19, 22, 23, 24, 26, 29, 31, 33, 36, 40, 42, 44, 46, 47, 48, 49], 1: [0, 3, 4, 6, 8, 10, 12, 13, 14, 15, 16, 17, 20, 21, 25, 27, 28, 30, 32, 34, 35, 37, 38, 39, 41, 43, 45]}\n",
      "{0: [0, 1, 2, 3, 4, 5, 6, 7, 8, 9, 10, 11, 12, 13, 14, 15, 16, 17, 18, 19, 20, 21, 22, 23, 24, 25, 26, 27, 28, 29, 30, 31, 32, 33, 34, 35, 36, 37, 38, 39, 40, 41, 42, 43, 44, 45, 46, 47, 48, 49], 1: []}\n",
      "{0: [0, 1, 2, 3, 4, 5, 8, 9, 10, 11, 12, 13, 14, 15, 16, 17, 19, 20, 22, 23, 24, 25, 26, 27, 29, 30, 32, 35, 37, 39, 40, 41, 42, 43, 44, 45, 46, 47, 49], 1: [6, 7, 18, 21, 28, 31, 33, 34, 36, 38, 48]}\n",
      "{0: [0, 1, 2, 4, 6, 7, 8, 10, 11, 13, 14, 16, 17, 19, 20, 22, 23, 24, 25, 26, 29, 31, 33, 35, 37, 39, 40, 42, 43, 44, 45, 46, 47, 49], 1: [3, 5, 9, 12, 15, 18, 21, 27, 28, 30, 32, 34, 36, 38, 41, 48]}\n",
      "{0: [0, 7, 13, 29, 31, 39, 42, 43, 44, 45, 47, 49], 1: [1, 2, 3, 4, 5, 6, 8, 9, 10, 11, 12, 14, 15, 16, 17, 18, 19, 20, 21, 22, 23, 24, 25, 26, 27, 28, 30, 32, 33, 34, 35, 36, 37, 38, 40, 41, 46, 48]}\n",
      "{0: [0, 3, 5, 6, 7, 8, 15, 18, 22, 25, 26, 31, 32, 34, 36, 41, 43, 44, 45, 47, 49], 1: [1, 2, 4, 9, 10, 11, 12, 13, 14, 16, 17, 19, 20, 21, 23, 24, 27, 28, 29, 30, 33, 35, 37, 38, 39, 40, 42, 46, 48]}\n",
      "{0: [0, 1, 2, 3, 4, 5, 6, 7, 8, 9, 10, 11, 12, 13, 14, 15, 16, 17, 18, 19, 20, 21, 22, 23, 24, 25, 26, 27, 28, 29, 30, 31, 32, 33, 34, 35, 36, 37, 38, 39, 40, 41, 42, 43, 44, 45, 46, 47, 48, 49], 1: []}\n",
      "{0: [1, 3, 4, 5, 6, 7, 9, 11, 15, 16, 17, 18, 19, 20, 21, 22, 23, 24, 25, 27, 28, 29, 30, 31, 32, 33, 35, 36, 37, 38, 39, 40, 41, 42, 47, 48, 49], 1: [0, 2, 8, 10, 12, 13, 14, 26, 34, 43, 44, 45, 46]}\n",
      "{0: [2, 4, 6, 7, 9, 11, 15, 16, 17, 18, 19, 21, 22, 23, 24, 27, 30, 32, 35, 36, 37, 42, 46, 47, 49], 1: [0, 1, 3, 5, 8, 10, 12, 13, 14, 20, 25, 26, 28, 29, 31, 33, 34, 38, 39, 40, 41, 43, 44, 45, 48]}\n",
      "{0: [0, 6, 16, 17, 23, 32, 36], 1: [1, 2, 3, 4, 5, 7, 8, 9, 10, 11, 12, 13, 14, 15, 18, 19, 20, 21, 22, 24, 25, 26, 27, 28, 29, 30, 31, 33, 34, 35, 37, 38, 39, 40, 41, 42, 43, 44, 45, 46, 47, 48, 49]}\n",
      "{0: [3, 5, 6, 8, 10, 11, 13, 14, 16, 17, 18, 19, 20, 21, 23, 24, 25, 27, 28, 29, 30, 32, 33, 35, 36, 37, 38, 41, 42, 45, 47, 48], 1: [0, 1, 2, 4, 7, 9, 12, 15, 22, 26, 31, 34, 39, 40, 43, 44, 46, 49]}\n",
      "{0: [0, 1, 2, 3, 4, 5, 6, 7, 8, 9, 10, 11, 12, 13, 14, 15, 16, 17, 18, 19, 20, 21, 22, 23, 24, 25, 26, 27, 28, 29, 30, 31, 32, 33, 34, 35, 36, 37, 38, 39, 40, 41, 42, 43, 44, 45, 46, 47, 48, 49], 1: []}\n",
      "{0: [0, 1, 2, 3, 6, 7, 9, 10, 11, 12, 13, 15, 16, 17, 18, 20, 21, 22, 24, 25, 26, 28, 29, 30, 31, 32, 33, 35, 36, 37, 38, 39, 40, 41, 42, 43, 44, 46, 47, 48], 1: [4, 5, 8, 14, 19, 23, 27, 34, 45, 49]}\n",
      "{0: [0, 1, 3, 4, 5, 6, 7, 10, 11, 12, 15, 16, 17, 19, 20, 21, 22, 25, 26, 27, 29, 30, 32, 33, 36, 37, 38, 39, 40, 41, 42, 43, 44, 47, 48, 49], 1: [2, 8, 9, 13, 14, 18, 23, 24, 28, 31, 34, 35, 45, 46]}\n",
      "{0: [0, 1, 3, 7, 10, 17, 21, 24, 32, 33, 39, 44, 47, 49], 1: [2, 4, 5, 6, 8, 9, 11, 12, 13, 14, 15, 16, 18, 19, 20, 22, 23, 25, 26, 27, 28, 29, 30, 31, 34, 35, 36, 37, 38, 40, 41, 42, 43, 45, 46, 48]}\n",
      "{0: [0, 1, 2, 3, 4, 5, 7, 10, 13, 14, 15, 16, 17, 18, 21, 24, 28, 31, 32, 33, 35, 41, 44, 47, 48, 49], 1: [6, 8, 9, 11, 12, 19, 20, 22, 23, 25, 26, 27, 29, 30, 34, 36, 37, 38, 39, 40, 42, 43, 45, 46]}\n",
      "{0: [0, 1, 2, 3, 4, 5, 6, 7, 8, 9, 10, 11, 12, 13, 14, 15, 16, 17, 18, 19, 20, 21, 22, 23, 24, 25, 26, 27, 28, 29, 30, 31, 32, 33, 34, 35, 36, 37, 38, 39, 40, 41, 42, 43, 44, 45, 46, 47, 48, 49], 1: []}\n",
      "{0: [0, 1, 2, 3, 5, 6, 8, 9, 10, 12, 13, 14, 15, 16, 18, 19, 20, 23, 25, 26, 28, 29, 30, 31, 33, 34, 35, 36, 37, 39, 40, 43, 44, 45, 46, 47], 1: [4, 7, 11, 17, 21, 22, 24, 27, 32, 38, 41, 42, 48, 49]}\n",
      "{0: [1, 2, 3, 4, 7, 10, 12, 13, 14, 16, 18, 19, 20, 23, 25, 27, 28, 29, 30, 31, 33, 34, 35, 36, 39, 43, 44, 45, 47], 1: [0, 5, 6, 8, 9, 11, 15, 17, 21, 22, 24, 26, 32, 37, 38, 40, 41, 42, 46, 48, 49]}\n",
      "{0: [3, 4, 7, 10, 18, 20, 33, 34, 36, 45], 1: [0, 1, 2, 5, 6, 8, 9, 11, 12, 13, 14, 15, 16, 17, 19, 21, 22, 23, 24, 25, 26, 27, 28, 29, 30, 31, 32, 35, 37, 38, 39, 40, 41, 42, 43, 44, 46, 47, 48, 49]}\n",
      "{0: [0, 4, 7, 9, 11, 14, 16, 20, 22, 27, 29, 30, 31, 32, 33, 34, 36, 40, 45, 47, 48], 1: [1, 2, 3, 5, 6, 8, 10, 12, 13, 15, 17, 18, 19, 21, 23, 24, 25, 26, 28, 35, 37, 38, 39, 41, 42, 43, 44, 46, 49]}\n",
      "{0: [0, 1, 2, 3, 4, 5, 6, 7, 8, 9, 10, 11, 12, 13, 14, 15, 16, 17, 18, 19, 20, 21, 22, 23, 24, 25, 26, 27, 28, 29, 30, 31, 32, 33, 34, 35, 36, 37, 38, 39, 40, 41, 42, 43, 44, 45, 46, 47, 48, 49], 1: []}\n",
      "{0: [0, 1, 2, 3, 7, 8, 9, 10, 12, 13, 14, 15, 16, 17, 18, 19, 20, 21, 22, 23, 25, 26, 27, 29, 30, 31, 32, 33, 34, 35, 36, 37, 38, 39, 40, 41, 43, 44, 45, 46, 47, 48, 49], 1: [4, 5, 6, 11, 24, 28, 42]}\n",
      "{0: [0, 1, 3, 6, 8, 9, 10, 15, 18, 19, 20, 21, 25, 29, 30, 31, 32, 33, 35, 36, 37, 38, 39, 40, 43, 45, 47], 1: [2, 4, 5, 7, 11, 12, 13, 14, 16, 17, 22, 23, 24, 26, 27, 28, 34, 41, 42, 44, 46, 48, 49]}\n",
      "{0: [6, 13, 18, 22, 29, 33, 35, 37, 43, 47], 1: [0, 1, 2, 3, 4, 5, 7, 8, 9, 10, 11, 12, 14, 15, 16, 17, 19, 20, 21, 23, 24, 25, 26, 27, 28, 30, 31, 32, 34, 36, 38, 39, 40, 41, 42, 44, 45, 46, 48, 49]}\n",
      "{0: [0, 1, 4, 6, 10, 11, 13, 15, 17, 18, 22, 23, 24, 25, 26, 29, 33, 35, 36, 37, 40, 41, 46, 48], 1: [2, 3, 5, 7, 8, 9, 12, 14, 16, 19, 20, 21, 27, 28, 30, 31, 32, 34, 38, 39, 42, 43, 44, 45, 47, 49]}\n",
      "{0: [0, 1, 2, 3, 4, 5, 6, 7, 8, 9, 10, 11, 12, 13, 14, 15, 16, 17, 18, 19, 20, 21, 22, 23, 24, 25, 26, 27, 28, 29, 30, 31, 32, 33, 34, 35, 36, 37, 38, 39, 40, 41, 42, 43, 44, 45, 46, 47, 48, 49], 1: []}\n",
      "{0: [0, 1, 2, 3, 6, 7, 8, 11, 13, 15, 16, 17, 18, 19, 20, 21, 23, 24, 25, 26, 27, 29, 32, 33, 34, 35, 36, 38, 39, 40, 42, 43, 44, 46, 47, 49], 1: [4, 5, 9, 10, 12, 14, 22, 28, 30, 31, 37, 41, 45, 48]}\n",
      "{0: [0, 1, 2, 4, 6, 7, 8, 11, 14, 17, 18, 19, 22, 23, 24, 25, 27, 28, 30, 31, 32, 35, 36, 37, 38, 39, 40, 44, 46, 47, 49], 1: [3, 5, 9, 10, 12, 13, 15, 16, 20, 21, 26, 29, 33, 34, 41, 42, 43, 45, 48]}\n",
      "{0: [4, 18, 19, 24, 27, 30, 35, 47], 1: [0, 1, 2, 3, 5, 6, 7, 8, 9, 10, 11, 12, 13, 14, 15, 16, 17, 20, 21, 22, 23, 25, 26, 28, 29, 31, 32, 33, 34, 36, 37, 38, 39, 40, 41, 42, 43, 44, 45, 46, 48, 49]}\n",
      "{0: [1, 3, 5, 7, 11, 12, 13, 18, 20, 22, 24, 27, 28, 30, 31, 33, 35, 36, 37, 38, 41, 43, 47, 49], 1: [0, 2, 4, 6, 8, 9, 10, 14, 15, 16, 17, 19, 21, 23, 25, 26, 29, 32, 34, 39, 40, 42, 44, 45, 46, 48]}\n",
      "{0: [0, 1, 2, 3, 4, 5, 6, 7, 8, 9, 10, 11, 12, 13, 14, 15, 16, 17, 18, 19, 20, 21, 22, 23, 24, 25, 26, 27, 28, 29, 30, 31, 32, 33, 34, 35, 36, 37, 38, 39, 40, 41, 42, 43, 44, 45, 46, 47, 48, 49], 1: []}\n",
      "{0: [0, 1, 3, 4, 5, 9, 10, 12, 14, 15, 17, 18, 20, 21, 23, 24, 25, 26, 28, 30, 31, 32, 33, 35, 36, 37, 38, 40, 41, 42, 45, 48], 1: [2, 6, 7, 8, 11, 13, 16, 19, 22, 27, 29, 34, 39, 43, 44, 46, 47, 49]}\n",
      "{0: [0, 3, 5, 10, 12, 14, 15, 18, 20, 23, 25, 26, 27, 28, 29, 30, 32, 33, 35, 40, 41, 45, 48, 49], 1: [1, 2, 4, 6, 7, 8, 9, 11, 13, 16, 17, 19, 21, 22, 24, 31, 34, 36, 37, 38, 39, 42, 43, 44, 46, 47]}\n",
      "{0: [0, 4, 10, 25, 40, 41, 45, 49], 1: [1, 2, 3, 5, 6, 7, 8, 9, 11, 12, 13, 14, 15, 16, 17, 18, 19, 20, 21, 22, 23, 24, 26, 27, 28, 29, 30, 31, 32, 33, 34, 35, 36, 37, 38, 39, 42, 43, 44, 46, 47, 48]}\n",
      "{0: [1, 2, 4, 8, 10, 11, 12, 15, 18, 20, 24, 25, 29, 35, 37, 38, 40, 41, 43, 45, 49], 1: [0, 3, 5, 6, 7, 9, 13, 14, 16, 17, 19, 21, 22, 23, 26, 27, 28, 30, 31, 32, 33, 34, 36, 39, 42, 44, 46, 47, 48]}\n",
      "{0: [0, 1, 2, 3, 4, 5, 6, 7, 8, 9, 10, 11, 12, 13, 14, 15, 16, 17, 18, 19, 20, 21, 22, 23, 24, 25, 26, 27, 28, 29, 30, 31, 32, 33, 34, 35, 36, 37, 38, 39, 40, 41, 42, 43, 44, 45, 46, 47, 48, 49], 1: []}\n",
      "{0: [0, 1, 5, 6, 7, 8, 9, 10, 11, 12, 13, 14, 15, 17, 19, 20, 21, 22, 23, 24, 26, 28, 29, 30, 31, 33, 34, 36, 37, 39, 41, 42, 43, 45, 46, 48, 49], 1: [2, 3, 4, 16, 18, 25, 27, 32, 35, 38, 40, 44, 47]}\n",
      "{0: [0, 1, 3, 4, 6, 7, 9, 12, 13, 14, 18, 20, 21, 23, 24, 25, 26, 28, 29, 31, 33, 34, 35, 36, 39, 41, 44], 1: [2, 5, 8, 10, 11, 15, 16, 17, 19, 22, 27, 30, 32, 37, 38, 40, 42, 43, 45, 46, 47, 48, 49]}\n",
      "{0: [1, 11, 13, 23, 24, 28, 29, 33, 35, 39, 44], 1: [0, 2, 3, 4, 5, 6, 7, 8, 9, 10, 12, 14, 15, 16, 17, 18, 19, 20, 21, 22, 25, 26, 27, 30, 31, 32, 34, 36, 37, 38, 40, 41, 42, 43, 45, 46, 47, 48, 49]}\n",
      "{0: [0, 1, 4, 8, 11, 13, 14, 15, 16, 17, 18, 19, 20, 22, 23, 24, 25, 28, 29, 30, 31, 34, 35, 37, 38, 40, 41, 44, 45, 47, 48, 49], 1: [2, 3, 5, 6, 7, 9, 10, 12, 21, 26, 27, 32, 33, 36, 39, 42, 43, 46]}\n",
      "{0: [0, 1, 2, 3, 4, 5, 6, 7, 8, 9, 10, 11, 12, 13, 14, 15, 16, 17, 18, 19, 20, 21, 22, 23, 24, 25, 26, 27, 28, 29, 30, 31, 32, 33, 34, 35, 36, 37, 38, 39, 40, 41, 42, 43, 44, 45, 46, 47, 48, 49], 1: []}\n",
      "{0: [0, 1, 3, 5, 6, 7, 8, 9, 10, 11, 13, 14, 17, 19, 20, 21, 22, 23, 24, 25, 26, 27, 29, 31, 32, 33, 35, 36, 38, 40, 41, 42, 43, 44, 48, 49], 1: [2, 4, 12, 15, 16, 18, 28, 30, 34, 37, 39, 45, 46, 47]}\n",
      "{0: [0, 1, 3, 4, 6, 13, 19, 20, 21, 23, 26, 27, 29, 31, 33, 35, 38, 40, 41, 42, 43, 44, 45, 47, 48, 49], 1: [2, 5, 7, 8, 9, 10, 11, 12, 14, 15, 16, 17, 18, 22, 24, 25, 28, 30, 32, 34, 36, 37, 39, 46]}\n",
      "{0: [1, 19, 20, 21, 23, 26, 27, 38, 40, 45, 47], 1: [0, 2, 3, 4, 5, 6, 7, 8, 9, 10, 11, 12, 13, 14, 15, 16, 17, 18, 22, 24, 25, 28, 29, 30, 31, 32, 33, 34, 35, 36, 37, 39, 41, 42, 43, 44, 46, 48, 49]}\n",
      "{0: [1, 3, 4, 5, 7, 8, 13, 15, 19, 20, 24, 25, 26, 27, 28, 29, 30, 35, 36, 37, 38, 39, 44, 45, 46, 47], 1: [0, 2, 6, 9, 10, 11, 12, 14, 16, 17, 18, 21, 22, 23, 31, 32, 33, 34, 40, 41, 42, 43, 48, 49]}\n",
      "{0: [0, 1, 2, 3, 4, 5, 6, 7, 8, 9, 10, 11, 12, 13, 14, 15, 16, 17, 18, 19, 20, 21, 22, 23, 24, 25, 26, 27, 28, 29, 30, 31, 32, 33, 34, 35, 36, 37, 38, 39, 40, 41, 42, 43, 44, 45, 46, 47, 48, 49], 1: []}\n",
      "{0: [0, 2, 3, 4, 5, 6, 7, 10, 12, 13, 17, 18, 19, 21, 23, 24, 26, 27, 29, 30, 31, 32, 33, 34, 35, 36, 38, 39, 40, 41, 42, 43, 44, 46, 48, 49], 1: [1, 8, 9, 11, 14, 15, 16, 20, 22, 25, 28, 37, 45, 47]}\n",
      "{0: [0, 1, 3, 5, 6, 8, 10, 11, 12, 17, 18, 20, 21, 25, 26, 27, 28, 29, 30, 32, 33, 35, 38, 39, 41, 42, 44, 46, 47, 48, 49], 1: [2, 4, 7, 9, 13, 14, 15, 16, 19, 22, 23, 24, 31, 34, 36, 37, 40, 43, 45]}\n",
      "{0: [12, 26, 27, 28, 29, 30, 38, 41, 46, 49], 1: [0, 1, 2, 3, 4, 5, 6, 7, 8, 9, 10, 11, 13, 14, 15, 16, 17, 18, 19, 20, 21, 22, 23, 24, 25, 31, 32, 33, 34, 35, 36, 37, 39, 40, 42, 43, 44, 45, 47, 48]}\n",
      "{0: [2, 3, 4, 10, 13, 18, 19, 22, 23, 24, 26, 28, 29, 30, 31, 33, 38, 42, 47, 49], 1: [0, 1, 5, 6, 7, 8, 9, 11, 12, 14, 15, 16, 17, 20, 21, 25, 27, 32, 34, 35, 36, 37, 39, 40, 41, 43, 44, 45, 46, 48]}\n",
      "{0: [0, 1, 2, 3, 4, 5, 6, 7, 8, 9, 10, 11, 12, 13, 14, 15, 16, 17, 18, 19, 20, 21, 22, 23, 24, 25, 26, 27, 28, 29, 30, 31, 32, 33, 34, 35, 36, 37, 38, 39, 40, 41, 42, 43, 44, 45, 46, 47, 48, 49], 1: []}\n",
      "{0: [0, 1, 3, 4, 5, 7, 9, 11, 12, 14, 15, 18, 19, 22, 23, 24, 25, 26, 27, 28, 29, 31, 32, 33, 34, 37, 38, 41, 42, 45, 46, 47, 49], 1: [2, 6, 8, 10, 13, 16, 17, 20, 21, 30, 35, 36, 39, 40, 43, 44, 48]}\n",
      "{0: [0, 1, 2, 3, 4, 6, 11, 14, 15, 16, 22, 23, 24, 25, 26, 28, 29, 30, 31, 32, 33, 34, 35, 37, 38, 41, 42, 45, 46, 48, 49], 1: [5, 7, 8, 9, 10, 12, 13, 17, 18, 19, 20, 21, 27, 36, 39, 40, 43, 44, 47]}\n",
      "{0: [0, 3, 11, 14, 23, 25, 29, 30, 33, 35, 42], 1: [1, 2, 4, 5, 6, 7, 8, 9, 10, 12, 13, 15, 16, 17, 18, 19, 20, 21, 22, 24, 26, 27, 28, 31, 32, 34, 36, 37, 38, 39, 40, 41, 43, 44, 45, 46, 47, 48, 49]}\n",
      "{0: [0, 8, 10, 17, 19, 23, 25, 27, 29, 30, 33, 35, 36, 38, 39, 40, 42, 43, 46], 1: [1, 2, 3, 4, 5, 6, 7, 9, 11, 12, 13, 14, 15, 16, 18, 20, 21, 22, 24, 26, 28, 31, 32, 34, 37, 41, 44, 45, 47, 48, 49]}\n",
      "{0: [0, 1, 2, 3, 4, 5, 6, 7, 8, 9, 10, 11, 12, 13, 14, 15, 16, 17, 18, 19, 20, 21, 22, 23, 24, 25, 26, 27, 28, 29, 30, 31, 32, 33, 34, 35, 36, 37, 38, 39, 40, 41, 42, 43, 44, 45, 46, 47, 48, 49], 1: []}\n",
      "{0: [0, 2, 3, 4, 5, 6, 7, 9, 10, 11, 14, 15, 17, 19, 20, 21, 22, 23, 25, 26, 27, 28, 29, 30, 31, 33, 34, 35, 37, 38, 40, 42, 43, 44, 45, 46, 47, 49], 1: [1, 8, 12, 13, 16, 18, 24, 32, 36, 39, 41, 48]}\n",
      "{0: [0, 2, 5, 6, 9, 10, 11, 15, 17, 20, 22, 23, 26, 27, 30, 31, 34, 35, 37, 39, 42, 43, 46, 47, 48, 49], 1: [1, 3, 4, 7, 8, 12, 13, 14, 16, 18, 19, 21, 24, 25, 28, 29, 32, 33, 36, 38, 40, 41, 44, 45]}\n",
      "{0: [10, 23, 34, 43, 49], 1: [0, 1, 2, 3, 4, 5, 6, 7, 8, 9, 11, 12, 13, 14, 15, 16, 17, 18, 19, 20, 21, 22, 24, 25, 26, 27, 28, 29, 30, 31, 32, 33, 35, 36, 37, 38, 39, 40, 41, 42, 44, 45, 46, 47, 48]}\n",
      "{0: [1, 3, 4, 7, 11, 16, 17, 20, 22, 23, 24, 26, 27, 32, 34, 37, 39, 41, 42, 43, 44, 45, 48, 49], 1: [0, 2, 5, 6, 8, 9, 10, 12, 13, 14, 15, 18, 19, 21, 25, 28, 29, 30, 31, 33, 35, 36, 38, 40, 46, 47]}\n",
      "{0: [0, 1, 2, 3, 4, 5, 6, 7, 8, 9, 10, 11, 12, 13, 14, 15, 16, 17, 18, 19, 20, 21, 22, 23, 24, 25, 26, 27, 28, 29, 30, 31, 32, 33, 34, 35, 36, 37, 38, 39, 40, 41, 42, 43, 44, 45, 46, 47, 48, 49], 1: []}\n",
      "{0: [0, 1, 2, 4, 5, 6, 8, 9, 10, 11, 12, 13, 14, 15, 16, 17, 19, 20, 21, 22, 23, 25, 26, 27, 28, 29, 30, 31, 32, 33, 34, 35, 36, 38, 39, 40, 41, 42, 43, 44, 46, 48, 49], 1: [3, 7, 18, 24, 37, 45, 47]}\n",
      "{0: [2, 4, 6, 7, 9, 10, 11, 12, 13, 14, 15, 16, 17, 18, 19, 21, 22, 23, 24, 25, 27, 28, 29, 30, 31, 32, 34, 35, 36, 37, 39, 41, 42, 48, 49], 1: [0, 1, 3, 5, 8, 20, 26, 33, 38, 40, 43, 44, 45, 46, 47]}\n",
      "{0: [6, 10, 13, 15, 16, 17, 18, 22, 29, 36, 37, 49], 1: [0, 1, 2, 3, 4, 5, 7, 8, 9, 11, 12, 14, 19, 20, 21, 23, 24, 25, 26, 27, 28, 30, 31, 32, 33, 34, 35, 38, 39, 40, 41, 42, 43, 44, 45, 46, 47, 48]}\n",
      "{0: [7, 8, 11, 12, 13, 14, 15, 16, 17, 18, 21, 22, 23, 25, 26, 29, 31, 32, 33, 37, 38, 41, 45, 49], 1: [0, 1, 2, 3, 4, 5, 6, 9, 10, 19, 20, 24, 27, 28, 30, 34, 35, 36, 39, 40, 42, 43, 44, 46, 47, 48]}\n",
      "{0: [0, 1, 2, 3, 4, 5, 6, 7, 8, 9, 10, 11, 12, 13, 14, 15, 16, 17, 18, 19, 20, 21, 22, 23, 24, 25, 26, 27, 28, 29, 30, 31, 32, 33, 34, 35, 36, 37, 38, 39, 40, 41, 42, 43, 44, 45, 46, 47, 48, 49], 1: []}\n",
      "{0: [0, 1, 2, 4, 6, 9, 10, 11, 12, 13, 15, 16, 17, 19, 20, 21, 22, 23, 24, 25, 26, 27, 28, 31, 32, 34, 35, 36, 37, 38, 40, 42, 43, 44, 45, 47, 48, 49], 1: [3, 5, 7, 8, 14, 18, 29, 30, 33, 39, 41, 46]}\n",
      "{0: [0, 1, 2, 3, 6, 7, 11, 12, 13, 14, 15, 16, 19, 20, 22, 23, 25, 26, 27, 28, 29, 31, 33, 34, 35, 37, 38, 39, 42, 43, 44, 45, 47, 48, 49], 1: [4, 5, 8, 9, 10, 17, 18, 21, 24, 30, 32, 36, 40, 41, 46]}\n",
      "{0: [7, 10, 11, 14, 25, 33, 37, 38, 39, 44], 1: [0, 1, 2, 3, 4, 5, 6, 8, 9, 12, 13, 15, 16, 17, 18, 19, 20, 21, 22, 23, 24, 26, 27, 28, 29, 30, 31, 32, 34, 35, 36, 40, 41, 42, 43, 45, 46, 47, 48, 49]}\n",
      "{0: [5, 6, 7, 10, 11, 12, 14, 15, 16, 18, 19, 21, 22, 25, 26, 29, 32, 33, 36, 37, 38, 39, 40, 41, 43, 44, 45, 46, 47, 48], 1: [0, 1, 2, 3, 4, 8, 9, 13, 17, 20, 23, 24, 27, 28, 30, 31, 34, 35, 42, 49]}\n",
      "{0: [0, 1, 2, 3, 4, 5, 6, 7, 8, 9, 10, 11, 12, 13, 14, 15, 16, 17, 18, 19, 20, 21, 22, 23, 24, 25, 26, 27, 28, 29, 30, 31, 32, 33, 34, 35, 36, 37, 38, 39, 40, 41, 42, 43, 44, 45, 46, 47, 48, 49], 1: []}\n",
      "{0: [2, 3, 6, 7, 8, 9, 10, 11, 12, 13, 14, 15, 16, 17, 18, 19, 20, 21, 22, 23, 26, 27, 29, 30, 31, 32, 33, 34, 35, 38, 39, 40, 41, 42, 43, 45, 48, 49], 1: [0, 1, 4, 5, 24, 25, 28, 36, 37, 44, 46, 47]}\n",
      "{0: [2, 6, 8, 10, 11, 12, 13, 14, 17, 18, 19, 20, 21, 23, 24, 25, 27, 28, 29, 31, 33, 36, 39, 40, 43, 48, 49], 1: [0, 1, 3, 4, 5, 7, 9, 15, 16, 22, 26, 30, 32, 34, 35, 37, 38, 41, 42, 44, 45, 46, 47]}\n",
      "{0: [2, 8, 10, 11, 14, 19, 21, 28, 31, 40, 43, 48], 1: [0, 1, 3, 4, 5, 6, 7, 9, 12, 13, 15, 16, 17, 18, 20, 22, 23, 24, 25, 26, 27, 29, 30, 32, 33, 34, 35, 36, 37, 38, 39, 41, 42, 44, 45, 46, 47, 49]}\n",
      "{0: [0, 1, 2, 4, 7, 8, 9, 10, 11, 12, 14, 15, 18, 19, 20, 22, 25, 26, 28, 31, 32, 33, 34, 36, 37, 38, 39, 40, 42, 48], 1: [3, 5, 6, 13, 16, 17, 21, 23, 24, 27, 29, 30, 35, 41, 43, 44, 45, 46, 47, 49]}\n",
      "{0: [0, 1, 2, 3, 4, 5, 6, 7, 8, 9, 10, 11, 12, 13, 14, 15, 16, 17, 18, 19, 20, 21, 22, 23, 24, 25, 26, 27, 28, 29, 30, 31, 32, 33, 34, 35, 36, 37, 38, 39, 40, 41, 42, 43, 44, 45, 46, 47, 48, 49], 1: []}\n",
      "{0: [1, 2, 6, 7, 8, 11, 12, 13, 14, 15, 16, 17, 18, 22, 25, 26, 27, 28, 30, 32, 33, 34, 35, 38, 39, 40, 41, 42, 43, 44, 45, 46, 48], 1: [0, 3, 4, 5, 9, 10, 19, 20, 21, 23, 24, 29, 31, 36, 37, 47, 49]}\n",
      "{0: [0, 1, 2, 7, 8, 12, 13, 14, 15, 16, 18, 22, 24, 25, 26, 27, 28, 30, 33, 37, 38, 39, 40, 41, 42, 43, 44, 45, 46, 47, 48], 1: [3, 4, 5, 6, 9, 10, 11, 17, 19, 20, 21, 23, 29, 31, 32, 34, 35, 36, 49]}\n",
      "{0: [15, 22, 24, 26, 37, 38, 39, 40, 47], 1: [0, 1, 2, 3, 4, 5, 6, 7, 8, 9, 10, 11, 12, 13, 14, 16, 17, 18, 19, 20, 21, 23, 25, 27, 28, 29, 30, 31, 32, 33, 34, 35, 36, 41, 42, 43, 44, 45, 46, 48, 49]}\n",
      "{0: [4, 5, 6, 10, 13, 15, 16, 18, 19, 21, 24, 25, 26, 27, 32, 37, 38, 39, 40, 44, 47], 1: [0, 1, 2, 3, 7, 8, 9, 11, 12, 14, 17, 20, 22, 23, 28, 29, 30, 31, 33, 34, 35, 36, 41, 42, 43, 45, 46, 48, 49]}\n",
      "{0: [0, 1, 2, 3, 4, 5, 6, 7, 8, 9, 10, 11, 12, 13, 14, 15, 16, 17, 18, 19, 20, 21, 22, 23, 24, 25, 26, 27, 28, 29, 30, 31, 32, 33, 34, 35, 36, 37, 38, 39, 40, 41, 42, 43, 44, 45, 46, 47, 48, 49], 1: []}\n",
      "{0: [1, 6, 7, 8, 10, 11, 15, 16, 17, 18, 19, 21, 22, 23, 24, 26, 28, 29, 30, 31, 32, 33, 34, 36, 38, 39, 40, 42, 44, 48, 49], 1: [0, 2, 3, 4, 5, 9, 12, 13, 14, 20, 25, 27, 35, 37, 41, 43, 45, 46, 47]}\n",
      "{0: [1, 2, 4, 6, 8, 10, 13, 15, 18, 19, 20, 21, 23, 24, 26, 27, 28, 31, 32, 33, 34, 36, 38, 39, 40, 44, 49], 1: [0, 3, 5, 7, 9, 11, 12, 14, 16, 17, 22, 25, 29, 30, 35, 37, 41, 42, 43, 45, 46, 47, 48]}\n",
      "{0: [2, 4, 8, 20, 21, 24, 28, 33], 1: [0, 1, 3, 5, 6, 7, 9, 10, 11, 12, 13, 14, 15, 16, 17, 18, 19, 22, 23, 25, 26, 27, 29, 30, 31, 32, 34, 35, 36, 37, 38, 39, 40, 41, 42, 43, 44, 45, 46, 47, 48, 49]}\n",
      "{0: [2, 4, 6, 7, 8, 9, 11, 17, 18, 20, 21, 22, 24, 26, 31, 33, 36, 39, 40, 42, 47], 1: [0, 1, 3, 5, 10, 12, 13, 14, 15, 16, 19, 23, 25, 27, 28, 29, 30, 32, 34, 35, 37, 38, 41, 43, 44, 45, 46, 48, 49]}\n",
      "{0: [0, 1, 2, 3, 4, 5, 6, 7, 8, 9, 10, 11, 12, 13, 14, 15, 16, 17, 18, 19, 20, 21, 22, 23, 24, 25, 26, 27, 28, 29, 30, 31, 32, 33, 34, 35, 36, 37, 38, 39, 40, 41, 42, 43, 44, 45, 46, 47, 48, 49], 1: []}\n",
      "{0: [0, 1, 2, 3, 4, 5, 6, 7, 8, 9, 10, 11, 12, 14, 15, 16, 17, 19, 21, 23, 24, 25, 26, 27, 29, 30, 31, 32, 33, 34, 35, 36, 37, 38, 40, 41, 42, 43, 44, 45, 47, 48, 49], 1: [13, 18, 20, 22, 28, 39, 46]}\n",
      "{0: [0, 1, 2, 3, 4, 5, 6, 7, 9, 10, 11, 12, 15, 16, 17, 19, 23, 25, 26, 27, 32, 34, 35, 36, 39, 40, 41, 42, 43, 44, 47, 49], 1: [8, 13, 14, 18, 20, 21, 22, 24, 28, 29, 30, 31, 33, 37, 38, 45, 46, 48]}\n",
      "{0: [0, 2, 3, 5, 7, 10, 15, 16, 26, 32, 34, 35, 39, 41, 44], 1: [1, 4, 6, 8, 9, 11, 12, 13, 14, 17, 18, 19, 20, 21, 22, 23, 24, 25, 27, 28, 29, 30, 31, 33, 36, 37, 38, 40, 42, 43, 45, 46, 47, 48, 49]}\n",
      "{0: [0, 2, 3, 4, 7, 8, 11, 14, 18, 22, 23, 26, 31, 32, 37, 38, 39, 40, 43, 44, 46], 1: [1, 5, 6, 9, 10, 12, 13, 15, 16, 17, 19, 20, 21, 24, 25, 27, 28, 29, 30, 33, 34, 35, 36, 41, 42, 45, 47, 48, 49]}\n",
      "{0: [0, 1, 2, 3, 4, 5, 6, 7, 8, 9, 10, 11, 12, 13, 14, 15, 16, 17, 18, 19, 20, 21, 22, 23, 24, 25, 26, 27, 28, 29, 30, 31, 32, 33, 34, 35, 36, 37, 38, 39, 40, 41, 42, 43, 44, 45, 46, 47, 48, 49], 1: []}\n",
      "{0: [0, 3, 4, 6, 7, 9, 10, 11, 12, 13, 14, 15, 16, 17, 18, 19, 20, 21, 22, 23, 24, 25, 26, 27, 28, 30, 31, 32, 33, 34, 35, 39, 40, 41, 42, 43, 44, 45, 47, 48, 49], 1: [1, 2, 5, 8, 29, 36, 37, 38, 46]}\n",
      "{0: [1, 4, 6, 7, 9, 11, 14, 15, 16, 17, 18, 19, 20, 21, 22, 25, 27, 28, 30, 32, 33, 34, 35, 37, 40, 42, 43, 44, 45, 47, 49], 1: [0, 2, 3, 5, 8, 10, 12, 13, 23, 24, 26, 29, 31, 36, 38, 39, 41, 46, 48]}\n",
      "{0: [1, 6, 9, 17, 20, 42, 45], 1: [0, 2, 3, 4, 5, 7, 8, 10, 11, 12, 13, 14, 15, 16, 18, 19, 21, 22, 23, 24, 25, 26, 27, 28, 29, 30, 31, 32, 33, 34, 35, 36, 37, 38, 39, 40, 41, 43, 44, 46, 47, 48, 49]}\n",
      "{0: [0, 1, 5, 8, 13, 15, 17, 18, 19, 20, 22, 24, 26, 27, 28, 29, 31, 33, 35, 36, 38, 39, 42, 43, 45, 48], 1: [2, 3, 4, 6, 7, 9, 10, 11, 12, 14, 16, 21, 23, 25, 30, 32, 34, 37, 40, 41, 44, 46, 47, 49]}\n",
      "{0: [0, 1, 2, 3, 4, 5, 6, 7, 8, 9, 10, 11, 12, 13, 14, 15, 16, 17, 18, 19, 20, 21, 22, 23, 24, 25, 26, 27, 28, 29, 30, 31, 32, 33, 34, 35, 36, 37, 38, 39, 40, 41, 42, 43, 44, 45, 46, 47, 48, 49], 1: []}\n",
      "{0: [2, 3, 5, 6, 8, 9, 10, 11, 12, 15, 18, 20, 21, 24, 25, 27, 30, 31, 32, 33, 35, 36, 37, 41, 42, 43, 44, 47, 48], 1: [0, 1, 4, 7, 13, 14, 16, 17, 19, 22, 23, 26, 28, 29, 34, 38, 39, 40, 45, 46, 49]}\n",
      "{0: [2, 5, 6, 7, 8, 9, 11, 12, 13, 16, 18, 21, 24, 25, 27, 30, 31, 33, 35, 36, 37, 42, 43, 47, 48], 1: [0, 1, 3, 4, 10, 14, 15, 17, 19, 20, 22, 23, 26, 28, 29, 32, 34, 38, 39, 40, 41, 44, 45, 46, 49]}\n",
      "{0: [5, 7, 9, 13, 16, 21, 27, 42], 1: [0, 1, 2, 3, 4, 6, 8, 10, 11, 12, 14, 15, 17, 18, 19, 20, 22, 23, 24, 25, 26, 28, 29, 30, 31, 32, 33, 34, 35, 36, 37, 38, 39, 40, 41, 43, 44, 45, 46, 47, 48, 49]}\n",
      "{0: [4, 5, 6, 7, 8, 10, 13, 14, 16, 17, 20, 21, 22, 26, 27, 30, 34, 35, 38, 41, 42, 44, 48], 1: [0, 1, 2, 3, 9, 11, 12, 15, 18, 19, 23, 24, 25, 28, 29, 31, 32, 33, 36, 37, 39, 40, 43, 45, 46, 47, 49]}\n",
      "{0: [0, 1, 2, 3, 4, 5, 6, 7, 8, 9, 10, 11, 12, 13, 14, 15, 16, 17, 18, 19, 20, 21, 22, 23, 24, 25, 26, 27, 28, 29, 30, 31, 32, 33, 34, 35, 36, 37, 38, 39, 40, 41, 42, 43, 44, 45, 46, 47, 48, 49], 1: []}\n",
      "{0: [0, 1, 2, 4, 5, 6, 7, 8, 10, 14, 15, 17, 18, 19, 20, 21, 22, 24, 28, 29, 30, 31, 32, 33, 34, 35, 36, 37, 38, 42, 43, 44, 46, 47], 1: [3, 9, 11, 12, 13, 16, 23, 25, 26, 27, 39, 40, 41, 45, 48, 49]}\n",
      "{0: [1, 4, 5, 6, 7, 8, 14, 15, 17, 18, 20, 21, 24, 28, 29, 32, 33, 34, 35, 38, 39, 42, 43, 44, 45, 46, 47], 1: [0, 2, 3, 9, 10, 11, 12, 13, 16, 19, 22, 23, 25, 26, 27, 30, 31, 36, 37, 40, 41, 48, 49]}\n",
      "{0: [4, 6, 15, 18, 20, 21, 24, 33, 35, 38, 39, 42, 45], 1: [0, 1, 2, 3, 5, 7, 8, 9, 10, 11, 12, 13, 14, 16, 17, 19, 22, 23, 25, 26, 27, 28, 29, 30, 31, 32, 34, 36, 37, 40, 41, 43, 44, 46, 47, 48, 49]}\n",
      "{0: [0, 2, 3, 4, 6, 8, 9, 14, 15, 17, 18, 20, 21, 24, 30, 31, 32, 33, 38, 39, 41, 42, 43, 45, 48], 1: [1, 5, 7, 10, 11, 12, 13, 16, 19, 22, 23, 25, 26, 27, 28, 29, 34, 35, 36, 37, 40, 44, 46, 47, 49]}\n",
      "{0: [0, 1, 2, 3, 4, 5, 6, 7, 8, 9, 10, 11, 12, 13, 14, 15, 16, 17, 18, 19, 20, 21, 22, 23, 24, 25, 26, 27, 28, 29, 30, 31, 32, 33, 34, 35, 36, 37, 38, 39, 40, 41, 42, 43, 44, 45, 46, 47, 48, 49], 1: []}\n",
      "{0: [0, 1, 2, 3, 4, 5, 6, 9, 12, 13, 14, 15, 16, 17, 18, 19, 21, 22, 23, 24, 25, 26, 28, 30, 31, 33, 34, 36, 37, 38, 39, 40, 41, 42, 43, 45, 46, 48, 49], 1: [7, 8, 10, 11, 20, 27, 29, 32, 35, 44, 47]}\n",
      "{0: [2, 5, 9, 13, 14, 16, 18, 20, 21, 22, 23, 25, 26, 27, 28, 33, 34, 37, 38, 40, 42, 43, 44, 45, 47, 49], 1: [0, 1, 3, 4, 6, 7, 8, 10, 11, 12, 15, 17, 19, 24, 29, 30, 31, 32, 35, 36, 39, 41, 46, 48]}\n",
      "{0: [12, 13, 14, 18, 23, 28, 34, 38, 40, 42, 43], 1: [0, 1, 2, 3, 4, 5, 6, 7, 8, 9, 10, 11, 15, 16, 17, 19, 20, 21, 22, 24, 25, 26, 27, 29, 30, 31, 32, 33, 35, 36, 37, 39, 41, 44, 45, 46, 47, 48, 49]}\n",
      "{0: [0, 4, 5, 6, 7, 8, 9, 13, 14, 17, 18, 19, 21, 22, 23, 25, 26, 27, 28, 34, 38, 40, 41, 43, 44, 46], 1: [1, 2, 3, 10, 11, 12, 15, 16, 20, 24, 29, 30, 31, 32, 33, 35, 36, 37, 39, 42, 45, 47, 48, 49]}\n",
      "{0: [0, 1, 2, 3, 4, 5, 6, 7, 8, 9, 10, 11, 12, 13, 14, 15, 16, 17, 18, 19, 20, 21, 22, 23, 24, 25, 26, 27, 28, 29, 30, 31, 32, 33, 34, 35, 36, 37, 38, 39, 40, 41, 42, 43, 44, 45, 46, 47, 48, 49], 1: []}\n",
      "{0: [1, 5, 7, 8, 10, 11, 12, 13, 15, 16, 17, 18, 19, 20, 21, 22, 23, 24, 28, 29, 30, 31, 32, 33, 34, 35, 36, 37, 38, 40, 41, 42, 43, 44, 45, 46, 47, 48, 49], 1: [0, 2, 3, 4, 6, 9, 14, 25, 26, 27, 39]}\n",
      "{0: [1, 5, 9, 10, 12, 13, 17, 18, 20, 21, 22, 23, 24, 26, 28, 29, 31, 32, 33, 34, 35, 36, 37, 38, 42, 43, 47, 48, 49], 1: [0, 2, 3, 4, 6, 7, 8, 11, 14, 15, 16, 19, 25, 27, 30, 39, 40, 41, 44, 45, 46]}\n",
      "{0: [5, 9, 18, 24, 26, 28, 29, 35, 36, 37, 42, 48], 1: [0, 1, 2, 3, 4, 6, 7, 8, 10, 11, 12, 13, 14, 15, 16, 17, 19, 20, 21, 22, 23, 25, 27, 30, 31, 32, 33, 34, 38, 39, 40, 41, 43, 44, 45, 46, 47, 49]}\n",
      "{0: [0, 2, 3, 5, 6, 7, 9, 10, 14, 15, 21, 23, 26, 30, 31, 33, 34, 35, 36, 37, 40, 42, 43], 1: [1, 4, 8, 11, 12, 13, 16, 17, 18, 19, 20, 22, 24, 25, 27, 28, 29, 32, 38, 39, 41, 44, 45, 46, 47, 48, 49]}\n",
      "{0: [0, 1, 2, 3, 4, 5, 6, 7, 8, 9, 10, 11, 12, 13, 14, 15, 16, 17, 18, 19, 20, 21, 22, 23, 24, 25, 26, 27, 28, 29, 30, 31, 32, 33, 34, 35, 36, 37, 38, 39, 40, 41, 42, 43, 44, 45, 46, 47, 48, 49], 1: []}\n",
      "{0: [0, 1, 2, 3, 5, 6, 8, 9, 11, 12, 15, 16, 17, 18, 20, 22, 23, 24, 25, 26, 27, 28, 29, 30, 32, 35, 36, 38, 39, 41, 42, 43, 46, 47, 48], 1: [4, 7, 10, 13, 14, 19, 21, 31, 33, 34, 37, 40, 44, 45, 49]}\n",
      "{0: [1, 2, 3, 5, 6, 8, 11, 12, 14, 15, 16, 17, 18, 20, 21, 23, 24, 27, 28, 36, 38, 39, 44, 46, 47, 48], 1: [0, 4, 7, 9, 10, 13, 19, 22, 25, 26, 29, 30, 31, 32, 33, 34, 35, 37, 40, 41, 42, 43, 45, 49]}\n",
      "{0: [6, 11, 12, 14, 15, 23, 24, 36, 39, 44, 46], 1: [0, 1, 2, 3, 4, 5, 7, 8, 9, 10, 13, 16, 17, 18, 19, 20, 21, 22, 25, 26, 27, 28, 29, 30, 31, 32, 33, 34, 35, 37, 38, 40, 41, 42, 43, 45, 47, 48, 49]}\n",
      "{0: [2, 3, 4, 5, 6, 7, 8, 9, 10, 11, 14, 15, 17, 18, 19, 23, 24, 34, 36, 37, 39, 42, 44, 46, 48], 1: [0, 1, 12, 13, 16, 20, 21, 22, 25, 26, 27, 28, 29, 30, 31, 32, 33, 35, 38, 40, 41, 43, 45, 47, 49]}\n",
      "{0: [0, 1, 2, 3, 4, 5, 6, 7, 8, 9, 10, 11, 12, 13, 14, 15, 16, 17, 18, 19, 20, 21, 22, 23, 24, 25, 26, 27, 28, 29, 30, 31, 32, 33, 34, 35, 36, 37, 38, 39, 40, 41, 42, 43, 44, 45, 46, 47, 48, 49], 1: []}\n",
      "{0: [0, 1, 3, 4, 6, 10, 11, 13, 14, 15, 18, 19, 20, 22, 23, 24, 25, 26, 27, 28, 29, 30, 32, 33, 34, 35, 36, 37, 38, 39, 40, 42, 43, 45, 47, 48], 1: [2, 5, 7, 8, 9, 12, 16, 17, 21, 31, 41, 44, 46, 49]}\n",
      "{0: [0, 2, 3, 5, 6, 7, 8, 9, 11, 14, 15, 18, 19, 22, 23, 27, 29, 30, 32, 33, 34, 35, 37, 38, 39, 43, 45, 46, 47, 48], 1: [1, 4, 10, 12, 13, 16, 17, 20, 21, 24, 25, 26, 28, 31, 36, 40, 41, 42, 44, 49]}\n",
      "{0: [6, 8, 11, 15, 27, 29, 32, 33, 37, 38, 39, 45], 1: [0, 1, 2, 3, 4, 5, 7, 9, 10, 12, 13, 14, 16, 17, 18, 19, 20, 21, 22, 23, 24, 25, 26, 28, 30, 31, 34, 35, 36, 40, 41, 42, 43, 44, 46, 47, 48, 49]}\n",
      "{0: [2, 3, 5, 11, 14, 15, 17, 20, 22, 24, 27, 29, 33, 35, 39], 1: [0, 1, 4, 6, 7, 8, 9, 10, 12, 13, 16, 18, 19, 21, 23, 25, 26, 28, 30, 31, 32, 34, 36, 37, 38, 40, 41, 42, 43, 44, 45, 46, 47, 48, 49]}\n",
      "{0: [0, 1, 2, 3, 4, 5, 6, 7, 8, 9, 10, 11, 12, 13, 14, 15, 16, 17, 18, 19, 20, 21, 22, 23, 24, 25, 26, 27, 28, 29, 30, 31, 32, 33, 34, 35, 36, 37, 38, 39, 40, 41, 42, 43, 44, 45, 46, 47, 48, 49], 1: []}\n",
      "{0: [0, 2, 4, 5, 6, 7, 10, 11, 13, 14, 15, 16, 18, 19, 20, 21, 23, 24, 25, 27, 28, 29, 30, 31, 33, 35, 36, 37, 38, 39, 42, 43, 44, 45, 47, 48, 49], 1: [1, 3, 8, 9, 12, 17, 22, 26, 32, 34, 40, 41, 46]}\n",
      "{0: [0, 1, 2, 5, 6, 7, 8, 9, 10, 12, 13, 18, 19, 22, 23, 24, 25, 26, 27, 29, 30, 31, 33, 34, 35, 36, 38, 39, 40, 42, 43, 47, 49], 1: [3, 4, 11, 14, 15, 16, 17, 20, 21, 28, 32, 37, 41, 44, 45, 46, 48]}\n",
      "{0: [0, 8, 9, 10, 12, 18, 22, 26, 30, 31, 35, 36, 40], 1: [1, 2, 3, 4, 5, 6, 7, 11, 13, 14, 15, 16, 17, 19, 20, 21, 23, 24, 25, 27, 28, 29, 32, 33, 34, 37, 38, 39, 41, 42, 43, 44, 45, 46, 47, 48, 49]}\n",
      "{0: [0, 1, 4, 6, 8, 9, 10, 12, 16, 18, 20, 22, 24, 26, 28, 31, 34, 36, 40, 41, 44, 45, 47], 1: [2, 3, 5, 7, 11, 13, 14, 15, 17, 19, 21, 23, 25, 27, 29, 30, 32, 33, 35, 37, 38, 39, 42, 43, 46, 48, 49]}\n",
      "{0: [0, 1, 2, 3, 4, 5, 6, 7, 8, 9, 10, 11, 12, 13, 14, 15, 16, 17, 18, 19, 20, 21, 22, 23, 24, 25, 26, 27, 28, 29, 30, 31, 32, 33, 34, 35, 36, 37, 38, 39, 40, 41, 42, 43, 44, 45, 46, 47, 48, 49], 1: []}\n",
      "{0: [0, 1, 2, 5, 6, 7, 8, 9, 10, 11, 12, 13, 14, 15, 16, 17, 19, 20, 22, 23, 24, 25, 27, 28, 29, 31, 32, 33, 35, 36, 38, 39, 40, 41, 43, 44, 45, 46, 47, 48, 49], 1: [3, 4, 18, 21, 26, 30, 34, 37, 42]}\n",
      "{0: [0, 2, 3, 7, 10, 11, 12, 13, 14, 15, 16, 17, 19, 20, 22, 24, 27, 29, 30, 31, 32, 33, 35, 36, 37, 39, 41, 43, 44, 45, 46, 47, 48], 1: [1, 4, 5, 6, 8, 9, 18, 21, 23, 25, 26, 28, 34, 38, 40, 42, 49]}\n",
      "{0: [11, 20, 26, 27, 30, 31, 33, 36, 37, 43, 44, 46], 1: [0, 1, 2, 3, 4, 5, 6, 7, 8, 9, 10, 12, 13, 14, 15, 16, 17, 18, 19, 21, 22, 23, 24, 25, 28, 29, 32, 34, 35, 38, 39, 40, 41, 42, 45, 47, 48, 49]}\n",
      "{0: [0, 2, 3, 4, 7, 8, 11, 13, 14, 15, 17, 18, 19, 20, 21, 22, 25, 26, 30, 31, 32, 33, 34, 37, 39, 43, 44, 45, 46, 49], 1: [1, 5, 6, 9, 10, 12, 16, 23, 24, 27, 28, 29, 35, 36, 38, 40, 41, 42, 47, 48]}\n",
      "{0: [0, 1, 2, 3, 4, 5, 6, 7, 8, 9, 10, 11, 12, 13, 14, 15, 16, 17, 18, 19, 20, 21, 22, 23, 24, 25, 26, 27, 28, 29, 30, 31, 32, 33, 34, 35, 36, 37, 38, 39, 40, 41, 42, 43, 44, 45, 46, 47, 48, 49], 1: []}\n",
      "{0: [1, 3, 5, 7, 10, 13, 14, 18, 19, 20, 22, 23, 24, 27, 28, 29, 30, 31, 33, 34, 35, 36, 37, 39, 41, 42, 43, 44, 45, 47, 48], 1: [0, 2, 4, 6, 8, 9, 11, 12, 15, 16, 17, 21, 25, 26, 32, 38, 40, 46, 49]}\n",
      "{0: [1, 2, 5, 6, 7, 10, 13, 16, 17, 18, 19, 20, 22, 23, 27, 28, 29, 30, 31, 32, 33, 37, 39, 41, 42, 43, 45, 47, 48, 49], 1: [0, 3, 4, 8, 9, 11, 12, 14, 15, 21, 24, 25, 26, 34, 35, 36, 38, 40, 44, 46]}\n",
      "{0: [2, 6, 13, 16, 17, 18, 19, 20, 22, 23, 28, 29, 32, 39, 49], 1: [0, 1, 3, 4, 5, 7, 8, 9, 10, 11, 12, 14, 15, 21, 24, 25, 26, 27, 30, 31, 33, 34, 35, 36, 37, 38, 40, 41, 42, 43, 44, 45, 46, 47, 48]}\n",
      "{0: [2, 6, 11, 14, 15, 16, 17, 18, 20, 22, 23, 24, 25, 29, 30, 42, 45, 48, 49], 1: [0, 1, 3, 4, 5, 7, 8, 9, 10, 12, 13, 19, 21, 26, 27, 28, 31, 32, 33, 34, 35, 36, 37, 38, 39, 40, 41, 43, 44, 46, 47]}\n",
      "{0: [0, 1, 2, 3, 4, 5, 6, 7, 8, 9, 10, 11, 12, 13, 14, 15, 16, 17, 18, 19, 20, 21, 22, 23, 24, 25, 26, 27, 28, 29, 30, 31, 32, 33, 34, 35, 36, 37, 38, 39, 40, 41, 42, 43, 44, 45, 46, 47, 48, 49], 1: []}\n",
      "{0: [1, 2, 3, 5, 6, 8, 10, 11, 12, 13, 14, 16, 17, 18, 19, 20, 21, 22, 23, 24, 25, 26, 27, 28, 29, 30, 31, 32, 34, 35, 36, 37, 41, 44, 45, 46, 47, 48, 49], 1: [0, 4, 7, 9, 15, 33, 38, 39, 40, 42, 43]}\n",
      "{0: [1, 2, 3, 6, 10, 11, 13, 14, 18, 19, 20, 21, 24, 25, 27, 28, 30, 31, 32, 33, 34, 35, 36, 43, 44, 45, 46, 47, 49], 1: [0, 4, 5, 7, 8, 9, 12, 15, 16, 17, 22, 23, 26, 29, 37, 38, 39, 40, 41, 42, 48]}\n",
      "{0: [2, 6, 10, 11, 13, 18, 20, 21, 32, 34, 41, 44, 46], 1: [0, 1, 3, 4, 5, 7, 8, 9, 12, 14, 15, 16, 17, 19, 22, 23, 24, 25, 26, 27, 28, 29, 30, 31, 33, 35, 36, 37, 38, 39, 40, 42, 43, 45, 47, 48, 49]}\n",
      "{0: [3, 4, 5, 6, 10, 11, 14, 17, 18, 19, 21, 26, 27, 28, 30, 31, 37, 39, 44, 47, 49], 1: [0, 1, 2, 7, 8, 9, 12, 13, 15, 16, 20, 22, 23, 24, 25, 29, 32, 33, 34, 35, 36, 38, 40, 41, 42, 43, 45, 46, 48]}\n",
      "{0: [0, 1, 2, 3, 4, 5, 6, 7, 8, 9, 10, 11, 12, 13, 14, 15, 16, 17, 18, 19, 20, 21, 22, 23, 24, 25, 26, 27, 28, 29, 30, 31, 32, 33, 34, 35, 36, 37, 38, 39, 40, 41, 42, 43, 44, 45, 46, 47, 48, 49], 1: []}\n",
      "{0: [0, 1, 2, 3, 4, 5, 7, 8, 9, 10, 12, 13, 14, 15, 16, 17, 19, 21, 22, 24, 25, 26, 27, 28, 30, 31, 32, 33, 34, 36, 37, 39, 40, 41, 42, 43, 44, 45, 46, 47, 48, 49], 1: [6, 11, 18, 20, 23, 29, 35, 38]}\n",
      "{0: [0, 1, 2, 4, 5, 7, 9, 10, 12, 14, 16, 18, 20, 21, 22, 24, 25, 27, 30, 31, 33, 39, 40, 41, 42, 43, 45, 47, 49], 1: [3, 6, 8, 11, 13, 15, 17, 19, 23, 26, 28, 29, 32, 34, 35, 36, 37, 38, 44, 46, 48]}\n",
      "{0: [1, 5, 10, 16, 18, 20, 24, 39, 40, 42, 43, 49], 1: [0, 2, 3, 4, 6, 7, 8, 9, 11, 12, 13, 14, 15, 17, 19, 21, 22, 23, 25, 26, 27, 28, 29, 30, 31, 32, 33, 34, 35, 36, 37, 38, 41, 44, 45, 46, 47, 48]}\n",
      "{0: [0, 3, 5, 6, 7, 10, 11, 12, 18, 24, 27, 34, 35, 38, 39, 43, 47, 49], 1: [1, 2, 4, 8, 9, 13, 14, 15, 16, 17, 19, 20, 21, 22, 23, 25, 26, 28, 29, 30, 31, 32, 33, 36, 37, 40, 41, 42, 44, 45, 46, 48]}\n",
      "{0: [0, 1, 2, 3, 4, 5, 6, 7, 8, 9, 10, 11, 12, 13, 14, 15, 16, 17, 18, 19, 20, 21, 22, 23, 24, 25, 26, 27, 28, 29, 30, 31, 32, 33, 34, 35, 36, 37, 38, 39, 40, 41, 42, 43, 44, 45, 46, 47, 48, 49], 1: []}\n",
      "{0: [0, 1, 2, 3, 5, 9, 10, 11, 12, 15, 18, 19, 22, 23, 24, 25, 26, 27, 28, 30, 31, 32, 34, 35, 36, 37, 38, 39, 41, 42, 43, 45, 46, 48, 49], 1: [4, 6, 7, 8, 13, 14, 16, 17, 20, 21, 29, 33, 40, 44, 47]}\n",
      "{0: [0, 1, 2, 3, 5, 9, 10, 15, 16, 18, 19, 20, 23, 25, 26, 27, 29, 32, 33, 34, 35, 36, 37, 39, 41, 42, 43, 44, 45, 48, 49], 1: [4, 6, 7, 8, 11, 12, 13, 14, 17, 21, 22, 24, 28, 30, 31, 38, 40, 46, 47]}\n",
      "{0: [0, 19, 20, 29, 33, 44], 1: [1, 2, 3, 4, 5, 6, 7, 8, 9, 10, 11, 12, 13, 14, 15, 16, 17, 18, 21, 22, 23, 24, 25, 26, 27, 28, 30, 31, 32, 34, 35, 36, 37, 38, 39, 40, 41, 42, 43, 45, 46, 47, 48, 49]}\n",
      "{0: [2, 9, 12, 15, 18, 19, 20, 22, 27, 28, 29, 30, 31, 33, 38, 41, 42, 43, 47], 1: [0, 1, 3, 4, 5, 6, 7, 8, 10, 11, 13, 14, 16, 17, 21, 23, 24, 25, 26, 32, 34, 35, 36, 37, 39, 40, 44, 45, 46, 48, 49]}\n",
      "{0: [0, 1, 2, 3, 4, 5, 6, 7, 8, 9, 10, 11, 12, 13, 14, 15, 16, 17, 18, 19, 20, 21, 22, 23, 24, 25, 26, 27, 28, 29, 30, 31, 32, 33, 34, 35, 36, 37, 38, 39, 40, 41, 42, 43, 44, 45, 46, 47, 48, 49], 1: []}\n",
      "{0: [0, 1, 2, 3, 5, 6, 10, 11, 12, 14, 15, 16, 17, 19, 24, 25, 27, 28, 30, 32, 33, 34, 35, 36, 38, 39, 40, 41, 43, 44, 45, 46, 47, 48, 49], 1: [4, 7, 8, 9, 13, 18, 20, 21, 22, 23, 26, 29, 31, 37, 42]}\n",
      "{0: [0, 2, 5, 6, 7, 8, 10, 11, 14, 15, 16, 17, 19, 20, 22, 25, 27, 30, 31, 32, 38, 42, 43, 44, 46, 48, 49], 1: [1, 3, 4, 9, 12, 13, 18, 21, 23, 24, 26, 28, 29, 33, 34, 35, 36, 37, 39, 40, 41, 45, 47]}\n",
      "{0: [6, 10, 11, 19, 27, 30, 42, 43, 44, 46], 1: [0, 1, 2, 3, 4, 5, 7, 8, 9, 12, 13, 14, 15, 16, 17, 18, 20, 21, 22, 23, 24, 25, 26, 28, 29, 31, 32, 33, 34, 35, 36, 37, 38, 39, 40, 41, 45, 47, 48, 49]}\n",
      "{0: [0, 5, 7, 8, 9, 10, 11, 12, 17, 18, 19, 30, 31, 33, 39, 42, 43, 44, 46], 1: [1, 2, 3, 4, 6, 13, 14, 15, 16, 20, 21, 22, 23, 24, 25, 26, 27, 28, 29, 32, 34, 35, 36, 37, 38, 40, 41, 45, 47, 48, 49]}\n",
      "{0: [0, 1, 2, 3, 4, 5, 6, 7, 8, 9, 10, 11, 12, 13, 14, 15, 16, 17, 18, 19, 20, 21, 22, 23, 24, 25, 26, 27, 28, 29, 30, 31, 32, 33, 34, 35, 36, 37, 38, 39, 40, 41, 42, 43, 44, 45, 46, 47, 48, 49], 1: []}\n",
      "{0: [0, 1, 2, 3, 4, 5, 7, 8, 10, 13, 17, 22, 23, 24, 25, 26, 27, 28, 29, 30, 32, 33, 34, 35, 36, 37, 38, 39, 41, 42, 44, 45, 47, 48, 49], 1: [6, 9, 11, 12, 14, 15, 16, 18, 19, 20, 21, 31, 40, 43, 46]}\n",
      "{0: [0, 1, 2, 4, 7, 13, 14, 17, 19, 23, 25, 26, 27, 28, 29, 30, 31, 32, 33, 35, 37, 39, 41, 43, 44, 45, 47, 48, 49], 1: [3, 5, 6, 8, 9, 10, 11, 12, 15, 16, 18, 20, 21, 22, 24, 34, 36, 38, 40, 42, 46]}\n",
      "{0: [1, 7, 14, 23, 27, 28, 33, 43, 44, 49], 1: [0, 2, 3, 4, 5, 6, 8, 9, 10, 11, 12, 13, 15, 16, 17, 18, 19, 20, 21, 22, 24, 25, 26, 29, 30, 31, 32, 34, 35, 36, 37, 38, 39, 40, 41, 42, 45, 46, 47, 48]}\n",
      "{0: [1, 2, 3, 6, 7, 9, 10, 11, 12, 13, 14, 19, 25, 26, 28, 31, 32, 33, 34, 36, 37, 39, 42, 47, 49], 1: [0, 4, 5, 8, 15, 16, 17, 18, 20, 21, 22, 23, 24, 27, 29, 30, 35, 38, 40, 41, 43, 44, 45, 46, 48]}\n",
      "{0: [0, 1, 2, 3, 4, 5, 6, 7, 8, 9, 10, 11, 12, 13, 14, 15, 16, 17, 18, 19, 20, 21, 22, 23, 24, 25, 26, 27, 28, 29, 30, 31, 32, 33, 34, 35, 36, 37, 38, 39, 40, 41, 42, 43, 44, 45, 46, 47, 48, 49], 1: []}\n",
      "{0: [0, 1, 2, 4, 6, 7, 8, 9, 10, 11, 13, 14, 16, 17, 20, 22, 23, 24, 25, 26, 33, 36, 37, 38, 39, 40, 41, 42, 46, 47, 48, 49], 1: [3, 5, 12, 15, 18, 19, 21, 27, 28, 29, 30, 31, 32, 34, 35, 43, 44, 45]}\n",
      "{0: [0, 1, 2, 4, 5, 7, 9, 10, 13, 15, 16, 17, 19, 21, 22, 31, 32, 33, 34, 36, 37, 38, 41, 42, 46, 49], 1: [3, 6, 8, 11, 12, 14, 18, 20, 23, 24, 25, 26, 27, 28, 29, 30, 35, 39, 40, 43, 44, 45, 47, 48]}\n",
      "{0: [0, 1, 2, 13, 19, 21, 33, 34, 38, 43], 1: [3, 4, 5, 6, 7, 8, 9, 10, 11, 12, 14, 15, 16, 17, 18, 20, 22, 23, 24, 25, 26, 27, 28, 29, 30, 31, 32, 35, 36, 37, 39, 40, 41, 42, 44, 45, 46, 47, 48, 49]}\n",
      "{0: [0, 1, 2, 3, 6, 8, 13, 15, 16, 17, 18, 19, 20, 21, 23, 24, 25, 26, 34, 37, 43, 46, 48], 1: [4, 5, 7, 9, 10, 11, 12, 14, 22, 27, 28, 29, 30, 31, 32, 33, 35, 36, 38, 39, 40, 41, 42, 44, 45, 47, 49]}\n",
      "{0: [0, 1, 2, 3, 4, 5, 6, 7, 8, 9, 10, 11, 12, 13, 14, 15, 16, 17, 18, 19, 20, 21, 22, 23, 24, 25, 26, 27, 28, 29, 30, 31, 32, 33, 34, 35, 36, 37, 38, 39, 40, 41, 42, 43, 44, 45, 46, 47, 48, 49], 1: []}\n",
      "{0: [1, 2, 3, 4, 5, 7, 9, 10, 11, 12, 13, 15, 16, 17, 18, 19, 20, 21, 23, 24, 25, 26, 27, 28, 30, 31, 32, 34, 35, 36, 38, 39, 40, 42, 44, 47, 48], 1: [0, 6, 8, 14, 22, 29, 33, 37, 41, 43, 45, 46, 49]}\n",
      "{0: [0, 1, 2, 3, 4, 6, 7, 12, 13, 14, 16, 17, 18, 19, 23, 24, 25, 27, 28, 31, 32, 33, 34, 35, 36, 37, 39, 42, 44, 45, 49], 1: [5, 8, 9, 10, 11, 15, 20, 21, 22, 26, 29, 30, 38, 40, 41, 43, 46, 47, 48]}\n",
      "{0: [1, 6, 7, 12, 13, 14, 18, 23, 24, 27, 31, 34, 35, 44, 48], 1: [0, 2, 3, 4, 5, 8, 9, 10, 11, 15, 16, 17, 19, 20, 21, 22, 25, 26, 28, 29, 30, 32, 33, 36, 37, 38, 39, 40, 41, 42, 43, 45, 46, 47, 49]}\n",
      "{0: [1, 2, 3, 6, 7, 10, 14, 15, 16, 17, 27, 35, 39, 40, 41, 42, 43, 45, 46, 48, 49], 1: [0, 4, 5, 8, 9, 11, 12, 13, 18, 19, 20, 21, 22, 23, 24, 25, 26, 28, 29, 30, 31, 32, 33, 34, 36, 37, 38, 44, 47]}\n",
      "{0: [0, 1, 2, 3, 4, 5, 6, 7, 8, 9, 10, 11, 12, 13, 14, 15, 16, 17, 18, 19, 20, 21, 22, 23, 24, 25, 26, 27, 28, 29, 30, 31, 32, 33, 34, 35, 36, 37, 38, 39, 40, 41, 42, 43, 44, 45, 46, 47, 48, 49], 1: []}\n",
      "{0: [1, 2, 3, 4, 5, 6, 8, 9, 10, 11, 12, 13, 14, 16, 18, 19, 21, 22, 23, 26, 27, 28, 29, 31, 33, 34, 35, 36, 37, 39, 41, 42, 43, 44, 45, 46, 47, 48, 49], 1: [0, 7, 15, 17, 20, 24, 25, 30, 32, 38, 40]}\n",
      "{0: [2, 4, 5, 6, 7, 9, 11, 13, 14, 15, 18, 19, 21, 22, 27, 29, 31, 36, 39, 41, 42, 44, 45, 46, 47, 48, 49], 1: [0, 1, 3, 8, 10, 12, 16, 17, 20, 23, 24, 25, 26, 28, 30, 32, 33, 34, 35, 37, 38, 40, 43]}\n",
      "{0: [2, 6, 7, 15, 29, 36, 41, 42, 45], 1: [0, 1, 3, 4, 5, 8, 9, 10, 11, 12, 13, 14, 16, 17, 18, 19, 20, 21, 22, 23, 24, 25, 26, 27, 28, 30, 31, 32, 33, 34, 35, 37, 38, 39, 40, 43, 44, 46, 47, 48, 49]}\n",
      "{0: [6, 9, 10, 14, 15, 16, 17, 20, 25, 28, 29, 30, 33, 34, 35, 37, 41, 42, 45], 1: [0, 1, 2, 3, 4, 5, 7, 8, 11, 12, 13, 18, 19, 21, 22, 23, 24, 26, 27, 31, 32, 36, 38, 39, 40, 43, 44, 46, 47, 48, 49]}\n",
      "{0: [0, 1, 2, 3, 4, 5, 6, 7, 8, 9, 10, 11, 12, 13, 14, 15, 16, 17, 18, 19, 20, 21, 22, 23, 24, 25, 26, 27, 28, 29, 30, 31, 32, 33, 34, 35, 36, 37, 38, 39, 40, 41, 42, 43, 44, 45, 46, 47, 48, 49], 1: []}\n",
      "{0: [0, 1, 2, 3, 5, 6, 7, 9, 10, 11, 13, 14, 15, 18, 19, 20, 21, 22, 23, 24, 26, 27, 28, 29, 30, 32, 33, 35, 36, 37, 39, 40, 41, 42, 43, 44, 46, 47, 48], 1: [4, 8, 12, 16, 17, 25, 31, 34, 38, 45, 49]}\n",
      "{0: [1, 2, 3, 6, 7, 9, 10, 13, 14, 15, 18, 19, 20, 22, 24, 29, 30, 32, 34, 35, 37, 38, 39, 40, 41, 42, 43, 44, 45, 46, 47, 48], 1: [0, 4, 5, 8, 11, 12, 16, 17, 21, 23, 25, 26, 27, 28, 31, 33, 36, 49]}\n",
      "{0: [0, 22, 30, 34, 38, 42, 45], 1: [1, 2, 3, 4, 5, 6, 7, 8, 9, 10, 11, 12, 13, 14, 15, 16, 17, 18, 19, 20, 21, 23, 24, 25, 26, 27, 28, 29, 31, 32, 33, 35, 36, 37, 39, 40, 41, 43, 44, 46, 47, 48, 49]}\n",
      "{0: [0, 3, 6, 7, 10, 17, 19, 22, 23, 25, 26, 27, 29, 31, 34, 35, 36, 38, 39, 41, 43, 46, 47], 1: [1, 2, 4, 5, 8, 9, 11, 12, 13, 14, 15, 16, 18, 20, 21, 24, 28, 30, 32, 33, 37, 40, 42, 44, 45, 48, 49]}\n",
      "{0: [0, 1, 2, 3, 4, 5, 6, 7, 8, 9, 10, 11, 12, 13, 14, 15, 16, 17, 18, 19, 20, 21, 22, 23, 24, 25, 26, 27, 28, 29, 30, 31, 32, 33, 34, 35, 36, 37, 38, 39, 40, 41, 42, 43, 44, 45, 46, 47, 48, 49], 1: []}\n",
      "{0: [0, 2, 3, 4, 6, 7, 8, 9, 13, 14, 15, 19, 20, 21, 22, 23, 24, 25, 26, 27, 29, 30, 31, 32, 33, 34, 35, 36, 37, 39, 40, 42, 44, 45, 46, 47, 48, 49], 1: [1, 5, 10, 11, 12, 16, 17, 18, 28, 38, 41, 43]}\n",
      "{0: [0, 5, 7, 8, 10, 14, 15, 18, 19, 20, 21, 22, 23, 25, 29, 31, 32, 33, 34, 35, 36, 39, 40, 41, 44, 45, 46, 48, 49], 1: [1, 2, 3, 4, 6, 9, 11, 12, 13, 16, 17, 24, 26, 27, 28, 30, 37, 38, 42, 43, 47]}\n",
      "{0: [10, 11, 18, 20, 25, 30, 31, 32, 33, 36, 41, 42, 44, 45], 1: [0, 1, 2, 3, 4, 5, 6, 7, 8, 9, 12, 13, 14, 15, 16, 17, 19, 21, 22, 23, 24, 26, 27, 28, 29, 34, 35, 37, 38, 39, 40, 43, 46, 47, 48, 49]}\n",
      "{0: [0, 3, 6, 7, 11, 13, 16, 18, 19, 20, 21, 24, 25, 26, 28, 30, 31, 32, 37, 40, 41, 42, 45, 47, 49], 1: [1, 2, 4, 5, 8, 9, 10, 12, 14, 15, 17, 22, 23, 27, 29, 33, 34, 35, 36, 38, 39, 43, 44, 46, 48]}\n",
      "{0: [0, 1, 2, 3, 4, 5, 6, 7, 8, 9, 10, 11, 12, 13, 14, 15, 16, 17, 18, 19, 20, 21, 22, 23, 24, 25, 26, 27, 28, 29, 30, 31, 32, 33, 34, 35, 36, 37, 38, 39, 40, 41, 42, 43, 44, 45, 46, 47, 48, 49], 1: []}\n",
      "{0: [0, 1, 2, 3, 4, 5, 6, 8, 9, 10, 11, 12, 13, 16, 18, 19, 20, 23, 24, 25, 30, 31, 32, 33, 34, 35, 36, 38, 40, 41, 42, 43, 44, 47, 48, 49], 1: [7, 14, 15, 17, 21, 22, 26, 27, 28, 29, 37, 39, 45, 46]}\n",
      "{0: [0, 1, 2, 3, 4, 5, 6, 12, 13, 14, 19, 23, 25, 26, 27, 28, 29, 30, 32, 33, 34, 35, 36, 42, 43, 45, 47], 1: [7, 8, 9, 10, 11, 15, 16, 17, 18, 20, 21, 22, 24, 31, 37, 38, 39, 40, 41, 44, 46, 48, 49]}\n",
      "{0: [1, 14, 27, 29, 32, 35, 45], 1: [0, 2, 3, 4, 5, 6, 7, 8, 9, 10, 11, 12, 13, 15, 16, 17, 18, 19, 20, 21, 22, 23, 24, 25, 26, 28, 30, 31, 33, 34, 36, 37, 38, 39, 40, 41, 42, 43, 44, 46, 47, 48, 49]}\n",
      "{0: [2, 6, 7, 10, 12, 13, 14, 18, 20, 21, 24, 27, 28, 29, 30, 32, 33, 35, 36, 37, 38, 39, 40, 45, 46, 48, 49], 1: [0, 1, 3, 4, 5, 8, 9, 11, 15, 16, 17, 19, 22, 23, 25, 26, 31, 34, 41, 42, 43, 44, 47]}\n",
      "{0: [0, 1, 2, 3, 4, 5, 6, 7, 8, 9, 10, 11, 12, 13, 14, 15, 16, 17, 18, 19, 20, 21, 22, 23, 24, 25, 26, 27, 28, 29, 30, 31, 32, 33, 34, 35, 36, 37, 38, 39, 40, 41, 42, 43, 44, 45, 46, 47, 48, 49], 1: []}\n",
      "{0: [0, 1, 2, 3, 5, 8, 9, 10, 11, 12, 13, 14, 15, 18, 19, 20, 21, 22, 23, 24, 25, 26, 27, 28, 30, 31, 32, 36, 37, 38, 39, 40, 42, 44, 45, 46, 47, 49], 1: [4, 6, 7, 16, 17, 29, 33, 34, 35, 41, 43, 48]}\n",
      "{0: [0, 1, 3, 5, 8, 10, 11, 12, 14, 15, 18, 19, 21, 22, 24, 25, 26, 28, 29, 30, 31, 32, 35, 36, 38, 39, 40, 42, 44, 49], 1: [2, 4, 6, 7, 9, 13, 16, 17, 20, 23, 27, 33, 34, 37, 41, 43, 45, 46, 47, 48]}\n",
      "{0: [0, 8, 11, 12, 14, 19, 22, 26, 29, 32, 35, 36, 38, 39, 44], 1: [1, 2, 3, 4, 5, 6, 7, 9, 10, 13, 15, 16, 17, 18, 20, 21, 23, 24, 25, 27, 28, 30, 31, 33, 34, 37, 40, 41, 42, 43, 45, 46, 47, 48, 49]}\n",
      "{0: [0, 7, 12, 13, 14, 15, 16, 17, 18, 19, 21, 22, 26, 27, 28, 29, 30, 32, 34, 35, 36, 38, 39, 40, 41, 42, 43, 45, 47, 48, 49], 1: [1, 2, 3, 4, 5, 6, 8, 9, 10, 11, 20, 23, 24, 25, 31, 33, 37, 44, 46]}\n",
      "{0: [0, 1, 2, 3, 4, 5, 6, 7, 8, 9, 10, 11, 12, 13, 14, 15, 16, 17, 18, 19, 20, 21, 22, 23, 24, 25, 26, 27, 28, 29, 30, 31, 32, 33, 34, 35, 36, 37, 38, 39, 40, 41, 42, 43, 44, 45, 46, 47, 48, 49], 1: []}\n",
      "{0: [0, 1, 2, 3, 6, 7, 8, 9, 10, 11, 13, 14, 15, 17, 19, 20, 21, 23, 24, 25, 26, 28, 30, 31, 32, 33, 35, 36, 38, 39, 41, 44, 45, 46, 47, 48], 1: [4, 5, 12, 16, 18, 22, 27, 29, 34, 37, 40, 42, 43, 49]}\n",
      "{0: [0, 1, 2, 3, 6, 8, 10, 15, 17, 19, 20, 22, 23, 30, 32, 35, 36, 39, 41, 43, 45, 46, 48], 1: [4, 5, 7, 9, 11, 12, 13, 14, 16, 18, 21, 24, 25, 26, 27, 28, 29, 31, 33, 34, 37, 38, 40, 42, 44, 47, 49]}\n",
      "{0: [15, 19, 20, 23, 41], 1: [0, 1, 2, 3, 4, 5, 6, 7, 8, 9, 10, 11, 12, 13, 14, 16, 17, 18, 21, 22, 24, 25, 26, 27, 28, 29, 30, 31, 32, 33, 34, 35, 36, 37, 38, 39, 40, 42, 43, 44, 45, 46, 47, 48, 49]}\n",
      "{0: [0, 1, 6, 9, 10, 13, 19, 20, 22, 24, 28, 32, 33, 36, 37, 41, 43, 44, 48], 1: [2, 3, 4, 5, 7, 8, 11, 12, 14, 15, 16, 17, 18, 21, 23, 25, 26, 27, 29, 30, 31, 34, 35, 38, 39, 40, 42, 45, 46, 47, 49]}\n",
      "{0: [0, 1, 2, 3, 4, 5, 6, 7, 8, 9, 10, 11, 12, 13, 14, 15, 16, 17, 18, 19, 20, 21, 22, 23, 24, 25, 26, 27, 28, 29, 30, 31, 32, 33, 34, 35, 36, 37, 38, 39, 40, 41, 42, 43, 44, 45, 46, 47, 48, 49], 1: []}\n",
      "{0: [0, 1, 2, 4, 6, 7, 9, 10, 11, 12, 15, 17, 18, 19, 21, 22, 23, 24, 26, 27, 28, 29, 30, 33, 35, 36, 37, 38, 39, 40, 41, 42, 44, 45, 46, 47, 48], 1: [3, 5, 8, 13, 14, 16, 20, 25, 31, 32, 34, 43, 49]}\n",
      "{0: [1, 2, 4, 5, 7, 9, 10, 11, 14, 15, 16, 17, 19, 24, 27, 28, 29, 32, 33, 38, 41, 42, 43, 44, 45, 46, 47, 48], 1: [0, 3, 6, 8, 12, 13, 18, 20, 21, 22, 23, 25, 26, 30, 31, 34, 35, 36, 37, 39, 40, 49]}\n",
      "{0: [2, 4, 5, 10, 14, 16, 28, 32, 33, 40, 42, 45, 48], 1: [0, 1, 3, 6, 7, 8, 9, 11, 12, 13, 15, 17, 18, 19, 20, 21, 22, 23, 24, 25, 26, 27, 29, 30, 31, 34, 35, 36, 37, 38, 39, 41, 43, 44, 46, 47, 49]}\n",
      "{0: [3, 5, 7, 8, 10, 12, 14, 15, 16, 17, 18, 22, 24, 27, 28, 30, 32, 33, 35, 36, 37, 40, 42, 46, 47, 48], 1: [0, 1, 2, 4, 6, 9, 11, 13, 19, 20, 21, 23, 25, 26, 29, 31, 34, 38, 39, 41, 43, 44, 45, 49]}\n",
      "{0: [0, 1, 2, 3, 4, 5, 6, 7, 8, 9, 10, 11, 12, 13, 14, 15, 16, 17, 18, 19, 20, 21, 22, 23, 24, 25, 26, 27, 28, 29, 30, 31, 32, 33, 34, 35, 36, 37, 38, 39, 40, 41, 42, 43, 44, 45, 46, 47, 48, 49], 1: []}\n",
      "{0: [1, 2, 3, 4, 5, 6, 8, 9, 11, 12, 13, 16, 17, 18, 20, 21, 22, 24, 27, 28, 29, 30, 31, 32, 33, 34, 36, 38, 40, 41, 42, 43, 45, 46, 47, 48], 1: [0, 7, 10, 14, 15, 19, 23, 25, 26, 35, 37, 39, 44, 49]}\n",
      "{0: [2, 3, 6, 9, 11, 13, 14, 16, 17, 18, 20, 21, 22, 23, 24, 26, 27, 28, 31, 32, 33, 34, 35, 40, 41, 42, 46, 47, 48], 1: [0, 1, 4, 5, 7, 8, 10, 12, 15, 19, 25, 29, 30, 36, 37, 38, 39, 43, 44, 45, 49]}\n",
      "{0: [17, 21, 22, 23, 26, 27, 32, 35, 47], 1: [0, 1, 2, 3, 4, 5, 6, 7, 8, 9, 10, 11, 12, 13, 14, 15, 16, 18, 19, 20, 24, 25, 28, 29, 30, 31, 33, 34, 36, 37, 38, 39, 40, 41, 42, 43, 44, 45, 46, 48, 49]}\n",
      "{0: [0, 3, 6, 8, 9, 10, 11, 14, 16, 17, 20, 21, 23, 24, 26, 28, 30, 31, 32, 33, 34, 35, 37, 42, 45, 46, 47], 1: [1, 2, 4, 5, 7, 12, 13, 15, 18, 19, 22, 25, 27, 29, 36, 38, 39, 40, 41, 43, 44, 48, 49]}\n",
      "{0: [0, 1, 2, 3, 4, 5, 6, 7, 8, 9, 10, 11, 12, 13, 14, 15, 16, 17, 18, 19, 20, 21, 22, 23, 24, 25, 26, 27, 28, 29, 30, 31, 32, 33, 34, 35, 36, 37, 38, 39, 40, 41, 42, 43, 44, 45, 46, 47, 48, 49], 1: []}\n",
      "{0: [0, 4, 6, 7, 8, 10, 12, 13, 15, 16, 18, 19, 20, 21, 22, 24, 27, 28, 29, 30, 32, 33, 34, 35, 37, 38, 39, 40, 41, 44, 45, 46, 48, 49], 1: [1, 2, 3, 5, 9, 11, 14, 17, 23, 25, 26, 31, 36, 42, 43, 47]}\n",
      "{0: [0, 3, 7, 8, 10, 12, 13, 15, 16, 19, 20, 22, 27, 28, 29, 34, 35, 37, 39, 40, 41, 44, 46, 48, 49], 1: [1, 2, 4, 5, 6, 9, 11, 14, 17, 18, 21, 23, 24, 25, 26, 30, 31, 32, 33, 36, 38, 42, 43, 45, 47]}\n",
      "{0: [7, 8, 15, 27, 34, 39, 41, 46], 1: [0, 1, 2, 3, 4, 5, 6, 9, 10, 11, 12, 13, 14, 16, 17, 18, 19, 20, 21, 22, 23, 24, 25, 26, 28, 29, 30, 31, 32, 33, 35, 36, 37, 38, 40, 42, 43, 44, 45, 47, 48, 49]}\n",
      "{0: [0, 3, 8, 9, 10, 11, 13, 15, 16, 17, 19, 21, 22, 24, 25, 26, 34, 35, 37, 38, 41, 42, 49], 1: [1, 2, 4, 5, 6, 7, 12, 14, 18, 20, 23, 27, 28, 29, 30, 31, 32, 33, 36, 39, 40, 43, 44, 45, 46, 47, 48]}\n",
      "{0: [0, 1, 2, 3, 4, 5, 6, 7, 8, 9, 10, 11, 12, 13, 14, 15, 16, 17, 18, 19, 20, 21, 22, 23, 24, 25, 26, 27, 28, 29, 30, 31, 32, 33, 34, 35, 36, 37, 38, 39, 40, 41, 42, 43, 44, 45, 46, 47, 48, 49], 1: []}\n",
      "{0: [2, 3, 5, 6, 7, 8, 9, 11, 12, 14, 15, 17, 18, 20, 21, 22, 23, 24, 25, 26, 27, 28, 29, 30, 32, 34, 36, 37, 40, 43, 44, 45, 46, 47, 48, 49], 1: [0, 1, 4, 10, 13, 16, 19, 31, 33, 35, 38, 39, 41, 42]}\n",
      "{0: [1, 2, 6, 8, 9, 11, 12, 13, 14, 15, 17, 18, 20, 21, 22, 24, 25, 26, 29, 30, 32, 33, 34, 36, 37, 39, 40, 42, 43, 45, 46, 47, 48], 1: [0, 3, 4, 5, 7, 10, 16, 19, 23, 27, 28, 31, 35, 38, 41, 44, 49]}\n",
      "{0: [1, 3, 6, 8, 12, 13, 14, 17, 26, 28, 29, 30, 33, 37, 48], 1: [0, 2, 4, 5, 7, 9, 10, 11, 15, 16, 18, 19, 20, 21, 22, 23, 24, 25, 27, 31, 32, 34, 35, 36, 38, 39, 40, 41, 42, 43, 44, 45, 46, 47, 49]}\n",
      "{0: [0, 1, 3, 5, 6, 10, 12, 13, 16, 17, 22, 25, 26, 28, 29, 32, 33, 36, 40, 42, 45, 46, 47, 48, 49], 1: [2, 4, 7, 8, 9, 11, 14, 15, 18, 19, 20, 21, 23, 24, 27, 30, 31, 34, 35, 37, 38, 39, 41, 43, 44]}\n",
      "{0: [0, 1, 2, 3, 4, 5, 6, 7, 8, 9, 10, 11, 12, 13, 14, 15, 16, 17, 18, 19, 20, 21, 22, 23, 24, 25, 26, 27, 28, 29, 30, 31, 32, 33, 34, 35, 36, 37, 38, 39, 40, 41, 42, 43, 44, 45, 46, 47, 48, 49], 1: []}\n",
      "{0: [0, 1, 2, 3, 4, 7, 9, 11, 12, 13, 15, 16, 17, 19, 20, 21, 22, 23, 24, 25, 26, 27, 28, 29, 30, 31, 32, 34, 35, 38, 39, 40, 41, 42, 43, 44, 46, 47, 49], 1: [5, 6, 8, 10, 14, 18, 33, 36, 37, 45, 48]}\n",
      "{0: [2, 3, 4, 5, 7, 10, 11, 12, 13, 16, 18, 19, 20, 21, 22, 23, 24, 27, 28, 29, 30, 31, 33, 35, 38, 39, 41, 43, 44, 47], 1: [0, 1, 6, 8, 9, 14, 15, 17, 25, 26, 32, 34, 36, 37, 40, 42, 45, 46, 48, 49]}\n",
      "{0: [4, 7, 10, 16, 18, 33, 39, 44, 47], 1: [0, 1, 2, 3, 5, 6, 8, 9, 11, 12, 13, 14, 15, 17, 19, 20, 21, 22, 23, 24, 25, 26, 27, 28, 29, 30, 31, 32, 34, 35, 36, 37, 38, 40, 41, 42, 43, 45, 46, 48, 49]}\n",
      "{0: [0, 1, 2, 5, 7, 10, 14, 16, 17, 18, 27, 31, 32, 33, 37, 39, 40, 42, 43, 44, 46, 47], 1: [3, 4, 6, 8, 9, 11, 12, 13, 15, 19, 20, 21, 22, 23, 24, 25, 26, 28, 29, 30, 34, 35, 36, 38, 41, 45, 48, 49]}\n",
      "{0: [0, 1, 2, 3, 4, 5, 6, 7, 8, 9, 10, 11, 12, 13, 14, 15, 16, 17, 18, 19, 20, 21, 22, 23, 24, 25, 26, 27, 28, 29, 30, 31, 32, 33, 34, 35, 36, 37, 38, 39, 40, 41, 42, 43, 44, 45, 46, 47, 48, 49], 1: []}\n",
      "{0: [0, 1, 2, 3, 4, 6, 7, 8, 11, 12, 13, 14, 15, 16, 17, 18, 19, 20, 21, 22, 25, 26, 27, 28, 29, 30, 31, 34, 35, 36, 37, 38, 39, 40, 42, 44, 45, 47, 49], 1: [5, 9, 10, 23, 24, 32, 33, 41, 43, 46, 48]}\n",
      "{0: [0, 2, 3, 4, 5, 7, 9, 11, 12, 14, 16, 18, 19, 20, 21, 22, 25, 26, 27, 29, 30, 31, 33, 34, 35, 36, 39, 40, 43, 46, 47, 49], 1: [1, 6, 8, 10, 13, 15, 17, 23, 24, 28, 32, 37, 38, 41, 42, 44, 45, 48]}\n",
      "{0: [0, 2, 3, 4, 7, 9, 22, 30], 1: [1, 5, 6, 8, 10, 11, 12, 13, 14, 15, 16, 17, 18, 19, 20, 21, 23, 24, 25, 26, 27, 28, 29, 31, 32, 33, 34, 35, 36, 37, 38, 39, 40, 41, 42, 43, 44, 45, 46, 47, 48, 49]}\n",
      "{0: [0, 2, 3, 4, 6, 7, 8, 9, 10, 11, 12, 14, 15, 16, 18, 22, 26, 29, 30, 31, 38, 39, 40, 45, 48, 49], 1: [1, 5, 13, 17, 19, 20, 21, 23, 24, 25, 27, 28, 32, 33, 34, 35, 36, 37, 41, 42, 43, 44, 46, 47]}\n",
      "{0: [0, 1, 2, 3, 4, 5, 6, 7, 8, 9, 10, 11, 12, 13, 14, 15, 16, 17, 18, 19, 20, 21, 22, 23, 24, 25, 26, 27, 28, 29, 30, 31, 32, 33, 34, 35, 36, 37, 38, 39, 40, 41, 42, 43, 44, 45, 46, 47, 48, 49], 1: []}\n",
      "{0: [3, 5, 6, 7, 9, 10, 11, 12, 14, 16, 17, 18, 20, 22, 23, 24, 25, 26, 27, 28, 31, 32, 33, 36, 37, 38, 39, 41, 42, 43, 44, 45, 46, 47, 48], 1: [0, 1, 2, 4, 8, 13, 15, 19, 21, 29, 30, 34, 35, 40, 49]}\n",
      "{0: [1, 2, 3, 6, 8, 10, 14, 15, 16, 17, 18, 20, 23, 24, 26, 27, 30, 31, 32, 33, 36, 37, 38, 39, 40, 41, 43, 45, 47, 48], 1: [0, 4, 5, 7, 9, 11, 12, 13, 19, 21, 22, 25, 28, 29, 34, 35, 42, 44, 46, 49]}\n",
      "{0: [1, 3, 10, 15, 17, 20, 23, 26, 30, 32, 33, 36, 37, 41, 45], 1: [0, 2, 4, 5, 6, 7, 8, 9, 11, 12, 13, 14, 16, 18, 19, 21, 22, 24, 25, 27, 28, 29, 31, 34, 35, 38, 39, 40, 42, 43, 44, 46, 47, 48, 49]}\n",
      "{0: [1, 3, 5, 6, 8, 10, 11, 12, 14, 15, 17, 19, 20, 21, 22, 25, 26, 30, 31, 33, 36, 37, 38, 41, 43, 45, 46, 47], 1: [0, 2, 4, 7, 9, 13, 16, 18, 23, 24, 27, 28, 29, 32, 34, 35, 39, 40, 42, 44, 48, 49]}\n",
      "{0: [0, 1, 2, 3, 4, 5, 6, 7, 8, 9, 10, 11, 12, 13, 14, 15, 16, 17, 18, 19, 20, 21, 22, 23, 24, 25, 26, 27, 28, 29, 30, 31, 32, 33, 34, 35, 36, 37, 38, 39, 40, 41, 42, 43, 44, 45, 46, 47, 48, 49], 1: []}\n",
      "{0: [0, 2, 4, 5, 9, 10, 12, 13, 14, 15, 18, 19, 21, 22, 23, 24, 25, 26, 27, 29, 30, 31, 32, 33, 34, 35, 36, 37, 40, 41, 42, 44, 46, 47, 48, 49], 1: [1, 3, 6, 7, 8, 11, 16, 17, 20, 28, 38, 39, 43, 45]}\n",
      "{0: [0, 2, 4, 5, 11, 12, 13, 17, 18, 21, 22, 23, 26, 27, 30, 31, 32, 34, 36, 43, 44, 46, 48, 49], 1: [1, 3, 6, 7, 8, 9, 10, 14, 15, 16, 19, 20, 24, 25, 28, 29, 33, 35, 37, 38, 39, 40, 41, 42, 45, 47]}\n",
      "{0: [0, 2, 4, 5, 11, 23, 34, 36, 43, 44], 1: [1, 3, 6, 7, 8, 9, 10, 12, 13, 14, 15, 16, 17, 18, 19, 20, 21, 22, 24, 25, 26, 27, 28, 29, 30, 31, 32, 33, 35, 37, 38, 39, 40, 41, 42, 45, 46, 47, 48, 49]}\n",
      "{0: [0, 2, 3, 5, 7, 8, 9, 10, 11, 15, 17, 19, 20, 21, 23, 25, 26, 27, 29, 30, 33, 34, 35, 36, 39, 42, 43, 44, 45, 46, 47], 1: [1, 4, 6, 12, 13, 14, 16, 18, 22, 24, 28, 31, 32, 37, 38, 40, 41, 48, 49]}\n",
      "{0: [0, 1, 2, 3, 4, 5, 6, 7, 8, 9, 10, 11, 12, 13, 14, 15, 16, 17, 18, 19, 20, 21, 22, 23, 24, 25, 26, 27, 28, 29, 30, 31, 32, 33, 34, 35, 36, 37, 38, 39, 40, 41, 42, 43, 44, 45, 46, 47, 48, 49], 1: []}\n",
      "{0: [0, 1, 2, 4, 6, 7, 8, 9, 10, 11, 12, 13, 14, 15, 17, 18, 20, 21, 23, 24, 25, 27, 28, 29, 30, 31, 32, 33, 34, 35, 36, 37, 38, 40, 43, 44, 46, 47, 48], 1: [3, 5, 16, 19, 22, 26, 39, 41, 42, 45, 49]}\n",
      "{0: [0, 1, 2, 3, 7, 8, 9, 10, 12, 13, 14, 15, 17, 19, 20, 21, 23, 27, 28, 29, 32, 33, 34, 35, 37, 38, 40, 43, 47, 48], 1: [4, 5, 6, 11, 16, 18, 22, 24, 25, 26, 30, 31, 36, 39, 41, 42, 44, 45, 46, 49]}\n",
      "{0: [2, 3, 8, 12, 13, 17, 20, 28, 29, 34, 37, 38, 43, 48], 1: [0, 1, 4, 5, 6, 7, 9, 10, 11, 14, 15, 16, 18, 19, 21, 22, 23, 24, 25, 26, 27, 30, 31, 32, 33, 35, 36, 39, 40, 41, 42, 44, 45, 46, 47, 49]}\n",
      "{0: [0, 1, 2, 3, 4, 6, 7, 8, 11, 12, 13, 21, 26, 27, 28, 29, 30, 33, 34, 36, 38, 40, 41, 42, 43, 44, 49], 1: [5, 9, 10, 14, 15, 16, 17, 18, 19, 20, 22, 23, 24, 25, 31, 32, 35, 37, 39, 45, 46, 47, 48]}\n",
      "{0: [0, 1, 2, 3, 4, 5, 6, 7, 8, 9, 10, 11, 12, 13, 14, 15, 16, 17, 18, 19, 20, 21, 22, 23, 24, 25, 26, 27, 28, 29, 30, 31, 32, 33, 34, 35, 36, 37, 38, 39, 40, 41, 42, 43, 44, 45, 46, 47, 48, 49], 1: []}\n",
      "{0: [0, 1, 2, 4, 5, 7, 8, 9, 10, 11, 12, 14, 17, 19, 21, 23, 24, 25, 26, 28, 29, 30, 31, 34, 35, 36, 37, 38, 39, 43, 44, 47, 48, 49], 1: [3, 6, 13, 15, 16, 18, 20, 22, 27, 32, 33, 40, 41, 42, 45, 46]}\n",
      "{0: [1, 4, 7, 9, 10, 13, 14, 17, 18, 19, 23, 24, 26, 28, 30, 31, 33, 34, 35, 36, 37, 39, 43, 44, 47, 49], 1: [0, 2, 3, 5, 6, 8, 11, 12, 15, 16, 20, 21, 22, 25, 27, 29, 32, 38, 40, 41, 42, 45, 46, 48]}\n",
      "{0: [1, 4, 9, 10, 24, 26, 34, 35, 37, 39, 49], 1: [0, 2, 3, 5, 6, 7, 8, 11, 12, 13, 14, 15, 16, 17, 18, 19, 20, 21, 22, 23, 25, 27, 28, 29, 30, 31, 32, 33, 36, 38, 40, 41, 42, 43, 44, 45, 46, 47, 48]}\n",
      "{0: [4, 7, 8, 9, 10, 13, 17, 20, 23, 25, 26, 29, 31, 32, 34, 35, 36, 37, 39, 42, 46, 47, 49], 1: [0, 1, 2, 3, 5, 6, 11, 12, 14, 15, 16, 18, 19, 21, 22, 24, 27, 28, 30, 33, 38, 40, 41, 43, 44, 45, 48]}\n",
      "{0: [0, 1, 2, 3, 4, 5, 6, 7, 8, 9, 10, 11, 12, 13, 14, 15, 16, 17, 18, 19, 20, 21, 22, 23, 24, 25, 26, 27, 28, 29, 30, 31, 32, 33, 34, 35, 36, 37, 38, 39, 40, 41, 42, 43, 44, 45, 46, 47, 48, 49], 1: []}\n",
      "{0: [0, 1, 2, 3, 4, 5, 6, 7, 14, 15, 17, 19, 20, 21, 23, 24, 25, 26, 28, 29, 30, 31, 32, 33, 34, 35, 36, 37, 38, 40, 41, 42, 43, 44, 45, 47], 1: [8, 9, 10, 11, 12, 13, 16, 18, 22, 27, 39, 46, 48, 49]}\n",
      "{0: [0, 2, 4, 7, 9, 11, 14, 17, 18, 20, 23, 26, 27, 29, 30, 32, 33, 35, 36, 37, 39, 40, 41, 43, 44, 45, 48], 1: [1, 3, 5, 6, 8, 10, 12, 13, 15, 16, 19, 21, 22, 24, 25, 28, 31, 34, 38, 42, 46, 47, 49]}\n",
      "{0: [14, 17, 20, 23, 32, 36, 37, 43], 1: [0, 1, 2, 3, 4, 5, 6, 7, 8, 9, 10, 11, 12, 13, 15, 16, 18, 19, 21, 22, 24, 25, 26, 27, 28, 29, 30, 31, 33, 34, 35, 38, 39, 40, 41, 42, 44, 45, 46, 47, 48, 49]}\n",
      "{0: [1, 2, 5, 6, 8, 12, 13, 16, 20, 23, 24, 26, 28, 34, 37, 38, 40, 41, 43, 47, 49], 1: [0, 3, 4, 7, 9, 10, 11, 14, 15, 17, 18, 19, 21, 22, 25, 27, 29, 30, 31, 32, 33, 35, 36, 39, 42, 44, 45, 46, 48]}\n",
      "{0: [0, 1, 2, 3, 4, 5, 6, 7, 8, 9, 10, 11, 12, 13, 14, 15, 16, 17, 18, 19, 20, 21, 22, 23, 24, 25, 26, 27, 28, 29, 30, 31, 32, 33, 34, 35, 36, 37, 38, 39, 40, 41, 42, 43, 44, 45, 46, 47, 48, 49], 1: []}\n",
      "{0: [0, 1, 2, 6, 8, 9, 10, 11, 12, 15, 16, 17, 18, 19, 20, 21, 23, 24, 25, 26, 27, 28, 29, 30, 31, 32, 33, 34, 35, 38, 39, 40, 41, 42, 43, 44, 45, 46, 47, 48, 49], 1: [3, 4, 5, 7, 13, 14, 22, 36, 37]}\n",
      "{0: [2, 7, 8, 9, 10, 11, 12, 14, 15, 16, 18, 19, 20, 23, 24, 25, 27, 28, 30, 31, 32, 33, 34, 35, 36, 38, 39, 40, 41, 42, 44, 47, 48, 49], 1: [0, 1, 3, 4, 5, 6, 13, 17, 21, 22, 26, 29, 37, 43, 45, 46]}\n",
      "{0: [7, 9, 10, 11, 23, 24, 38, 40, 44, 48], 1: [0, 1, 2, 3, 4, 5, 6, 8, 12, 13, 14, 15, 16, 17, 18, 19, 20, 21, 22, 25, 26, 27, 28, 29, 30, 31, 32, 33, 34, 35, 36, 37, 39, 41, 42, 43, 45, 46, 47, 49]}\n",
      "{0: [0, 6, 7, 9, 10, 11, 15, 17, 22, 24, 26, 31, 35, 37, 39, 40, 41, 43, 44, 45, 46, 48], 1: [1, 2, 3, 4, 5, 8, 12, 13, 14, 16, 18, 19, 20, 21, 23, 25, 27, 28, 29, 30, 32, 33, 34, 36, 38, 42, 47, 49]}\n",
      "{0: [0, 1, 2, 3, 4, 5, 6, 7, 8, 9, 10, 11, 12, 13, 14, 15, 16, 17, 18, 19, 20, 21, 22, 23, 24, 25, 26, 27, 28, 29, 30, 31, 32, 33, 34, 35, 36, 37, 38, 39, 40, 41, 42, 43, 44, 45, 46, 47, 48, 49], 1: []}\n",
      "{0: [1, 4, 5, 6, 8, 10, 11, 12, 13, 14, 15, 16, 17, 18, 19, 20, 23, 25, 27, 28, 29, 30, 31, 32, 33, 34, 36, 37, 38, 39, 40, 41, 42, 43, 46, 48, 49], 1: [0, 2, 3, 7, 9, 21, 22, 24, 26, 35, 44, 45, 47]}\n",
      "{0: [1, 2, 3, 6, 8, 11, 13, 14, 18, 19, 20, 21, 22, 27, 28, 31, 33, 35, 36, 37, 39, 40, 42, 46, 47, 49], 1: [0, 4, 5, 7, 9, 10, 12, 15, 16, 17, 23, 24, 25, 26, 29, 30, 32, 34, 38, 41, 43, 44, 45, 48]}\n",
      "{0: [2, 11, 15, 18, 28, 29, 33, 36, 37, 38, 42], 1: [0, 1, 3, 4, 5, 6, 7, 8, 9, 10, 12, 13, 14, 16, 17, 19, 20, 21, 22, 23, 24, 25, 26, 27, 30, 31, 32, 34, 35, 39, 40, 41, 43, 44, 45, 46, 47, 48, 49]}\n",
      "{0: [1, 2, 6, 7, 11, 20, 22, 23, 24, 25, 26, 28, 29, 30, 33, 37, 38, 40, 41, 42, 43, 44, 46, 49], 1: [0, 3, 4, 5, 8, 9, 10, 12, 13, 14, 15, 16, 17, 18, 19, 21, 27, 31, 32, 34, 35, 36, 39, 45, 47, 48]}\n",
      "{0: [0, 1, 2, 3, 4, 5, 6, 7, 8, 9, 10, 11, 12, 13, 14, 15, 16, 17, 18, 19, 20, 21, 22, 23, 24, 25, 26, 27, 28, 29, 30, 31, 32, 33, 34, 35, 36, 37, 38, 39, 40, 41, 42, 43, 44, 45, 46, 47, 48, 49], 1: []}\n",
      "{0: [2, 3, 4, 5, 8, 9, 10, 11, 12, 14, 16, 17, 18, 20, 21, 22, 23, 25, 26, 27, 30, 31, 32, 35, 37, 38, 39, 40, 41, 42, 43, 44, 45, 47, 49], 1: [0, 1, 6, 7, 13, 15, 19, 24, 28, 29, 33, 34, 36, 46, 48]}\n",
      "{0: [0, 1, 2, 5, 8, 9, 10, 11, 14, 17, 18, 23, 24, 26, 27, 30, 33, 35, 38, 40, 41, 43, 44, 45, 48, 49], 1: [3, 4, 6, 7, 12, 13, 15, 16, 19, 20, 21, 22, 25, 28, 29, 31, 32, 34, 36, 37, 39, 42, 46, 47]}\n",
      "{0: [9, 14, 16, 24, 26, 27, 30, 32, 38, 42, 45, 48, 49], 1: [0, 1, 2, 3, 4, 5, 6, 7, 8, 10, 11, 12, 13, 15, 17, 18, 19, 20, 21, 22, 23, 25, 28, 29, 31, 33, 34, 35, 36, 37, 39, 40, 41, 43, 44, 46, 47]}\n",
      "{0: [0, 3, 5, 14, 15, 16, 21, 24, 25, 26, 29, 30, 32, 33, 34, 35, 36, 37, 38, 42, 45, 48, 49], 1: [1, 2, 4, 6, 7, 8, 9, 10, 11, 12, 13, 17, 18, 19, 20, 22, 23, 27, 28, 31, 39, 40, 41, 43, 44, 46, 47]}\n",
      "{0: [0, 1, 2, 3, 4, 5, 6, 7, 8, 9, 10, 11, 12, 13, 14, 15, 16, 17, 18, 19, 20, 21, 22, 23, 24, 25, 26, 27, 28, 29, 30, 31, 32, 33, 34, 35, 36, 37, 38, 39, 40, 41, 42, 43, 44, 45, 46, 47, 48, 49], 1: []}\n",
      "{0: [0, 5, 6, 7, 8, 9, 10, 13, 14, 15, 16, 18, 19, 20, 23, 24, 26, 27, 28, 29, 31, 33, 34, 35, 36, 37, 38, 39, 40, 41, 42, 43, 44, 46, 47, 48, 49], 1: [1, 2, 3, 4, 11, 12, 17, 21, 22, 25, 30, 32, 45]}\n",
      "{0: [0, 1, 6, 7, 10, 11, 14, 15, 16, 18, 19, 20, 23, 28, 30, 31, 33, 35, 36, 37, 39, 40, 41, 42, 43, 45, 46, 47, 48, 49], 1: [2, 3, 4, 5, 8, 9, 12, 13, 17, 21, 22, 24, 25, 26, 27, 29, 32, 34, 38, 44]}\n",
      "{0: [6, 7, 11, 14, 23, 28, 39, 42, 45], 1: [0, 1, 2, 3, 4, 5, 8, 9, 10, 12, 13, 15, 16, 17, 18, 19, 20, 21, 22, 24, 25, 26, 27, 29, 30, 31, 32, 33, 34, 35, 36, 37, 38, 40, 41, 43, 44, 46, 47, 48, 49]}\n",
      "{0: [1, 2, 5, 6, 10, 11, 12, 14, 15, 16, 18, 19, 23, 24, 25, 27, 31, 32, 34, 35, 36, 38, 39, 40, 41, 44, 45, 47, 48, 49], 1: [0, 3, 4, 7, 8, 9, 13, 17, 20, 21, 22, 26, 28, 29, 30, 33, 37, 42, 43, 46]}\n",
      "{0: [0, 1, 2, 3, 4, 5, 6, 7, 8, 9, 10, 11, 12, 13, 14, 15, 16, 17, 18, 19, 20, 21, 22, 23, 24, 25, 26, 27, 28, 29, 30, 31, 32, 33, 34, 35, 36, 37, 38, 39, 40, 41, 42, 43, 44, 45, 46, 47, 48, 49], 1: []}\n",
      "{0: [1, 2, 3, 4, 6, 7, 10, 12, 14, 15, 16, 17, 18, 19, 20, 21, 22, 24, 25, 26, 28, 29, 31, 32, 33, 34, 37, 38, 39, 40, 41, 43, 44, 45, 46, 47], 1: [0, 5, 8, 9, 11, 13, 23, 27, 30, 35, 36, 42, 48, 49]}\n",
      "{0: [1, 2, 3, 7, 9, 10, 11, 12, 14, 15, 16, 17, 20, 21, 24, 25, 26, 28, 29, 31, 33, 34, 35, 38, 39, 40, 41, 43, 45, 46, 49], 1: [0, 4, 5, 6, 8, 13, 18, 19, 22, 23, 27, 30, 32, 36, 37, 42, 44, 47, 48]}\n",
      "{0: [9, 12, 14, 16, 17, 21, 34, 38, 40], 1: [0, 1, 2, 3, 4, 5, 6, 7, 8, 10, 11, 13, 15, 18, 19, 20, 22, 23, 24, 25, 26, 27, 28, 29, 30, 31, 32, 33, 35, 36, 37, 39, 41, 42, 43, 44, 45, 46, 47, 48, 49]}\n",
      "{0: [0, 3, 4, 9, 10, 12, 15, 17, 21, 23, 25, 27, 28, 34, 38, 40, 42, 44, 48, 49], 1: [1, 2, 5, 6, 7, 8, 11, 13, 14, 16, 18, 19, 20, 22, 24, 26, 29, 30, 31, 32, 33, 35, 36, 37, 39, 41, 43, 45, 46, 47]}\n",
      "{0: [0, 1, 2, 3, 4, 5, 6, 7, 8, 9, 10, 11, 12, 13, 14, 15, 16, 17, 18, 19, 20, 21, 22, 23, 24, 25, 26, 27, 28, 29, 30, 31, 32, 33, 34, 35, 36, 37, 38, 39, 40, 41, 42, 43, 44, 45, 46, 47, 48, 49], 1: []}\n",
      "{0: [0, 1, 2, 3, 4, 5, 6, 8, 9, 10, 11, 12, 14, 15, 16, 21, 22, 23, 25, 26, 27, 28, 29, 30, 31, 32, 33, 35, 36, 37, 38, 40, 41, 42, 44, 46, 47, 49], 1: [7, 13, 17, 18, 19, 20, 24, 34, 39, 43, 45, 48]}\n",
      "{0: [0, 1, 2, 3, 4, 5, 8, 9, 10, 11, 14, 15, 16, 17, 19, 20, 21, 22, 23, 24, 26, 28, 29, 30, 31, 33, 34, 36, 39, 42, 43, 44, 46, 48, 49], 1: [6, 7, 12, 13, 18, 25, 27, 32, 35, 37, 38, 40, 41, 45, 47]}\n",
      "{0: [0, 3, 5, 9, 10, 11, 16, 19, 20, 22, 24, 36, 43, 44, 48], 1: [1, 2, 4, 6, 7, 8, 12, 13, 14, 15, 17, 18, 21, 23, 25, 26, 27, 28, 29, 30, 31, 32, 33, 34, 35, 37, 38, 39, 40, 41, 42, 45, 46, 47, 49]}\n",
      "{0: [0, 1, 3, 8, 9, 10, 14, 18, 19, 20, 22, 23, 25, 27, 28, 29, 30, 31, 32, 33, 34, 36, 39, 43, 44, 45, 46, 47, 48, 49], 1: [2, 4, 5, 6, 7, 11, 12, 13, 15, 16, 17, 21, 24, 26, 35, 37, 38, 40, 41, 42]}\n",
      "{0: [0, 1, 2, 3, 4, 5, 6, 7, 8, 9, 10, 11, 12, 13, 14, 15, 16, 17, 18, 19, 20, 21, 22, 23, 24, 25, 26, 27, 28, 29, 30, 31, 32, 33, 34, 35, 36, 37, 38, 39, 40, 41, 42, 43, 44, 45, 46, 47, 48, 49], 1: []}\n",
      "{0: [3, 4, 5, 6, 7, 8, 9, 11, 12, 13, 16, 19, 20, 21, 22, 23, 25, 26, 28, 29, 30, 31, 32, 33, 35, 36, 37, 38, 39, 40, 41, 42, 43, 45, 46], 1: [0, 1, 2, 10, 14, 15, 17, 18, 24, 27, 34, 44, 47, 48, 49]}\n",
      "{0: [1, 3, 4, 5, 7, 9, 11, 12, 16, 18, 19, 20, 21, 22, 26, 29, 30, 31, 32, 35, 38, 39, 41, 42, 44, 45, 46, 48], 1: [0, 2, 6, 8, 10, 13, 14, 15, 17, 23, 24, 25, 27, 28, 33, 34, 36, 37, 40, 43, 47, 49]}\n",
      "{0: [3, 11, 18, 22, 26, 30, 32, 35, 42, 44, 45, 46], 1: [0, 1, 2, 4, 5, 6, 7, 8, 9, 10, 12, 13, 14, 15, 16, 17, 19, 20, 21, 23, 24, 25, 27, 28, 29, 31, 33, 34, 36, 37, 38, 39, 40, 41, 43, 47, 48, 49]}\n",
      "{0: [0, 1, 3, 4, 5, 6, 8, 11, 13, 14, 17, 18, 19, 20, 21, 22, 23, 24, 26, 27, 28, 29, 30, 31, 32, 39, 41, 42, 43, 44, 45, 46], 1: [2, 7, 9, 10, 12, 15, 16, 25, 33, 34, 35, 36, 37, 38, 40, 47, 48, 49]}\n",
      "{0: [0, 1, 2, 3, 4, 5, 6, 7, 8, 9, 10, 11, 12, 13, 14, 15, 16, 17, 18, 19, 20, 21, 22, 23, 24, 25, 26, 27, 28, 29, 30, 31, 32, 33, 34, 35, 36, 37, 38, 39, 40, 41, 42, 43, 44, 45, 46, 47, 48, 49], 1: []}\n",
      "{0: [2, 3, 4, 5, 6, 7, 8, 9, 10, 11, 12, 13, 14, 15, 17, 18, 19, 20, 22, 23, 28, 29, 30, 31, 32, 33, 34, 36, 37, 38, 39, 40, 41, 43, 44, 45, 46, 47, 48, 49], 1: [0, 1, 16, 21, 24, 25, 26, 27, 35, 42]}\n",
      "{0: [1, 2, 3, 4, 5, 7, 9, 10, 11, 12, 14, 15, 19, 20, 22, 23, 25, 27, 29, 32, 34, 36, 37, 38, 39, 41, 42, 43, 45, 46, 48, 49], 1: [0, 6, 8, 13, 16, 17, 18, 21, 24, 26, 28, 30, 31, 33, 35, 40, 44, 47]}\n",
      "{0: [1, 2, 3, 5, 7, 9, 14, 27, 39, 41, 49], 1: [0, 4, 6, 8, 10, 11, 12, 13, 15, 16, 17, 18, 19, 20, 21, 22, 23, 24, 25, 26, 28, 29, 30, 31, 32, 33, 34, 35, 36, 37, 38, 40, 42, 43, 44, 45, 46, 47, 48]}\n",
      "{0: [1, 2, 5, 6, 8, 9, 12, 16, 18, 20, 22, 23, 24, 25, 26, 30, 32, 35, 36, 37, 39, 42, 45, 47, 49], 1: [0, 3, 4, 7, 10, 11, 13, 14, 15, 17, 19, 21, 27, 28, 29, 31, 33, 34, 38, 40, 41, 43, 44, 46, 48]}\n",
      "{0: [0, 1, 2, 3, 4, 5, 6, 7, 8, 9, 10, 11, 12, 13, 14, 15, 16, 17, 18, 19, 20, 21, 22, 23, 24, 25, 26, 27, 28, 29, 30, 31, 32, 33, 34, 35, 36, 37, 38, 39, 40, 41, 42, 43, 44, 45, 46, 47, 48, 49], 1: []}\n",
      "{0: [0, 1, 2, 3, 4, 6, 7, 8, 9, 11, 12, 14, 15, 16, 19, 21, 23, 25, 26, 27, 28, 29, 30, 31, 32, 35, 36, 37, 38, 39, 40, 41, 42, 44, 45, 46, 48, 49], 1: [5, 10, 13, 17, 18, 20, 22, 24, 33, 34, 43, 47]}\n",
      "{0: [0, 3, 8, 11, 12, 14, 15, 16, 18, 21, 23, 26, 28, 29, 31, 35, 36, 37, 38, 39, 40, 42, 44, 45, 48], 1: [1, 2, 4, 5, 6, 7, 9, 10, 13, 17, 19, 20, 22, 24, 25, 27, 30, 32, 33, 34, 41, 43, 46, 47, 49]}\n",
      "{0: [11, 12, 18, 29, 36, 38], 1: [0, 1, 2, 3, 4, 5, 6, 7, 8, 9, 10, 13, 14, 15, 16, 17, 19, 20, 21, 22, 23, 24, 25, 26, 27, 28, 30, 31, 32, 33, 34, 35, 37, 39, 40, 41, 42, 43, 44, 45, 46, 47, 48, 49]}\n",
      "{0: [5, 6, 7, 9, 11, 12, 14, 17, 18, 19, 22, 24, 25, 26, 28, 29, 37, 40, 41, 43, 46, 49], 1: [0, 1, 2, 3, 4, 8, 10, 13, 15, 16, 20, 21, 23, 27, 30, 31, 32, 33, 34, 35, 36, 38, 39, 42, 44, 45, 47, 48]}\n",
      "{0: [0, 1, 2, 3, 4, 5, 6, 7, 8, 9, 10, 11, 12, 13, 14, 15, 16, 17, 18, 19, 20, 21, 22, 23, 24, 25, 26, 27, 28, 29, 30, 31, 32, 33, 34, 35, 36, 37, 38, 39, 40, 41, 42, 43, 44, 45, 46, 47, 48, 49], 1: []}\n",
      "{0: [0, 1, 2, 3, 4, 5, 7, 8, 9, 10, 11, 12, 13, 14, 15, 16, 18, 19, 20, 21, 23, 24, 25, 27, 28, 29, 30, 31, 32, 33, 34, 36, 37, 38, 39, 40, 41, 42, 43, 45, 46, 47, 49], 1: [6, 17, 22, 26, 35, 44, 48]}\n",
      "{0: [2, 4, 7, 8, 10, 11, 12, 14, 15, 16, 18, 19, 20, 21, 24, 25, 28, 30, 31, 32, 33, 34, 36, 37, 38, 40, 42, 43, 45, 46, 47, 48], 1: [0, 1, 3, 5, 6, 9, 13, 17, 22, 23, 26, 27, 29, 35, 39, 41, 44, 49]}\n",
      "{0: [10, 15, 16, 18, 19, 24, 25, 28, 32, 34, 38, 43, 47, 48], 1: [0, 1, 2, 3, 4, 5, 6, 7, 8, 9, 11, 12, 13, 14, 17, 20, 21, 22, 23, 26, 27, 29, 30, 31, 33, 35, 36, 37, 39, 40, 41, 42, 44, 45, 46, 49]}\n",
      "{0: [2, 4, 5, 6, 9, 10, 13, 15, 18, 19, 23, 24, 25, 28, 29, 30, 34, 35, 37, 40, 48, 49], 1: [0, 1, 3, 7, 8, 11, 12, 14, 16, 17, 20, 21, 22, 26, 27, 31, 32, 33, 36, 38, 39, 41, 42, 43, 44, 45, 46, 47]}\n",
      "{0: [0, 1, 2, 3, 4, 5, 6, 7, 8, 9, 10, 11, 12, 13, 14, 15, 16, 17, 18, 19, 20, 21, 22, 23, 24, 25, 26, 27, 28, 29, 30, 31, 32, 33, 34, 35, 36, 37, 38, 39, 40, 41, 42, 43, 44, 45, 46, 47, 48, 49], 1: []}\n",
      "{0: [0, 2, 3, 5, 6, 8, 9, 10, 11, 12, 13, 14, 16, 17, 18, 19, 20, 21, 22, 23, 24, 25, 26, 29, 30, 31, 32, 34, 36, 37, 38, 39, 40, 41, 42, 43, 44, 45, 47, 48], 1: [1, 4, 7, 15, 27, 28, 33, 35, 46, 49]}\n",
      "{0: [0, 2, 3, 4, 5, 6, 8, 9, 11, 12, 13, 14, 17, 18, 19, 20, 22, 23, 24, 25, 28, 29, 30, 31, 32, 35, 40, 41, 42, 43, 47, 48], 1: [1, 7, 10, 15, 16, 21, 26, 27, 33, 34, 36, 37, 38, 39, 44, 45, 46, 49]}\n",
      "{0: [3, 4, 8, 18, 20, 40, 47], 1: [0, 1, 2, 5, 6, 7, 9, 10, 11, 12, 13, 14, 15, 16, 17, 19, 21, 22, 23, 24, 25, 26, 27, 28, 29, 30, 31, 32, 33, 34, 35, 36, 37, 38, 39, 41, 42, 43, 44, 45, 46, 48, 49]}\n",
      "{0: [0, 1, 3, 4, 5, 7, 8, 9, 10, 13, 14, 17, 18, 23, 24, 28, 29, 33, 35, 37, 39, 40, 41, 44, 47, 48, 49], 1: [2, 6, 11, 12, 15, 16, 19, 20, 21, 22, 25, 26, 27, 30, 31, 32, 34, 36, 38, 42, 43, 45, 46]}\n",
      "{0: [0, 1, 2, 3, 4, 5, 6, 7, 8, 9, 10, 11, 12, 13, 14, 15, 16, 17, 18, 19, 20, 21, 22, 23, 24, 25, 26, 27, 28, 29, 30, 31, 32, 33, 34, 35, 36, 37, 38, 39, 40, 41, 42, 43, 44, 45, 46, 47, 48, 49], 1: []}\n",
      "{0: [1, 2, 3, 4, 7, 10, 15, 16, 17, 18, 20, 21, 22, 23, 24, 25, 26, 27, 28, 29, 31, 32, 36, 38, 39, 40, 41, 42, 43, 45, 47, 49], 1: [0, 5, 6, 8, 9, 11, 12, 13, 14, 19, 30, 33, 34, 35, 37, 44, 46, 48]}\n",
      "{0: [0, 1, 3, 5, 7, 10, 12, 13, 14, 17, 18, 20, 24, 25, 26, 27, 28, 29, 32, 35, 36, 38, 39, 40, 43, 45], 1: [2, 4, 6, 8, 9, 11, 15, 16, 19, 21, 22, 23, 30, 31, 33, 34, 37, 41, 42, 44, 46, 47, 48, 49]}\n",
      "{0: [3, 5, 7, 10, 13, 14, 18, 28, 39, 43, 45], 1: [0, 1, 2, 4, 6, 8, 9, 11, 12, 15, 16, 17, 19, 20, 21, 22, 23, 24, 25, 26, 27, 29, 30, 31, 32, 33, 34, 35, 36, 37, 38, 40, 41, 42, 44, 46, 47, 48, 49]}\n",
      "{0: [0, 1, 3, 4, 5, 6, 7, 8, 10, 13, 14, 17, 18, 21, 23, 25, 27, 35, 36, 37, 39, 40, 41, 43, 44, 45, 46, 47], 1: [2, 9, 11, 12, 15, 16, 19, 20, 22, 24, 26, 28, 29, 30, 31, 32, 33, 34, 38, 42, 48, 49]}\n",
      "{0: [0, 1, 2, 3, 4, 5, 6, 7, 8, 9, 10, 11, 12, 13, 14, 15, 16, 17, 18, 19, 20, 21, 22, 23, 24, 25, 26, 27, 28, 29, 30, 31, 32, 33, 34, 35, 36, 37, 38, 39, 40, 41, 42, 43, 44, 45, 46, 47, 48, 49], 1: []}\n",
      "{0: [1, 2, 3, 4, 5, 7, 8, 9, 10, 11, 14, 15, 17, 18, 21, 23, 24, 28, 32, 33, 34, 36, 37, 38, 39, 40, 43, 44, 45, 46, 47, 48, 49], 1: [0, 6, 12, 13, 16, 19, 20, 22, 25, 26, 27, 29, 30, 31, 35, 41, 42]}\n",
      "{0: [0, 1, 2, 4, 7, 8, 11, 12, 14, 15, 17, 18, 21, 25, 28, 32, 33, 34, 35, 36, 37, 38, 40, 41, 42, 44, 45, 46, 47, 49], 1: [3, 5, 6, 9, 10, 13, 16, 19, 20, 22, 23, 24, 26, 27, 29, 30, 31, 39, 43, 48]}\n",
      "{0: [0, 1, 11, 14, 17, 33, 34, 37, 38, 45, 46, 47], 1: [2, 3, 4, 5, 6, 7, 8, 9, 10, 12, 13, 15, 16, 18, 19, 20, 21, 22, 23, 24, 25, 26, 27, 28, 29, 30, 31, 32, 35, 36, 39, 40, 41, 42, 43, 44, 48, 49]}\n",
      "{0: [0, 1, 3, 5, 9, 11, 12, 13, 14, 18, 21, 22, 33, 34, 37, 38, 42, 43, 46], 1: [2, 4, 6, 7, 8, 10, 15, 16, 17, 19, 20, 23, 24, 25, 26, 27, 28, 29, 30, 31, 32, 35, 36, 39, 40, 41, 44, 45, 47, 48, 49]}\n",
      "{0: [0, 1, 2, 3, 4, 5, 6, 7, 8, 9, 10, 11, 12, 13, 14, 15, 16, 17, 18, 19, 20, 21, 22, 23, 24, 25, 26, 27, 28, 29, 30, 31, 32, 33, 34, 35, 36, 37, 38, 39, 40, 41, 42, 43, 44, 45, 46, 47, 48, 49], 1: []}\n",
      "{0: [1, 2, 4, 5, 7, 8, 9, 12, 13, 14, 15, 17, 18, 19, 20, 21, 22, 26, 27, 28, 29, 31, 32, 34, 35, 38, 39, 40, 41, 43, 44, 45, 46, 47, 49], 1: [0, 3, 6, 10, 11, 16, 23, 24, 25, 30, 33, 36, 37, 42, 48]}\n",
      "{0: [0, 1, 2, 3, 4, 8, 9, 12, 13, 14, 17, 19, 22, 26, 28, 29, 31, 38, 39, 40, 41, 43], 1: [5, 6, 7, 10, 11, 15, 16, 18, 20, 21, 23, 24, 25, 27, 30, 32, 33, 34, 35, 36, 37, 42, 44, 45, 46, 47, 48, 49]}\n",
      "{0: [19, 22, 29, 39, 40], 1: [0, 1, 2, 3, 4, 5, 6, 7, 8, 9, 10, 11, 12, 13, 14, 15, 16, 17, 18, 20, 21, 23, 24, 25, 26, 27, 28, 30, 31, 32, 33, 34, 35, 36, 37, 38, 41, 42, 43, 44, 45, 46, 47, 48, 49]}\n",
      "{0: [0, 2, 3, 8, 9, 10, 11, 12, 15, 19, 20, 22, 25, 26, 28, 29, 32, 33, 34, 36, 37, 41, 43, 47, 48], 1: [1, 4, 5, 6, 7, 13, 14, 16, 17, 18, 21, 23, 24, 27, 30, 31, 35, 38, 39, 40, 42, 44, 45, 46, 49]}\n",
      "{0: [0, 1, 2, 3, 4, 5, 6, 7, 8, 9, 10, 11, 12, 13, 14, 15, 16, 17, 18, 19, 20, 21, 22, 23, 24, 25, 26, 27, 28, 29, 30, 31, 32, 33, 34, 35, 36, 37, 38, 39, 40, 41, 42, 43, 44, 45, 46, 47, 48, 49], 1: []}\n",
      "{0: [0, 1, 2, 4, 5, 6, 7, 9, 10, 11, 12, 14, 16, 17, 20, 22, 23, 24, 25, 26, 27, 28, 29, 30, 32, 36, 37, 38, 39, 41, 43, 45, 47, 48, 49], 1: [3, 8, 13, 15, 18, 19, 21, 31, 33, 34, 35, 40, 42, 44, 46]}\n",
      "{0: [0, 1, 2, 4, 5, 6, 7, 9, 11, 16, 17, 20, 22, 27, 31, 32, 34, 35, 43, 44, 45, 47, 48, 49], 1: [3, 8, 10, 12, 13, 14, 15, 18, 19, 21, 23, 24, 25, 26, 28, 29, 30, 33, 36, 37, 38, 39, 40, 41, 42, 46]}\n",
      "{0: [1, 5, 7, 17, 31, 32, 34, 37, 44, 47], 1: [0, 2, 3, 4, 6, 8, 9, 10, 11, 12, 13, 14, 15, 16, 18, 19, 20, 21, 22, 23, 24, 25, 26, 27, 28, 29, 30, 33, 35, 36, 38, 39, 40, 41, 42, 43, 45, 46, 48, 49]}\n",
      "{0: [0, 4, 5, 7, 9, 11, 13, 15, 17, 19, 23, 24, 27, 28, 29, 32, 33, 34, 36, 37, 42, 43, 44, 45, 47], 1: [1, 2, 3, 6, 8, 10, 12, 14, 16, 18, 20, 21, 22, 25, 26, 30, 31, 35, 38, 39, 40, 41, 46, 48, 49]}\n",
      "{0: [0, 1, 2, 3, 4, 5, 6, 7, 8, 9, 10, 11, 12, 13, 14, 15, 16, 17, 18, 19, 20, 21, 22, 23, 24, 25, 26, 27, 28, 29, 30, 31, 32, 33, 34, 35, 36, 37, 38, 39, 40, 41, 42, 43, 44, 45, 46, 47, 48, 49], 1: []}\n",
      "{0: [0, 1, 2, 3, 4, 5, 6, 8, 9, 10, 11, 12, 13, 15, 16, 18, 19, 20, 23, 24, 25, 26, 27, 28, 30, 31, 32, 33, 34, 36, 37, 38, 39, 40, 42, 44, 45, 46, 47, 48], 1: [7, 14, 17, 21, 22, 29, 35, 41, 43, 49]}\n",
      "{0: [0, 1, 3, 4, 8, 9, 10, 11, 12, 15, 19, 20, 22, 23, 25, 30, 31, 33, 34, 37, 38, 39, 40, 42, 46, 47, 48], 1: [2, 5, 6, 7, 13, 14, 16, 17, 18, 21, 24, 26, 27, 28, 29, 32, 35, 36, 41, 43, 44, 45, 49]}\n",
      "{0: [1, 11, 13, 16, 20, 23, 30, 31, 39, 40, 46], 1: [0, 2, 3, 4, 5, 6, 7, 8, 9, 10, 12, 14, 15, 17, 18, 19, 21, 22, 24, 25, 26, 27, 28, 29, 32, 33, 34, 35, 36, 37, 38, 41, 42, 43, 44, 45, 47, 48, 49]}\n",
      "{0: [0, 2, 5, 7, 10, 11, 13, 16, 17, 20, 23, 25, 34, 35, 39, 41, 45, 46], 1: [1, 3, 4, 6, 8, 9, 12, 14, 15, 18, 19, 21, 22, 24, 26, 27, 28, 29, 30, 31, 32, 33, 36, 37, 38, 40, 42, 43, 44, 47, 48, 49]}\n",
      "{0: [0, 1, 2, 3, 4, 5, 6, 7, 8, 9, 10, 11, 12, 13, 14, 15, 16, 17, 18, 19, 20, 21, 22, 23, 24, 25, 26, 27, 28, 29, 30, 31, 32, 33, 34, 35, 36, 37, 38, 39, 40, 41, 42, 43, 44, 45, 46, 47, 48, 49], 1: []}\n",
      "{0: [0, 1, 2, 3, 4, 5, 6, 7, 8, 9, 10, 11, 12, 13, 15, 16, 18, 19, 20, 21, 22, 23, 24, 25, 26, 28, 29, 31, 32, 33, 34, 35, 36, 37, 39, 43, 45, 48, 49], 1: [14, 17, 27, 30, 38, 40, 41, 42, 44, 46, 47]}\n",
      "{0: [0, 2, 3, 4, 6, 7, 9, 10, 11, 12, 15, 16, 17, 18, 21, 23, 25, 29, 32, 34, 35, 36, 37, 38, 39, 40, 43, 48], 1: [1, 5, 8, 13, 14, 19, 20, 22, 24, 26, 27, 28, 30, 31, 33, 41, 42, 44, 45, 46, 47, 49]}\n",
      "{0: [4, 6, 7, 12, 17, 18, 23, 36, 40, 43], 1: [0, 1, 2, 3, 5, 8, 9, 10, 11, 13, 14, 15, 16, 19, 20, 21, 22, 24, 25, 26, 27, 28, 29, 30, 31, 32, 33, 34, 35, 37, 38, 39, 41, 42, 44, 45, 46, 47, 48, 49]}\n",
      "{0: [0, 1, 2, 7, 9, 12, 13, 15, 16, 17, 20, 24, 26, 33, 35, 40, 44, 47], 1: [3, 4, 5, 6, 8, 10, 11, 14, 18, 19, 21, 22, 23, 25, 27, 28, 29, 30, 31, 32, 34, 36, 37, 38, 39, 41, 42, 43, 45, 46, 48, 49]}\n",
      "{0: [0, 1, 2, 3, 4, 5, 6, 7, 8, 9, 10, 11, 12, 13, 14, 15, 16, 17, 18, 19, 20, 21, 22, 23, 24, 25, 26, 27, 28, 29, 30, 31, 32, 33, 34, 35, 36, 37, 38, 39, 40, 41, 42, 43, 44, 45, 46, 47, 48, 49], 1: []}\n",
      "{0: [0, 1, 2, 4, 5, 7, 8, 9, 10, 11, 12, 14, 15, 16, 17, 18, 19, 21, 22, 23, 24, 26, 28, 29, 32, 39, 41, 43, 44, 45, 47], 1: [3, 6, 13, 20, 25, 27, 30, 31, 33, 34, 35, 36, 37, 38, 40, 42, 46, 48, 49]}\n",
      "{0: [0, 1, 2, 8, 10, 11, 12, 14, 15, 16, 17, 18, 20, 21, 22, 23, 24, 26, 27, 28, 31, 35, 37, 39, 41, 43, 44, 45, 46, 49], 1: [3, 4, 5, 6, 7, 9, 13, 19, 25, 29, 30, 32, 33, 34, 36, 38, 40, 42, 47, 48]}\n",
      "{0: [0, 12, 15, 16, 17, 23, 26, 28, 31, 35, 37, 41, 46], 1: [1, 2, 3, 4, 5, 6, 7, 8, 9, 10, 11, 13, 14, 18, 19, 20, 21, 22, 24, 25, 27, 29, 30, 32, 33, 34, 36, 38, 39, 40, 42, 43, 44, 45, 47, 48, 49]}\n",
      "{0: [0, 2, 6, 7, 8, 11, 12, 16, 17, 23, 24, 29, 31, 33, 35, 36, 37, 39, 40, 45, 46, 49], 1: [1, 3, 4, 5, 9, 10, 13, 14, 15, 18, 19, 20, 21, 22, 25, 26, 27, 28, 30, 32, 34, 38, 41, 42, 43, 44, 47, 48]}\n",
      "{0: [0, 1, 2, 3, 4, 5, 6, 7, 8, 9, 10, 11, 12, 13, 14, 15, 16, 17, 18, 19, 20, 21, 22, 23, 24, 25, 26, 27, 28, 29, 30, 31, 32, 33, 34, 35, 36, 37, 38, 39, 40, 41, 42, 43, 44, 45, 46, 47, 48, 49], 1: []}\n",
      "{0: [0, 1, 2, 3, 7, 8, 9, 10, 12, 13, 14, 15, 17, 18, 19, 20, 21, 22, 24, 25, 26, 27, 28, 30, 34, 36, 37, 38, 39, 40, 43, 44, 47, 48, 49], 1: [4, 5, 6, 11, 16, 23, 29, 31, 32, 33, 35, 41, 42, 45, 46]}\n",
      "{0: [1, 2, 3, 7, 8, 10, 12, 14, 15, 17, 19, 21, 22, 24, 25, 26, 27, 28, 30, 31, 34, 35, 36, 38, 39, 40, 42, 43, 45, 46, 48, 49], 1: [0, 4, 5, 6, 9, 11, 13, 16, 18, 20, 23, 29, 32, 33, 37, 41, 44, 47]}\n",
      "{0: [8, 12, 17, 19, 21, 22, 25, 28, 35, 39, 43, 45, 48], 1: [0, 1, 2, 3, 4, 5, 6, 7, 9, 10, 11, 13, 14, 15, 16, 18, 20, 23, 24, 26, 27, 29, 30, 31, 32, 33, 34, 36, 37, 38, 40, 41, 42, 44, 46, 47, 49]}\n",
      "{0: [2, 3, 4, 5, 8, 11, 12, 14, 15, 17, 18, 19, 23, 25, 26, 27, 30, 31, 32, 33, 34, 36, 37, 38, 39, 41, 43, 45, 46, 47, 48], 1: [0, 1, 6, 7, 9, 10, 13, 16, 20, 21, 22, 24, 28, 29, 35, 40, 42, 44, 49]}\n",
      "{0: [0, 1, 2, 3, 4, 5, 6, 7, 8, 9, 10, 11, 12, 13, 14, 15, 16, 17, 18, 19, 20, 21, 22, 23, 24, 25, 26, 27, 28, 29, 30, 31, 32, 33, 34, 35, 36, 37, 38, 39, 40, 41, 42, 43, 44, 45, 46, 47, 48, 49], 1: []}\n",
      "{0: [2, 3, 4, 5, 7, 9, 12, 13, 14, 16, 17, 19, 20, 21, 22, 23, 24, 25, 26, 29, 30, 31, 34, 35, 36, 37, 38, 39, 40, 41, 42, 44, 45, 46, 47, 49], 1: [0, 1, 6, 8, 10, 11, 15, 18, 27, 28, 32, 33, 43, 48]}\n",
      "{0: [2, 3, 7, 9, 12, 13, 16, 17, 19, 21, 23, 24, 29, 31, 32, 34, 37, 38, 39, 40, 41, 43, 45, 46, 47, 49], 1: [0, 1, 4, 5, 6, 8, 10, 11, 14, 15, 18, 20, 22, 25, 26, 27, 28, 30, 33, 35, 36, 42, 44, 48]}\n",
      "{0: [5, 13, 16, 17, 21, 23, 24, 31, 37, 39, 43, 45, 46, 47], 1: [0, 1, 2, 3, 4, 6, 7, 8, 9, 10, 11, 12, 14, 15, 18, 19, 20, 22, 25, 26, 27, 28, 29, 30, 32, 33, 34, 35, 36, 38, 40, 41, 42, 44, 48, 49]}\n",
      "{0: [0, 2, 5, 6, 8, 13, 14, 17, 21, 22, 23, 24, 25, 34, 35, 36, 37, 40, 41, 42, 45, 47], 1: [1, 3, 4, 7, 9, 10, 11, 12, 15, 16, 18, 19, 20, 26, 27, 28, 29, 30, 31, 32, 33, 38, 39, 43, 44, 46, 48, 49]}\n",
      "{0: [0, 1, 2, 3, 4, 5, 6, 7, 8, 9, 10, 11, 12, 13, 14, 15, 16, 17, 18, 19, 20, 21, 22, 23, 24, 25, 26, 27, 28, 29, 30, 31, 32, 33, 34, 35, 36, 37, 38, 39, 40, 41, 42, 43, 44, 45, 46, 47, 48, 49], 1: []}\n",
      "{0: [0, 2, 3, 4, 5, 6, 7, 8, 9, 10, 12, 13, 14, 15, 17, 19, 21, 22, 24, 25, 26, 27, 28, 30, 31, 32, 34, 35, 37, 39, 41, 42, 43, 44, 45, 47, 49], 1: [1, 11, 16, 18, 20, 23, 29, 33, 36, 38, 40, 46, 48]}\n",
      "{0: [0, 3, 4, 5, 7, 8, 11, 12, 13, 14, 15, 19, 21, 24, 26, 27, 29, 30, 34, 37, 39, 40, 41, 42, 45, 47, 48, 49], 1: [1, 2, 6, 9, 10, 16, 17, 18, 20, 22, 23, 25, 28, 31, 32, 33, 35, 36, 38, 43, 44, 46]}\n",
      "{0: [0, 5, 12, 15, 26, 30, 34, 39, 47], 1: [1, 2, 3, 4, 6, 7, 8, 9, 10, 11, 13, 14, 16, 17, 18, 19, 20, 21, 22, 23, 24, 25, 27, 28, 29, 31, 32, 33, 35, 36, 37, 38, 40, 41, 42, 43, 44, 45, 46, 48, 49]}\n",
      "{0: [0, 3, 5, 7, 9, 15, 20, 21, 22, 23, 26, 27, 29, 30, 31, 32, 34, 39, 40, 41, 43, 47, 49], 1: [1, 2, 4, 6, 8, 10, 11, 12, 13, 14, 16, 17, 18, 19, 24, 25, 28, 33, 35, 36, 37, 38, 42, 44, 45, 46, 48]}\n",
      "{0: [0, 1, 2, 3, 4, 5, 6, 7, 8, 9, 10, 11, 12, 13, 14, 15, 16, 17, 18, 19, 20, 21, 22, 23, 24, 25, 26, 27, 28, 29, 30, 31, 32, 33, 34, 35, 36, 37, 38, 39, 40, 41, 42, 43, 44, 45, 46, 47, 48, 49], 1: []}\n",
      "{0: [0, 3, 4, 5, 7, 8, 9, 10, 13, 14, 15, 16, 17, 19, 20, 22, 23, 24, 25, 26, 28, 31, 33, 34, 36, 37, 38, 39, 41, 42, 43, 44, 45, 46, 48], 1: [1, 2, 6, 11, 12, 18, 21, 27, 29, 30, 32, 35, 40, 47, 49]}\n",
      "{0: [0, 4, 7, 8, 9, 10, 13, 14, 15, 17, 19, 20, 22, 24, 26, 29, 31, 32, 33, 34, 35, 36, 39, 41, 42, 43, 44, 45], 1: [1, 2, 3, 5, 6, 11, 12, 16, 18, 21, 23, 25, 27, 28, 30, 37, 38, 40, 46, 47, 48, 49]}\n",
      "{0: [14, 44], 1: [0, 1, 2, 3, 4, 5, 6, 7, 8, 9, 10, 11, 12, 13, 15, 16, 17, 18, 19, 20, 21, 22, 23, 24, 25, 26, 27, 28, 29, 30, 31, 32, 33, 34, 35, 36, 37, 38, 39, 40, 41, 42, 43, 45, 46, 47, 48, 49]}\n",
      "{0: [1, 2, 5, 6, 7, 9, 10, 11, 14, 17, 18, 21, 23, 24, 25, 26, 29, 32, 34, 36, 37, 39, 40, 41, 42, 43, 44], 1: [0, 3, 4, 8, 12, 13, 15, 16, 19, 20, 22, 27, 28, 30, 31, 33, 35, 38, 45, 46, 47, 48, 49]}\n",
      "{0: [0, 1, 2, 3, 4, 5, 6, 7, 8, 9, 10, 11, 12, 13, 14, 15, 16, 17, 18, 19, 20, 21, 22, 23, 24, 25, 26, 27, 28, 29, 30, 31, 32, 33, 34, 35, 36, 37, 38, 39, 40, 41, 42, 43, 44, 45, 46, 47, 48, 49], 1: []}\n",
      "{0: [1, 3, 4, 5, 7, 10, 12, 13, 14, 18, 19, 20, 22, 23, 25, 26, 28, 29, 30, 32, 33, 35, 36, 37, 38, 39, 40, 41, 42, 43, 45, 46, 47, 49], 1: [0, 2, 6, 8, 9, 11, 15, 16, 17, 21, 24, 27, 31, 34, 44, 48]}\n",
      "{0: [1, 2, 3, 5, 7, 10, 12, 18, 19, 20, 25, 26, 27, 28, 29, 31, 32, 33, 34, 35, 36, 38, 39, 40, 41, 42, 45, 46, 47, 49], 1: [0, 4, 6, 8, 9, 11, 13, 14, 15, 16, 17, 21, 22, 23, 24, 30, 37, 43, 44, 48]}\n",
      "{0: [2, 18, 19, 20, 28, 31, 35, 39], 1: [0, 1, 3, 4, 5, 6, 7, 8, 9, 10, 11, 12, 13, 14, 15, 16, 17, 21, 22, 23, 24, 25, 26, 27, 29, 30, 32, 33, 34, 36, 37, 38, 40, 41, 42, 43, 44, 45, 46, 47, 48, 49]}\n",
      "{0: [1, 2, 7, 9, 11, 13, 16, 19, 20, 21, 27, 31, 34, 38, 39, 43, 44, 45, 46, 48], 1: [0, 3, 4, 5, 6, 8, 10, 12, 14, 15, 17, 18, 22, 23, 24, 25, 26, 28, 29, 30, 32, 33, 35, 36, 37, 40, 41, 42, 47, 49]}\n",
      "{0: [0, 1, 2, 3, 4, 5, 6, 7, 8, 9, 10, 11, 12, 13, 14, 15, 16, 17, 18, 19, 20, 21, 22, 23, 24, 25, 26, 27, 28, 29, 30, 31, 32, 33, 34, 35, 36, 37, 38, 39, 40, 41, 42, 43, 44, 45, 46, 47, 48, 49], 1: []}\n",
      "{0: [0, 1, 2, 3, 4, 5, 6, 7, 8, 9, 10, 12, 13, 14, 15, 16, 17, 19, 20, 21, 22, 24, 25, 26, 27, 29, 34, 35, 36, 37, 38, 41, 43, 44, 46, 47, 48, 49], 1: [11, 18, 23, 28, 30, 31, 32, 33, 39, 40, 42, 45]}\n",
      "{0: [1, 2, 3, 4, 5, 6, 9, 10, 12, 13, 14, 16, 17, 18, 19, 20, 21, 22, 24, 25, 26, 27, 30, 31, 33, 36, 42, 43, 44, 46, 48, 49], 1: [0, 7, 8, 11, 15, 23, 28, 29, 32, 34, 35, 37, 38, 39, 40, 41, 45, 47]}\n",
      "{0: [2, 5, 6, 10, 13, 16, 18, 19, 21, 24, 30, 42, 48], 1: [0, 1, 3, 4, 7, 8, 9, 11, 12, 14, 15, 17, 20, 22, 23, 25, 26, 27, 28, 29, 31, 32, 33, 34, 35, 36, 37, 38, 39, 40, 41, 43, 44, 45, 46, 47, 49]}\n",
      "{0: [2, 3, 6, 8, 10, 12, 15, 16, 18, 19, 21, 23, 24, 25, 28, 29, 30, 33, 36, 37, 38, 40, 42, 45, 47], 1: [0, 1, 4, 5, 7, 9, 11, 13, 14, 17, 20, 22, 26, 27, 31, 32, 34, 35, 39, 41, 43, 44, 46, 48, 49]}\n",
      "{0: [0, 1, 2, 3, 4, 5, 6, 7, 8, 9, 10, 11, 12, 13, 14, 15, 16, 17, 18, 19, 20, 21, 22, 23, 24, 25, 26, 27, 28, 29, 30, 31, 32, 33, 34, 35, 36, 37, 38, 39, 40, 41, 42, 43, 44, 45, 46, 47, 48, 49], 1: []}\n",
      "{0: [0, 1, 2, 3, 4, 5, 7, 8, 9, 10, 11, 12, 13, 14, 15, 16, 17, 18, 19, 20, 21, 22, 23, 24, 25, 26, 28, 30, 31, 32, 34, 35, 36, 37, 38, 39, 40, 42, 44, 46, 48, 49], 1: [6, 27, 29, 33, 41, 43, 45, 47]}\n",
      "{0: [0, 1, 2, 3, 4, 5, 7, 8, 11, 12, 13, 17, 18, 19, 21, 22, 23, 26, 30, 31, 32, 33, 34, 36, 37, 38, 39, 40, 42, 43, 45, 46, 47, 48], 1: [6, 9, 10, 14, 15, 16, 20, 24, 25, 27, 28, 29, 35, 41, 44, 49]}\n",
      "{0: [0, 1, 4, 7, 11, 32, 33, 34, 36, 37, 40, 42, 48], 1: [2, 3, 5, 6, 8, 9, 10, 12, 13, 14, 15, 16, 17, 18, 19, 20, 21, 22, 23, 24, 25, 26, 27, 28, 29, 30, 31, 35, 38, 39, 41, 43, 44, 45, 46, 47, 49]}\n",
      "{0: [4, 5, 6, 10, 11, 13, 14, 16, 20, 23, 27, 29, 30, 31, 32, 33, 35, 37, 39, 40, 43, 48], 1: [0, 1, 2, 3, 7, 8, 9, 12, 15, 17, 18, 19, 21, 22, 24, 25, 26, 28, 34, 36, 38, 41, 42, 44, 45, 46, 47, 49]}\n",
      "{0: [0, 1, 2, 3, 4, 5, 6, 7, 8, 9, 10, 11, 12, 13, 14, 15, 16, 17, 18, 19, 20, 21, 22, 23, 24, 25, 26, 27, 28, 29, 30, 31, 32, 33, 34, 35, 36, 37, 38, 39, 40, 41, 42, 43, 44, 45, 46, 47, 48, 49], 1: []}\n",
      "{0: [2, 3, 4, 5, 7, 8, 9, 11, 12, 14, 15, 16, 17, 19, 21, 22, 23, 24, 25, 26, 27, 29, 30, 31, 32, 33, 35, 37, 39, 40, 41, 42, 43, 45, 46, 47, 48, 49], 1: [0, 1, 6, 10, 13, 18, 20, 28, 34, 36, 38, 44]}\n",
      "{0: [2, 3, 4, 5, 6, 7, 8, 9, 10, 11, 15, 17, 19, 20, 24, 25, 26, 28, 29, 30, 32, 33, 35, 40, 41, 45, 46, 49], 1: [0, 1, 12, 13, 14, 16, 18, 21, 22, 23, 27, 31, 34, 36, 37, 38, 39, 42, 43, 44, 47, 48]}\n",
      "{0: [2, 3, 9, 15, 21, 24, 25, 30, 45], 1: [0, 1, 4, 5, 6, 7, 8, 10, 11, 12, 13, 14, 16, 17, 18, 19, 20, 22, 23, 26, 27, 28, 29, 31, 32, 33, 34, 35, 36, 37, 38, 39, 40, 41, 42, 43, 44, 46, 47, 48, 49]}\n",
      "{0: [0, 1, 2, 4, 6, 7, 10, 12, 14, 16, 19, 20, 21, 22, 23, 24, 25, 30, 31, 34, 35, 36, 37, 38, 41, 43, 47, 49], 1: [3, 5, 8, 9, 11, 13, 15, 17, 18, 26, 27, 28, 29, 32, 33, 39, 40, 42, 44, 45, 46, 48]}\n",
      "{0: [0, 1, 2, 3, 4, 5, 6, 7, 8, 9, 10, 11, 12, 13, 14, 15, 16, 17, 18, 19, 20, 21, 22, 23, 24, 25, 26, 27, 28, 29, 30, 31, 32, 33, 34, 35, 36, 37, 38, 39, 40, 41, 42, 43, 44, 45, 46, 47, 48, 49], 1: []}\n",
      "{0: [1, 2, 3, 4, 5, 6, 7, 8, 9, 10, 12, 13, 14, 15, 17, 18, 19, 21, 25, 26, 27, 28, 29, 30, 33, 35, 36, 37, 38, 39, 40, 41, 42, 43, 46, 48, 49], 1: [0, 11, 16, 20, 22, 23, 24, 31, 32, 34, 44, 45, 47]}\n",
      "{0: [1, 2, 3, 4, 5, 7, 8, 9, 10, 12, 14, 15, 18, 25, 27, 28, 29, 30, 32, 33, 35, 38, 39, 41, 43, 44, 48, 49], 1: [0, 6, 11, 13, 16, 17, 19, 20, 21, 22, 23, 24, 26, 31, 34, 36, 37, 40, 42, 45, 46, 47]}\n",
      "{0: [3, 9, 12, 14, 18, 25, 27, 32, 33, 48], 1: [0, 1, 2, 4, 5, 6, 7, 8, 10, 11, 13, 15, 16, 17, 19, 20, 21, 22, 23, 24, 26, 28, 29, 30, 31, 34, 35, 36, 37, 38, 39, 40, 41, 42, 43, 44, 45, 46, 47, 49]}\n",
      "{0: [1, 2, 7, 9, 11, 12, 13, 15, 19, 21, 24, 25, 27, 28, 29, 32, 33, 34, 35, 37, 40, 41, 44, 45, 48, 49], 1: [0, 3, 4, 5, 6, 8, 10, 14, 16, 17, 18, 20, 22, 23, 26, 30, 31, 36, 38, 39, 42, 43, 46, 47]}\n",
      "{0: [0, 1, 2, 3, 4, 5, 6, 7, 8, 9, 10, 11, 12, 13, 14, 15, 16, 17, 18, 19, 20, 21, 22, 23, 24, 25, 26, 27, 28, 29, 30, 31, 32, 33, 34, 35, 36, 37, 38, 39, 40, 41, 42, 43, 44, 45, 46, 47, 48, 49], 1: []}\n",
      "{0: [0, 1, 2, 3, 4, 5, 6, 8, 9, 11, 13, 16, 18, 19, 22, 23, 24, 25, 26, 28, 29, 30, 31, 32, 33, 34, 35, 36, 37, 38, 39, 40, 41, 43, 44, 46, 48, 49], 1: [7, 10, 12, 14, 15, 17, 20, 21, 27, 42, 45, 47]}\n",
      "{0: [1, 3, 4, 6, 8, 9, 11, 13, 15, 16, 18, 19, 22, 24, 26, 30, 32, 33, 34, 35, 36, 37, 38, 40, 43, 44, 45, 49], 1: [0, 2, 5, 7, 10, 12, 14, 17, 20, 21, 23, 25, 27, 28, 29, 31, 39, 41, 42, 46, 47, 48]}\n",
      "{0: [1, 11, 13, 19, 24, 27, 30, 34, 37, 38, 40, 45, 49], 1: [0, 2, 3, 4, 5, 6, 7, 8, 9, 10, 12, 14, 15, 16, 17, 18, 20, 21, 22, 23, 25, 26, 28, 29, 31, 32, 33, 35, 36, 39, 41, 42, 43, 44, 46, 47, 48]}\n",
      "{0: [1, 2, 3, 4, 8, 11, 12, 13, 17, 26, 27, 29, 30, 31, 32, 34, 36, 37, 38, 39, 40, 43, 44, 45, 46, 49], 1: [0, 5, 6, 7, 9, 10, 14, 15, 16, 18, 19, 20, 21, 22, 23, 24, 25, 28, 33, 35, 41, 42, 47, 48]}\n",
      "{0: [0, 1, 2, 3, 4, 5, 6, 7, 8, 9, 10, 11, 12, 13, 14, 15, 16, 17, 18, 19, 20, 21, 22, 23, 24, 25, 26, 27, 28, 29, 30, 31, 32, 33, 34, 35, 36, 37, 38, 39, 40, 41, 42, 43, 44, 45, 46, 47, 48, 49], 1: []}\n",
      "{0: [0, 1, 5, 6, 7, 8, 10, 11, 12, 13, 15, 16, 18, 20, 21, 23, 28, 31, 32, 33, 34, 35, 36, 37, 40, 41, 45, 46, 47], 1: [2, 3, 4, 9, 14, 17, 19, 22, 24, 25, 26, 27, 29, 30, 38, 39, 42, 43, 44, 48, 49]}\n",
      "{0: [0, 1, 5, 6, 7, 10, 11, 14, 15, 16, 17, 18, 20, 22, 23, 24, 26, 28, 31, 32, 33, 34, 35, 36, 37, 41, 45, 46], 1: [2, 3, 4, 8, 9, 12, 13, 19, 21, 25, 27, 29, 30, 38, 39, 40, 42, 43, 44, 47, 48, 49]}\n",
      "{0: [7, 14, 26, 31, 34, 37], 1: [0, 1, 2, 3, 4, 5, 6, 8, 9, 10, 11, 12, 13, 15, 16, 17, 18, 19, 20, 21, 22, 23, 24, 25, 27, 28, 29, 30, 32, 33, 35, 36, 38, 39, 40, 41, 42, 43, 44, 45, 46, 47, 48, 49]}\n",
      "{0: [4, 7, 11, 13, 14, 15, 16, 17, 20, 21, 22, 23, 24, 26, 28, 30, 31, 34, 36, 37, 39, 41, 42, 45, 47, 48, 49], 1: [0, 1, 2, 3, 5, 6, 8, 9, 10, 12, 18, 19, 25, 27, 29, 32, 33, 35, 38, 40, 43, 44, 46]}\n",
      "{0: [0, 1, 2, 3, 4, 5, 6, 7, 8, 9, 10, 11, 12, 13, 14, 15, 16, 17, 18, 19, 20, 21, 22, 23, 24, 25, 26, 27, 28, 29, 30, 31, 32, 33, 34, 35, 36, 37, 38, 39, 40, 41, 42, 43, 44, 45, 46, 47, 48, 49], 1: []}\n",
      "{0: [2, 3, 4, 5, 6, 8, 9, 10, 11, 12, 13, 14, 15, 20, 21, 22, 23, 24, 27, 28, 29, 30, 31, 32, 33, 34, 35, 36, 37, 38, 39, 40, 41, 42, 43, 45, 46, 48, 49], 1: [0, 1, 7, 16, 17, 18, 19, 25, 26, 44, 47]}\n",
      "{0: [0, 4, 5, 6, 8, 9, 11, 12, 14, 15, 20, 22, 23, 27, 31, 36, 39, 40, 42, 46, 48, 49], 1: [1, 2, 3, 7, 10, 13, 16, 17, 18, 19, 21, 24, 25, 26, 28, 29, 30, 32, 33, 34, 35, 37, 38, 41, 43, 44, 45, 47]}\n",
      "{0: [0, 5, 8, 14, 15, 23, 36, 48, 49], 1: [1, 2, 3, 4, 6, 7, 9, 10, 11, 12, 13, 16, 17, 18, 19, 20, 21, 22, 24, 25, 26, 27, 28, 29, 30, 31, 32, 33, 34, 35, 37, 38, 39, 40, 41, 42, 43, 44, 45, 46, 47]}\n",
      "{0: [0, 2, 5, 6, 12, 18, 23, 26, 27, 28, 30, 36, 37, 41], 1: [1, 3, 4, 7, 8, 9, 10, 11, 13, 14, 15, 16, 17, 19, 20, 21, 22, 24, 25, 29, 31, 32, 33, 34, 35, 38, 39, 40, 42, 43, 44, 45, 46, 47, 48, 49]}\n",
      "{0: [0, 1, 2, 3, 4, 5, 6, 7, 8, 9, 10, 11, 12, 13, 14, 15, 16, 17, 18, 19, 20, 21, 22, 23, 24, 25, 26, 27, 28, 29, 30, 31, 32, 33, 34, 35, 36, 37, 38, 39, 40, 41, 42, 43, 44, 45, 46, 47, 48, 49], 1: []}\n",
      "{0: [0, 2, 3, 5, 6, 7, 8, 9, 11, 12, 13, 14, 15, 16, 17, 18, 19, 21, 22, 24, 25, 27, 28, 29, 30, 33, 36, 38, 39, 40, 41, 42, 43, 44, 45, 46, 47, 48, 49], 1: [1, 4, 10, 20, 23, 26, 31, 32, 34, 35, 37]}\n",
      "{0: [0, 1, 2, 3, 7, 8, 9, 11, 13, 15, 16, 17, 18, 19, 21, 25, 27, 28, 29, 35, 37, 38, 39, 40, 41, 42, 44, 46, 47, 48, 49], 1: [4, 5, 6, 10, 12, 14, 20, 22, 23, 24, 26, 30, 31, 32, 33, 34, 36, 43, 45]}\n",
      "{0: [1, 2, 3, 8, 11, 18, 19, 25, 27, 37, 39, 41, 46, 47], 1: [0, 4, 5, 6, 7, 9, 10, 12, 13, 14, 15, 16, 17, 20, 21, 22, 23, 24, 26, 28, 29, 30, 31, 32, 33, 34, 35, 36, 38, 40, 42, 43, 44, 45, 48, 49]}\n",
      "{0: [0, 1, 3, 8, 11, 14, 15, 24, 25, 26, 28, 29, 31, 36, 37, 41, 43, 45, 46, 48], 1: [2, 4, 5, 6, 7, 9, 10, 12, 13, 16, 17, 18, 19, 20, 21, 22, 23, 27, 30, 32, 33, 34, 35, 38, 39, 40, 42, 44, 47, 49]}\n",
      "{0: [0, 1, 2, 3, 4, 5, 6, 7, 8, 9, 10, 11, 12, 13, 14, 15, 16, 17, 18, 19, 20, 21, 22, 23, 24, 25, 26, 27, 28, 29, 30, 31, 32, 33, 34, 35, 36, 37, 38, 39, 40, 41, 42, 43, 44, 45, 46, 47, 48, 49], 1: []}\n",
      "{0: [0, 1, 2, 3, 4, 5, 6, 9, 10, 11, 12, 13, 14, 15, 16, 17, 18, 19, 21, 22, 23, 26, 27, 28, 31, 32, 33, 34, 35, 37, 39, 42, 43, 45, 46, 47, 49], 1: [7, 8, 20, 24, 25, 29, 30, 36, 38, 40, 41, 44, 48]}\n",
      "{0: [0, 1, 2, 4, 5, 6, 8, 9, 10, 11, 12, 13, 14, 15, 17, 18, 19, 21, 23, 24, 26, 28, 31, 32, 33, 34, 35, 41, 42, 43, 45, 46, 47], 1: [3, 7, 16, 20, 22, 25, 27, 29, 30, 36, 37, 38, 39, 40, 44, 48, 49]}\n",
      "{0: [1, 5, 6, 9, 11, 12, 14, 17, 19, 23, 32, 33, 34, 35, 41, 45], 1: [0, 2, 3, 4, 7, 8, 10, 13, 15, 16, 18, 20, 21, 22, 24, 25, 26, 27, 28, 29, 30, 31, 36, 37, 38, 39, 40, 42, 43, 44, 46, 47, 48, 49]}\n",
      "{0: [2, 9, 12, 14, 16, 18, 21, 22, 23, 24, 26, 27, 28, 30, 32, 33, 35, 36, 38, 41, 42, 43, 44, 47, 48], 1: [0, 1, 3, 4, 5, 6, 7, 8, 10, 11, 13, 15, 17, 19, 20, 25, 29, 31, 34, 37, 39, 40, 45, 46, 49]}\n",
      "{0: [0, 1, 2, 3, 4, 5, 6, 7, 8, 9, 10, 11, 12, 13, 14, 15, 16, 17, 18, 19, 20, 21, 22, 23, 24, 25, 26, 27, 28, 29, 30, 31, 32, 33, 34, 35, 36, 37, 38, 39, 40, 41, 42, 43, 44, 45, 46, 47, 48, 49], 1: []}\n",
      "{0: [0, 1, 3, 5, 7, 8, 9, 10, 12, 13, 14, 15, 16, 19, 20, 23, 24, 26, 27, 28, 29, 31, 34, 35, 37, 38, 39, 40, 41, 42, 43, 44, 45, 46, 47, 48], 1: [2, 4, 6, 11, 17, 18, 21, 22, 25, 30, 32, 33, 36, 49]}\n",
      "{0: [2, 3, 6, 7, 8, 9, 10, 12, 13, 14, 15, 18, 20, 21, 23, 26, 27, 29, 32, 37, 39, 40, 41, 42, 43, 44, 46, 48], 1: [0, 1, 4, 5, 11, 16, 17, 19, 22, 24, 25, 28, 30, 31, 33, 34, 35, 36, 38, 45, 47, 49]}\n",
      "{0: [5, 9, 10, 20, 37, 39, 40], 1: [0, 1, 2, 3, 4, 6, 7, 8, 11, 12, 13, 14, 15, 16, 17, 18, 19, 21, 22, 23, 24, 25, 26, 27, 28, 29, 30, 31, 32, 33, 34, 35, 36, 38, 41, 42, 43, 44, 45, 46, 47, 48, 49]}\n",
      "{0: [1, 2, 3, 5, 10, 14, 15, 16, 17, 20, 21, 25, 26, 31, 34, 36, 39, 40, 42, 44, 48], 1: [0, 4, 6, 7, 8, 9, 11, 12, 13, 18, 19, 22, 23, 24, 27, 28, 29, 30, 32, 33, 35, 37, 38, 41, 43, 45, 46, 47, 49]}\n",
      "{0: [0, 1, 2, 3, 4, 5, 6, 7, 8, 9, 10, 11, 12, 13, 14, 15, 16, 17, 18, 19, 20, 21, 22, 23, 24, 25, 26, 27, 28, 29, 30, 31, 32, 33, 34, 35, 36, 37, 38, 39, 40, 41, 42, 43, 44, 45, 46, 47, 48, 49], 1: []}\n",
      "{0: [0, 1, 3, 4, 5, 6, 7, 10, 12, 14, 15, 16, 18, 19, 20, 21, 22, 23, 24, 26, 27, 28, 29, 30, 32, 33, 34, 35, 36, 37, 39, 40, 42, 43, 44, 46, 47, 48], 1: [2, 8, 9, 11, 13, 17, 25, 31, 38, 41, 45, 49]}\n",
      "{0: [0, 1, 2, 4, 6, 9, 10, 14, 16, 20, 21, 22, 23, 24, 25, 26, 27, 28, 29, 30, 32, 33, 34, 37, 39, 40, 41, 42, 46, 47, 48], 1: [3, 5, 7, 8, 11, 12, 13, 15, 17, 18, 19, 31, 35, 36, 38, 43, 44, 45, 49]}\n",
      "{0: [1, 6, 9, 21, 22, 28, 39, 47, 48], 1: [0, 2, 3, 4, 5, 7, 8, 10, 11, 12, 13, 14, 15, 16, 17, 18, 19, 20, 23, 24, 25, 26, 27, 29, 30, 31, 32, 33, 34, 35, 36, 37, 38, 40, 41, 42, 43, 44, 45, 46, 49]}\n",
      "{0: [3, 5, 6, 7, 8, 9, 11, 12, 16, 20, 21, 23, 24, 28, 30, 32, 35, 36, 39, 42, 47, 48], 1: [0, 1, 2, 4, 10, 13, 14, 15, 17, 18, 19, 22, 25, 26, 27, 29, 31, 33, 34, 37, 38, 40, 41, 43, 44, 45, 46, 49]}\n",
      "{0: [0, 1, 2, 3, 4, 5, 6, 7, 8, 9, 10, 11, 12, 13, 14, 15, 16, 17, 18, 19, 20, 21, 22, 23, 24, 25, 26, 27, 28, 29, 30, 31, 32, 33, 34, 35, 36, 37, 38, 39, 40, 41, 42, 43, 44, 45, 46, 47, 48, 49], 1: []}\n",
      "{0: [1, 2, 3, 4, 5, 6, 7, 8, 10, 11, 12, 13, 14, 16, 17, 18, 20, 22, 23, 24, 25, 27, 29, 30, 31, 36, 37, 39, 41, 42, 43, 44, 46, 47, 48, 49], 1: [0, 9, 15, 19, 21, 26, 28, 32, 33, 34, 35, 38, 40, 45]}\n",
      "{0: [2, 3, 4, 6, 7, 8, 12, 13, 17, 18, 19, 22, 23, 24, 25, 26, 30, 31, 33, 34, 35, 36, 37, 40, 42, 44, 47, 48, 49], 1: [0, 1, 5, 9, 10, 11, 14, 15, 16, 20, 21, 27, 28, 29, 32, 38, 39, 41, 43, 45, 46]}\n",
      "{0: [2, 3, 8, 23, 24, 30, 33, 34, 35, 40, 42, 47], 1: [0, 1, 4, 5, 6, 7, 9, 10, 11, 12, 13, 14, 15, 16, 17, 18, 19, 20, 21, 22, 25, 26, 27, 28, 29, 31, 32, 36, 37, 38, 39, 41, 43, 44, 45, 46, 48, 49]}\n",
      "{0: [0, 3, 4, 5, 10, 14, 16, 18, 22, 23, 25, 30, 31, 32, 33, 34, 35, 37, 39, 40, 43, 47], 1: [1, 2, 6, 7, 8, 9, 11, 12, 13, 15, 17, 19, 20, 21, 24, 26, 27, 28, 29, 36, 38, 41, 42, 44, 45, 46, 48, 49]}\n",
      "{0: [0, 1, 2, 3, 4, 5, 6, 7, 8, 9, 10, 11, 12, 13, 14, 15, 16, 17, 18, 19, 20, 21, 22, 23, 24, 25, 26, 27, 28, 29, 30, 31, 32, 33, 34, 35, 36, 37, 38, 39, 40, 41, 42, 43, 44, 45, 46, 47, 48, 49], 1: []}\n",
      "{0: [0, 1, 3, 4, 5, 7, 8, 9, 10, 11, 12, 13, 14, 15, 16, 17, 18, 19, 22, 23, 25, 26, 30, 31, 32, 33, 36, 37, 39, 40, 41, 43, 45, 46, 48, 49], 1: [2, 6, 20, 21, 24, 27, 28, 29, 34, 35, 38, 42, 44, 47]}\n",
      "{0: [0, 2, 3, 9, 11, 13, 14, 16, 18, 21, 22, 23, 25, 26, 29, 31, 33, 36, 37, 39, 40, 41, 43, 44, 49], 1: [1, 4, 5, 6, 7, 8, 10, 12, 15, 17, 19, 20, 24, 27, 28, 30, 32, 34, 35, 38, 42, 45, 46, 47, 48]}\n",
      "{0: [3, 7, 18, 25, 29, 31, 36, 39, 40, 41, 43], 1: [0, 1, 2, 4, 5, 6, 8, 9, 10, 11, 12, 13, 14, 15, 16, 17, 19, 20, 21, 22, 23, 24, 26, 27, 28, 30, 32, 33, 34, 35, 37, 38, 42, 44, 45, 46, 47, 48, 49]}\n",
      "{0: [1, 2, 3, 4, 5, 7, 8, 9, 11, 13, 15, 16, 19, 21, 23, 24, 25, 28, 29, 30, 32, 33, 35, 43, 44, 45, 46, 48, 49], 1: [0, 6, 10, 12, 14, 17, 18, 20, 22, 26, 27, 31, 34, 36, 37, 38, 39, 40, 41, 42, 47]}\n",
      "{0: [0, 1, 2, 3, 4, 5, 6, 7, 8, 9, 10, 11, 12, 13, 14, 15, 16, 17, 18, 19, 20, 21, 22, 23, 24, 25, 26, 27, 28, 29, 30, 31, 32, 33, 34, 35, 36, 37, 38, 39, 40, 41, 42, 43, 44, 45, 46, 47, 48, 49], 1: []}\n",
      "{0: [0, 1, 2, 3, 5, 6, 7, 8, 9, 11, 12, 13, 14, 16, 17, 18, 21, 25, 26, 27, 28, 29, 30, 32, 33, 35, 36, 37, 38, 39, 40, 41, 42, 44, 45, 46, 48], 1: [4, 10, 15, 19, 20, 22, 23, 24, 31, 34, 43, 47, 49]}\n",
      "{0: [0, 1, 2, 3, 6, 7, 8, 9, 12, 15, 16, 17, 18, 23, 25, 27, 28, 30, 32, 33, 34, 35, 36, 39, 41, 44, 45, 48], 1: [4, 5, 10, 11, 13, 14, 19, 20, 21, 22, 24, 26, 29, 31, 37, 38, 40, 42, 43, 46, 47, 49]}\n",
      "{0: [8, 12, 14, 17, 18, 25, 27, 28, 30, 32, 33, 40], 1: [0, 1, 2, 3, 4, 5, 6, 7, 9, 10, 11, 13, 15, 16, 19, 20, 21, 22, 23, 24, 26, 29, 31, 34, 35, 36, 37, 38, 39, 41, 42, 43, 44, 45, 46, 47, 48, 49]}\n",
      "{0: [3, 6, 8, 14, 16, 17, 20, 21, 22, 24, 25, 26, 27, 28, 30, 32, 33, 34, 36, 37, 38, 39, 40, 42, 43, 44, 45, 48, 49], 1: [0, 1, 2, 4, 5, 7, 9, 10, 11, 12, 13, 15, 18, 19, 23, 29, 31, 35, 41, 46, 47]}\n",
      "{0: [0, 1, 2, 3, 4, 5, 6, 7, 8, 9, 10, 11, 12, 13, 14, 15, 16, 17, 18, 19, 20, 21, 22, 23, 24, 25, 26, 27, 28, 29, 30, 31, 32, 33, 34, 35, 36, 37, 38, 39, 40, 41, 42, 43, 44, 45, 46, 47, 48, 49], 1: []}\n",
      "{0: [0, 1, 2, 3, 4, 5, 6, 7, 8, 9, 10, 11, 13, 14, 17, 18, 19, 21, 22, 24, 25, 26, 28, 30, 32, 33, 34, 35, 36, 37, 38, 40, 42, 45, 46, 47, 48], 1: [12, 15, 16, 20, 23, 27, 29, 31, 39, 41, 43, 44, 49]}\n",
      "{0: [2, 3, 4, 8, 9, 10, 11, 12, 18, 19, 21, 23, 30, 32, 33, 34, 35, 38, 42, 46, 47], 1: [0, 1, 5, 6, 7, 13, 14, 15, 16, 17, 20, 22, 24, 25, 26, 27, 28, 29, 31, 36, 37, 39, 40, 41, 43, 44, 45, 48, 49]}\n",
      "{0: [4, 8, 10, 11, 14, 21, 22, 23, 30, 32, 33, 34, 36, 37, 42], 1: [0, 1, 2, 3, 5, 6, 7, 9, 12, 13, 15, 16, 17, 18, 19, 20, 24, 25, 26, 27, 28, 29, 31, 35, 38, 39, 40, 41, 43, 44, 45, 46, 47, 48, 49]}\n",
      "{0: [6, 8, 9, 12, 13, 14, 16, 21, 22, 26, 27, 28, 30, 32, 34, 37, 38, 39, 40, 41, 43, 44, 45, 47], 1: [0, 1, 2, 3, 4, 5, 7, 10, 11, 15, 17, 18, 19, 20, 23, 24, 25, 29, 31, 33, 35, 36, 42, 46, 48, 49]}\n",
      "{0: [0, 1, 2, 3, 4, 5, 6, 7, 8, 9, 10, 11, 12, 13, 14, 15, 16, 17, 18, 19, 20, 21, 22, 23, 24, 25, 26, 27, 28, 29, 30, 31, 32, 33, 34, 35, 36, 37, 38, 39, 40, 41, 42, 43, 44, 45, 46, 47, 48, 49], 1: []}\n",
      "{0: [0, 1, 2, 3, 4, 6, 8, 9, 10, 11, 12, 13, 15, 16, 17, 18, 20, 21, 22, 23, 24, 25, 26, 27, 28, 29, 30, 31, 33, 34, 35, 37, 40, 41, 42, 43, 44, 45, 46, 48, 49], 1: [5, 7, 14, 19, 32, 36, 38, 39, 47]}\n",
      "{0: [1, 3, 4, 6, 8, 9, 16, 17, 18, 19, 20, 21, 24, 25, 26, 27, 28, 29, 31, 33, 34, 35, 38, 40, 41, 42, 43, 44, 45, 46], 1: [0, 2, 5, 7, 10, 11, 12, 13, 14, 15, 22, 23, 30, 32, 36, 37, 39, 47, 48, 49]}\n",
      "{0: [3, 4, 19, 20, 21, 25, 26, 28, 33, 35, 40, 41, 42, 46], 1: [0, 1, 2, 5, 6, 7, 8, 9, 10, 11, 12, 13, 14, 15, 16, 17, 18, 22, 23, 24, 27, 29, 30, 31, 32, 34, 36, 37, 38, 39, 43, 44, 45, 47, 48, 49]}\n",
      "{0: [0, 1, 3, 4, 7, 8, 11, 12, 14, 15, 19, 20, 21, 23, 24, 25, 27, 30, 39, 41, 42, 43, 44, 46, 47, 49], 1: [2, 5, 6, 9, 10, 13, 16, 17, 18, 22, 26, 28, 29, 31, 32, 33, 34, 35, 36, 37, 38, 40, 45, 48]}\n",
      "{0: [0, 1, 2, 3, 4, 5, 6, 7, 8, 9, 10, 11, 12, 13, 14, 15, 16, 17, 18, 19, 20, 21, 22, 23, 24, 25, 26, 27, 28, 29, 30, 31, 32, 33, 34, 35, 36, 37, 38, 39, 40, 41, 42, 43, 44, 45, 46, 47, 48, 49], 1: []}\n",
      "{0: [0, 1, 3, 4, 5, 6, 7, 8, 9, 10, 12, 13, 15, 16, 17, 18, 19, 22, 24, 25, 26, 27, 28, 29, 31, 32, 33, 34, 35, 36, 37, 39, 40, 41, 42, 43, 45, 46, 47, 48, 49], 1: [2, 11, 14, 20, 21, 23, 30, 38, 44]}\n",
      "{0: [0, 1, 3, 6, 7, 9, 12, 15, 16, 18, 22, 24, 25, 26, 27, 28, 29, 32, 33, 34, 35, 36, 37, 39, 40, 41, 43, 45, 47, 48, 49], 1: [2, 4, 5, 8, 10, 11, 13, 14, 17, 19, 20, 21, 23, 30, 31, 38, 42, 44, 46]}\n",
      "{0: [0, 12, 28, 29, 32, 33, 37, 41, 45, 47, 49], 1: [1, 2, 3, 4, 5, 6, 7, 8, 9, 10, 11, 13, 14, 15, 16, 17, 18, 19, 20, 21, 22, 23, 24, 25, 26, 27, 30, 31, 34, 35, 36, 38, 39, 40, 42, 43, 44, 46, 48]}\n",
      "{0: [0, 2, 4, 6, 8, 11, 14, 19, 20, 23, 25, 29, 33, 36, 39, 40, 41, 44, 47, 48, 49], 1: [1, 3, 5, 7, 9, 10, 12, 13, 15, 16, 17, 18, 21, 22, 24, 26, 27, 28, 30, 31, 32, 34, 35, 37, 38, 42, 43, 45, 46]}\n",
      "{0: [0, 1, 2, 3, 4, 5, 6, 7, 8, 9, 10, 11, 12, 13, 14, 15, 16, 17, 18, 19, 20, 21, 22, 23, 24, 25, 26, 27, 28, 29, 30, 31, 32, 33, 34, 35, 36, 37, 38, 39, 40, 41, 42, 43, 44, 45, 46, 47, 48, 49], 1: []}\n",
      "{0: [0, 1, 2, 3, 4, 5, 6, 7, 8, 9, 10, 11, 12, 15, 16, 18, 19, 20, 21, 22, 23, 24, 25, 26, 28, 29, 30, 32, 33, 34, 35, 36, 38, 39, 42, 43, 45, 47, 48, 49], 1: [13, 14, 17, 27, 31, 37, 40, 41, 44, 46]}\n",
      "{0: [0, 1, 2, 5, 6, 7, 10, 12, 15, 16, 18, 19, 20, 21, 22, 23, 24, 27, 29, 30, 35, 36, 38, 39, 42, 45, 46, 47, 48], 1: [3, 4, 8, 9, 11, 13, 14, 17, 25, 26, 28, 31, 32, 33, 34, 37, 40, 41, 43, 44, 49]}\n",
      "{0: [2, 18, 22, 27, 35, 39, 46], 1: [0, 1, 3, 4, 5, 6, 7, 8, 9, 10, 11, 12, 13, 14, 15, 16, 17, 19, 20, 21, 23, 24, 25, 26, 28, 29, 30, 31, 32, 33, 34, 36, 37, 38, 40, 41, 42, 43, 44, 45, 47, 48, 49]}\n",
      "{0: [2, 3, 5, 7, 8, 10, 14, 15, 16, 18, 19, 22, 24, 27, 35, 38, 39, 40, 43, 44, 45, 48], 1: [0, 1, 4, 6, 9, 11, 12, 13, 17, 20, 21, 23, 25, 26, 28, 29, 30, 31, 32, 33, 34, 36, 37, 41, 42, 46, 47, 49]}\n",
      "{0: [0, 1, 2, 3, 4, 5, 6, 7, 8, 9, 10, 11, 12, 13, 14, 15, 16, 17, 18, 19, 20, 21, 22, 23, 24, 25, 26, 27, 28, 29, 30, 31, 32, 33, 34, 35, 36, 37, 38, 39, 40, 41, 42, 43, 44, 45, 46, 47, 48, 49], 1: []}\n",
      "{0: [1, 2, 3, 4, 6, 7, 9, 10, 13, 14, 16, 17, 18, 19, 20, 21, 22, 23, 24, 25, 27, 29, 30, 32, 33, 34, 35, 36, 38, 40, 41, 42, 43, 44, 45, 46, 47, 48, 49], 1: [0, 5, 8, 11, 12, 15, 26, 28, 31, 37, 39]}\n",
      "{0: [2, 3, 6, 9, 10, 13, 14, 16, 17, 18, 19, 21, 22, 23, 25, 27, 30, 34, 35, 36, 38, 41, 42, 43, 45, 46, 47, 48, 49], 1: [0, 1, 4, 5, 7, 8, 11, 12, 15, 20, 24, 26, 28, 29, 31, 32, 33, 37, 39, 40, 44]}\n",
      "{0: [4, 19, 26, 27, 32, 36, 38, 41, 45], 1: [0, 1, 2, 3, 5, 6, 7, 8, 9, 10, 11, 12, 13, 14, 15, 16, 17, 18, 20, 21, 22, 23, 24, 25, 28, 29, 30, 31, 33, 34, 35, 37, 39, 40, 42, 43, 44, 46, 47, 48, 49]}\n",
      "{0: [3, 6, 7, 11, 12, 16, 17, 19, 21, 24, 26, 27, 29, 33, 34, 36, 38, 39, 43, 45, 49], 1: [0, 1, 2, 4, 5, 8, 9, 10, 13, 14, 15, 18, 20, 22, 23, 25, 28, 30, 31, 32, 35, 37, 40, 41, 42, 44, 46, 47, 48]}\n",
      "{0: [0, 1, 2, 3, 4, 5, 6, 7, 8, 9, 10, 11, 12, 13, 14, 15, 16, 17, 18, 19, 20, 21, 22, 23, 24, 25, 26, 27, 28, 29, 30, 31, 32, 33, 34, 35, 36, 37, 38, 39, 40, 41, 42, 43, 44, 45, 46, 47, 48, 49], 1: []}\n",
      "{0: [0, 1, 3, 5, 6, 7, 9, 10, 11, 12, 13, 16, 17, 20, 21, 22, 23, 25, 28, 29, 31, 32, 33, 35, 37, 38, 39, 40, 41, 43, 44, 45, 46, 47, 48, 49], 1: [2, 4, 8, 14, 15, 18, 19, 24, 26, 27, 30, 34, 36, 42]}\n",
      "{0: [1, 3, 5, 6, 7, 8, 9, 10, 11, 12, 13, 14, 15, 16, 17, 19, 22, 23, 25, 31, 33, 35, 38, 39, 40, 41, 43, 44, 45, 46], 1: [0, 2, 4, 18, 20, 21, 24, 26, 27, 28, 29, 30, 32, 34, 36, 37, 42, 47, 48, 49]}\n",
      "{0: [3, 6, 8, 9, 15, 19, 22, 35, 40, 43, 46], 1: [0, 1, 2, 4, 5, 7, 10, 11, 12, 13, 14, 16, 17, 18, 20, 21, 23, 24, 25, 26, 27, 28, 29, 30, 31, 32, 33, 34, 36, 37, 38, 39, 41, 42, 44, 45, 47, 48, 49]}\n",
      "{0: [3, 5, 6, 8, 10, 13, 16, 18, 19, 21, 27, 32, 33, 35, 36, 37, 38, 39, 40, 41, 42, 43, 45, 47, 49], 1: [0, 1, 2, 4, 7, 9, 11, 12, 14, 15, 17, 20, 22, 23, 24, 25, 26, 28, 29, 30, 31, 34, 44, 46, 48]}\n",
      "{0: [0, 1, 2, 3, 4, 5, 6, 7, 8, 9, 10, 11, 12, 13, 14, 15, 16, 17, 18, 19, 20, 21, 22, 23, 24, 25, 26, 27, 28, 29, 30, 31, 32, 33, 34, 35, 36, 37, 38, 39, 40, 41, 42, 43, 44, 45, 46, 47, 48, 49], 1: []}\n",
      "{0: [0, 1, 2, 4, 5, 7, 8, 9, 10, 11, 12, 14, 15, 20, 21, 22, 23, 24, 25, 27, 28, 30, 31, 32, 33, 36, 37, 38, 40, 41, 42, 43, 45, 48, 49], 1: [3, 6, 13, 16, 17, 18, 19, 26, 29, 34, 35, 39, 44, 46, 47]}\n",
      "{0: [0, 1, 2, 4, 5, 8, 9, 11, 14, 15, 16, 17, 20, 21, 22, 24, 25, 26, 27, 28, 32, 36, 37, 39, 40, 41, 42, 43, 46, 48, 49], 1: [3, 6, 7, 10, 12, 13, 18, 19, 23, 29, 30, 31, 33, 34, 35, 38, 44, 45, 47]}\n",
      "{0: [1, 2, 5, 11, 15, 16, 42, 43, 49], 1: [0, 3, 4, 6, 7, 8, 9, 10, 12, 13, 14, 17, 18, 19, 20, 21, 22, 23, 24, 25, 26, 27, 28, 29, 30, 31, 32, 33, 34, 35, 36, 37, 38, 39, 40, 41, 44, 45, 46, 47, 48]}\n",
      "{0: [0, 1, 2, 5, 6, 7, 10, 11, 12, 13, 16, 20, 21, 22, 25, 27, 28, 29, 31, 32, 36, 41, 42, 43, 46, 48], 1: [3, 4, 8, 9, 14, 15, 17, 18, 19, 23, 24, 26, 30, 33, 34, 35, 37, 38, 39, 40, 44, 45, 47, 49]}\n",
      "{0: [0, 1, 2, 3, 4, 5, 6, 7, 8, 9, 10, 11, 12, 13, 14, 15, 16, 17, 18, 19, 20, 21, 22, 23, 24, 25, 26, 27, 28, 29, 30, 31, 32, 33, 34, 35, 36, 37, 38, 39, 40, 41, 42, 43, 44, 45, 46, 47, 48, 49], 1: []}\n",
      "{0: [0, 1, 3, 4, 5, 6, 9, 10, 11, 12, 13, 14, 15, 17, 18, 19, 20, 21, 22, 24, 25, 27, 28, 30, 32, 33, 34, 35, 36, 39, 40, 41, 43, 44, 45, 46, 47, 49], 1: [2, 7, 8, 16, 23, 26, 29, 31, 37, 38, 42, 48]}\n",
      "{0: [0, 1, 3, 4, 6, 7, 9, 13, 15, 17, 18, 19, 21, 22, 25, 32, 34, 35, 36, 39, 43, 44, 47], 1: [2, 5, 8, 10, 11, 12, 14, 16, 20, 23, 24, 26, 27, 28, 29, 30, 31, 33, 37, 38, 40, 41, 42, 45, 46, 48, 49]}\n",
      "{0: [0, 7, 18, 19, 22, 25, 34, 36, 43, 47], 1: [1, 2, 3, 4, 5, 6, 8, 9, 10, 11, 12, 13, 14, 15, 16, 17, 20, 21, 23, 24, 26, 27, 28, 29, 30, 31, 32, 33, 35, 37, 38, 39, 40, 41, 42, 44, 45, 46, 48, 49]}\n",
      "{0: [4, 6, 7, 8, 9, 10, 11, 13, 14, 18, 19, 23, 24, 33, 34, 35, 36, 39, 41, 45, 46, 47, 49], 1: [0, 1, 2, 3, 5, 12, 15, 16, 17, 20, 21, 22, 25, 26, 27, 28, 29, 30, 31, 32, 37, 38, 40, 42, 43, 44, 48]}\n",
      "{0: [0, 1, 2, 3, 4, 5, 6, 7, 8, 9, 10, 11, 12, 13, 14, 15, 16, 17, 18, 19, 20, 21, 22, 23, 24, 25, 26, 27, 28, 29, 30, 31, 32, 33, 34, 35, 36, 37, 38, 39, 40, 41, 42, 43, 44, 45, 46, 47, 48, 49], 1: []}\n",
      "{0: [1, 3, 4, 6, 7, 8, 9, 11, 12, 15, 16, 17, 19, 21, 24, 25, 26, 28, 29, 30, 31, 32, 34, 35, 36, 38, 39, 40, 44, 46, 48, 49], 1: [0, 2, 5, 10, 13, 14, 18, 20, 22, 23, 27, 33, 37, 41, 42, 43, 45, 47]}\n",
      "{0: [1, 3, 5, 6, 7, 8, 9, 10, 11, 12, 16, 18, 19, 25, 26, 29, 30, 31, 32, 33, 38, 39, 40, 42, 45, 46], 1: [0, 2, 4, 13, 14, 15, 17, 20, 21, 22, 23, 24, 27, 28, 34, 35, 36, 37, 41, 43, 44, 47, 48, 49]}\n",
      "{0: [5, 11, 18, 19, 30, 31, 39, 42, 45], 1: [0, 1, 2, 3, 4, 6, 7, 8, 9, 10, 12, 13, 14, 15, 16, 17, 20, 21, 22, 23, 24, 25, 26, 27, 28, 29, 32, 33, 34, 35, 36, 37, 38, 40, 41, 43, 44, 46, 47, 48, 49]}\n",
      "{0: [6, 7, 13, 15, 17, 18, 21, 22, 23, 24, 25, 27, 31, 32, 33, 34, 35, 39, 42, 44, 45, 48, 49], 1: [0, 1, 2, 3, 4, 5, 8, 9, 10, 11, 12, 14, 16, 19, 20, 26, 28, 29, 30, 36, 37, 38, 40, 41, 43, 46, 47]}\n",
      "{0: [0, 1, 2, 3, 4, 5, 6, 7, 8, 9, 10, 11, 12, 13, 14, 15, 16, 17, 18, 19, 20, 21, 22, 23, 24, 25, 26, 27, 28, 29, 30, 31, 32, 33, 34, 35, 36, 37, 38, 39, 40, 41, 42, 43, 44, 45, 46, 47, 48, 49], 1: []}\n",
      "{0: [0, 1, 3, 4, 5, 6, 7, 8, 9, 10, 11, 12, 13, 14, 18, 19, 20, 24, 25, 26, 27, 28, 29, 31, 32, 33, 35, 36, 38, 39, 41, 42, 43, 44, 46, 47, 48, 49], 1: [2, 15, 16, 17, 21, 22, 23, 30, 34, 37, 40, 45]}\n",
      "{0: [0, 1, 3, 4, 6, 7, 8, 9, 11, 12, 13, 17, 18, 19, 24, 25, 26, 30, 31, 32, 33, 34, 35, 36, 37, 38, 39, 43, 44, 46, 48, 49], 1: [2, 5, 10, 14, 15, 16, 20, 21, 22, 23, 27, 28, 29, 40, 41, 42, 45, 47]}\n",
      "{0: [4, 6, 7, 9, 13, 17, 19, 24, 25, 30, 37, 38, 44], 1: [0, 1, 2, 3, 5, 8, 10, 11, 12, 14, 15, 16, 18, 20, 21, 22, 23, 26, 27, 28, 29, 31, 32, 33, 34, 35, 36, 39, 40, 41, 42, 43, 45, 46, 47, 48, 49]}\n",
      "{0: [0, 1, 3, 4, 6, 7, 11, 12, 17, 19, 20, 22, 24, 25, 27, 30, 32, 34, 37, 41, 42, 43, 44, 45, 46, 47], 1: [2, 5, 8, 9, 10, 13, 14, 15, 16, 18, 21, 23, 26, 28, 29, 31, 33, 35, 36, 38, 39, 40, 48, 49]}\n",
      "{0: [0, 1, 2, 3, 4, 5, 6, 7, 8, 9, 10, 11, 12, 13, 14, 15, 16, 17, 18, 19, 20, 21, 22, 23, 24, 25, 26, 27, 28, 29, 30, 31, 32, 33, 34, 35, 36, 37, 38, 39, 40, 41, 42, 43, 44, 45, 46, 47, 48, 49], 1: []}\n",
      "{0: [0, 1, 2, 4, 5, 8, 9, 10, 12, 13, 14, 15, 16, 17, 18, 19, 20, 21, 22, 23, 24, 26, 27, 28, 30, 31, 32, 33, 34, 35, 36, 39, 40, 41, 43, 44, 48, 49], 1: [3, 6, 7, 11, 25, 29, 37, 38, 42, 45, 46, 47]}\n",
      "{0: [3, 4, 5, 7, 8, 9, 10, 12, 13, 17, 18, 22, 25, 27, 28, 30, 32, 34, 35, 36, 37, 38, 39, 41, 45], 1: [0, 1, 2, 6, 11, 14, 15, 16, 19, 20, 21, 23, 24, 26, 29, 31, 33, 40, 42, 43, 44, 46, 47, 48, 49]}\n",
      "{0: [3, 7, 8, 12, 16, 17, 18, 25, 39, 45], 1: [0, 1, 2, 4, 5, 6, 9, 10, 11, 13, 14, 15, 19, 20, 21, 22, 23, 24, 26, 27, 28, 29, 30, 31, 32, 33, 34, 35, 36, 37, 38, 40, 41, 42, 43, 44, 46, 47, 48, 49]}\n",
      "{0: [1, 3, 4, 7, 8, 10, 15, 17, 20, 22, 25, 27, 28, 29, 31, 32, 33, 36, 39, 41, 42, 44, 47], 1: [0, 2, 5, 6, 9, 11, 12, 13, 14, 16, 18, 19, 21, 23, 24, 26, 30, 34, 35, 37, 38, 40, 43, 45, 46, 48, 49]}\n",
      "{0: [0, 1, 2, 3, 4, 5, 6, 7, 8, 9, 10, 11, 12, 13, 14, 15, 16, 17, 18, 19, 20, 21, 22, 23, 24, 25, 26, 27, 28, 29, 30, 31, 32, 33, 34, 35, 36, 37, 38, 39, 40, 41, 42, 43, 44, 45, 46, 47, 48, 49], 1: []}\n",
      "{0: [0, 1, 3, 4, 5, 7, 8, 9, 10, 14, 15, 17, 18, 19, 20, 21, 22, 23, 26, 28, 32, 33, 34, 38, 40, 41, 42, 43, 44, 46, 47, 48], 1: [2, 6, 11, 12, 13, 16, 24, 25, 27, 29, 30, 31, 35, 36, 37, 39, 45, 49]}\n",
      "{0: [0, 1, 2, 4, 5, 6, 7, 8, 9, 10, 15, 17, 18, 19, 20, 22, 23, 26, 32, 34, 38, 40, 41, 43, 44, 46, 47, 48, 49], 1: [3, 11, 12, 13, 14, 16, 21, 24, 25, 27, 28, 29, 30, 31, 33, 35, 36, 37, 39, 42, 45]}\n",
      "{0: [0, 1, 2, 4, 5, 6, 8, 17, 18, 19, 23, 32, 40, 48, 49], 1: [3, 7, 9, 10, 11, 12, 13, 14, 15, 16, 20, 21, 22, 24, 25, 26, 27, 28, 29, 30, 31, 33, 34, 35, 36, 37, 38, 39, 41, 42, 43, 44, 45, 46, 47]}\n",
      "{0: [0, 1, 2, 5, 6, 7, 8, 9, 11, 16, 17, 18, 26, 27, 32, 33, 34, 35, 37, 38, 39, 40, 44, 45, 46, 47, 48, 49], 1: [3, 4, 10, 12, 13, 14, 15, 19, 20, 21, 22, 23, 24, 25, 28, 29, 30, 31, 36, 41, 42, 43]}\n",
      "{0: [0, 1, 2, 3, 4, 5, 6, 7, 8, 9, 10, 11, 12, 13, 14, 15, 16, 17, 18, 19, 20, 21, 22, 23, 24, 25, 26, 27, 28, 29, 30, 31, 32, 33, 34, 35, 36, 37, 38, 39, 40, 41, 42, 43, 44, 45, 46, 47, 48, 49], 1: []}\n",
      "{0: [0, 1, 2, 3, 4, 5, 7, 8, 10, 12, 14, 16, 17, 18, 19, 20, 21, 22, 23, 24, 25, 26, 27, 28, 29, 31, 33, 36, 39, 40, 43, 44, 45, 46, 47, 48, 49], 1: [6, 9, 11, 13, 15, 30, 32, 34, 35, 37, 38, 41, 42]}\n",
      "{0: [0, 1, 2, 4, 5, 7, 13, 16, 17, 19, 20, 23, 26, 29, 35, 36, 38, 39, 40, 41, 44, 46, 47, 48, 49], 1: [3, 6, 8, 9, 10, 11, 12, 14, 15, 18, 21, 22, 24, 25, 27, 28, 30, 31, 32, 33, 34, 37, 42, 43, 45]}\n",
      "{0: [0, 23, 26, 29, 36, 38, 44, 46, 47, 49], 1: [1, 2, 3, 4, 5, 6, 7, 8, 9, 10, 11, 12, 13, 14, 15, 16, 17, 18, 19, 20, 21, 22, 24, 25, 27, 28, 30, 31, 32, 33, 34, 35, 37, 39, 40, 41, 42, 43, 45, 48]}\n",
      "{0: [8, 9, 10, 14, 16, 20, 25, 26, 27, 29, 31, 32, 33, 35, 36, 38, 39, 40, 41, 43, 44, 46, 47, 48, 49], 1: [0, 1, 2, 3, 4, 5, 6, 7, 11, 12, 13, 15, 17, 18, 19, 21, 22, 23, 24, 28, 30, 34, 37, 42, 45]}\n",
      "{0: [0, 1, 2, 3, 4, 5, 6, 7, 8, 9, 10, 11, 12, 13, 14, 15, 16, 17, 18, 19, 20, 21, 22, 23, 24, 25, 26, 27, 28, 29, 30, 31, 32, 33, 34, 35, 36, 37, 38, 39, 40, 41, 42, 43, 44, 45, 46, 47, 48, 49], 1: []}\n",
      "{0: [0, 1, 2, 4, 7, 8, 9, 12, 15, 18, 19, 20, 21, 22, 23, 24, 25, 27, 28, 30, 31, 32, 33, 34, 35, 36, 37, 38, 39, 40, 42, 43, 44, 46, 47, 48, 49], 1: [3, 5, 6, 10, 11, 13, 14, 16, 17, 26, 29, 41, 45]}\n",
      "{0: [0, 1, 2, 3, 4, 5, 7, 8, 11, 18, 19, 20, 22, 23, 25, 27, 28, 30, 32, 33, 34, 35, 36, 37, 38, 39, 40, 42, 44, 46, 48], 1: [6, 9, 10, 12, 13, 14, 15, 16, 17, 21, 24, 26, 29, 31, 41, 43, 45, 47, 49]}\n",
      "{0: [3, 5, 8, 19, 28, 36, 42, 44], 1: [0, 1, 2, 4, 6, 7, 9, 10, 11, 12, 13, 14, 15, 16, 17, 18, 20, 21, 22, 23, 24, 25, 26, 27, 29, 30, 31, 32, 33, 34, 35, 37, 38, 39, 40, 41, 43, 45, 46, 47, 48, 49]}\n",
      "{0: [1, 2, 3, 5, 6, 8, 9, 10, 11, 12, 13, 17, 19, 20, 23, 25, 26, 28, 33, 34, 36, 38, 41, 42, 44, 46, 47, 49], 1: [0, 4, 7, 14, 15, 16, 18, 21, 22, 24, 27, 29, 30, 31, 32, 35, 37, 39, 40, 43, 45, 48]}\n",
      "{0: [0, 1, 2, 3, 4, 5, 6, 7, 8, 9, 10, 11, 12, 13, 14, 15, 16, 17, 18, 19, 20, 21, 22, 23, 24, 25, 26, 27, 28, 29, 30, 31, 32, 33, 34, 35, 36, 37, 38, 39, 40, 41, 42, 43, 44, 45, 46, 47, 48, 49], 1: []}\n",
      "{0: [0, 1, 2, 3, 5, 7, 9, 10, 11, 12, 14, 15, 16, 18, 19, 20, 21, 23, 24, 25, 26, 28, 29, 31, 33, 35, 37, 39, 40, 42, 43, 44, 45, 46, 47, 48, 49], 1: [4, 6, 8, 13, 17, 22, 27, 30, 32, 34, 36, 38, 41]}\n",
      "{0: [0, 1, 2, 3, 5, 7, 9, 10, 14, 16, 18, 19, 20, 22, 23, 24, 26, 28, 29, 31, 35, 38, 39, 40, 41, 43, 45, 47, 49], 1: [4, 6, 8, 11, 12, 13, 15, 17, 21, 25, 27, 30, 32, 33, 34, 36, 37, 42, 44, 46, 48]}\n",
      "{0: [0, 2, 7, 10, 14, 20, 26, 28, 29, 31, 37, 40, 41, 43, 45], 1: [1, 3, 4, 5, 6, 8, 9, 11, 12, 13, 15, 16, 17, 18, 19, 21, 22, 23, 24, 25, 27, 30, 32, 33, 34, 35, 36, 38, 39, 42, 44, 46, 47, 48, 49]}\n",
      "{0: [0, 1, 2, 4, 6, 9, 10, 11, 12, 15, 16, 18, 20, 22, 26, 27, 28, 29, 30, 33, 34, 35, 36, 37, 38, 39, 43, 44, 49], 1: [3, 5, 7, 8, 13, 14, 17, 19, 21, 23, 24, 25, 31, 32, 40, 41, 42, 45, 46, 47, 48]}\n",
      "{0: [0, 1, 2, 3, 4, 5, 6, 7, 8, 9, 10, 11, 12, 13, 14, 15, 16, 17, 18, 19, 20, 21, 22, 23, 24, 25, 26, 27, 28, 29, 30, 31, 32, 33, 34, 35, 36, 37, 38, 39, 40, 41, 42, 43, 44, 45, 46, 47, 48, 49], 1: []}\n",
      "{0: [0, 3, 4, 5, 7, 8, 9, 10, 11, 13, 14, 16, 17, 20, 21, 23, 24, 25, 26, 27, 29, 30, 31, 32, 33, 34, 35, 36, 37, 38, 40, 41, 42, 43, 44, 45, 46, 47, 48, 49], 1: [1, 2, 6, 12, 15, 18, 19, 22, 28, 39]}\n",
      "{0: [3, 4, 6, 7, 9, 11, 12, 13, 14, 16, 18, 21, 23, 24, 25, 27, 29, 30, 31, 32, 33, 34, 35, 36, 37, 40, 44, 46, 47, 49], 1: [0, 1, 2, 5, 8, 10, 15, 17, 19, 20, 22, 26, 28, 38, 39, 41, 42, 43, 45, 48]}\n",
      "{0: [3, 4, 18, 21, 36, 40, 44, 46], 1: [0, 1, 2, 5, 6, 7, 8, 9, 10, 11, 12, 13, 14, 15, 16, 17, 19, 20, 22, 23, 24, 25, 26, 27, 28, 29, 30, 31, 32, 33, 34, 35, 37, 38, 39, 41, 42, 43, 45, 47, 48, 49]}\n",
      "{0: [3, 4, 9, 13, 14, 15, 18, 20, 21, 30, 32, 33, 35, 36, 37, 38, 39, 40, 44], 1: [0, 1, 2, 5, 6, 7, 8, 10, 11, 12, 16, 17, 19, 22, 23, 24, 25, 26, 27, 28, 29, 31, 34, 41, 42, 43, 45, 46, 47, 48, 49]}\n",
      "{0: [0, 1, 2, 3, 4, 5, 6, 7, 8, 9, 10, 11, 12, 13, 14, 15, 16, 17, 18, 19, 20, 21, 22, 23, 24, 25, 26, 27, 28, 29, 30, 31, 32, 33, 34, 35, 36, 37, 38, 39, 40, 41, 42, 43, 44, 45, 46, 47, 48, 49], 1: []}\n",
      "{0: [1, 3, 5, 6, 7, 8, 13, 14, 15, 16, 18, 19, 20, 24, 25, 26, 28, 29, 32, 35, 38, 39, 41, 43, 44, 45, 47, 48, 49], 1: [0, 2, 4, 9, 10, 11, 12, 17, 21, 22, 23, 27, 30, 31, 33, 34, 36, 37, 40, 42, 46]}\n",
      "{0: [1, 2, 3, 5, 7, 8, 12, 13, 14, 15, 16, 19, 20, 24, 25, 32, 39, 41, 43, 44, 45, 46, 48], 1: [0, 4, 6, 9, 10, 11, 17, 18, 21, 22, 23, 26, 27, 28, 29, 30, 31, 33, 34, 35, 36, 37, 38, 40, 42, 47, 49]}\n",
      "{0: [0, 12, 16, 20, 32, 39, 41, 45, 48], 1: [1, 2, 3, 4, 5, 6, 7, 8, 9, 10, 11, 13, 14, 15, 17, 18, 19, 21, 22, 23, 24, 25, 26, 27, 28, 29, 30, 31, 33, 34, 35, 36, 37, 38, 40, 42, 43, 44, 46, 47, 49]}\n",
      "{0: [0, 2, 6, 8, 12, 13, 16, 19, 20, 21, 29, 30, 31, 32, 33, 34, 37, 38, 45, 46, 47, 48, 49], 1: [1, 3, 4, 5, 7, 9, 10, 11, 14, 15, 17, 18, 22, 23, 24, 25, 26, 27, 28, 35, 36, 39, 40, 41, 42, 43, 44]}\n",
      "{0: [0, 1, 2, 3, 4, 5, 6, 7, 8, 9, 10, 11, 12, 13, 14, 15, 16, 17, 18, 19, 20, 21, 22, 23, 24, 25, 26, 27, 28, 29, 30, 31, 32, 33, 34, 35, 36, 37, 38, 39, 40, 41, 42, 43, 44, 45, 46, 47, 48, 49], 1: []}\n",
      "{0: [4, 5, 6, 7, 8, 9, 11, 13, 18, 19, 20, 21, 25, 27, 28, 29, 30, 31, 32, 35, 36, 39, 40, 41, 42, 43, 44, 46, 47, 48, 49], 1: [0, 1, 2, 3, 10, 12, 14, 15, 16, 17, 22, 23, 24, 26, 33, 34, 37, 38, 45]}\n",
      "{0: [0, 2, 4, 6, 7, 8, 11, 13, 14, 17, 21, 25, 26, 28, 29, 32, 34, 37, 39, 40, 42, 43, 44, 47, 48, 49], 1: [1, 3, 5, 9, 10, 12, 15, 16, 18, 19, 20, 22, 23, 24, 27, 30, 31, 33, 35, 36, 38, 41, 45, 46]}\n",
      "{0: [13, 14, 21, 26, 34, 37, 39, 44], 1: [0, 1, 2, 3, 4, 5, 6, 7, 8, 9, 10, 11, 12, 15, 16, 17, 18, 19, 20, 22, 23, 24, 25, 27, 28, 29, 30, 31, 32, 33, 35, 36, 38, 40, 41, 42, 43, 45, 46, 47, 48, 49]}\n",
      "{0: [0, 5, 6, 7, 9, 12, 17, 18, 19, 24, 26, 27, 28, 29, 30, 31, 32, 33, 34, 36, 37, 38, 42, 44], 1: [1, 2, 3, 4, 8, 10, 11, 13, 14, 15, 16, 20, 21, 22, 23, 25, 35, 39, 40, 41, 43, 45, 46, 47, 48, 49]}\n",
      "{0: [0, 1, 2, 3, 4, 5, 6, 7, 8, 9, 10, 11, 12, 13, 14, 15, 16, 17, 18, 19, 20, 21, 22, 23, 24, 25, 26, 27, 28, 29, 30, 31, 32, 33, 34, 35, 36, 37, 38, 39, 40, 41, 42, 43, 44, 45, 46, 47, 48, 49], 1: []}\n",
      "{0: [0, 1, 2, 3, 4, 5, 7, 8, 9, 10, 11, 12, 13, 15, 19, 20, 21, 22, 24, 25, 26, 29, 30, 31, 32, 34, 35, 37, 39, 40, 41, 42, 43, 44, 46, 47, 48, 49], 1: [6, 14, 16, 17, 18, 23, 27, 28, 33, 36, 38, 45]}\n",
      "{0: [2, 3, 4, 5, 9, 10, 11, 13, 15, 19, 20, 23, 24, 25, 26, 29, 30, 34, 37, 41, 42, 43, 44, 46, 48, 49], 1: [0, 1, 6, 7, 8, 12, 14, 16, 17, 18, 21, 22, 27, 28, 31, 32, 33, 35, 36, 38, 39, 40, 45, 47]}\n",
      "{0: [9, 10, 19, 20, 23, 24, 43, 49], 1: [0, 1, 2, 3, 4, 5, 6, 7, 8, 11, 12, 13, 14, 15, 16, 17, 18, 21, 22, 25, 26, 27, 28, 29, 30, 31, 32, 33, 34, 35, 36, 37, 38, 39, 40, 41, 42, 44, 45, 46, 47, 48]}\n",
      "{0: [2, 5, 8, 9, 10, 11, 15, 18, 19, 20, 22, 23, 24, 26, 28, 29, 30, 31, 32, 34, 40, 44, 47, 48], 1: [0, 1, 3, 4, 6, 7, 12, 13, 14, 16, 17, 21, 25, 27, 33, 35, 36, 37, 38, 39, 41, 42, 43, 45, 46, 49]}\n",
      "{0: [0, 1, 2, 3, 4, 5, 6, 7, 8, 9, 10, 11, 12, 13, 14, 15, 16, 17, 18, 19, 20, 21, 22, 23, 24, 25, 26, 27, 28, 29, 30, 31, 32, 33, 34, 35, 36, 37, 38, 39, 40, 41, 42, 43, 44, 45, 46, 47, 48, 49], 1: []}\n",
      "{0: [0, 1, 3, 4, 5, 6, 8, 9, 10, 11, 12, 13, 14, 15, 16, 17, 19, 20, 21, 22, 23, 26, 27, 28, 29, 31, 33, 34, 36, 37, 38, 40, 41, 42, 43, 44, 47], 1: [2, 7, 18, 24, 25, 30, 32, 35, 39, 45, 46, 48, 49]}\n",
      "{0: [1, 3, 4, 5, 6, 8, 9, 10, 11, 12, 13, 15, 16, 17, 19, 20, 21, 22, 23, 26, 27, 29, 33, 34, 36, 37, 38, 39, 40, 41, 42, 43, 44, 47, 48], 1: [0, 2, 7, 14, 18, 24, 25, 28, 30, 31, 32, 35, 45, 46, 49]}\n",
      "{0: [1, 4, 5, 6, 19, 23, 26, 27, 33, 34, 41, 43, 44, 47], 1: [0, 2, 3, 7, 8, 9, 10, 11, 12, 13, 14, 15, 16, 17, 18, 20, 21, 22, 24, 25, 28, 29, 30, 31, 32, 35, 36, 37, 38, 39, 40, 42, 45, 46, 48, 49]}\n",
      "{0: [1, 4, 5, 7, 9, 11, 16, 17, 19, 26, 27, 28, 31, 33, 34, 35, 36, 39, 41, 42, 43, 47], 1: [0, 2, 3, 6, 8, 10, 12, 13, 14, 15, 18, 20, 21, 22, 23, 24, 25, 29, 30, 32, 37, 38, 40, 44, 45, 46, 48, 49]}\n",
      "{0: [0, 1, 2, 3, 4, 5, 6, 7, 8, 9, 10, 11, 12, 13, 14, 15, 16, 17, 18, 19, 20, 21, 22, 23, 24, 25, 26, 27, 28, 29, 30, 31, 32, 33, 34, 35, 36, 37, 38, 39, 40, 41, 42, 43, 44, 45, 46, 47, 48, 49], 1: []}\n",
      "{0: [1, 3, 4, 5, 6, 7, 8, 9, 10, 11, 12, 14, 15, 16, 17, 18, 20, 22, 24, 25, 26, 27, 28, 29, 30, 31, 32, 35, 36, 37, 38, 39, 40, 41, 44, 45, 46, 47], 1: [0, 2, 13, 19, 21, 23, 33, 34, 42, 43, 48, 49]}\n",
      "{0: [0, 1, 3, 4, 6, 8, 9, 10, 12, 14, 15, 16, 18, 19, 22, 26, 27, 28, 30, 31, 32, 33, 34, 36, 39, 40, 41, 44, 45, 46], 1: [2, 5, 7, 11, 13, 17, 20, 21, 23, 24, 25, 29, 35, 37, 38, 42, 43, 47, 48, 49]}\n",
      "{0: [4, 6, 9, 10, 18, 19, 33, 41], 1: [0, 1, 2, 3, 5, 7, 8, 11, 12, 13, 14, 15, 16, 17, 20, 21, 22, 23, 24, 25, 26, 27, 28, 29, 30, 31, 32, 34, 35, 36, 37, 38, 39, 40, 42, 43, 44, 45, 46, 47, 48, 49]}\n",
      "{0: [2, 3, 4, 5, 8, 10, 15, 16, 17, 18, 19, 20, 21, 22, 23, 25, 26, 29, 33, 37, 40, 41, 42], 1: [0, 1, 6, 7, 9, 11, 12, 13, 14, 24, 27, 28, 30, 31, 32, 34, 35, 36, 38, 39, 43, 44, 45, 46, 47, 48, 49]}\n",
      "{0: [0, 1, 2, 3, 4, 5, 6, 7, 8, 9, 10, 11, 12, 13, 14, 15, 16, 17, 18, 19, 20, 21, 22, 23, 24, 25, 26, 27, 28, 29, 30, 31, 32, 33, 34, 35, 36, 37, 38, 39, 40, 41, 42, 43, 44, 45, 46, 47, 48, 49], 1: []}\n",
      "{0: [0, 3, 5, 7, 8, 9, 11, 12, 13, 14, 15, 16, 18, 19, 20, 22, 27, 28, 29, 30, 31, 34, 35, 36, 37, 38, 39, 40, 41, 43, 44, 45, 46, 47], 1: [1, 2, 4, 6, 10, 17, 21, 23, 24, 25, 26, 32, 33, 42, 48, 49]}\n",
      "{0: [2, 5, 7, 8, 9, 11, 12, 13, 14, 15, 16, 18, 24, 25, 26, 27, 28, 29, 30, 31, 32, 34, 35, 37, 38, 39, 40, 41, 43, 44, 45, 47, 49], 1: [0, 1, 3, 4, 6, 10, 17, 19, 20, 21, 22, 23, 33, 36, 42, 46, 48]}\n",
      "{0: [2, 11, 13, 14, 18, 24, 25, 26, 32, 34, 36, 39, 42, 44, 45], 1: [0, 1, 3, 4, 5, 6, 7, 8, 9, 10, 12, 15, 16, 17, 19, 20, 21, 22, 23, 27, 28, 29, 30, 31, 33, 35, 37, 38, 40, 41, 43, 46, 47, 48, 49]}\n",
      "{0: [1, 2, 6, 7, 8, 9, 10, 11, 13, 14, 18, 21, 24, 25, 26, 29, 31, 32, 33, 34, 35, 36, 40, 42, 44], 1: [0, 3, 4, 5, 12, 15, 16, 17, 19, 20, 22, 23, 27, 28, 30, 37, 38, 39, 41, 43, 45, 46, 47, 48, 49]}\n",
      "{0: [0, 1, 2, 3, 4, 5, 6, 7, 8, 9, 10, 11, 12, 13, 14, 15, 16, 17, 18, 19, 20, 21, 22, 23, 24, 25, 26, 27, 28, 29, 30, 31, 32, 33, 34, 35, 36, 37, 38, 39, 40, 41, 42, 43, 44, 45, 46, 47, 48, 49], 1: []}\n",
      "{0: [0, 1, 2, 3, 4, 5, 6, 7, 10, 14, 16, 18, 19, 21, 22, 23, 25, 26, 27, 28, 29, 30, 31, 32, 33, 34, 35, 36, 37, 40, 41, 43, 44, 45, 46, 48, 49], 1: [8, 9, 11, 12, 13, 15, 17, 20, 24, 38, 39, 42, 47]}\n",
      "{0: [0, 1, 2, 5, 6, 7, 8, 11, 19, 21, 22, 25, 26, 28, 29, 30, 31, 33, 34, 35, 40, 43, 44, 45, 48, 49], 1: [3, 4, 9, 10, 12, 13, 14, 15, 16, 17, 18, 20, 23, 24, 27, 32, 36, 37, 38, 39, 41, 42, 46, 47]}\n",
      "{0: [11, 25, 30, 35, 45], 1: [0, 1, 2, 3, 4, 5, 6, 7, 8, 9, 10, 12, 13, 14, 15, 16, 17, 18, 19, 20, 21, 22, 23, 24, 26, 27, 28, 29, 31, 32, 33, 34, 36, 37, 38, 39, 40, 41, 42, 43, 44, 46, 47, 48, 49]}\n",
      "{0: [1, 4, 5, 8, 11, 14, 15, 17, 18, 20, 21, 22, 23, 25, 30, 31, 38, 41, 43, 47], 1: [0, 2, 3, 6, 7, 9, 10, 12, 13, 16, 19, 24, 26, 27, 28, 29, 32, 33, 34, 35, 36, 37, 39, 40, 42, 44, 45, 46, 48, 49]}\n",
      "{0: [0, 1, 2, 3, 4, 5, 6, 7, 8, 9, 10, 11, 12, 13, 14, 15, 16, 17, 18, 19, 20, 21, 22, 23, 24, 25, 26, 27, 28, 29, 30, 31, 32, 33, 34, 35, 36, 37, 38, 39, 40, 41, 42, 43, 44, 45, 46, 47, 48, 49], 1: []}\n",
      "{0: [0, 2, 4, 5, 7, 8, 9, 10, 12, 13, 14, 16, 17, 18, 19, 20, 22, 25, 26, 27, 28, 29, 30, 32, 36, 39, 40, 41, 42, 46, 47, 48], 1: [1, 3, 6, 11, 15, 21, 23, 24, 31, 33, 34, 35, 37, 38, 43, 44, 45, 49]}\n",
      "{0: [1, 2, 4, 5, 8, 11, 14, 16, 20, 21, 24, 25, 26, 29, 30, 32, 34, 39, 40, 41, 44, 46, 48, 49], 1: [0, 3, 6, 7, 9, 10, 12, 13, 15, 17, 18, 19, 22, 23, 27, 28, 31, 33, 35, 36, 37, 38, 42, 43, 45, 47]}\n",
      "{0: [14, 21, 29, 30, 41, 48], 1: [0, 1, 2, 3, 4, 5, 6, 7, 8, 9, 10, 11, 12, 13, 15, 16, 17, 18, 19, 20, 22, 23, 24, 25, 26, 27, 28, 31, 32, 33, 34, 35, 36, 37, 38, 39, 40, 42, 43, 44, 45, 46, 47, 49]}\n",
      "{0: [0, 1, 2, 8, 10, 14, 15, 17, 19, 20, 21, 23, 24, 28, 29, 31, 32, 33, 34, 35, 36, 41, 42, 43, 44], 1: [3, 4, 5, 6, 7, 9, 11, 12, 13, 16, 18, 22, 25, 26, 27, 30, 37, 38, 39, 40, 45, 46, 47, 48, 49]}\n",
      "{0: [0, 1, 2, 3, 4, 5, 6, 7, 8, 9, 10, 11, 12, 13, 14, 15, 16, 17, 18, 19, 20, 21, 22, 23, 24, 25, 26, 27, 28, 29, 30, 31, 32, 33, 34, 35, 36, 37, 38, 39, 40, 41, 42, 43, 44, 45, 46, 47, 48, 49], 1: []}\n",
      "{0: [0, 1, 3, 4, 5, 6, 7, 9, 10, 11, 12, 14, 16, 19, 21, 24, 25, 26, 27, 28, 30, 31, 32, 33, 34, 35, 36, 37, 38, 39, 41, 42, 43, 44, 46, 48, 49], 1: [2, 8, 13, 15, 17, 18, 20, 22, 23, 29, 40, 45, 47]}\n",
      "{0: [1, 3, 4, 7, 8, 14, 16, 19, 21, 22, 24, 25, 28, 29, 30, 31, 32, 35, 41, 43, 44, 45, 46, 49], 1: [0, 2, 5, 6, 9, 10, 11, 12, 13, 15, 17, 18, 20, 23, 26, 27, 33, 34, 36, 37, 38, 39, 40, 42, 47, 48]}\n",
      "{0: [4, 14, 21, 29, 31, 35, 44, 45], 1: [0, 1, 2, 3, 5, 6, 7, 8, 9, 10, 11, 12, 13, 15, 16, 17, 18, 19, 20, 22, 23, 24, 25, 26, 27, 28, 30, 32, 33, 34, 36, 37, 38, 39, 40, 41, 42, 43, 46, 47, 48, 49]}\n",
      "{0: [3, 5, 6, 7, 9, 11, 13, 16, 17, 20, 21, 23, 26, 27, 29, 30, 31, 32, 33, 36, 42, 44, 46, 49], 1: [0, 1, 2, 4, 8, 10, 12, 14, 15, 18, 19, 22, 24, 25, 28, 34, 35, 37, 38, 39, 40, 41, 43, 45, 47, 48]}\n",
      "{0: [0, 1, 2, 3, 4, 5, 6, 7, 8, 9, 10, 11, 12, 13, 14, 15, 16, 17, 18, 19, 20, 21, 22, 23, 24, 25, 26, 27, 28, 29, 30, 31, 32, 33, 34, 35, 36, 37, 38, 39, 40, 41, 42, 43, 44, 45, 46, 47, 48, 49], 1: []}\n",
      "{0: [1, 3, 5, 7, 8, 9, 10, 11, 12, 13, 14, 16, 17, 20, 22, 23, 24, 25, 26, 27, 28, 31, 34, 35, 38, 39, 40, 42, 44, 45, 46, 48, 49], 1: [0, 2, 4, 6, 15, 18, 19, 21, 29, 30, 32, 33, 36, 37, 41, 43, 47]}\n",
      "{0: [0, 1, 3, 5, 8, 9, 10, 12, 16, 17, 18, 20, 21, 23, 24, 26, 27, 28, 33, 34, 35, 37, 38, 39, 41, 42, 43, 44, 45, 47, 48, 49], 1: [2, 4, 6, 7, 11, 13, 14, 15, 19, 22, 25, 29, 30, 31, 32, 36, 40, 46]}\n",
      "{0: [5, 9, 13, 16, 17, 18, 21, 23, 24, 27, 28, 45, 47], 1: [0, 1, 2, 3, 4, 6, 7, 8, 10, 11, 12, 14, 15, 19, 20, 22, 25, 26, 29, 30, 31, 32, 33, 34, 35, 36, 37, 38, 39, 40, 41, 42, 43, 44, 46, 48, 49]}\n",
      "{0: [0, 4, 7, 9, 11, 12, 13, 14, 15, 16, 18, 21, 22, 23, 24, 25, 26, 27, 28, 31, 33, 34, 41, 42, 43, 45, 47, 49], 1: [1, 2, 3, 5, 6, 8, 10, 17, 19, 20, 29, 30, 32, 35, 36, 37, 38, 39, 40, 44, 46, 48]}\n",
      "{0: [0, 1, 2, 3, 4, 5, 6, 7, 8, 9, 10, 11, 12, 13, 14, 15, 16, 17, 18, 19, 20, 21, 22, 23, 24, 25, 26, 27, 28, 29, 30, 31, 32, 33, 34, 35, 36, 37, 38, 39, 40, 41, 42, 43, 44, 45, 46, 47, 48, 49], 1: []}\n",
      "{0: [1, 4, 5, 6, 7, 8, 9, 10, 12, 13, 14, 16, 17, 18, 19, 20, 21, 22, 23, 24, 25, 26, 27, 28, 29, 30, 31, 32, 33, 34, 35, 36, 37, 38, 39, 41, 42, 43, 44, 45, 46, 47, 49], 1: [0, 2, 3, 11, 15, 40, 48]}\n",
      "{0: [0, 1, 2, 4, 5, 6, 7, 8, 10, 12, 18, 19, 21, 22, 23, 24, 26, 27, 29, 30, 33, 35, 36, 37, 38, 39, 40, 41, 43, 44, 45, 47, 49], 1: [3, 9, 11, 13, 14, 15, 16, 17, 20, 25, 28, 31, 32, 34, 42, 46, 48]}\n",
      "{0: [1, 6, 26, 27, 30, 33, 37, 38, 39, 40, 43, 44, 45], 1: [0, 2, 3, 4, 5, 7, 8, 9, 10, 11, 12, 13, 14, 15, 16, 17, 18, 19, 20, 21, 22, 23, 24, 25, 28, 29, 31, 32, 34, 35, 36, 41, 42, 46, 47, 48, 49]}\n",
      "{0: [0, 6, 9, 10, 11, 14, 15, 20, 21, 23, 24, 26, 27, 28, 29, 30, 31, 32, 33, 35, 37, 38, 39, 40, 41, 42, 44, 45, 46, 49], 1: [1, 2, 3, 4, 5, 7, 8, 12, 13, 16, 17, 18, 19, 22, 25, 34, 36, 43, 47, 48]}\n",
      "{0: [0, 1, 2, 3, 4, 5, 6, 7, 8, 9, 10, 11, 12, 13, 14, 15, 16, 17, 18, 19, 20, 21, 22, 23, 24, 25, 26, 27, 28, 29, 30, 31, 32, 33, 34, 35, 36, 37, 38, 39, 40, 41, 42, 43, 44, 45, 46, 47, 48, 49], 1: []}\n",
      "{0: [1, 4, 5, 6, 7, 8, 9, 10, 11, 12, 14, 15, 16, 17, 18, 19, 20, 21, 22, 23, 24, 26, 27, 28, 29, 30, 31, 33, 34, 35, 36, 38, 39, 40, 41, 42, 43, 45, 46, 47, 48, 49], 1: [0, 2, 3, 13, 25, 32, 37, 44]}\n",
      "{0: [1, 4, 5, 8, 9, 10, 11, 12, 13, 14, 16, 17, 18, 19, 20, 22, 24, 25, 27, 28, 29, 30, 31, 32, 33, 35, 36, 38, 41, 42, 43, 46, 47, 48], 1: [0, 2, 3, 6, 7, 15, 21, 23, 26, 34, 37, 39, 40, 44, 45, 49]}\n",
      "{0: [11, 12, 16, 20, 24, 25, 29, 30, 32, 36, 41, 42, 45], 1: [0, 1, 2, 3, 4, 5, 6, 7, 8, 9, 10, 13, 14, 15, 17, 18, 19, 21, 22, 23, 26, 27, 28, 31, 33, 34, 35, 37, 38, 39, 40, 43, 44, 46, 47, 48, 49]}\n",
      "{0: [2, 4, 5, 7, 11, 12, 13, 16, 19, 20, 21, 23, 24, 25, 28, 29, 31, 32, 33, 34, 35, 36, 37, 40, 41, 42, 44, 45], 1: [0, 1, 3, 6, 8, 9, 10, 14, 15, 17, 18, 22, 26, 27, 30, 38, 39, 43, 46, 47, 48, 49]}\n",
      "{0: [0, 1, 2, 3, 4, 5, 6, 7, 8, 9, 10, 11, 12, 13, 14, 15, 16, 17, 18, 19, 20, 21, 22, 23, 24, 25, 26, 27, 28, 29, 30, 31, 32, 33, 34, 35, 36, 37, 38, 39, 40, 41, 42, 43, 44, 45, 46, 47, 48, 49], 1: []}\n",
      "{0: [0, 2, 3, 4, 5, 6, 7, 8, 9, 11, 12, 13, 14, 15, 16, 17, 19, 21, 24, 25, 26, 27, 28, 29, 30, 31, 32, 33, 34, 35, 36, 37, 38, 40, 41, 42, 43, 45, 47, 48], 1: [1, 10, 18, 20, 22, 23, 39, 44, 46, 49]}\n",
      "{0: [0, 1, 2, 3, 5, 6, 7, 11, 13, 14, 16, 17, 19, 20, 21, 24, 25, 26, 28, 30, 32, 34, 35, 36, 37, 38, 40, 41, 43, 45, 46, 47, 49], 1: [4, 8, 9, 10, 12, 15, 18, 22, 23, 27, 29, 31, 33, 39, 42, 44, 48]}\n",
      "{0: [0, 1, 12, 17, 19, 29, 32, 37, 38, 43, 49], 1: [2, 3, 4, 5, 6, 7, 8, 9, 10, 11, 13, 14, 15, 16, 18, 20, 21, 22, 23, 24, 25, 26, 27, 28, 30, 31, 33, 34, 35, 36, 39, 40, 41, 42, 44, 45, 46, 47, 48]}\n",
      "{0: [0, 1, 7, 9, 12, 13, 16, 18, 20, 22, 24, 25, 26, 27, 29, 31, 32, 34, 35, 37, 38, 39, 41, 43, 45, 46, 49], 1: [2, 3, 4, 5, 6, 8, 10, 11, 14, 15, 17, 19, 21, 23, 28, 30, 33, 36, 40, 42, 44, 47, 48]}\n",
      "{0: [0, 1, 2, 3, 4, 5, 6, 7, 8, 9, 10, 11, 12, 13, 14, 15, 16, 17, 18, 19, 20, 21, 22, 23, 24, 25, 26, 27, 28, 29, 30, 31, 32, 33, 34, 35, 36, 37, 38, 39, 40, 41, 42, 43, 44, 45, 46, 47, 48, 49], 1: []}\n",
      "{0: [0, 2, 4, 5, 6, 7, 8, 9, 10, 13, 17, 18, 19, 20, 23, 24, 25, 26, 27, 28, 29, 32, 34, 35, 36, 39, 41, 42, 43, 44, 45, 46, 47, 49], 1: [1, 3, 11, 12, 14, 15, 16, 21, 22, 30, 31, 33, 37, 38, 40, 48]}\n",
      "{0: [0, 2, 3, 4, 5, 6, 7, 8, 9, 17, 18, 19, 20, 21, 23, 24, 27, 28, 32, 37, 41, 43, 49], 1: [1, 10, 11, 12, 13, 14, 15, 16, 22, 25, 26, 29, 30, 31, 33, 34, 35, 36, 38, 39, 40, 42, 44, 45, 46, 47, 48]}\n",
      "{0: [5, 7, 17, 19, 20, 23, 27, 28, 37, 43], 1: [0, 1, 2, 3, 4, 6, 8, 9, 10, 11, 12, 13, 14, 15, 16, 18, 21, 22, 24, 25, 26, 29, 30, 31, 32, 33, 34, 35, 36, 38, 39, 40, 41, 42, 44, 45, 46, 47, 48, 49]}\n",
      "{0: [0, 1, 3, 5, 7, 8, 9, 10, 12, 13, 15, 19, 20, 25, 30, 31, 34, 35, 36, 37, 41, 46], 1: [2, 4, 6, 11, 14, 16, 17, 18, 21, 22, 23, 24, 26, 27, 28, 29, 32, 33, 38, 39, 40, 42, 43, 44, 45, 47, 48, 49]}\n",
      "{0: [0, 1, 2, 3, 4, 5, 6, 7, 8, 9, 10, 11, 12, 13, 14, 15, 16, 17, 18, 19, 20, 21, 22, 23, 24, 25, 26, 27, 28, 29, 30, 31, 32, 33, 34, 35, 36, 37, 38, 39, 40, 41, 42, 43, 44, 45, 46, 47, 48, 49], 1: []}\n",
      "{0: [1, 2, 3, 4, 7, 8, 9, 10, 11, 12, 13, 14, 15, 18, 19, 20, 23, 24, 27, 29, 30, 31, 32, 33, 34, 35, 37, 38, 39, 40, 41, 42, 43, 46, 47, 49], 1: [0, 5, 6, 16, 17, 21, 22, 25, 26, 28, 36, 44, 45, 48]}\n",
      "{0: [0, 1, 2, 3, 4, 7, 8, 10, 11, 13, 15, 17, 18, 19, 20, 23, 24, 27, 28, 29, 30, 31, 32, 33, 34, 38, 40, 41, 42, 43, 45, 46, 47, 48, 49], 1: [5, 6, 9, 12, 14, 16, 21, 22, 25, 26, 35, 36, 37, 39, 44]}\n",
      "{0: [10, 13, 23, 32, 38, 43, 45, 46, 48], 1: [0, 1, 2, 3, 4, 5, 6, 7, 8, 9, 11, 12, 14, 15, 16, 17, 18, 19, 20, 21, 22, 24, 25, 26, 27, 28, 29, 30, 31, 33, 34, 35, 36, 37, 39, 40, 41, 42, 44, 47, 49]}\n",
      "{0: [10, 11, 13, 14, 16, 17, 18, 19, 23, 24, 25, 28, 29, 31, 35, 36, 37, 38, 40, 42, 45, 48, 49], 1: [0, 1, 2, 3, 4, 5, 6, 7, 8, 9, 12, 15, 20, 21, 22, 26, 27, 30, 32, 33, 34, 39, 41, 43, 44, 46, 47]}\n",
      "{0: [0, 1, 2, 3, 4, 5, 6, 7, 8, 9, 10, 11, 12, 13, 14, 15, 16, 17, 18, 19, 20, 21, 22, 23, 24, 25, 26, 27, 28, 29, 30, 31, 32, 33, 34, 35, 36, 37, 38, 39, 40, 41, 42, 43, 44, 45, 46, 47, 48, 49], 1: []}\n",
      "{0: [0, 1, 4, 6, 8, 10, 11, 12, 13, 15, 17, 18, 20, 21, 22, 23, 24, 25, 26, 28, 30, 32, 34, 36, 37, 39, 40, 41, 42, 43, 44, 45, 46, 47, 49], 1: [2, 3, 5, 7, 9, 14, 16, 19, 27, 29, 31, 33, 35, 38, 48]}\n",
      "{0: [0, 1, 2, 8, 10, 11, 12, 18, 20, 21, 24, 25, 26, 27, 29, 32, 34, 36, 37, 39, 40, 41, 42, 44, 46, 49], 1: [3, 4, 5, 6, 7, 9, 13, 14, 15, 16, 17, 19, 22, 23, 28, 30, 31, 33, 35, 38, 43, 45, 47, 48]}\n",
      "{0: [1, 8, 10, 17, 21, 24, 25, 32], 1: [0, 2, 3, 4, 5, 6, 7, 9, 11, 12, 13, 14, 15, 16, 18, 19, 20, 22, 23, 26, 27, 28, 29, 30, 31, 33, 34, 35, 36, 37, 38, 39, 40, 41, 42, 43, 44, 45, 46, 47, 48, 49]}\n",
      "{0: [0, 1, 7, 8, 10, 13, 14, 15, 17, 24, 25, 27, 28, 29, 31, 32, 35, 39, 40, 41, 45], 1: [2, 3, 4, 5, 6, 9, 11, 12, 16, 18, 19, 20, 21, 22, 23, 26, 30, 33, 34, 36, 37, 38, 42, 43, 44, 46, 47, 48, 49]}\n",
      "{0: [0, 1, 2, 3, 4, 5, 6, 7, 8, 9, 10, 11, 12, 13, 14, 15, 16, 17, 18, 19, 20, 21, 22, 23, 24, 25, 26, 27, 28, 29, 30, 31, 32, 33, 34, 35, 36, 37, 38, 39, 40, 41, 42, 43, 44, 45, 46, 47, 48, 49], 1: []}\n",
      "{0: [3, 4, 5, 6, 8, 9, 10, 11, 12, 14, 15, 18, 19, 20, 21, 22, 23, 27, 28, 29, 32, 33, 34, 38, 39, 40, 43, 44, 45, 46, 49], 1: [0, 1, 2, 7, 13, 16, 17, 24, 25, 26, 30, 31, 35, 36, 37, 41, 42, 47, 48]}\n",
      "{0: [1, 3, 6, 9, 10, 11, 12, 14, 18, 20, 21, 22, 23, 29, 30, 38, 40, 42, 43, 48, 49], 1: [0, 2, 4, 5, 7, 8, 13, 15, 16, 17, 19, 24, 25, 26, 27, 28, 31, 32, 33, 34, 35, 36, 37, 39, 41, 44, 45, 46, 47]}\n",
      "{0: [3, 9, 11, 12, 14, 18, 29, 30, 48], 1: [0, 1, 2, 4, 5, 6, 7, 8, 10, 13, 15, 16, 17, 19, 20, 21, 22, 23, 24, 25, 26, 27, 28, 31, 32, 33, 34, 35, 36, 37, 38, 39, 40, 41, 42, 43, 44, 45, 46, 47, 49]}\n",
      "{0: [0, 1, 4, 5, 8, 9, 11, 12, 15, 18, 19, 20, 24, 25, 26, 29, 33, 34, 35, 40, 41, 43, 44, 45, 46, 47, 48], 1: [2, 3, 6, 7, 10, 13, 14, 16, 17, 21, 22, 23, 27, 28, 30, 31, 32, 36, 37, 38, 39, 42, 49]}\n",
      "{0: [0, 1, 2, 3, 4, 5, 6, 7, 8, 9, 10, 11, 12, 13, 14, 15, 16, 17, 18, 19, 20, 21, 22, 23, 24, 25, 26, 27, 28, 29, 30, 31, 32, 33, 34, 35, 36, 37, 38, 39, 40, 41, 42, 43, 44, 45, 46, 47, 48, 49], 1: []}\n",
      "{0: [0, 1, 2, 3, 6, 7, 8, 9, 10, 12, 13, 14, 15, 16, 17, 18, 19, 20, 24, 25, 26, 27, 28, 30, 32, 37, 39, 40, 41, 42, 43, 44, 45, 46, 47], 1: [4, 5, 11, 21, 22, 23, 29, 31, 33, 34, 35, 36, 38, 48, 49]}\n",
      "{0: [0, 1, 2, 3, 5, 7, 8, 13, 14, 15, 16, 17, 22, 24, 25, 26, 27, 28, 31, 32, 37, 40, 42, 43, 45, 46], 1: [4, 6, 9, 10, 11, 12, 18, 19, 20, 21, 23, 29, 30, 33, 34, 35, 36, 38, 39, 41, 44, 47, 48, 49]}\n",
      "{0: [5, 8, 15, 16, 17, 24, 25, 26, 32], 1: [0, 1, 2, 3, 4, 6, 7, 9, 10, 11, 12, 13, 14, 18, 19, 20, 21, 22, 23, 27, 28, 29, 30, 31, 33, 34, 35, 36, 37, 38, 39, 40, 41, 42, 43, 44, 45, 46, 47, 48, 49]}\n",
      "{0: [1, 4, 5, 8, 10, 11, 12, 13, 16, 22, 23, 24, 25, 29, 30, 31, 32, 33, 35, 38, 39, 42, 43, 44, 49], 1: [0, 2, 3, 6, 7, 9, 14, 15, 17, 18, 19, 20, 21, 26, 27, 28, 34, 36, 37, 40, 41, 45, 46, 47, 48]}\n",
      "{0: [0, 1, 2, 3, 4, 5, 6, 7, 8, 9, 10, 11, 12, 13, 14, 15, 16, 17, 18, 19, 20, 21, 22, 23, 24, 25, 26, 27, 28, 29, 30, 31, 32, 33, 34, 35, 36, 37, 38, 39, 40, 41, 42, 43, 44, 45, 46, 47, 48, 49], 1: []}\n",
      "{0: [0, 1, 4, 5, 7, 8, 9, 10, 12, 13, 14, 15, 17, 18, 19, 20, 21, 23, 24, 25, 26, 27, 28, 29, 30, 31, 32, 35, 36, 37, 38, 39, 40, 41, 42, 43, 44, 46, 47, 48, 49], 1: [2, 3, 6, 11, 16, 22, 33, 34, 45]}\n",
      "{0: [0, 4, 5, 8, 9, 12, 13, 16, 17, 19, 20, 21, 24, 26, 27, 28, 31, 32, 34, 35, 36, 37, 38, 39, 40, 43, 44, 45, 47], 1: [1, 2, 3, 6, 7, 10, 11, 14, 15, 18, 22, 23, 25, 29, 30, 33, 41, 42, 46, 48, 49]}\n",
      "{0: [0, 8, 13, 17, 19, 24, 31, 34, 36, 38, 39, 45, 47], 1: [1, 2, 3, 4, 5, 6, 7, 9, 10, 11, 12, 14, 15, 16, 18, 20, 21, 22, 23, 25, 26, 27, 28, 29, 30, 32, 33, 35, 37, 40, 41, 42, 43, 44, 46, 48, 49]}\n",
      "{0: [0, 1, 2, 3, 4, 6, 8, 10, 22, 24, 25, 31, 33, 34, 35, 36, 38, 39, 41, 43, 45, 49], 1: [5, 7, 9, 11, 12, 13, 14, 15, 16, 17, 18, 19, 20, 21, 23, 26, 27, 28, 29, 30, 32, 37, 40, 42, 44, 46, 47, 48]}\n",
      "{0: [0, 1, 2, 3, 4, 5, 6, 7, 8, 9, 10, 11, 12, 13, 14, 15, 16, 17, 18, 19, 20, 21, 22, 23, 24, 25, 26, 27, 28, 29, 30, 31, 32, 33, 34, 35, 36, 37, 38, 39, 40, 41, 42, 43, 44, 45, 46, 47, 48, 49], 1: []}\n",
      "{0: [2, 3, 4, 5, 8, 9, 10, 11, 12, 15, 16, 17, 18, 20, 21, 22, 23, 24, 25, 26, 27, 28, 29, 30, 31, 33, 34, 35, 37, 38, 39, 42, 43, 44, 45, 46, 48, 49], 1: [0, 1, 6, 7, 13, 14, 19, 32, 36, 40, 41, 47]}\n",
      "{0: [1, 3, 9, 10, 11, 12, 14, 15, 16, 17, 19, 20, 21, 22, 23, 24, 25, 28, 29, 30, 31, 33, 35, 37, 40, 41, 43, 44, 45, 46, 49], 1: [0, 2, 4, 5, 6, 7, 8, 13, 18, 26, 27, 32, 34, 36, 38, 39, 42, 47, 48]}\n",
      "{0: [1, 14, 19, 23, 28, 30, 31, 43], 1: [0, 2, 3, 4, 5, 6, 7, 8, 9, 10, 11, 12, 13, 15, 16, 17, 18, 20, 21, 22, 24, 25, 26, 27, 29, 32, 33, 34, 35, 36, 37, 38, 39, 40, 41, 42, 44, 45, 46, 47, 48, 49]}\n",
      "{0: [0, 1, 8, 10, 14, 17, 22, 23, 24, 28, 30, 31, 34, 38, 39, 40, 41, 43, 45, 47, 48], 1: [2, 3, 4, 5, 6, 7, 9, 11, 12, 13, 15, 16, 18, 19, 20, 21, 25, 26, 27, 29, 32, 33, 35, 36, 37, 42, 44, 46, 49]}\n",
      "{0: [0, 1, 2, 3, 4, 5, 6, 7, 8, 9, 10, 11, 12, 13, 14, 15, 16, 17, 18, 19, 20, 21, 22, 23, 24, 25, 26, 27, 28, 29, 30, 31, 32, 33, 34, 35, 36, 37, 38, 39, 40, 41, 42, 43, 44, 45, 46, 47, 48, 49], 1: []}\n",
      "{0: [0, 1, 2, 4, 5, 6, 7, 8, 11, 12, 13, 14, 15, 16, 17, 19, 20, 22, 23, 27, 28, 30, 31, 32, 33, 34, 36, 39, 41, 42, 43, 45, 47, 48], 1: [3, 9, 10, 18, 21, 24, 25, 26, 29, 35, 37, 38, 40, 44, 46, 49]}\n",
      "{0: [1, 2, 4, 5, 6, 7, 8, 11, 12, 13, 14, 15, 16, 19, 22, 23, 24, 25, 27, 28, 30, 32, 33, 36, 37, 38, 42, 43, 44, 47, 48], 1: [0, 3, 9, 10, 17, 18, 20, 21, 26, 29, 31, 34, 35, 39, 40, 41, 45, 46, 49]}\n",
      "{0: [2, 4, 8, 11, 19, 30, 44], 1: [0, 1, 3, 5, 6, 7, 9, 10, 12, 13, 14, 15, 16, 17, 18, 20, 21, 22, 23, 24, 25, 26, 27, 28, 29, 31, 32, 33, 34, 35, 36, 37, 38, 39, 40, 41, 42, 43, 45, 46, 47, 48, 49]}\n",
      "{0: [0, 3, 4, 5, 6, 8, 10, 11, 13, 14, 19, 20, 22, 24, 27, 28, 29, 30, 31, 32, 37, 38, 41, 43, 44, 47], 1: [1, 2, 7, 9, 12, 15, 16, 17, 18, 21, 23, 25, 26, 33, 34, 35, 36, 39, 40, 42, 45, 46, 48, 49]}\n",
      "{0: [0, 1, 2, 3, 4, 5, 6, 7, 8, 9, 10, 11, 12, 13, 14, 15, 16, 17, 18, 19, 20, 21, 22, 23, 24, 25, 26, 27, 28, 29, 30, 31, 32, 33, 34, 35, 36, 37, 38, 39, 40, 41, 42, 43, 44, 45, 46, 47, 48, 49], 1: []}\n",
      "{0: [0, 1, 3, 4, 6, 7, 10, 11, 13, 14, 15, 16, 17, 18, 20, 21, 23, 24, 25, 27, 28, 30, 31, 32, 33, 35, 36, 37, 38, 39, 40, 41, 42, 43, 45, 47, 48, 49], 1: [2, 5, 8, 9, 12, 19, 22, 26, 29, 34, 44, 46]}\n",
      "{0: [0, 1, 2, 6, 10, 11, 13, 15, 16, 17, 18, 23, 24, 25, 26, 27, 30, 33, 36, 37, 38, 39, 41, 45, 47, 48, 49], 1: [3, 4, 5, 7, 8, 9, 12, 14, 19, 20, 21, 22, 28, 29, 31, 32, 34, 35, 40, 42, 43, 44, 46]}\n",
      "{0: [23, 24, 37, 38, 39, 47, 48], 1: [0, 1, 2, 3, 4, 5, 6, 7, 8, 9, 10, 11, 12, 13, 14, 15, 16, 17, 18, 19, 20, 21, 22, 25, 26, 27, 28, 29, 30, 31, 32, 33, 34, 35, 36, 40, 41, 42, 43, 44, 45, 46, 49]}\n",
      "{0: [0, 1, 2, 5, 8, 16, 19, 21, 23, 25, 27, 30, 31, 38, 40, 45, 46, 49], 1: [3, 4, 6, 7, 9, 10, 11, 12, 13, 14, 15, 17, 18, 20, 22, 24, 26, 28, 29, 32, 33, 34, 35, 36, 37, 39, 41, 42, 43, 44, 47, 48]}\n",
      "{0: [0, 1, 2, 3, 4, 5, 6, 7, 8, 9, 10, 11, 12, 13, 14, 15, 16, 17, 18, 19, 20, 21, 22, 23, 24, 25, 26, 27, 28, 29, 30, 31, 32, 33, 34, 35, 36, 37, 38, 39, 40, 41, 42, 43, 44, 45, 46, 47, 48, 49], 1: []}\n",
      "{0: [0, 1, 2, 3, 4, 5, 6, 7, 8, 10, 11, 12, 13, 14, 15, 16, 17, 18, 19, 20, 22, 23, 24, 25, 26, 27, 28, 29, 30, 33, 34, 35, 36, 38, 39, 40, 41, 42, 43, 45, 46, 48, 49], 1: [9, 21, 31, 32, 37, 44, 47]}\n",
      "{0: [0, 2, 3, 4, 5, 6, 7, 8, 9, 10, 11, 13, 14, 16, 18, 20, 23, 25, 26, 27, 28, 30, 33, 34, 35, 36, 37, 38, 39, 41, 42, 43, 44, 45, 49], 1: [1, 12, 15, 17, 19, 21, 22, 24, 29, 31, 32, 40, 46, 47, 48]}\n",
      "{0: [4, 6, 8, 9, 11, 13, 25, 26, 28, 33, 36, 41], 1: [0, 1, 2, 3, 5, 7, 10, 12, 14, 15, 16, 17, 18, 19, 20, 21, 22, 23, 24, 27, 29, 30, 31, 32, 34, 35, 37, 38, 39, 40, 42, 43, 44, 45, 46, 47, 48, 49]}\n",
      "{0: [0, 1, 5, 9, 10, 12, 13, 14, 15, 22, 24, 25, 26, 27, 28, 32, 35, 36, 37, 38, 40, 44, 45, 46, 47], 1: [2, 3, 4, 6, 7, 8, 11, 16, 17, 18, 19, 20, 21, 23, 29, 30, 31, 33, 34, 39, 41, 42, 43, 48, 49]}\n",
      "{0: [0, 1, 2, 3, 4, 5, 6, 7, 8, 9, 10, 11, 12, 13, 14, 15, 16, 17, 18, 19, 20, 21, 22, 23, 24, 25, 26, 27, 28, 29, 30, 31, 32, 33, 34, 35, 36, 37, 38, 39, 40, 41, 42, 43, 44, 45, 46, 47, 48, 49], 1: []}\n",
      "{0: [0, 1, 2, 3, 4, 5, 7, 8, 9, 10, 11, 12, 13, 16, 17, 22, 24, 25, 26, 27, 28, 29, 30, 33, 34, 35, 38, 39, 40, 41, 42, 43, 45, 46, 48, 49], 1: [6, 14, 15, 18, 19, 20, 21, 23, 31, 32, 36, 37, 44, 47]}\n",
      "{0: [0, 1, 2, 3, 5, 7, 9, 15, 16, 17, 20, 22, 23, 24, 25, 26, 28, 29, 30, 31, 34, 35, 36, 39, 40, 45, 46, 48], 1: [4, 6, 8, 10, 11, 12, 13, 14, 18, 19, 21, 27, 32, 33, 37, 38, 41, 42, 43, 44, 47, 49]}\n",
      "{0: [1, 2, 3, 17, 20, 22, 25, 31, 36, 40, 45, 48], 1: [0, 4, 5, 6, 7, 8, 9, 10, 11, 12, 13, 14, 15, 16, 18, 19, 21, 23, 24, 26, 27, 28, 29, 30, 32, 33, 34, 35, 37, 38, 39, 41, 42, 43, 44, 46, 47, 49]}\n",
      "{0: [0, 1, 2, 3, 4, 5, 6, 8, 9, 13, 15, 17, 20, 21, 22, 23, 24, 25, 30, 31, 36, 40, 42, 45, 46, 47, 49], 1: [7, 10, 11, 12, 14, 16, 18, 19, 26, 27, 28, 29, 32, 33, 34, 35, 37, 38, 39, 41, 43, 44, 48]}\n",
      "{0: [0, 1, 2, 3, 4, 5, 6, 7, 8, 9, 10, 11, 12, 13, 14, 15, 16, 17, 18, 19, 20, 21, 22, 23, 24, 25, 26, 27, 28, 29, 30, 31, 32, 33, 34, 35, 36, 37, 38, 39, 40, 41, 42, 43, 44, 45, 46, 47, 48, 49], 1: []}\n",
      "{0: [1, 2, 3, 4, 5, 9, 11, 12, 13, 14, 18, 20, 22, 23, 25, 26, 27, 28, 29, 30, 31, 32, 33, 35, 36, 37, 38, 40, 43, 44, 46, 47, 48, 49], 1: [0, 6, 7, 8, 10, 15, 16, 17, 19, 21, 24, 34, 39, 41, 42, 45]}\n",
      "{0: [0, 1, 2, 3, 4, 5, 11, 12, 13, 14, 18, 19, 22, 25, 26, 27, 28, 30, 32, 35, 36, 43, 44, 46, 47, 48, 49], 1: [6, 7, 8, 9, 10, 15, 16, 17, 20, 21, 23, 24, 29, 31, 33, 34, 37, 38, 39, 40, 41, 42, 45]}\n",
      "{0: [0, 12, 28, 35, 36, 48, 49], 1: [1, 2, 3, 4, 5, 6, 7, 8, 9, 10, 11, 13, 14, 15, 16, 17, 18, 19, 20, 21, 22, 23, 24, 25, 26, 27, 29, 30, 31, 32, 33, 34, 37, 38, 39, 40, 41, 42, 43, 44, 45, 46, 47]}\n",
      "{0: [0, 2, 8, 12, 14, 15, 19, 22, 24, 25, 27, 28, 30, 32, 34, 36, 38, 39, 43, 44, 45, 47, 48], 1: [1, 3, 4, 5, 6, 7, 9, 10, 11, 13, 16, 17, 18, 20, 21, 23, 26, 29, 31, 33, 35, 37, 40, 41, 42, 46, 49]}\n",
      "{0: [0, 1, 2, 3, 4, 5, 6, 7, 8, 9, 10, 11, 12, 13, 14, 15, 16, 17, 18, 19, 20, 21, 22, 23, 24, 25, 26, 27, 28, 29, 30, 31, 32, 33, 34, 35, 36, 37, 38, 39, 40, 41, 42, 43, 44, 45, 46, 47, 48, 49], 1: []}\n",
      "{0: [0, 2, 3, 4, 5, 6, 7, 8, 9, 10, 11, 15, 16, 18, 19, 21, 22, 23, 24, 25, 26, 27, 28, 29, 31, 33, 34, 35, 36, 37, 40, 41, 42, 43, 44, 46, 47], 1: [1, 12, 13, 14, 17, 20, 30, 32, 38, 39, 45, 48, 49]}\n",
      "{0: [0, 1, 2, 3, 5, 6, 7, 8, 9, 10, 11, 16, 21, 22, 23, 24, 25, 27, 28, 31, 33, 34, 35, 36, 38, 39, 41, 42, 44, 49], 1: [4, 12, 13, 14, 15, 17, 18, 19, 20, 26, 29, 30, 32, 37, 40, 43, 45, 46, 47, 48]}\n",
      "{0: [5, 6, 21, 25, 31, 38, 42], 1: [0, 1, 2, 3, 4, 7, 8, 9, 10, 11, 12, 13, 14, 15, 16, 17, 18, 19, 20, 22, 23, 24, 26, 27, 28, 29, 30, 32, 33, 34, 35, 36, 37, 39, 40, 41, 43, 44, 45, 46, 47, 48, 49]}\n",
      "{0: [1, 3, 4, 5, 6, 7, 8, 10, 11, 13, 14, 16, 18, 20, 24, 25, 28, 33, 35, 37, 38, 41, 44, 45, 46, 47], 1: [0, 2, 9, 12, 15, 17, 19, 21, 22, 23, 26, 27, 29, 30, 31, 32, 34, 36, 39, 40, 42, 43, 48, 49]}\n",
      "{0: [0, 1, 2, 3, 4, 5, 6, 7, 8, 9, 10, 11, 12, 13, 14, 15, 16, 17, 18, 19, 20, 21, 22, 23, 24, 25, 26, 27, 28, 29, 30, 31, 32, 33, 34, 35, 36, 37, 38, 39, 40, 41, 42, 43, 44, 45, 46, 47, 48, 49], 1: []}\n",
      "{0: [0, 1, 4, 5, 6, 9, 11, 13, 16, 17, 18, 21, 22, 24, 25, 27, 29, 30, 31, 32, 33, 35, 36, 37, 38, 40, 41, 42, 43, 45, 46, 47, 48], 1: [2, 3, 7, 8, 10, 12, 14, 15, 19, 20, 23, 26, 28, 34, 39, 44, 49]}\n",
      "{0: [0, 1, 4, 5, 6, 9, 14, 16, 17, 18, 25, 28, 31, 32, 33, 35, 37, 40, 41, 43, 47, 48, 49], 1: [2, 3, 7, 8, 10, 11, 12, 13, 15, 19, 20, 21, 22, 23, 24, 26, 27, 29, 30, 34, 36, 38, 39, 42, 44, 45, 46]}\n",
      "{0: [14, 18, 31, 40, 41, 48], 1: [0, 1, 2, 3, 4, 5, 6, 7, 8, 9, 10, 11, 12, 13, 15, 16, 17, 19, 20, 21, 22, 23, 24, 25, 26, 27, 28, 29, 30, 32, 33, 34, 35, 36, 37, 38, 39, 42, 43, 44, 45, 46, 47, 49]}\n",
      "{0: [1, 5, 7, 8, 10, 14, 17, 18, 19, 21, 24, 25, 29, 30, 33, 34, 39, 40, 41, 43], 1: [0, 2, 3, 4, 6, 9, 11, 12, 13, 15, 16, 20, 22, 23, 26, 27, 28, 31, 32, 35, 36, 37, 38, 42, 44, 45, 46, 47, 48, 49]}\n",
      "{0: [0, 1, 2, 3, 4, 5, 6, 7, 8, 9, 10, 11, 12, 13, 14, 15, 16, 17, 18, 19, 20, 21, 22, 23, 24, 25, 26, 27, 28, 29, 30, 31, 32, 33, 34, 35, 36, 37, 38, 39, 40, 41, 42, 43, 44, 45, 46, 47, 48, 49], 1: []}\n",
      "{0: [0, 1, 2, 4, 6, 7, 8, 9, 10, 13, 14, 15, 16, 17, 18, 19, 20, 21, 22, 23, 24, 25, 26, 27, 29, 30, 31, 32, 33, 34, 35, 36, 37, 38, 39, 40, 41, 42, 44, 45, 46, 47, 48], 1: [3, 5, 11, 12, 28, 43, 49]}\n",
      "{0: [0, 2, 4, 5, 7, 8, 9, 10, 13, 15, 16, 17, 18, 19, 20, 22, 24, 25, 26, 27, 28, 29, 30, 31, 32, 34, 35, 36, 37, 38, 39, 41, 43, 44, 45, 46, 47], 1: [1, 3, 6, 11, 12, 14, 21, 23, 33, 40, 42, 48, 49]}\n",
      "{0: [2, 5, 9, 10, 18, 20, 24, 25, 33, 35, 41, 42], 1: [0, 1, 3, 4, 6, 7, 8, 11, 12, 13, 14, 15, 16, 17, 19, 21, 22, 23, 26, 27, 28, 29, 30, 31, 32, 34, 36, 37, 38, 39, 40, 43, 44, 45, 46, 47, 48, 49]}\n",
      "{0: [1, 4, 5, 6, 8, 9, 10, 11, 12, 14, 15, 16, 17, 18, 19, 23, 25, 32, 33, 41, 43, 44, 45], 1: [0, 2, 3, 7, 13, 20, 21, 22, 24, 26, 27, 28, 29, 30, 31, 34, 35, 36, 37, 38, 39, 40, 42, 46, 47, 48, 49]}\n",
      "{0: [0, 1, 2, 3, 4, 5, 6, 7, 8, 9, 10, 11, 12, 13, 14, 15, 16, 17, 18, 19, 20, 21, 22, 23, 24, 25, 26, 27, 28, 29, 30, 31, 32, 33, 34, 35, 36, 37, 38, 39, 40, 41, 42, 43, 44, 45, 46, 47, 48, 49], 1: []}\n",
      "{0: [0, 2, 4, 6, 7, 8, 9, 10, 11, 12, 14, 16, 17, 18, 21, 23, 24, 25, 26, 27, 28, 29, 30, 33, 34, 35, 37, 38, 40, 42, 43, 44, 45, 47, 49], 1: [1, 3, 5, 13, 15, 19, 20, 22, 31, 32, 36, 39, 41, 46, 48]}\n",
      "{0: [0, 1, 2, 3, 6, 7, 16, 18, 20, 21, 23, 24, 25, 27, 28, 29, 30, 32, 33, 35, 37, 41, 49], 1: [4, 5, 8, 9, 10, 11, 12, 13, 14, 15, 17, 19, 22, 26, 31, 34, 36, 38, 39, 40, 42, 43, 44, 45, 46, 47, 48]}\n",
      "{0: [1, 3, 7, 23, 24, 37, 49], 1: [0, 2, 4, 5, 6, 8, 9, 10, 11, 12, 13, 14, 15, 16, 17, 18, 19, 20, 21, 22, 25, 26, 27, 28, 29, 30, 31, 32, 33, 34, 35, 36, 38, 39, 40, 41, 42, 43, 44, 45, 46, 47, 48]}\n",
      "{0: [1, 2, 3, 11, 14, 16, 17, 22, 23, 24, 28, 29, 32, 36, 37, 38, 39, 40, 43], 1: [0, 4, 5, 6, 7, 8, 9, 10, 12, 13, 15, 18, 19, 20, 21, 25, 26, 27, 30, 31, 33, 34, 35, 41, 42, 44, 45, 46, 47, 48, 49]}\n",
      "{0: [0, 1, 2, 3, 4, 5, 6, 7, 8, 9, 10, 11, 12, 13, 14, 15, 16, 17, 18, 19, 20, 21, 22, 23, 24, 25, 26, 27, 28, 29, 30, 31, 32, 33, 34, 35, 36, 37, 38, 39, 40, 41, 42, 43, 44, 45, 46, 47, 48, 49], 1: []}\n",
      "{0: [0, 1, 2, 3, 4, 7, 9, 10, 11, 12, 13, 14, 15, 16, 17, 20, 21, 22, 23, 25, 26, 28, 29, 30, 31, 32, 33, 34, 35, 37, 38, 40, 42, 43, 44, 45, 46, 47, 48, 49], 1: [5, 6, 8, 18, 19, 24, 27, 36, 39, 41]}\n",
      "{0: [0, 1, 3, 4, 8, 9, 10, 12, 14, 17, 21, 22, 23, 25, 26, 28, 29, 30, 31, 32, 34, 35, 36, 37, 38, 40, 41, 42, 44, 45, 47], 1: [2, 5, 6, 7, 11, 13, 15, 16, 18, 19, 20, 24, 27, 33, 39, 43, 46, 48, 49]}\n",
      "{0: [8, 23, 25, 28, 29, 35, 36, 43, 47], 1: [0, 1, 2, 3, 4, 5, 6, 7, 9, 10, 11, 12, 13, 14, 15, 16, 17, 18, 19, 20, 21, 22, 24, 26, 27, 30, 31, 32, 33, 34, 37, 38, 39, 40, 41, 42, 44, 45, 46, 48, 49]}\n",
      "{0: [1, 4, 8, 9, 10, 11, 12, 14, 15, 17, 21, 25, 28, 29, 31, 33, 35, 36, 41, 43, 44, 46, 49], 1: [0, 2, 3, 5, 6, 7, 13, 16, 18, 19, 20, 22, 23, 24, 26, 27, 30, 32, 34, 37, 38, 39, 40, 42, 45, 47, 48]}\n",
      "{0: [0, 1, 2, 3, 4, 5, 6, 7, 8, 9, 10, 11, 12, 13, 14, 15, 16, 17, 18, 19, 20, 21, 22, 23, 24, 25, 26, 27, 28, 29, 30, 31, 32, 33, 34, 35, 36, 37, 38, 39, 40, 41, 42, 43, 44, 45, 46, 47, 48, 49], 1: []}\n",
      "{0: [0, 1, 3, 4, 8, 10, 11, 12, 13, 14, 15, 16, 17, 18, 19, 20, 21, 23, 24, 26, 27, 28, 29, 32, 34, 36, 38, 39, 40, 41, 43, 44, 45, 48, 49], 1: [2, 5, 6, 7, 9, 22, 25, 30, 31, 33, 35, 37, 42, 46, 47]}\n",
      "{0: [0, 1, 3, 4, 7, 8, 9, 10, 13, 16, 17, 20, 21, 23, 26, 28, 29, 30, 39, 40, 43, 45, 48], 1: [2, 5, 6, 11, 12, 14, 15, 18, 19, 22, 24, 25, 27, 31, 32, 33, 34, 35, 36, 37, 38, 41, 42, 44, 46, 47, 49]}\n",
      "{0: [7, 16, 20, 23], 1: [0, 1, 2, 3, 4, 5, 6, 8, 9, 10, 11, 12, 13, 14, 15, 17, 18, 19, 21, 22, 24, 25, 26, 27, 28, 29, 30, 31, 32, 33, 34, 35, 36, 37, 38, 39, 40, 41, 42, 43, 44, 45, 46, 47, 48, 49]}\n",
      "{0: [0, 1, 5, 7, 8, 9, 10, 14, 15, 16, 17, 18, 19, 23, 24, 25, 30, 32, 35, 38, 41, 42, 44, 46, 47], 1: [2, 3, 4, 6, 11, 12, 13, 20, 21, 22, 26, 27, 28, 29, 31, 33, 34, 36, 37, 39, 40, 43, 45, 48, 49]}\n",
      "{0: [0, 1, 2, 3, 4, 5, 6, 7, 8, 9, 10, 11, 12, 13, 14, 15, 16, 17, 18, 19, 20, 21, 22, 23, 24, 25, 26, 27, 28, 29, 30, 31, 32, 33, 34, 35, 36, 37, 38, 39, 40, 41, 42, 43, 44, 45, 46, 47, 48, 49], 1: []}\n",
      "{0: [1, 2, 4, 6, 8, 9, 10, 11, 12, 13, 14, 16, 18, 19, 20, 21, 22, 23, 24, 26, 28, 29, 30, 31, 35, 37, 38, 39, 41, 42, 43, 44, 45, 46, 47, 49], 1: [0, 3, 5, 7, 15, 17, 25, 27, 32, 33, 34, 36, 40, 48]}\n",
      "{0: [1, 2, 5, 6, 9, 12, 14, 16, 18, 19, 20, 21, 23, 27, 28, 29, 34, 35, 36, 37, 41, 42, 45, 48], 1: [0, 3, 4, 7, 8, 10, 11, 13, 15, 17, 22, 24, 25, 26, 30, 31, 32, 33, 38, 39, 40, 43, 44, 46, 47, 49]}\n",
      "{0: [12, 18, 21, 28, 34, 35, 36, 41], 1: [0, 1, 2, 3, 4, 5, 6, 7, 8, 9, 10, 11, 13, 14, 15, 16, 17, 19, 20, 22, 23, 24, 25, 26, 27, 29, 30, 31, 32, 33, 37, 38, 39, 40, 42, 43, 44, 45, 46, 47, 48, 49]}\n",
      "{0: [6, 7, 8, 9, 10, 11, 12, 13, 16, 21, 23, 26, 28, 33, 34, 35, 36, 39, 41, 43, 46, 48, 49], 1: [0, 1, 2, 3, 4, 5, 14, 15, 17, 18, 19, 20, 22, 24, 25, 27, 29, 30, 31, 32, 37, 38, 40, 42, 44, 45, 47]}\n",
      "{0: [0, 1, 2, 3, 4, 5, 6, 7, 8, 9, 10, 11, 12, 13, 14, 15, 16, 17, 18, 19, 20, 21, 22, 23, 24, 25, 26, 27, 28, 29, 30, 31, 32, 33, 34, 35, 36, 37, 38, 39, 40, 41, 42, 43, 44, 45, 46, 47, 48, 49], 1: []}\n",
      "{0: [0, 1, 2, 3, 5, 6, 7, 9, 11, 13, 14, 15, 18, 19, 21, 22, 24, 25, 29, 31, 32, 33, 35, 36, 38, 39, 40, 41, 42, 43, 44, 46, 47, 48, 49], 1: [4, 8, 10, 12, 16, 17, 20, 23, 26, 27, 28, 30, 34, 37, 45]}\n",
      "{0: [0, 2, 3, 4, 5, 6, 9, 13, 14, 15, 19, 21, 22, 25, 30, 31, 32, 33, 35, 38, 40, 41, 43, 44, 49], 1: [1, 7, 8, 10, 11, 12, 16, 17, 18, 20, 23, 24, 26, 27, 28, 29, 34, 36, 37, 39, 42, 45, 46, 47, 48]}\n",
      "{0: [0, 4, 5, 6, 32, 38, 49], 1: [1, 2, 3, 7, 8, 9, 10, 11, 12, 13, 14, 15, 16, 17, 18, 19, 20, 21, 22, 23, 24, 25, 26, 27, 28, 29, 30, 31, 33, 34, 35, 36, 37, 39, 40, 41, 42, 43, 44, 45, 46, 47, 48]}\n",
      "{0: [0, 3, 4, 6, 8, 11, 14, 18, 22, 25, 31, 32, 34, 35, 36, 39, 42, 43, 44, 47, 48], 1: [1, 2, 5, 7, 9, 10, 12, 13, 15, 16, 17, 19, 20, 21, 23, 24, 26, 27, 28, 29, 30, 33, 37, 38, 40, 41, 45, 46, 49]}\n",
      "{0: [0, 1, 2, 3, 4, 5, 6, 7, 8, 9, 10, 11, 12, 13, 14, 15, 16, 17, 18, 19, 20, 21, 22, 23, 24, 25, 26, 27, 28, 29, 30, 31, 32, 33, 34, 35, 36, 37, 38, 39, 40, 41, 42, 43, 44, 45, 46, 47, 48, 49], 1: []}\n",
      "{0: [1, 2, 3, 4, 5, 6, 7, 8, 13, 15, 16, 17, 18, 19, 20, 21, 22, 24, 25, 26, 28, 29, 30, 31, 32, 33, 34, 36, 38, 40, 41, 42, 43, 44, 45, 46, 47, 48, 49], 1: [0, 9, 10, 11, 12, 14, 23, 27, 35, 37, 39]}\n",
      "{0: [1, 3, 4, 5, 6, 7, 8, 11, 12, 13, 14, 17, 19, 20, 21, 22, 24, 25, 26, 27, 28, 29, 31, 34, 37, 38, 41, 43, 44, 45, 47, 48, 49], 1: [0, 2, 9, 10, 15, 16, 18, 23, 30, 32, 33, 35, 36, 39, 40, 42, 46]}\n",
      "{0: [4, 5, 6, 13, 16, 20, 25, 28, 29, 31, 37, 38, 44, 49], 1: [0, 1, 2, 3, 7, 8, 9, 10, 11, 12, 14, 15, 17, 18, 19, 21, 22, 23, 24, 26, 27, 30, 32, 33, 34, 35, 36, 39, 40, 41, 42, 43, 45, 46, 47, 48]}\n",
      "{0: [1, 2, 6, 9, 10, 11, 13, 14, 19, 20, 24, 25, 28, 29, 30, 31, 32, 33, 34, 36, 37, 38, 43, 44, 46, 47], 1: [0, 3, 4, 5, 7, 8, 12, 15, 16, 17, 18, 21, 22, 23, 26, 27, 35, 39, 40, 41, 42, 45, 48, 49]}\n",
      "{0: [0, 1, 2, 3, 4, 5, 6, 7, 8, 9, 10, 11, 12, 13, 14, 15, 16, 17, 18, 19, 20, 21, 22, 23, 24, 25, 26, 27, 28, 29, 30, 31, 32, 33, 34, 35, 36, 37, 38, 39, 40, 41, 42, 43, 44, 45, 46, 47, 48, 49], 1: []}\n",
      "{0: [0, 1, 3, 5, 6, 7, 8, 9, 10, 11, 13, 14, 15, 16, 17, 18, 19, 20, 21, 22, 23, 24, 25, 26, 27, 28, 29, 30, 31, 33, 34, 36, 38, 39, 40, 41, 42, 43, 44, 45, 46, 48, 49], 1: [2, 4, 12, 32, 35, 37, 47]}\n",
      "{0: [0, 1, 2, 5, 7, 8, 10, 11, 13, 14, 16, 17, 19, 20, 21, 22, 23, 24, 25, 26, 30, 31, 33, 34, 38, 39, 40, 41, 43, 46, 48, 49], 1: [3, 4, 6, 9, 12, 15, 18, 27, 28, 29, 32, 35, 36, 37, 42, 44, 45, 47]}\n",
      "{0: [1, 11, 14, 24, 26, 38, 43], 1: [0, 2, 3, 4, 5, 6, 7, 8, 9, 10, 12, 13, 15, 16, 17, 18, 19, 20, 21, 22, 23, 25, 27, 28, 29, 30, 31, 32, 33, 34, 35, 36, 37, 39, 40, 41, 42, 44, 45, 46, 47, 48, 49]}\n",
      "{0: [1, 5, 6, 7, 11, 12, 14, 15, 16, 18, 24, 26, 28, 32, 35, 38, 39, 40, 43, 45, 46, 48], 1: [0, 2, 3, 4, 8, 9, 10, 13, 17, 19, 20, 21, 22, 23, 25, 27, 29, 30, 31, 33, 34, 36, 37, 41, 42, 44, 47, 49]}\n",
      "{0: [0, 1, 2, 3, 4, 5, 6, 7, 8, 9, 10, 11, 12, 13, 14, 15, 16, 17, 18, 19, 20, 21, 22, 23, 24, 25, 26, 27, 28, 29, 30, 31, 32, 33, 34, 35, 36, 37, 38, 39, 40, 41, 42, 43, 44, 45, 46, 47, 48, 49], 1: []}\n",
      "{0: [0, 2, 3, 6, 7, 9, 10, 11, 12, 13, 14, 15, 16, 17, 18, 19, 20, 21, 22, 23, 24, 25, 28, 29, 31, 32, 33, 34, 35, 36, 38, 40, 41, 42, 45, 46, 48, 49], 1: [1, 4, 5, 8, 26, 27, 30, 37, 39, 43, 44, 47]}\n",
      "{0: [0, 1, 2, 6, 7, 10, 11, 12, 14, 15, 20, 21, 22, 25, 26, 27, 28, 30, 31, 33, 34, 36, 40, 41, 42, 46, 49], 1: [3, 4, 5, 8, 9, 13, 16, 17, 18, 19, 23, 24, 29, 32, 35, 37, 38, 39, 43, 44, 45, 47, 48]}\n",
      "{0: [12, 20, 25, 30, 33, 41, 49], 1: [0, 1, 2, 3, 4, 5, 6, 7, 8, 9, 10, 11, 13, 14, 15, 16, 17, 18, 19, 21, 22, 23, 24, 26, 27, 28, 29, 31, 32, 34, 35, 36, 37, 38, 39, 40, 42, 43, 44, 45, 46, 47, 48]}\n",
      "{0: [8, 10, 12, 15, 17, 19, 22, 26, 27, 29, 32, 33, 37, 39, 41, 45, 47, 49], 1: [0, 1, 2, 3, 4, 5, 6, 7, 9, 11, 13, 14, 16, 18, 20, 21, 23, 24, 25, 28, 30, 31, 34, 35, 36, 38, 40, 42, 43, 44, 46, 48]}\n",
      "{0: [0, 1, 2, 3, 4, 5, 6, 7, 8, 9, 10, 11, 12, 13, 14, 15, 16, 17, 18, 19, 20, 21, 22, 23, 24, 25, 26, 27, 28, 29, 30, 31, 32, 33, 34, 35, 36, 37, 38, 39, 40, 41, 42, 43, 44, 45, 46, 47, 48, 49], 1: []}\n",
      "{0: [1, 2, 5, 7, 8, 9, 10, 11, 12, 14, 15, 16, 17, 19, 20, 21, 22, 23, 24, 27, 28, 30, 32, 33, 35, 37, 43, 44, 45, 46, 47], 1: [0, 3, 4, 6, 13, 18, 25, 26, 29, 31, 34, 36, 38, 39, 40, 41, 42, 48, 49]}\n",
      "{0: [1, 3, 7, 8, 11, 12, 13, 14, 16, 17, 18, 20, 21, 22, 23, 24, 28, 30, 32, 33, 38, 43, 45, 46, 47], 1: [0, 2, 4, 5, 6, 9, 10, 15, 19, 25, 26, 27, 29, 31, 34, 35, 36, 37, 39, 40, 41, 42, 44, 48, 49]}\n",
      "{0: [1, 8, 12, 16, 43, 45, 47], 1: [0, 2, 3, 4, 5, 6, 7, 9, 10, 11, 13, 14, 15, 17, 18, 19, 20, 21, 22, 23, 24, 25, 26, 27, 28, 29, 30, 31, 32, 33, 34, 35, 36, 37, 38, 39, 40, 41, 42, 44, 46, 48, 49]}\n",
      "{0: [1, 3, 8, 9, 11, 12, 14, 17, 19, 21, 23, 31, 32, 33, 34, 37, 40, 42, 43, 45, 46, 47, 48, 49], 1: [0, 2, 4, 5, 6, 7, 10, 13, 15, 16, 18, 20, 22, 24, 25, 26, 27, 28, 29, 30, 35, 36, 38, 39, 41, 44]}\n",
      "{0: [0, 1, 2, 3, 4, 5, 6, 7, 8, 9, 10, 11, 12, 13, 14, 15, 16, 17, 18, 19, 20, 21, 22, 23, 24, 25, 26, 27, 28, 29, 30, 31, 32, 33, 34, 35, 36, 37, 38, 39, 40, 41, 42, 43, 44, 45, 46, 47, 48, 49], 1: []}\n",
      "{0: [1, 3, 4, 5, 6, 7, 9, 10, 14, 15, 16, 17, 18, 19, 22, 23, 24, 26, 28, 30, 32, 33, 34, 35, 36, 38, 39, 40, 46, 49], 1: [0, 2, 8, 11, 12, 13, 20, 21, 25, 27, 29, 31, 37, 41, 42, 43, 44, 45, 47, 48]}\n",
      "{0: [1, 3, 5, 9, 10, 15, 16, 18, 19, 21, 23, 24, 26, 28, 30, 31, 32, 33, 35, 36, 40, 44, 46, 47, 49], 1: [0, 2, 4, 6, 7, 8, 11, 12, 13, 14, 17, 20, 22, 25, 27, 29, 34, 37, 38, 39, 41, 42, 43, 45, 48]}\n",
      "{0: [1, 15, 16, 21, 24, 28, 40, 44, 47, 49], 1: [0, 2, 3, 4, 5, 6, 7, 8, 9, 10, 11, 12, 13, 14, 17, 18, 19, 20, 22, 23, 25, 26, 27, 29, 30, 31, 32, 33, 34, 35, 36, 37, 38, 39, 41, 42, 43, 45, 46, 48]}\n",
      "{0: [2, 3, 7, 8, 10, 11, 12, 16, 17, 21, 24, 25, 28, 29, 30, 33, 38, 39, 40, 41, 44, 47, 48, 49], 1: [0, 1, 4, 5, 6, 9, 13, 14, 15, 18, 19, 20, 22, 23, 26, 27, 31, 32, 34, 35, 36, 37, 42, 43, 45, 46]}\n",
      "{0: [0, 1, 2, 3, 4, 5, 6, 7, 8, 9, 10, 11, 12, 13, 14, 15, 16, 17, 18, 19, 20, 21, 22, 23, 24, 25, 26, 27, 28, 29, 30, 31, 32, 33, 34, 35, 36, 37, 38, 39, 40, 41, 42, 43, 44, 45, 46, 47, 48, 49], 1: []}\n",
      "{0: [2, 3, 4, 5, 6, 7, 9, 11, 12, 13, 16, 18, 19, 20, 21, 22, 24, 26, 27, 28, 30, 31, 33, 34, 36, 37, 38, 39, 40, 41, 42, 46, 47, 48], 1: [0, 1, 8, 10, 14, 15, 17, 23, 25, 29, 32, 35, 43, 44, 45, 49]}\n",
      "{0: [2, 3, 4, 8, 9, 12, 13, 15, 16, 18, 19, 21, 22, 23, 25, 26, 28, 29, 30, 34, 37, 39, 40, 41, 43, 47, 48], 1: [0, 1, 5, 6, 7, 10, 11, 14, 17, 20, 24, 27, 31, 32, 33, 35, 36, 38, 42, 44, 45, 46, 49]}\n",
      "{0: [16, 18, 19, 23, 26, 28, 29, 34, 39], 1: [0, 1, 2, 3, 4, 5, 6, 7, 8, 9, 10, 11, 12, 13, 14, 15, 17, 20, 21, 22, 24, 25, 27, 30, 31, 32, 33, 35, 36, 37, 38, 40, 41, 42, 43, 44, 45, 46, 47, 48, 49]}\n",
      "{0: [2, 4, 5, 7, 8, 9, 11, 15, 16, 17, 18, 20, 22, 23, 27, 29, 33, 36, 37, 43, 44, 48], 1: [0, 1, 3, 6, 10, 12, 13, 14, 19, 21, 24, 25, 26, 28, 30, 31, 32, 34, 35, 38, 39, 40, 41, 42, 45, 46, 47, 49]}\n",
      "{0: [0, 1, 2, 3, 4, 5, 6, 7, 8, 9, 10, 11, 12, 13, 14, 15, 16, 17, 18, 19, 20, 21, 22, 23, 24, 25, 26, 27, 28, 29, 30, 31, 32, 33, 34, 35, 36, 37, 38, 39, 40, 41, 42, 43, 44, 45, 46, 47, 48, 49], 1: []}\n",
      "{0: [0, 3, 4, 5, 6, 8, 9, 10, 11, 12, 13, 15, 16, 17, 18, 19, 20, 22, 23, 24, 26, 27, 28, 31, 32, 33, 36, 38, 39, 41, 42, 43, 44, 45, 47, 48, 49], 1: [1, 2, 7, 14, 21, 25, 29, 30, 34, 35, 37, 40, 46]}\n",
      "{0: [0, 1, 2, 4, 5, 6, 10, 11, 12, 14, 17, 18, 19, 20, 22, 23, 24, 27, 28, 31, 38, 39, 41, 42, 45, 48], 1: [3, 7, 8, 9, 13, 15, 16, 21, 25, 26, 29, 30, 32, 33, 34, 35, 36, 37, 40, 43, 44, 46, 47, 49]}\n",
      "{0: [1, 6, 9, 10, 12, 18, 19, 20, 28, 37, 39, 41, 45, 48], 1: [0, 2, 3, 4, 5, 7, 8, 11, 13, 14, 15, 16, 17, 21, 22, 23, 24, 25, 26, 27, 29, 30, 31, 32, 33, 34, 35, 36, 38, 40, 42, 43, 44, 46, 47, 49]}\n",
      "{0: [1, 2, 3, 5, 7, 9, 11, 12, 15, 19, 20, 22, 31, 33, 35, 37, 41, 45, 46, 48], 1: [0, 4, 6, 8, 10, 13, 14, 16, 17, 18, 21, 23, 24, 25, 26, 27, 28, 29, 30, 32, 34, 36, 38, 39, 40, 42, 43, 44, 47, 49]}\n",
      "{0: [0, 1, 2, 3, 4, 5, 6, 7, 8, 9, 10, 11, 12, 13, 14, 15, 16, 17, 18, 19, 20, 21, 22, 23, 24, 25, 26, 27, 28, 29, 30, 31, 32, 33, 34, 35, 36, 37, 38, 39, 40, 41, 42, 43, 44, 45, 46, 47, 48, 49], 1: []}\n",
      "{0: [0, 1, 2, 3, 4, 5, 6, 7, 8, 9, 10, 11, 12, 13, 14, 15, 16, 17, 18, 19, 20, 21, 23, 24, 25, 26, 30, 32, 33, 34, 35, 36, 38, 41, 42, 43, 45, 46, 49], 1: [22, 27, 28, 29, 31, 37, 39, 40, 44, 47, 48]}\n",
      "{0: [0, 2, 3, 4, 6, 7, 8, 9, 10, 11, 12, 13, 14, 15, 16, 17, 18, 19, 20, 21, 24, 25, 27, 30, 32, 33, 34, 35, 39, 41, 42, 43, 46, 47], 1: [1, 5, 22, 23, 26, 28, 29, 31, 36, 37, 38, 40, 44, 45, 48, 49]}\n",
      "{0: [10, 11, 26, 35, 43], 1: [0, 1, 2, 3, 4, 5, 6, 7, 8, 9, 12, 13, 14, 15, 16, 17, 18, 19, 20, 21, 22, 23, 24, 25, 27, 28, 29, 30, 31, 32, 33, 34, 36, 37, 38, 39, 40, 41, 42, 44, 45, 46, 47, 48, 49]}\n",
      "{0: [0, 3, 5, 11, 17, 18, 19, 20, 21, 23, 26, 31, 33, 35, 36, 37, 38, 39, 40, 42, 43, 44, 45, 46, 47, 49], 1: [1, 2, 4, 6, 7, 8, 9, 10, 12, 13, 14, 15, 16, 22, 24, 25, 27, 28, 29, 30, 32, 34, 41, 48]}\n",
      "{0: [0, 1, 2, 3, 4, 5, 6, 7, 8, 9, 10, 11, 12, 13, 14, 15, 16, 17, 18, 19, 20, 21, 22, 23, 24, 25, 26, 27, 28, 29, 30, 31, 32, 33, 34, 35, 36, 37, 38, 39, 40, 41, 42, 43, 44, 45, 46, 47, 48, 49], 1: []}\n",
      "{0: [0, 1, 2, 3, 4, 6, 7, 8, 10, 12, 13, 14, 16, 17, 18, 19, 21, 22, 23, 24, 25, 26, 28, 29, 32, 33, 34, 35, 36, 37, 40, 41, 42, 43, 44, 47, 48, 49], 1: [5, 9, 11, 15, 20, 27, 30, 31, 38, 39, 45, 46]}\n",
      "{0: [0, 2, 4, 5, 6, 7, 8, 10, 13, 16, 18, 19, 22, 24, 25, 26, 28, 29, 32, 33, 34, 35, 40, 41, 43, 44, 48], 1: [1, 3, 9, 11, 12, 14, 15, 17, 20, 21, 23, 27, 30, 31, 36, 37, 38, 39, 42, 45, 46, 47, 49]}\n",
      "{0: [0, 2, 5, 7, 13, 25, 28, 29, 32, 35, 40], 1: [1, 3, 4, 6, 8, 9, 10, 11, 12, 14, 15, 16, 17, 18, 19, 20, 21, 22, 23, 24, 26, 27, 30, 31, 33, 34, 36, 37, 38, 39, 41, 42, 43, 44, 45, 46, 47, 48, 49]}\n",
      "{0: [3, 7, 8, 9, 14, 15, 17, 18, 25, 27, 28, 29, 30, 31, 32, 33, 34, 35, 37, 40, 45, 49], 1: [0, 1, 2, 4, 5, 6, 10, 11, 12, 13, 16, 19, 20, 21, 22, 23, 24, 26, 36, 38, 39, 41, 42, 43, 44, 46, 47, 48]}\n",
      "{0: [0, 1, 2, 3, 4, 5, 6, 7, 8, 9, 10, 11, 12, 13, 14, 15, 16, 17, 18, 19, 20, 21, 22, 23, 24, 25, 26, 27, 28, 29, 30, 31, 32, 33, 34, 35, 36, 37, 38, 39, 40, 41, 42, 43, 44, 45, 46, 47, 48, 49], 1: []}\n",
      "{0: [0, 2, 4, 6, 7, 8, 9, 10, 12, 14, 15, 16, 18, 21, 23, 24, 27, 29, 30, 31, 33, 35, 36, 37, 38, 40, 41, 43, 46, 47, 48, 49], 1: [1, 3, 5, 11, 13, 17, 19, 20, 22, 25, 26, 28, 32, 34, 39, 42, 44, 45]}\n",
      "{0: [0, 7, 8, 10, 11, 12, 14, 15, 16, 23, 24, 25, 27, 29, 30, 33, 34, 36, 37, 38, 39, 41, 44, 47, 48], 1: [1, 2, 3, 4, 5, 6, 9, 13, 17, 18, 19, 20, 21, 22, 26, 28, 31, 32, 35, 40, 42, 43, 45, 46, 49]}\n",
      "{0: [0, 8, 11, 12, 14, 23, 29, 37, 38, 41, 44, 48], 1: [1, 2, 3, 4, 5, 6, 7, 9, 10, 13, 15, 16, 17, 18, 19, 20, 21, 22, 24, 25, 26, 27, 28, 30, 31, 32, 33, 34, 35, 36, 39, 40, 42, 43, 45, 46, 47, 49]}\n",
      "{0: [0, 2, 5, 6, 8, 11, 12, 15, 19, 20, 21, 23, 25, 27, 28, 29, 30, 31, 33, 38, 41, 42, 43, 44, 45, 48], 1: [1, 3, 4, 7, 9, 10, 13, 14, 16, 17, 18, 22, 24, 26, 32, 34, 35, 36, 37, 39, 40, 46, 47, 49]}\n",
      "{0: [0, 1, 2, 3, 4, 5, 6, 7, 8, 9, 10, 11, 12, 13, 14, 15, 16, 17, 18, 19, 20, 21, 22, 23, 24, 25, 26, 27, 28, 29, 30, 31, 32, 33, 34, 35, 36, 37, 38, 39, 40, 41, 42, 43, 44, 45, 46, 47, 48, 49], 1: []}\n",
      "{0: [0, 1, 3, 4, 5, 6, 7, 9, 11, 13, 14, 16, 17, 18, 19, 20, 21, 22, 23, 24, 25, 26, 28, 29, 30, 32, 33, 34, 35, 36, 37, 38, 40, 41, 42, 43, 44, 46, 47, 48, 49], 1: [2, 8, 10, 12, 15, 27, 31, 39, 45]}\n",
      "{0: [0, 1, 5, 6, 9, 11, 13, 14, 15, 16, 17, 18, 20, 21, 23, 25, 26, 31, 34, 35, 36, 37, 38, 39, 41, 44, 45, 46, 47, 48], 1: [2, 3, 4, 7, 8, 10, 12, 19, 22, 24, 27, 28, 29, 30, 32, 33, 40, 42, 43, 49]}\n",
      "{0: [6, 14, 20, 34, 37, 38, 39, 41], 1: [0, 1, 2, 3, 4, 5, 7, 8, 9, 10, 11, 12, 13, 15, 16, 17, 18, 19, 21, 22, 23, 24, 25, 26, 27, 28, 29, 30, 31, 32, 33, 35, 36, 40, 42, 43, 44, 45, 46, 47, 48, 49]}\n",
      "{0: [2, 4, 5, 10, 14, 15, 18, 19, 21, 27, 28, 31, 32, 33, 34, 37, 45, 46, 48], 1: [0, 1, 3, 6, 7, 8, 9, 11, 12, 13, 16, 17, 20, 22, 23, 24, 25, 26, 29, 30, 35, 36, 38, 39, 40, 41, 42, 43, 44, 47, 49]}\n",
      "{0: [0, 1, 2, 3, 4, 5, 6, 7, 8, 9, 10, 11, 12, 13, 14, 15, 16, 17, 18, 19, 20, 21, 22, 23, 24, 25, 26, 27, 28, 29, 30, 31, 32, 33, 34, 35, 36, 37, 38, 39, 40, 41, 42, 43, 44, 45, 46, 47, 48, 49], 1: []}\n",
      "{0: [0, 1, 2, 3, 4, 5, 6, 8, 9, 11, 12, 13, 14, 15, 16, 17, 18, 19, 20, 23, 24, 25, 27, 28, 30, 32, 33, 34, 35, 36, 37, 39, 40, 43, 44, 47, 48], 1: [7, 10, 21, 22, 26, 29, 31, 38, 41, 42, 45, 46, 49]}\n",
      "{0: [0, 2, 3, 4, 6, 9, 11, 12, 13, 15, 17, 18, 19, 20, 22, 26, 28, 30, 34, 36, 37, 40, 41, 43, 44, 47, 48], 1: [1, 5, 7, 8, 10, 14, 16, 21, 23, 24, 25, 27, 29, 31, 32, 33, 35, 38, 39, 42, 45, 46, 49]}\n",
      "{0: [1, 9, 13, 15, 17, 19, 47, 48], 1: [0, 2, 3, 4, 5, 6, 7, 8, 10, 11, 12, 14, 16, 18, 20, 21, 22, 23, 24, 25, 26, 27, 28, 29, 30, 31, 32, 33, 34, 35, 36, 37, 38, 39, 40, 41, 42, 43, 44, 45, 46, 49]}\n",
      "{0: [1, 3, 6, 8, 9, 12, 13, 15, 17, 21, 22, 23, 24, 26, 27, 28, 29, 31, 35, 40, 42, 44, 46, 47], 1: [0, 2, 4, 5, 7, 10, 11, 14, 16, 18, 19, 20, 25, 30, 32, 33, 34, 36, 37, 38, 39, 41, 43, 45, 48, 49]}\n",
      "{0: [0, 1, 2, 3, 4, 5, 6, 7, 8, 9, 10, 11, 12, 13, 14, 15, 16, 17, 18, 19, 20, 21, 22, 23, 24, 25, 26, 27, 28, 29, 30, 31, 32, 33, 34, 35, 36, 37, 38, 39, 40, 41, 42, 43, 44, 45, 46, 47, 48, 49], 1: []}\n",
      "{0: [0, 1, 3, 4, 5, 6, 7, 8, 10, 12, 16, 18, 21, 22, 23, 25, 26, 27, 28, 29, 32, 33, 36, 40, 41, 43, 44, 45, 46, 47, 49], 1: [2, 9, 11, 13, 14, 15, 17, 19, 20, 24, 30, 31, 34, 35, 37, 38, 39, 42, 48]}\n",
      "{0: [1, 3, 4, 6, 7, 9, 16, 18, 20, 21, 23, 25, 26, 28, 29, 31, 33, 34, 38, 40, 41, 42, 43, 44, 45, 47, 48, 49], 1: [0, 2, 5, 8, 10, 11, 12, 13, 14, 15, 17, 19, 22, 24, 27, 30, 32, 35, 36, 37, 39, 46]}\n",
      "{0: [4, 9, 20, 28, 29, 31, 38, 40], 1: [0, 1, 2, 3, 5, 6, 7, 8, 10, 11, 12, 13, 14, 15, 16, 17, 18, 19, 21, 22, 23, 24, 25, 26, 27, 30, 32, 33, 34, 35, 36, 37, 39, 41, 42, 43, 44, 45, 46, 47, 48, 49]}\n",
      "{0: [6, 7, 9, 10, 12, 14, 18, 21, 22, 24, 25, 28, 31, 33, 35, 36, 38, 40, 41, 44, 47, 48], 1: [0, 1, 2, 3, 4, 5, 8, 11, 13, 15, 16, 17, 19, 20, 23, 26, 27, 29, 30, 32, 34, 37, 39, 42, 43, 45, 46, 49]}\n",
      "{0: [0, 1, 2, 3, 4, 5, 6, 7, 8, 9, 10, 11, 12, 13, 14, 15, 16, 17, 18, 19, 20, 21, 22, 23, 24, 25, 26, 27, 28, 29, 30, 31, 32, 33, 34, 35, 36, 37, 38, 39, 40, 41, 42, 43, 44, 45, 46, 47, 48, 49], 1: []}\n",
      "{0: [0, 1, 2, 3, 5, 6, 7, 10, 12, 14, 16, 17, 20, 21, 22, 23, 24, 26, 27, 28, 29, 30, 32, 33, 34, 35, 38, 40, 41, 42, 43, 44], 1: [4, 8, 9, 11, 13, 15, 18, 19, 25, 31, 36, 37, 39, 45, 46, 47, 48, 49]}\n",
      "{0: [3, 5, 7, 8, 12, 14, 16, 17, 18, 19, 20, 21, 22, 23, 24, 26, 27, 30, 31, 32, 34, 37, 39, 40, 41, 43, 44, 46, 47, 48, 49], 1: [0, 1, 2, 4, 6, 9, 10, 11, 13, 15, 25, 28, 29, 33, 35, 36, 38, 42, 45]}\n",
      "{0: [3, 10, 12, 16, 18, 19, 20, 21, 24, 27, 46, 47], 1: [0, 1, 2, 4, 5, 6, 7, 8, 9, 11, 13, 14, 15, 17, 22, 23, 25, 26, 28, 29, 30, 31, 32, 33, 34, 35, 36, 37, 38, 39, 40, 41, 42, 43, 44, 45, 48, 49]}\n",
      "{0: [0, 2, 3, 4, 5, 7, 9, 10, 13, 18, 20, 21, 24, 26, 27, 34, 39, 42, 46, 48], 1: [1, 6, 8, 11, 12, 14, 15, 16, 17, 19, 22, 23, 25, 28, 29, 30, 31, 32, 33, 35, 36, 37, 38, 40, 41, 43, 44, 45, 47, 49]}\n",
      "{0: [0, 1, 2, 3, 4, 5, 6, 7, 8, 9, 10, 11, 12, 13, 14, 15, 16, 17, 18, 19, 20, 21, 22, 23, 24, 25, 26, 27, 28, 29, 30, 31, 32, 33, 34, 35, 36, 37, 38, 39, 40, 41, 42, 43, 44, 45, 46, 47, 48, 49], 1: []}\n",
      "{0: [0, 1, 2, 3, 5, 6, 7, 8, 12, 14, 15, 16, 18, 19, 20, 21, 22, 23, 25, 26, 27, 28, 29, 31, 32, 34, 35, 37, 38, 39, 40, 42, 43, 44, 46, 48, 49], 1: [4, 9, 10, 11, 13, 17, 24, 30, 33, 36, 41, 45, 47]}\n",
      "{0: [1, 3, 5, 8, 10, 12, 14, 15, 16, 19, 20, 21, 22, 23, 25, 26, 27, 31, 33, 34, 35, 41, 42, 43, 44, 46, 47, 48], 1: [0, 2, 4, 6, 7, 9, 11, 13, 17, 18, 24, 28, 29, 30, 32, 36, 37, 38, 39, 40, 45, 49]}\n",
      "{0: [5, 8, 10, 14, 16, 19, 22, 23, 25, 31, 34, 44, 47, 48], 1: [0, 1, 2, 3, 4, 6, 7, 9, 11, 12, 13, 15, 17, 18, 20, 21, 24, 26, 27, 28, 29, 30, 32, 33, 35, 36, 37, 38, 39, 40, 41, 42, 43, 45, 46, 49]}\n",
      "{0: [1, 2, 3, 5, 6, 8, 9, 10, 11, 13, 14, 15, 16, 19, 21, 23, 25, 26, 29, 30, 31, 32, 34, 38, 39, 43, 44, 45, 47, 48, 49], 1: [0, 4, 7, 12, 17, 18, 20, 22, 24, 27, 28, 33, 35, 36, 37, 40, 41, 42, 46]}\n",
      "{0: [0, 1, 2, 3, 4, 5, 6, 7, 8, 9, 10, 11, 12, 13, 14, 15, 16, 17, 18, 19, 20, 21, 22, 23, 24, 25, 26, 27, 28, 29, 30, 31, 32, 33, 34, 35, 36, 37, 38, 39, 40, 41, 42, 43, 44, 45, 46, 47, 48, 49], 1: []}\n",
      "{0: [1, 2, 3, 4, 6, 8, 9, 10, 11, 12, 13, 14, 19, 20, 21, 22, 23, 24, 25, 28, 30, 31, 32, 34, 35, 36, 38, 40, 41, 42, 43, 44, 46, 47, 49], 1: [0, 5, 7, 15, 16, 17, 18, 26, 27, 29, 33, 37, 39, 45, 48]}\n",
      "{0: [0, 3, 6, 7, 8, 9, 10, 11, 12, 13, 14, 15, 16, 18, 21, 23, 25, 28, 29, 30, 32, 34, 35, 36, 37, 39, 40, 41, 43, 44, 47, 48, 49], 1: [1, 2, 4, 5, 17, 19, 20, 22, 24, 26, 27, 31, 33, 38, 42, 45, 46]}\n",
      "{0: [3, 6, 11, 13, 16, 18, 21, 23, 25, 28, 29, 35, 37, 39, 43], 1: [0, 1, 2, 4, 5, 7, 8, 9, 10, 12, 14, 15, 17, 19, 20, 22, 24, 26, 27, 30, 31, 32, 33, 34, 36, 38, 40, 41, 42, 44, 45, 46, 47, 48, 49]}\n",
      "{0: [0, 1, 4, 9, 13, 16, 17, 18, 21, 23, 24, 25, 26, 27, 28, 29, 31, 32, 33, 35, 36, 37, 39, 40, 42, 43, 44, 45, 48], 1: [2, 3, 5, 6, 7, 8, 10, 11, 12, 14, 15, 19, 20, 22, 30, 34, 38, 41, 46, 47, 49]}\n",
      "{0: [0, 1, 2, 3, 4, 5, 6, 7, 8, 9, 10, 11, 12, 13, 14, 15, 16, 17, 18, 19, 20, 21, 22, 23, 24, 25, 26, 27, 28, 29, 30, 31, 32, 33, 34, 35, 36, 37, 38, 39, 40, 41, 42, 43, 44, 45, 46, 47, 48, 49], 1: []}\n",
      "{0: [0, 1, 2, 3, 4, 5, 6, 8, 9, 11, 12, 13, 14, 17, 18, 19, 21, 22, 23, 24, 25, 26, 28, 31, 32, 34, 36, 37, 38, 39, 41, 42, 43, 45, 46, 47, 48, 49], 1: [7, 10, 15, 16, 20, 27, 29, 30, 33, 35, 40, 44]}\n",
      "{0: [1, 2, 3, 4, 5, 8, 9, 10, 11, 12, 17, 18, 19, 22, 24, 25, 26, 28, 30, 31, 32, 33, 34, 37, 39, 41, 42, 43, 45, 46], 1: [0, 6, 7, 13, 14, 15, 16, 20, 21, 23, 27, 29, 35, 36, 38, 40, 44, 47, 48, 49]}\n",
      "{0: [1, 2, 6, 11, 19, 25, 26, 30, 33, 34, 38, 39, 41, 46], 1: [0, 3, 4, 5, 7, 8, 9, 10, 12, 13, 14, 15, 16, 17, 18, 20, 21, 22, 23, 24, 27, 28, 29, 31, 32, 35, 36, 37, 40, 42, 43, 44, 45, 47, 48, 49]}\n",
      "{0: [1, 2, 5, 6, 9, 11, 13, 19, 20, 21, 25, 26, 28, 30, 31, 33, 34, 38, 39, 44, 45, 46], 1: [0, 3, 4, 7, 8, 10, 12, 14, 15, 16, 17, 18, 22, 23, 24, 27, 29, 32, 35, 36, 37, 40, 41, 42, 43, 47, 48, 49]}\n",
      "{0: [0, 1, 2, 3, 4, 5, 6, 7, 8, 9, 10, 11, 12, 13, 14, 15, 16, 17, 18, 19, 20, 21, 22, 23, 24, 25, 26, 27, 28, 29, 30, 31, 32, 33, 34, 35, 36, 37, 38, 39, 40, 41, 42, 43, 44, 45, 46, 47, 48, 49], 1: []}\n",
      "{0: [0, 1, 4, 6, 7, 8, 9, 10, 11, 15, 16, 17, 18, 21, 22, 24, 25, 26, 29, 30, 31, 32, 33, 34, 36, 37, 38, 40, 41, 44, 45, 46, 47, 48], 1: [2, 3, 5, 12, 13, 14, 19, 20, 23, 27, 28, 35, 39, 42, 43, 49]}\n",
      "{0: [0, 2, 4, 7, 10, 15, 16, 17, 18, 21, 22, 24, 25, 26, 27, 30, 32, 34, 36, 38, 40, 41, 44, 45, 46, 47, 48], 1: [1, 3, 5, 6, 8, 9, 11, 12, 13, 14, 19, 20, 23, 28, 29, 31, 33, 35, 37, 39, 42, 43, 49]}\n",
      "{0: [2, 4, 15, 16, 18, 27, 30, 38, 40, 41, 47, 48], 1: [0, 1, 3, 5, 6, 7, 8, 9, 10, 11, 12, 13, 14, 17, 19, 20, 21, 22, 23, 24, 25, 26, 28, 29, 31, 32, 33, 34, 35, 36, 37, 39, 42, 43, 44, 45, 46, 49]}\n",
      "{0: [1, 2, 3, 4, 11, 12, 13, 14, 15, 16, 18, 22, 24, 27, 30, 31, 37, 38, 43, 46, 48], 1: [0, 5, 6, 7, 8, 9, 10, 17, 19, 20, 21, 23, 25, 26, 28, 29, 32, 33, 34, 35, 36, 39, 40, 41, 42, 44, 45, 47, 49]}\n",
      "{0: [0, 1, 2, 3, 4, 5, 6, 7, 8, 9, 10, 11, 12, 13, 14, 15, 16, 17, 18, 19, 20, 21, 22, 23, 24, 25, 26, 27, 28, 29, 30, 31, 32, 33, 34, 35, 36, 37, 38, 39, 40, 41, 42, 43, 44, 45, 46, 47, 48, 49], 1: []}\n",
      "{0: [0, 1, 2, 3, 5, 8, 10, 11, 14, 15, 16, 17, 19, 22, 23, 24, 25, 30, 31, 32, 34, 35, 36, 37, 38, 39, 40, 41, 42, 44, 45, 46, 47, 48], 1: [4, 6, 7, 9, 12, 13, 18, 20, 21, 26, 27, 28, 29, 33, 43, 49]}\n",
      "{0: [1, 2, 3, 4, 5, 6, 11, 12, 14, 15, 16, 17, 18, 19, 20, 21, 22, 23, 24, 25, 27, 30, 34, 35, 38, 39, 40, 41, 42, 43, 45, 46, 47], 1: [0, 7, 8, 9, 10, 13, 26, 28, 29, 31, 32, 33, 36, 37, 44, 48, 49]}\n",
      "{0: [3, 4, 8, 11, 14, 15, 16, 17, 19, 20, 25, 27, 40, 42, 43, 46], 1: [0, 1, 2, 5, 6, 7, 9, 10, 12, 13, 18, 21, 22, 23, 24, 26, 28, 29, 30, 31, 32, 33, 34, 35, 36, 37, 38, 39, 41, 44, 45, 47, 48, 49]}\n",
      "{0: [1, 3, 8, 10, 11, 12, 13, 14, 15, 16, 17, 18, 19, 20, 21, 22, 27, 35, 37, 38, 39, 40, 42, 43, 44, 45, 46, 49], 1: [0, 2, 4, 5, 6, 7, 9, 23, 24, 25, 26, 28, 29, 30, 31, 32, 33, 34, 36, 41, 47, 48]}\n",
      "{0: [0, 1, 2, 3, 4, 5, 6, 7, 8, 9, 10, 11, 12, 13, 14, 15, 16, 17, 18, 19, 20, 21, 22, 23, 24, 25, 26, 27, 28, 29, 30, 31, 32, 33, 34, 35, 36, 37, 38, 39, 40, 41, 42, 43, 44, 45, 46, 47, 48, 49], 1: []}\n",
      "{0: [1, 2, 3, 4, 5, 7, 8, 10, 11, 12, 13, 15, 16, 17, 19, 20, 22, 25, 26, 27, 28, 29, 30, 32, 33, 35, 36, 39, 40, 41, 45, 47, 49], 1: [0, 6, 9, 14, 18, 21, 23, 24, 31, 34, 37, 38, 42, 43, 44, 46, 48]}\n",
      "{0: [0, 2, 4, 10, 11, 14, 15, 16, 17, 19, 20, 22, 25, 26, 27, 30, 33, 35, 38, 39, 40, 41, 46, 47, 49], 1: [1, 3, 5, 6, 7, 8, 9, 12, 13, 18, 21, 23, 24, 28, 29, 31, 32, 34, 36, 37, 42, 43, 44, 45, 48]}\n",
      "{0: [0, 2, 11, 13, 16, 33, 38, 40, 41, 47], 1: [1, 3, 4, 5, 6, 7, 8, 9, 10, 12, 14, 15, 17, 18, 19, 20, 21, 22, 23, 24, 25, 26, 27, 28, 29, 30, 31, 32, 34, 35, 36, 37, 39, 42, 43, 44, 45, 46, 48, 49]}\n",
      "{0: [0, 2, 4, 6, 8, 9, 10, 11, 13, 17, 19, 24, 29, 30, 31, 33, 36, 37, 38, 39, 40, 45, 48], 1: [1, 3, 5, 7, 12, 14, 15, 16, 18, 20, 21, 22, 23, 25, 26, 27, 28, 32, 34, 35, 41, 42, 43, 44, 46, 47, 49]}\n",
      "{0: [0, 1, 2, 3, 4, 5, 6, 7, 8, 9, 10, 11, 12, 13, 14, 15, 16, 17, 18, 19, 20, 21, 22, 23, 24, 25, 26, 27, 28, 29, 30, 31, 32, 33, 34, 35, 36, 37, 38, 39, 40, 41, 42, 43, 44, 45, 46, 47, 48, 49], 1: []}\n",
      "{0: [2, 3, 4, 5, 6, 7, 10, 11, 12, 13, 14, 15, 17, 19, 21, 22, 23, 24, 25, 26, 27, 28, 32, 33, 34, 36, 37, 39, 43, 44, 45, 46, 47, 48, 49], 1: [0, 1, 8, 9, 16, 18, 20, 29, 30, 31, 35, 38, 40, 41, 42]}\n",
      "{0: [2, 3, 4, 6, 7, 8, 12, 14, 15, 17, 18, 19, 21, 22, 25, 26, 27, 28, 30, 31, 33, 37, 39, 40, 44, 46, 47, 49], 1: [0, 1, 5, 9, 10, 11, 13, 16, 20, 23, 24, 29, 32, 34, 35, 36, 38, 41, 42, 43, 45, 48]}\n",
      "{0: [2, 8, 17, 18, 19, 23, 31, 37], 1: [0, 1, 3, 4, 5, 6, 7, 9, 10, 11, 12, 13, 14, 15, 16, 20, 21, 22, 24, 25, 26, 27, 28, 29, 30, 32, 33, 34, 35, 36, 38, 39, 40, 41, 42, 43, 44, 45, 46, 47, 48, 49]}\n",
      "{0: [2, 4, 5, 7, 8, 9, 11, 15, 16, 17, 18, 19, 23, 24, 25, 26, 28, 29, 30, 31, 32, 34, 37, 40, 43], 1: [0, 1, 3, 6, 10, 12, 13, 14, 20, 21, 22, 27, 33, 35, 36, 38, 39, 41, 42, 44, 45, 46, 47, 48, 49]}\n",
      "{0: [0, 1, 2, 3, 4, 5, 6, 7, 8, 9, 10, 11, 12, 13, 14, 15, 16, 17, 18, 19, 20, 21, 22, 23, 24, 25, 26, 27, 28, 29, 30, 31, 32, 33, 34, 35, 36, 37, 38, 39, 40, 41, 42, 43, 44, 45, 46, 47, 48, 49], 1: []}\n",
      "{0: [0, 1, 4, 5, 6, 7, 8, 9, 10, 11, 12, 14, 15, 16, 17, 19, 20, 21, 22, 23, 25, 26, 29, 30, 31, 32, 34, 35, 36, 37, 38, 39, 40, 41, 44, 45, 46, 48, 49], 1: [2, 3, 13, 18, 24, 27, 28, 33, 42, 43, 47]}\n",
      "{0: [0, 1, 3, 4, 6, 7, 8, 9, 11, 12, 13, 14, 16, 19, 20, 22, 23, 26, 27, 29, 30, 31, 32, 33, 35, 36, 37, 38, 39, 40, 44, 45, 46, 48, 49], 1: [2, 5, 10, 15, 17, 18, 21, 24, 25, 28, 34, 41, 42, 43, 47]}\n",
      "{0: [4, 6, 16, 22, 27, 29, 33, 37, 39, 45, 49], 1: [0, 1, 2, 3, 5, 7, 8, 9, 10, 11, 12, 13, 14, 15, 17, 18, 19, 20, 21, 23, 24, 25, 26, 28, 30, 31, 32, 34, 35, 36, 38, 40, 41, 42, 43, 44, 46, 47, 48]}\n",
      "{0: [2, 5, 6, 7, 10, 14, 18, 19, 20, 26, 28, 29, 30, 31, 32, 33, 34, 37, 39, 44, 45, 48, 49], 1: [0, 1, 3, 4, 8, 9, 11, 12, 13, 15, 16, 17, 21, 22, 23, 24, 25, 27, 35, 36, 38, 40, 41, 42, 43, 46, 47]}\n",
      "{0: [0, 1, 2, 3, 4, 5, 6, 7, 8, 9, 10, 11, 12, 13, 14, 15, 16, 17, 18, 19, 20, 21, 22, 23, 24, 25, 26, 27, 28, 29, 30, 31, 32, 33, 34, 35, 36, 37, 38, 39, 40, 41, 42, 43, 44, 45, 46, 47, 48, 49], 1: []}\n",
      "{0: [0, 1, 2, 3, 6, 7, 8, 9, 10, 11, 12, 17, 18, 21, 22, 23, 25, 26, 27, 28, 29, 30, 31, 33, 34, 35, 36, 38, 40, 42, 43, 44, 45, 46, 47, 48, 49], 1: [4, 5, 13, 14, 15, 16, 19, 20, 24, 32, 37, 39, 41]}\n",
      "{0: [1, 5, 6, 9, 10, 11, 12, 14, 21, 22, 25, 26, 27, 30, 34, 35, 37, 38, 40, 42, 43, 45, 46, 49], 1: [0, 2, 3, 4, 7, 8, 13, 15, 16, 17, 18, 19, 20, 23, 24, 28, 29, 31, 32, 33, 36, 39, 41, 44, 47, 48]}\n",
      "{0: [1, 9, 10, 14, 22, 26, 30, 35, 37, 40, 43, 46], 1: [0, 2, 3, 4, 5, 6, 7, 8, 11, 12, 13, 15, 16, 17, 18, 19, 20, 21, 23, 24, 25, 27, 28, 29, 31, 32, 33, 34, 36, 38, 39, 41, 42, 44, 45, 47, 48, 49]}\n",
      "{0: [0, 2, 3, 5, 6, 8, 9, 10, 26, 27, 29, 30, 31, 33, 35, 37, 39, 42, 43, 46, 47, 48, 49], 1: [1, 4, 7, 11, 12, 13, 14, 15, 16, 17, 18, 19, 20, 21, 22, 23, 24, 25, 28, 32, 34, 36, 38, 40, 41, 44, 45]}\n",
      "{0: [0, 1, 2, 3, 4, 5, 6, 7, 8, 9, 10, 11, 12, 13, 14, 15, 16, 17, 18, 19, 20, 21, 22, 23, 24, 25, 26, 27, 28, 29, 30, 31, 32, 33, 34, 35, 36, 37, 38, 39, 40, 41, 42, 43, 44, 45, 46, 47, 48, 49], 1: []}\n",
      "{0: [0, 1, 2, 5, 7, 8, 9, 10, 13, 14, 15, 16, 17, 18, 19, 20, 21, 22, 23, 24, 25, 27, 28, 30, 31, 32, 34, 35, 36, 38, 40, 42, 43, 45, 46, 47], 1: [3, 4, 6, 11, 12, 26, 29, 33, 37, 39, 41, 44, 48, 49]}\n",
      "{0: [0, 1, 2, 5, 7, 9, 10, 11, 14, 16, 18, 19, 24, 27, 28, 30, 32, 35, 36, 42, 43, 45, 46, 47], 1: [3, 4, 6, 8, 12, 13, 15, 17, 20, 21, 22, 23, 25, 26, 29, 31, 33, 34, 37, 38, 39, 40, 41, 44, 48, 49]}\n",
      "{0: [1, 2, 24, 41, 43], 1: [0, 3, 4, 5, 6, 7, 8, 9, 10, 11, 12, 13, 14, 15, 16, 17, 18, 19, 20, 21, 22, 23, 25, 26, 27, 28, 29, 30, 31, 32, 33, 34, 35, 36, 37, 38, 39, 40, 42, 44, 45, 46, 47, 48, 49]}\n",
      "{0: [0, 5, 7, 8, 10, 11, 15, 20, 21, 22, 23, 24, 26, 27, 34, 37, 39, 40, 43, 45, 46, 47, 49], 1: [1, 2, 3, 4, 6, 9, 12, 13, 14, 16, 17, 18, 19, 25, 28, 29, 30, 31, 32, 33, 35, 36, 38, 41, 42, 44, 48]}\n",
      "{0: [0, 1, 2, 3, 4, 5, 6, 7, 8, 9, 10, 11, 12, 13, 14, 15, 16, 17, 18, 19, 20, 21, 22, 23, 24, 25, 26, 27, 28, 29, 30, 31, 32, 33, 34, 35, 36, 37, 38, 39, 40, 41, 42, 43, 44, 45, 46, 47, 48, 49], 1: []}\n",
      "{0: [0, 2, 3, 5, 7, 9, 10, 11, 12, 13, 14, 15, 16, 17, 18, 20, 21, 22, 23, 25, 26, 28, 29, 30, 31, 32, 33, 35, 36, 37, 38, 39, 40, 41, 42, 44, 45, 46, 47, 48, 49], 1: [1, 4, 6, 8, 19, 24, 27, 34, 43]}\n",
      "{0: [0, 2, 3, 5, 7, 12, 17, 18, 21, 23, 26, 27, 28, 29, 30, 32, 33, 36, 37, 40, 41, 42, 44, 46, 47, 49], 1: [1, 4, 6, 8, 9, 10, 11, 13, 14, 15, 16, 19, 20, 22, 24, 25, 31, 34, 35, 38, 39, 43, 45, 48]}\n",
      "{0: [21, 48], 1: [0, 1, 2, 3, 4, 5, 6, 7, 8, 9, 10, 11, 12, 13, 14, 15, 16, 17, 18, 19, 20, 22, 23, 24, 25, 26, 27, 28, 29, 30, 31, 32, 33, 34, 35, 36, 37, 38, 39, 40, 41, 42, 43, 44, 45, 46, 47, 49]}\n",
      "{0: [4, 7, 8, 9, 13, 14, 15, 16, 17, 19, 20, 21, 23, 24, 30, 38, 39, 40, 48], 1: [0, 1, 2, 3, 5, 6, 10, 11, 12, 18, 22, 25, 26, 27, 28, 29, 31, 32, 33, 34, 35, 36, 37, 41, 42, 43, 44, 45, 46, 47, 49]}\n",
      "{0: [0, 1, 2, 3, 4, 5, 6, 7, 8, 9, 10, 11, 12, 13, 14, 15, 16, 17, 18, 19, 20, 21, 22, 23, 24, 25, 26, 27, 28, 29, 30, 31, 32, 33, 34, 35, 36, 37, 38, 39, 40, 41, 42, 43, 44, 45, 46, 47, 48, 49], 1: []}\n",
      "{0: [0, 1, 2, 4, 6, 11, 12, 14, 15, 16, 18, 19, 21, 22, 23, 24, 25, 26, 27, 29, 30, 32, 33, 34, 35, 36, 37, 38, 39, 40, 42, 44, 45, 48, 49], 1: [3, 5, 7, 8, 9, 10, 13, 17, 20, 28, 31, 41, 43, 46, 47]}\n",
      "{0: [0, 1, 2, 4, 6, 11, 12, 16, 18, 19, 22, 23, 24, 25, 27, 29, 30, 31, 32, 33, 34, 38, 39, 40, 41, 42, 44, 45], 1: [3, 5, 7, 8, 9, 10, 13, 14, 15, 17, 20, 21, 26, 28, 35, 36, 37, 43, 46, 47, 48, 49]}\n",
      "{0: [2, 19, 22, 23, 29, 40, 42, 44], 1: [0, 1, 3, 4, 5, 6, 7, 8, 9, 10, 11, 12, 13, 14, 15, 16, 17, 18, 20, 21, 24, 25, 26, 27, 28, 30, 31, 32, 33, 34, 35, 36, 37, 38, 39, 41, 43, 45, 46, 47, 48, 49]}\n",
      "{0: [2, 3, 4, 5, 6, 9, 12, 16, 17, 18, 19, 21, 22, 23, 24, 25, 27, 28, 30, 31, 32, 33, 35, 37, 40, 43, 44, 47], 1: [0, 1, 7, 8, 10, 11, 13, 14, 15, 20, 26, 29, 34, 36, 38, 39, 41, 42, 45, 46, 48, 49]}\n",
      "{0: [0, 1, 2, 3, 4, 5, 6, 7, 8, 9, 10, 11, 12, 13, 14, 15, 16, 17, 18, 19, 20, 21, 22, 23, 24, 25, 26, 27, 28, 29, 30, 31, 32, 33, 34, 35, 36, 37, 38, 39, 40, 41, 42, 43, 44, 45, 46, 47, 48, 49], 1: []}\n",
      "{0: [1, 2, 3, 4, 5, 6, 7, 9, 10, 12, 14, 15, 16, 18, 20, 22, 23, 25, 26, 28, 29, 30, 31, 32, 34, 36, 37, 38, 40, 43, 44, 45, 47, 48, 49], 1: [0, 8, 11, 13, 17, 19, 21, 24, 27, 33, 35, 39, 41, 42, 46]}\n",
      "{0: [0, 1, 2, 3, 4, 6, 7, 9, 10, 12, 14, 18, 20, 22, 23, 25, 28, 29, 33, 34, 36, 37, 38, 40, 41, 42, 43, 44, 45, 47, 48], 1: [5, 8, 11, 13, 15, 16, 17, 19, 21, 24, 26, 27, 30, 31, 32, 35, 39, 46, 49]}\n",
      "{0: [0, 6, 12, 22, 25, 28, 34, 36, 41, 42], 1: [1, 2, 3, 4, 5, 7, 8, 9, 10, 11, 13, 14, 15, 16, 17, 18, 19, 20, 21, 23, 24, 26, 27, 29, 30, 31, 32, 33, 35, 37, 38, 39, 40, 43, 44, 45, 46, 47, 48, 49]}\n",
      "{0: [0, 2, 3, 4, 6, 7, 9, 10, 12, 13, 14, 15, 17, 18, 22, 25, 26, 28, 32, 39, 40, 41, 42, 45, 46, 49], 1: [1, 5, 8, 11, 16, 19, 20, 21, 23, 24, 27, 29, 30, 31, 33, 34, 35, 36, 37, 38, 43, 44, 47, 48]}\n",
      "{0: [0, 1, 2, 3, 4, 5, 6, 7, 8, 9, 10, 11, 12, 13, 14, 15, 16, 17, 18, 19, 20, 21, 22, 23, 24, 25, 26, 27, 28, 29, 30, 31, 32, 33, 34, 35, 36, 37, 38, 39, 40, 41, 42, 43, 44, 45, 46, 47, 48, 49], 1: []}\n",
      "{0: [0, 1, 2, 3, 4, 6, 8, 9, 10, 12, 13, 14, 16, 17, 18, 19, 20, 21, 22, 24, 25, 28, 30, 31, 32, 36, 38, 39, 40, 41, 42, 43, 44, 45, 46, 47, 48, 49], 1: [5, 7, 11, 15, 23, 26, 27, 29, 33, 34, 35, 37]}\n",
      "{0: [0, 1, 2, 3, 5, 6, 9, 12, 13, 15, 16, 18, 20, 24, 26, 28, 30, 32, 36, 38, 39, 40, 42, 43, 46, 47, 48, 49], 1: [4, 7, 8, 10, 11, 14, 17, 19, 21, 22, 23, 25, 27, 29, 31, 33, 34, 35, 37, 41, 44, 45]}\n",
      "{0: [0, 5, 6, 13, 24, 32, 36, 38, 42, 48], 1: [1, 2, 3, 4, 7, 8, 9, 10, 11, 12, 14, 15, 16, 17, 18, 19, 20, 21, 22, 23, 25, 26, 27, 28, 29, 30, 31, 33, 34, 35, 37, 39, 40, 41, 43, 44, 45, 46, 47, 49]}\n",
      "{0: [0, 2, 5, 7, 8, 9, 11, 13, 15, 17, 23, 24, 26, 27, 28, 32, 35, 36, 38, 39, 41, 43, 45], 1: [1, 3, 4, 6, 10, 12, 14, 16, 18, 19, 20, 21, 22, 25, 29, 30, 31, 33, 34, 37, 40, 42, 44, 46, 47, 48, 49]}\n",
      "{0: [0, 1, 2, 3, 4, 5, 6, 7, 8, 9, 10, 11, 12, 13, 14, 15, 16, 17, 18, 19, 20, 21, 22, 23, 24, 25, 26, 27, 28, 29, 30, 31, 32, 33, 34, 35, 36, 37, 38, 39, 40, 41, 42, 43, 44, 45, 46, 47, 48, 49], 1: []}\n",
      "{0: [0, 1, 2, 3, 4, 5, 6, 7, 8, 10, 11, 12, 14, 16, 17, 19, 20, 21, 22, 23, 24, 25, 26, 27, 28, 31, 33, 34, 35, 38, 39, 40, 43, 44, 46, 47, 48, 49], 1: [9, 13, 15, 18, 29, 30, 32, 36, 37, 41, 42, 45]}\n",
      "{0: [0, 1, 3, 4, 6, 7, 10, 11, 12, 14, 15, 16, 17, 20, 21, 23, 24, 27, 28, 31, 32, 35, 38, 43, 44, 45, 46, 48, 49], 1: [2, 5, 8, 9, 13, 18, 19, 22, 25, 26, 29, 30, 33, 34, 36, 37, 39, 40, 41, 42, 47]}\n",
      "{0: [10, 11, 15, 17, 21, 23, 31, 32, 36, 46], 1: [0, 1, 2, 3, 4, 5, 6, 7, 8, 9, 12, 13, 14, 16, 18, 19, 20, 22, 24, 25, 26, 27, 28, 29, 30, 33, 34, 35, 37, 38, 39, 40, 41, 42, 43, 44, 45, 47, 48, 49]}\n",
      "{0: [0, 2, 3, 5, 8, 13, 14, 16, 17, 18, 19, 23, 26, 27, 28, 29, 31, 32, 36, 37, 39, 41, 43, 44, 45, 47, 49], 1: [1, 4, 6, 7, 9, 10, 11, 12, 15, 20, 21, 22, 24, 25, 30, 33, 34, 35, 38, 40, 42, 46, 48]}\n",
      "{0: [0, 1, 2, 3, 4, 5, 6, 7, 8, 9, 10, 11, 12, 13, 14, 15, 16, 17, 18, 19, 20, 21, 22, 23, 24, 25, 26, 27, 28, 29, 30, 31, 32, 33, 34, 35, 36, 37, 38, 39, 40, 41, 42, 43, 44, 45, 46, 47, 48, 49], 1: []}\n",
      "{0: [1, 2, 3, 4, 5, 6, 7, 8, 9, 10, 11, 12, 13, 15, 16, 17, 18, 19, 22, 24, 27, 28, 30, 33, 35, 36, 37, 38, 39, 40, 41, 42, 43, 44, 45, 48, 49], 1: [0, 14, 20, 21, 23, 25, 26, 29, 31, 32, 34, 46, 47]}\n",
      "{0: [1, 2, 3, 7, 8, 9, 10, 11, 12, 13, 14, 16, 17, 18, 19, 20, 22, 27, 29, 33, 35, 36, 37, 38, 39, 40, 41, 42, 43, 44, 45, 46, 48, 49], 1: [0, 4, 5, 6, 15, 21, 23, 24, 25, 26, 28, 30, 31, 32, 34, 47]}\n",
      "{0: [1, 2, 6, 7, 9, 10, 14, 20, 29, 33, 35, 37, 38, 40, 42, 46], 1: [0, 3, 4, 5, 8, 11, 12, 13, 15, 16, 17, 18, 19, 21, 22, 23, 24, 25, 26, 27, 28, 30, 31, 32, 34, 36, 39, 41, 43, 44, 45, 47, 48, 49]}\n",
      "{0: [0, 1, 2, 3, 4, 6, 7, 9, 10, 14, 16, 20, 22, 24, 27, 29, 30, 31, 34, 35, 37, 38, 40, 44, 46, 48, 49], 1: [5, 8, 11, 12, 13, 15, 17, 18, 19, 21, 23, 25, 26, 28, 32, 33, 36, 39, 41, 42, 43, 45, 47]}\n",
      "{0: [0, 1, 2, 3, 4, 5, 6, 7, 8, 9, 10, 11, 12, 13, 14, 15, 16, 17, 18, 19, 20, 21, 22, 23, 24, 25, 26, 27, 28, 29, 30, 31, 32, 33, 34, 35, 36, 37, 38, 39, 40, 41, 42, 43, 44, 45, 46, 47, 48, 49], 1: []}\n",
      "{0: [0, 1, 2, 3, 6, 7, 8, 10, 11, 12, 13, 15, 16, 17, 18, 19, 21, 23, 24, 26, 27, 28, 30, 31, 32, 33, 34, 35, 36, 37, 38, 39, 40, 41, 43, 44, 45, 46, 48], 1: [4, 5, 9, 14, 20, 22, 25, 29, 42, 47, 49]}\n",
      "{0: [0, 2, 4, 7, 8, 11, 15, 17, 18, 19, 21, 25, 26, 27, 30, 31, 33, 34, 35, 36, 37, 38, 41, 42, 45, 48, 49], 1: [1, 3, 5, 6, 9, 10, 12, 13, 14, 16, 20, 22, 23, 24, 28, 29, 32, 39, 40, 43, 44, 46, 47]}\n",
      "{0: [2, 5, 8, 18, 19, 21, 25, 33, 35, 38, 41, 42], 1: [0, 1, 3, 4, 6, 7, 9, 10, 11, 12, 13, 14, 15, 16, 17, 20, 22, 23, 24, 26, 27, 28, 29, 30, 31, 32, 34, 36, 37, 39, 40, 43, 44, 45, 46, 47, 48, 49]}\n",
      "{0: [1, 2, 3, 4, 7, 15, 17, 19, 22, 24, 25, 27, 30, 32, 34, 38, 39, 42, 43, 48], 1: [0, 5, 6, 8, 9, 10, 11, 12, 13, 14, 16, 18, 20, 21, 23, 26, 28, 29, 31, 33, 35, 36, 37, 40, 41, 44, 45, 46, 47, 49]}\n",
      "{0: [0, 1, 2, 3, 4, 5, 6, 7, 8, 9, 10, 11, 12, 13, 14, 15, 16, 17, 18, 19, 20, 21, 22, 23, 24, 25, 26, 27], 1: []}\n",
      "{0: [0, 1, 2, 3, 5, 6, 8, 10, 11, 13, 15, 16, 18, 19, 21, 22, 23, 24, 25, 26, 27], 1: [4, 7, 9, 12, 14, 17, 20]}\n",
      "{0: [0, 2, 3, 5, 7, 8, 10, 11, 14, 16, 18, 19, 20, 21, 22, 23, 24, 25, 27], 1: [1, 4, 6, 9, 12, 13, 15, 17, 26]}\n",
      "{0: [5, 7, 18, 23, 24, 26], 1: [0, 1, 2, 3, 4, 6, 8, 9, 10, 11, 12, 13, 14, 15, 16, 17, 19, 20, 21, 22, 25, 27]}\n",
      "{0: [0, 4, 5, 6, 7, 9, 11, 13, 14, 16, 17, 20, 21, 23, 24, 26], 1: [1, 2, 3, 8, 10, 12, 15, 18, 19, 22, 25, 27]}\n"
     ]
    }
   ],
   "source": [
    "epochs = 1\n",
    "\n",
    "for epoch in range(epochs):\n",
    "    push_prototypes(train_dataloader, \n",
    "                    model, \n",
    "                    class_specific=True, \n",
    "                    preprocess_input_function=None, \n",
    "                    prototype_layer_stride=1, \n",
    "                    epoch_number=epoch,\n",
    "                    save_prototype_class_identity=False\n",
    "                )"
   ]
  },
  {
   "cell_type": "code",
   "execution_count": 1,
   "metadata": {},
   "outputs": [
    {
     "name": "stderr",
     "output_type": "stream",
     "text": [
      "d:\\Program_Files\\anaconda3\\envs\\torch\\lib\\site-packages\\torchvision\\io\\image.py:13: UserWarning: Failed to load image Python extension: '[WinError 127] The specified procedure could not be found'If you don't plan on using image functionality from `torchvision.io`, you can ignore this warning. Otherwise, there might be something wrong with your environment. Did you have `libjpeg` or `libpng` installed before building `torchvision` from source?\n",
      "  warn(\n"
     ]
    },
    {
     "name": "stdout",
     "output_type": "stream",
     "text": [
      "120 120 120\n",
      "[7, 1, 3, 1, 3, 1, 3, 1, 3, 1, 3, 1, 3, 1, 1, 3, 1, 3, 1, 3, 1, 3, 1, 3, 1, 3, 1, 3, 1, 3, 1, 3, 1, 3, 1, 3, 1, 3, 1, 1, 3, 1, 3, 1, 3, 1, 3, 1, 3, 1, 3, 1, 3, 1, 3, 1, 3, 1, 3, 1, 3, 1, 3, 1, 3, 1, 3, 1, 3, 1, 3, 1, 3, 1, 3, 1, 3, 1, 3, 1, 3, 1, 3, 1, 3, 1, 3, 1, 1, 3, 1, 3, 1, 3, 1, 3, 1, 3, 1, 3, 1, 3, 1, 3, 1, 3, 1, 3, 1, 3, 1, 3, 1, 3, 1, 3, 1, 3, 1, 3]\n",
      "[2, 1, 1, 1, 1, 1, 1, 1, 1, 1, 1, 1, 1, 1, 1, 1, 1, 1, 1, 1, 1, 1, 1, 1, 1, 1, 1, 1, 1, 1, 1, 1, 1, 1, 1, 1, 1, 1, 1, 1, 1, 1, 1, 1, 1, 1, 1, 1, 1, 1, 1, 1, 1, 1, 1, 1, 1, 1, 1, 1, 1, 1, 1, 1, 1, 1, 1, 1, 1, 1, 1, 1, 1, 1, 1, 1, 1, 1, 1, 1, 1, 1, 1, 1, 1, 1, 1, 1, 1, 1, 1, 1, 1, 1, 1, 1, 1, 1, 1, 1, 1, 1, 1, 1, 1, 1, 1, 1, 1, 1, 1, 1, 1, 1, 1, 1, 1, 1, 1, 1]\n",
      "[3, 0, 1, 0, 1, 0, 1, 0, 1, 0, 1, 0, 1, 0, 0, 1, 0, 1, 0, 1, 0, 1, 0, 1, 0, 1, 0, 1, 0, 1, 0, 1, 0, 1, 0, 1, 0, 1, 0, 0, 1, 0, 1, 0, 1, 0, 1, 0, 1, 0, 1, 0, 1, 0, 1, 0, 1, 0, 1, 0, 1, 0, 1, 0, 1, 0, 1, 0, 1, 0, 1, 0, 1, 0, 1, 0, 1, 0, 1, 0, 1, 0, 1, 0, 1, 0, 1, 0, 0, 1, 0, 1, 0, 1, 0, 1, 0, 1, 0, 1, 0, 1, 0, 1, 0, 1, 0, 1, 0, 1, 0, 1, 0, 1, 0, 1, 0, 1, 0, 1]\n"
     ]
    }
   ],
   "source": [
    "from src.models.backbone_models import denseNet121\n",
    "\n",
    "model = denseNet121()\n",
    "\n",
    "kernel, stride, padding = model.conv_info()\n",
    "\n",
    "print(len(kernel), len(stride), len(padding))\n",
    "print(kernel)\n",
    "print(stride)\n",
    "print(padding)"
   ]
  },
  {
   "cell_type": "code",
   "execution_count": 1,
   "metadata": {},
   "outputs": [
    {
     "name": "stderr",
     "output_type": "stream",
     "text": [
      "d:\\Program_Files\\anaconda3\\envs\\torch\\lib\\site-packages\\torchvision\\io\\image.py:13: UserWarning: Failed to load image Python extension: '[WinError 127] The specified procedure could not be found'If you don't plan on using image functionality from `torchvision.io`, you can ignore this warning. Otherwise, there might be something wrong with your environment. Did you have `libjpeg` or `libpng` installed before building `torchvision` from source?\n",
      "  warn(\n"
     ]
    },
    {
     "name": "stdout",
     "output_type": "stream",
     "text": [
      "127 127 127\n",
      "[7, 1, 3, 1, 3, 1, 3, 1, 3, 1, 3, 1, 3, 1, 1, 3, 1, 3, 1, 3, 1, 3, 1, 3, 1, 3, 1, 3, 1, 3, 1, 3, 1, 3, 1, 3, 1, 3, 1, 1, 3, 1, 3, 1, 3, 1, 3, 1, 3, 1, 3, 1, 3, 1, 3, 1, 3, 1, 3, 1, 3, 1, 3, 1, 3, 1, 3, 1, 3, 1, 3, 1, 3, 1, 3, 1, 3, 1, 3, 1, 3, 1, 3, 1, 3, 1, 3, 1, 1, 3, 1, 3, 1, 3, 1, 3, 1, 3, 1, 3, 1, 3, 1, 3, 1, 3, 1, 3, 1, 3, 1, 3, 1, 3, 1, 3, 1, 3, 1, 3, 1, 1, 1, 1, 1, 1, 1]\n",
      "[2, 1, 1, 1, 1, 1, 1, 1, 1, 1, 1, 1, 1, 1, 1, 1, 1, 1, 1, 1, 1, 1, 1, 1, 1, 1, 1, 1, 1, 1, 1, 1, 1, 1, 1, 1, 1, 1, 1, 1, 1, 1, 1, 1, 1, 1, 1, 1, 1, 1, 1, 1, 1, 1, 1, 1, 1, 1, 1, 1, 1, 1, 1, 1, 1, 1, 1, 1, 1, 1, 1, 1, 1, 1, 1, 1, 1, 1, 1, 1, 1, 1, 1, 1, 1, 1, 1, 1, 1, 1, 1, 1, 1, 1, 1, 1, 1, 1, 1, 1, 1, 1, 1, 1, 1, 1, 1, 1, 1, 1, 1, 1, 1, 1, 1, 1, 1, 1, 1, 1, 1, 1, 1, 1, 1, 1, 1]\n",
      "[3, 0, 1, 0, 1, 0, 1, 0, 1, 0, 1, 0, 1, 0, 0, 1, 0, 1, 0, 1, 0, 1, 0, 1, 0, 1, 0, 1, 0, 1, 0, 1, 0, 1, 0, 1, 0, 1, 0, 0, 1, 0, 1, 0, 1, 0, 1, 0, 1, 0, 1, 0, 1, 0, 1, 0, 1, 0, 1, 0, 1, 0, 1, 0, 1, 0, 1, 0, 1, 0, 1, 0, 1, 0, 1, 0, 1, 0, 1, 0, 1, 0, 1, 0, 1, 0, 1, 0, 0, 1, 0, 1, 0, 1, 0, 1, 0, 1, 0, 1, 0, 1, 0, 1, 0, 1, 0, 1, 0, 1, 0, 1, 0, 1, 0, 1, 0, 1, 0, 1, 0, 0, 0, 0, 0, 0, 0]\n"
     ]
    }
   ],
   "source": [
    "from src.models.backbone_models import denseFPN_121\n",
    "\n",
    "model = denseFPN_121()\n",
    "\n",
    "kernel, stride, padding = model.conv_info()\n",
    "\n",
    "print(len(kernel), len(stride), len(padding))\n",
    "print(kernel)\n",
    "print(stride)\n",
    "print(padding)"
   ]
  },
  {
   "cell_type": "code",
   "execution_count": 76,
   "metadata": {},
   "outputs": [
    {
     "name": "stdout",
     "output_type": "stream",
     "text": [
      "[7, 3, 1, 3, 1, 3, 1, 3, 1, 3, 1, 3, 1, 3, 1, 2, 1, 3, 1, 3, 1, 3, 1, 3, 1, 3, 1, 3, 1, 3, 1, 3, 1, 3, 1, 3, 1, 3, 1, 3, 1, 2, 1, 3, 1, 3, 1, 3, 1, 3, 1, 3, 1, 3, 1, 3, 1, 3, 1, 3, 1, 3, 1, 3, 1, 3, 1, 3, 1, 3, 1, 3, 1, 3, 1, 3, 1, 3, 1, 3, 1, 3, 1, 3, 1, 3, 1, 3, 1, 3, 1, 2, 1, 3, 1, 3, 1, 3, 1, 3, 1, 3, 1, 3, 1, 3, 1, 3, 1, 3, 1, 3, 1, 3, 1, 3, 1, 3, 1, 3, 1, 3, 1, 3]\n",
      "[2, 2, 1, 1, 1, 1, 1, 1, 1, 1, 1, 1, 1, 1, 1, 2, 1, 1, 1, 1, 1, 1, 1, 1, 1, 1, 1, 1, 1, 1, 1, 1, 1, 1, 1, 1, 1, 1, 1, 1, 1, 2, 1, 1, 1, 1, 1, 1, 1, 1, 1, 1, 1, 1, 1, 1, 1, 1, 1, 1, 1, 1, 1, 1, 1, 1, 1, 1, 1, 1, 1, 1, 1, 1, 1, 1, 1, 1, 1, 1, 1, 1, 1, 1, 1, 1, 1, 1, 1, 1, 1, 2, 1, 1, 1, 1, 1, 1, 1, 1, 1, 1, 1, 1, 1, 1, 1, 1, 1, 1, 1, 1, 1, 1, 1, 1, 1, 1, 1, 1, 1, 1, 1, 1]\n",
      "[3, 1, 0, 1, 0, 1, 0, 1, 0, 1, 0, 1, 0, 1, 0, 0, 0, 1, 0, 1, 0, 1, 0, 1, 0, 1, 0, 1, 0, 1, 0, 1, 0, 1, 0, 1, 0, 1, 0, 1, 0, 0, 0, 1, 0, 1, 0, 1, 0, 1, 0, 1, 0, 1, 0, 1, 0, 1, 0, 1, 0, 1, 0, 1, 0, 1, 0, 1, 0, 1, 0, 1, 0, 1, 0, 1, 0, 1, 0, 1, 0, 1, 0, 1, 0, 1, 0, 1, 0, 1, 0, 0, 0, 1, 0, 1, 0, 1, 0, 1, 0, 1, 0, 1, 0, 1, 0, 1, 0, 1, 0, 1, 0, 1, 0, 1, 0, 1, 0, 1, 0, 1, 0, 1]\n"
     ]
    }
   ],
   "source": [
    "from src.models.densenet_features import densenet121_features\n",
    "\n",
    "model = densenet121_features()\n",
    "\n",
    "kernel, stride, padding = model.conv_info()\n",
    "\n",
    "print(kernel)\n",
    "print(stride)\n",
    "print(padding)"
   ]
  },
  {
   "cell_type": "code",
   "execution_count": 36,
   "metadata": {},
   "outputs": [
    {
     "name": "stdout",
     "output_type": "stream",
     "text": [
      "tensor([[1, 1, 1, 1, 1, 1, 1, 1, 1, 1],\n",
      "        [1, 0, 1, 0, 1, 0, 1, 0, 1, 0],\n",
      "        [0, 1, 0, 1, 0, 1, 0, 1, 0, 1]])\n",
      "[tensor([[0, 1],\n",
      "        [0, 1],\n",
      "        [0, 1],\n",
      "        [0, 1],\n",
      "        [0, 1],\n",
      "        [0, 1],\n",
      "        [0, 1],\n",
      "        [0, 1],\n",
      "        [0, 1],\n",
      "        [0, 1]]), tensor([[0, 1],\n",
      "        [1, 0],\n",
      "        [0, 1],\n",
      "        [1, 0],\n",
      "        [0, 1],\n",
      "        [1, 0],\n",
      "        [0, 1],\n",
      "        [1, 0],\n",
      "        [0, 1],\n",
      "        [1, 0]]), tensor([[1, 0],\n",
      "        [0, 1],\n",
      "        [1, 0],\n",
      "        [0, 1],\n",
      "        [1, 0],\n",
      "        [0, 1],\n",
      "        [1, 0],\n",
      "        [0, 1],\n",
      "        [1, 0],\n",
      "        [0, 1]])]\n"
     ]
    }
   ],
   "source": [
    "import torch.nn.functional as F\n",
    "\n",
    "target = [[1,1,1,1,1, 1,1,1,1,1],[1, 0, 1, 0, 1, 0, 1, 0, 1, 0], [0, 1, 0, 1, 0, 1, 0, 1, 0, 1]]\n",
    "targets = torch.tensor(target)\n",
    "# one_hot_targets = [F.make]\n",
    "print(targets)\n",
    "one_hot_targets = [F.one_hot(t.long().squeeze()) for t in targets]\n",
    "print(one_hot_targets)"
   ]
  },
  {
   "cell_type": "code",
   "execution_count": 3,
   "metadata": {},
   "outputs": [
    {
     "name": "stdout",
     "output_type": "stream",
     "text": [
      "['LIDC-IDRI-0001' 'LIDC-IDRI-0002' 'LIDC-IDRI-0003' 'LIDC-IDRI-0004'\n",
      " 'LIDC-IDRI-0005' 'LIDC-IDRI-0006' 'LIDC-IDRI-0007' 'LIDC-IDRI-0008'\n",
      " 'LIDC-IDRI-0009' 'LIDC-IDRI-0010' 'LIDC-IDRI-0011' 'LIDC-IDRI-0012'\n",
      " 'LIDC-IDRI-0013' 'LIDC-IDRI-0014' 'LIDC-IDRI-0015' 'LIDC-IDRI-0016'\n",
      " 'LIDC-IDRI-0017' 'LIDC-IDRI-0018' 'LIDC-IDRI-0019' 'LIDC-IDRI-0020'\n",
      " 'LIDC-IDRI-0021' 'LIDC-IDRI-0022' 'LIDC-IDRI-0023' 'LIDC-IDRI-0024'\n",
      " 'LIDC-IDRI-0025' 'LIDC-IDRI-0026' 'LIDC-IDRI-0027' 'LIDC-IDRI-0029'\n",
      " 'LIDC-IDRI-0030' 'LIDC-IDRI-0031' 'LIDC-IDRI-0033' 'LIDC-IDRI-0034'\n",
      " 'LIDC-IDRI-0035' 'LIDC-IDRI-0036' 'LIDC-IDRI-0037' 'LIDC-IDRI-0038'\n",
      " 'LIDC-IDRI-0039' 'LIDC-IDRI-0040' 'LIDC-IDRI-0041' 'LIDC-IDRI-0042'\n",
      " 'LIDC-IDRI-0043' 'LIDC-IDRI-0044' 'LIDC-IDRI-0045' 'LIDC-IDRI-0046'\n",
      " 'LIDC-IDRI-0047' 'LIDC-IDRI-0048' 'LIDC-IDRI-0049' 'LIDC-IDRI-0050'\n",
      " 'LIDC-IDRI-0051' 'LIDC-IDRI-0052' 'LIDC-IDRI-0053' 'LIDC-IDRI-0054'\n",
      " 'LIDC-IDRI-0055' 'LIDC-IDRI-0056' 'LIDC-IDRI-0057' 'LIDC-IDRI-0058'\n",
      " 'LIDC-IDRI-0059' 'LIDC-IDRI-0060' 'LIDC-IDRI-0061' 'LIDC-IDRI-0063'\n",
      " 'LIDC-IDRI-0064' 'LIDC-IDRI-0065' 'LIDC-IDRI-0066' 'LIDC-IDRI-0067'\n",
      " 'LIDC-IDRI-0068' 'LIDC-IDRI-0069' 'LIDC-IDRI-0070' 'LIDC-IDRI-0072'\n",
      " 'LIDC-IDRI-0073' 'LIDC-IDRI-0074' 'LIDC-IDRI-0075' 'LIDC-IDRI-0076'\n",
      " 'LIDC-IDRI-0077' 'LIDC-IDRI-0078' 'LIDC-IDRI-0079' 'LIDC-IDRI-0080'\n",
      " 'LIDC-IDRI-0081' 'LIDC-IDRI-0082' 'LIDC-IDRI-0083' 'LIDC-IDRI-0084'\n",
      " 'LIDC-IDRI-0085' 'LIDC-IDRI-0086' 'LIDC-IDRI-0087' 'LIDC-IDRI-0088'\n",
      " 'LIDC-IDRI-0089' 'LIDC-IDRI-0090' 'LIDC-IDRI-0091' 'LIDC-IDRI-0092'\n",
      " 'LIDC-IDRI-0093' 'LIDC-IDRI-0094' 'LIDC-IDRI-0095' 'LIDC-IDRI-0096'\n",
      " 'LIDC-IDRI-0097' 'LIDC-IDRI-0098' 'LIDC-IDRI-0099' 'LIDC-IDRI-0101'\n",
      " 'LIDC-IDRI-0102' 'LIDC-IDRI-0103' 'LIDC-IDRI-0104' 'LIDC-IDRI-0105'\n",
      " 'LIDC-IDRI-0106' 'LIDC-IDRI-0107' 'LIDC-IDRI-0108' 'LIDC-IDRI-0109'\n",
      " 'LIDC-IDRI-0110' 'LIDC-IDRI-0111' 'LIDC-IDRI-0112' 'LIDC-IDRI-0113'\n",
      " 'LIDC-IDRI-0114' 'LIDC-IDRI-0115' 'LIDC-IDRI-0116' 'LIDC-IDRI-0117'\n",
      " 'LIDC-IDRI-0118' 'LIDC-IDRI-0119' 'LIDC-IDRI-0120' 'LIDC-IDRI-0121'\n",
      " 'LIDC-IDRI-0122' 'LIDC-IDRI-0123' 'LIDC-IDRI-0124' 'LIDC-IDRI-0125'\n",
      " 'LIDC-IDRI-0126' 'LIDC-IDRI-0127' 'LIDC-IDRI-0128' 'LIDC-IDRI-0129'\n",
      " 'LIDC-IDRI-0130' 'LIDC-IDRI-0131' 'LIDC-IDRI-0132' 'LIDC-IDRI-0133'\n",
      " 'LIDC-IDRI-0134' 'LIDC-IDRI-0135' 'LIDC-IDRI-0136' 'LIDC-IDRI-0137'\n",
      " 'LIDC-IDRI-0138' 'LIDC-IDRI-0139' 'LIDC-IDRI-0140' 'LIDC-IDRI-0141'\n",
      " 'LIDC-IDRI-0142' 'LIDC-IDRI-0144' 'LIDC-IDRI-0145' 'LIDC-IDRI-0146'\n",
      " 'LIDC-IDRI-0147' 'LIDC-IDRI-0148' 'LIDC-IDRI-0149' 'LIDC-IDRI-0150'\n",
      " 'LIDC-IDRI-0151' 'LIDC-IDRI-0152' 'LIDC-IDRI-0153' 'LIDC-IDRI-0154'\n",
      " 'LIDC-IDRI-0155' 'LIDC-IDRI-0156' 'LIDC-IDRI-0157' 'LIDC-IDRI-0158'\n",
      " 'LIDC-IDRI-0159' 'LIDC-IDRI-0160' 'LIDC-IDRI-0161' 'LIDC-IDRI-0162'\n",
      " 'LIDC-IDRI-0163' 'LIDC-IDRI-0164' 'LIDC-IDRI-0165' 'LIDC-IDRI-0166'\n",
      " 'LIDC-IDRI-0167' 'LIDC-IDRI-0168' 'LIDC-IDRI-0169' 'LIDC-IDRI-0170'\n",
      " 'LIDC-IDRI-0171' 'LIDC-IDRI-0172' 'LIDC-IDRI-0173' 'LIDC-IDRI-0175'\n",
      " 'LIDC-IDRI-0176' 'LIDC-IDRI-0177' 'LIDC-IDRI-0178' 'LIDC-IDRI-0179'\n",
      " 'LIDC-IDRI-0180' 'LIDC-IDRI-0181' 'LIDC-IDRI-0182' 'LIDC-IDRI-0183'\n",
      " 'LIDC-IDRI-0184' 'LIDC-IDRI-0185' 'LIDC-IDRI-0186' 'LIDC-IDRI-0187'\n",
      " 'LIDC-IDRI-0188' 'LIDC-IDRI-0190' 'LIDC-IDRI-0191' 'LIDC-IDRI-0192'\n",
      " 'LIDC-IDRI-0193' 'LIDC-IDRI-0194' 'LIDC-IDRI-0195' 'LIDC-IDRI-0196'\n",
      " 'LIDC-IDRI-0198' 'LIDC-IDRI-0199' 'LIDC-IDRI-0200' 'LIDC-IDRI-0201'\n",
      " 'LIDC-IDRI-0202' 'LIDC-IDRI-0203' 'LIDC-IDRI-0204' 'LIDC-IDRI-0206'\n",
      " 'LIDC-IDRI-0207' 'LIDC-IDRI-0208' 'LIDC-IDRI-0209' 'LIDC-IDRI-0210'\n",
      " 'LIDC-IDRI-0211' 'LIDC-IDRI-0212' 'LIDC-IDRI-0213' 'LIDC-IDRI-0215'\n",
      " 'LIDC-IDRI-0216' 'LIDC-IDRI-0217' 'LIDC-IDRI-0219' 'LIDC-IDRI-0220'\n",
      " 'LIDC-IDRI-0221' 'LIDC-IDRI-0222' 'LIDC-IDRI-0223' 'LIDC-IDRI-0227'\n",
      " 'LIDC-IDRI-0228' 'LIDC-IDRI-0229' 'LIDC-IDRI-0230' 'LIDC-IDRI-0231'\n",
      " 'LIDC-IDRI-0232' 'LIDC-IDRI-0233' 'LIDC-IDRI-0234' 'LIDC-IDRI-0235'\n",
      " 'LIDC-IDRI-0236' 'LIDC-IDRI-0237' 'LIDC-IDRI-0240' 'LIDC-IDRI-0241'\n",
      " 'LIDC-IDRI-0242' 'LIDC-IDRI-0243' 'LIDC-IDRI-0244' 'LIDC-IDRI-0245'\n",
      " 'LIDC-IDRI-0246' 'LIDC-IDRI-0247' 'LIDC-IDRI-0248' 'LIDC-IDRI-0249'\n",
      " 'LIDC-IDRI-0250' 'LIDC-IDRI-0251' 'LIDC-IDRI-0252' 'LIDC-IDRI-0254'\n",
      " 'LIDC-IDRI-0255' 'LIDC-IDRI-0256' 'LIDC-IDRI-0257' 'LIDC-IDRI-0258'\n",
      " 'LIDC-IDRI-0259' 'LIDC-IDRI-0260' 'LIDC-IDRI-0262' 'LIDC-IDRI-0263'\n",
      " 'LIDC-IDRI-0264' 'LIDC-IDRI-0265' 'LIDC-IDRI-0266' 'LIDC-IDRI-0267'\n",
      " 'LIDC-IDRI-0268' 'LIDC-IDRI-0269' 'LIDC-IDRI-0270' 'LIDC-IDRI-0271'\n",
      " 'LIDC-IDRI-0272' 'LIDC-IDRI-0273' 'LIDC-IDRI-0274' 'LIDC-IDRI-0275'\n",
      " 'LIDC-IDRI-0276' 'LIDC-IDRI-0277' 'LIDC-IDRI-0278' 'LIDC-IDRI-0280'\n",
      " 'LIDC-IDRI-0281' 'LIDC-IDRI-0282' 'LIDC-IDRI-0283' 'LIDC-IDRI-0284'\n",
      " 'LIDC-IDRI-0285' 'LIDC-IDRI-0286' 'LIDC-IDRI-0287' 'LIDC-IDRI-0288'\n",
      " 'LIDC-IDRI-0289' 'LIDC-IDRI-0290' 'LIDC-IDRI-0291' 'LIDC-IDRI-0292'\n",
      " 'LIDC-IDRI-0294' 'LIDC-IDRI-0296' 'LIDC-IDRI-0297' 'LIDC-IDRI-0298'\n",
      " 'LIDC-IDRI-0299' 'LIDC-IDRI-0300' 'LIDC-IDRI-0301' 'LIDC-IDRI-0302'\n",
      " 'LIDC-IDRI-0303' 'LIDC-IDRI-0304' 'LIDC-IDRI-0305' 'LIDC-IDRI-0308'\n",
      " 'LIDC-IDRI-0309' 'LIDC-IDRI-0310' 'LIDC-IDRI-0311' 'LIDC-IDRI-0312'\n",
      " 'LIDC-IDRI-0313' 'LIDC-IDRI-0314' 'LIDC-IDRI-0315' 'LIDC-IDRI-0317'\n",
      " 'LIDC-IDRI-0318' 'LIDC-IDRI-0319' 'LIDC-IDRI-0320' 'LIDC-IDRI-0321'\n",
      " 'LIDC-IDRI-0323' 'LIDC-IDRI-0324' 'LIDC-IDRI-0325' 'LIDC-IDRI-0326'\n",
      " 'LIDC-IDRI-0328' 'LIDC-IDRI-0329' 'LIDC-IDRI-0332' 'LIDC-IDRI-0334'\n",
      " 'LIDC-IDRI-0335' 'LIDC-IDRI-0337' 'LIDC-IDRI-0338' 'LIDC-IDRI-0339'\n",
      " 'LIDC-IDRI-0340' 'LIDC-IDRI-0341' 'LIDC-IDRI-0343' 'LIDC-IDRI-0344'\n",
      " 'LIDC-IDRI-0345' 'LIDC-IDRI-0346' 'LIDC-IDRI-0347' 'LIDC-IDRI-0348'\n",
      " 'LIDC-IDRI-0350' 'LIDC-IDRI-0351' 'LIDC-IDRI-0352' 'LIDC-IDRI-0353'\n",
      " 'LIDC-IDRI-0354' 'LIDC-IDRI-0355' 'LIDC-IDRI-0356' 'LIDC-IDRI-0357'\n",
      " 'LIDC-IDRI-0358' 'LIDC-IDRI-0359' 'LIDC-IDRI-0360' 'LIDC-IDRI-0362'\n",
      " 'LIDC-IDRI-0363' 'LIDC-IDRI-0365' 'LIDC-IDRI-0366' 'LIDC-IDRI-0367'\n",
      " 'LIDC-IDRI-0368' 'LIDC-IDRI-0369' 'LIDC-IDRI-0370' 'LIDC-IDRI-0371'\n",
      " 'LIDC-IDRI-0372' 'LIDC-IDRI-0373' 'LIDC-IDRI-0374' 'LIDC-IDRI-0375'\n",
      " 'LIDC-IDRI-0376' 'LIDC-IDRI-0377' 'LIDC-IDRI-0378' 'LIDC-IDRI-0379'\n",
      " 'LIDC-IDRI-0380' 'LIDC-IDRI-0381' 'LIDC-IDRI-0384' 'LIDC-IDRI-0385'\n",
      " 'LIDC-IDRI-0386' 'LIDC-IDRI-0387' 'LIDC-IDRI-0388' 'LIDC-IDRI-0390'\n",
      " 'LIDC-IDRI-0392' 'LIDC-IDRI-0393' 'LIDC-IDRI-0394' 'LIDC-IDRI-0395'\n",
      " 'LIDC-IDRI-0396' 'LIDC-IDRI-0397' 'LIDC-IDRI-0398' 'LIDC-IDRI-0399'\n",
      " 'LIDC-IDRI-0400' 'LIDC-IDRI-0402' 'LIDC-IDRI-0403' 'LIDC-IDRI-0404'\n",
      " 'LIDC-IDRI-0405' 'LIDC-IDRI-0406' 'LIDC-IDRI-0407' 'LIDC-IDRI-0408'\n",
      " 'LIDC-IDRI-0409' 'LIDC-IDRI-0411' 'LIDC-IDRI-0412' 'LIDC-IDRI-0413'\n",
      " 'LIDC-IDRI-0414' 'LIDC-IDRI-0415' 'LIDC-IDRI-0416' 'LIDC-IDRI-0419'\n",
      " 'LIDC-IDRI-0420' 'LIDC-IDRI-0421' 'LIDC-IDRI-0423' 'LIDC-IDRI-0424'\n",
      " 'LIDC-IDRI-0426' 'LIDC-IDRI-0427' 'LIDC-IDRI-0429' 'LIDC-IDRI-0430'\n",
      " 'LIDC-IDRI-0431' 'LIDC-IDRI-0432' 'LIDC-IDRI-0433' 'LIDC-IDRI-0434'\n",
      " 'LIDC-IDRI-0435' 'LIDC-IDRI-0436' 'LIDC-IDRI-0437' 'LIDC-IDRI-0438'\n",
      " 'LIDC-IDRI-0439' 'LIDC-IDRI-0440' 'LIDC-IDRI-0442' 'LIDC-IDRI-0443'\n",
      " 'LIDC-IDRI-0444' 'LIDC-IDRI-0445' 'LIDC-IDRI-0447' 'LIDC-IDRI-0448'\n",
      " 'LIDC-IDRI-0449' 'LIDC-IDRI-0450' 'LIDC-IDRI-0451' 'LIDC-IDRI-0452'\n",
      " 'LIDC-IDRI-0453' 'LIDC-IDRI-0454' 'LIDC-IDRI-0456' 'LIDC-IDRI-0457'\n",
      " 'LIDC-IDRI-0458' 'LIDC-IDRI-0459' 'LIDC-IDRI-0460' 'LIDC-IDRI-0461'\n",
      " 'LIDC-IDRI-0462' 'LIDC-IDRI-0463' 'LIDC-IDRI-0464' 'LIDC-IDRI-0466'\n",
      " 'LIDC-IDRI-0467' 'LIDC-IDRI-0468' 'LIDC-IDRI-0469' 'LIDC-IDRI-0470'\n",
      " 'LIDC-IDRI-0471' 'LIDC-IDRI-0473' 'LIDC-IDRI-0474' 'LIDC-IDRI-0475'\n",
      " 'LIDC-IDRI-0476' 'LIDC-IDRI-0477' 'LIDC-IDRI-0478' 'LIDC-IDRI-0479'\n",
      " 'LIDC-IDRI-0480' 'LIDC-IDRI-0481' 'LIDC-IDRI-0483' 'LIDC-IDRI-0484'\n",
      " 'LIDC-IDRI-0485' 'LIDC-IDRI-0486' 'LIDC-IDRI-0487' 'LIDC-IDRI-0488'\n",
      " 'LIDC-IDRI-0489' 'LIDC-IDRI-0490' 'LIDC-IDRI-0491' 'LIDC-IDRI-0492'\n",
      " 'LIDC-IDRI-0493' 'LIDC-IDRI-0494' 'LIDC-IDRI-0495' 'LIDC-IDRI-0496'\n",
      " 'LIDC-IDRI-0497' 'LIDC-IDRI-0498' 'LIDC-IDRI-0499' 'LIDC-IDRI-0500'\n",
      " 'LIDC-IDRI-0501' 'LIDC-IDRI-0502' 'LIDC-IDRI-0503' 'LIDC-IDRI-0504'\n",
      " 'LIDC-IDRI-0505' 'LIDC-IDRI-0507' 'LIDC-IDRI-0508' 'LIDC-IDRI-0509'\n",
      " 'LIDC-IDRI-0510' 'LIDC-IDRI-0515' 'LIDC-IDRI-0516' 'LIDC-IDRI-0517'\n",
      " 'LIDC-IDRI-0518' 'LIDC-IDRI-0520' 'LIDC-IDRI-0521' 'LIDC-IDRI-0522'\n",
      " 'LIDC-IDRI-0523' 'LIDC-IDRI-0524' 'LIDC-IDRI-0525' 'LIDC-IDRI-0526'\n",
      " 'LIDC-IDRI-0527' 'LIDC-IDRI-0529' 'LIDC-IDRI-0530' 'LIDC-IDRI-0532'\n",
      " 'LIDC-IDRI-0533' 'LIDC-IDRI-0534' 'LIDC-IDRI-0535' 'LIDC-IDRI-0537'\n",
      " 'LIDC-IDRI-0538' 'LIDC-IDRI-0539' 'LIDC-IDRI-0541' 'LIDC-IDRI-0542'\n",
      " 'LIDC-IDRI-0543' 'LIDC-IDRI-0545' 'LIDC-IDRI-0546' 'LIDC-IDRI-0547'\n",
      " 'LIDC-IDRI-0549' 'LIDC-IDRI-0550' 'LIDC-IDRI-0551' 'LIDC-IDRI-0552'\n",
      " 'LIDC-IDRI-0553' 'LIDC-IDRI-0554' 'LIDC-IDRI-0555' 'LIDC-IDRI-0556'\n",
      " 'LIDC-IDRI-0557' 'LIDC-IDRI-0558' 'LIDC-IDRI-0559' 'LIDC-IDRI-0560'\n",
      " 'LIDC-IDRI-0562' 'LIDC-IDRI-0563' 'LIDC-IDRI-0565' 'LIDC-IDRI-0566'\n",
      " 'LIDC-IDRI-0567' 'LIDC-IDRI-0568' 'LIDC-IDRI-0569' 'LIDC-IDRI-0570'\n",
      " 'LIDC-IDRI-0571' 'LIDC-IDRI-0572' 'LIDC-IDRI-0574' 'LIDC-IDRI-0575'\n",
      " 'LIDC-IDRI-0576' 'LIDC-IDRI-0577' 'LIDC-IDRI-0578' 'LIDC-IDRI-0579'\n",
      " 'LIDC-IDRI-0580' 'LIDC-IDRI-0581' 'LIDC-IDRI-0582' 'LIDC-IDRI-0583'\n",
      " 'LIDC-IDRI-0584' 'LIDC-IDRI-0586' 'LIDC-IDRI-0587' 'LIDC-IDRI-0588'\n",
      " 'LIDC-IDRI-0590' 'LIDC-IDRI-0591' 'LIDC-IDRI-0592' 'LIDC-IDRI-0593'\n",
      " 'LIDC-IDRI-0594' 'LIDC-IDRI-0595' 'LIDC-IDRI-0596' 'LIDC-IDRI-0597'\n",
      " 'LIDC-IDRI-0598' 'LIDC-IDRI-0599' 'LIDC-IDRI-0601' 'LIDC-IDRI-0602'\n",
      " 'LIDC-IDRI-0604' 'LIDC-IDRI-0605' 'LIDC-IDRI-0606' 'LIDC-IDRI-0607'\n",
      " 'LIDC-IDRI-0608' 'LIDC-IDRI-0609' 'LIDC-IDRI-0610' 'LIDC-IDRI-0611'\n",
      " 'LIDC-IDRI-0613' 'LIDC-IDRI-0614' 'LIDC-IDRI-0615' 'LIDC-IDRI-0617'\n",
      " 'LIDC-IDRI-0618' 'LIDC-IDRI-0619' 'LIDC-IDRI-0620' 'LIDC-IDRI-0621'\n",
      " 'LIDC-IDRI-0624' 'LIDC-IDRI-0625' 'LIDC-IDRI-0626' 'LIDC-IDRI-0628'\n",
      " 'LIDC-IDRI-0629' 'LIDC-IDRI-0630' 'LIDC-IDRI-0631' 'LIDC-IDRI-0633'\n",
      " 'LIDC-IDRI-0634' 'LIDC-IDRI-0635' 'LIDC-IDRI-0636' 'LIDC-IDRI-0637'\n",
      " 'LIDC-IDRI-0638' 'LIDC-IDRI-0639' 'LIDC-IDRI-0640' 'LIDC-IDRI-0641'\n",
      " 'LIDC-IDRI-0642' 'LIDC-IDRI-0643' 'LIDC-IDRI-0644' 'LIDC-IDRI-0645'\n",
      " 'LIDC-IDRI-0647' 'LIDC-IDRI-0648' 'LIDC-IDRI-0649' 'LIDC-IDRI-0650'\n",
      " 'LIDC-IDRI-0651' 'LIDC-IDRI-0652' 'LIDC-IDRI-0654' 'LIDC-IDRI-0655'\n",
      " 'LIDC-IDRI-0656' 'LIDC-IDRI-0657' 'LIDC-IDRI-0658' 'LIDC-IDRI-0659'\n",
      " 'LIDC-IDRI-0660' 'LIDC-IDRI-0661' 'LIDC-IDRI-0662' 'LIDC-IDRI-0663'\n",
      " 'LIDC-IDRI-0664' 'LIDC-IDRI-0666' 'LIDC-IDRI-0669' 'LIDC-IDRI-0670'\n",
      " 'LIDC-IDRI-0671' 'LIDC-IDRI-0672' 'LIDC-IDRI-0673' 'LIDC-IDRI-0674'\n",
      " 'LIDC-IDRI-0675' 'LIDC-IDRI-0676' 'LIDC-IDRI-0677' 'LIDC-IDRI-0678'\n",
      " 'LIDC-IDRI-0680' 'LIDC-IDRI-0681' 'LIDC-IDRI-0682' 'LIDC-IDRI-0684'\n",
      " 'LIDC-IDRI-0686' 'LIDC-IDRI-0687' 'LIDC-IDRI-0688' 'LIDC-IDRI-0692'\n",
      " 'LIDC-IDRI-0693' 'LIDC-IDRI-0694' 'LIDC-IDRI-0695' 'LIDC-IDRI-0696'\n",
      " 'LIDC-IDRI-0697' 'LIDC-IDRI-0698' 'LIDC-IDRI-0699' 'LIDC-IDRI-0700'\n",
      " 'LIDC-IDRI-0701' 'LIDC-IDRI-0702' 'LIDC-IDRI-0703' 'LIDC-IDRI-0704'\n",
      " 'LIDC-IDRI-0705' 'LIDC-IDRI-0706' 'LIDC-IDRI-0707' 'LIDC-IDRI-0708'\n",
      " 'LIDC-IDRI-0709' 'LIDC-IDRI-0712' 'LIDC-IDRI-0713' 'LIDC-IDRI-0714'\n",
      " 'LIDC-IDRI-0715' 'LIDC-IDRI-0717' 'LIDC-IDRI-0719' 'LIDC-IDRI-0720'\n",
      " 'LIDC-IDRI-0721' 'LIDC-IDRI-0722' 'LIDC-IDRI-0723' 'LIDC-IDRI-0724'\n",
      " 'LIDC-IDRI-0725' 'LIDC-IDRI-0726' 'LIDC-IDRI-0727' 'LIDC-IDRI-0728'\n",
      " 'LIDC-IDRI-0729' 'LIDC-IDRI-0730' 'LIDC-IDRI-0732' 'LIDC-IDRI-0733'\n",
      " 'LIDC-IDRI-0734' 'LIDC-IDRI-0735' 'LIDC-IDRI-0736' 'LIDC-IDRI-0739'\n",
      " 'LIDC-IDRI-0740' 'LIDC-IDRI-0741' 'LIDC-IDRI-0742' 'LIDC-IDRI-0743'\n",
      " 'LIDC-IDRI-0744' 'LIDC-IDRI-0747' 'LIDC-IDRI-0748' 'LIDC-IDRI-0749'\n",
      " 'LIDC-IDRI-0750' 'LIDC-IDRI-0751' 'LIDC-IDRI-0752' 'LIDC-IDRI-0753'\n",
      " 'LIDC-IDRI-0754' 'LIDC-IDRI-0756' 'LIDC-IDRI-0757' 'LIDC-IDRI-0758'\n",
      " 'LIDC-IDRI-0759' 'LIDC-IDRI-0761' 'LIDC-IDRI-0762' 'LIDC-IDRI-0763'\n",
      " 'LIDC-IDRI-0765' 'LIDC-IDRI-0766' 'LIDC-IDRI-0767' 'LIDC-IDRI-0768'\n",
      " 'LIDC-IDRI-0769' 'LIDC-IDRI-0770' 'LIDC-IDRI-0771' 'LIDC-IDRI-0772'\n",
      " 'LIDC-IDRI-0773' 'LIDC-IDRI-0775' 'LIDC-IDRI-0776' 'LIDC-IDRI-0777'\n",
      " 'LIDC-IDRI-0778' 'LIDC-IDRI-0779' 'LIDC-IDRI-0780' 'LIDC-IDRI-0781'\n",
      " 'LIDC-IDRI-0782' 'LIDC-IDRI-0783' 'LIDC-IDRI-0785' 'LIDC-IDRI-0786'\n",
      " 'LIDC-IDRI-0787' 'LIDC-IDRI-0788' 'LIDC-IDRI-0789' 'LIDC-IDRI-0790'\n",
      " 'LIDC-IDRI-0791' 'LIDC-IDRI-0792' 'LIDC-IDRI-0793' 'LIDC-IDRI-0794'\n",
      " 'LIDC-IDRI-0795' 'LIDC-IDRI-0796' 'LIDC-IDRI-0797' 'LIDC-IDRI-0798'\n",
      " 'LIDC-IDRI-0799' 'LIDC-IDRI-0800' 'LIDC-IDRI-0801' 'LIDC-IDRI-0802'\n",
      " 'LIDC-IDRI-0803' 'LIDC-IDRI-0805' 'LIDC-IDRI-0806' 'LIDC-IDRI-0807'\n",
      " 'LIDC-IDRI-0809' 'LIDC-IDRI-0810' 'LIDC-IDRI-0811' 'LIDC-IDRI-0812'\n",
      " 'LIDC-IDRI-0813' 'LIDC-IDRI-0814' 'LIDC-IDRI-0815' 'LIDC-IDRI-0816'\n",
      " 'LIDC-IDRI-0817' 'LIDC-IDRI-0818' 'LIDC-IDRI-0819' 'LIDC-IDRI-0820'\n",
      " 'LIDC-IDRI-0821' 'LIDC-IDRI-0822' 'LIDC-IDRI-0823' 'LIDC-IDRI-0824'\n",
      " 'LIDC-IDRI-0825' 'LIDC-IDRI-0826' 'LIDC-IDRI-0827' 'LIDC-IDRI-0828'\n",
      " 'LIDC-IDRI-0829' 'LIDC-IDRI-0830' 'LIDC-IDRI-0831' 'LIDC-IDRI-0832'\n",
      " 'LIDC-IDRI-0833' 'LIDC-IDRI-0834' 'LIDC-IDRI-0835' 'LIDC-IDRI-0836'\n",
      " 'LIDC-IDRI-0837' 'LIDC-IDRI-0838' 'LIDC-IDRI-0840' 'LIDC-IDRI-0841'\n",
      " 'LIDC-IDRI-0842' 'LIDC-IDRI-0843' 'LIDC-IDRI-0844' 'LIDC-IDRI-0845'\n",
      " 'LIDC-IDRI-0846' 'LIDC-IDRI-0847' 'LIDC-IDRI-0848' 'LIDC-IDRI-0849'\n",
      " 'LIDC-IDRI-0850' 'LIDC-IDRI-0851' 'LIDC-IDRI-0852' 'LIDC-IDRI-0854'\n",
      " 'LIDC-IDRI-0855' 'LIDC-IDRI-0856' 'LIDC-IDRI-0857' 'LIDC-IDRI-0858'\n",
      " 'LIDC-IDRI-0859' 'LIDC-IDRI-0860' 'LIDC-IDRI-0861' 'LIDC-IDRI-0863'\n",
      " 'LIDC-IDRI-0864' 'LIDC-IDRI-0865' 'LIDC-IDRI-0866' 'LIDC-IDRI-0867'\n",
      " 'LIDC-IDRI-0868' 'LIDC-IDRI-0869' 'LIDC-IDRI-0870' 'LIDC-IDRI-0871'\n",
      " 'LIDC-IDRI-0872' 'LIDC-IDRI-0873' 'LIDC-IDRI-0874' 'LIDC-IDRI-0875'\n",
      " 'LIDC-IDRI-0879' 'LIDC-IDRI-0880' 'LIDC-IDRI-0882' 'LIDC-IDRI-0883'\n",
      " 'LIDC-IDRI-0884' 'LIDC-IDRI-0886' 'LIDC-IDRI-0888' 'LIDC-IDRI-0890'\n",
      " 'LIDC-IDRI-0892' 'LIDC-IDRI-0893' 'LIDC-IDRI-0894' 'LIDC-IDRI-0895'\n",
      " 'LIDC-IDRI-0896' 'LIDC-IDRI-0898' 'LIDC-IDRI-0899' 'LIDC-IDRI-0902'\n",
      " 'LIDC-IDRI-0904' 'LIDC-IDRI-0905' 'LIDC-IDRI-0906' 'LIDC-IDRI-0907'\n",
      " 'LIDC-IDRI-0908' 'LIDC-IDRI-0909' 'LIDC-IDRI-0910' 'LIDC-IDRI-0911'\n",
      " 'LIDC-IDRI-0912' 'LIDC-IDRI-0913' 'LIDC-IDRI-0914' 'LIDC-IDRI-0915'\n",
      " 'LIDC-IDRI-0916' 'LIDC-IDRI-0917' 'LIDC-IDRI-0919' 'LIDC-IDRI-0920'\n",
      " 'LIDC-IDRI-0921' 'LIDC-IDRI-0922' 'LIDC-IDRI-0923' 'LIDC-IDRI-0924'\n",
      " 'LIDC-IDRI-0925' 'LIDC-IDRI-0926' 'LIDC-IDRI-0928' 'LIDC-IDRI-0929'\n",
      " 'LIDC-IDRI-0932' 'LIDC-IDRI-0933' 'LIDC-IDRI-0935' 'LIDC-IDRI-0936'\n",
      " 'LIDC-IDRI-0938' 'LIDC-IDRI-0939' 'LIDC-IDRI-0940' 'LIDC-IDRI-0941'\n",
      " 'LIDC-IDRI-0942' 'LIDC-IDRI-0943' 'LIDC-IDRI-0944' 'LIDC-IDRI-0945'\n",
      " 'LIDC-IDRI-0946' 'LIDC-IDRI-0947' 'LIDC-IDRI-0949' 'LIDC-IDRI-0950'\n",
      " 'LIDC-IDRI-0951' 'LIDC-IDRI-0953' 'LIDC-IDRI-0955' 'LIDC-IDRI-0956'\n",
      " 'LIDC-IDRI-0957' 'LIDC-IDRI-0958' 'LIDC-IDRI-0959' 'LIDC-IDRI-0961'\n",
      " 'LIDC-IDRI-0962' 'LIDC-IDRI-0963' 'LIDC-IDRI-0965' 'LIDC-IDRI-0966'\n",
      " 'LIDC-IDRI-0968' 'LIDC-IDRI-0969' 'LIDC-IDRI-0971' 'LIDC-IDRI-0972'\n",
      " 'LIDC-IDRI-0973' 'LIDC-IDRI-0974' 'LIDC-IDRI-0976' 'LIDC-IDRI-0977'\n",
      " 'LIDC-IDRI-0978' 'LIDC-IDRI-0980' 'LIDC-IDRI-0981' 'LIDC-IDRI-0982'\n",
      " 'LIDC-IDRI-0983' 'LIDC-IDRI-0984' 'LIDC-IDRI-0985' 'LIDC-IDRI-0986'\n",
      " 'LIDC-IDRI-0987' 'LIDC-IDRI-0989' 'LIDC-IDRI-0990' 'LIDC-IDRI-0991'\n",
      " 'LIDC-IDRI-0993' 'LIDC-IDRI-0994' 'LIDC-IDRI-0996' 'LIDC-IDRI-0997'\n",
      " 'LIDC-IDRI-0998' 'LIDC-IDRI-0999' 'LIDC-IDRI-1000' 'LIDC-IDRI-1001'\n",
      " 'LIDC-IDRI-1002' 'LIDC-IDRI-1003' 'LIDC-IDRI-1004' 'LIDC-IDRI-1005'\n",
      " 'LIDC-IDRI-1006' 'LIDC-IDRI-1007' 'LIDC-IDRI-1008' 'LIDC-IDRI-1009'\n",
      " 'LIDC-IDRI-1010' 'LIDC-IDRI-1011' 'LIDC-IDRI-1012']\n",
      "['LIDC-IDRI-0001' 'LIDC-IDRI-0002' 'LIDC-IDRI-0003' 'LIDC-IDRI-0004'\n",
      " 'LIDC-IDRI-0005' 'LIDC-IDRI-0006' 'LIDC-IDRI-0007' 'LIDC-IDRI-0008'\n",
      " 'LIDC-IDRI-0009' 'LIDC-IDRI-0010' 'LIDC-IDRI-0011' 'LIDC-IDRI-0012'\n",
      " 'LIDC-IDRI-0013' 'LIDC-IDRI-0014' 'LIDC-IDRI-0015' 'LIDC-IDRI-0016'\n",
      " 'LIDC-IDRI-0017' 'LIDC-IDRI-0018' 'LIDC-IDRI-0019' 'LIDC-IDRI-0020'\n",
      " 'LIDC-IDRI-0021' 'LIDC-IDRI-0022' 'LIDC-IDRI-0023' 'LIDC-IDRI-0024'\n",
      " 'LIDC-IDRI-0025' 'LIDC-IDRI-0026' 'LIDC-IDRI-0027' 'LIDC-IDRI-0029'\n",
      " 'LIDC-IDRI-0030' 'LIDC-IDRI-0031' 'LIDC-IDRI-0033' 'LIDC-IDRI-0034'\n",
      " 'LIDC-IDRI-0035' 'LIDC-IDRI-0036' 'LIDC-IDRI-0037' 'LIDC-IDRI-0038'\n",
      " 'LIDC-IDRI-0039' 'LIDC-IDRI-0040' 'LIDC-IDRI-0041' 'LIDC-IDRI-0042'\n",
      " 'LIDC-IDRI-0043' 'LIDC-IDRI-0044' 'LIDC-IDRI-0045' 'LIDC-IDRI-0046'\n",
      " 'LIDC-IDRI-0047' 'LIDC-IDRI-0048' 'LIDC-IDRI-0049' 'LIDC-IDRI-0050'\n",
      " 'LIDC-IDRI-0051' 'LIDC-IDRI-0052' 'LIDC-IDRI-0053' 'LIDC-IDRI-0054'\n",
      " 'LIDC-IDRI-0055' 'LIDC-IDRI-0056' 'LIDC-IDRI-0057' 'LIDC-IDRI-0058'\n",
      " 'LIDC-IDRI-0059' 'LIDC-IDRI-0060' 'LIDC-IDRI-0061' 'LIDC-IDRI-0063'\n",
      " 'LIDC-IDRI-0064' 'LIDC-IDRI-0065' 'LIDC-IDRI-0066' 'LIDC-IDRI-0067'\n",
      " 'LIDC-IDRI-0068' 'LIDC-IDRI-0069' 'LIDC-IDRI-0070' 'LIDC-IDRI-0072'\n",
      " 'LIDC-IDRI-0073' 'LIDC-IDRI-0074' 'LIDC-IDRI-0075' 'LIDC-IDRI-0076'\n",
      " 'LIDC-IDRI-0077' 'LIDC-IDRI-0078' 'LIDC-IDRI-0079' 'LIDC-IDRI-0080'\n",
      " 'LIDC-IDRI-0081' 'LIDC-IDRI-0082' 'LIDC-IDRI-0083' 'LIDC-IDRI-0084'\n",
      " 'LIDC-IDRI-0085' 'LIDC-IDRI-0086' 'LIDC-IDRI-0087' 'LIDC-IDRI-0088'\n",
      " 'LIDC-IDRI-0089' 'LIDC-IDRI-0090' 'LIDC-IDRI-0091' 'LIDC-IDRI-0092'\n",
      " 'LIDC-IDRI-0093' 'LIDC-IDRI-0094' 'LIDC-IDRI-0095' 'LIDC-IDRI-0096'\n",
      " 'LIDC-IDRI-0097' 'LIDC-IDRI-0098' 'LIDC-IDRI-0099' 'LIDC-IDRI-0101'\n",
      " 'LIDC-IDRI-0102' 'LIDC-IDRI-0103' 'LIDC-IDRI-0104' 'LIDC-IDRI-0105'\n",
      " 'LIDC-IDRI-0106' 'LIDC-IDRI-0107' 'LIDC-IDRI-0108' 'LIDC-IDRI-0109'\n",
      " 'LIDC-IDRI-0110' 'LIDC-IDRI-0111' 'LIDC-IDRI-0112' 'LIDC-IDRI-0113'\n",
      " 'LIDC-IDRI-0114' 'LIDC-IDRI-0115' 'LIDC-IDRI-0116' 'LIDC-IDRI-0117'\n",
      " 'LIDC-IDRI-0118' 'LIDC-IDRI-0119' 'LIDC-IDRI-0120' 'LIDC-IDRI-0121'\n",
      " 'LIDC-IDRI-0122' 'LIDC-IDRI-0123' 'LIDC-IDRI-0124' 'LIDC-IDRI-0125'\n",
      " 'LIDC-IDRI-0126' 'LIDC-IDRI-0127' 'LIDC-IDRI-0128' 'LIDC-IDRI-0129'\n",
      " 'LIDC-IDRI-0130' 'LIDC-IDRI-0131' 'LIDC-IDRI-0132' 'LIDC-IDRI-0133'\n",
      " 'LIDC-IDRI-0134' 'LIDC-IDRI-0135' 'LIDC-IDRI-0136' 'LIDC-IDRI-0137'\n",
      " 'LIDC-IDRI-0138' 'LIDC-IDRI-0139' 'LIDC-IDRI-0140' 'LIDC-IDRI-0141'\n",
      " 'LIDC-IDRI-0142' 'LIDC-IDRI-0144' 'LIDC-IDRI-0145' 'LIDC-IDRI-0146'\n",
      " 'LIDC-IDRI-0147' 'LIDC-IDRI-0148' 'LIDC-IDRI-0149' 'LIDC-IDRI-0150'\n",
      " 'LIDC-IDRI-0151' 'LIDC-IDRI-0152' 'LIDC-IDRI-0153' 'LIDC-IDRI-0154'\n",
      " 'LIDC-IDRI-0155' 'LIDC-IDRI-0156' 'LIDC-IDRI-0157' 'LIDC-IDRI-0158'\n",
      " 'LIDC-IDRI-0159' 'LIDC-IDRI-0160' 'LIDC-IDRI-0161' 'LIDC-IDRI-0162'\n",
      " 'LIDC-IDRI-0163' 'LIDC-IDRI-0164' 'LIDC-IDRI-0165' 'LIDC-IDRI-0166'\n",
      " 'LIDC-IDRI-0167' 'LIDC-IDRI-0168' 'LIDC-IDRI-0169' 'LIDC-IDRI-0170'\n",
      " 'LIDC-IDRI-0171' 'LIDC-IDRI-0172' 'LIDC-IDRI-0173' 'LIDC-IDRI-0175'\n",
      " 'LIDC-IDRI-0176' 'LIDC-IDRI-0177' 'LIDC-IDRI-0178' 'LIDC-IDRI-0179'\n",
      " 'LIDC-IDRI-0180' 'LIDC-IDRI-0181' 'LIDC-IDRI-0182' 'LIDC-IDRI-0183'\n",
      " 'LIDC-IDRI-0184' 'LIDC-IDRI-0185' 'LIDC-IDRI-0186' 'LIDC-IDRI-0187'\n",
      " 'LIDC-IDRI-0188' 'LIDC-IDRI-0190' 'LIDC-IDRI-0191' 'LIDC-IDRI-0192'\n",
      " 'LIDC-IDRI-0193' 'LIDC-IDRI-0194' 'LIDC-IDRI-0195' 'LIDC-IDRI-0196'\n",
      " 'LIDC-IDRI-0198' 'LIDC-IDRI-0199' 'LIDC-IDRI-0200' 'LIDC-IDRI-0201'\n",
      " 'LIDC-IDRI-0202' 'LIDC-IDRI-0203' 'LIDC-IDRI-0204' 'LIDC-IDRI-0206'\n",
      " 'LIDC-IDRI-0207' 'LIDC-IDRI-0208' 'LIDC-IDRI-0209' 'LIDC-IDRI-0210'\n",
      " 'LIDC-IDRI-0211' 'LIDC-IDRI-0212' 'LIDC-IDRI-0213' 'LIDC-IDRI-0215'\n",
      " 'LIDC-IDRI-0216' 'LIDC-IDRI-0217' 'LIDC-IDRI-0219' 'LIDC-IDRI-0220'\n",
      " 'LIDC-IDRI-0221' 'LIDC-IDRI-0222' 'LIDC-IDRI-0223' 'LIDC-IDRI-0227'\n",
      " 'LIDC-IDRI-0228' 'LIDC-IDRI-0229' 'LIDC-IDRI-0230' 'LIDC-IDRI-0231'\n",
      " 'LIDC-IDRI-0232' 'LIDC-IDRI-0233' 'LIDC-IDRI-0234' 'LIDC-IDRI-0235'\n",
      " 'LIDC-IDRI-0236' 'LIDC-IDRI-0237' 'LIDC-IDRI-0240' 'LIDC-IDRI-0241'\n",
      " 'LIDC-IDRI-0242' 'LIDC-IDRI-0243' 'LIDC-IDRI-0244' 'LIDC-IDRI-0245'\n",
      " 'LIDC-IDRI-0246' 'LIDC-IDRI-0247' 'LIDC-IDRI-0248' 'LIDC-IDRI-0249'\n",
      " 'LIDC-IDRI-0250' 'LIDC-IDRI-0251' 'LIDC-IDRI-0252' 'LIDC-IDRI-0254'\n",
      " 'LIDC-IDRI-0255' 'LIDC-IDRI-0256' 'LIDC-IDRI-0257' 'LIDC-IDRI-0258'\n",
      " 'LIDC-IDRI-0259' 'LIDC-IDRI-0260' 'LIDC-IDRI-0262' 'LIDC-IDRI-0263'\n",
      " 'LIDC-IDRI-0264' 'LIDC-IDRI-0265' 'LIDC-IDRI-0266' 'LIDC-IDRI-0267'\n",
      " 'LIDC-IDRI-0268' 'LIDC-IDRI-0269' 'LIDC-IDRI-0270' 'LIDC-IDRI-0271'\n",
      " 'LIDC-IDRI-0272' 'LIDC-IDRI-0273' 'LIDC-IDRI-0274' 'LIDC-IDRI-0275'\n",
      " 'LIDC-IDRI-0276' 'LIDC-IDRI-0277' 'LIDC-IDRI-0278' 'LIDC-IDRI-0280'\n",
      " 'LIDC-IDRI-0281' 'LIDC-IDRI-0282' 'LIDC-IDRI-0283' 'LIDC-IDRI-0284'\n",
      " 'LIDC-IDRI-0285' 'LIDC-IDRI-0286' 'LIDC-IDRI-0287' 'LIDC-IDRI-0288'\n",
      " 'LIDC-IDRI-0289' 'LIDC-IDRI-0290' 'LIDC-IDRI-0291' 'LIDC-IDRI-0292'\n",
      " 'LIDC-IDRI-0294' 'LIDC-IDRI-0296' 'LIDC-IDRI-0297' 'LIDC-IDRI-0298'\n",
      " 'LIDC-IDRI-0299' 'LIDC-IDRI-0300' 'LIDC-IDRI-0301' 'LIDC-IDRI-0302'\n",
      " 'LIDC-IDRI-0303' 'LIDC-IDRI-0304' 'LIDC-IDRI-0305' 'LIDC-IDRI-0308'\n",
      " 'LIDC-IDRI-0309' 'LIDC-IDRI-0310' 'LIDC-IDRI-0311' 'LIDC-IDRI-0312'\n",
      " 'LIDC-IDRI-0313' 'LIDC-IDRI-0314' 'LIDC-IDRI-0315' 'LIDC-IDRI-0317'\n",
      " 'LIDC-IDRI-0318' 'LIDC-IDRI-0319' 'LIDC-IDRI-0320' 'LIDC-IDRI-0321'\n",
      " 'LIDC-IDRI-0323' 'LIDC-IDRI-0324' 'LIDC-IDRI-0325' 'LIDC-IDRI-0326'\n",
      " 'LIDC-IDRI-0328' 'LIDC-IDRI-0329' 'LIDC-IDRI-0332' 'LIDC-IDRI-0334'\n",
      " 'LIDC-IDRI-0335' 'LIDC-IDRI-0337' 'LIDC-IDRI-0338' 'LIDC-IDRI-0339'\n",
      " 'LIDC-IDRI-0340' 'LIDC-IDRI-0341' 'LIDC-IDRI-0343' 'LIDC-IDRI-0344'\n",
      " 'LIDC-IDRI-0345' 'LIDC-IDRI-0346' 'LIDC-IDRI-0347' 'LIDC-IDRI-0348'\n",
      " 'LIDC-IDRI-0350' 'LIDC-IDRI-0351' 'LIDC-IDRI-0352' 'LIDC-IDRI-0353'\n",
      " 'LIDC-IDRI-0354' 'LIDC-IDRI-0355' 'LIDC-IDRI-0356' 'LIDC-IDRI-0357'\n",
      " 'LIDC-IDRI-0358' 'LIDC-IDRI-0359' 'LIDC-IDRI-0360' 'LIDC-IDRI-0362'\n",
      " 'LIDC-IDRI-0363' 'LIDC-IDRI-0365' 'LIDC-IDRI-0366' 'LIDC-IDRI-0367'\n",
      " 'LIDC-IDRI-0368' 'LIDC-IDRI-0369' 'LIDC-IDRI-0370' 'LIDC-IDRI-0371'\n",
      " 'LIDC-IDRI-0372' 'LIDC-IDRI-0373' 'LIDC-IDRI-0374' 'LIDC-IDRI-0375'\n",
      " 'LIDC-IDRI-0376' 'LIDC-IDRI-0377' 'LIDC-IDRI-0378' 'LIDC-IDRI-0379'\n",
      " 'LIDC-IDRI-0380' 'LIDC-IDRI-0381' 'LIDC-IDRI-0384' 'LIDC-IDRI-0385'\n",
      " 'LIDC-IDRI-0386' 'LIDC-IDRI-0387' 'LIDC-IDRI-0388' 'LIDC-IDRI-0390'\n",
      " 'LIDC-IDRI-0392' 'LIDC-IDRI-0393' 'LIDC-IDRI-0394' 'LIDC-IDRI-0395'\n",
      " 'LIDC-IDRI-0396' 'LIDC-IDRI-0397' 'LIDC-IDRI-0398' 'LIDC-IDRI-0399'\n",
      " 'LIDC-IDRI-0400' 'LIDC-IDRI-0402' 'LIDC-IDRI-0403' 'LIDC-IDRI-0404'\n",
      " 'LIDC-IDRI-0405' 'LIDC-IDRI-0406' 'LIDC-IDRI-0407' 'LIDC-IDRI-0408'\n",
      " 'LIDC-IDRI-0409' 'LIDC-IDRI-0411' 'LIDC-IDRI-0412' 'LIDC-IDRI-0413'\n",
      " 'LIDC-IDRI-0414' 'LIDC-IDRI-0415' 'LIDC-IDRI-0416' 'LIDC-IDRI-0419'\n",
      " 'LIDC-IDRI-0420' 'LIDC-IDRI-0421' 'LIDC-IDRI-0423' 'LIDC-IDRI-0424'\n",
      " 'LIDC-IDRI-0426' 'LIDC-IDRI-0427' 'LIDC-IDRI-0429' 'LIDC-IDRI-0430'\n",
      " 'LIDC-IDRI-0431' 'LIDC-IDRI-0432' 'LIDC-IDRI-0433' 'LIDC-IDRI-0434'\n",
      " 'LIDC-IDRI-0435' 'LIDC-IDRI-0436' 'LIDC-IDRI-0437' 'LIDC-IDRI-0438'\n",
      " 'LIDC-IDRI-0439' 'LIDC-IDRI-0440' 'LIDC-IDRI-0442' 'LIDC-IDRI-0443'\n",
      " 'LIDC-IDRI-0444' 'LIDC-IDRI-0445' 'LIDC-IDRI-0447' 'LIDC-IDRI-0448'\n",
      " 'LIDC-IDRI-0449' 'LIDC-IDRI-0450' 'LIDC-IDRI-0451' 'LIDC-IDRI-0452'\n",
      " 'LIDC-IDRI-0453' 'LIDC-IDRI-0454' 'LIDC-IDRI-0456' 'LIDC-IDRI-0457'\n",
      " 'LIDC-IDRI-0458' 'LIDC-IDRI-0459' 'LIDC-IDRI-0460' 'LIDC-IDRI-0461'\n",
      " 'LIDC-IDRI-0462' 'LIDC-IDRI-0463' 'LIDC-IDRI-0464' 'LIDC-IDRI-0466'\n",
      " 'LIDC-IDRI-0467' 'LIDC-IDRI-0468' 'LIDC-IDRI-0469' 'LIDC-IDRI-0470'\n",
      " 'LIDC-IDRI-0471' 'LIDC-IDRI-0473' 'LIDC-IDRI-0474' 'LIDC-IDRI-0475'\n",
      " 'LIDC-IDRI-0476' 'LIDC-IDRI-0477' 'LIDC-IDRI-0478' 'LIDC-IDRI-0479'\n",
      " 'LIDC-IDRI-0480' 'LIDC-IDRI-0481' 'LIDC-IDRI-0483' 'LIDC-IDRI-0484'\n",
      " 'LIDC-IDRI-0485' 'LIDC-IDRI-0486' 'LIDC-IDRI-0487' 'LIDC-IDRI-0488'\n",
      " 'LIDC-IDRI-0489' 'LIDC-IDRI-0490' 'LIDC-IDRI-0491' 'LIDC-IDRI-0492'\n",
      " 'LIDC-IDRI-0493' 'LIDC-IDRI-0494' 'LIDC-IDRI-0495' 'LIDC-IDRI-0496'\n",
      " 'LIDC-IDRI-0497' 'LIDC-IDRI-0498' 'LIDC-IDRI-0499' 'LIDC-IDRI-0500'\n",
      " 'LIDC-IDRI-0501' 'LIDC-IDRI-0502' 'LIDC-IDRI-0503' 'LIDC-IDRI-0504'\n",
      " 'LIDC-IDRI-0505' 'LIDC-IDRI-0507' 'LIDC-IDRI-0508' 'LIDC-IDRI-0509'\n",
      " 'LIDC-IDRI-0510' 'LIDC-IDRI-0515' 'LIDC-IDRI-0516' 'LIDC-IDRI-0517'\n",
      " 'LIDC-IDRI-0518' 'LIDC-IDRI-0520' 'LIDC-IDRI-0521' 'LIDC-IDRI-0522'\n",
      " 'LIDC-IDRI-0523' 'LIDC-IDRI-0524' 'LIDC-IDRI-0525' 'LIDC-IDRI-0526'\n",
      " 'LIDC-IDRI-0527' 'LIDC-IDRI-0529' 'LIDC-IDRI-0530' 'LIDC-IDRI-0532'\n",
      " 'LIDC-IDRI-0533' 'LIDC-IDRI-0534' 'LIDC-IDRI-0535' 'LIDC-IDRI-0537'\n",
      " 'LIDC-IDRI-0538' 'LIDC-IDRI-0539' 'LIDC-IDRI-0541' 'LIDC-IDRI-0542'\n",
      " 'LIDC-IDRI-0543' 'LIDC-IDRI-0545' 'LIDC-IDRI-0546' 'LIDC-IDRI-0547'\n",
      " 'LIDC-IDRI-0549' 'LIDC-IDRI-0550' 'LIDC-IDRI-0551' 'LIDC-IDRI-0552'\n",
      " 'LIDC-IDRI-0553' 'LIDC-IDRI-0554' 'LIDC-IDRI-0555' 'LIDC-IDRI-0556'\n",
      " 'LIDC-IDRI-0557' 'LIDC-IDRI-0558' 'LIDC-IDRI-0559' 'LIDC-IDRI-0560'\n",
      " 'LIDC-IDRI-0562' 'LIDC-IDRI-0563' 'LIDC-IDRI-0565' 'LIDC-IDRI-0566'\n",
      " 'LIDC-IDRI-0567' 'LIDC-IDRI-0568' 'LIDC-IDRI-0569' 'LIDC-IDRI-0570'\n",
      " 'LIDC-IDRI-0571' 'LIDC-IDRI-0572' 'LIDC-IDRI-0574' 'LIDC-IDRI-0575'\n",
      " 'LIDC-IDRI-0576' 'LIDC-IDRI-0577' 'LIDC-IDRI-0578' 'LIDC-IDRI-0579'\n",
      " 'LIDC-IDRI-0580' 'LIDC-IDRI-0581' 'LIDC-IDRI-0582' 'LIDC-IDRI-0583'\n",
      " 'LIDC-IDRI-0584' 'LIDC-IDRI-0586' 'LIDC-IDRI-0587' 'LIDC-IDRI-0588'\n",
      " 'LIDC-IDRI-0590' 'LIDC-IDRI-0591' 'LIDC-IDRI-0592' 'LIDC-IDRI-0593'\n",
      " 'LIDC-IDRI-0594' 'LIDC-IDRI-0595' 'LIDC-IDRI-0596' 'LIDC-IDRI-0597'\n",
      " 'LIDC-IDRI-0598' 'LIDC-IDRI-0599' 'LIDC-IDRI-0601' 'LIDC-IDRI-0602'\n",
      " 'LIDC-IDRI-0604' 'LIDC-IDRI-0605' 'LIDC-IDRI-0606' 'LIDC-IDRI-0607'\n",
      " 'LIDC-IDRI-0608' 'LIDC-IDRI-0609' 'LIDC-IDRI-0610' 'LIDC-IDRI-0611'\n",
      " 'LIDC-IDRI-0613' 'LIDC-IDRI-0614' 'LIDC-IDRI-0615' 'LIDC-IDRI-0617'\n",
      " 'LIDC-IDRI-0618' 'LIDC-IDRI-0619' 'LIDC-IDRI-0620' 'LIDC-IDRI-0621'\n",
      " 'LIDC-IDRI-0624' 'LIDC-IDRI-0625' 'LIDC-IDRI-0626' 'LIDC-IDRI-0628'\n",
      " 'LIDC-IDRI-0629' 'LIDC-IDRI-0630' 'LIDC-IDRI-0631' 'LIDC-IDRI-0633'\n",
      " 'LIDC-IDRI-0634' 'LIDC-IDRI-0635' 'LIDC-IDRI-0636' 'LIDC-IDRI-0637'\n",
      " 'LIDC-IDRI-0638' 'LIDC-IDRI-0639' 'LIDC-IDRI-0640' 'LIDC-IDRI-0641'\n",
      " 'LIDC-IDRI-0642' 'LIDC-IDRI-0643' 'LIDC-IDRI-0644' 'LIDC-IDRI-0645'\n",
      " 'LIDC-IDRI-0647' 'LIDC-IDRI-0648' 'LIDC-IDRI-0649' 'LIDC-IDRI-0650'\n",
      " 'LIDC-IDRI-0651' 'LIDC-IDRI-0652' 'LIDC-IDRI-0654' 'LIDC-IDRI-0655'\n",
      " 'LIDC-IDRI-0656' 'LIDC-IDRI-0657' 'LIDC-IDRI-0658' 'LIDC-IDRI-0659'\n",
      " 'LIDC-IDRI-0660' 'LIDC-IDRI-0661' 'LIDC-IDRI-0662' 'LIDC-IDRI-0663'\n",
      " 'LIDC-IDRI-0664' 'LIDC-IDRI-0666' 'LIDC-IDRI-0669' 'LIDC-IDRI-0670'\n",
      " 'LIDC-IDRI-0671' 'LIDC-IDRI-0672' 'LIDC-IDRI-0673' 'LIDC-IDRI-0674'\n",
      " 'LIDC-IDRI-0675' 'LIDC-IDRI-0676' 'LIDC-IDRI-0677' 'LIDC-IDRI-0678'\n",
      " 'LIDC-IDRI-0680' 'LIDC-IDRI-0681' 'LIDC-IDRI-0682' 'LIDC-IDRI-0684'\n",
      " 'LIDC-IDRI-0686' 'LIDC-IDRI-0687' 'LIDC-IDRI-0688' 'LIDC-IDRI-0692'\n",
      " 'LIDC-IDRI-0693' 'LIDC-IDRI-0694' 'LIDC-IDRI-0695' 'LIDC-IDRI-0696'\n",
      " 'LIDC-IDRI-0697' 'LIDC-IDRI-0698' 'LIDC-IDRI-0699' 'LIDC-IDRI-0700'\n",
      " 'LIDC-IDRI-0701' 'LIDC-IDRI-0702' 'LIDC-IDRI-0703' 'LIDC-IDRI-0704'\n",
      " 'LIDC-IDRI-0705' 'LIDC-IDRI-0706' 'LIDC-IDRI-0707' 'LIDC-IDRI-0708'\n",
      " 'LIDC-IDRI-0709' 'LIDC-IDRI-0712' 'LIDC-IDRI-0713' 'LIDC-IDRI-0714'\n",
      " 'LIDC-IDRI-0715' 'LIDC-IDRI-0717' 'LIDC-IDRI-0719' 'LIDC-IDRI-0720'\n",
      " 'LIDC-IDRI-0721' 'LIDC-IDRI-0722' 'LIDC-IDRI-0723' 'LIDC-IDRI-0724'\n",
      " 'LIDC-IDRI-0725' 'LIDC-IDRI-0726' 'LIDC-IDRI-0727' 'LIDC-IDRI-0728'\n",
      " 'LIDC-IDRI-0729' 'LIDC-IDRI-0730' 'LIDC-IDRI-0732' 'LIDC-IDRI-0733'\n",
      " 'LIDC-IDRI-0734' 'LIDC-IDRI-0735' 'LIDC-IDRI-0736' 'LIDC-IDRI-0739'\n",
      " 'LIDC-IDRI-0740' 'LIDC-IDRI-0741' 'LIDC-IDRI-0742' 'LIDC-IDRI-0743'\n",
      " 'LIDC-IDRI-0744' 'LIDC-IDRI-0747' 'LIDC-IDRI-0748' 'LIDC-IDRI-0749'\n",
      " 'LIDC-IDRI-0750' 'LIDC-IDRI-0751' 'LIDC-IDRI-0752' 'LIDC-IDRI-0753'\n",
      " 'LIDC-IDRI-0754' 'LIDC-IDRI-0756' 'LIDC-IDRI-0757' 'LIDC-IDRI-0758'\n",
      " 'LIDC-IDRI-0759' 'LIDC-IDRI-0761' 'LIDC-IDRI-0762' 'LIDC-IDRI-0763'\n",
      " 'LIDC-IDRI-0765' 'LIDC-IDRI-0766' 'LIDC-IDRI-0767' 'LIDC-IDRI-0768'\n",
      " 'LIDC-IDRI-0769' 'LIDC-IDRI-0770' 'LIDC-IDRI-0771' 'LIDC-IDRI-0772'\n",
      " 'LIDC-IDRI-0773' 'LIDC-IDRI-0775' 'LIDC-IDRI-0776' 'LIDC-IDRI-0777'\n",
      " 'LIDC-IDRI-0778' 'LIDC-IDRI-0779' 'LIDC-IDRI-0780' 'LIDC-IDRI-0781'\n",
      " 'LIDC-IDRI-0782' 'LIDC-IDRI-0783' 'LIDC-IDRI-0785' 'LIDC-IDRI-0786'\n",
      " 'LIDC-IDRI-0787' 'LIDC-IDRI-0788' 'LIDC-IDRI-0789' 'LIDC-IDRI-0790'\n",
      " 'LIDC-IDRI-0791' 'LIDC-IDRI-0792' 'LIDC-IDRI-0793' 'LIDC-IDRI-0794'\n",
      " 'LIDC-IDRI-0795' 'LIDC-IDRI-0796' 'LIDC-IDRI-0797' 'LIDC-IDRI-0798'\n",
      " 'LIDC-IDRI-0799' 'LIDC-IDRI-0800' 'LIDC-IDRI-0801' 'LIDC-IDRI-0802'\n",
      " 'LIDC-IDRI-0803' 'LIDC-IDRI-0805' 'LIDC-IDRI-0806' 'LIDC-IDRI-0807'\n",
      " 'LIDC-IDRI-0809' 'LIDC-IDRI-0810' 'LIDC-IDRI-0811' 'LIDC-IDRI-0812'\n",
      " 'LIDC-IDRI-0813' 'LIDC-IDRI-0814' 'LIDC-IDRI-0815' 'LIDC-IDRI-0816'\n",
      " 'LIDC-IDRI-0817' 'LIDC-IDRI-0818' 'LIDC-IDRI-0819' 'LIDC-IDRI-0820'\n",
      " 'LIDC-IDRI-0821' 'LIDC-IDRI-0822' 'LIDC-IDRI-0823' 'LIDC-IDRI-0824'\n",
      " 'LIDC-IDRI-0825' 'LIDC-IDRI-0826' 'LIDC-IDRI-0827' 'LIDC-IDRI-0828'\n",
      " 'LIDC-IDRI-0829' 'LIDC-IDRI-0830' 'LIDC-IDRI-0831' 'LIDC-IDRI-0832'\n",
      " 'LIDC-IDRI-0833' 'LIDC-IDRI-0834' 'LIDC-IDRI-0835' 'LIDC-IDRI-0836'\n",
      " 'LIDC-IDRI-0837' 'LIDC-IDRI-0838' 'LIDC-IDRI-0840' 'LIDC-IDRI-0841'\n",
      " 'LIDC-IDRI-0842' 'LIDC-IDRI-0843' 'LIDC-IDRI-0844' 'LIDC-IDRI-0845'\n",
      " 'LIDC-IDRI-0846' 'LIDC-IDRI-0847' 'LIDC-IDRI-0848' 'LIDC-IDRI-0849'\n",
      " 'LIDC-IDRI-0850' 'LIDC-IDRI-0851' 'LIDC-IDRI-0852' 'LIDC-IDRI-0854'\n",
      " 'LIDC-IDRI-0855' 'LIDC-IDRI-0856' 'LIDC-IDRI-0857' 'LIDC-IDRI-0858'\n",
      " 'LIDC-IDRI-0859' 'LIDC-IDRI-0860' 'LIDC-IDRI-0861' 'LIDC-IDRI-0863'\n",
      " 'LIDC-IDRI-0864' 'LIDC-IDRI-0865' 'LIDC-IDRI-0866' 'LIDC-IDRI-0867'\n",
      " 'LIDC-IDRI-0868' 'LIDC-IDRI-0869' 'LIDC-IDRI-0870' 'LIDC-IDRI-0871'\n",
      " 'LIDC-IDRI-0872' 'LIDC-IDRI-0873' 'LIDC-IDRI-0874' 'LIDC-IDRI-0875'\n",
      " 'LIDC-IDRI-0879' 'LIDC-IDRI-0880' 'LIDC-IDRI-0882' 'LIDC-IDRI-0883'\n",
      " 'LIDC-IDRI-0884' 'LIDC-IDRI-0886' 'LIDC-IDRI-0888' 'LIDC-IDRI-0890'\n",
      " 'LIDC-IDRI-0892' 'LIDC-IDRI-0893' 'LIDC-IDRI-0894' 'LIDC-IDRI-0895'\n",
      " 'LIDC-IDRI-0896' 'LIDC-IDRI-0898' 'LIDC-IDRI-0899' 'LIDC-IDRI-0902'\n",
      " 'LIDC-IDRI-0904' 'LIDC-IDRI-0905' 'LIDC-IDRI-0906' 'LIDC-IDRI-0907'\n",
      " 'LIDC-IDRI-0908' 'LIDC-IDRI-0909' 'LIDC-IDRI-0910' 'LIDC-IDRI-0911'\n",
      " 'LIDC-IDRI-0912' 'LIDC-IDRI-0913' 'LIDC-IDRI-0914' 'LIDC-IDRI-0915'\n",
      " 'LIDC-IDRI-0916' 'LIDC-IDRI-0917' 'LIDC-IDRI-0919' 'LIDC-IDRI-0920'\n",
      " 'LIDC-IDRI-0921' 'LIDC-IDRI-0922' 'LIDC-IDRI-0923' 'LIDC-IDRI-0924'\n",
      " 'LIDC-IDRI-0925' 'LIDC-IDRI-0926' 'LIDC-IDRI-0928' 'LIDC-IDRI-0929'\n",
      " 'LIDC-IDRI-0932' 'LIDC-IDRI-0933' 'LIDC-IDRI-0935' 'LIDC-IDRI-0936'\n",
      " 'LIDC-IDRI-0938' 'LIDC-IDRI-0939' 'LIDC-IDRI-0940' 'LIDC-IDRI-0941'\n",
      " 'LIDC-IDRI-0942' 'LIDC-IDRI-0943' 'LIDC-IDRI-0944' 'LIDC-IDRI-0945'\n",
      " 'LIDC-IDRI-0946' 'LIDC-IDRI-0947' 'LIDC-IDRI-0949' 'LIDC-IDRI-0950'\n",
      " 'LIDC-IDRI-0951' 'LIDC-IDRI-0953' 'LIDC-IDRI-0955' 'LIDC-IDRI-0956'\n",
      " 'LIDC-IDRI-0957' 'LIDC-IDRI-0958' 'LIDC-IDRI-0959' 'LIDC-IDRI-0961'\n",
      " 'LIDC-IDRI-0962' 'LIDC-IDRI-0963' 'LIDC-IDRI-0965' 'LIDC-IDRI-0966'\n",
      " 'LIDC-IDRI-0968' 'LIDC-IDRI-0969' 'LIDC-IDRI-0971' 'LIDC-IDRI-0972'\n",
      " 'LIDC-IDRI-0973' 'LIDC-IDRI-0974' 'LIDC-IDRI-0976' 'LIDC-IDRI-0977'\n",
      " 'LIDC-IDRI-0978' 'LIDC-IDRI-0980' 'LIDC-IDRI-0981' 'LIDC-IDRI-0982'\n",
      " 'LIDC-IDRI-0983' 'LIDC-IDRI-0984' 'LIDC-IDRI-0985' 'LIDC-IDRI-0986'\n",
      " 'LIDC-IDRI-0987' 'LIDC-IDRI-0989' 'LIDC-IDRI-0990' 'LIDC-IDRI-0991'\n",
      " 'LIDC-IDRI-0993' 'LIDC-IDRI-0994' 'LIDC-IDRI-0996' 'LIDC-IDRI-0997'\n",
      " 'LIDC-IDRI-0998' 'LIDC-IDRI-0999' 'LIDC-IDRI-1000' 'LIDC-IDRI-1001'\n",
      " 'LIDC-IDRI-1002' 'LIDC-IDRI-1003' 'LIDC-IDRI-1004' 'LIDC-IDRI-1005'\n",
      " 'LIDC-IDRI-1006' 'LIDC-IDRI-1007' 'LIDC-IDRI-1008' 'LIDC-IDRI-1009'\n",
      " 'LIDC-IDRI-1010' 'LIDC-IDRI-1011' 'LIDC-IDRI-1012']\n",
      "1192\n",
      "200\n"
     ]
    }
   ],
   "source": [
    "from src.loaders.dataloaderv2 import LIDCDataset\n",
    "import torchvision.transforms as transforms\n",
    "from PIL import Image\n",
    "import torch\n",
    "\n",
    "labels_file = './dataset/Meta/meta_info_old.csv'\n",
    "IMG_CHANNELS = 3\n",
    "IMG_SIZE = 100\n",
    "CHOSEN_CHARS = [False, True, False, True, True, False, False, True, True]\n",
    "\n",
    "# labels_file = './dataset/Meta/meta_info_old.csv'\n",
    "mean = (0.5, 0.5, 0.5)\n",
    "std = (0.5, 0.5, 0.5)\n",
    "\n",
    "# train set\n",
    "LIDC_trainset = LIDCDataset(labels_file=labels_file, chosen_chars=CHOSEN_CHARS, auto_split=True, zero_indexed=False, \n",
    "                                                        transform=transforms.Compose([transforms.Grayscale(num_output_channels=IMG_CHANNELS), \n",
    "                                                                    transforms.Resize(size=(IMG_SIZE, IMG_SIZE), interpolation=Image.BILINEAR), \n",
    "                                                                    transforms.ToTensor(), \n",
    "                                                                    # transforms.Lambda(lambda x: x.repeat(3, 1, 1)),\n",
    "                                                                    transforms.Normalize(mean, std)\n",
    "                                                                    ]),\n",
    "                                                        train=True)\n",
    "train_dataloader = torch.utils.data.DataLoader(LIDC_trainset, batch_size=10, shuffle=True, num_workers=4)\n",
    "\n",
    "LIDC_testset = LIDCDataset(labels_file=labels_file, chosen_chars=CHOSEN_CHARS, auto_split=True, zero_indexed=False, \n",
    "                                                        transform=transforms.Compose([transforms.Grayscale(num_output_channels=IMG_CHANNELS), \n",
    "                                                                    transforms.Resize(size=(IMG_SIZE, IMG_SIZE), interpolation=Image.BILINEAR), \n",
    "                                                                    transforms.ToTensor(), \n",
    "                                                                    # transforms.Lambda(lambda x: x.repeat(3, 1, 1)),\n",
    "                                                                    transforms.Normalize(mean, std)\n",
    "                                                                    ]), \n",
    "                                                        train=False)\n",
    "test_dataloader = torch.utils.data.DataLoader(LIDC_testset, batch_size=10, shuffle=True, num_workers=4)\n",
    "\n",
    "print(len(train_dataloader))\n",
    "print(len(test_dataloader))"
   ]
  }
 ],
 "metadata": {
  "kernelspec": {
   "display_name": "torch",
   "language": "python",
   "name": "python3"
  },
  "language_info": {
   "codemirror_mode": {
    "name": "ipython",
    "version": 3
   },
   "file_extension": ".py",
   "mimetype": "text/x-python",
   "name": "python",
   "nbconvert_exporter": "python",
   "pygments_lexer": "ipython3",
   "version": "3.8.19"
  }
 },
 "nbformat": 4,
 "nbformat_minor": 2
}
